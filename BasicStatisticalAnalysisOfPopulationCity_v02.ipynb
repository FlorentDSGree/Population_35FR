{
 "cells": [
  {
   "cell_type": "markdown",
   "metadata": {
    "collapsed": true
   },
   "source": [
    "Created 15/10/2018\n",
    "\n",
    "Last update 17/01/2019"
   ]
  },
  {
   "cell_type": "markdown",
   "metadata": {},
   "source": [
    "# 1. Import library"
   ]
  },
  {
   "cell_type": "code",
   "execution_count": 1,
   "metadata": {},
   "outputs": [
    {
     "data": {
      "text/html": [
       "\n",
       "    <div class=\"bk-root\">\n",
       "        <a href=\"https://bokeh.pydata.org\" target=\"_blank\" class=\"bk-logo bk-logo-small bk-logo-notebook\"></a>\n",
       "        <span id=\"ce9f17cc-ac26-4acd-8664-d7422e438e93\">Loading BokehJS ...</span>\n",
       "    </div>"
      ]
     },
     "metadata": {},
     "output_type": "display_data"
    },
    {
     "data": {
      "application/javascript": [
       "\n",
       "(function(root) {\n",
       "  function now() {\n",
       "    return new Date();\n",
       "  }\n",
       "\n",
       "  var force = true;\n",
       "\n",
       "  if (typeof (root._bokeh_onload_callbacks) === \"undefined\" || force === true) {\n",
       "    root._bokeh_onload_callbacks = [];\n",
       "    root._bokeh_is_loading = undefined;\n",
       "  }\n",
       "\n",
       "  var JS_MIME_TYPE = 'application/javascript';\n",
       "  var HTML_MIME_TYPE = 'text/html';\n",
       "  var EXEC_MIME_TYPE = 'application/vnd.bokehjs_exec.v0+json';\n",
       "  var CLASS_NAME = 'output_bokeh rendered_html';\n",
       "\n",
       "  /**\n",
       "   * Render data to the DOM node\n",
       "   */\n",
       "  function render(props, node) {\n",
       "    var script = document.createElement(\"script\");\n",
       "    node.appendChild(script);\n",
       "  }\n",
       "\n",
       "  /**\n",
       "   * Handle when an output is cleared or removed\n",
       "   */\n",
       "  function handleClearOutput(event, handle) {\n",
       "    var cell = handle.cell;\n",
       "\n",
       "    var id = cell.output_area._bokeh_element_id;\n",
       "    var server_id = cell.output_area._bokeh_server_id;\n",
       "    // Clean up Bokeh references\n",
       "    if (id != null && id in Bokeh.index) {\n",
       "      Bokeh.index[id].model.document.clear();\n",
       "      delete Bokeh.index[id];\n",
       "    }\n",
       "\n",
       "    if (server_id !== undefined) {\n",
       "      // Clean up Bokeh references\n",
       "      var cmd = \"from bokeh.io.state import curstate; print(curstate().uuid_to_server['\" + server_id + \"'].get_sessions()[0].document.roots[0]._id)\";\n",
       "      cell.notebook.kernel.execute(cmd, {\n",
       "        iopub: {\n",
       "          output: function(msg) {\n",
       "            var id = msg.content.text.trim();\n",
       "            if (id in Bokeh.index) {\n",
       "              Bokeh.index[id].model.document.clear();\n",
       "              delete Bokeh.index[id];\n",
       "            }\n",
       "          }\n",
       "        }\n",
       "      });\n",
       "      // Destroy server and session\n",
       "      var cmd = \"import bokeh.io.notebook as ion; ion.destroy_server('\" + server_id + \"')\";\n",
       "      cell.notebook.kernel.execute(cmd);\n",
       "    }\n",
       "  }\n",
       "\n",
       "  /**\n",
       "   * Handle when a new output is added\n",
       "   */\n",
       "  function handleAddOutput(event, handle) {\n",
       "    var output_area = handle.output_area;\n",
       "    var output = handle.output;\n",
       "\n",
       "    // limit handleAddOutput to display_data with EXEC_MIME_TYPE content only\n",
       "    if ((output.output_type != \"display_data\") || (!output.data.hasOwnProperty(EXEC_MIME_TYPE))) {\n",
       "      return\n",
       "    }\n",
       "\n",
       "    var toinsert = output_area.element.find(\".\" + CLASS_NAME.split(' ')[0]);\n",
       "\n",
       "    if (output.metadata[EXEC_MIME_TYPE][\"id\"] !== undefined) {\n",
       "      toinsert[toinsert.length - 1].firstChild.textContent = output.data[JS_MIME_TYPE];\n",
       "      // store reference to embed id on output_area\n",
       "      output_area._bokeh_element_id = output.metadata[EXEC_MIME_TYPE][\"id\"];\n",
       "    }\n",
       "    if (output.metadata[EXEC_MIME_TYPE][\"server_id\"] !== undefined) {\n",
       "      var bk_div = document.createElement(\"div\");\n",
       "      bk_div.innerHTML = output.data[HTML_MIME_TYPE];\n",
       "      var script_attrs = bk_div.children[0].attributes;\n",
       "      for (var i = 0; i < script_attrs.length; i++) {\n",
       "        toinsert[toinsert.length - 1].firstChild.setAttribute(script_attrs[i].name, script_attrs[i].value);\n",
       "      }\n",
       "      // store reference to server id on output_area\n",
       "      output_area._bokeh_server_id = output.metadata[EXEC_MIME_TYPE][\"server_id\"];\n",
       "    }\n",
       "  }\n",
       "\n",
       "  function register_renderer(events, OutputArea) {\n",
       "\n",
       "    function append_mime(data, metadata, element) {\n",
       "      // create a DOM node to render to\n",
       "      var toinsert = this.create_output_subarea(\n",
       "        metadata,\n",
       "        CLASS_NAME,\n",
       "        EXEC_MIME_TYPE\n",
       "      );\n",
       "      this.keyboard_manager.register_events(toinsert);\n",
       "      // Render to node\n",
       "      var props = {data: data, metadata: metadata[EXEC_MIME_TYPE]};\n",
       "      render(props, toinsert[toinsert.length - 1]);\n",
       "      element.append(toinsert);\n",
       "      return toinsert\n",
       "    }\n",
       "\n",
       "    /* Handle when an output is cleared or removed */\n",
       "    events.on('clear_output.CodeCell', handleClearOutput);\n",
       "    events.on('delete.Cell', handleClearOutput);\n",
       "\n",
       "    /* Handle when a new output is added */\n",
       "    events.on('output_added.OutputArea', handleAddOutput);\n",
       "\n",
       "    /**\n",
       "     * Register the mime type and append_mime function with output_area\n",
       "     */\n",
       "    OutputArea.prototype.register_mime_type(EXEC_MIME_TYPE, append_mime, {\n",
       "      /* Is output safe? */\n",
       "      safe: true,\n",
       "      /* Index of renderer in `output_area.display_order` */\n",
       "      index: 0\n",
       "    });\n",
       "  }\n",
       "\n",
       "  // register the mime type if in Jupyter Notebook environment and previously unregistered\n",
       "  if (root.Jupyter !== undefined) {\n",
       "    var events = require('base/js/events');\n",
       "    var OutputArea = require('notebook/js/outputarea').OutputArea;\n",
       "\n",
       "    if (OutputArea.prototype.mime_types().indexOf(EXEC_MIME_TYPE) == -1) {\n",
       "      register_renderer(events, OutputArea);\n",
       "    }\n",
       "  }\n",
       "\n",
       "  \n",
       "  if (typeof (root._bokeh_timeout) === \"undefined\" || force === true) {\n",
       "    root._bokeh_timeout = Date.now() + 5000;\n",
       "    root._bokeh_failed_load = false;\n",
       "  }\n",
       "\n",
       "  var NB_LOAD_WARNING = {'data': {'text/html':\n",
       "     \"<div style='background-color: #fdd'>\\n\"+\n",
       "     \"<p>\\n\"+\n",
       "     \"BokehJS does not appear to have successfully loaded. If loading BokehJS from CDN, this \\n\"+\n",
       "     \"may be due to a slow or bad network connection. Possible fixes:\\n\"+\n",
       "     \"</p>\\n\"+\n",
       "     \"<ul>\\n\"+\n",
       "     \"<li>re-rerun `output_notebook()` to attempt to load from CDN again, or</li>\\n\"+\n",
       "     \"<li>use INLINE resources instead, as so:</li>\\n\"+\n",
       "     \"</ul>\\n\"+\n",
       "     \"<code>\\n\"+\n",
       "     \"from bokeh.resources import INLINE\\n\"+\n",
       "     \"output_notebook(resources=INLINE)\\n\"+\n",
       "     \"</code>\\n\"+\n",
       "     \"</div>\"}};\n",
       "\n",
       "  function display_loaded() {\n",
       "    var el = document.getElementById(\"ce9f17cc-ac26-4acd-8664-d7422e438e93\");\n",
       "    if (el != null) {\n",
       "      el.textContent = \"BokehJS is loading...\";\n",
       "    }\n",
       "    if (root.Bokeh !== undefined) {\n",
       "      if (el != null) {\n",
       "        el.textContent = \"BokehJS \" + root.Bokeh.version + \" successfully loaded.\";\n",
       "      }\n",
       "    } else if (Date.now() < root._bokeh_timeout) {\n",
       "      setTimeout(display_loaded, 100)\n",
       "    }\n",
       "  }\n",
       "\n",
       "\n",
       "  function run_callbacks() {\n",
       "    try {\n",
       "      root._bokeh_onload_callbacks.forEach(function(callback) { callback() });\n",
       "    }\n",
       "    finally {\n",
       "      delete root._bokeh_onload_callbacks\n",
       "    }\n",
       "    console.info(\"Bokeh: all callbacks have finished\");\n",
       "  }\n",
       "\n",
       "  function load_libs(js_urls, callback) {\n",
       "    root._bokeh_onload_callbacks.push(callback);\n",
       "    if (root._bokeh_is_loading > 0) {\n",
       "      console.log(\"Bokeh: BokehJS is being loaded, scheduling callback at\", now());\n",
       "      return null;\n",
       "    }\n",
       "    if (js_urls == null || js_urls.length === 0) {\n",
       "      run_callbacks();\n",
       "      return null;\n",
       "    }\n",
       "    console.log(\"Bokeh: BokehJS not loaded, scheduling load and callback at\", now());\n",
       "    root._bokeh_is_loading = js_urls.length;\n",
       "    for (var i = 0; i < js_urls.length; i++) {\n",
       "      var url = js_urls[i];\n",
       "      var s = document.createElement('script');\n",
       "      s.src = url;\n",
       "      s.async = false;\n",
       "      s.onreadystatechange = s.onload = function() {\n",
       "        root._bokeh_is_loading--;\n",
       "        if (root._bokeh_is_loading === 0) {\n",
       "          console.log(\"Bokeh: all BokehJS libraries loaded\");\n",
       "          run_callbacks()\n",
       "        }\n",
       "      };\n",
       "      s.onerror = function() {\n",
       "        console.warn(\"failed to load library \" + url);\n",
       "      };\n",
       "      console.log(\"Bokeh: injecting script tag for BokehJS library: \", url);\n",
       "      document.getElementsByTagName(\"head\")[0].appendChild(s);\n",
       "    }\n",
       "  };var element = document.getElementById(\"ce9f17cc-ac26-4acd-8664-d7422e438e93\");\n",
       "  if (element == null) {\n",
       "    console.log(\"Bokeh: ERROR: autoload.js configured with elementid 'ce9f17cc-ac26-4acd-8664-d7422e438e93' but no matching script tag was found. \")\n",
       "    return false;\n",
       "  }\n",
       "\n",
       "  var js_urls = [\"https://cdn.pydata.org/bokeh/release/bokeh-0.13.0.min.js\", \"https://cdn.pydata.org/bokeh/release/bokeh-widgets-0.13.0.min.js\", \"https://cdn.pydata.org/bokeh/release/bokeh-tables-0.13.0.min.js\", \"https://cdn.pydata.org/bokeh/release/bokeh-gl-0.13.0.min.js\"];\n",
       "\n",
       "  var inline_js = [\n",
       "    function(Bokeh) {\n",
       "      Bokeh.set_log_level(\"info\");\n",
       "    },\n",
       "    \n",
       "    function(Bokeh) {\n",
       "      \n",
       "    },\n",
       "    function(Bokeh) {\n",
       "      console.log(\"Bokeh: injecting CSS: https://cdn.pydata.org/bokeh/release/bokeh-0.13.0.min.css\");\n",
       "      Bokeh.embed.inject_css(\"https://cdn.pydata.org/bokeh/release/bokeh-0.13.0.min.css\");\n",
       "      console.log(\"Bokeh: injecting CSS: https://cdn.pydata.org/bokeh/release/bokeh-widgets-0.13.0.min.css\");\n",
       "      Bokeh.embed.inject_css(\"https://cdn.pydata.org/bokeh/release/bokeh-widgets-0.13.0.min.css\");\n",
       "      console.log(\"Bokeh: injecting CSS: https://cdn.pydata.org/bokeh/release/bokeh-tables-0.13.0.min.css\");\n",
       "      Bokeh.embed.inject_css(\"https://cdn.pydata.org/bokeh/release/bokeh-tables-0.13.0.min.css\");\n",
       "    }\n",
       "  ];\n",
       "\n",
       "  function run_inline_js() {\n",
       "    \n",
       "    if ((root.Bokeh !== undefined) || (force === true)) {\n",
       "      for (var i = 0; i < inline_js.length; i++) {\n",
       "        inline_js[i].call(root, root.Bokeh);\n",
       "      }if (force === true) {\n",
       "        display_loaded();\n",
       "      }} else if (Date.now() < root._bokeh_timeout) {\n",
       "      setTimeout(run_inline_js, 100);\n",
       "    } else if (!root._bokeh_failed_load) {\n",
       "      console.log(\"Bokeh: BokehJS failed to load within specified timeout.\");\n",
       "      root._bokeh_failed_load = true;\n",
       "    } else if (force !== true) {\n",
       "      var cell = $(document.getElementById(\"ce9f17cc-ac26-4acd-8664-d7422e438e93\")).parents('.cell').data().cell;\n",
       "      cell.output_area.append_execute_result(NB_LOAD_WARNING)\n",
       "    }\n",
       "\n",
       "  }\n",
       "\n",
       "  if (root._bokeh_is_loading === 0) {\n",
       "    console.log(\"Bokeh: BokehJS loaded, going straight to plotting\");\n",
       "    run_inline_js();\n",
       "  } else {\n",
       "    load_libs(js_urls, function() {\n",
       "      console.log(\"Bokeh: BokehJS plotting callback run at\", now());\n",
       "      run_inline_js();\n",
       "    });\n",
       "  }\n",
       "}(window));"
      ],
      "application/vnd.bokehjs_load.v0+json": "\n(function(root) {\n  function now() {\n    return new Date();\n  }\n\n  var force = true;\n\n  if (typeof (root._bokeh_onload_callbacks) === \"undefined\" || force === true) {\n    root._bokeh_onload_callbacks = [];\n    root._bokeh_is_loading = undefined;\n  }\n\n  \n\n  \n  if (typeof (root._bokeh_timeout) === \"undefined\" || force === true) {\n    root._bokeh_timeout = Date.now() + 5000;\n    root._bokeh_failed_load = false;\n  }\n\n  var NB_LOAD_WARNING = {'data': {'text/html':\n     \"<div style='background-color: #fdd'>\\n\"+\n     \"<p>\\n\"+\n     \"BokehJS does not appear to have successfully loaded. If loading BokehJS from CDN, this \\n\"+\n     \"may be due to a slow or bad network connection. Possible fixes:\\n\"+\n     \"</p>\\n\"+\n     \"<ul>\\n\"+\n     \"<li>re-rerun `output_notebook()` to attempt to load from CDN again, or</li>\\n\"+\n     \"<li>use INLINE resources instead, as so:</li>\\n\"+\n     \"</ul>\\n\"+\n     \"<code>\\n\"+\n     \"from bokeh.resources import INLINE\\n\"+\n     \"output_notebook(resources=INLINE)\\n\"+\n     \"</code>\\n\"+\n     \"</div>\"}};\n\n  function display_loaded() {\n    var el = document.getElementById(\"ce9f17cc-ac26-4acd-8664-d7422e438e93\");\n    if (el != null) {\n      el.textContent = \"BokehJS is loading...\";\n    }\n    if (root.Bokeh !== undefined) {\n      if (el != null) {\n        el.textContent = \"BokehJS \" + root.Bokeh.version + \" successfully loaded.\";\n      }\n    } else if (Date.now() < root._bokeh_timeout) {\n      setTimeout(display_loaded, 100)\n    }\n  }\n\n\n  function run_callbacks() {\n    try {\n      root._bokeh_onload_callbacks.forEach(function(callback) { callback() });\n    }\n    finally {\n      delete root._bokeh_onload_callbacks\n    }\n    console.info(\"Bokeh: all callbacks have finished\");\n  }\n\n  function load_libs(js_urls, callback) {\n    root._bokeh_onload_callbacks.push(callback);\n    if (root._bokeh_is_loading > 0) {\n      console.log(\"Bokeh: BokehJS is being loaded, scheduling callback at\", now());\n      return null;\n    }\n    if (js_urls == null || js_urls.length === 0) {\n      run_callbacks();\n      return null;\n    }\n    console.log(\"Bokeh: BokehJS not loaded, scheduling load and callback at\", now());\n    root._bokeh_is_loading = js_urls.length;\n    for (var i = 0; i < js_urls.length; i++) {\n      var url = js_urls[i];\n      var s = document.createElement('script');\n      s.src = url;\n      s.async = false;\n      s.onreadystatechange = s.onload = function() {\n        root._bokeh_is_loading--;\n        if (root._bokeh_is_loading === 0) {\n          console.log(\"Bokeh: all BokehJS libraries loaded\");\n          run_callbacks()\n        }\n      };\n      s.onerror = function() {\n        console.warn(\"failed to load library \" + url);\n      };\n      console.log(\"Bokeh: injecting script tag for BokehJS library: \", url);\n      document.getElementsByTagName(\"head\")[0].appendChild(s);\n    }\n  };var element = document.getElementById(\"ce9f17cc-ac26-4acd-8664-d7422e438e93\");\n  if (element == null) {\n    console.log(\"Bokeh: ERROR: autoload.js configured with elementid 'ce9f17cc-ac26-4acd-8664-d7422e438e93' but no matching script tag was found. \")\n    return false;\n  }\n\n  var js_urls = [\"https://cdn.pydata.org/bokeh/release/bokeh-0.13.0.min.js\", \"https://cdn.pydata.org/bokeh/release/bokeh-widgets-0.13.0.min.js\", \"https://cdn.pydata.org/bokeh/release/bokeh-tables-0.13.0.min.js\", \"https://cdn.pydata.org/bokeh/release/bokeh-gl-0.13.0.min.js\"];\n\n  var inline_js = [\n    function(Bokeh) {\n      Bokeh.set_log_level(\"info\");\n    },\n    \n    function(Bokeh) {\n      \n    },\n    function(Bokeh) {\n      console.log(\"Bokeh: injecting CSS: https://cdn.pydata.org/bokeh/release/bokeh-0.13.0.min.css\");\n      Bokeh.embed.inject_css(\"https://cdn.pydata.org/bokeh/release/bokeh-0.13.0.min.css\");\n      console.log(\"Bokeh: injecting CSS: https://cdn.pydata.org/bokeh/release/bokeh-widgets-0.13.0.min.css\");\n      Bokeh.embed.inject_css(\"https://cdn.pydata.org/bokeh/release/bokeh-widgets-0.13.0.min.css\");\n      console.log(\"Bokeh: injecting CSS: https://cdn.pydata.org/bokeh/release/bokeh-tables-0.13.0.min.css\");\n      Bokeh.embed.inject_css(\"https://cdn.pydata.org/bokeh/release/bokeh-tables-0.13.0.min.css\");\n    }\n  ];\n\n  function run_inline_js() {\n    \n    if ((root.Bokeh !== undefined) || (force === true)) {\n      for (var i = 0; i < inline_js.length; i++) {\n        inline_js[i].call(root, root.Bokeh);\n      }if (force === true) {\n        display_loaded();\n      }} else if (Date.now() < root._bokeh_timeout) {\n      setTimeout(run_inline_js, 100);\n    } else if (!root._bokeh_failed_load) {\n      console.log(\"Bokeh: BokehJS failed to load within specified timeout.\");\n      root._bokeh_failed_load = true;\n    } else if (force !== true) {\n      var cell = $(document.getElementById(\"ce9f17cc-ac26-4acd-8664-d7422e438e93\")).parents('.cell').data().cell;\n      cell.output_area.append_execute_result(NB_LOAD_WARNING)\n    }\n\n  }\n\n  if (root._bokeh_is_loading === 0) {\n    console.log(\"Bokeh: BokehJS loaded, going straight to plotting\");\n    run_inline_js();\n  } else {\n    load_libs(js_urls, function() {\n      console.log(\"Bokeh: BokehJS plotting callback run at\", now());\n      run_inline_js();\n    });\n  }\n}(window));"
     },
     "metadata": {},
     "output_type": "display_data"
    }
   ],
   "source": [
    "import pymongo\n",
    "from __future__ import division\n",
    "import numpy as np\n",
    "import pandas as pd\n",
    "# from scipy import stats\n",
    "from bokeh.models import HoverTool, NumeralTickFormatter, ColumnDataSource\n",
    "from bokeh.plotting import figure\n",
    "from bokeh.io import show, output_notebook\n",
    "from bokeh.layouts import row\n",
    "output_notebook() # To display plot into Jupyter notebook\n",
    "import Fcn_BasicStatisticalAnalysisOfPopulation"
   ]
  },
  {
   "cell_type": "markdown",
   "metadata": {},
   "source": [
    "# 2. Data loading"
   ]
  },
  {
   "cell_type": "code",
   "execution_count": 2,
   "metadata": {
    "collapsed": true
   },
   "outputs": [],
   "source": [
    "# User inputs\n",
    "DatabaseName = 'GeoApiGouv'\n",
    "CollectionName = 'PopulationCity'\n",
    "\n",
    "# Connection to MongoDB\n",
    "myclient = pymongo.MongoClient(\"mongodb://localhost:27017/\")\n",
    "mydb = myclient[DatabaseName]\n",
    "\n",
    "#Query all documents from MongoD\n",
    "QueryMongo = list(mydb[CollectionName].find({}))"
   ]
  },
  {
   "cell_type": "markdown",
   "metadata": {},
   "source": [
    "# 3. Statistical analysis"
   ]
  },
  {
   "cell_type": "markdown",
   "metadata": {},
   "source": [
    "## 3.1. Arrange data loaded"
   ]
  },
  {
   "cell_type": "code",
   "execution_count": 3,
   "metadata": {
    "collapsed": true
   },
   "outputs": [],
   "source": [
    "NumberOfCity      = len(QueryMongo)\n",
    "AllCityNames      = [QueryMongo[x]['nom'] for x in range(0,NumberOfCity)]\n",
    "AllPopulationList = [QueryMongo[x]['population'] for x in range(0,NumberOfCity)]\n",
    "AllAreaList       = [QueryMongo[x]['surface'] for x in range(0,NumberOfCity)]\n",
    "AllDensityList    = np.array(AllPopulationList)/np.array(AllAreaList)*100"
   ]
  },
  {
   "cell_type": "code",
   "execution_count": 45,
   "metadata": {},
   "outputs": [
    {
     "data": {
      "text/html": [
       "<div>\n",
       "<style>\n",
       "    .dataframe thead tr:only-child th {\n",
       "        text-align: right;\n",
       "    }\n",
       "\n",
       "    .dataframe thead th {\n",
       "        text-align: left;\n",
       "    }\n",
       "\n",
       "    .dataframe tbody tr th {\n",
       "        vertical-align: top;\n",
       "    }\n",
       "</style>\n",
       "<table border=\"1\" class=\"dataframe\">\n",
       "  <thead>\n",
       "    <tr style=\"text-align: right;\">\n",
       "      <th></th>\n",
       "      <th>Area</th>\n",
       "      <th>City name</th>\n",
       "      <th>Density</th>\n",
       "      <th>Population</th>\n",
       "    </tr>\n",
       "  </thead>\n",
       "  <tbody>\n",
       "    <tr>\n",
       "      <th>227</th>\n",
       "      <td>5038</td>\n",
       "      <td>Rennes</td>\n",
       "      <td>4195.573640</td>\n",
       "      <td>211373</td>\n",
       "    </tr>\n",
       "    <tr>\n",
       "      <th>111</th>\n",
       "      <td>1043</td>\n",
       "      <td>Fougères</td>\n",
       "      <td>1933.844679</td>\n",
       "      <td>20170</td>\n",
       "    </tr>\n",
       "    <tr>\n",
       "      <th>21</th>\n",
       "      <td>56</td>\n",
       "      <td>Bécherel</td>\n",
       "      <td>1289.285714</td>\n",
       "      <td>722</td>\n",
       "    </tr>\n",
       "    <tr>\n",
       "      <th>90</th>\n",
       "      <td>782</td>\n",
       "      <td>Dinard</td>\n",
       "      <td>1258.184143</td>\n",
       "      <td>9839</td>\n",
       "    </tr>\n",
       "    <tr>\n",
       "      <th>202</th>\n",
       "      <td>3826</td>\n",
       "      <td>Saint-Malo</td>\n",
       "      <td>1174.046001</td>\n",
       "      <td>44919</td>\n",
       "    </tr>\n",
       "  </tbody>\n",
       "</table>\n",
       "</div>"
      ],
      "text/plain": [
       "     Area   City name      Density  Population\n",
       "227  5038      Rennes  4195.573640      211373\n",
       "111  1043    Fougères  1933.844679       20170\n",
       "21     56    Bécherel  1289.285714         722\n",
       "90    782      Dinard  1258.184143        9839\n",
       "202  3826  Saint-Malo  1174.046001       44919"
      ]
     },
     "execution_count": 45,
     "metadata": {},
     "output_type": "execute_result"
    }
   ],
   "source": [
    "df = pd.DataFrame({\"City name\":AllCityNames,\"Population\":AllPopulationList,\"Area\":AllAreaList,\"Density\":AllDensityList})\n",
    "df.sort_values(by=['Density'], ascending = False).head()"
   ]
  },
  {
   "cell_type": "markdown",
   "metadata": {},
   "source": [
    "## 3.2. Population basic analysis"
   ]
  },
  {
   "cell_type": "code",
   "execution_count": 4,
   "metadata": {},
   "outputs": [
    {
     "name": "stdout",
     "output_type": "stream",
     "text": [
      "Nombre de ville: 345\n",
      "Population totale: 1 019 923\n",
      "Population moyenne par ville: 2 956\n",
      "Population mediane par ville: 1 314\n",
      "Population la plus faible: 107 (Bléruais)\n",
      "Population la plus élevée: 211 373 (Rennes)\n"
     ]
    }
   ],
   "source": [
    "TotalPopulation   = sum(AllPopulationList)\n",
    "AveragePopulation = int(np.mean(AllPopulationList)) # Population moyenne \n",
    "MedianPopulation  = int(np.median(AllPopulationList)) # Population mediane\n",
    "MinPopulation     = np.min(AllPopulationList) # Population la plus faible\n",
    "MaxPopulation     = np.max(AllPopulationList) # Population la plus élevée\n",
    "\n",
    "print 'Nombre de ville: ' + \"{:,}\".format(NumberOfCity).replace(',',' ')\n",
    "print 'Population totale: ' + \"{:,}\".format(TotalPopulation).replace(',',' ')\n",
    "print 'Population moyenne par ville: '+ \"{:,}\".format(AveragePopulation).replace(',',' ')\n",
    "print 'Population mediane par ville: '+ \"{:,}\".format(MedianPopulation).replace(',',' ')\n",
    "print 'Population la plus faible: '+ \"{:,}\".format(MinPopulation).replace(',',' ')  + ' (' + str(list(mydb[CollectionName].find({'population': MinPopulation},{'nom':1,'_id':0}))[0]['nom'].encode('utf-8')) + ')'\n",
    "print 'Population la plus élevée: '+ \"{:,}\".format(MaxPopulation).replace(',',' ') + ' (' + str(list(mydb[CollectionName].find({'population': MaxPopulation},{'nom':1,'_id':0}))[0]['nom'].encode('utf-8')) + ')'"
   ]
  },
  {
   "cell_type": "markdown",
   "metadata": {},
   "source": [
    "### 3.2.1. Population histogram"
   ]
  },
  {
   "cell_type": "code",
   "execution_count": 5,
   "metadata": {
    "collapsed": true
   },
   "outputs": [],
   "source": [
    "# Prepare the data for plot\n",
    "start = Fcn_BasicStatisticalAnalysisOfPopulation.DefineMinMaxLog(MinPopulation,'Min')\n",
    "stop = Fcn_BasicStatisticalAnalysisOfPopulation.DefineMinMaxLog(MaxPopulation,'Max')\n",
    "bins = Fcn_BasicStatisticalAnalysisOfPopulation.CreateLogBin(start,stop)\n",
    "hist, bin_edges = np.histogram(AllPopulationList, bins=bins)\n",
    "\n",
    "# Remove the first and last value when hist is 0 - Comment out this line to show forall log scale\n",
    "hist, bin_edges = Fcn_BasicStatisticalAnalysisOfPopulation.RemoveLastFirstValuesWhenZero(hist, bin_edges)"
   ]
  },
  {
   "cell_type": "code",
   "execution_count": 6,
   "metadata": {},
   "outputs": [
    {
     "data": {
      "text/html": [
       "\n",
       "\n",
       "\n",
       "\n",
       "\n",
       "\n",
       "  <div class=\"bk-root\" id=\"233a3e21-71f4-4103-9504-2247f06a37e2\"></div>\n"
      ]
     },
     "metadata": {},
     "output_type": "display_data"
    },
    {
     "data": {
      "application/javascript": [
       "(function(root) {\n",
       "  function embed_document(root) {\n",
       "    \n",
       "  var docs_json = {\"d01f3c80-9872-4526-939f-0f5ff8e810c2\":{\"roots\":{\"references\":[{\"attributes\":{\"bottom_units\":\"screen\",\"fill_alpha\":{\"value\":0.5},\"fill_color\":{\"value\":\"lightgrey\"},\"left_units\":\"screen\",\"level\":\"overlay\",\"line_alpha\":{\"value\":1.0},\"line_color\":{\"value\":\"black\"},\"line_dash\":[4,4],\"line_width\":{\"value\":2},\"plot\":null,\"render_mode\":\"css\",\"right_units\":\"screen\",\"top_units\":\"screen\"},\"id\":\"5407bb03-878a-47d2-8ea5-359c5f33a0e9\",\"type\":\"BoxAnnotation\"},{\"attributes\":{},\"id\":\"ab7ad224-d1f3-4cd9-affa-3478147a7928\",\"type\":\"WheelZoomTool\"},{\"attributes\":{\"plot\":{\"id\":\"1c666682-28ea-478e-9622-5d398c1937a8\",\"subtype\":\"Figure\",\"type\":\"Plot\"},\"ticker\":{\"id\":\"128aa889-40ad-4f2e-8572-c8ace837d15b\",\"type\":\"BasicTicker\"}},\"id\":\"dc92f727-a2d8-407a-86c2-67bce245ccae\",\"type\":\"Grid\"},{\"attributes\":{},\"id\":\"d315c1e5-c25e-46db-a561-c69936532751\",\"type\":\"SaveTool\"},{\"attributes\":{\"plot\":null,\"text\":\"City population\",\"text_color\":{\"value\":\"#0276FD\"},\"text_font\":\"verdana\",\"text_font_size\":{\"value\":\"12pt\"}},\"id\":\"70c3fa3f-c854-47da-b349-da6c8b5b3baf\",\"type\":\"Title\"},{\"attributes\":{},\"id\":\"12acc9f1-7d5f-46e6-8884-b19af47d5146\",\"type\":\"LinearScale\"},{\"attributes\":{\"overlay\":{\"id\":\"5407bb03-878a-47d2-8ea5-359c5f33a0e9\",\"type\":\"BoxAnnotation\"}},\"id\":\"4e8fb25d-0348-4880-b28f-8a1f44bb8d0c\",\"type\":\"BoxZoomTool\"},{\"attributes\":{},\"id\":\"710817ca-24f2-464e-baba-6c2ffd70a198\",\"type\":\"Selection\"},{\"attributes\":{},\"id\":\"8020939f-ba96-49ad-8870-3a0e3f8b7181\",\"type\":\"LinearScale\"},{\"attributes\":{\"bottom\":{\"value\":0},\"fill_color\":{\"value\":\"#0276FD\"},\"left\":{\"field\":\"left\"},\"line_color\":{\"value\":\"#5F5B5B\"},\"right\":{\"field\":\"right\"},\"top\":{\"field\":\"top\"}},\"id\":\"a43fd93f-25ed-485e-a65f-8b611a428013\",\"type\":\"Quad\"},{\"attributes\":{\"axis_label\":\"Count\",\"axis_label_text_font\":\"verdana\",\"axis_label_text_font_style\":\"normal\",\"formatter\":{\"id\":\"49da03d1-898b-46af-9ac8-07581be90c92\",\"type\":\"BasicTickFormatter\"},\"major_label_text_font\":\"verdana\",\"plot\":{\"id\":\"1c666682-28ea-478e-9622-5d398c1937a8\",\"subtype\":\"Figure\",\"type\":\"Plot\"},\"ticker\":{\"id\":\"0ebde274-943f-4493-b22a-3dc277fd0b15\",\"type\":\"BasicTicker\"}},\"id\":\"d0591ab1-c8fc-4273-bf00-4076830ce2b1\",\"type\":\"LinearAxis\"},{\"attributes\":{\"active_drag\":\"auto\",\"active_inspect\":\"auto\",\"active_multi\":null,\"active_scroll\":\"auto\",\"active_tap\":\"auto\",\"tools\":[{\"id\":\"61c65fd1-a873-42a5-9c2f-ec5c1e3fbcf1\",\"type\":\"PanTool\"},{\"id\":\"ab7ad224-d1f3-4cd9-affa-3478147a7928\",\"type\":\"WheelZoomTool\"},{\"id\":\"4e8fb25d-0348-4880-b28f-8a1f44bb8d0c\",\"type\":\"BoxZoomTool\"},{\"id\":\"d315c1e5-c25e-46db-a561-c69936532751\",\"type\":\"SaveTool\"},{\"id\":\"0bdd80a4-4d58-43c6-995d-de93bda070af\",\"type\":\"ResetTool\"},{\"id\":\"4514c48c-4b92-4dbd-bad3-4dc9b9644d6b\",\"type\":\"HelpTool\"}]},\"id\":\"e5bd85a8-c6e9-409d-9f4b-e21d928beab7\",\"type\":\"Toolbar\"},{\"attributes\":{},\"id\":\"0ebde274-943f-4493-b22a-3dc277fd0b15\",\"type\":\"BasicTicker\"},{\"attributes\":{},\"id\":\"0bdd80a4-4d58-43c6-995d-de93bda070af\",\"type\":\"ResetTool\"},{\"attributes\":{},\"id\":\"61c65fd1-a873-42a5-9c2f-ec5c1e3fbcf1\",\"type\":\"PanTool\"},{\"attributes\":{\"callback\":null},\"id\":\"818e6ff0-97fc-4a76-91f8-8d9aa868f7fe\",\"type\":\"DataRange1d\"},{\"attributes\":{},\"id\":\"49da03d1-898b-46af-9ac8-07581be90c92\",\"type\":\"BasicTickFormatter\"},{\"attributes\":{\"source\":{\"id\":\"547c8cb7-74be-4488-8be2-15bdc3016fbb\",\"type\":\"ColumnDataSource\"}},\"id\":\"9496ccc1-7b39-4c9e-a81a-df0b1ae92511\",\"type\":\"CDSView\"},{\"attributes\":{\"bottom\":{\"value\":0},\"fill_alpha\":{\"value\":0.1},\"fill_color\":{\"value\":\"#1f77b4\"},\"left\":{\"field\":\"left\"},\"line_alpha\":{\"value\":0.1},\"line_color\":{\"value\":\"#1f77b4\"},\"right\":{\"field\":\"right\"},\"top\":{\"field\":\"top\"}},\"id\":\"835886ce-76f6-4b95-8170-0bb6f7cedbaa\",\"type\":\"Quad\"},{\"attributes\":{},\"id\":\"4514c48c-4b92-4dbd-bad3-4dc9b9644d6b\",\"type\":\"HelpTool\"},{\"attributes\":{\"axis_label\":\"City population bins\",\"axis_label_text_font\":\"verdana\",\"axis_label_text_font_style\":\"normal\",\"formatter\":{\"id\":\"c804a2f7-de2d-411e-90de-4bb8aa5c57ab\",\"type\":\"BasicTickFormatter\"},\"major_label_orientation\":0.785,\"major_label_overrides\":{\"0\":\"100\",\"1\":\"200\",\"10\":\"2 000\",\"11\":\"3 000\",\"12\":\"4 000\",\"13\":\"5 000\",\"14\":\"6 000\",\"15\":\"7 000\",\"16\":\"8 000\",\"17\":\"9 000\",\"18\":\"10 000\",\"19\":\"20 000\",\"2\":\"300\",\"20\":\"30 000\",\"21\":\"40 000\",\"22\":\"50 000\",\"23\":\"60 000\",\"24\":\"70 000\",\"25\":\"80 000\",\"26\":\"90 000\",\"27\":\"100 000\",\"28\":\"200 000\",\"29\":\"300 000\",\"3\":\"400\",\"4\":\"500\",\"5\":\"600\",\"6\":\"700\",\"7\":\"800\",\"8\":\"900\",\"9\":\"1 000\"},\"major_label_text_font\":\"verdana\",\"plot\":{\"id\":\"1c666682-28ea-478e-9622-5d398c1937a8\",\"subtype\":\"Figure\",\"type\":\"Plot\"},\"ticker\":{\"id\":\"15c1c488-555f-46a2-865f-3ce20c12f42a\",\"type\":\"FixedTicker\"}},\"id\":\"74c0a625-88a9-4f0a-bab2-e9991907b677\",\"type\":\"LinearAxis\"},{\"attributes\":{\"below\":[{\"id\":\"74c0a625-88a9-4f0a-bab2-e9991907b677\",\"type\":\"LinearAxis\"}],\"left\":[{\"id\":\"d0591ab1-c8fc-4273-bf00-4076830ce2b1\",\"type\":\"LinearAxis\"}],\"plot_height\":300,\"renderers\":[{\"id\":\"74c0a625-88a9-4f0a-bab2-e9991907b677\",\"type\":\"LinearAxis\"},{\"id\":\"dc92f727-a2d8-407a-86c2-67bce245ccae\",\"type\":\"Grid\"},{\"id\":\"d0591ab1-c8fc-4273-bf00-4076830ce2b1\",\"type\":\"LinearAxis\"},{\"id\":\"3178a0b2-a5f1-4779-9f20-8b02f8539757\",\"type\":\"Grid\"},{\"id\":\"5407bb03-878a-47d2-8ea5-359c5f33a0e9\",\"type\":\"BoxAnnotation\"},{\"id\":\"64df5f15-7159-4ea4-8633-c073ee069c8f\",\"type\":\"GlyphRenderer\"}],\"title\":{\"id\":\"70c3fa3f-c854-47da-b349-da6c8b5b3baf\",\"type\":\"Title\"},\"toolbar\":{\"id\":\"e5bd85a8-c6e9-409d-9f4b-e21d928beab7\",\"type\":\"Toolbar\"},\"x_range\":{\"id\":\"85688b43-8403-482c-b422-8e937ff2d62a\",\"type\":\"DataRange1d\"},\"x_scale\":{\"id\":\"12acc9f1-7d5f-46e6-8884-b19af47d5146\",\"type\":\"LinearScale\"},\"y_range\":{\"id\":\"818e6ff0-97fc-4a76-91f8-8d9aa868f7fe\",\"type\":\"DataRange1d\"},\"y_scale\":{\"id\":\"8020939f-ba96-49ad-8870-3a0e3f8b7181\",\"type\":\"LinearScale\"}},\"id\":\"1c666682-28ea-478e-9622-5d398c1937a8\",\"subtype\":\"Figure\",\"type\":\"Plot\"},{\"attributes\":{},\"id\":\"128aa889-40ad-4f2e-8572-c8ace837d15b\",\"type\":\"BasicTicker\"},{\"attributes\":{\"callback\":null,\"data\":{\"left\":[0,1,2,3,4,5,6,7,8,9,10,11,12,13,14,15,16,17,18,19,20,21,22,23,24,25,26,27,28],\"right\":[1,2,3,4,5,6,7,8,9,10,11,12,13,14,15,16,17,18,19,20,21,22,23,24,25,26,27,28,29],\"top\":[5,9,25,7,18,19,13,17,15,105,37,22,17,7,6,7,3,3,7,1,0,1,0,0,0,0,0,0,1]},\"selected\":{\"id\":\"710817ca-24f2-464e-baba-6c2ffd70a198\",\"type\":\"Selection\"},\"selection_policy\":{\"id\":\"bdcb644f-1ac5-45cf-a2d4-bdc271a794ab\",\"type\":\"UnionRenderers\"}},\"id\":\"547c8cb7-74be-4488-8be2-15bdc3016fbb\",\"type\":\"ColumnDataSource\"},{\"attributes\":{},\"id\":\"c804a2f7-de2d-411e-90de-4bb8aa5c57ab\",\"type\":\"BasicTickFormatter\"},{\"attributes\":{\"dimension\":1,\"plot\":{\"id\":\"1c666682-28ea-478e-9622-5d398c1937a8\",\"subtype\":\"Figure\",\"type\":\"Plot\"},\"ticker\":{\"id\":\"0ebde274-943f-4493-b22a-3dc277fd0b15\",\"type\":\"BasicTicker\"}},\"id\":\"3178a0b2-a5f1-4779-9f20-8b02f8539757\",\"type\":\"Grid\"},{\"attributes\":{\"ticks\":[0,1,2,3,4,5,6,7,8,9,10,11,12,13,14,15,16,17,18,19,20,21,22,23,24,25,26,27,28,29]},\"id\":\"15c1c488-555f-46a2-865f-3ce20c12f42a\",\"type\":\"FixedTicker\"},{\"attributes\":{\"data_source\":{\"id\":\"547c8cb7-74be-4488-8be2-15bdc3016fbb\",\"type\":\"ColumnDataSource\"},\"glyph\":{\"id\":\"a43fd93f-25ed-485e-a65f-8b611a428013\",\"type\":\"Quad\"},\"hover_glyph\":null,\"muted_glyph\":null,\"nonselection_glyph\":{\"id\":\"835886ce-76f6-4b95-8170-0bb6f7cedbaa\",\"type\":\"Quad\"},\"selection_glyph\":null,\"view\":{\"id\":\"9496ccc1-7b39-4c9e-a81a-df0b1ae92511\",\"type\":\"CDSView\"}},\"id\":\"64df5f15-7159-4ea4-8633-c073ee069c8f\",\"type\":\"GlyphRenderer\"},{\"attributes\":{},\"id\":\"bdcb644f-1ac5-45cf-a2d4-bdc271a794ab\",\"type\":\"UnionRenderers\"},{\"attributes\":{\"callback\":null},\"id\":\"85688b43-8403-482c-b422-8e937ff2d62a\",\"type\":\"DataRange1d\"}],\"root_ids\":[\"1c666682-28ea-478e-9622-5d398c1937a8\"]},\"title\":\"Bokeh Application\",\"version\":\"0.13.0\"}};\n",
       "  var render_items = [{\"docid\":\"d01f3c80-9872-4526-939f-0f5ff8e810c2\",\"roots\":{\"1c666682-28ea-478e-9622-5d398c1937a8\":\"233a3e21-71f4-4103-9504-2247f06a37e2\"}}];\n",
       "  root.Bokeh.embed.embed_items_notebook(docs_json, render_items);\n",
       "\n",
       "  }\n",
       "  if (root.Bokeh !== undefined) {\n",
       "    embed_document(root);\n",
       "  } else {\n",
       "    var attempts = 0;\n",
       "    var timer = setInterval(function(root) {\n",
       "      if (root.Bokeh !== undefined) {\n",
       "        embed_document(root);\n",
       "        clearInterval(timer);\n",
       "      }\n",
       "      attempts++;\n",
       "      if (attempts > 100) {\n",
       "        console.log(\"Bokeh: ERROR: Unable to run BokehJS code because BokehJS library is missing\")\n",
       "        clearInterval(timer);\n",
       "      }\n",
       "    }, 10, root)\n",
       "  }\n",
       "})(window);"
      ],
      "application/vnd.bokehjs_exec.v0+json": ""
     },
     "metadata": {
      "application/vnd.bokehjs_exec.v0+json": {
       "id": "1c666682-28ea-478e-9622-5d398c1937a8"
      }
     },
     "output_type": "display_data"
    }
   ],
   "source": [
    "# Plot histogram\n",
    "p = figure(plot_height=300, title=\"City population\",\n",
    "           x_axis_label='City population bins', y_axis_label='Count')\n",
    "p.quad(top=list(hist), bottom=0, left=list(range(0,len(bin_edges)))[:-1], right=list(range(0,len(bin_edges)))[1:],\n",
    "       fill_color = \"#0276FD\", line_color = \"#5F5B5B\", alpha=1)\n",
    "\n",
    "p.xaxis.ticker = list(range(0,len(bin_edges)))\n",
    "p.xaxis.major_label_orientation = 3.14/4\n",
    "p.xaxis.major_label_overrides = {el:\"{:,}\".format(bin_edges[el]).replace(',',' ') for el in range(0,len(bin_edges))}\n",
    "\n",
    "p.title.text_font_size = '12pt'\n",
    "p.title.text_color = \"#0276FD\"\n",
    "p.title.text_font = \"verdana\"\n",
    "p.yaxis.axis_label_text_font = \"verdana\"\n",
    "p.yaxis.axis_label_text_font_style = \"normal\"\n",
    "p.xaxis.axis_label_text_font = \"verdana\"\n",
    "p.xaxis.axis_label_text_font_style = \"normal\"\n",
    "p.xaxis.major_label_text_font = \"verdana\"\n",
    "p.yaxis.major_label_text_font = \"verdana\"\n",
    "\n",
    "show(p)"
   ]
  },
  {
   "cell_type": "markdown",
   "metadata": {},
   "source": [
    "La majorité des villes (30%) a une population comprise entre 1000 et 2000 habitants. Ensuite, viennent les villes ayant une population comprise entre 2000 et 3000 habitants (11%) enfin 7% des villes ont une population de 300 a 400 habitants."
   ]
  },
  {
   "cell_type": "code",
   "execution_count": 7,
   "metadata": {},
   "outputs": [
    {
     "data": {
      "text/plain": [
       "30"
      ]
     },
     "execution_count": 7,
     "metadata": {},
     "output_type": "execute_result"
    }
   ],
   "source": [
    "CityPopBinPercentage = [int(round(list(hist)[x]/NumberOfCity*100)) for x in range(0,len(hist))]\n",
    "CityPopBinPercentage[9]"
   ]
  },
  {
   "cell_type": "markdown",
   "metadata": {},
   "source": [
    "### 3.2.2. Population cumulative distribution"
   ]
  },
  {
   "cell_type": "code",
   "execution_count": 8,
   "metadata": {
    "scrolled": false
   },
   "outputs": [
    {
     "data": {
      "text/html": [
       "\n",
       "\n",
       "\n",
       "\n",
       "\n",
       "\n",
       "  <div class=\"bk-root\" id=\"cd368529-1383-4d6e-8337-3d9bcb8fbedd\"></div>\n"
      ]
     },
     "metadata": {},
     "output_type": "display_data"
    },
    {
     "data": {
      "application/javascript": [
       "(function(root) {\n",
       "  function embed_document(root) {\n",
       "    \n",
       "  var docs_json = {\"f99d86e2-fd1e-43b1-9436-cbe95724e16c\":{\"roots\":{\"references\":[{\"attributes\":{},\"id\":\"04ea85ec-7f3d-47d2-8fa7-8b736f201300\",\"type\":\"HelpTool\"},{\"attributes\":{\"axis_label\":\"City population bins\",\"axis_label_text_font\":\"verdana\",\"axis_label_text_font_style\":\"normal\",\"formatter\":{\"id\":\"ad62ef1d-a873-4cab-8ac3-df9f5b4f195e\",\"type\":\"BasicTickFormatter\"},\"major_label_orientation\":0.785,\"major_label_overrides\":{\"0\":\"100\",\"1\":\"200\",\"10\":\"2 000\",\"11\":\"3 000\",\"12\":\"4 000\",\"13\":\"5 000\",\"14\":\"6 000\",\"15\":\"7 000\",\"16\":\"8 000\",\"17\":\"9 000\",\"18\":\"10 000\",\"19\":\"20 000\",\"2\":\"300\",\"20\":\"30 000\",\"21\":\"40 000\",\"22\":\"50 000\",\"23\":\"60 000\",\"24\":\"70 000\",\"25\":\"80 000\",\"26\":\"90 000\",\"27\":\"100 000\",\"28\":\"200 000\",\"29\":\"300 000\",\"3\":\"400\",\"4\":\"500\",\"5\":\"600\",\"6\":\"700\",\"7\":\"800\",\"8\":\"900\",\"9\":\"1 000\"},\"major_label_text_font\":\"verdana\",\"plot\":{\"id\":\"3bbf0917-4445-4379-8576-68f0b74403c3\",\"subtype\":\"Figure\",\"type\":\"Plot\"},\"ticker\":{\"id\":\"857bfa62-f1c2-4ab2-aedf-c191c33141bf\",\"type\":\"FixedTicker\"}},\"id\":\"885d97d5-0242-494e-a69a-e123ea46056a\",\"type\":\"LinearAxis\"},{\"attributes\":{},\"id\":\"2784de6e-1929-4905-b1eb-c48259662c09\",\"type\":\"SaveTool\"},{\"attributes\":{},\"id\":\"6a72600f-5d52-4e7f-b70b-9a5b930479f0\",\"type\":\"UnionRenderers\"},{\"attributes\":{},\"id\":\"c464a1fe-fcb5-4949-a104-7c05af47f506\",\"type\":\"WheelZoomTool\"},{\"attributes\":{},\"id\":\"ad62ef1d-a873-4cab-8ac3-df9f5b4f195e\",\"type\":\"BasicTickFormatter\"},{\"attributes\":{},\"id\":\"0d2a837e-bf83-4d05-a76f-15877fecdbd3\",\"type\":\"Selection\"},{\"attributes\":{\"plot\":null,\"text\":\"City population distribution\",\"text_color\":{\"value\":\"#0276FD\"},\"text_font\":\"verdana\",\"text_font_size\":{\"value\":\"12pt\"}},\"id\":\"4a430a01-02ff-44ff-9694-837829c780af\",\"type\":\"Title\"},{\"attributes\":{},\"id\":\"d7d14b45-d368-4a39-9637-1ebf3b483103\",\"type\":\"BasicTicker\"},{\"attributes\":{\"active_drag\":\"auto\",\"active_inspect\":\"auto\",\"active_multi\":null,\"active_scroll\":\"auto\",\"active_tap\":\"auto\",\"tools\":[{\"id\":\"3dd9aa86-ccfc-4559-aa0e-7fa3f95c186e\",\"type\":\"PanTool\"},{\"id\":\"c464a1fe-fcb5-4949-a104-7c05af47f506\",\"type\":\"WheelZoomTool\"},{\"id\":\"ef06047c-4c90-4055-b10c-ebc71245a409\",\"type\":\"BoxZoomTool\"},{\"id\":\"2784de6e-1929-4905-b1eb-c48259662c09\",\"type\":\"SaveTool\"},{\"id\":\"c2bce1d0-a75b-4370-b6d5-17ff6f6ca250\",\"type\":\"ResetTool\"},{\"id\":\"04ea85ec-7f3d-47d2-8fa7-8b736f201300\",\"type\":\"HelpTool\"}]},\"id\":\"790c81d0-fb00-48d5-ba76-f99500b2adf9\",\"type\":\"Toolbar\"},{\"attributes\":{\"callback\":null},\"id\":\"b1811030-23b3-4ebd-9949-faf4abe2a8ef\",\"type\":\"DataRange1d\"},{\"attributes\":{\"data_source\":{\"id\":\"5079ef98-2448-4948-ad0b-05df33f6fe15\",\"type\":\"ColumnDataSource\"},\"glyph\":{\"id\":\"ba5c4b0d-c855-40a0-b3f7-20e628ccca35\",\"type\":\"Step\"},\"hover_glyph\":null,\"muted_glyph\":null,\"nonselection_glyph\":{\"id\":\"e72cd0e1-f03b-4c45-b672-62b1c464a6b7\",\"type\":\"Step\"},\"selection_glyph\":null,\"view\":{\"id\":\"2dab38e9-a41d-4c61-af7b-afe38ac07f88\",\"type\":\"CDSView\"}},\"id\":\"d3659701-fa84-492a-b5a8-7869c19f0a38\",\"type\":\"GlyphRenderer\"},{\"attributes\":{\"line_alpha\":{\"value\":0.1},\"line_color\":{\"value\":\"#1f77b4\"},\"line_width\":{\"value\":2},\"x\":{\"field\":\"x\"},\"y\":{\"field\":\"y\"}},\"id\":\"e72cd0e1-f03b-4c45-b672-62b1c464a6b7\",\"type\":\"Step\"},{\"attributes\":{\"ticks\":[0,1,2,3,4,5,6,7,8,9,10,11,12,13,14,15,16,17,18,19,20,21,22,23,24,25,26,27,28,29]},\"id\":\"857bfa62-f1c2-4ab2-aedf-c191c33141bf\",\"type\":\"FixedTicker\"},{\"attributes\":{\"plot\":{\"id\":\"3bbf0917-4445-4379-8576-68f0b74403c3\",\"subtype\":\"Figure\",\"type\":\"Plot\"},\"ticker\":{\"id\":\"7fdba6d4-4b91-4d6a-bb6f-cc50600c5175\",\"type\":\"BasicTicker\"}},\"id\":\"49965c8a-a951-421f-b27e-f10b21ad37a5\",\"type\":\"Grid\"},{\"attributes\":{\"dimension\":1,\"plot\":{\"id\":\"3bbf0917-4445-4379-8576-68f0b74403c3\",\"subtype\":\"Figure\",\"type\":\"Plot\"},\"ticker\":{\"id\":\"d7d14b45-d368-4a39-9637-1ebf3b483103\",\"type\":\"BasicTicker\"}},\"id\":\"fda11935-cdd3-4840-b88f-199b709bd9b6\",\"type\":\"Grid\"},{\"attributes\":{\"callback\":null,\"data\":{\"x\":[0,1,2,3,4,5,6,7,8,9,10,11,12,13,14,15,16,17,18,19,20,21,22,23,24,25,26,27,28,29],\"y\":[0,0.014492753623188406,0.04057971014492753,0.11304347826086956,0.13333333333333333,0.1855072463768116,0.24057971014492754,0.2782608695652174,0.32753623188405795,0.3710144927536232,0.6753623188405797,0.782608695652174,0.8463768115942029,0.8956521739130435,0.9159420289855073,0.9333333333333333,0.9536231884057971,0.9623188405797102,0.9710144927536232,0.991304347826087,0.9942028985507246,0.9942028985507246,0.9971014492753624,0.9971014492753624,0.9971014492753624,0.9971014492753624,0.9971014492753624,0.9971014492753624,0.9971014492753624,1.0]},\"selected\":{\"id\":\"0d2a837e-bf83-4d05-a76f-15877fecdbd3\",\"type\":\"Selection\"},\"selection_policy\":{\"id\":\"6a72600f-5d52-4e7f-b70b-9a5b930479f0\",\"type\":\"UnionRenderers\"}},\"id\":\"5079ef98-2448-4948-ad0b-05df33f6fe15\",\"type\":\"ColumnDataSource\"},{\"attributes\":{\"source\":{\"id\":\"5079ef98-2448-4948-ad0b-05df33f6fe15\",\"type\":\"ColumnDataSource\"}},\"id\":\"2dab38e9-a41d-4c61-af7b-afe38ac07f88\",\"type\":\"CDSView\"},{\"attributes\":{},\"id\":\"c2bce1d0-a75b-4370-b6d5-17ff6f6ca250\",\"type\":\"ResetTool\"},{\"attributes\":{\"bottom_units\":\"screen\",\"fill_alpha\":{\"value\":0.5},\"fill_color\":{\"value\":\"lightgrey\"},\"left_units\":\"screen\",\"level\":\"overlay\",\"line_alpha\":{\"value\":1.0},\"line_color\":{\"value\":\"black\"},\"line_dash\":[4,4],\"line_width\":{\"value\":2},\"plot\":null,\"render_mode\":\"css\",\"right_units\":\"screen\",\"top_units\":\"screen\"},\"id\":\"1e25e4c7-8810-447a-8f6a-7032523d2a75\",\"type\":\"BoxAnnotation\"},{\"attributes\":{\"axis_label\":\"Percentile [%ile]\",\"axis_label_text_font\":\"verdana\",\"axis_label_text_font_style\":\"normal\",\"formatter\":{\"id\":\"9be99d79-1946-4247-9ff3-08fe0607ebd5\",\"type\":\"BasicTickFormatter\"},\"major_label_text_font\":\"verdana\",\"plot\":{\"id\":\"3bbf0917-4445-4379-8576-68f0b74403c3\",\"subtype\":\"Figure\",\"type\":\"Plot\"},\"ticker\":{\"id\":\"d7d14b45-d368-4a39-9637-1ebf3b483103\",\"type\":\"BasicTicker\"}},\"id\":\"979ca4f2-04a9-485d-991a-3ae790a8e8c1\",\"type\":\"LinearAxis\"},{\"attributes\":{},\"id\":\"14817afc-7be5-42b1-a106-e10db4687274\",\"type\":\"LinearScale\"},{\"attributes\":{},\"id\":\"7fdba6d4-4b91-4d6a-bb6f-cc50600c5175\",\"type\":\"BasicTicker\"},{\"attributes\":{},\"id\":\"9be99d79-1946-4247-9ff3-08fe0607ebd5\",\"type\":\"BasicTickFormatter\"},{\"attributes\":{\"callback\":null},\"id\":\"dbd032a6-925f-4b09-811f-74db4f32c209\",\"type\":\"DataRange1d\"},{\"attributes\":{},\"id\":\"65896150-13da-4be4-b331-fba5d3e7c869\",\"type\":\"LinearScale\"},{\"attributes\":{\"line_color\":{\"value\":\"#0276FD\"},\"line_width\":{\"value\":2},\"x\":{\"field\":\"x\"},\"y\":{\"field\":\"y\"}},\"id\":\"ba5c4b0d-c855-40a0-b3f7-20e628ccca35\",\"type\":\"Step\"},{\"attributes\":{\"overlay\":{\"id\":\"1e25e4c7-8810-447a-8f6a-7032523d2a75\",\"type\":\"BoxAnnotation\"}},\"id\":\"ef06047c-4c90-4055-b10c-ebc71245a409\",\"type\":\"BoxZoomTool\"},{\"attributes\":{\"below\":[{\"id\":\"885d97d5-0242-494e-a69a-e123ea46056a\",\"type\":\"LinearAxis\"}],\"left\":[{\"id\":\"979ca4f2-04a9-485d-991a-3ae790a8e8c1\",\"type\":\"LinearAxis\"}],\"plot_height\":300,\"renderers\":[{\"id\":\"885d97d5-0242-494e-a69a-e123ea46056a\",\"type\":\"LinearAxis\"},{\"id\":\"49965c8a-a951-421f-b27e-f10b21ad37a5\",\"type\":\"Grid\"},{\"id\":\"979ca4f2-04a9-485d-991a-3ae790a8e8c1\",\"type\":\"LinearAxis\"},{\"id\":\"fda11935-cdd3-4840-b88f-199b709bd9b6\",\"type\":\"Grid\"},{\"id\":\"1e25e4c7-8810-447a-8f6a-7032523d2a75\",\"type\":\"BoxAnnotation\"},{\"id\":\"d3659701-fa84-492a-b5a8-7869c19f0a38\",\"type\":\"GlyphRenderer\"}],\"title\":{\"id\":\"4a430a01-02ff-44ff-9694-837829c780af\",\"type\":\"Title\"},\"toolbar\":{\"id\":\"790c81d0-fb00-48d5-ba76-f99500b2adf9\",\"type\":\"Toolbar\"},\"x_range\":{\"id\":\"b1811030-23b3-4ebd-9949-faf4abe2a8ef\",\"type\":\"DataRange1d\"},\"x_scale\":{\"id\":\"65896150-13da-4be4-b331-fba5d3e7c869\",\"type\":\"LinearScale\"},\"y_range\":{\"id\":\"dbd032a6-925f-4b09-811f-74db4f32c209\",\"type\":\"DataRange1d\"},\"y_scale\":{\"id\":\"14817afc-7be5-42b1-a106-e10db4687274\",\"type\":\"LinearScale\"}},\"id\":\"3bbf0917-4445-4379-8576-68f0b74403c3\",\"subtype\":\"Figure\",\"type\":\"Plot\"},{\"attributes\":{},\"id\":\"3dd9aa86-ccfc-4559-aa0e-7fa3f95c186e\",\"type\":\"PanTool\"}],\"root_ids\":[\"3bbf0917-4445-4379-8576-68f0b74403c3\"]},\"title\":\"Bokeh Application\",\"version\":\"0.13.0\"}};\n",
       "  var render_items = [{\"docid\":\"f99d86e2-fd1e-43b1-9436-cbe95724e16c\",\"roots\":{\"3bbf0917-4445-4379-8576-68f0b74403c3\":\"cd368529-1383-4d6e-8337-3d9bcb8fbedd\"}}];\n",
       "  root.Bokeh.embed.embed_items_notebook(docs_json, render_items);\n",
       "\n",
       "  }\n",
       "  if (root.Bokeh !== undefined) {\n",
       "    embed_document(root);\n",
       "  } else {\n",
       "    var attempts = 0;\n",
       "    var timer = setInterval(function(root) {\n",
       "      if (root.Bokeh !== undefined) {\n",
       "        embed_document(root);\n",
       "        clearInterval(timer);\n",
       "      }\n",
       "      attempts++;\n",
       "      if (attempts > 100) {\n",
       "        console.log(\"Bokeh: ERROR: Unable to run BokehJS code because BokehJS library is missing\")\n",
       "        clearInterval(timer);\n",
       "      }\n",
       "    }, 10, root)\n",
       "  }\n",
       "})(window);"
      ],
      "application/vnd.bokehjs_exec.v0+json": ""
     },
     "metadata": {
      "application/vnd.bokehjs_exec.v0+json": {
       "id": "3bbf0917-4445-4379-8576-68f0b74403c3"
      }
     },
     "output_type": "display_data"
    }
   ],
   "source": [
    "#Plot cumulative distribution\n",
    "p = figure(plot_height=300, title=\"City population distribution\",\n",
    "           x_axis_label='City population bins', y_axis_label='Percentile [%ile]')\n",
    "p.step(list(range(0,len(bin_edges))),[0]+[list(np.cumsum(hist))[x]/NumberOfCity for x in range(0,len(hist))],\n",
    "       line_color=\"#0276FD\",line_width=2)\n",
    "\n",
    "p.xaxis.ticker = list(range(0,len(bin_edges)))\n",
    "p.xaxis.major_label_orientation = 3.14/4\n",
    "p.xaxis.major_label_overrides = {el:\"{:,}\".format(bin_edges[el]).replace(',',' ') for el in range(0,len(bin_edges))}\n",
    "\n",
    "p.title.text_font_size = '12pt'\n",
    "p.title.text_color = \"#0276FD\"\n",
    "p.title.text_font = \"verdana\"\n",
    "p.yaxis.axis_label_text_font = \"verdana\"\n",
    "p.yaxis.axis_label_text_font_style = \"normal\"\n",
    "p.xaxis.axis_label_text_font = \"verdana\"\n",
    "p.xaxis.axis_label_text_font_style = \"normal\"\n",
    "p.xaxis.major_label_text_font = \"verdana\"\n",
    "p.yaxis.major_label_text_font = \"verdana\"\n",
    "\n",
    "show(p)"
   ]
  },
  {
   "cell_type": "markdown",
   "metadata": {},
   "source": [
    "37% des villes ont 1000 habitants ou moins. 68% des villes ont 2000 habitants ou moins. Moins de 10% des villes ont 5000 habitants ou plus. Les villes de 10000 habitants ou plus représentent moins de 1% des villes."
   ]
  },
  {
   "cell_type": "code",
   "execution_count": 9,
   "metadata": {
    "scrolled": true
   },
   "outputs": [
    {
     "data": {
      "text/plain": [
       "99"
      ]
     },
     "execution_count": 9,
     "metadata": {},
     "output_type": "execute_result"
    }
   ],
   "source": [
    "CityPopBinCumDistributionPercentage = [int(round(list(np.cumsum(hist))[x]/NumberOfCity*100)) for x in range(0,len(hist))]\n",
    "CityPopBinCumDistributionPercentage[20]"
   ]
  },
  {
   "cell_type": "markdown",
   "metadata": {},
   "source": [
    "## 3.3. Area basic analysis"
   ]
  },
  {
   "cell_type": "code",
   "execution_count": 10,
   "metadata": {},
   "outputs": [
    {
     "name": "stdout",
     "output_type": "stream",
     "text": [
      "Surface totale: 6840.54 km²\n",
      "Surface moyenne: 19.82 km²\n",
      "Surface mediane: 15.81 km²\n",
      "Surface la plus faible: 0.56 km² (Bécherel)\n",
      "Surface la plus élevée: 110.66 km² (Paimpont)\n"
     ]
    }
   ],
   "source": [
    "#Statistics about area\n",
    "TotalArea = sum(AllAreaList)/100 # km2, originally surface in hectare\n",
    "AverageArea = int(np.mean(AllAreaList)) # Surface moyenne \n",
    "MedianArea = int(np.median(AllAreaList)) # Surface mediane\n",
    "MinArea = np.min(AllAreaList) # Surface la plus faible\n",
    "MaxArea = np.max(AllAreaList) # Surface la plus élevée\n",
    "\n",
    "print 'Surface totale: ' + str(TotalArea) + ' km' + (u\"\\u00b2\").encode('utf-8') \n",
    "print 'Surface moyenne: '+ str(AverageArea/100) + ' km' + (u\"\\u00b2\").encode('utf-8') \n",
    "print 'Surface mediane: '+ str(MedianArea/100) + ' km' + (u\"\\u00b2\").encode('utf-8') \n",
    "print 'Surface la plus faible: '+ str(MinArea/100) + ' km' + (u\"\\u00b2\").encode('utf-8') + ' (' + str(list(mydb[CollectionName].find({'surface': MinArea},{'nom':1,'_id':0}))[0]['nom'].encode('utf-8')) + ')'\n",
    "print 'Surface la plus élevée: '+ str(MaxArea/100) + ' km' + (u\"\\u00b2\").encode('utf-8')  + ' (' + str(list(mydb[CollectionName].find({'surface': MaxArea},{'nom':1,'_id':0}))[0]['nom'].encode('utf-8')) + ')'"
   ]
  },
  {
   "cell_type": "markdown",
   "metadata": {},
   "source": [
    "### 3.3.1 Area histogram"
   ]
  },
  {
   "cell_type": "code",
   "execution_count": 11,
   "metadata": {
    "collapsed": true
   },
   "outputs": [],
   "source": [
    "# Prepare the data for plot\n",
    "start = Fcn_BasicStatisticalAnalysisOfPopulation.DefineMinMaxLog(MinArea,'Min')\n",
    "stop = Fcn_BasicStatisticalAnalysisOfPopulation.DefineMinMaxLog(MaxArea,'Max')\n",
    "bins = Fcn_BasicStatisticalAnalysisOfPopulation.CreateLogBin(start,stop)\n",
    "hist, bin_edges = np.histogram(AllAreaList, bins=bins)\n",
    "\n",
    "# Remove the first and last value when hist is 0 - Comment out this line to show forall log scale\n",
    "hist, bin_edges = Fcn_BasicStatisticalAnalysisOfPopulation.RemoveLastFirstValuesWhenZero(hist, bin_edges)"
   ]
  },
  {
   "cell_type": "code",
   "execution_count": 12,
   "metadata": {},
   "outputs": [
    {
     "data": {
      "text/html": [
       "\n",
       "\n",
       "\n",
       "\n",
       "\n",
       "\n",
       "  <div class=\"bk-root\" id=\"d5a17781-e63c-455f-8f85-765df7cd0df8\"></div>\n"
      ]
     },
     "metadata": {},
     "output_type": "display_data"
    },
    {
     "data": {
      "application/javascript": [
       "(function(root) {\n",
       "  function embed_document(root) {\n",
       "    \n",
       "  var docs_json = {\"39937018-5cd8-4680-854e-a9bbff599d78\":{\"roots\":{\"references\":[{\"attributes\":{},\"id\":\"50df462c-d884-4711-a103-7777ccb2204d\",\"type\":\"SaveTool\"},{\"attributes\":{},\"id\":\"5293e2a4-c186-4ab8-8f62-bbcbe9bb8ca0\",\"type\":\"UnionRenderers\"},{\"attributes\":{\"bottom\":{\"value\":0},\"fill_alpha\":{\"value\":0.1},\"fill_color\":{\"value\":\"#1f77b4\"},\"left\":{\"field\":\"left\"},\"line_alpha\":{\"value\":0.1},\"line_color\":{\"value\":\"#1f77b4\"},\"right\":{\"field\":\"right\"},\"top\":{\"field\":\"top\"}},\"id\":\"39f7a513-d447-433c-aa92-48fa50afd1ec\",\"type\":\"Quad\"},{\"attributes\":{\"data_source\":{\"id\":\"37ffe9b3-ac4f-40e7-8831-d2d0f16d2786\",\"type\":\"ColumnDataSource\"},\"glyph\":{\"id\":\"867b373d-22dd-4772-87d3-aebd87fbe8b4\",\"type\":\"Quad\"},\"hover_glyph\":null,\"muted_glyph\":null,\"nonselection_glyph\":{\"id\":\"39f7a513-d447-433c-aa92-48fa50afd1ec\",\"type\":\"Quad\"},\"selection_glyph\":null,\"view\":{\"id\":\"5e880cf6-4606-4315-b99c-ce4e335ffb67\",\"type\":\"CDSView\"}},\"id\":\"d2a9b2ed-e71b-42e6-ab88-fc33e8fd3790\",\"type\":\"GlyphRenderer\"},{\"attributes\":{\"ticks\":[0,1,2,3,4,5,6,7,8,9,10,11,12,13,14,15,16,17,18,19,20,21,22,23,24]},\"id\":\"33ec2a56-3c4f-4757-bcda-8629012af065\",\"type\":\"FixedTicker\"},{\"attributes\":{\"plot\":{\"id\":\"8316ca61-2d3d-4aa0-90a2-2f95d9a3ec5a\",\"subtype\":\"Figure\",\"type\":\"Plot\"},\"ticker\":{\"id\":\"4993cf9a-9179-4e34-b1a6-4e904370ddc0\",\"type\":\"BasicTicker\"}},\"id\":\"c235b794-60dc-4a8d-aef5-b0addb95b4db\",\"type\":\"Grid\"},{\"attributes\":{},\"id\":\"e51c79f6-138a-4316-97c7-b9e098f2f266\",\"type\":\"ResetTool\"},{\"attributes\":{\"axis_label\":\"Count [#]\",\"axis_label_text_font\":\"verdana\",\"axis_label_text_font_style\":\"normal\",\"formatter\":{\"id\":\"600066af-35af-419a-bd29-25162f960352\",\"type\":\"BasicTickFormatter\"},\"major_label_text_font\":\"verdana\",\"plot\":{\"id\":\"8316ca61-2d3d-4aa0-90a2-2f95d9a3ec5a\",\"subtype\":\"Figure\",\"type\":\"Plot\"},\"ticker\":{\"id\":\"f2b193f4-8941-4281-83b6-281bcf655058\",\"type\":\"BasicTicker\"}},\"id\":\"82995eff-bf9c-4901-b1d4-57e0fc789942\",\"type\":\"LinearAxis\"},{\"attributes\":{\"source\":{\"id\":\"37ffe9b3-ac4f-40e7-8831-d2d0f16d2786\",\"type\":\"ColumnDataSource\"}},\"id\":\"5e880cf6-4606-4315-b99c-ce4e335ffb67\",\"type\":\"CDSView\"},{\"attributes\":{\"callback\":null,\"data\":{\"left\":[0,1,2,3,4,5,6,7,8,9,10,11,12,13,14,15,16,17,18,19,20,21,22,23],\"right\":[1,2,3,4,5,6,7,8,9,10,11,12,13,14,15,16,17,18,19,20,21,22,23,24],\"top\":[1,0,0,0,0,1,6,9,9,8,11,16,14,18,125,65,31,16,7,3,3,0,1,1]},\"selected\":{\"id\":\"b6e8e7a3-3216-4489-8a40-d4c9fd9277aa\",\"type\":\"Selection\"},\"selection_policy\":{\"id\":\"5293e2a4-c186-4ab8-8f62-bbcbe9bb8ca0\",\"type\":\"UnionRenderers\"}},\"id\":\"37ffe9b3-ac4f-40e7-8831-d2d0f16d2786\",\"type\":\"ColumnDataSource\"},{\"attributes\":{},\"id\":\"487e1e9b-805d-4a85-bfe7-9e481f33a3a8\",\"type\":\"BasicTickFormatter\"},{\"attributes\":{\"bottom_units\":\"screen\",\"fill_alpha\":{\"value\":0.5},\"fill_color\":{\"value\":\"lightgrey\"},\"left_units\":\"screen\",\"level\":\"overlay\",\"line_alpha\":{\"value\":1.0},\"line_color\":{\"value\":\"black\"},\"line_dash\":[4,4],\"line_width\":{\"value\":2},\"plot\":null,\"render_mode\":\"css\",\"right_units\":\"screen\",\"top_units\":\"screen\"},\"id\":\"65ddda46-f330-4aea-82e8-133942bba822\",\"type\":\"BoxAnnotation\"},{\"attributes\":{},\"id\":\"b6e8e7a3-3216-4489-8a40-d4c9fd9277aa\",\"type\":\"Selection\"},{\"attributes\":{},\"id\":\"1e1190bf-e5d7-4d3e-8b7d-355f68136690\",\"type\":\"PanTool\"},{\"attributes\":{},\"id\":\"f2b193f4-8941-4281-83b6-281bcf655058\",\"type\":\"BasicTicker\"},{\"attributes\":{},\"id\":\"5c0f844b-0d7b-403b-a913-1bfe5a6bd69c\",\"type\":\"LinearScale\"},{\"attributes\":{\"axis_label\":\"City area bins [km\\u00b2]\",\"axis_label_text_font\":\"verdana\",\"axis_label_text_font_style\":\"normal\",\"formatter\":{\"id\":\"487e1e9b-805d-4a85-bfe7-9e481f33a3a8\",\"type\":\"BasicTickFormatter\"},\"major_label_orientation\":0.785,\"major_label_overrides\":{\"0\":\"0.5\",\"1\":\"0.6\",\"10\":\"6\",\"11\":\"7\",\"12\":\"8\",\"13\":\"9\",\"14\":\"10\",\"15\":\"20\",\"16\":\"30\",\"17\":\"40\",\"18\":\"50\",\"19\":\"60\",\"2\":\"0.7\",\"20\":\"70\",\"21\":\"80\",\"22\":\"90\",\"23\":\"100\",\"24\":\"200\",\"3\":\"0.8\",\"4\":\"0.9\",\"5\":\"1\",\"6\":\"2\",\"7\":\"3\",\"8\":\"4\",\"9\":\"5\"},\"major_label_text_font\":\"verdana\",\"plot\":{\"id\":\"8316ca61-2d3d-4aa0-90a2-2f95d9a3ec5a\",\"subtype\":\"Figure\",\"type\":\"Plot\"},\"ticker\":{\"id\":\"33ec2a56-3c4f-4757-bcda-8629012af065\",\"type\":\"FixedTicker\"}},\"id\":\"730c8f06-819e-4059-a289-392d90f0276d\",\"type\":\"LinearAxis\"},{\"attributes\":{\"plot\":null,\"text\":\"City area\",\"text_color\":{\"value\":\"#0276FD\"},\"text_font\":\"verdana\",\"text_font_size\":{\"value\":\"12pt\"}},\"id\":\"203d5158-86a0-410d-93b6-f76712669e6d\",\"type\":\"Title\"},{\"attributes\":{},\"id\":\"e0771cc7-b668-432b-8e48-fa113c44898c\",\"type\":\"WheelZoomTool\"},{\"attributes\":{},\"id\":\"49a16882-0b61-4d21-b396-977b21497107\",\"type\":\"HelpTool\"},{\"attributes\":{},\"id\":\"600066af-35af-419a-bd29-25162f960352\",\"type\":\"BasicTickFormatter\"},{\"attributes\":{\"callback\":null},\"id\":\"3833d1e7-fa0f-4514-8400-67a8174061a7\",\"type\":\"DataRange1d\"},{\"attributes\":{\"below\":[{\"id\":\"730c8f06-819e-4059-a289-392d90f0276d\",\"type\":\"LinearAxis\"}],\"left\":[{\"id\":\"82995eff-bf9c-4901-b1d4-57e0fc789942\",\"type\":\"LinearAxis\"}],\"plot_height\":300,\"renderers\":[{\"id\":\"730c8f06-819e-4059-a289-392d90f0276d\",\"type\":\"LinearAxis\"},{\"id\":\"c235b794-60dc-4a8d-aef5-b0addb95b4db\",\"type\":\"Grid\"},{\"id\":\"82995eff-bf9c-4901-b1d4-57e0fc789942\",\"type\":\"LinearAxis\"},{\"id\":\"a94aafa8-8ecc-4e24-9db6-b2619c72bcdc\",\"type\":\"Grid\"},{\"id\":\"65ddda46-f330-4aea-82e8-133942bba822\",\"type\":\"BoxAnnotation\"},{\"id\":\"d2a9b2ed-e71b-42e6-ab88-fc33e8fd3790\",\"type\":\"GlyphRenderer\"}],\"title\":{\"id\":\"203d5158-86a0-410d-93b6-f76712669e6d\",\"type\":\"Title\"},\"toolbar\":{\"id\":\"d2c926af-88fe-4930-8d79-a8c85fa26462\",\"type\":\"Toolbar\"},\"x_range\":{\"id\":\"3833d1e7-fa0f-4514-8400-67a8174061a7\",\"type\":\"DataRange1d\"},\"x_scale\":{\"id\":\"48cfdc46-e297-4e37-a57d-d8301915968c\",\"type\":\"LinearScale\"},\"y_range\":{\"id\":\"4c6fa328-50b6-44c9-bd38-7b1299a9698e\",\"type\":\"DataRange1d\"},\"y_scale\":{\"id\":\"5c0f844b-0d7b-403b-a913-1bfe5a6bd69c\",\"type\":\"LinearScale\"}},\"id\":\"8316ca61-2d3d-4aa0-90a2-2f95d9a3ec5a\",\"subtype\":\"Figure\",\"type\":\"Plot\"},{\"attributes\":{\"overlay\":{\"id\":\"65ddda46-f330-4aea-82e8-133942bba822\",\"type\":\"BoxAnnotation\"}},\"id\":\"b8887042-60a0-44f7-959b-ec1046c71bd6\",\"type\":\"BoxZoomTool\"},{\"attributes\":{},\"id\":\"48cfdc46-e297-4e37-a57d-d8301915968c\",\"type\":\"LinearScale\"},{\"attributes\":{\"bottom\":{\"value\":0},\"fill_color\":{\"value\":\"#0276FD\"},\"left\":{\"field\":\"left\"},\"line_color\":{\"value\":\"#5F5B5B\"},\"right\":{\"field\":\"right\"},\"top\":{\"field\":\"top\"}},\"id\":\"867b373d-22dd-4772-87d3-aebd87fbe8b4\",\"type\":\"Quad\"},{\"attributes\":{},\"id\":\"4993cf9a-9179-4e34-b1a6-4e904370ddc0\",\"type\":\"BasicTicker\"},{\"attributes\":{\"active_drag\":\"auto\",\"active_inspect\":\"auto\",\"active_multi\":null,\"active_scroll\":\"auto\",\"active_tap\":\"auto\",\"tools\":[{\"id\":\"1e1190bf-e5d7-4d3e-8b7d-355f68136690\",\"type\":\"PanTool\"},{\"id\":\"e0771cc7-b668-432b-8e48-fa113c44898c\",\"type\":\"WheelZoomTool\"},{\"id\":\"b8887042-60a0-44f7-959b-ec1046c71bd6\",\"type\":\"BoxZoomTool\"},{\"id\":\"50df462c-d884-4711-a103-7777ccb2204d\",\"type\":\"SaveTool\"},{\"id\":\"e51c79f6-138a-4316-97c7-b9e098f2f266\",\"type\":\"ResetTool\"},{\"id\":\"49a16882-0b61-4d21-b396-977b21497107\",\"type\":\"HelpTool\"}]},\"id\":\"d2c926af-88fe-4930-8d79-a8c85fa26462\",\"type\":\"Toolbar\"},{\"attributes\":{\"dimension\":1,\"plot\":{\"id\":\"8316ca61-2d3d-4aa0-90a2-2f95d9a3ec5a\",\"subtype\":\"Figure\",\"type\":\"Plot\"},\"ticker\":{\"id\":\"f2b193f4-8941-4281-83b6-281bcf655058\",\"type\":\"BasicTicker\"}},\"id\":\"a94aafa8-8ecc-4e24-9db6-b2619c72bcdc\",\"type\":\"Grid\"},{\"attributes\":{\"callback\":null},\"id\":\"4c6fa328-50b6-44c9-bd38-7b1299a9698e\",\"type\":\"DataRange1d\"}],\"root_ids\":[\"8316ca61-2d3d-4aa0-90a2-2f95d9a3ec5a\"]},\"title\":\"Bokeh Application\",\"version\":\"0.13.0\"}};\n",
       "  var render_items = [{\"docid\":\"39937018-5cd8-4680-854e-a9bbff599d78\",\"roots\":{\"8316ca61-2d3d-4aa0-90a2-2f95d9a3ec5a\":\"d5a17781-e63c-455f-8f85-765df7cd0df8\"}}];\n",
       "  root.Bokeh.embed.embed_items_notebook(docs_json, render_items);\n",
       "\n",
       "  }\n",
       "  if (root.Bokeh !== undefined) {\n",
       "    embed_document(root);\n",
       "  } else {\n",
       "    var attempts = 0;\n",
       "    var timer = setInterval(function(root) {\n",
       "      if (root.Bokeh !== undefined) {\n",
       "        embed_document(root);\n",
       "        clearInterval(timer);\n",
       "      }\n",
       "      attempts++;\n",
       "      if (attempts > 100) {\n",
       "        console.log(\"Bokeh: ERROR: Unable to run BokehJS code because BokehJS library is missing\")\n",
       "        clearInterval(timer);\n",
       "      }\n",
       "    }, 10, root)\n",
       "  }\n",
       "})(window);"
      ],
      "application/vnd.bokehjs_exec.v0+json": ""
     },
     "metadata": {
      "application/vnd.bokehjs_exec.v0+json": {
       "id": "8316ca61-2d3d-4aa0-90a2-2f95d9a3ec5a"
      }
     },
     "output_type": "display_data"
    }
   ],
   "source": [
    "# Plot histogram\n",
    "p = figure(plot_height=300, title=\"City area\",\n",
    "           x_axis_label='City area bins'+ ' [km' + (u\"\\u00b2]\").encode('utf-8'), y_axis_label='Count [#]')\n",
    "p.quad(top=list(hist), bottom=0, left=list(range(0,len(bin_edges)))[:-1], right=list(range(0,len(bin_edges)))[1:],\n",
    "       fill_color = \"#0276FD\", line_color = \"#5F5B5B\", alpha=1)\n",
    "\n",
    "p.xaxis.ticker = list(range(0,len(bin_edges)))\n",
    "p.xaxis.major_label_orientation = 3.14/4\n",
    "p.xaxis.major_label_overrides = {el:\"{:,}\".format((bin_edges[el]/100)).replace(',',' ') if (bin_edges[el]/100) < 1 else \"{:,}\".format(int(bin_edges[el]/100)).replace(',',' ') for el in range(0,len(bin_edges))}\n",
    "p.title.text_font_size = '12pt'\n",
    "p.title.text_color = \"#0276FD\"\n",
    "p.title.text_font = \"verdana\"\n",
    "p.yaxis.axis_label_text_font = \"verdana\"\n",
    "p.yaxis.axis_label_text_font_style = \"normal\"\n",
    "p.xaxis.axis_label_text_font = \"verdana\"\n",
    "p.xaxis.axis_label_text_font_style = \"normal\"\n",
    "p.xaxis.major_label_text_font = \"verdana\"\n",
    "p.yaxis.major_label_text_font = \"verdana\"\n",
    "show(p)"
   ]
  },
  {
   "cell_type": "markdown",
   "metadata": {},
   "source": [
    "36% de villes ont un territoire compris entre 10 et 20 km$^2$ et 19% des villes ont une surface comprises entre 20 et 30 km$^2$. Une seule ville a un territoire inférieur a 1km$^2$."
   ]
  },
  {
   "cell_type": "code",
   "execution_count": 13,
   "metadata": {},
   "outputs": [
    {
     "data": {
      "text/plain": [
       "19"
      ]
     },
     "execution_count": 13,
     "metadata": {},
     "output_type": "execute_result"
    }
   ],
   "source": [
    "CityAreaBinPercentage = [int(round(list(hist)[x]/NumberOfCity*100)) for x in range(0,len(hist))]\n",
    "CityAreaBinPercentage[15]"
   ]
  },
  {
   "cell_type": "markdown",
   "metadata": {},
   "source": [
    "### 3.3.2. Population cumulative distribution"
   ]
  },
  {
   "cell_type": "code",
   "execution_count": 14,
   "metadata": {},
   "outputs": [
    {
     "data": {
      "text/html": [
       "\n",
       "\n",
       "\n",
       "\n",
       "\n",
       "\n",
       "  <div class=\"bk-root\" id=\"92609bfa-74d2-44e1-baf3-1e54b67b800a\"></div>\n"
      ]
     },
     "metadata": {},
     "output_type": "display_data"
    },
    {
     "data": {
      "application/javascript": [
       "(function(root) {\n",
       "  function embed_document(root) {\n",
       "    \n",
       "  var docs_json = {\"b6dde546-c31b-43c5-b385-4b8131f1e608\":{\"roots\":{\"references\":[{\"attributes\":{\"callback\":null,\"data\":{\"x\":[0,1,2,3,4,5,6,7,8,9,10,11,12,13,14,15,16,17,18,19,20,21,22,23,24],\"y\":[0,0.002898550724637681,0.002898550724637681,0.002898550724637681,0.002898550724637681,0.002898550724637681,0.005797101449275362,0.02318840579710145,0.04927536231884058,0.07536231884057971,0.09855072463768116,0.13043478260869565,0.17681159420289855,0.21739130434782608,0.26956521739130435,0.6318840579710145,0.8202898550724638,0.9101449275362319,0.9565217391304348,0.9768115942028985,0.9855072463768116,0.9942028985507246,0.9942028985507246,0.9971014492753624,1.0]},\"selected\":{\"id\":\"e080bafb-aad1-4029-b342-0d307970da3e\",\"type\":\"Selection\"},\"selection_policy\":{\"id\":\"f6e4541a-5c02-42bf-a4fd-259c342a09b7\",\"type\":\"UnionRenderers\"}},\"id\":\"a344e13f-145d-404f-85e2-83ad890f8ac7\",\"type\":\"ColumnDataSource\"},{\"attributes\":{},\"id\":\"b91eacff-bbb5-4e1e-980f-8d8b19881960\",\"type\":\"SaveTool\"},{\"attributes\":{\"axis_label\":\"Percentile [%ile]\",\"axis_label_text_font\":\"verdana\",\"axis_label_text_font_style\":\"normal\",\"formatter\":{\"id\":\"4f62a510-d265-42fc-adb7-8b9542233711\",\"type\":\"BasicTickFormatter\"},\"major_label_text_font\":\"verdana\",\"plot\":{\"id\":\"a9154eda-ac9a-431a-8119-52930aad306c\",\"subtype\":\"Figure\",\"type\":\"Plot\"},\"ticker\":{\"id\":\"db037f1d-cbcf-415d-a982-129933055c67\",\"type\":\"BasicTicker\"}},\"id\":\"7cfff49b-2ec1-482f-ba71-04465b4bdc53\",\"type\":\"LinearAxis\"},{\"attributes\":{},\"id\":\"b3ac0fc0-3545-4fbc-add9-b5b01aff83f3\",\"type\":\"WheelZoomTool\"},{\"attributes\":{},\"id\":\"4f62a510-d265-42fc-adb7-8b9542233711\",\"type\":\"BasicTickFormatter\"},{\"attributes\":{\"below\":[{\"id\":\"dd809003-7c07-426a-b3f8-ad104aaccf10\",\"type\":\"LinearAxis\"}],\"left\":[{\"id\":\"7cfff49b-2ec1-482f-ba71-04465b4bdc53\",\"type\":\"LinearAxis\"}],\"plot_height\":300,\"renderers\":[{\"id\":\"dd809003-7c07-426a-b3f8-ad104aaccf10\",\"type\":\"LinearAxis\"},{\"id\":\"53f5add8-1d0f-4c89-8f88-62444436727d\",\"type\":\"Grid\"},{\"id\":\"7cfff49b-2ec1-482f-ba71-04465b4bdc53\",\"type\":\"LinearAxis\"},{\"id\":\"67d7f74c-fbbb-4c73-bd3d-2c948b2926b0\",\"type\":\"Grid\"},{\"id\":\"053bb153-5cfb-4241-9eb1-6a40e3d76abc\",\"type\":\"BoxAnnotation\"},{\"id\":\"47306f45-710c-4ed4-865e-43454cbf2e33\",\"type\":\"GlyphRenderer\"}],\"title\":{\"id\":\"2077bbb8-2a55-40dd-845a-a6367366ef89\",\"type\":\"Title\"},\"toolbar\":{\"id\":\"b7b12597-5c62-45cd-85b4-946ad78b0d88\",\"type\":\"Toolbar\"},\"x_range\":{\"id\":\"fae9bcec-9b66-45c0-8e7d-1f9bcffb6caa\",\"type\":\"DataRange1d\"},\"x_scale\":{\"id\":\"f820824f-139c-4777-9378-d42ed99cb026\",\"type\":\"LinearScale\"},\"y_range\":{\"id\":\"74977116-662e-40ee-b4a4-2a834787dc53\",\"type\":\"DataRange1d\"},\"y_scale\":{\"id\":\"0e511cf8-5604-4438-9cd2-ebfe69b41594\",\"type\":\"LinearScale\"}},\"id\":\"a9154eda-ac9a-431a-8119-52930aad306c\",\"subtype\":\"Figure\",\"type\":\"Plot\"},{\"attributes\":{\"source\":{\"id\":\"a344e13f-145d-404f-85e2-83ad890f8ac7\",\"type\":\"ColumnDataSource\"}},\"id\":\"d0364361-2544-48cb-a192-5e206b769c4a\",\"type\":\"CDSView\"},{\"attributes\":{},\"id\":\"0e511cf8-5604-4438-9cd2-ebfe69b41594\",\"type\":\"LinearScale\"},{\"attributes\":{},\"id\":\"f6e4541a-5c02-42bf-a4fd-259c342a09b7\",\"type\":\"UnionRenderers\"},{\"attributes\":{},\"id\":\"519454b5-0e67-4082-aa55-6a093ae8ac87\",\"type\":\"ResetTool\"},{\"attributes\":{\"dimension\":1,\"plot\":{\"id\":\"a9154eda-ac9a-431a-8119-52930aad306c\",\"subtype\":\"Figure\",\"type\":\"Plot\"},\"ticker\":{\"id\":\"db037f1d-cbcf-415d-a982-129933055c67\",\"type\":\"BasicTicker\"}},\"id\":\"67d7f74c-fbbb-4c73-bd3d-2c948b2926b0\",\"type\":\"Grid\"},{\"attributes\":{\"callback\":null},\"id\":\"fae9bcec-9b66-45c0-8e7d-1f9bcffb6caa\",\"type\":\"DataRange1d\"},{\"attributes\":{},\"id\":\"443f1d74-0fe0-430e-a7c7-15e21b14cbd8\",\"type\":\"BasicTickFormatter\"},{\"attributes\":{\"overlay\":{\"id\":\"053bb153-5cfb-4241-9eb1-6a40e3d76abc\",\"type\":\"BoxAnnotation\"}},\"id\":\"da7d0a8d-d576-4e31-8751-e1cbe1942627\",\"type\":\"BoxZoomTool\"},{\"attributes\":{\"callback\":null},\"id\":\"74977116-662e-40ee-b4a4-2a834787dc53\",\"type\":\"DataRange1d\"},{\"attributes\":{\"plot\":null,\"text\":\"City area distribution\",\"text_color\":{\"value\":\"#0276FD\"},\"text_font\":\"verdana\",\"text_font_size\":{\"value\":\"12pt\"}},\"id\":\"2077bbb8-2a55-40dd-845a-a6367366ef89\",\"type\":\"Title\"},{\"attributes\":{\"line_color\":{\"value\":\"#0276FD\"},\"line_width\":{\"value\":2},\"x\":{\"field\":\"x\"},\"y\":{\"field\":\"y\"}},\"id\":\"2dbb912d-0983-4c76-b98a-8349ce6c225d\",\"type\":\"Step\"},{\"attributes\":{\"axis_label\":\"City area bins\",\"axis_label_text_font\":\"verdana\",\"axis_label_text_font_style\":\"normal\",\"formatter\":{\"id\":\"443f1d74-0fe0-430e-a7c7-15e21b14cbd8\",\"type\":\"BasicTickFormatter\"},\"major_label_orientation\":0.785,\"major_label_overrides\":{\"0\":\"0.5\",\"1\":\"0.6\",\"10\":\"6\",\"11\":\"7\",\"12\":\"8\",\"13\":\"9\",\"14\":\"10\",\"15\":\"20\",\"16\":\"30\",\"17\":\"40\",\"18\":\"50\",\"19\":\"60\",\"2\":\"0.7\",\"20\":\"70\",\"21\":\"80\",\"22\":\"90\",\"23\":\"100\",\"24\":\"200\",\"3\":\"0.8\",\"4\":\"0.9\",\"5\":\"1\",\"6\":\"2\",\"7\":\"3\",\"8\":\"4\",\"9\":\"5\"},\"major_label_text_font\":\"verdana\",\"plot\":{\"id\":\"a9154eda-ac9a-431a-8119-52930aad306c\",\"subtype\":\"Figure\",\"type\":\"Plot\"},\"ticker\":{\"id\":\"8c474e4a-fcd8-4f8a-a7d9-7ab1ecf1f457\",\"type\":\"FixedTicker\"}},\"id\":\"dd809003-7c07-426a-b3f8-ad104aaccf10\",\"type\":\"LinearAxis\"},{\"attributes\":{},\"id\":\"f820824f-139c-4777-9378-d42ed99cb026\",\"type\":\"LinearScale\"},{\"attributes\":{\"data_source\":{\"id\":\"a344e13f-145d-404f-85e2-83ad890f8ac7\",\"type\":\"ColumnDataSource\"},\"glyph\":{\"id\":\"2dbb912d-0983-4c76-b98a-8349ce6c225d\",\"type\":\"Step\"},\"hover_glyph\":null,\"muted_glyph\":null,\"nonselection_glyph\":{\"id\":\"6da8af6b-f952-49d5-82c9-77fff8b38ecc\",\"type\":\"Step\"},\"selection_glyph\":null,\"view\":{\"id\":\"d0364361-2544-48cb-a192-5e206b769c4a\",\"type\":\"CDSView\"}},\"id\":\"47306f45-710c-4ed4-865e-43454cbf2e33\",\"type\":\"GlyphRenderer\"},{\"attributes\":{},\"id\":\"fdfd9f28-16d1-4f78-b4ad-e830ff71aa16\",\"type\":\"BasicTicker\"},{\"attributes\":{},\"id\":\"e080bafb-aad1-4029-b342-0d307970da3e\",\"type\":\"Selection\"},{\"attributes\":{},\"id\":\"717c653a-1874-4137-96c2-a7ffdbaf97d9\",\"type\":\"PanTool\"},{\"attributes\":{},\"id\":\"394dd937-68ad-4660-baad-7833a368bb71\",\"type\":\"HelpTool\"},{\"attributes\":{\"line_alpha\":{\"value\":0.1},\"line_color\":{\"value\":\"#1f77b4\"},\"line_width\":{\"value\":2},\"x\":{\"field\":\"x\"},\"y\":{\"field\":\"y\"}},\"id\":\"6da8af6b-f952-49d5-82c9-77fff8b38ecc\",\"type\":\"Step\"},{\"attributes\":{},\"id\":\"db037f1d-cbcf-415d-a982-129933055c67\",\"type\":\"BasicTicker\"},{\"attributes\":{\"ticks\":[0,1,2,3,4,5,6,7,8,9,10,11,12,13,14,15,16,17,18,19,20,21,22,23,24]},\"id\":\"8c474e4a-fcd8-4f8a-a7d9-7ab1ecf1f457\",\"type\":\"FixedTicker\"},{\"attributes\":{\"plot\":{\"id\":\"a9154eda-ac9a-431a-8119-52930aad306c\",\"subtype\":\"Figure\",\"type\":\"Plot\"},\"ticker\":{\"id\":\"fdfd9f28-16d1-4f78-b4ad-e830ff71aa16\",\"type\":\"BasicTicker\"}},\"id\":\"53f5add8-1d0f-4c89-8f88-62444436727d\",\"type\":\"Grid\"},{\"attributes\":{\"bottom_units\":\"screen\",\"fill_alpha\":{\"value\":0.5},\"fill_color\":{\"value\":\"lightgrey\"},\"left_units\":\"screen\",\"level\":\"overlay\",\"line_alpha\":{\"value\":1.0},\"line_color\":{\"value\":\"black\"},\"line_dash\":[4,4],\"line_width\":{\"value\":2},\"plot\":null,\"render_mode\":\"css\",\"right_units\":\"screen\",\"top_units\":\"screen\"},\"id\":\"053bb153-5cfb-4241-9eb1-6a40e3d76abc\",\"type\":\"BoxAnnotation\"},{\"attributes\":{\"active_drag\":\"auto\",\"active_inspect\":\"auto\",\"active_multi\":null,\"active_scroll\":\"auto\",\"active_tap\":\"auto\",\"tools\":[{\"id\":\"717c653a-1874-4137-96c2-a7ffdbaf97d9\",\"type\":\"PanTool\"},{\"id\":\"b3ac0fc0-3545-4fbc-add9-b5b01aff83f3\",\"type\":\"WheelZoomTool\"},{\"id\":\"da7d0a8d-d576-4e31-8751-e1cbe1942627\",\"type\":\"BoxZoomTool\"},{\"id\":\"b91eacff-bbb5-4e1e-980f-8d8b19881960\",\"type\":\"SaveTool\"},{\"id\":\"519454b5-0e67-4082-aa55-6a093ae8ac87\",\"type\":\"ResetTool\"},{\"id\":\"394dd937-68ad-4660-baad-7833a368bb71\",\"type\":\"HelpTool\"}]},\"id\":\"b7b12597-5c62-45cd-85b4-946ad78b0d88\",\"type\":\"Toolbar\"}],\"root_ids\":[\"a9154eda-ac9a-431a-8119-52930aad306c\"]},\"title\":\"Bokeh Application\",\"version\":\"0.13.0\"}};\n",
       "  var render_items = [{\"docid\":\"b6dde546-c31b-43c5-b385-4b8131f1e608\",\"roots\":{\"a9154eda-ac9a-431a-8119-52930aad306c\":\"92609bfa-74d2-44e1-baf3-1e54b67b800a\"}}];\n",
       "  root.Bokeh.embed.embed_items_notebook(docs_json, render_items);\n",
       "\n",
       "  }\n",
       "  if (root.Bokeh !== undefined) {\n",
       "    embed_document(root);\n",
       "  } else {\n",
       "    var attempts = 0;\n",
       "    var timer = setInterval(function(root) {\n",
       "      if (root.Bokeh !== undefined) {\n",
       "        embed_document(root);\n",
       "        clearInterval(timer);\n",
       "      }\n",
       "      attempts++;\n",
       "      if (attempts > 100) {\n",
       "        console.log(\"Bokeh: ERROR: Unable to run BokehJS code because BokehJS library is missing\")\n",
       "        clearInterval(timer);\n",
       "      }\n",
       "    }, 10, root)\n",
       "  }\n",
       "})(window);"
      ],
      "application/vnd.bokehjs_exec.v0+json": ""
     },
     "metadata": {
      "application/vnd.bokehjs_exec.v0+json": {
       "id": "a9154eda-ac9a-431a-8119-52930aad306c"
      }
     },
     "output_type": "display_data"
    }
   ],
   "source": [
    "#Plot cumulative distribution\n",
    "p = figure(plot_height=300, title=\"City area distribution\",\n",
    "           x_axis_label='City area bins', y_axis_label='Percentile [%ile]')\n",
    "p.step(list(range(0,len(bin_edges))),[0]+[list(np.cumsum(hist))[x]/NumberOfCity for x in range(0,len(hist))],\n",
    "       line_color=\"#0276FD\",line_width=2)\n",
    "\n",
    "p.xaxis.ticker = list(range(0,len(bin_edges)))\n",
    "p.xaxis.major_label_orientation = 3.14/4\n",
    "p.xaxis.major_label_overrides = {el:\"{:,}\".format((bin_edges[el]/100)).replace(',',' ') if (bin_edges[el]/100) < 1 else \"{:,}\".format(int(bin_edges[el]/100)).replace(',',' ') for el in range(0,len(bin_edges))}\n",
    "\n",
    "p.title.text_font_size = '12pt'\n",
    "p.title.text_color = \"#0276FD\"\n",
    "p.title.text_font = \"verdana\"\n",
    "p.yaxis.axis_label_text_font = \"verdana\"\n",
    "p.yaxis.axis_label_text_font_style = \"normal\"\n",
    "p.xaxis.axis_label_text_font = \"verdana\"\n",
    "p.xaxis.axis_label_text_font_style = \"normal\"\n",
    "p.xaxis.major_label_text_font = \"verdana\"\n",
    "p.yaxis.major_label_text_font = \"verdana\"\n",
    "\n",
    "show(p)"
   ]
  },
  {
   "cell_type": "markdown",
   "metadata": {
    "collapsed": true
   },
   "source": [
    "27% des villes ont un territoire inférieur ou égal a 10km$^2$. 63% des villes ont un territoire inférieur ou égal a 20km$^2$. Un peu moins de 10% des villes ont un territoire supérieur a 30km$^2$. Environ 2% des villes ont un territoire inferieur a 1km$^2$ ou supérieur a 70km$^2$."
   ]
  },
  {
   "cell_type": "code",
   "execution_count": 15,
   "metadata": {},
   "outputs": [
    {
     "data": {
      "text/plain": [
       "63"
      ]
     },
     "execution_count": 15,
     "metadata": {},
     "output_type": "execute_result"
    }
   ],
   "source": [
    "CityAreaBinDistributionPercentage = [int(round(list(np.cumsum(hist))[x]/NumberOfCity*100)) for x in range(0,len(hist))]\n",
    "CityAreaBinDistributionPercentage[14]"
   ]
  },
  {
   "cell_type": "markdown",
   "metadata": {},
   "source": [
    "## 3.4. Population density basic analysis"
   ]
  },
  {
   "cell_type": "markdown",
   "metadata": {
    "collapsed": true
   },
   "source": [
    "Not done yet, it should provides same analysis as population and area"
   ]
  },
  {
   "cell_type": "code",
   "execution_count": 16,
   "metadata": {},
   "outputs": [
    {
     "name": "stdout",
     "output_type": "stream",
     "text": [
      "Densité totale: 149 pop/km²\n",
      "Densité moyenne: 155 pop/km²\n",
      "Densité mediane: 74 pop/km²\n",
      "Densité la plus faible: 14 pop/km²\n",
      "Densité la plus élevée: 4195 pop/km²\n"
     ]
    }
   ],
   "source": [
    "#Statistics about area\n",
    "TotalDensity = int(TotalPopulation/TotalArea) # pop/km2\n",
    "AverageDensity = int(np.mean(AllDensityList)) # Densité moyenne \n",
    "MedianDensity = int(np.median(AllDensityList)) # Densité mediane\n",
    "MinDensity = int(np.min(AllDensityList)) # Densité la plus faible\n",
    "MaxDensity = int(np.max(AllDensityList)) # Densité la plus élevée\n",
    "\n",
    "print 'Densité totale: ' + str(TotalDensity) + ' pop/km' + (u\"\\u00b2\").encode('utf-8') \n",
    "print 'Densité moyenne: '+ str(AverageDensity) + ' pop/km' + (u\"\\u00b2\").encode('utf-8') \n",
    "print 'Densité mediane: '+ str(MedianDensity) + ' pop/km' + (u\"\\u00b2\").encode('utf-8') \n",
    "print 'Densité la plus faible: '+ str(MinDensity) + ' pop/km' + (u\"\\u00b2\").encode('utf-8') #+ ' (' + str(list(mydb[CollectionName].find({'surface': MinDensity},{'nom':1,'_id':0}))[0]['nom'].encode('utf-8')) + ')'\n",
    "print 'Densité la plus élevée: '+ str(MaxDensity) + ' pop/km' + (u\"\\u00b2\").encode('utf-8') # + ' (' + str(list(mydb[CollectionName].find({'surface': MaxDensity},{'nom':1,'_id':0}))[0]['nom'].encode('utf-8')) + ')'"
   ]
  },
  {
   "cell_type": "markdown",
   "metadata": {},
   "source": [
    "## 3.5. Population density analysis"
   ]
  },
  {
   "cell_type": "markdown",
   "metadata": {},
   "source": [
    "**Purpose:** highlight that cities around big city have a higher population and population density"
   ]
  },
  {
   "cell_type": "markdown",
   "metadata": {},
   "source": [
    "### 3.5.1. Prepare the data"
   ]
  },
  {
   "cell_type": "code",
   "execution_count": 17,
   "metadata": {
    "collapsed": true
   },
   "outputs": [],
   "source": [
    "# Get most populated city info\n",
    "MostPopCityIndex = np.argmax(AllPopulationList)\n",
    "# Calculate distance to main city\n",
    "ListDistance = list()\n",
    "for CurrentCity in range(0,NumberOfCity):\n",
    "    ListDistance.append(Fcn_BasicStatisticalAnalysisOfPopulation.DistanceCoordToKm(QueryMongo[MostPopCityIndex]['centre']['coordinates'][1],QueryMongo[MostPopCityIndex]['centre']['coordinates'][0],QueryMongo[CurrentCity]['centre']['coordinates'][1],QueryMongo[CurrentCity]['centre']['coordinates'][0]))"
   ]
  },
  {
   "cell_type": "markdown",
   "metadata": {},
   "source": [
    "### 3.5.2. Scatter plot - Population vs distance to most populated city"
   ]
  },
  {
   "cell_type": "code",
   "execution_count": 18,
   "metadata": {},
   "outputs": [
    {
     "data": {
      "text/html": [
       "\n",
       "\n",
       "\n",
       "\n",
       "\n",
       "\n",
       "  <div class=\"bk-root\" id=\"60a280ec-4598-4064-adb5-69c239cda179\"></div>\n"
      ]
     },
     "metadata": {},
     "output_type": "display_data"
    },
    {
     "data": {
      "application/javascript": [
       "(function(root) {\n",
       "  function embed_document(root) {\n",
       "    \n",
       "  var docs_json = {\"985e2f51-4bd1-4cd1-80c4-64a399f67352\":{\"roots\":{\"references\":[{\"attributes\":{\"axis_label\":\"Population\",\"axis_label_text_font\":\"verdana\",\"axis_label_text_font_style\":\"normal\",\"formatter\":{\"id\":\"53260ede-afb1-4c9f-8f1a-d37ea7da6a91\",\"type\":\"BasicTickFormatter\"},\"major_label_text_font\":\"verdana\",\"plot\":{\"id\":\"3a419585-cbd4-4cb4-b00d-b315d43372f0\",\"subtype\":\"Figure\",\"type\":\"Plot\"},\"ticker\":{\"id\":\"ea8082ec-18c9-482c-a1b5-1550f3ced219\",\"type\":\"BasicTicker\"}},\"id\":\"62141481-3e74-4856-93c3-368b02d98e08\",\"type\":\"LinearAxis\"},{\"attributes\":{\"active_drag\":\"auto\",\"active_inspect\":\"auto\",\"active_multi\":null,\"active_scroll\":\"auto\",\"active_tap\":\"auto\",\"tools\":[{\"id\":\"8d7575b7-cc8c-4b0c-ae6c-bc2c86410814\",\"type\":\"PanTool\"},{\"id\":\"83e3ea67-9693-4802-b9ba-a7072703f968\",\"type\":\"WheelZoomTool\"},{\"id\":\"bfdfb458-0820-4252-9eef-edade7a1ceb6\",\"type\":\"BoxZoomTool\"},{\"id\":\"8d06e15e-9c12-4031-8191-7ddfed696623\",\"type\":\"SaveTool\"},{\"id\":\"ffa29ae1-ac5a-4576-94f6-7a7fb62185b9\",\"type\":\"ResetTool\"},{\"id\":\"e6520996-7d4b-496a-b15a-0ea2cd20d80b\",\"type\":\"HelpTool\"}]},\"id\":\"912d90b1-749a-44e0-aaa0-74bf85e96bf8\",\"type\":\"Toolbar\"},{\"attributes\":{},\"id\":\"ffa29ae1-ac5a-4576-94f6-7a7fb62185b9\",\"type\":\"ResetTool\"},{\"attributes\":{},\"id\":\"e15c19ec-ccb7-43cd-86c3-411ee6e2d571\",\"type\":\"LinearScale\"},{\"attributes\":{},\"id\":\"8d06e15e-9c12-4031-8191-7ddfed696623\",\"type\":\"SaveTool\"},{\"attributes\":{},\"id\":\"45c920bc-16d9-42fa-afd6-bf3ea5501c26\",\"type\":\"BasicTicker\"},{\"attributes\":{},\"id\":\"15de9dbc-47db-4504-a9b0-d82bd9d921a1\",\"type\":\"BasicTickFormatter\"},{\"attributes\":{\"fill_alpha\":{\"value\":0.1},\"fill_color\":{\"value\":\"#1f77b4\"},\"line_alpha\":{\"value\":0.1},\"line_color\":{\"value\":\"#1f77b4\"},\"x\":{\"field\":\"x\"},\"y\":{\"field\":\"y\"}},\"id\":\"a77c4f15-1c93-4eb9-a533-be8d09961524\",\"type\":\"Circle\"},{\"attributes\":{},\"id\":\"8d7575b7-cc8c-4b0c-ae6c-bc2c86410814\",\"type\":\"PanTool\"},{\"attributes\":{\"below\":[{\"id\":\"d42d985e-5557-4aba-8398-556f9903c5c6\",\"type\":\"LinearAxis\"}],\"left\":[{\"id\":\"62141481-3e74-4856-93c3-368b02d98e08\",\"type\":\"LinearAxis\"}],\"plot_height\":300,\"renderers\":[{\"id\":\"d42d985e-5557-4aba-8398-556f9903c5c6\",\"type\":\"LinearAxis\"},{\"id\":\"877bb00b-124a-4063-9b75-7e84c9e53854\",\"type\":\"Grid\"},{\"id\":\"62141481-3e74-4856-93c3-368b02d98e08\",\"type\":\"LinearAxis\"},{\"id\":\"d935ae01-0d25-41e8-a19b-02a355da7b0f\",\"type\":\"Grid\"},{\"id\":\"b1e72a04-42d4-4b85-89d4-f1de38937d61\",\"type\":\"BoxAnnotation\"},{\"id\":\"fdcdb022-0b99-4a4c-8998-99bb2cf9d284\",\"type\":\"GlyphRenderer\"}],\"title\":{\"id\":\"2b921271-4e58-4c9c-aff1-aef5a58a305a\",\"type\":\"Title\"},\"toolbar\":{\"id\":\"912d90b1-749a-44e0-aaa0-74bf85e96bf8\",\"type\":\"Toolbar\"},\"x_range\":{\"id\":\"50c452d2-5310-4e50-b279-6eefd16d834a\",\"type\":\"DataRange1d\"},\"x_scale\":{\"id\":\"e15c19ec-ccb7-43cd-86c3-411ee6e2d571\",\"type\":\"LinearScale\"},\"y_range\":{\"id\":\"47fe296c-df50-4503-89e9-4db73b40e8e1\",\"type\":\"DataRange1d\"},\"y_scale\":{\"id\":\"25233248-4b66-4478-8d91-38a1af58c44a\",\"type\":\"LinearScale\"}},\"id\":\"3a419585-cbd4-4cb4-b00d-b315d43372f0\",\"subtype\":\"Figure\",\"type\":\"Plot\"},{\"attributes\":{},\"id\":\"19d1f69a-14f3-4538-b448-e24c954889f8\",\"type\":\"Selection\"},{\"attributes\":{\"plot\":{\"id\":\"3a419585-cbd4-4cb4-b00d-b315d43372f0\",\"subtype\":\"Figure\",\"type\":\"Plot\"},\"ticker\":{\"id\":\"45c920bc-16d9-42fa-afd6-bf3ea5501c26\",\"type\":\"BasicTicker\"}},\"id\":\"877bb00b-124a-4063-9b75-7e84c9e53854\",\"type\":\"Grid\"},{\"attributes\":{\"overlay\":{\"id\":\"b1e72a04-42d4-4b85-89d4-f1de38937d61\",\"type\":\"BoxAnnotation\"}},\"id\":\"bfdfb458-0820-4252-9eef-edade7a1ceb6\",\"type\":\"BoxZoomTool\"},{\"attributes\":{\"plot\":null,\"text\":\"City population vs distance to most populated city\",\"text_color\":{\"value\":\"#0276FD\"},\"text_font\":\"verdana\",\"text_font_size\":{\"value\":\"12pt\"}},\"id\":\"2b921271-4e58-4c9c-aff1-aef5a58a305a\",\"type\":\"Title\"},{\"attributes\":{\"callback\":null,\"data\":{\"x\":[12.612759467970378,18.90024724954432,21.88348989420762,41.78984281358517,35.48382667756784,40.9688065078059,21.292930100952542,40.26304077149455,43.69309199164935,48.152533155179256,35.75313900708646,29.841216230730588,52.91517715203559,30.101072871279385,37.87598983979263,22.246402619097527,27.578951058055985,56.628911196993755,37.33665695399745,22.39150834241537,46.708779397318565,28.32849669803807,21.944364750423127,8.248999381241765,37.93977690692342,32.26371937744204,30.465918051820875,25.71827947419575,40.71270677256807,28.076146989036907,20.079428829930233,14.70804843175192,20.846905189474192,45.02405362604746,26.677701913630198,49.27329426105397,16.242318205812555,45.98071643443597,14.471397072062343,17.255031304929542,20.195934368907775,44.99524997400674,20.457851236544034,40.58194706573598,40.397174055813835,37.50130786558702,10.559792922242156,33.62571862705697,65.96705183595627,24.972161625114577,6.680117974535684,28.282078985120283,24.818179207837215,17.706519995110718,6.090760439036574,32.058634077557194,26.34067022655436,22.043761955569938,8.35368187572326,26.0117073598036,43.62171415991805,50.53500451169813,34.84202629197804,13.028640148123996,7.712676366116555,16.376715343394718,16.37268366110785,53.13973894003427,47.51354477126803,40.094786419201505,6.812836413625823,20.717159366751094,33.87745387737081,9.975890115041345,43.00605051045415,53.89870515892685,13.385776184838209,15.15618970945928,14.95673908744066,32.732026333840636,44.96843162489416,40.34808237859109,33.028745550311925,34.93724760016238,27.587946136819763,16.362530760719945,27.97075254899629,20.24108565946345,36.615069042118314,36.50911121188655,64.09506730273895,26.394414299891928,47.35909416368055,34.71746880677616,39.015686453340614,11.117434591039812,42.971484119278934,24.14198781309758,38.99988828281511,44.73090247950624,43.49334718195211,41.6102761987022,32.80928394170679,19.842570828497422,25.755306274712634,34.917914362305595,24.553502062432774,50.954930338278146,50.349652858436414,41.50311830231763,40.381985889413244,44.27632585617003,55.02457089136518,41.37194730347569,21.87048221069132,42.88801327854979,14.083165940144356,22.05420819270911,57.1986582950794,16.71975227072418,42.32014926154868,37.671118162745515,18.89475866653936,23.505822993648533,20.00107743105653,33.59905198055634,10.241662812333445,54.96955726577447,26.188720364887033,24.652770955070192,25.05568768402425,22.790055413008762,41.548348358975126,48.98310039545722,16.518638384090313,30.996166404332282,29.77210945651492,51.61880090949824,28.756765161525415,18.76044293618646,44.26278137192342,18.73232757794931,39.888836475962805,31.053108394910442,20.97986203961661,43.91431300004403,34.486583542921714,18.355095896669486,52.57164960516572,27.73543462584776,30.347464252536763,29.13139626043785,54.941834270704376,36.91511585577354,35.64819603446906,26.415152403259565,58.54145724355888,45.05605128390977,30.1460968331568,30.160836880855992,24.672138336283883,40.34174685004083,28.87728322493007,32.169199970842264,32.71562283514727,35.66733134675045,12.26013890220118,55.38992120401544,31.05063853186007,12.52706061266996,27.94443878042254,47.6983086782573,26.09822993452107,57.18336695877464,7.9970101380351055,43.9683198366219,29.626541908734254,43.127570993694924,51.93203989035352,23.26682936513989,20.890209300278915,5.717765212975302,58.50783813952679,37.165231668321155,15.088502322132944,33.047745615537615,21.82007568963148,12.263898988603646,13.453436550706028,26.126834402386564,36.67766861114597,38.25304907327849,35.52938327335913,36.141055708112845,22.71063141373112,12.671388320921876,34.06690879693137,13.019201970203982,14.047033561896143,8.815958054991503,37.50714494437691,25.37413358665829,64.71345953116503,40.34928561822756,50.1752137468296,13.993823266780412,47.0798237595547,20.984173473196694,38.1025444826953,22.1590830143857,26.68267265769736,46.888615034935526,32.74386948975581,47.7752261838845,38.72757451908721,34.97599594226945,17.471040470943752,59.529377083270184,30.8038566625492,50.687153686376625,23.226850673004297,45.223140501777785,29.351469573061305,37.522904754012146,40.39369408153815,58.52991007806554,48.3396412966264,33.56717278603596,61.58932418266667,32.572266225226045,40.037232730648924,32.96808968818244,19.54892595237798,48.55199606398884,52.78558744849058,50.09689999000238,42.710297665861376,13.146492454152739,17.25967623805534,28.724905840785095,25.22385993798401,57.417159545145694,66.06160479951896,40.770470318169004,24.675677560127497,51.369701034439515,35.32522989820462,30.903157393586152,29.449427573991144,66.32412709234745,24.08112339876133,32.08376052823934,10.39864614322999,41.320806538736804,32.97569851234634,52.293248390670215,55.54096417584405,39.7985116098115,44.10779691710571,15.904150418464727,13.480168245847624,20.598363853321978,29.66247841090706,5.316976320821598,54.53158932468894,34.2059151463352,5.237839451309785,29.620310461985117,25.715423810956047,58.570807540976006,44.562134326511796,30.873617015157546,65.34395168634865,28.812687231315177,31.57250018737193,52.85344243002804,35.29766993575421,31.70445137300385,51.889033836443915,31.359226106498504,17.536240602695568,39.19059314483358,60.68542877844294,42.99524772380201,31.437269034957126,35.803571447218964,42.11357550831163,30.786223870369607,29.241829624653295,55.98841692328208,29.186459841538515,41.696682609737024,30.739633111675694,37.72789356279571,38.91095839113888,23.096280409050877,55.41616284025507,13.856195517353932,37.980064452140276,20.85546942876375,31.21736665709106,20.966102197223087,27.15847792089452,22.87072811642963,24.35493267490144,45.690231272982416,42.18824561566239,28.068911568333977,16.332719401929296,46.81969852868014,45.10890030759796,33.564016466595554,18.28513235233368,36.17727929577044,28.81943413113246,8.336330881134774,33.42847056538647,32.653543121691555,25.989324180003894,30.878930674379614,42.34386214029859,26.02513299541363,38.281343619520705,36.82760137362773,28.04444762128635,43.88221635462419,33.92214087122414,31.01796822954709,29.390130215458335,34.303742874040815,32.516359611143685,18.50463078944395,8.391115151986325,5.510966883886349,44.15600558790436,28.824434763620246,17.21933264195738,51.57891097445356,52.70712352102551,32.87450390927275,36.42177019216168,54.460859545110125,44.33278807894072,10.748575436155207],\"y\":[6282,1616,837,1366,290,4273,487,689,1621,1578,304,7512,3402,2235,2246,2094,640,1110,1818,2099,1299,722,4058,10608,1038,107,1585,673,1446,629,4121,3737,3234,1135,595,970,5510,663,2051,3460,850,705,6513,386,852,496,16855,3813,5208,543,16784,476,304,1788,10410,832,1366,1249,4673,942,655,1429,426,1945,7395,1489,9182,1540,389,1719,6783,2267,827,3681,346,1141,1958,2186,718,1462,2339,714,5765,601,943,3176,508,2588,542,800,9839,1667,5469,1964,1307,2879,583,1108,539,397,1401,1672,1517,1750,1122,2577,926,708,1025,547,275,20170,2308,1637,1374,882,4843,1913,1718,4417,2417,4277,8095,3644,1698,6735,4042,1350,4454,272,2169,8232,2003,1135,4951,601,683,1267,970,922,1459,596,988,149,1504,3058,783,7164,324,1669,657,623,678,340,246,1728,3435,1306,797,973,1095,2619,1422,590,1836,1767,5913,664,1029,4510,1622,3783,744,1410,7940,806,5019,262,1136,1316,6483,3243,264,241,1928,1029,2209,7168,1212,695,321,952,884,959,347,2831,392,5590,4102,11044,1637,1154,44919,645,1314,1508,1416,899,3672,2381,2692,1960,3691,2497,749,1773,3132,6399,1247,385,1140,374,1553,1185,1121,9114,974,4088,2312,341,2296,304,3762,1323,1026,492,992,1848,3393,917,3601,1049,1965,4666,348,1132,577,222,316,2614,1919,2472,2662,410,667,375,1613,891,2024,877,4125,527,345,8989,1052,1016,11783,1122,1112,2569,1097,243,2287,1056,608,464,1329,560,2299,568,1345,4541,3852,1375,530,1184,805,1303,382,2232,1005,2769,847,1491,516,1776,958,1412,788,623,825,2045,514,711,998,585,154,2559,3545,2105,663,1029,2465,1059,1706,7770,736,169,3372,1150,537,1283,1551,355,1246,340,896,190,2547,395,784,1464,7957,4901,319,1131,1796,323,1125,801,17463,1036,1131,3905]},\"selected\":{\"id\":\"19d1f69a-14f3-4538-b448-e24c954889f8\",\"type\":\"Selection\"},\"selection_policy\":{\"id\":\"ebb35b30-8db0-46fe-ac26-6584825238fa\",\"type\":\"UnionRenderers\"}},\"id\":\"e3a7ddc9-8f00-4cf1-be6b-f64cba86f3e8\",\"type\":\"ColumnDataSource\"},{\"attributes\":{\"data_source\":{\"id\":\"e3a7ddc9-8f00-4cf1-be6b-f64cba86f3e8\",\"type\":\"ColumnDataSource\"},\"glyph\":{\"id\":\"0fa64d5b-6d14-4862-bbca-8623940e830b\",\"type\":\"Circle\"},\"hover_glyph\":null,\"muted_glyph\":null,\"nonselection_glyph\":{\"id\":\"a77c4f15-1c93-4eb9-a533-be8d09961524\",\"type\":\"Circle\"},\"selection_glyph\":null,\"view\":{\"id\":\"3d3afea9-0585-4d49-a084-36f71ab7450f\",\"type\":\"CDSView\"}},\"id\":\"fdcdb022-0b99-4a4c-8998-99bb2cf9d284\",\"type\":\"GlyphRenderer\"},{\"attributes\":{},\"id\":\"83e3ea67-9693-4802-b9ba-a7072703f968\",\"type\":\"WheelZoomTool\"},{\"attributes\":{\"callback\":null},\"id\":\"50c452d2-5310-4e50-b279-6eefd16d834a\",\"type\":\"DataRange1d\"},{\"attributes\":{\"axis_label\":\"Distance to the most populated city [km]\",\"axis_label_text_font\":\"verdana\",\"axis_label_text_font_style\":\"normal\",\"formatter\":{\"id\":\"15de9dbc-47db-4504-a9b0-d82bd9d921a1\",\"type\":\"BasicTickFormatter\"},\"major_label_text_font\":\"verdana\",\"plot\":{\"id\":\"3a419585-cbd4-4cb4-b00d-b315d43372f0\",\"subtype\":\"Figure\",\"type\":\"Plot\"},\"ticker\":{\"id\":\"45c920bc-16d9-42fa-afd6-bf3ea5501c26\",\"type\":\"BasicTicker\"}},\"id\":\"d42d985e-5557-4aba-8398-556f9903c5c6\",\"type\":\"LinearAxis\"},{\"attributes\":{\"dimension\":1,\"plot\":{\"id\":\"3a419585-cbd4-4cb4-b00d-b315d43372f0\",\"subtype\":\"Figure\",\"type\":\"Plot\"},\"ticker\":{\"id\":\"ea8082ec-18c9-482c-a1b5-1550f3ced219\",\"type\":\"BasicTicker\"}},\"id\":\"d935ae01-0d25-41e8-a19b-02a355da7b0f\",\"type\":\"Grid\"},{\"attributes\":{},\"id\":\"25233248-4b66-4478-8d91-38a1af58c44a\",\"type\":\"LinearScale\"},{\"attributes\":{},\"id\":\"ebb35b30-8db0-46fe-ac26-6584825238fa\",\"type\":\"UnionRenderers\"},{\"attributes\":{},\"id\":\"53260ede-afb1-4c9f-8f1a-d37ea7da6a91\",\"type\":\"BasicTickFormatter\"},{\"attributes\":{\"fill_color\":{\"value\":\"#0276FD\"},\"line_color\":{\"value\":\"#0276FD\"},\"x\":{\"field\":\"x\"},\"y\":{\"field\":\"y\"}},\"id\":\"0fa64d5b-6d14-4862-bbca-8623940e830b\",\"type\":\"Circle\"},{\"attributes\":{\"bottom_units\":\"screen\",\"fill_alpha\":{\"value\":0.5},\"fill_color\":{\"value\":\"lightgrey\"},\"left_units\":\"screen\",\"level\":\"overlay\",\"line_alpha\":{\"value\":1.0},\"line_color\":{\"value\":\"black\"},\"line_dash\":[4,4],\"line_width\":{\"value\":2},\"plot\":null,\"render_mode\":\"css\",\"right_units\":\"screen\",\"top_units\":\"screen\"},\"id\":\"b1e72a04-42d4-4b85-89d4-f1de38937d61\",\"type\":\"BoxAnnotation\"},{\"attributes\":{\"source\":{\"id\":\"e3a7ddc9-8f00-4cf1-be6b-f64cba86f3e8\",\"type\":\"ColumnDataSource\"}},\"id\":\"3d3afea9-0585-4d49-a084-36f71ab7450f\",\"type\":\"CDSView\"},{\"attributes\":{\"callback\":null},\"id\":\"47fe296c-df50-4503-89e9-4db73b40e8e1\",\"type\":\"DataRange1d\"},{\"attributes\":{},\"id\":\"e6520996-7d4b-496a-b15a-0ea2cd20d80b\",\"type\":\"HelpTool\"},{\"attributes\":{},\"id\":\"ea8082ec-18c9-482c-a1b5-1550f3ced219\",\"type\":\"BasicTicker\"}],\"root_ids\":[\"3a419585-cbd4-4cb4-b00d-b315d43372f0\"]},\"title\":\"Bokeh Application\",\"version\":\"0.13.0\"}};\n",
       "  var render_items = [{\"docid\":\"985e2f51-4bd1-4cd1-80c4-64a399f67352\",\"roots\":{\"3a419585-cbd4-4cb4-b00d-b315d43372f0\":\"60a280ec-4598-4064-adb5-69c239cda179\"}}];\n",
       "  root.Bokeh.embed.embed_items_notebook(docs_json, render_items);\n",
       "\n",
       "  }\n",
       "  if (root.Bokeh !== undefined) {\n",
       "    embed_document(root);\n",
       "  } else {\n",
       "    var attempts = 0;\n",
       "    var timer = setInterval(function(root) {\n",
       "      if (root.Bokeh !== undefined) {\n",
       "        embed_document(root);\n",
       "        clearInterval(timer);\n",
       "      }\n",
       "      attempts++;\n",
       "      if (attempts > 100) {\n",
       "        console.log(\"Bokeh: ERROR: Unable to run BokehJS code because BokehJS library is missing\")\n",
       "        clearInterval(timer);\n",
       "      }\n",
       "    }, 10, root)\n",
       "  }\n",
       "})(window);"
      ],
      "application/vnd.bokehjs_exec.v0+json": ""
     },
     "metadata": {
      "application/vnd.bokehjs_exec.v0+json": {
       "id": "3a419585-cbd4-4cb4-b00d-b315d43372f0"
      }
     },
     "output_type": "display_data"
    }
   ],
   "source": [
    "p = figure(plot_height=300, title=\"City population vs distance to most populated city\",\n",
    "           x_axis_label='Distance to the most populated city [km]', y_axis_label='Population')\n",
    "p.circle([ListDistance[i] for i in range(0,NumberOfCity) if ListDistance[i]>0],[AllPopulationList[i] for i in range(0,NumberOfCity) if AllPopulationList[i]<>AllPopulationList[MostPopCityIndex]],\n",
    "        color=\"#0276FD\")\n",
    "\n",
    "p.title.text_font_size = '12pt'\n",
    "p.title.text_color = \"#0276FD\"\n",
    "p.title.text_font = \"verdana\"\n",
    "p.yaxis.axis_label_text_font = \"verdana\"\n",
    "p.yaxis.axis_label_text_font_style = \"normal\"\n",
    "p.xaxis.axis_label_text_font = \"verdana\"\n",
    "p.xaxis.axis_label_text_font_style = \"normal\"\n",
    "p.xaxis.major_label_text_font = \"verdana\"\n",
    "p.yaxis.major_label_text_font = \"verdana\"\n",
    "\n",
    "show(p)"
   ]
  },
  {
   "cell_type": "markdown",
   "metadata": {},
   "source": [
    "Difficile de mettre en lumiere une tendance. Répéter la meme méthode avec la densité de population"
   ]
  },
  {
   "cell_type": "markdown",
   "metadata": {},
   "source": [
    "### 3.5.3. Scatter plot - Density population vs distance to most populated city"
   ]
  },
  {
   "cell_type": "code",
   "execution_count": 19,
   "metadata": {
    "collapsed": true
   },
   "outputs": [],
   "source": [
    "# Create the density list\n",
    "# ListDensity = np.array(AllPopulationList)/np.array(AllAreaList)*100"
   ]
  },
  {
   "cell_type": "code",
   "execution_count": 20,
   "metadata": {},
   "outputs": [
    {
     "data": {
      "text/html": [
       "\n",
       "\n",
       "\n",
       "\n",
       "\n",
       "\n",
       "  <div class=\"bk-root\" id=\"2acbff71-286c-4e85-876c-04b528462ff1\"></div>\n"
      ]
     },
     "metadata": {},
     "output_type": "display_data"
    },
    {
     "data": {
      "application/javascript": [
       "(function(root) {\n",
       "  function embed_document(root) {\n",
       "    \n",
       "  var docs_json = {\"42f057e0-fd63-4c31-86a1-4f899da1f751\":{\"roots\":{\"references\":[{\"attributes\":{\"active_drag\":\"auto\",\"active_inspect\":\"auto\",\"active_multi\":null,\"active_scroll\":\"auto\",\"active_tap\":\"auto\",\"tools\":[{\"id\":\"cdcb4aab-83be-44ac-afe4-ca99be01ef07\",\"type\":\"PanTool\"},{\"id\":\"2a3ccf07-3a0e-4de3-b0a4-758ae2deca9d\",\"type\":\"WheelZoomTool\"},{\"id\":\"0ba49f51-8d18-448f-b638-f07410e1304c\",\"type\":\"BoxZoomTool\"},{\"id\":\"a0642065-9e80-4cd7-8285-f8d669d5fa49\",\"type\":\"SaveTool\"},{\"id\":\"35a43844-0ec2-4961-b712-fe7c0c106962\",\"type\":\"ResetTool\"},{\"id\":\"86154bbd-9a68-4514-9c4b-a01e895ba3df\",\"type\":\"HelpTool\"}]},\"id\":\"582d20f5-0c69-4c9a-90be-b6c39b018718\",\"type\":\"Toolbar\"},{\"attributes\":{},\"id\":\"57582221-0ede-4bd0-9880-cd608ec0f88e\",\"type\":\"LinearScale\"},{\"attributes\":{\"dimension\":1,\"plot\":{\"id\":\"ba360765-0c14-40c3-b01b-ee1848fbfc14\",\"subtype\":\"Figure\",\"type\":\"Plot\"},\"ticker\":{\"id\":\"f30114cc-ba9e-4f45-b1bd-21b7b945b3a0\",\"type\":\"BasicTicker\"}},\"id\":\"b5b42a52-71b2-4986-8110-55c9a15de9cf\",\"type\":\"Grid\"},{\"attributes\":{\"axis_label\":\"Population density\",\"axis_label_text_font\":\"verdana\",\"axis_label_text_font_style\":\"normal\",\"formatter\":{\"id\":\"4f467178-b3f7-408d-a3de-400f0744d133\",\"type\":\"BasicTickFormatter\"},\"major_label_text_font\":\"verdana\",\"plot\":{\"id\":\"ba360765-0c14-40c3-b01b-ee1848fbfc14\",\"subtype\":\"Figure\",\"type\":\"Plot\"},\"ticker\":{\"id\":\"f30114cc-ba9e-4f45-b1bd-21b7b945b3a0\",\"type\":\"BasicTicker\"}},\"id\":\"2f2bdaf4-e8a9-42b5-b88e-4d094f7f5b68\",\"type\":\"LinearAxis\"},{\"attributes\":{},\"id\":\"35a43844-0ec2-4961-b712-fe7c0c106962\",\"type\":\"ResetTool\"},{\"attributes\":{\"axis_label\":\"Distance to the most populated city [km]\",\"axis_label_text_font\":\"verdana\",\"axis_label_text_font_style\":\"normal\",\"formatter\":{\"id\":\"44fc82d1-b082-48dc-b2a7-3569b610f475\",\"type\":\"BasicTickFormatter\"},\"major_label_text_font\":\"verdana\",\"plot\":{\"id\":\"ba360765-0c14-40c3-b01b-ee1848fbfc14\",\"subtype\":\"Figure\",\"type\":\"Plot\"},\"ticker\":{\"id\":\"4b2a57ce-dc39-43a2-b57d-21896daf9273\",\"type\":\"BasicTicker\"}},\"id\":\"9e78d963-d1a9-4629-8076-73b1ff162bfc\",\"type\":\"LinearAxis\"},{\"attributes\":{\"source\":{\"id\":\"56cdb166-3db8-4147-b048-bb645bb18ace\",\"type\":\"ColumnDataSource\"}},\"id\":\"1a6a27a0-0e34-478a-ad3f-469abd285f83\",\"type\":\"CDSView\"},{\"attributes\":{\"plot\":null,\"text\":\"City density population vs distance to most populated city\",\"text_color\":{\"value\":\"#0276FD\"},\"text_font\":\"verdana\",\"text_font_size\":{\"value\":\"12pt\"}},\"id\":\"79a10cf3-0660-4d8f-926c-b832af6a35c0\",\"type\":\"Title\"},{\"attributes\":{\"callback\":null},\"id\":\"f8ff33d1-665d-4379-b4e4-30cc5150a107\",\"type\":\"DataRange1d\"},{\"attributes\":{},\"id\":\"4f467178-b3f7-408d-a3de-400f0744d133\",\"type\":\"BasicTickFormatter\"},{\"attributes\":{},\"id\":\"86154bbd-9a68-4514-9c4b-a01e895ba3df\",\"type\":\"HelpTool\"},{\"attributes\":{\"overlay\":{\"id\":\"0a4e3ba7-ad99-4aac-bbdf-efab8dc7427e\",\"type\":\"BoxAnnotation\"}},\"id\":\"0ba49f51-8d18-448f-b638-f07410e1304c\",\"type\":\"BoxZoomTool\"},{\"attributes\":{\"data_source\":{\"id\":\"56cdb166-3db8-4147-b048-bb645bb18ace\",\"type\":\"ColumnDataSource\"},\"glyph\":{\"id\":\"bda500cb-0ebb-4be2-9ab4-3522c885ca87\",\"type\":\"Circle\"},\"hover_glyph\":null,\"muted_glyph\":null,\"nonselection_glyph\":{\"id\":\"b8106e92-6a6c-44fe-a0c7-7fd828bea110\",\"type\":\"Circle\"},\"selection_glyph\":null,\"view\":{\"id\":\"1a6a27a0-0e34-478a-ad3f-469abd285f83\",\"type\":\"CDSView\"}},\"id\":\"c219e6d6-5e83-415a-80f3-893d9b934415\",\"type\":\"GlyphRenderer\"},{\"attributes\":{},\"id\":\"2a3ccf07-3a0e-4de3-b0a4-758ae2deca9d\",\"type\":\"WheelZoomTool\"},{\"attributes\":{},\"id\":\"f30114cc-ba9e-4f45-b1bd-21b7b945b3a0\",\"type\":\"BasicTicker\"},{\"attributes\":{\"callback\":null,\"data\":{\"x\":[12.612759467970378,18.90024724954432,21.88348989420762,41.78984281358517,35.48382667756784,40.9688065078059,21.292930100952542,40.26304077149455,43.69309199164935,48.152533155179256,35.75313900708646,29.841216230730588,52.91517715203559,30.101072871279385,37.87598983979263,22.246402619097527,27.578951058055985,56.628911196993755,37.33665695399745,22.39150834241537,46.708779397318565,28.32849669803807,21.944364750423127,8.248999381241765,37.93977690692342,32.26371937744204,30.465918051820875,25.71827947419575,40.71270677256807,28.076146989036907,20.079428829930233,14.70804843175192,20.846905189474192,45.02405362604746,26.677701913630198,49.27329426105397,16.242318205812555,45.98071643443597,14.471397072062343,17.255031304929542,20.195934368907775,44.99524997400674,20.457851236544034,40.58194706573598,40.397174055813835,37.50130786558702,10.559792922242156,33.62571862705697,65.96705183595627,24.972161625114577,6.680117974535684,28.282078985120283,24.818179207837215,17.706519995110718,6.090760439036574,32.058634077557194,26.34067022655436,22.043761955569938,8.35368187572326,26.0117073598036,43.62171415991805,50.53500451169813,34.84202629197804,13.028640148123996,7.712676366116555,16.376715343394718,16.37268366110785,53.13973894003427,47.51354477126803,40.094786419201505,6.812836413625823,20.717159366751094,33.87745387737081,9.975890115041345,43.00605051045415,53.89870515892685,13.385776184838209,15.15618970945928,14.95673908744066,32.732026333840636,44.96843162489416,40.34808237859109,33.028745550311925,34.93724760016238,27.587946136819763,16.362530760719945,27.97075254899629,20.24108565946345,36.615069042118314,36.50911121188655,64.09506730273895,26.394414299891928,47.35909416368055,34.71746880677616,39.015686453340614,11.117434591039812,42.971484119278934,24.14198781309758,38.99988828281511,44.73090247950624,43.49334718195211,41.6102761987022,32.80928394170679,19.842570828497422,25.755306274712634,34.917914362305595,24.553502062432774,50.954930338278146,50.349652858436414,41.50311830231763,40.381985889413244,44.27632585617003,55.02457089136518,41.37194730347569,21.87048221069132,42.88801327854979,14.083165940144356,22.05420819270911,57.1986582950794,16.71975227072418,42.32014926154868,37.671118162745515,18.89475866653936,23.505822993648533,20.00107743105653,33.59905198055634,10.241662812333445,54.96955726577447,26.188720364887033,24.652770955070192,25.05568768402425,22.790055413008762,41.548348358975126,48.98310039545722,16.518638384090313,30.996166404332282,29.77210945651492,51.61880090949824,28.756765161525415,18.76044293618646,44.26278137192342,18.73232757794931,39.888836475962805,31.053108394910442,20.97986203961661,43.91431300004403,34.486583542921714,18.355095896669486,52.57164960516572,27.73543462584776,30.347464252536763,29.13139626043785,54.941834270704376,36.91511585577354,35.64819603446906,26.415152403259565,58.54145724355888,45.05605128390977,30.1460968331568,30.160836880855992,24.672138336283883,40.34174685004083,28.87728322493007,32.169199970842264,32.71562283514727,35.66733134675045,12.26013890220118,55.38992120401544,31.05063853186007,12.52706061266996,27.94443878042254,47.6983086782573,26.09822993452107,57.18336695877464,7.9970101380351055,43.9683198366219,29.626541908734254,43.127570993694924,51.93203989035352,23.26682936513989,20.890209300278915,5.717765212975302,58.50783813952679,37.165231668321155,15.088502322132944,33.047745615537615,21.82007568963148,12.263898988603646,13.453436550706028,26.126834402386564,36.67766861114597,38.25304907327849,35.52938327335913,36.141055708112845,22.71063141373112,12.671388320921876,34.06690879693137,13.019201970203982,14.047033561896143,8.815958054991503,37.50714494437691,25.37413358665829,64.71345953116503,40.34928561822756,50.1752137468296,13.993823266780412,47.0798237595547,20.984173473196694,38.1025444826953,22.1590830143857,26.68267265769736,46.888615034935526,32.74386948975581,47.7752261838845,38.72757451908721,34.97599594226945,17.471040470943752,59.529377083270184,30.8038566625492,50.687153686376625,23.226850673004297,45.223140501777785,29.351469573061305,37.522904754012146,40.39369408153815,58.52991007806554,48.3396412966264,33.56717278603596,61.58932418266667,32.572266225226045,40.037232730648924,32.96808968818244,19.54892595237798,48.55199606398884,52.78558744849058,50.09689999000238,42.710297665861376,13.146492454152739,17.25967623805534,28.724905840785095,25.22385993798401,57.417159545145694,66.06160479951896,40.770470318169004,24.675677560127497,51.369701034439515,35.32522989820462,30.903157393586152,29.449427573991144,66.32412709234745,24.08112339876133,32.08376052823934,10.39864614322999,41.320806538736804,32.97569851234634,52.293248390670215,55.54096417584405,39.7985116098115,44.10779691710571,15.904150418464727,13.480168245847624,20.598363853321978,29.66247841090706,5.316976320821598,54.53158932468894,34.2059151463352,5.237839451309785,29.620310461985117,25.715423810956047,58.570807540976006,44.562134326511796,30.873617015157546,65.34395168634865,28.812687231315177,31.57250018737193,52.85344243002804,35.29766993575421,31.70445137300385,51.889033836443915,31.359226106498504,17.536240602695568,39.19059314483358,60.68542877844294,42.99524772380201,31.437269034957126,35.803571447218964,42.11357550831163,30.786223870369607,29.241829624653295,55.98841692328208,29.186459841538515,41.696682609737024,30.739633111675694,37.72789356279571,38.91095839113888,23.096280409050877,55.41616284025507,13.856195517353932,37.980064452140276,20.85546942876375,31.21736665709106,20.966102197223087,27.15847792089452,22.87072811642963,24.35493267490144,45.690231272982416,42.18824561566239,28.068911568333977,16.332719401929296,46.81969852868014,45.10890030759796,33.564016466595554,18.28513235233368,36.17727929577044,28.81943413113246,8.336330881134774,33.42847056538647,32.653543121691555,25.989324180003894,30.878930674379614,42.34386214029859,26.02513299541363,38.281343619520705,36.82760137362773,28.04444762128635,43.88221635462419,33.92214087122414,31.01796822954709,29.390130215458335,34.303742874040815,32.516359611143685,18.50463078944395,8.391115151986325,5.510966883886349,44.15600558790436,28.824434763620246,17.21933264195738,51.57891097445356,52.70712352102551,32.87450390927275,36.42177019216168,54.460859545110125,44.33278807894072,10.748575436155207],\"y\":[208.0132450331126,63.22378716744914,66.11374407582939,145.01061571125265,61.833688699360344,103.1378228336954,219.36936936936937,61.462979482604815,66.35284486287351,98.01242236024845,57.250470809792844,113.68038740920096,75.65043362241495,63.06433408577878,61.51739249520679,82.9635499207607,65.57377049180327,44.205495818399044,31.39354170264203,142.5951086956522,154.45897740784778,1289.2857142857142,102.57836198179979,396.11650485436894,60.98707403055229,31.94029850746269,78.50421000495295,51.96911196911197,59.90057995028998,59.28369462770971,82.60172379234315,252.6707234617985,137.6756066411239,51.80282975810132,40.72553045859001,54.43322109988776,162.24970553592462,114.70588235294117,283.28729281767954,231.9034852546917,61.90823015294975,61.197916666666664,225.285368384642,29.92248062015504,40.09411764705882,41.47157190635451,562.771285475793,49.726134585289515,393.9485627836611,74.07912687585267,522.0528771384137,45.76923076923077,58.01526717557252,99.4991652754591,869.6741854636592,129.19254658385094,65.95847416706904,84.44895199459094,534.6681922196797,89.03591682419659,54.85762144053601,53.004451038575674,42.943548387096776,250.3217503217503,743.2160804020101,154.6209761163032,387.91719476130123,1107.9136690647483,28.66617538688283,53.50140056022409,255.76923076923075,77.55730413958261,46.12381483547128,292.8400954653938,30.404217926186295,89.2103205629398,188.26923076923077,255.67251461988306,166.97674418604652,61.66174609869254,56.81321350497935,41.0580793559517,90.04998437988128,64.6236559139785,74.96025437201908,138.75054608999565,42.439431913116124,304.47058823529414,85.89540412044374,33.655868742111906,1258.1841432225065,31.18802619270346,352.6112185686654,58.80239520958084,40.20301445709013,156.21269669017906,59.2479674796748,79.59770114942529,46.186803770351325,23.7866986219293,57.277187244480785,46.743080793961425,38.62016293279022,110.479797979798,47.66355140186916,92.23335719398712,45.481335952848724,40.78341013824885,56.56732891832229,44.43541835905768,44.86133768352366,1933.8446788111216,160.05547850208043,30.898452246130613,54.610492845786965,47.59848893685915,174.5225225225225,103.4613304488913,195.00567536889898,110.23209383578738,43.65968208092485,366.18150684931504,187.993497445425,68.47049981210071,66.7715296893433,72.96858071505959,584.9493487698987,135.678391959799,59.38666666666666,60.310421286031044,91.75126903553299,197.74201297141485,108.2117774176121,75.21537442014579,154.57383702778645,38.774193548387096,131.85328185328186,44.801980198019805,67.26768377253815,118.66151866151866,39.950711938663744,83.70786516853933,152.23420647149462,36.88118811881188,152.69035532994923,275.2475247524752,46.33136094674556,107.66456266907123,85.03937007874016,62.50936329588015,124.90494296577947,81.8659658344284,59.36952714535902,46.76753782668501,33.744855967078195,110.55662188099808,81.22487585717664,44.39157036029911,35.51693404634581,47.37098344693281,96.47577092511013,34.906037584966015,35.43483678046349,36.44224830142063,51.83512140033879,54.185832566697336,181.82656826568265,41.89274447949527,61.068249258160236,274.4978697504565,64.36507936507937,119.26229508196722,54.62555066079295,358.77862595419845,414.8380355276907,157.72994129158513,115.77854671280276,37.91606367583213,42.96520423600605,76.33410672853829,460.7675906183369,691.4712153518124,31.654676258992804,25.529661016949152,209.56521739130434,64.03235843186062,144.47351209941138,237.58700696055683,144.80286738351253,45.45454545454545,93.58600583090379,53.214086081609835,30.170648464163826,41.389728096676734,123.92857142857143,145.70252187339165,26.063829787234045,179.05188981422165,243.2977461447212,315.1826484018265,14.793059822880897,58.578680203045685,1174.0460010454783,37.5,65.30815109343936,309.016393442623,32.48451479697178,99.11797133406836,74.4223753546818,64.75387544193636,74.24158852730281,60.03062787136294,73.8791032826261,123.24777887462982,66.93476318141197,71.2620578778135,159.0655154900965,221.03626943005185,83.35561497326202,35.28872593950504,120.12644889357217,30.357142857142854,74.27068388330942,44.265969368696304,21.27134724857685,597.639344262295,37.07651313285116,97.28700618752974,724.7648902821317,25.353159851301115,84.84848484848484,42.10526315789473,130.08298755186723,73.2152739346984,39.416058394160586,47.262247838616716,34.4683808200139,235.1145038167939,144.50596252129472,88.85658914728683,130.37653874004346,352.0134228187919,239.34226552984165,117.97724399494311,42.38733252131547,46.81555004135649,62.37837837837837,67.6829268292683,40.879689521345405,143.70533260032985,134.57223001402525,156.35673624288424,243.77289377289378,28.893587033121914,56.19208087615838,30.662305805396567,51.10899873257287,78.02101576182136,62.29609110495537,224.29667519181584,196.7095851216023,117.89709172259508,37.33766233766234,513.9508290451687,161.84615384615384,55.008121277747705,954.8622366288492,60.550458715596335,102.86771507863091,274.75935828877004,39.164584077115315,43.238434163701065,217.3954372623574,56.17021276595745,37.392373923739235,59.716859716859716,75.08474576271186,45.639771801140995,91.77644710578844,66.58851113716295,72.93926247288503,244.7978436657682,132.18943033630748,44.19800707168113,211.15537848605578,47.569304941743674,37.65201122544434,84.44588464031109,40.72494669509595,118.91315929675012,82.98926507018992,93.01310043668121,57.307171853856566,78.93065113816834,54.66101694915254,97.04918032786885,203.82978723404256,209.1851851851852,69.48853615520282,78.26633165829145,71.18205349439172,112.92103810049696,73.85057471264368,67.01225259189444,116.86182669789227,68.10244470314319,70.96774193548387,82.15088282504013,229.89623865110244,48.77201112140871,46.13778705636743,78.48970251716247,113.75173050299954,39.827002632568636,69.51915240423799,570.4845814977974,29.91869918699187,44.9468085106383,143.73401534526855,80.3633822501747,35.53937789543349,67.13762428048142,42.5047958344752,56.891025641025635,48.4636328276935,65.13409961685824,73.38247338247338,52.92479108635098,55.85526315789474,60.86286594761171,70.18800358102058,207.36543909348444,399.44779116465867,619.5954487989886,35.682326621923934,52.26432532347505,125.85844428871759,29.660238751147844,250.55679287305122,49.50556242274413,451.2403100775193,464.57399103139016,99.12357581069237,445.2679589509693]},\"selected\":{\"id\":\"88d9d71d-30d3-4929-b2f9-aac6659d78cd\",\"type\":\"Selection\"},\"selection_policy\":{\"id\":\"432a7a2a-e811-47c9-ad78-fb282647b32b\",\"type\":\"UnionRenderers\"}},\"id\":\"56cdb166-3db8-4147-b048-bb645bb18ace\",\"type\":\"ColumnDataSource\"},{\"attributes\":{},\"id\":\"432a7a2a-e811-47c9-ad78-fb282647b32b\",\"type\":\"UnionRenderers\"},{\"attributes\":{\"plot\":{\"id\":\"ba360765-0c14-40c3-b01b-ee1848fbfc14\",\"subtype\":\"Figure\",\"type\":\"Plot\"},\"ticker\":{\"id\":\"4b2a57ce-dc39-43a2-b57d-21896daf9273\",\"type\":\"BasicTicker\"}},\"id\":\"6cd87688-b839-4fb7-b35a-0de2070a2955\",\"type\":\"Grid\"},{\"attributes\":{},\"id\":\"88d9d71d-30d3-4929-b2f9-aac6659d78cd\",\"type\":\"Selection\"},{\"attributes\":{},\"id\":\"cdcb4aab-83be-44ac-afe4-ca99be01ef07\",\"type\":\"PanTool\"},{\"attributes\":{\"fill_alpha\":{\"value\":0.1},\"fill_color\":{\"value\":\"#1f77b4\"},\"line_alpha\":{\"value\":0.1},\"line_color\":{\"value\":\"#1f77b4\"},\"x\":{\"field\":\"x\"},\"y\":{\"field\":\"y\"}},\"id\":\"b8106e92-6a6c-44fe-a0c7-7fd828bea110\",\"type\":\"Circle\"},{\"attributes\":{\"bottom_units\":\"screen\",\"fill_alpha\":{\"value\":0.5},\"fill_color\":{\"value\":\"lightgrey\"},\"left_units\":\"screen\",\"level\":\"overlay\",\"line_alpha\":{\"value\":1.0},\"line_color\":{\"value\":\"black\"},\"line_dash\":[4,4],\"line_width\":{\"value\":2},\"plot\":null,\"render_mode\":\"css\",\"right_units\":\"screen\",\"top_units\":\"screen\"},\"id\":\"0a4e3ba7-ad99-4aac-bbdf-efab8dc7427e\",\"type\":\"BoxAnnotation\"},{\"attributes\":{},\"id\":\"a0642065-9e80-4cd7-8285-f8d669d5fa49\",\"type\":\"SaveTool\"},{\"attributes\":{\"callback\":null},\"id\":\"1835829e-e8f0-43e1-94dc-1b20a7095cd7\",\"type\":\"DataRange1d\"},{\"attributes\":{\"fill_color\":{\"value\":\"#0276FD\"},\"line_color\":{\"value\":\"#0276FD\"},\"x\":{\"field\":\"x\"},\"y\":{\"field\":\"y\"}},\"id\":\"bda500cb-0ebb-4be2-9ab4-3522c885ca87\",\"type\":\"Circle\"},{\"attributes\":{},\"id\":\"4b2a57ce-dc39-43a2-b57d-21896daf9273\",\"type\":\"BasicTicker\"},{\"attributes\":{},\"id\":\"cd8a75e5-15f1-43bd-80b4-bd3d8ca14cb0\",\"type\":\"LinearScale\"},{\"attributes\":{},\"id\":\"44fc82d1-b082-48dc-b2a7-3569b610f475\",\"type\":\"BasicTickFormatter\"},{\"attributes\":{\"below\":[{\"id\":\"9e78d963-d1a9-4629-8076-73b1ff162bfc\",\"type\":\"LinearAxis\"}],\"left\":[{\"id\":\"2f2bdaf4-e8a9-42b5-b88e-4d094f7f5b68\",\"type\":\"LinearAxis\"}],\"plot_height\":300,\"renderers\":[{\"id\":\"9e78d963-d1a9-4629-8076-73b1ff162bfc\",\"type\":\"LinearAxis\"},{\"id\":\"6cd87688-b839-4fb7-b35a-0de2070a2955\",\"type\":\"Grid\"},{\"id\":\"2f2bdaf4-e8a9-42b5-b88e-4d094f7f5b68\",\"type\":\"LinearAxis\"},{\"id\":\"b5b42a52-71b2-4986-8110-55c9a15de9cf\",\"type\":\"Grid\"},{\"id\":\"0a4e3ba7-ad99-4aac-bbdf-efab8dc7427e\",\"type\":\"BoxAnnotation\"},{\"id\":\"c219e6d6-5e83-415a-80f3-893d9b934415\",\"type\":\"GlyphRenderer\"}],\"title\":{\"id\":\"79a10cf3-0660-4d8f-926c-b832af6a35c0\",\"type\":\"Title\"},\"toolbar\":{\"id\":\"582d20f5-0c69-4c9a-90be-b6c39b018718\",\"type\":\"Toolbar\"},\"x_range\":{\"id\":\"f8ff33d1-665d-4379-b4e4-30cc5150a107\",\"type\":\"DataRange1d\"},\"x_scale\":{\"id\":\"57582221-0ede-4bd0-9880-cd608ec0f88e\",\"type\":\"LinearScale\"},\"y_range\":{\"id\":\"1835829e-e8f0-43e1-94dc-1b20a7095cd7\",\"type\":\"DataRange1d\"},\"y_scale\":{\"id\":\"cd8a75e5-15f1-43bd-80b4-bd3d8ca14cb0\",\"type\":\"LinearScale\"}},\"id\":\"ba360765-0c14-40c3-b01b-ee1848fbfc14\",\"subtype\":\"Figure\",\"type\":\"Plot\"}],\"root_ids\":[\"ba360765-0c14-40c3-b01b-ee1848fbfc14\"]},\"title\":\"Bokeh Application\",\"version\":\"0.13.0\"}};\n",
       "  var render_items = [{\"docid\":\"42f057e0-fd63-4c31-86a1-4f899da1f751\",\"roots\":{\"ba360765-0c14-40c3-b01b-ee1848fbfc14\":\"2acbff71-286c-4e85-876c-04b528462ff1\"}}];\n",
       "  root.Bokeh.embed.embed_items_notebook(docs_json, render_items);\n",
       "\n",
       "  }\n",
       "  if (root.Bokeh !== undefined) {\n",
       "    embed_document(root);\n",
       "  } else {\n",
       "    var attempts = 0;\n",
       "    var timer = setInterval(function(root) {\n",
       "      if (root.Bokeh !== undefined) {\n",
       "        embed_document(root);\n",
       "        clearInterval(timer);\n",
       "      }\n",
       "      attempts++;\n",
       "      if (attempts > 100) {\n",
       "        console.log(\"Bokeh: ERROR: Unable to run BokehJS code because BokehJS library is missing\")\n",
       "        clearInterval(timer);\n",
       "      }\n",
       "    }, 10, root)\n",
       "  }\n",
       "})(window);"
      ],
      "application/vnd.bokehjs_exec.v0+json": ""
     },
     "metadata": {
      "application/vnd.bokehjs_exec.v0+json": {
       "id": "ba360765-0c14-40c3-b01b-ee1848fbfc14"
      }
     },
     "output_type": "display_data"
    }
   ],
   "source": [
    "p = figure(plot_height=300, title=\"City density population vs distance to most populated city\",\n",
    "           x_axis_label='Distance to the most populated city [km]', y_axis_label='Population density')\n",
    "p.circle([ListDistance[i] for i in range(0,NumberOfCity) if AllPopulationList[i]<>AllPopulationList[MostPopCityIndex]],[AllDensityList[i] for i in range(0,NumberOfCity) if AllPopulationList[i]<>AllPopulationList[MostPopCityIndex]],\n",
    "        color=\"#0276FD\")\n",
    "\n",
    "p.title.text_font_size = '12pt'\n",
    "p.title.text_color = \"#0276FD\"\n",
    "p.title.text_font = \"verdana\"\n",
    "p.yaxis.axis_label_text_font = \"verdana\"\n",
    "p.yaxis.axis_label_text_font_style = \"normal\"\n",
    "p.xaxis.axis_label_text_font = \"verdana\"\n",
    "p.xaxis.axis_label_text_font_style = \"normal\"\n",
    "p.xaxis.major_label_text_font = \"verdana\"\n",
    "p.yaxis.major_label_text_font = \"verdana\"\n",
    "\n",
    "show(p)"
   ]
  },
  {
   "cell_type": "markdown",
   "metadata": {},
   "source": [
    "Ce graphe montre que plus une ville est proche, moins de 15km, de la ville la plus peuplée et plus la densité de population est importante. Entre 15km et 50km de distance la densité de population est plutot faible et constante. Au dela de 50 km, la densité de population augmente du fait de l'eloignement de la ville principale, d'autres villes importantes se developpent.\n",
    "\n",
    "**Hypothese:** Autour des principales villes, la densité de population est plus importante puis diminue a mesure que l'on s'eloigne de ce centre urbain puis ré-augmente en s'approchant d'un autre centre urbain"
   ]
  },
  {
   "cell_type": "markdown",
   "metadata": {},
   "source": [
    "### 3.5.4. Investiguer l'hypothese émise"
   ]
  },
  {
   "cell_type": "markdown",
   "metadata": {},
   "source": [
    "**Etape:** \n",
    "- Prendre un exemple avec 2-3 villes pour vérifier si l'hypothese est plausible\n",
    "- Identifier les principales villes\n",
    "- Vérifier que la densité diminue avec l'eloignement d'un centre urbain (prendre 2 villes est observer la tendance qui devrait etre de forme parabolique)\n",
    "- Etablir une relation entre l'éloignement, la densité et la population du centre urbain le plus proche"
   ]
  },
  {
   "cell_type": "code",
   "execution_count": 21,
   "metadata": {
    "collapsed": true
   },
   "outputs": [],
   "source": [
    "# Comment définir une grande ville? La ville la plus peuplée + d'autres (quels criteres? distance entre grande ville? population par rapport a une ville plus peuplé?)\n",
    "# Au moins 2000 habitants -> https://www.larousse.fr/dictionnaires/francais/ville/82000\n",
    "# https://baripedia.org/wiki/Ville_et_Urbanisation\n",
    "# https://www.persee.fr/doc/hism_0982-1783_1987_num_2_2_1312"
   ]
  },
  {
   "cell_type": "code",
   "execution_count": 22,
   "metadata": {
    "collapsed": true
   },
   "outputs": [],
   "source": [
    "# Choose Rennes and Saint-Malo, calculate the distance between those 2 cities [Dist_R-SM].\n",
    "# For all cities calculate the distance to these 2 cities.\n",
    "# Then select only the cities that are between these 2 cities\n",
    "# - Cities within intersection of circles from both cities with radius [Dist_R-SM]\n",
    "# - Cities within [Dist_R-SM]+15km -> Margin part could be changed or used %"
   ]
  },
  {
   "cell_type": "code",
   "execution_count": 23,
   "metadata": {},
   "outputs": [
    {
     "data": {
      "text/html": [
       "<div>\n",
       "<style>\n",
       "    .dataframe thead tr:only-child th {\n",
       "        text-align: right;\n",
       "    }\n",
       "\n",
       "    .dataframe thead th {\n",
       "        text-align: left;\n",
       "    }\n",
       "\n",
       "    .dataframe tbody tr th {\n",
       "        vertical-align: top;\n",
       "    }\n",
       "</style>\n",
       "<table border=\"1\" class=\"dataframe\">\n",
       "  <thead>\n",
       "    <tr style=\"text-align: right;\">\n",
       "      <th></th>\n",
       "      <th>Name</th>\n",
       "      <th>Population</th>\n",
       "      <th>Area</th>\n",
       "      <th>Density</th>\n",
       "      <th>DistToRennes</th>\n",
       "      <th>DistToSaint-Malo</th>\n",
       "    </tr>\n",
       "  </thead>\n",
       "  <tbody>\n",
       "    <tr>\n",
       "      <th>0</th>\n",
       "      <td>Acigné</td>\n",
       "      <td>6282</td>\n",
       "      <td>3020</td>\n",
       "      <td>208.013245</td>\n",
       "      <td>12.612759</td>\n",
       "      <td>67.290686</td>\n",
       "    </tr>\n",
       "    <tr>\n",
       "      <th>1</th>\n",
       "      <td>Amanlis</td>\n",
       "      <td>1616</td>\n",
       "      <td>2556</td>\n",
       "      <td>63.223787</td>\n",
       "      <td>18.900247</td>\n",
       "      <td>82.226049</td>\n",
       "    </tr>\n",
       "    <tr>\n",
       "      <th>2</th>\n",
       "      <td>Andouillé-Neuville</td>\n",
       "      <td>837</td>\n",
       "      <td>1266</td>\n",
       "      <td>66.113744</td>\n",
       "      <td>21.883490</td>\n",
       "      <td>49.618939</td>\n",
       "    </tr>\n",
       "    <tr>\n",
       "      <th>3</th>\n",
       "      <td>Antrain</td>\n",
       "      <td>1366</td>\n",
       "      <td>942</td>\n",
       "      <td>145.010616</td>\n",
       "      <td>41.789843</td>\n",
       "      <td>44.005262</td>\n",
       "    </tr>\n",
       "    <tr>\n",
       "      <th>4</th>\n",
       "      <td>Arbrissel</td>\n",
       "      <td>290</td>\n",
       "      <td>469</td>\n",
       "      <td>61.833689</td>\n",
       "      <td>35.483827</td>\n",
       "      <td>96.394868</td>\n",
       "    </tr>\n",
       "  </tbody>\n",
       "</table>\n",
       "</div>"
      ],
      "text/plain": [
       "                 Name  Population  Area     Density  DistToRennes  \\\n",
       "0              Acigné        6282  3020  208.013245     12.612759   \n",
       "1             Amanlis        1616  2556   63.223787     18.900247   \n",
       "2  Andouillé-Neuville         837  1266   66.113744     21.883490   \n",
       "3             Antrain        1366   942  145.010616     41.789843   \n",
       "4           Arbrissel         290   469   61.833689     35.483827   \n",
       "\n",
       "   DistToSaint-Malo  \n",
       "0         67.290686  \n",
       "1         82.226049  \n",
       "2         49.618939  \n",
       "3         44.005262  \n",
       "4         96.394868  "
      ]
     },
     "execution_count": 23,
     "metadata": {},
     "output_type": "execute_result"
    }
   ],
   "source": [
    "# Create dataframe to make it easier to keep all info in one table\n",
    "df = pd.DataFrame({'Name':AllCityNames,\n",
    "                   'Population':AllPopulationList,\n",
    "                   'Area':AllAreaList,\n",
    "                   'Density':AllDensityList})\n",
    "df = df[['Name','Population','Area','Density']]\n",
    "\n",
    "# Get the index of the two most populated cities\n",
    "TwoLargestCityIndex = list(df.nlargest(2,'Population').index.values)\n",
    "\n",
    "# Add column with distance of each city to the most two populated cities\n",
    "for CurrentMostPopCity in range(0,len(TwoLargestCityIndex)):\n",
    "    # Get index of the two most populated cities\n",
    "    MostPopCityIndex = TwoLargestCityIndex[CurrentMostPopCity]\n",
    "    # Initialise the list containing the distance\n",
    "    globals()['List1_{0}'.format(TwoLargestCityIndex[CurrentMostPopCity])]  = list()\n",
    "    # For loop to calculate the distance between the current city and all the other cities\n",
    "    for CurrentCity in range(0,NumberOfCity):\n",
    "        globals()['List1_{0}'.format(TwoLargestCityIndex[CurrentMostPopCity])].append(Fcn_BasicStatisticalAnalysisOfPopulation.DistanceCoordToKm(QueryMongo[MostPopCityIndex]['centre']['coordinates'][1],QueryMongo[MostPopCityIndex]['centre']['coordinates'][0],QueryMongo[CurrentCity]['centre']['coordinates'][1],QueryMongo[CurrentCity]['centre']['coordinates'][0]))\n",
    "    # Add to the dataframe a column with the distance to the current city\n",
    "    df['DistTo{0}'.format(df['Name'][TwoLargestCityIndex[CurrentMostPopCity]])] = pd.Series(globals()['List1_{0}'.format(TwoLargestCityIndex[CurrentMostPopCity])])\n",
    "\n",
    "# Get distance between the two most populated cities\n",
    "MasterDistance = sum(df['DistToRennes'][TwoLargestCityIndex])\n",
    "\n",
    "df.head()"
   ]
  },
  {
   "cell_type": "markdown",
   "metadata": {},
   "source": [
    "**Methode 1:** Selectionner uniquement les villes se trouvant dans l'intersection des deux cercles de rayon egal a la distance entre les deux villes les plus peuplés et ayant pour centre ces deux villes"
   ]
  },
  {
   "cell_type": "code",
   "execution_count": 24,
   "metadata": {
    "scrolled": true
   },
   "outputs": [
    {
     "data": {
      "text/html": [
       "<div>\n",
       "<style>\n",
       "    .dataframe thead tr:only-child th {\n",
       "        text-align: right;\n",
       "    }\n",
       "\n",
       "    .dataframe thead th {\n",
       "        text-align: left;\n",
       "    }\n",
       "\n",
       "    .dataframe tbody tr th {\n",
       "        vertical-align: top;\n",
       "    }\n",
       "</style>\n",
       "<table border=\"1\" class=\"dataframe\">\n",
       "  <thead>\n",
       "    <tr style=\"text-align: right;\">\n",
       "      <th></th>\n",
       "      <th>Name</th>\n",
       "      <th>Population</th>\n",
       "      <th>Area</th>\n",
       "      <th>Density</th>\n",
       "      <th>DistToRennes</th>\n",
       "      <th>DistToSaint-Malo</th>\n",
       "    </tr>\n",
       "  </thead>\n",
       "  <tbody>\n",
       "    <tr>\n",
       "      <th>2</th>\n",
       "      <td>Andouillé-Neuville</td>\n",
       "      <td>837</td>\n",
       "      <td>1266</td>\n",
       "      <td>66.113744</td>\n",
       "      <td>21.883490</td>\n",
       "      <td>49.618939</td>\n",
       "    </tr>\n",
       "    <tr>\n",
       "      <th>3</th>\n",
       "      <td>Antrain</td>\n",
       "      <td>1366</td>\n",
       "      <td>942</td>\n",
       "      <td>145.010616</td>\n",
       "      <td>41.789843</td>\n",
       "      <td>44.005262</td>\n",
       "    </tr>\n",
       "    <tr>\n",
       "      <th>6</th>\n",
       "      <td>Aubigné</td>\n",
       "      <td>487</td>\n",
       "      <td>222</td>\n",
       "      <td>219.369369</td>\n",
       "      <td>21.292930</td>\n",
       "      <td>47.785542</td>\n",
       "    </tr>\n",
       "    <tr>\n",
       "      <th>8</th>\n",
       "      <td>Baguer-Morvan</td>\n",
       "      <td>1621</td>\n",
       "      <td>2443</td>\n",
       "      <td>66.352845</td>\n",
       "      <td>43.693092</td>\n",
       "      <td>23.974464</td>\n",
       "    </tr>\n",
       "    <tr>\n",
       "      <th>9</th>\n",
       "      <td>Baguer-Pican</td>\n",
       "      <td>1578</td>\n",
       "      <td>1610</td>\n",
       "      <td>98.012422</td>\n",
       "      <td>48.152533</td>\n",
       "      <td>25.965216</td>\n",
       "    </tr>\n",
       "  </tbody>\n",
       "</table>\n",
       "</div>"
      ],
      "text/plain": [
       "                 Name  Population  Area     Density  DistToRennes  \\\n",
       "2  Andouillé-Neuville         837  1266   66.113744     21.883490   \n",
       "3             Antrain        1366   942  145.010616     41.789843   \n",
       "6             Aubigné         487   222  219.369369     21.292930   \n",
       "8       Baguer-Morvan        1621  2443   66.352845     43.693092   \n",
       "9        Baguer-Pican        1578  1610   98.012422     48.152533   \n",
       "\n",
       "   DistToSaint-Malo  \n",
       "2         49.618939  \n",
       "3         44.005262  \n",
       "6         47.785542  \n",
       "8         23.974464  \n",
       "9         25.965216  "
      ]
     },
     "execution_count": 24,
     "metadata": {},
     "output_type": "execute_result"
    }
   ],
   "source": [
    "# Get index of the cities between the two most populated cities\n",
    "df1 = df\n",
    "df1 = df1.drop(TwoLargestCityIndex)\n",
    "df1 = df1[(df1['DistToRennes'] <= MasterDistance) & (df1['DistToSaint-Malo'] <= MasterDistance)]\n",
    "df1.head()"
   ]
  },
  {
   "cell_type": "code",
   "execution_count": 25,
   "metadata": {},
   "outputs": [
    {
     "name": "stdout",
     "output_type": "stream",
     "text": [
      "Number of cities after filter: 170\n"
     ]
    }
   ],
   "source": [
    "print 'Number of cities after filter: ' + str(len(df1))"
   ]
  },
  {
   "cell_type": "code",
   "execution_count": 26,
   "metadata": {},
   "outputs": [
    {
     "data": {
      "text/html": [
       "\n",
       "\n",
       "\n",
       "\n",
       "\n",
       "\n",
       "  <div class=\"bk-root\" id=\"7dfd8d6a-aac6-4be9-a516-bb727b17c1ef\"></div>\n"
      ]
     },
     "metadata": {},
     "output_type": "display_data"
    },
    {
     "data": {
      "application/javascript": [
       "(function(root) {\n",
       "  function embed_document(root) {\n",
       "    \n",
       "  var docs_json = {\"22d67fc0-73a0-4eb6-82aa-ad65d12db66d\":{\"roots\":{\"references\":[{\"attributes\":{},\"id\":\"9d9c965c-1568-41fd-b6cf-e64783513a01\",\"type\":\"SaveTool\"},{\"attributes\":{},\"id\":\"26ca0cfe-6b1f-4224-84a3-e8ad8904d6dd\",\"type\":\"LinearScale\"},{\"attributes\":{\"callback\":null},\"id\":\"41b86b10-0ce0-4dd9-992e-ffe3e8d8c002\",\"type\":\"DataRange1d\"},{\"attributes\":{},\"id\":\"c950fec5-2a08-4d26-9587-ae37d53e6db8\",\"type\":\"PanTool\"},{\"attributes\":{},\"id\":\"1e3b3d4b-c611-418b-88d1-99ad77eb9c36\",\"type\":\"UnionRenderers\"},{\"attributes\":{},\"id\":\"974c7ba1-926f-45db-98c8-28bc4cd64ecd\",\"type\":\"UnionRenderers\"},{\"attributes\":{},\"id\":\"72b4cc01-c098-4812-bb24-1a0cc3a3ed5a\",\"type\":\"ResetTool\"},{\"attributes\":{\"active_drag\":\"auto\",\"active_inspect\":\"auto\",\"active_multi\":null,\"active_scroll\":\"auto\",\"active_tap\":\"auto\",\"tools\":[{\"id\":\"c950fec5-2a08-4d26-9587-ae37d53e6db8\",\"type\":\"PanTool\"},{\"id\":\"0c290c5e-df54-4fa3-844e-161475d9cd29\",\"type\":\"WheelZoomTool\"},{\"id\":\"c1bdd216-3593-444e-a1ed-2e54882fa9bc\",\"type\":\"BoxZoomTool\"},{\"id\":\"9d9c965c-1568-41fd-b6cf-e64783513a01\",\"type\":\"SaveTool\"},{\"id\":\"72b4cc01-c098-4812-bb24-1a0cc3a3ed5a\",\"type\":\"ResetTool\"},{\"id\":\"463e8026-cf6a-4802-8638-008ff6951716\",\"type\":\"HelpTool\"}]},\"id\":\"ba7fc1c9-d022-490a-b129-5963bf57d20f\",\"type\":\"Toolbar\"},{\"attributes\":{\"source\":{\"id\":\"ee1d6a55-9a83-44ad-a915-0b6f9faa8b96\",\"type\":\"ColumnDataSource\"}},\"id\":\"a28d7656-319b-4f36-a366-04cacd0cda15\",\"type\":\"CDSView\"},{\"attributes\":{},\"id\":\"b9d1848d-5b67-4306-b3fe-b70ce23b3100\",\"type\":\"HelpTool\"},{\"attributes\":{},\"id\":\"0c290c5e-df54-4fa3-844e-161475d9cd29\",\"type\":\"WheelZoomTool\"},{\"attributes\":{\"callback\":null},\"id\":\"6a186c26-1660-4af8-85b5-2b1a426f4ba3\",\"type\":\"DataRange1d\"},{\"attributes\":{},\"id\":\"2d6ac89d-888f-4499-894c-4be432a182ad\",\"type\":\"BasicTicker\"},{\"attributes\":{\"plot\":null,\"text\":\"City density population vs distance to most populated city\"},\"id\":\"939d9887-6a76-47c3-9317-eb5e7b90ea70\",\"type\":\"Title\"},{\"attributes\":{\"callback\":null,\"data\":{\"x\":[21.88348989420762,41.78984281358517,21.292930100952542,43.69309199164935,48.152533155179256,35.75313900708646,27.578951058055985,37.33665695399745,22.39150834241537,28.32849669803807,21.944364750423127,8.248999381241765,32.26371937744204,30.465918051820875,40.71270677256807,45.02405362604746,17.255031304929542,40.58194706573598,24.972161625114577,32.058634077557194,22.043761955569938,8.35368187572326,26.0117073598036,34.84202629197804,13.028640148123996,16.376715343394718,53.13973894003427,47.51354477126803,33.87745387737081,53.89870515892685,13.385776184838209,15.15618970945928,14.95673908744066,44.96843162489416,33.028745550311925,36.615069042118314,36.50911121188655,64.09506730273895,26.394414299891928,47.35909416368055,43.49334718195211,19.842570828497422,24.553502062432774,50.954930338278146,41.50311830231763,55.02457089136518,41.37194730347569,21.87048221069132,14.083165940144356,22.05420819270911,57.1986582950794,20.00107743105653,10.241662812333445,54.96955726577447,26.188720364887033,24.652770955070192,25.05568768402425,28.756765161525415,18.76044293618646,18.73232757794931,39.888836475962805,31.053108394910442,18.355095896669486,52.57164960516572,29.13139626043785,36.91511585577354,30.1460968331568,32.71562283514727,35.66733134675045,12.26013890220118,55.38992120401544,12.52706061266996,27.94443878042254,47.6983086782573,26.09822993452107,57.18336695877464,7.9970101380351055,29.626541908734254,51.93203989035352,20.890209300278915,5.717765212975302,58.50783813952679,15.088502322132944,21.82007568963148,12.263898988603646,13.453436550706028,35.52938327335913,22.71063141373112,34.06690879693137,8.815958054991503,13.993823266780412,46.888615034935526,47.7752261838845,38.72757451908721,34.97599594226945,17.471040470943752,59.529377083270184,50.687153686376625,29.351469573061305,37.522904754012146,61.58932418266667,32.572266225226045,32.96808968818244,19.54892595237798,48.55199606398884,52.78558744849058,50.09689999000238,17.25967623805534,25.22385993798401,57.417159545145694,40.770470318169004,24.675677560127497,51.369701034439515,30.903157393586152,32.08376052823934,52.293248390670215,55.54096417584405,44.10779691710571,15.904150418464727,13.480168245847624,20.598363853321978,29.66247841090706,5.316976320821598,54.53158932468894,34.2059151463352,29.620310461985117,58.570807540976006,30.873617015157546,31.57250018737193,52.85344243002804,35.29766993575421,31.70445137300385,31.359226106498504,17.536240602695568,39.19059314483358,60.68542877844294,31.437269034957126,35.803571447218964,42.11357550831163,30.786223870369607,55.98841692328208,29.186459841538515,41.696682609737024,30.739633111675694,37.72789356279571,55.41616284025507,13.856195517353932,20.85546942876375,31.21736665709106,27.15847792089452,28.068911568333977,45.10890030759796,18.28513235233368,8.336330881134774,32.653543121691555,25.989324180003894,42.34386214029859,38.281343619520705,36.82760137362773,43.88221635462419,33.92214087122414,31.01796822954709,5.510966883886349,44.15600558790436,28.824434763620246,17.21933264195738,51.57891097445356,52.70712352102551,54.460859545110125,44.33278807894072],\"y\":[66.11374407582939,145.01061571125265,219.36936936936937,66.35284486287351,98.01242236024845,57.250470809792844,65.57377049180327,31.39354170264203,142.5951086956522,1289.2857142857142,102.57836198179979,396.11650485436894,31.94029850746269,78.50421000495295,59.90057995028998,51.80282975810132,231.9034852546917,29.92248062015504,74.07912687585267,129.19254658385094,84.44895199459094,534.6681922196797,89.03591682419659,42.943548387096776,250.3217503217503,154.6209761163032,1107.9136690647483,28.66617538688283,46.12381483547128,89.2103205629398,188.26923076923077,255.67251461988306,166.97674418604652,56.81321350497935,90.04998437988128,85.89540412044374,33.655868742111906,1258.1841432225065,31.18802619270346,352.6112185686654,57.277187244480785,110.479797979798,45.481335952848724,40.78341013824885,44.43541835905768,160.05547850208043,30.898452246130613,54.610492845786965,174.5225225225225,103.4613304488913,195.00567536889898,66.7715296893433,584.9493487698987,135.678391959799,59.38666666666666,60.310421286031044,91.75126903553299,67.26768377253815,118.66151866151866,83.70786516853933,152.23420647149462,36.88118811881188,107.66456266907123,85.03937007874016,81.8659658344284,46.76753782668501,35.51693404634581,51.83512140033879,54.185832566697336,181.82656826568265,41.89274447949527,274.4978697504565,64.36507936507937,119.26229508196722,54.62555066079295,358.77862595419845,414.8380355276907,115.77854671280276,42.96520423600605,460.7675906183369,691.4712153518124,31.654676258992804,209.56521739130434,144.47351209941138,237.58700696055683,144.80286738351253,30.170648464163826,123.92857142857143,26.063829787234045,315.1826484018265,309.016393442623,60.03062787136294,123.24777887462982,66.93476318141197,71.2620578778135,159.0655154900965,221.03626943005185,35.28872593950504,74.27068388330942,44.265969368696304,724.7648902821317,25.353159851301115,42.10526315789473,130.08298755186723,73.2152739346984,39.416058394160586,47.262247838616716,144.50596252129472,130.37653874004346,352.0134228187919,117.97724399494311,42.38733252131547,46.81555004135649,67.6829268292683,156.35673624288424,30.662305805396567,51.10899873257287,62.29609110495537,224.29667519181584,196.7095851216023,117.89709172259508,37.33766233766234,513.9508290451687,161.84615384615384,55.008121277747705,60.550458715596335,274.75935828877004,43.238434163701065,37.392373923739235,59.716859716859716,75.08474576271186,45.639771801140995,66.58851113716295,72.93926247288503,244.7978436657682,132.18943033630748,211.15537848605578,47.569304941743674,37.65201122544434,84.44588464031109,118.91315929675012,82.98926507018992,93.01310043668121,57.307171853856566,78.93065113816834,203.82978723404256,209.1851851851852,78.26633165829145,71.18205349439172,73.85057471264368,82.15088282504013,46.13778705636743,113.75173050299954,570.4845814977974,44.9468085106383,143.73401534526855,35.53937789543349,42.5047958344752,56.891025641025635,65.13409961685824,73.38247338247338,52.92479108635098,619.5954487989886,35.682326621923934,52.26432532347505,125.85844428871759,29.660238751147844,250.55679287305122,464.57399103139016,99.12357581069237]},\"selected\":{\"id\":\"08e23bd3-9d63-4cb1-b72a-0d23b28e67f1\",\"type\":\"Selection\"},\"selection_policy\":{\"id\":\"974c7ba1-926f-45db-98c8-28bc4cd64ecd\",\"type\":\"UnionRenderers\"}},\"id\":\"ee1d6a55-9a83-44ad-a915-0b6f9faa8b96\",\"type\":\"ColumnDataSource\"},{\"attributes\":{},\"id\":\"88133498-9a8b-4512-b47b-46971c71c178\",\"type\":\"Selection\"},{\"attributes\":{\"plot\":{\"id\":\"481b7e43-6129-4516-9b30-9479656f505c\",\"subtype\":\"Figure\",\"type\":\"Plot\"},\"ticker\":{\"id\":\"daa55e39-970a-4c75-a835-3e87bff5aa96\",\"type\":\"BasicTicker\"}},\"id\":\"6c36112a-28ed-4dfb-b0b9-ce70f073a200\",\"type\":\"Grid\"},{\"attributes\":{\"axis_label\":\"Population density\",\"formatter\":{\"id\":\"aaab2fba-7d33-45f8-8d5d-85c8a464af44\",\"type\":\"BasicTickFormatter\"},\"plot\":{\"id\":\"481b7e43-6129-4516-9b30-9479656f505c\",\"subtype\":\"Figure\",\"type\":\"Plot\"},\"ticker\":{\"id\":\"2d6ac89d-888f-4499-894c-4be432a182ad\",\"type\":\"BasicTicker\"}},\"id\":\"b9263817-dfd2-4194-912c-746c7abc55b4\",\"type\":\"LinearAxis\"},{\"attributes\":{\"fill_alpha\":{\"value\":0.1},\"fill_color\":{\"value\":\"#1f77b4\"},\"line_alpha\":{\"value\":0.1},\"line_color\":{\"value\":\"#1f77b4\"},\"x\":{\"field\":\"x\"},\"y\":{\"field\":\"y\"}},\"id\":\"54b80ab4-1cd9-4723-852a-ab0af737d6e9\",\"type\":\"Circle\"},{\"attributes\":{\"axis_label\":\"Distance to the most populated city [km]\",\"formatter\":{\"id\":\"74db4d3e-b1ff-44b4-aa99-e4e7826e139e\",\"type\":\"BasicTickFormatter\"},\"plot\":{\"id\":\"481b7e43-6129-4516-9b30-9479656f505c\",\"subtype\":\"Figure\",\"type\":\"Plot\"},\"ticker\":{\"id\":\"daa55e39-970a-4c75-a835-3e87bff5aa96\",\"type\":\"BasicTicker\"}},\"id\":\"fa539eb8-e87e-4c17-a217-d16810835f25\",\"type\":\"LinearAxis\"},{\"attributes\":{\"overlay\":{\"id\":\"75193ff6-f6ca-4e8d-97f1-959cb656b8cc\",\"type\":\"BoxAnnotation\"}},\"id\":\"1c57c856-63f3-45a4-bc88-32d0b9cce695\",\"type\":\"BoxZoomTool\"},{\"attributes\":{\"active_drag\":\"auto\",\"active_inspect\":\"auto\",\"active_multi\":null,\"active_scroll\":\"auto\",\"active_tap\":\"auto\",\"tools\":[{\"id\":\"17cc6009-dbb5-48da-9e7a-c182dbf489f8\",\"type\":\"PanTool\"},{\"id\":\"497212f0-2bde-4849-9222-afe5b9bdb3d4\",\"type\":\"WheelZoomTool\"},{\"id\":\"1c57c856-63f3-45a4-bc88-32d0b9cce695\",\"type\":\"BoxZoomTool\"},{\"id\":\"08b7d264-3e15-42b1-a5d4-ee35b55d92bf\",\"type\":\"SaveTool\"},{\"id\":\"3635dfc7-b6fb-4556-9cb0-4f3672feadd0\",\"type\":\"ResetTool\"},{\"id\":\"b9d1848d-5b67-4306-b3fe-b70ce23b3100\",\"type\":\"HelpTool\"}]},\"id\":\"34a61898-c3b1-4776-84c4-6caaa5f1000d\",\"type\":\"Toolbar\"},{\"attributes\":{},\"id\":\"5d3fe412-bdf8-4a39-b7ba-f5a5c35e52fe\",\"type\":\"BasicTickFormatter\"},{\"attributes\":{\"children\":[{\"id\":\"481b7e43-6129-4516-9b30-9479656f505c\",\"subtype\":\"Figure\",\"type\":\"Plot\"},{\"id\":\"1f788ae1-e85a-4f4d-8e81-13d8029b973b\",\"subtype\":\"Figure\",\"type\":\"Plot\"}]},\"id\":\"34928acc-1265-47ba-a877-30e3ae525f08\",\"type\":\"Row\"},{\"attributes\":{\"overlay\":{\"id\":\"7452e65d-8ce2-466d-9fb0-b0a337e56913\",\"type\":\"BoxAnnotation\"}},\"id\":\"c1bdd216-3593-444e-a1ed-2e54882fa9bc\",\"type\":\"BoxZoomTool\"},{\"attributes\":{},\"id\":\"3635dfc7-b6fb-4556-9cb0-4f3672feadd0\",\"type\":\"ResetTool\"},{\"attributes\":{},\"id\":\"463e8026-cf6a-4802-8638-008ff6951716\",\"type\":\"HelpTool\"},{\"attributes\":{\"fill_color\":{\"value\":\"#0276FD\"},\"line_color\":{\"value\":\"#0276FD\"},\"x\":{\"field\":\"x\"},\"y\":{\"field\":\"y\"}},\"id\":\"e5c11a07-bb0d-4630-b081-458435bf2b45\",\"type\":\"Circle\"},{\"attributes\":{\"dimension\":1,\"plot\":{\"id\":\"481b7e43-6129-4516-9b30-9479656f505c\",\"subtype\":\"Figure\",\"type\":\"Plot\"},\"ticker\":{\"id\":\"2d6ac89d-888f-4499-894c-4be432a182ad\",\"type\":\"BasicTicker\"}},\"id\":\"febaded1-bcb3-42cb-be39-3ae7fd147482\",\"type\":\"Grid\"},{\"attributes\":{\"fill_alpha\":{\"value\":0.1},\"fill_color\":{\"value\":\"#1f77b4\"},\"line_alpha\":{\"value\":0.1},\"line_color\":{\"value\":\"#1f77b4\"},\"x\":{\"field\":\"x\"},\"y\":{\"field\":\"y\"}},\"id\":\"0b006691-71ee-4d2d-92aa-ca04bcff4b14\",\"type\":\"Circle\"},{\"attributes\":{},\"id\":\"30501357-ea14-49cb-bfe3-72bd8c4ca4ef\",\"type\":\"BasicTicker\"},{\"attributes\":{\"callback\":null,\"data\":{\"x\":[49.618938963706555,44.005261681235716,47.7855416296867,23.974464179789805,25.965216189046497,56.1701229239075,38.58075232672677,40.391871843599915,42.35239778731894,39.84257078300517,52.3565737528687,58.61913952102676,60.184542423226745,54.00619494938391,26.523321630330013,29.93261590342061,57.53562006171515,31.97901227286522,41.68633977225743,32.71213118738112,44.05839258332909,56.57771609389237,48.737892550065766,63.74244097767133,59.49453126708262,55.730773934302654,11.670306089426598,61.105894215889535,51.14513807061382,21.502184267146603,54.33202422894096,60.93921623471502,53.92427770465398,53.52075463834374,33.70756684157655,50.33728101885541,34.729623467578975,4.535299843856032,40.384569986357484,23.20448186504492,27.741865663431202,56.90906567335055,45.24949890323442,55.36202457090946,42.04279568012221,13.973849671937,61.81849736998519,54.16817529350514,51.35061550657272,60.0771002719432,9.633133569133959,45.35939373270012,60.30187983423444,14.7973169614631,58.89504510200201,40.98769306223873,45.36535961588543,44.774731813480614,47.52513866289323,46.42314810522116,25.27551363124407,37.21995466354316,62.35396883712249,14.141787233855892,38.42664528677458,30.840446553827913,41.84812913104681,43.75799818240341,29.244065385296114,53.05750409694059,62.67627751901154,52.24968046680533,58.03801144337454,17.206049448133328,41.764855843491326,8.512890266993661,63.16879928948507,50.37742823561196,19.923160186118857,58.401521143335906,59.084353634237445,62.741300423392374,49.974428824256826,45.6561029712781,63.971049215100614,56.2263514858438,60.27055417052546,54.005950516097236,38.21116668946796,57.99426660707788,53.13952640294856,34.36196443227086,18.127115865406395,26.719220768430763,29.848411583636395,53.11314842749844,8.751734046915065,58.97435653808671,35.38865650108181,47.333555785052035,5.363557661826604,45.91657224650549,48.01879885877595,48.35659188005231,18.509513767498,30.735399021794663,31.41519590671989,53.50817951203135,60.772121368437,11.201179607235623,55.61938122997905,40.43265523106221,26.56827941889178,53.43993302021676,32.82054926719813,34.60276020905349,58.93700081736748,61.33901045693124,51.51024417866432,56.60982825986691,44.57557663656608,60.272328624446956,59.81246051412575,11.339630513658541,58.121251401169374,62.35540209621026,6.151714228240283,38.788179950759734,62.20203028486587,28.83016185212375,53.51742657270503,60.50550514518666,57.988393861383855,48.70831977213162,52.76356459057355,7.363049517460486,47.15605965303806,54.899232749375926,47.14553560293412,55.759186001708116,9.054006240126041,41.63251667003428,23.01886566308518,44.40178902529634,60.99591830583584,9.344458685736319,58.302095898824284,43.93502750102786,35.23192877737721,53.68797443561043,47.66345778919706,39.73181259303881,62.381556221157915,63.77284667324959,54.57988443799254,38.813622768805146,34.463399378709674,47.763708106654676,32.430483598767104,20.885328935345683,31.723143258904376,34.59243319371791,62.43194780614242,37.090127230599414,51.05924569701618,47.49440970038582,61.71290685929421,12.056706259019398,17.594913815055758,21.094928180858304],\"y\":[66.11374407582939,145.01061571125265,219.36936936936937,66.35284486287351,98.01242236024845,57.250470809792844,65.57377049180327,31.39354170264203,142.5951086956522,1289.2857142857142,102.57836198179979,396.11650485436894,31.94029850746269,78.50421000495295,59.90057995028998,51.80282975810132,231.9034852546917,29.92248062015504,74.07912687585267,129.19254658385094,84.44895199459094,534.6681922196797,89.03591682419659,42.943548387096776,250.3217503217503,154.6209761163032,1107.9136690647483,28.66617538688283,46.12381483547128,89.2103205629398,188.26923076923077,255.67251461988306,166.97674418604652,56.81321350497935,90.04998437988128,85.89540412044374,33.655868742111906,1258.1841432225065,31.18802619270346,352.6112185686654,57.277187244480785,110.479797979798,45.481335952848724,40.78341013824885,44.43541835905768,160.05547850208043,30.898452246130613,54.610492845786965,174.5225225225225,103.4613304488913,195.00567536889898,66.7715296893433,584.9493487698987,135.678391959799,59.38666666666666,60.310421286031044,91.75126903553299,67.26768377253815,118.66151866151866,83.70786516853933,152.23420647149462,36.88118811881188,107.66456266907123,85.03937007874016,81.8659658344284,46.76753782668501,35.51693404634581,51.83512140033879,54.185832566697336,181.82656826568265,41.89274447949527,274.4978697504565,64.36507936507937,119.26229508196722,54.62555066079295,358.77862595419845,414.8380355276907,115.77854671280276,42.96520423600605,460.7675906183369,691.4712153518124,31.654676258992804,209.56521739130434,144.47351209941138,237.58700696055683,144.80286738351253,30.170648464163826,123.92857142857143,26.063829787234045,315.1826484018265,309.016393442623,60.03062787136294,123.24777887462982,66.93476318141197,71.2620578778135,159.0655154900965,221.03626943005185,35.28872593950504,74.27068388330942,44.265969368696304,724.7648902821317,25.353159851301115,42.10526315789473,130.08298755186723,73.2152739346984,39.416058394160586,47.262247838616716,144.50596252129472,130.37653874004346,352.0134228187919,117.97724399494311,42.38733252131547,46.81555004135649,67.6829268292683,156.35673624288424,30.662305805396567,51.10899873257287,62.29609110495537,224.29667519181584,196.7095851216023,117.89709172259508,37.33766233766234,513.9508290451687,161.84615384615384,55.008121277747705,60.550458715596335,274.75935828877004,43.238434163701065,37.392373923739235,59.716859716859716,75.08474576271186,45.639771801140995,66.58851113716295,72.93926247288503,244.7978436657682,132.18943033630748,211.15537848605578,47.569304941743674,37.65201122544434,84.44588464031109,118.91315929675012,82.98926507018992,93.01310043668121,57.307171853856566,78.93065113816834,203.82978723404256,209.1851851851852,78.26633165829145,71.18205349439172,73.85057471264368,82.15088282504013,46.13778705636743,113.75173050299954,570.4845814977974,44.9468085106383,143.73401534526855,35.53937789543349,42.5047958344752,56.891025641025635,65.13409961685824,73.38247338247338,52.92479108635098,619.5954487989886,35.682326621923934,52.26432532347505,125.85844428871759,29.660238751147844,250.55679287305122,464.57399103139016,99.12357581069237]},\"selected\":{\"id\":\"88133498-9a8b-4512-b47b-46971c71c178\",\"type\":\"Selection\"},\"selection_policy\":{\"id\":\"1e3b3d4b-c611-418b-88d1-99ad77eb9c36\",\"type\":\"UnionRenderers\"}},\"id\":\"0042fb44-bbb0-404c-81ec-7a4083c7c005\",\"type\":\"ColumnDataSource\"},{\"attributes\":{},\"id\":\"daa55e39-970a-4c75-a835-3e87bff5aa96\",\"type\":\"BasicTicker\"},{\"attributes\":{\"below\":[{\"id\":\"ed344dc0-03b6-463f-a315-2906756f916b\",\"type\":\"LinearAxis\"}],\"left\":[{\"id\":\"37aa8a8a-9a3c-434a-ba68-f7b4dec99623\",\"type\":\"LinearAxis\"}],\"plot_height\":300,\"plot_width\":495,\"renderers\":[{\"id\":\"ed344dc0-03b6-463f-a315-2906756f916b\",\"type\":\"LinearAxis\"},{\"id\":\"a7882d0d-882b-49bc-8a03-44caeb055999\",\"type\":\"Grid\"},{\"id\":\"37aa8a8a-9a3c-434a-ba68-f7b4dec99623\",\"type\":\"LinearAxis\"},{\"id\":\"39ff0a46-4294-43fb-8777-9d775a328fc8\",\"type\":\"Grid\"},{\"id\":\"75193ff6-f6ca-4e8d-97f1-959cb656b8cc\",\"type\":\"BoxAnnotation\"},{\"id\":\"4ae482d7-4a44-427d-a114-29ec57cac6a4\",\"type\":\"GlyphRenderer\"}],\"title\":{\"id\":\"93228f90-edc1-47fc-ba3e-14a50e9f28da\",\"type\":\"Title\"},\"toolbar\":{\"id\":\"34a61898-c3b1-4776-84c4-6caaa5f1000d\",\"type\":\"Toolbar\"},\"x_range\":{\"id\":\"6a186c26-1660-4af8-85b5-2b1a426f4ba3\",\"type\":\"DataRange1d\"},\"x_scale\":{\"id\":\"961978d5-957c-4fc6-9d18-20797f823656\",\"type\":\"LinearScale\"},\"y_range\":{\"id\":\"41b86b10-0ce0-4dd9-992e-ffe3e8d8c002\",\"type\":\"DataRange1d\"},\"y_scale\":{\"id\":\"26ca0cfe-6b1f-4224-84a3-e8ad8904d6dd\",\"type\":\"LinearScale\"}},\"id\":\"1f788ae1-e85a-4f4d-8e81-13d8029b973b\",\"subtype\":\"Figure\",\"type\":\"Plot\"},{\"attributes\":{},\"id\":\"08b7d264-3e15-42b1-a5d4-ee35b55d92bf\",\"type\":\"SaveTool\"},{\"attributes\":{},\"id\":\"74db4d3e-b1ff-44b4-aa99-e4e7826e139e\",\"type\":\"BasicTickFormatter\"},{\"attributes\":{},\"id\":\"961978d5-957c-4fc6-9d18-20797f823656\",\"type\":\"LinearScale\"},{\"attributes\":{\"bottom_units\":\"screen\",\"fill_alpha\":{\"value\":0.5},\"fill_color\":{\"value\":\"lightgrey\"},\"left_units\":\"screen\",\"level\":\"overlay\",\"line_alpha\":{\"value\":1.0},\"line_color\":{\"value\":\"black\"},\"line_dash\":[4,4],\"line_width\":{\"value\":2},\"plot\":null,\"render_mode\":\"css\",\"right_units\":\"screen\",\"top_units\":\"screen\"},\"id\":\"75193ff6-f6ca-4e8d-97f1-959cb656b8cc\",\"type\":\"BoxAnnotation\"},{\"attributes\":{\"axis_label\":\"Population density\",\"formatter\":{\"id\":\"5d3fe412-bdf8-4a39-b7ba-f5a5c35e52fe\",\"type\":\"BasicTickFormatter\"},\"plot\":{\"id\":\"1f788ae1-e85a-4f4d-8e81-13d8029b973b\",\"subtype\":\"Figure\",\"type\":\"Plot\"},\"ticker\":{\"id\":\"10520a94-0acc-4ab5-8112-2d962bf47b2a\",\"type\":\"BasicTicker\"}},\"id\":\"37aa8a8a-9a3c-434a-ba68-f7b4dec99623\",\"type\":\"LinearAxis\"},{\"attributes\":{\"axis_label\":\"Distance to the second most populated city [km]\",\"formatter\":{\"id\":\"6b7f29fb-0585-4dcf-a480-1f7c4ea592c0\",\"type\":\"BasicTickFormatter\"},\"plot\":{\"id\":\"1f788ae1-e85a-4f4d-8e81-13d8029b973b\",\"subtype\":\"Figure\",\"type\":\"Plot\"},\"ticker\":{\"id\":\"30501357-ea14-49cb-bfe3-72bd8c4ca4ef\",\"type\":\"BasicTicker\"}},\"id\":\"ed344dc0-03b6-463f-a315-2906756f916b\",\"type\":\"LinearAxis\"},{\"attributes\":{\"data_source\":{\"id\":\"0042fb44-bbb0-404c-81ec-7a4083c7c005\",\"type\":\"ColumnDataSource\"},\"glyph\":{\"id\":\"3a47fee7-a793-4ce5-a802-f6d50a09387e\",\"type\":\"Circle\"},\"hover_glyph\":null,\"muted_glyph\":null,\"nonselection_glyph\":{\"id\":\"0b006691-71ee-4d2d-92aa-ca04bcff4b14\",\"type\":\"Circle\"},\"selection_glyph\":null,\"view\":{\"id\":\"0046b843-1138-4027-9962-b64aa206a4ea\",\"type\":\"CDSView\"}},\"id\":\"4ae482d7-4a44-427d-a114-29ec57cac6a4\",\"type\":\"GlyphRenderer\"},{\"attributes\":{},\"id\":\"17cc6009-dbb5-48da-9e7a-c182dbf489f8\",\"type\":\"PanTool\"},{\"attributes\":{\"fill_color\":{\"value\":\"#0276FD\"},\"line_color\":{\"value\":\"#0276FD\"},\"x\":{\"field\":\"x\"},\"y\":{\"field\":\"y\"}},\"id\":\"3a47fee7-a793-4ce5-a802-f6d50a09387e\",\"type\":\"Circle\"},{\"attributes\":{},\"id\":\"08e23bd3-9d63-4cb1-b72a-0d23b28e67f1\",\"type\":\"Selection\"},{\"attributes\":{},\"id\":\"fe3fc5cf-b45d-405a-a2b7-243fb243d6ab\",\"type\":\"LinearScale\"},{\"attributes\":{\"callback\":null},\"id\":\"accbda32-268a-473b-b34c-e10a55b0e9d8\",\"type\":\"DataRange1d\"},{\"attributes\":{},\"id\":\"ac4b4cce-9771-4da5-8813-446dc024b0a3\",\"type\":\"LinearScale\"},{\"attributes\":{\"plot\":null,\"text\":\"City density population vs distance to second most populated city\"},\"id\":\"93228f90-edc1-47fc-ba3e-14a50e9f28da\",\"type\":\"Title\"},{\"attributes\":{\"data_source\":{\"id\":\"ee1d6a55-9a83-44ad-a915-0b6f9faa8b96\",\"type\":\"ColumnDataSource\"},\"glyph\":{\"id\":\"e5c11a07-bb0d-4630-b081-458435bf2b45\",\"type\":\"Circle\"},\"hover_glyph\":null,\"muted_glyph\":null,\"nonselection_glyph\":{\"id\":\"54b80ab4-1cd9-4723-852a-ab0af737d6e9\",\"type\":\"Circle\"},\"selection_glyph\":null,\"view\":{\"id\":\"a28d7656-319b-4f36-a366-04cacd0cda15\",\"type\":\"CDSView\"}},\"id\":\"1fc1d675-3a37-43d0-84f3-3179e09d1c03\",\"type\":\"GlyphRenderer\"},{\"attributes\":{\"dimension\":1,\"plot\":{\"id\":\"1f788ae1-e85a-4f4d-8e81-13d8029b973b\",\"subtype\":\"Figure\",\"type\":\"Plot\"},\"ticker\":{\"id\":\"10520a94-0acc-4ab5-8112-2d962bf47b2a\",\"type\":\"BasicTicker\"}},\"id\":\"39ff0a46-4294-43fb-8777-9d775a328fc8\",\"type\":\"Grid\"},{\"attributes\":{},\"id\":\"497212f0-2bde-4849-9222-afe5b9bdb3d4\",\"type\":\"WheelZoomTool\"},{\"attributes\":{\"plot\":{\"id\":\"1f788ae1-e85a-4f4d-8e81-13d8029b973b\",\"subtype\":\"Figure\",\"type\":\"Plot\"},\"ticker\":{\"id\":\"30501357-ea14-49cb-bfe3-72bd8c4ca4ef\",\"type\":\"BasicTicker\"}},\"id\":\"a7882d0d-882b-49bc-8a03-44caeb055999\",\"type\":\"Grid\"},{\"attributes\":{\"callback\":null},\"id\":\"d25924e4-9459-49f6-8acd-6fee57c79ec5\",\"type\":\"DataRange1d\"},{\"attributes\":{\"source\":{\"id\":\"0042fb44-bbb0-404c-81ec-7a4083c7c005\",\"type\":\"ColumnDataSource\"}},\"id\":\"0046b843-1138-4027-9962-b64aa206a4ea\",\"type\":\"CDSView\"},{\"attributes\":{\"bottom_units\":\"screen\",\"fill_alpha\":{\"value\":0.5},\"fill_color\":{\"value\":\"lightgrey\"},\"left_units\":\"screen\",\"level\":\"overlay\",\"line_alpha\":{\"value\":1.0},\"line_color\":{\"value\":\"black\"},\"line_dash\":[4,4],\"line_width\":{\"value\":2},\"plot\":null,\"render_mode\":\"css\",\"right_units\":\"screen\",\"top_units\":\"screen\"},\"id\":\"7452e65d-8ce2-466d-9fb0-b0a337e56913\",\"type\":\"BoxAnnotation\"},{\"attributes\":{},\"id\":\"6b7f29fb-0585-4dcf-a480-1f7c4ea592c0\",\"type\":\"BasicTickFormatter\"},{\"attributes\":{\"below\":[{\"id\":\"fa539eb8-e87e-4c17-a217-d16810835f25\",\"type\":\"LinearAxis\"}],\"left\":[{\"id\":\"b9263817-dfd2-4194-912c-746c7abc55b4\",\"type\":\"LinearAxis\"}],\"plot_height\":300,\"plot_width\":495,\"renderers\":[{\"id\":\"fa539eb8-e87e-4c17-a217-d16810835f25\",\"type\":\"LinearAxis\"},{\"id\":\"6c36112a-28ed-4dfb-b0b9-ce70f073a200\",\"type\":\"Grid\"},{\"id\":\"b9263817-dfd2-4194-912c-746c7abc55b4\",\"type\":\"LinearAxis\"},{\"id\":\"febaded1-bcb3-42cb-be39-3ae7fd147482\",\"type\":\"Grid\"},{\"id\":\"7452e65d-8ce2-466d-9fb0-b0a337e56913\",\"type\":\"BoxAnnotation\"},{\"id\":\"1fc1d675-3a37-43d0-84f3-3179e09d1c03\",\"type\":\"GlyphRenderer\"}],\"title\":{\"id\":\"939d9887-6a76-47c3-9317-eb5e7b90ea70\",\"type\":\"Title\"},\"toolbar\":{\"id\":\"ba7fc1c9-d022-490a-b129-5963bf57d20f\",\"type\":\"Toolbar\"},\"x_range\":{\"id\":\"accbda32-268a-473b-b34c-e10a55b0e9d8\",\"type\":\"DataRange1d\"},\"x_scale\":{\"id\":\"ac4b4cce-9771-4da5-8813-446dc024b0a3\",\"type\":\"LinearScale\"},\"y_range\":{\"id\":\"d25924e4-9459-49f6-8acd-6fee57c79ec5\",\"type\":\"DataRange1d\"},\"y_scale\":{\"id\":\"fe3fc5cf-b45d-405a-a2b7-243fb243d6ab\",\"type\":\"LinearScale\"}},\"id\":\"481b7e43-6129-4516-9b30-9479656f505c\",\"subtype\":\"Figure\",\"type\":\"Plot\"},{\"attributes\":{},\"id\":\"10520a94-0acc-4ab5-8112-2d962bf47b2a\",\"type\":\"BasicTicker\"},{\"attributes\":{},\"id\":\"aaab2fba-7d33-45f8-8d5d-85c8a464af44\",\"type\":\"BasicTickFormatter\"}],\"root_ids\":[\"34928acc-1265-47ba-a877-30e3ae525f08\"]},\"title\":\"Bokeh Application\",\"version\":\"0.13.0\"}};\n",
       "  var render_items = [{\"docid\":\"22d67fc0-73a0-4eb6-82aa-ad65d12db66d\",\"roots\":{\"34928acc-1265-47ba-a877-30e3ae525f08\":\"7dfd8d6a-aac6-4be9-a516-bb727b17c1ef\"}}];\n",
       "  root.Bokeh.embed.embed_items_notebook(docs_json, render_items);\n",
       "\n",
       "  }\n",
       "  if (root.Bokeh !== undefined) {\n",
       "    embed_document(root);\n",
       "  } else {\n",
       "    var attempts = 0;\n",
       "    var timer = setInterval(function(root) {\n",
       "      if (root.Bokeh !== undefined) {\n",
       "        embed_document(root);\n",
       "        clearInterval(timer);\n",
       "      }\n",
       "      attempts++;\n",
       "      if (attempts > 100) {\n",
       "        console.log(\"Bokeh: ERROR: Unable to run BokehJS code because BokehJS library is missing\")\n",
       "        clearInterval(timer);\n",
       "      }\n",
       "    }, 10, root)\n",
       "  }\n",
       "})(window);"
      ],
      "application/vnd.bokehjs_exec.v0+json": ""
     },
     "metadata": {
      "application/vnd.bokehjs_exec.v0+json": {
       "id": "34928acc-1265-47ba-a877-30e3ae525f08"
      }
     },
     "output_type": "display_data"
    }
   ],
   "source": [
    "p1 = figure(plot_height=300, title=\"City density population vs distance to most populated city\", plot_width = 495,\n",
    "           x_axis_label='Distance to the most populated city [km]', y_axis_label='Population density')\n",
    "p1.circle([list(df1['DistToRennes'])[i] for i in range(0,len(list(df1['DistToRennes']))) if list(df1['DistToRennes'])[i]>0],[list(df1['Density'])[i] for i in range(0,len(list(df1['DistToRennes']))) if list(df1['DistToRennes'])[i]>0],\n",
    "        color=\"#0276FD\")\n",
    "p2 = figure(plot_height=300, title=\"City density population vs distance to second most populated city\", plot_width = 495,\n",
    "           x_axis_label='Distance to the second most populated city [km]', y_axis_label='Population density')\n",
    "p2.circle([list(df1['DistToSaint-Malo'])[i] for i in range(0,len(list(df1['DistToSaint-Malo']))) if list(df1['DistToSaint-Malo'])[i]>0],[list(df1['Density'])[i] for i in range(0,len(list(df1['DistToSaint-Malo']))) if list(df1['DistToSaint-Malo'])[i]>0],\n",
    "        color=\"#0276FD\")\n",
    "show(row(p1,p2))"
   ]
  },
  {
   "cell_type": "markdown",
   "metadata": {},
   "source": [
    "**Commentaire:** Entre les deux villes, la densité de population est moindre lorsque l'on s'en éloigne. Cet phénomene s'observe plus aisément aux abords de la ville la plus peuplée. Certaines villes a plus de 25km d'une des deux principales villes ont une densité plus importante que la tendance générale, cela peut etre du a un teritoire relativement petit. Cette méthode selectionne 170 villes."
   ]
  },
  {
   "cell_type": "markdown",
   "metadata": {},
   "source": [
    "**Methode 2:** Sélectionner les villes dont la somme de la distance les séparant est superieure ou égal a la distance entre les principales villes plus 10%."
   ]
  },
  {
   "cell_type": "code",
   "execution_count": 27,
   "metadata": {},
   "outputs": [
    {
     "data": {
      "text/html": [
       "<div>\n",
       "<style>\n",
       "    .dataframe thead tr:only-child th {\n",
       "        text-align: right;\n",
       "    }\n",
       "\n",
       "    .dataframe thead th {\n",
       "        text-align: left;\n",
       "    }\n",
       "\n",
       "    .dataframe tbody tr th {\n",
       "        vertical-align: top;\n",
       "    }\n",
       "</style>\n",
       "<table border=\"1\" class=\"dataframe\">\n",
       "  <thead>\n",
       "    <tr style=\"text-align: right;\">\n",
       "      <th></th>\n",
       "      <th>Name</th>\n",
       "      <th>Population</th>\n",
       "      <th>Area</th>\n",
       "      <th>Density</th>\n",
       "      <th>DistToRennes</th>\n",
       "      <th>DistToSaint-Malo</th>\n",
       "      <th>SumDist</th>\n",
       "    </tr>\n",
       "  </thead>\n",
       "  <tbody>\n",
       "    <tr>\n",
       "      <th>6</th>\n",
       "      <td>Aubigné</td>\n",
       "      <td>487</td>\n",
       "      <td>222</td>\n",
       "      <td>219.369369</td>\n",
       "      <td>21.292930</td>\n",
       "      <td>47.785542</td>\n",
       "      <td>69.078472</td>\n",
       "    </tr>\n",
       "    <tr>\n",
       "      <th>8</th>\n",
       "      <td>Baguer-Morvan</td>\n",
       "      <td>1621</td>\n",
       "      <td>2443</td>\n",
       "      <td>66.352845</td>\n",
       "      <td>43.693092</td>\n",
       "      <td>23.974464</td>\n",
       "      <td>67.667556</td>\n",
       "    </tr>\n",
       "    <tr>\n",
       "      <th>16</th>\n",
       "      <td>La Baussaine</td>\n",
       "      <td>640</td>\n",
       "      <td>976</td>\n",
       "      <td>65.573770</td>\n",
       "      <td>27.578951</td>\n",
       "      <td>38.580752</td>\n",
       "      <td>66.159703</td>\n",
       "    </tr>\n",
       "    <tr>\n",
       "      <th>19</th>\n",
       "      <td>Hédé-Bazouges</td>\n",
       "      <td>2099</td>\n",
       "      <td>1472</td>\n",
       "      <td>142.595109</td>\n",
       "      <td>22.391508</td>\n",
       "      <td>42.352398</td>\n",
       "      <td>64.743906</td>\n",
       "    </tr>\n",
       "    <tr>\n",
       "      <th>21</th>\n",
       "      <td>Bécherel</td>\n",
       "      <td>722</td>\n",
       "      <td>56</td>\n",
       "      <td>1289.285714</td>\n",
       "      <td>28.328497</td>\n",
       "      <td>39.842571</td>\n",
       "      <td>68.171067</td>\n",
       "    </tr>\n",
       "  </tbody>\n",
       "</table>\n",
       "</div>"
      ],
      "text/plain": [
       "             Name  Population  Area      Density  DistToRennes  \\\n",
       "6         Aubigné         487   222   219.369369     21.292930   \n",
       "8   Baguer-Morvan        1621  2443    66.352845     43.693092   \n",
       "16   La Baussaine         640   976    65.573770     27.578951   \n",
       "19  Hédé-Bazouges        2099  1472   142.595109     22.391508   \n",
       "21       Bécherel         722    56  1289.285714     28.328497   \n",
       "\n",
       "    DistToSaint-Malo    SumDist  \n",
       "6          47.785542  69.078472  \n",
       "8          23.974464  67.667556  \n",
       "16         38.580752  66.159703  \n",
       "19         42.352398  64.743906  \n",
       "21         39.842571  68.171067  "
      ]
     },
     "execution_count": 27,
     "metadata": {},
     "output_type": "execute_result"
    }
   ],
   "source": [
    "df2 = df\n",
    "df2 = df2.drop(TwoLargestCityIndex)\n",
    "df2['SumDist'] = df2['DistToRennes'] + df2['DistToSaint-Malo']\n",
    "df2 = df2[(df2['SumDist'])< MasterDistance+MasterDistance*0.1]\n",
    "df2.head()"
   ]
  },
  {
   "cell_type": "code",
   "execution_count": 28,
   "metadata": {},
   "outputs": [
    {
     "name": "stdout",
     "output_type": "stream",
     "text": [
      "Number of cities after filter: 84\n"
     ]
    }
   ],
   "source": [
    "print 'Number of cities after filter: ' + str(len(df2))"
   ]
  },
  {
   "cell_type": "code",
   "execution_count": 29,
   "metadata": {},
   "outputs": [
    {
     "data": {
      "text/html": [
       "\n",
       "\n",
       "\n",
       "\n",
       "\n",
       "\n",
       "  <div class=\"bk-root\" id=\"b03d08cc-a0d8-4d85-b945-f3af5e3fc39f\"></div>\n"
      ]
     },
     "metadata": {},
     "output_type": "display_data"
    },
    {
     "data": {
      "application/javascript": [
       "(function(root) {\n",
       "  function embed_document(root) {\n",
       "    \n",
       "  var docs_json = {\"0310904e-a465-4925-a584-68c3b5e2d7eb\":{\"roots\":{\"references\":[{\"attributes\":{\"overlay\":{\"id\":\"09b7b268-c123-495f-bb87-55e25077cf94\",\"type\":\"BoxAnnotation\"}},\"id\":\"9bd075fc-7951-4dae-abb4-ad9a40d2f071\",\"type\":\"BoxZoomTool\"},{\"attributes\":{},\"id\":\"315491f9-6617-4d8a-b372-d9ba62d99bdb\",\"type\":\"LinearScale\"},{\"attributes\":{\"data_source\":{\"id\":\"25545f24-357f-4c5a-8b5e-1ec96a526e2f\",\"type\":\"ColumnDataSource\"},\"glyph\":{\"id\":\"367480af-b504-4c88-ae5d-e19406a90d23\",\"type\":\"Circle\"},\"hover_glyph\":null,\"muted_glyph\":null,\"nonselection_glyph\":{\"id\":\"a6523b39-77e7-4f11-a6cd-fd7ef8e10962\",\"type\":\"Circle\"},\"selection_glyph\":null,\"view\":{\"id\":\"57cd187c-16d9-475d-97ec-fa7f75370db1\",\"type\":\"CDSView\"}},\"id\":\"29342220-7383-4737-a71b-061e9c47ec1a\",\"type\":\"GlyphRenderer\"},{\"attributes\":{},\"id\":\"b89da19f-09b6-461f-9256-93d0164ed9ae\",\"type\":\"UnionRenderers\"},{\"attributes\":{\"fill_color\":{\"value\":\"#0276FD\"},\"line_color\":{\"value\":\"#0276FD\"},\"x\":{\"field\":\"x\"},\"y\":{\"field\":\"y\"}},\"id\":\"367480af-b504-4c88-ae5d-e19406a90d23\",\"type\":\"Circle\"},{\"attributes\":{\"plot\":{\"id\":\"a01d7ea1-b713-4764-9f5c-50db12818405\",\"subtype\":\"Figure\",\"type\":\"Plot\"},\"ticker\":{\"id\":\"064b89dd-24d1-4317-9ab9-5b88bbe34788\",\"type\":\"BasicTicker\"}},\"id\":\"13adff0e-b409-44a9-b9df-dec278828763\",\"type\":\"Grid\"},{\"attributes\":{},\"id\":\"79efd5da-19ae-4668-bfdb-a8dee455de7d\",\"type\":\"UnionRenderers\"},{\"attributes\":{},\"id\":\"2cc77a55-037e-4e6d-bc35-cf527941aa6f\",\"type\":\"Selection\"},{\"attributes\":{\"callback\":null},\"id\":\"e6126d5b-5ade-4889-b459-e0480573bd43\",\"type\":\"DataRange1d\"},{\"attributes\":{\"callback\":null,\"data\":{\"x\":[21.292930100952542,43.69309199164935,27.578951058055985,22.39150834241537,28.32849669803807,8.248999381241765,40.71270677256807,24.972161625114577,32.058634077557194,22.043761955569938,8.35368187572326,53.13973894003427,13.385776184838209,14.95673908744066,33.028745550311925,64.09506730273895,26.394414299891928,47.35909416368055,24.553502062432774,55.02457089136518,14.083165940144356,57.1986582950794,20.00107743105653,10.241662812333445,54.96955726577447,24.652770955070192,25.05568768402425,18.76044293618646,18.73232757794931,39.888836475962805,31.053108394910442,52.57164960516572,29.13139626043785,36.91511585577354,35.66733134675045,12.26013890220118,12.52706061266996,47.6983086782573,26.09822993452107,57.18336695877464,7.9970101380351055,5.717765212975302,15.088502322132944,21.82007568963148,13.453436550706028,8.815958054991503,13.993823266780412,47.7752261838845,38.72757451908721,34.97599594226945,17.471040470943752,59.529377083270184,29.351469573061305,61.58932418266667,19.54892595237798,48.55199606398884,17.25967623805534,57.417159545145694,24.675677560127497,32.08376052823934,15.904150418464727,13.480168245847624,20.598363853321978,5.316976320821598,54.53158932468894,58.570807540976006,30.873617015157546,17.536240602695568,60.68542877844294,55.98841692328208,29.186459841538515,41.696682609737024,55.41616284025507,20.85546942876375,31.21736665709106,25.989324180003894,36.82760137362773,43.88221635462419,33.92214087122414,31.01796822954709,5.510966883886349,17.21933264195738,52.70712352102551,44.33278807894072],\"y\":[219.36936936936937,66.35284486287351,65.57377049180327,142.5951086956522,1289.2857142857142,396.11650485436894,59.90057995028998,74.07912687585267,129.19254658385094,84.44895199459094,534.6681922196797,1107.9136690647483,188.26923076923077,166.97674418604652,90.04998437988128,1258.1841432225065,31.18802619270346,352.6112185686654,45.481335952848724,160.05547850208043,174.5225225225225,195.00567536889898,66.7715296893433,584.9493487698987,135.678391959799,60.310421286031044,91.75126903553299,118.66151866151866,83.70786516853933,152.23420647149462,36.88118811881188,85.03937007874016,81.8659658344284,46.76753782668501,54.185832566697336,181.82656826568265,274.4978697504565,119.26229508196722,54.62555066079295,358.77862595419845,414.8380355276907,691.4712153518124,209.56521739130434,144.47351209941138,144.80286738351253,315.1826484018265,309.016393442623,123.24777887462982,66.93476318141197,71.2620578778135,159.0655154900965,221.03626943005185,74.27068388330942,724.7648902821317,130.08298755186723,73.2152739346984,144.50596252129472,352.0134228187919,42.38733252131547,156.35673624288424,224.29667519181584,196.7095851216023,117.89709172259508,513.9508290451687,161.84615384615384,274.75935828877004,43.238434163701065,72.93926247288503,132.18943033630748,118.91315929675012,82.98926507018992,93.01310043668121,203.82978723404256,78.26633165829145,71.18205349439172,143.73401534526855,56.891025641025635,65.13409961685824,73.38247338247338,52.92479108635098,619.5954487989886,125.85844428871759,250.55679287305122,99.12357581069237]},\"selected\":{\"id\":\"2cc77a55-037e-4e6d-bc35-cf527941aa6f\",\"type\":\"Selection\"},\"selection_policy\":{\"id\":\"79efd5da-19ae-4668-bfdb-a8dee455de7d\",\"type\":\"UnionRenderers\"}},\"id\":\"25545f24-357f-4c5a-8b5e-1ec96a526e2f\",\"type\":\"ColumnDataSource\"},{\"attributes\":{\"source\":{\"id\":\"54178fcd-2bc4-4501-91f2-02c937bece5e\",\"type\":\"ColumnDataSource\"}},\"id\":\"d5b94743-9529-405f-b362-28d7d5348d98\",\"type\":\"CDSView\"},{\"attributes\":{},\"id\":\"2e752ceb-a6cc-438f-acdc-b433d73808c9\",\"type\":\"BasicTickFormatter\"},{\"attributes\":{\"callback\":null},\"id\":\"2384cb6f-4cfe-403d-9770-9d28f33565e8\",\"type\":\"DataRange1d\"},{\"attributes\":{\"axis_label\":\"Distance to the second most populated city [km]\",\"formatter\":{\"id\":\"2e752ceb-a6cc-438f-acdc-b433d73808c9\",\"type\":\"BasicTickFormatter\"},\"plot\":{\"id\":\"a01d7ea1-b713-4764-9f5c-50db12818405\",\"subtype\":\"Figure\",\"type\":\"Plot\"},\"ticker\":{\"id\":\"064b89dd-24d1-4317-9ab9-5b88bbe34788\",\"type\":\"BasicTicker\"}},\"id\":\"a088dfe9-ff44-4129-8ea8-5fc5def97ffd\",\"type\":\"LinearAxis\"},{\"attributes\":{\"below\":[{\"id\":\"d311ff71-a6ea-4530-a63f-21cf9507e46b\",\"type\":\"LinearAxis\"}],\"left\":[{\"id\":\"a4a227d1-a44d-41d4-86c2-1f499fe48af1\",\"type\":\"LinearAxis\"}],\"plot_height\":300,\"plot_width\":495,\"renderers\":[{\"id\":\"d311ff71-a6ea-4530-a63f-21cf9507e46b\",\"type\":\"LinearAxis\"},{\"id\":\"7f976fc7-0e62-4989-b34e-2a6be7a191bc\",\"type\":\"Grid\"},{\"id\":\"a4a227d1-a44d-41d4-86c2-1f499fe48af1\",\"type\":\"LinearAxis\"},{\"id\":\"0b6c3d48-a2ed-4f55-86b2-e44b2e4076c8\",\"type\":\"Grid\"},{\"id\":\"09b7b268-c123-495f-bb87-55e25077cf94\",\"type\":\"BoxAnnotation\"},{\"id\":\"29342220-7383-4737-a71b-061e9c47ec1a\",\"type\":\"GlyphRenderer\"}],\"title\":{\"id\":\"185275e4-0496-4454-af94-6573c5a69d9e\",\"type\":\"Title\"},\"toolbar\":{\"id\":\"d6a43809-d185-428a-9bcf-c07094264e2e\",\"type\":\"Toolbar\"},\"x_range\":{\"id\":\"a2652f95-c3b6-4330-9e13-6cf2abaac6de\",\"type\":\"DataRange1d\"},\"x_scale\":{\"id\":\"ae715007-8cb3-4e56-99bb-e3a9ff72f608\",\"type\":\"LinearScale\"},\"y_range\":{\"id\":\"063ab1dc-9f93-4f82-b150-100d37094db5\",\"type\":\"DataRange1d\"},\"y_scale\":{\"id\":\"6d7d723d-462d-437a-9a8a-c398ed6002c3\",\"type\":\"LinearScale\"}},\"id\":\"beef6b6a-804f-4622-9a16-199c1c2741c0\",\"subtype\":\"Figure\",\"type\":\"Plot\"},{\"attributes\":{},\"id\":\"351863b9-e81e-423e-8928-23dd2e2e5487\",\"type\":\"SaveTool\"},{\"attributes\":{\"bottom_units\":\"screen\",\"fill_alpha\":{\"value\":0.5},\"fill_color\":{\"value\":\"lightgrey\"},\"left_units\":\"screen\",\"level\":\"overlay\",\"line_alpha\":{\"value\":1.0},\"line_color\":{\"value\":\"black\"},\"line_dash\":[4,4],\"line_width\":{\"value\":2},\"plot\":null,\"render_mode\":\"css\",\"right_units\":\"screen\",\"top_units\":\"screen\"},\"id\":\"09b7b268-c123-495f-bb87-55e25077cf94\",\"type\":\"BoxAnnotation\"},{\"attributes\":{},\"id\":\"ae715007-8cb3-4e56-99bb-e3a9ff72f608\",\"type\":\"LinearScale\"},{\"attributes\":{},\"id\":\"c8eedaef-be43-43f3-ad20-3f2fb7e724f4\",\"type\":\"PanTool\"},{\"attributes\":{\"bottom_units\":\"screen\",\"fill_alpha\":{\"value\":0.5},\"fill_color\":{\"value\":\"lightgrey\"},\"left_units\":\"screen\",\"level\":\"overlay\",\"line_alpha\":{\"value\":1.0},\"line_color\":{\"value\":\"black\"},\"line_dash\":[4,4],\"line_width\":{\"value\":2},\"plot\":null,\"render_mode\":\"css\",\"right_units\":\"screen\",\"top_units\":\"screen\"},\"id\":\"804ab577-8b59-4da5-a137-4d8b01809f69\",\"type\":\"BoxAnnotation\"},{\"attributes\":{},\"id\":\"6d3db913-4bee-48ee-9187-5bd0a8ae08bc\",\"type\":\"WheelZoomTool\"},{\"attributes\":{},\"id\":\"015a33b0-9b61-427d-a7d4-189c66ba7f5b\",\"type\":\"HelpTool\"},{\"attributes\":{},\"id\":\"064b89dd-24d1-4317-9ab9-5b88bbe34788\",\"type\":\"BasicTicker\"},{\"attributes\":{\"axis_label\":\"Population density\",\"formatter\":{\"id\":\"f0da4af4-a72c-4d2d-b19f-da72ac71b701\",\"type\":\"BasicTickFormatter\"},\"plot\":{\"id\":\"a01d7ea1-b713-4764-9f5c-50db12818405\",\"subtype\":\"Figure\",\"type\":\"Plot\"},\"ticker\":{\"id\":\"215edbfb-2687-45c3-8f24-aa7df293b609\",\"type\":\"BasicTicker\"}},\"id\":\"f712315e-32a4-4669-8528-d23ea395b507\",\"type\":\"LinearAxis\"},{\"attributes\":{},\"id\":\"fb018d1c-062c-4dd1-9836-21eb31745177\",\"type\":\"WheelZoomTool\"},{\"attributes\":{},\"id\":\"0a8e7e1c-9aae-4bc8-99c5-42409d919a11\",\"type\":\"Selection\"},{\"attributes\":{},\"id\":\"1af82cf7-cae5-492d-8ece-425598985811\",\"type\":\"HelpTool\"},{\"attributes\":{\"children\":[{\"id\":\"beef6b6a-804f-4622-9a16-199c1c2741c0\",\"subtype\":\"Figure\",\"type\":\"Plot\"},{\"id\":\"a01d7ea1-b713-4764-9f5c-50db12818405\",\"subtype\":\"Figure\",\"type\":\"Plot\"}]},\"id\":\"4bdf96f9-3f3a-4189-930f-eb12d21ebc08\",\"type\":\"Row\"},{\"attributes\":{},\"id\":\"6d7d723d-462d-437a-9a8a-c398ed6002c3\",\"type\":\"LinearScale\"},{\"attributes\":{\"axis_label\":\"Population density\",\"formatter\":{\"id\":\"a5b292e7-5c12-4450-902d-e5097c58c0ea\",\"type\":\"BasicTickFormatter\"},\"plot\":{\"id\":\"beef6b6a-804f-4622-9a16-199c1c2741c0\",\"subtype\":\"Figure\",\"type\":\"Plot\"},\"ticker\":{\"id\":\"642fc5b0-a7f5-4ebb-91ce-fdb5b27a315a\",\"type\":\"BasicTicker\"}},\"id\":\"a4a227d1-a44d-41d4-86c2-1f499fe48af1\",\"type\":\"LinearAxis\"},{\"attributes\":{},\"id\":\"a243d812-2b6c-4e07-8f55-dfd4ef312764\",\"type\":\"ResetTool\"},{\"attributes\":{\"plot\":{\"id\":\"beef6b6a-804f-4622-9a16-199c1c2741c0\",\"subtype\":\"Figure\",\"type\":\"Plot\"},\"ticker\":{\"id\":\"a1ff709d-c302-4ce8-aa40-74c5a985a301\",\"type\":\"BasicTicker\"}},\"id\":\"7f976fc7-0e62-4989-b34e-2a6be7a191bc\",\"type\":\"Grid\"},{\"attributes\":{\"data_source\":{\"id\":\"54178fcd-2bc4-4501-91f2-02c937bece5e\",\"type\":\"ColumnDataSource\"},\"glyph\":{\"id\":\"2df26753-84cd-431a-b3c1-de5ce9ca7dba\",\"type\":\"Circle\"},\"hover_glyph\":null,\"muted_glyph\":null,\"nonselection_glyph\":{\"id\":\"af7b922e-523f-454a-86de-0afdd265f3e3\",\"type\":\"Circle\"},\"selection_glyph\":null,\"view\":{\"id\":\"d5b94743-9529-405f-b362-28d7d5348d98\",\"type\":\"CDSView\"}},\"id\":\"803cc85e-df6c-4c25-a28a-9355b4a47a65\",\"type\":\"GlyphRenderer\"},{\"attributes\":{\"active_drag\":\"auto\",\"active_inspect\":\"auto\",\"active_multi\":null,\"active_scroll\":\"auto\",\"active_tap\":\"auto\",\"tools\":[{\"id\":\"c8eedaef-be43-43f3-ad20-3f2fb7e724f4\",\"type\":\"PanTool\"},{\"id\":\"fb018d1c-062c-4dd1-9836-21eb31745177\",\"type\":\"WheelZoomTool\"},{\"id\":\"9bd075fc-7951-4dae-abb4-ad9a40d2f071\",\"type\":\"BoxZoomTool\"},{\"id\":\"351863b9-e81e-423e-8928-23dd2e2e5487\",\"type\":\"SaveTool\"},{\"id\":\"29c015fc-35ab-4eff-bc06-9fdcaa3e351b\",\"type\":\"ResetTool\"},{\"id\":\"015a33b0-9b61-427d-a7d4-189c66ba7f5b\",\"type\":\"HelpTool\"}]},\"id\":\"d6a43809-d185-428a-9bcf-c07094264e2e\",\"type\":\"Toolbar\"},{\"attributes\":{\"fill_alpha\":{\"value\":0.1},\"fill_color\":{\"value\":\"#1f77b4\"},\"line_alpha\":{\"value\":0.1},\"line_color\":{\"value\":\"#1f77b4\"},\"x\":{\"field\":\"x\"},\"y\":{\"field\":\"y\"}},\"id\":\"a6523b39-77e7-4f11-a6cd-fd7ef8e10962\",\"type\":\"Circle\"},{\"attributes\":{},\"id\":\"a1ff709d-c302-4ce8-aa40-74c5a985a301\",\"type\":\"BasicTicker\"},{\"attributes\":{\"callback\":null,\"data\":{\"x\":[47.7855416296867,23.974464179789805,38.58075232672677,42.35239778731894,39.84257078300517,58.61913952102676,26.523321630330013,41.68633977225743,32.71213118738112,44.05839258332909,56.57771609389237,11.670306089426598,54.33202422894096,53.92427770465398,33.70756684157655,4.535299843856032,40.384569986357484,23.20448186504492,45.24949890323442,13.973849671937,51.35061550657272,9.633133569133959,45.35939373270012,60.30187983423444,14.7973169614631,40.98769306223873,45.36535961588543,47.52513866289323,46.42314810522116,25.27551363124407,37.21995466354316,14.141787233855892,38.42664528677458,30.840446553827913,29.244065385296114,53.05750409694059,52.24968046680533,17.206049448133328,41.764855843491326,8.512890266993661,63.16879928948507,59.084353634237445,49.974428824256826,45.6561029712781,56.2263514858438,57.99426660707788,53.13952640294856,18.127115865406395,26.719220768430763,29.848411583636395,53.11314842749844,8.751734046915065,35.38865650108181,5.363557661826604,48.35659188005231,18.509513767498,53.50817951203135,11.201179607235623,40.43265523106221,32.82054926719813,51.51024417866432,56.60982825986691,44.57557663656608,59.81246051412575,11.339630513658541,6.151714228240283,38.788179950759734,48.70831977213162,7.363049517460486,9.054006240126041,41.63251667003428,23.01886566308518,9.344458685736319,43.93502750102786,35.23192877737721,38.813622768805146,32.430483598767104,20.885328935345683,31.723143258904376,34.59243319371791,62.43194780614242,47.49440970038582,12.056706259019398,21.094928180858304],\"y\":[219.36936936936937,66.35284486287351,65.57377049180327,142.5951086956522,1289.2857142857142,396.11650485436894,59.90057995028998,74.07912687585267,129.19254658385094,84.44895199459094,534.6681922196797,1107.9136690647483,188.26923076923077,166.97674418604652,90.04998437988128,1258.1841432225065,31.18802619270346,352.6112185686654,45.481335952848724,160.05547850208043,174.5225225225225,195.00567536889898,66.7715296893433,584.9493487698987,135.678391959799,60.310421286031044,91.75126903553299,118.66151866151866,83.70786516853933,152.23420647149462,36.88118811881188,85.03937007874016,81.8659658344284,46.76753782668501,54.185832566697336,181.82656826568265,274.4978697504565,119.26229508196722,54.62555066079295,358.77862595419845,414.8380355276907,691.4712153518124,209.56521739130434,144.47351209941138,144.80286738351253,315.1826484018265,309.016393442623,123.24777887462982,66.93476318141197,71.2620578778135,159.0655154900965,221.03626943005185,74.27068388330942,724.7648902821317,130.08298755186723,73.2152739346984,144.50596252129472,352.0134228187919,42.38733252131547,156.35673624288424,224.29667519181584,196.7095851216023,117.89709172259508,513.9508290451687,161.84615384615384,274.75935828877004,43.238434163701065,72.93926247288503,132.18943033630748,118.91315929675012,82.98926507018992,93.01310043668121,203.82978723404256,78.26633165829145,71.18205349439172,143.73401534526855,56.891025641025635,65.13409961685824,73.38247338247338,52.92479108635098,619.5954487989886,125.85844428871759,250.55679287305122,99.12357581069237]},\"selected\":{\"id\":\"0a8e7e1c-9aae-4bc8-99c5-42409d919a11\",\"type\":\"Selection\"},\"selection_policy\":{\"id\":\"b89da19f-09b6-461f-9256-93d0164ed9ae\",\"type\":\"UnionRenderers\"}},\"id\":\"54178fcd-2bc4-4501-91f2-02c937bece5e\",\"type\":\"ColumnDataSource\"},{\"attributes\":{},\"id\":\"a5b292e7-5c12-4450-902d-e5097c58c0ea\",\"type\":\"BasicTickFormatter\"},{\"attributes\":{\"dimension\":1,\"plot\":{\"id\":\"a01d7ea1-b713-4764-9f5c-50db12818405\",\"subtype\":\"Figure\",\"type\":\"Plot\"},\"ticker\":{\"id\":\"215edbfb-2687-45c3-8f24-aa7df293b609\",\"type\":\"BasicTicker\"}},\"id\":\"5f733892-68ef-4a70-8ee0-955767b8b9a3\",\"type\":\"Grid\"},{\"attributes\":{\"plot\":null,\"text\":\"City density population vs distance to second most populated city\"},\"id\":\"8538b334-1389-40c0-af59-1a27e591bcc3\",\"type\":\"Title\"},{\"attributes\":{\"axis_label\":\"Distance to the most populated city [km]\",\"formatter\":{\"id\":\"8774b482-6232-4254-b750-8ae7040af7c3\",\"type\":\"BasicTickFormatter\"},\"plot\":{\"id\":\"beef6b6a-804f-4622-9a16-199c1c2741c0\",\"subtype\":\"Figure\",\"type\":\"Plot\"},\"ticker\":{\"id\":\"a1ff709d-c302-4ce8-aa40-74c5a985a301\",\"type\":\"BasicTicker\"}},\"id\":\"d311ff71-a6ea-4530-a63f-21cf9507e46b\",\"type\":\"LinearAxis\"},{\"attributes\":{},\"id\":\"642fc5b0-a7f5-4ebb-91ce-fdb5b27a315a\",\"type\":\"BasicTicker\"},{\"attributes\":{\"dimension\":1,\"plot\":{\"id\":\"beef6b6a-804f-4622-9a16-199c1c2741c0\",\"subtype\":\"Figure\",\"type\":\"Plot\"},\"ticker\":{\"id\":\"642fc5b0-a7f5-4ebb-91ce-fdb5b27a315a\",\"type\":\"BasicTicker\"}},\"id\":\"0b6c3d48-a2ed-4f55-86b2-e44b2e4076c8\",\"type\":\"Grid\"},{\"attributes\":{\"callback\":null},\"id\":\"a2652f95-c3b6-4330-9e13-6cf2abaac6de\",\"type\":\"DataRange1d\"},{\"attributes\":{},\"id\":\"4ec96a26-328a-4c6e-ae6e-52e8a7f47200\",\"type\":\"PanTool\"},{\"attributes\":{\"overlay\":{\"id\":\"804ab577-8b59-4da5-a137-4d8b01809f69\",\"type\":\"BoxAnnotation\"}},\"id\":\"e997fc0c-88cc-410d-9d6d-a09f3a6d51a8\",\"type\":\"BoxZoomTool\"},{\"attributes\":{\"fill_alpha\":{\"value\":0.1},\"fill_color\":{\"value\":\"#1f77b4\"},\"line_alpha\":{\"value\":0.1},\"line_color\":{\"value\":\"#1f77b4\"},\"x\":{\"field\":\"x\"},\"y\":{\"field\":\"y\"}},\"id\":\"af7b922e-523f-454a-86de-0afdd265f3e3\",\"type\":\"Circle\"},{\"attributes\":{},\"id\":\"d4471f1b-733a-4ac6-ae2b-ade7ee5646de\",\"type\":\"LinearScale\"},{\"attributes\":{},\"id\":\"29c015fc-35ab-4eff-bc06-9fdcaa3e351b\",\"type\":\"ResetTool\"},{\"attributes\":{},\"id\":\"26185215-4fea-4ec6-80f7-d3f8c7a4daa6\",\"type\":\"SaveTool\"},{\"attributes\":{\"fill_color\":{\"value\":\"#0276FD\"},\"line_color\":{\"value\":\"#0276FD\"},\"x\":{\"field\":\"x\"},\"y\":{\"field\":\"y\"}},\"id\":\"2df26753-84cd-431a-b3c1-de5ce9ca7dba\",\"type\":\"Circle\"},{\"attributes\":{\"source\":{\"id\":\"25545f24-357f-4c5a-8b5e-1ec96a526e2f\",\"type\":\"ColumnDataSource\"}},\"id\":\"57cd187c-16d9-475d-97ec-fa7f75370db1\",\"type\":\"CDSView\"},{\"attributes\":{\"below\":[{\"id\":\"a088dfe9-ff44-4129-8ea8-5fc5def97ffd\",\"type\":\"LinearAxis\"}],\"left\":[{\"id\":\"f712315e-32a4-4669-8528-d23ea395b507\",\"type\":\"LinearAxis\"}],\"plot_height\":300,\"plot_width\":495,\"renderers\":[{\"id\":\"a088dfe9-ff44-4129-8ea8-5fc5def97ffd\",\"type\":\"LinearAxis\"},{\"id\":\"13adff0e-b409-44a9-b9df-dec278828763\",\"type\":\"Grid\"},{\"id\":\"f712315e-32a4-4669-8528-d23ea395b507\",\"type\":\"LinearAxis\"},{\"id\":\"5f733892-68ef-4a70-8ee0-955767b8b9a3\",\"type\":\"Grid\"},{\"id\":\"804ab577-8b59-4da5-a137-4d8b01809f69\",\"type\":\"BoxAnnotation\"},{\"id\":\"803cc85e-df6c-4c25-a28a-9355b4a47a65\",\"type\":\"GlyphRenderer\"}],\"title\":{\"id\":\"8538b334-1389-40c0-af59-1a27e591bcc3\",\"type\":\"Title\"},\"toolbar\":{\"id\":\"77b92752-55a8-4952-8445-fe3faef80d1f\",\"type\":\"Toolbar\"},\"x_range\":{\"id\":\"e6126d5b-5ade-4889-b459-e0480573bd43\",\"type\":\"DataRange1d\"},\"x_scale\":{\"id\":\"d4471f1b-733a-4ac6-ae2b-ade7ee5646de\",\"type\":\"LinearScale\"},\"y_range\":{\"id\":\"2384cb6f-4cfe-403d-9770-9d28f33565e8\",\"type\":\"DataRange1d\"},\"y_scale\":{\"id\":\"315491f9-6617-4d8a-b372-d9ba62d99bdb\",\"type\":\"LinearScale\"}},\"id\":\"a01d7ea1-b713-4764-9f5c-50db12818405\",\"subtype\":\"Figure\",\"type\":\"Plot\"},{\"attributes\":{},\"id\":\"f0da4af4-a72c-4d2d-b19f-da72ac71b701\",\"type\":\"BasicTickFormatter\"},{\"attributes\":{\"callback\":null},\"id\":\"063ab1dc-9f93-4f82-b150-100d37094db5\",\"type\":\"DataRange1d\"},{\"attributes\":{},\"id\":\"8774b482-6232-4254-b750-8ae7040af7c3\",\"type\":\"BasicTickFormatter\"},{\"attributes\":{\"active_drag\":\"auto\",\"active_inspect\":\"auto\",\"active_multi\":null,\"active_scroll\":\"auto\",\"active_tap\":\"auto\",\"tools\":[{\"id\":\"4ec96a26-328a-4c6e-ae6e-52e8a7f47200\",\"type\":\"PanTool\"},{\"id\":\"6d3db913-4bee-48ee-9187-5bd0a8ae08bc\",\"type\":\"WheelZoomTool\"},{\"id\":\"e997fc0c-88cc-410d-9d6d-a09f3a6d51a8\",\"type\":\"BoxZoomTool\"},{\"id\":\"26185215-4fea-4ec6-80f7-d3f8c7a4daa6\",\"type\":\"SaveTool\"},{\"id\":\"a243d812-2b6c-4e07-8f55-dfd4ef312764\",\"type\":\"ResetTool\"},{\"id\":\"1af82cf7-cae5-492d-8ece-425598985811\",\"type\":\"HelpTool\"}]},\"id\":\"77b92752-55a8-4952-8445-fe3faef80d1f\",\"type\":\"Toolbar\"},{\"attributes\":{\"plot\":null,\"text\":\"City density population vs distance to most populated city\"},\"id\":\"185275e4-0496-4454-af94-6573c5a69d9e\",\"type\":\"Title\"},{\"attributes\":{},\"id\":\"215edbfb-2687-45c3-8f24-aa7df293b609\",\"type\":\"BasicTicker\"}],\"root_ids\":[\"4bdf96f9-3f3a-4189-930f-eb12d21ebc08\"]},\"title\":\"Bokeh Application\",\"version\":\"0.13.0\"}};\n",
       "  var render_items = [{\"docid\":\"0310904e-a465-4925-a584-68c3b5e2d7eb\",\"roots\":{\"4bdf96f9-3f3a-4189-930f-eb12d21ebc08\":\"b03d08cc-a0d8-4d85-b945-f3af5e3fc39f\"}}];\n",
       "  root.Bokeh.embed.embed_items_notebook(docs_json, render_items);\n",
       "\n",
       "  }\n",
       "  if (root.Bokeh !== undefined) {\n",
       "    embed_document(root);\n",
       "  } else {\n",
       "    var attempts = 0;\n",
       "    var timer = setInterval(function(root) {\n",
       "      if (root.Bokeh !== undefined) {\n",
       "        embed_document(root);\n",
       "        clearInterval(timer);\n",
       "      }\n",
       "      attempts++;\n",
       "      if (attempts > 100) {\n",
       "        console.log(\"Bokeh: ERROR: Unable to run BokehJS code because BokehJS library is missing\")\n",
       "        clearInterval(timer);\n",
       "      }\n",
       "    }, 10, root)\n",
       "  }\n",
       "})(window);"
      ],
      "application/vnd.bokehjs_exec.v0+json": ""
     },
     "metadata": {
      "application/vnd.bokehjs_exec.v0+json": {
       "id": "4bdf96f9-3f3a-4189-930f-eb12d21ebc08"
      }
     },
     "output_type": "display_data"
    }
   ],
   "source": [
    "p1 = figure(plot_height=300, title=\"City density population vs distance to most populated city\", plot_width = 495,\n",
    "           x_axis_label='Distance to the most populated city [km]', y_axis_label='Population density')\n",
    "p1.circle([list(df2['DistToRennes'])[i] for i in range(0,len(list(df2['DistToRennes']))) if list(df2['DistToRennes'])[i]>0],[list(df2['Density'])[i] for i in range(0,len(list(df2['DistToRennes']))) if list(df2['DistToRennes'])[i]>0],\n",
    "        color=\"#0276FD\")\n",
    "p2 = figure(plot_height=300, title=\"City density population vs distance to second most populated city\", plot_width = 495,\n",
    "           x_axis_label='Distance to the second most populated city [km]', y_axis_label='Population density')\n",
    "p2.circle([list(df2['DistToSaint-Malo'])[i] for i in range(0,len(list(df2['DistToSaint-Malo']))) if list(df2['DistToSaint-Malo'])[i]>0],[list(df2['Density'])[i] for i in range(0,len(list(df2['DistToSaint-Malo']))) if list(df2['DistToSaint-Malo'])[i]>0],\n",
    "        color=\"#0276FD\")\n",
    "show(row(p1,p2))"
   ]
  },
  {
   "cell_type": "markdown",
   "metadata": {},
   "source": [
    "**Commentaire:** Cette deuxieme méthode permet de mettre encore plus en évidence l'hypothese émit. Cette méthode sélectionne 84 villes."
   ]
  },
  {
   "cell_type": "markdown",
   "metadata": {},
   "source": [
    "**Conclusion:** L'hypothese émise parait plausible, reste maintenant a déterminer si le phonemene est similaire pour les autres villes et comment le quantifier (relation mathématique, équation...)"
   ]
  },
  {
   "cell_type": "code",
   "execution_count": 30,
   "metadata": {},
   "outputs": [
    {
     "data": {
      "text/plain": [
       "345"
      ]
     },
     "execution_count": 30,
     "metadata": {},
     "output_type": "execute_result"
    }
   ],
   "source": [
    "len(globals()['List1_{0}'.format(TwoLargestCityIndex[1])])"
   ]
  },
  {
   "cell_type": "code",
   "execution_count": null,
   "metadata": {
    "collapsed": true
   },
   "outputs": [],
   "source": []
  },
  {
   "cell_type": "code",
   "execution_count": 31,
   "metadata": {
    "collapsed": true
   },
   "outputs": [],
   "source": [
    "#Create a table to extract quickly info about the previous distribution\n",
    "#Map to display population with different color scale (use log scale or other scale)"
   ]
  }
 ],
 "metadata": {
  "kernelspec": {
   "display_name": "Python 2",
   "language": "python",
   "name": "python2"
  },
  "language_info": {
   "codemirror_mode": {
    "name": "ipython",
    "version": 2
   },
   "file_extension": ".py",
   "mimetype": "text/x-python",
   "name": "python",
   "nbconvert_exporter": "python",
   "pygments_lexer": "ipython2",
   "version": "2.7.14"
  }
 },
 "nbformat": 4,
 "nbformat_minor": 2
}
