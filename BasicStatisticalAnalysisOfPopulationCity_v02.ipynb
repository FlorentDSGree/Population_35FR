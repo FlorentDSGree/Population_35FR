{
 "cells": [
  {
   "cell_type": "markdown",
   "metadata": {
    "collapsed": true
   },
   "source": [
    "Created 15/10/2018\n",
    "\n",
    "Last update 17/01/2019"
   ]
  },
  {
   "cell_type": "markdown",
   "metadata": {},
   "source": [
    "# 1. Import library"
   ]
  },
  {
   "cell_type": "code",
   "execution_count": 1,
   "metadata": {},
   "outputs": [
    {
     "data": {
      "text/html": [
       "\n",
       "    <div class=\"bk-root\">\n",
       "        <a href=\"https://bokeh.pydata.org\" target=\"_blank\" class=\"bk-logo bk-logo-small bk-logo-notebook\"></a>\n",
       "        <span id=\"81edb6a4-87de-4244-97d2-52f78a337c10\">Loading BokehJS ...</span>\n",
       "    </div>"
      ]
     },
     "metadata": {},
     "output_type": "display_data"
    },
    {
     "data": {
      "application/javascript": [
       "\n",
       "(function(root) {\n",
       "  function now() {\n",
       "    return new Date();\n",
       "  }\n",
       "\n",
       "  var force = true;\n",
       "\n",
       "  if (typeof (root._bokeh_onload_callbacks) === \"undefined\" || force === true) {\n",
       "    root._bokeh_onload_callbacks = [];\n",
       "    root._bokeh_is_loading = undefined;\n",
       "  }\n",
       "\n",
       "  var JS_MIME_TYPE = 'application/javascript';\n",
       "  var HTML_MIME_TYPE = 'text/html';\n",
       "  var EXEC_MIME_TYPE = 'application/vnd.bokehjs_exec.v0+json';\n",
       "  var CLASS_NAME = 'output_bokeh rendered_html';\n",
       "\n",
       "  /**\n",
       "   * Render data to the DOM node\n",
       "   */\n",
       "  function render(props, node) {\n",
       "    var script = document.createElement(\"script\");\n",
       "    node.appendChild(script);\n",
       "  }\n",
       "\n",
       "  /**\n",
       "   * Handle when an output is cleared or removed\n",
       "   */\n",
       "  function handleClearOutput(event, handle) {\n",
       "    var cell = handle.cell;\n",
       "\n",
       "    var id = cell.output_area._bokeh_element_id;\n",
       "    var server_id = cell.output_area._bokeh_server_id;\n",
       "    // Clean up Bokeh references\n",
       "    if (id != null && id in Bokeh.index) {\n",
       "      Bokeh.index[id].model.document.clear();\n",
       "      delete Bokeh.index[id];\n",
       "    }\n",
       "\n",
       "    if (server_id !== undefined) {\n",
       "      // Clean up Bokeh references\n",
       "      var cmd = \"from bokeh.io.state import curstate; print(curstate().uuid_to_server['\" + server_id + \"'].get_sessions()[0].document.roots[0]._id)\";\n",
       "      cell.notebook.kernel.execute(cmd, {\n",
       "        iopub: {\n",
       "          output: function(msg) {\n",
       "            var id = msg.content.text.trim();\n",
       "            if (id in Bokeh.index) {\n",
       "              Bokeh.index[id].model.document.clear();\n",
       "              delete Bokeh.index[id];\n",
       "            }\n",
       "          }\n",
       "        }\n",
       "      });\n",
       "      // Destroy server and session\n",
       "      var cmd = \"import bokeh.io.notebook as ion; ion.destroy_server('\" + server_id + \"')\";\n",
       "      cell.notebook.kernel.execute(cmd);\n",
       "    }\n",
       "  }\n",
       "\n",
       "  /**\n",
       "   * Handle when a new output is added\n",
       "   */\n",
       "  function handleAddOutput(event, handle) {\n",
       "    var output_area = handle.output_area;\n",
       "    var output = handle.output;\n",
       "\n",
       "    // limit handleAddOutput to display_data with EXEC_MIME_TYPE content only\n",
       "    if ((output.output_type != \"display_data\") || (!output.data.hasOwnProperty(EXEC_MIME_TYPE))) {\n",
       "      return\n",
       "    }\n",
       "\n",
       "    var toinsert = output_area.element.find(\".\" + CLASS_NAME.split(' ')[0]);\n",
       "\n",
       "    if (output.metadata[EXEC_MIME_TYPE][\"id\"] !== undefined) {\n",
       "      toinsert[toinsert.length - 1].firstChild.textContent = output.data[JS_MIME_TYPE];\n",
       "      // store reference to embed id on output_area\n",
       "      output_area._bokeh_element_id = output.metadata[EXEC_MIME_TYPE][\"id\"];\n",
       "    }\n",
       "    if (output.metadata[EXEC_MIME_TYPE][\"server_id\"] !== undefined) {\n",
       "      var bk_div = document.createElement(\"div\");\n",
       "      bk_div.innerHTML = output.data[HTML_MIME_TYPE];\n",
       "      var script_attrs = bk_div.children[0].attributes;\n",
       "      for (var i = 0; i < script_attrs.length; i++) {\n",
       "        toinsert[toinsert.length - 1].firstChild.setAttribute(script_attrs[i].name, script_attrs[i].value);\n",
       "      }\n",
       "      // store reference to server id on output_area\n",
       "      output_area._bokeh_server_id = output.metadata[EXEC_MIME_TYPE][\"server_id\"];\n",
       "    }\n",
       "  }\n",
       "\n",
       "  function register_renderer(events, OutputArea) {\n",
       "\n",
       "    function append_mime(data, metadata, element) {\n",
       "      // create a DOM node to render to\n",
       "      var toinsert = this.create_output_subarea(\n",
       "        metadata,\n",
       "        CLASS_NAME,\n",
       "        EXEC_MIME_TYPE\n",
       "      );\n",
       "      this.keyboard_manager.register_events(toinsert);\n",
       "      // Render to node\n",
       "      var props = {data: data, metadata: metadata[EXEC_MIME_TYPE]};\n",
       "      render(props, toinsert[toinsert.length - 1]);\n",
       "      element.append(toinsert);\n",
       "      return toinsert\n",
       "    }\n",
       "\n",
       "    /* Handle when an output is cleared or removed */\n",
       "    events.on('clear_output.CodeCell', handleClearOutput);\n",
       "    events.on('delete.Cell', handleClearOutput);\n",
       "\n",
       "    /* Handle when a new output is added */\n",
       "    events.on('output_added.OutputArea', handleAddOutput);\n",
       "\n",
       "    /**\n",
       "     * Register the mime type and append_mime function with output_area\n",
       "     */\n",
       "    OutputArea.prototype.register_mime_type(EXEC_MIME_TYPE, append_mime, {\n",
       "      /* Is output safe? */\n",
       "      safe: true,\n",
       "      /* Index of renderer in `output_area.display_order` */\n",
       "      index: 0\n",
       "    });\n",
       "  }\n",
       "\n",
       "  // register the mime type if in Jupyter Notebook environment and previously unregistered\n",
       "  if (root.Jupyter !== undefined) {\n",
       "    var events = require('base/js/events');\n",
       "    var OutputArea = require('notebook/js/outputarea').OutputArea;\n",
       "\n",
       "    if (OutputArea.prototype.mime_types().indexOf(EXEC_MIME_TYPE) == -1) {\n",
       "      register_renderer(events, OutputArea);\n",
       "    }\n",
       "  }\n",
       "\n",
       "  \n",
       "  if (typeof (root._bokeh_timeout) === \"undefined\" || force === true) {\n",
       "    root._bokeh_timeout = Date.now() + 5000;\n",
       "    root._bokeh_failed_load = false;\n",
       "  }\n",
       "\n",
       "  var NB_LOAD_WARNING = {'data': {'text/html':\n",
       "     \"<div style='background-color: #fdd'>\\n\"+\n",
       "     \"<p>\\n\"+\n",
       "     \"BokehJS does not appear to have successfully loaded. If loading BokehJS from CDN, this \\n\"+\n",
       "     \"may be due to a slow or bad network connection. Possible fixes:\\n\"+\n",
       "     \"</p>\\n\"+\n",
       "     \"<ul>\\n\"+\n",
       "     \"<li>re-rerun `output_notebook()` to attempt to load from CDN again, or</li>\\n\"+\n",
       "     \"<li>use INLINE resources instead, as so:</li>\\n\"+\n",
       "     \"</ul>\\n\"+\n",
       "     \"<code>\\n\"+\n",
       "     \"from bokeh.resources import INLINE\\n\"+\n",
       "     \"output_notebook(resources=INLINE)\\n\"+\n",
       "     \"</code>\\n\"+\n",
       "     \"</div>\"}};\n",
       "\n",
       "  function display_loaded() {\n",
       "    var el = document.getElementById(\"81edb6a4-87de-4244-97d2-52f78a337c10\");\n",
       "    if (el != null) {\n",
       "      el.textContent = \"BokehJS is loading...\";\n",
       "    }\n",
       "    if (root.Bokeh !== undefined) {\n",
       "      if (el != null) {\n",
       "        el.textContent = \"BokehJS \" + root.Bokeh.version + \" successfully loaded.\";\n",
       "      }\n",
       "    } else if (Date.now() < root._bokeh_timeout) {\n",
       "      setTimeout(display_loaded, 100)\n",
       "    }\n",
       "  }\n",
       "\n",
       "\n",
       "  function run_callbacks() {\n",
       "    try {\n",
       "      root._bokeh_onload_callbacks.forEach(function(callback) { callback() });\n",
       "    }\n",
       "    finally {\n",
       "      delete root._bokeh_onload_callbacks\n",
       "    }\n",
       "    console.info(\"Bokeh: all callbacks have finished\");\n",
       "  }\n",
       "\n",
       "  function load_libs(js_urls, callback) {\n",
       "    root._bokeh_onload_callbacks.push(callback);\n",
       "    if (root._bokeh_is_loading > 0) {\n",
       "      console.log(\"Bokeh: BokehJS is being loaded, scheduling callback at\", now());\n",
       "      return null;\n",
       "    }\n",
       "    if (js_urls == null || js_urls.length === 0) {\n",
       "      run_callbacks();\n",
       "      return null;\n",
       "    }\n",
       "    console.log(\"Bokeh: BokehJS not loaded, scheduling load and callback at\", now());\n",
       "    root._bokeh_is_loading = js_urls.length;\n",
       "    for (var i = 0; i < js_urls.length; i++) {\n",
       "      var url = js_urls[i];\n",
       "      var s = document.createElement('script');\n",
       "      s.src = url;\n",
       "      s.async = false;\n",
       "      s.onreadystatechange = s.onload = function() {\n",
       "        root._bokeh_is_loading--;\n",
       "        if (root._bokeh_is_loading === 0) {\n",
       "          console.log(\"Bokeh: all BokehJS libraries loaded\");\n",
       "          run_callbacks()\n",
       "        }\n",
       "      };\n",
       "      s.onerror = function() {\n",
       "        console.warn(\"failed to load library \" + url);\n",
       "      };\n",
       "      console.log(\"Bokeh: injecting script tag for BokehJS library: \", url);\n",
       "      document.getElementsByTagName(\"head\")[0].appendChild(s);\n",
       "    }\n",
       "  };var element = document.getElementById(\"81edb6a4-87de-4244-97d2-52f78a337c10\");\n",
       "  if (element == null) {\n",
       "    console.log(\"Bokeh: ERROR: autoload.js configured with elementid '81edb6a4-87de-4244-97d2-52f78a337c10' but no matching script tag was found. \")\n",
       "    return false;\n",
       "  }\n",
       "\n",
       "  var js_urls = [\"https://cdn.pydata.org/bokeh/release/bokeh-0.13.0.min.js\", \"https://cdn.pydata.org/bokeh/release/bokeh-widgets-0.13.0.min.js\", \"https://cdn.pydata.org/bokeh/release/bokeh-tables-0.13.0.min.js\", \"https://cdn.pydata.org/bokeh/release/bokeh-gl-0.13.0.min.js\"];\n",
       "\n",
       "  var inline_js = [\n",
       "    function(Bokeh) {\n",
       "      Bokeh.set_log_level(\"info\");\n",
       "    },\n",
       "    \n",
       "    function(Bokeh) {\n",
       "      \n",
       "    },\n",
       "    function(Bokeh) {\n",
       "      console.log(\"Bokeh: injecting CSS: https://cdn.pydata.org/bokeh/release/bokeh-0.13.0.min.css\");\n",
       "      Bokeh.embed.inject_css(\"https://cdn.pydata.org/bokeh/release/bokeh-0.13.0.min.css\");\n",
       "      console.log(\"Bokeh: injecting CSS: https://cdn.pydata.org/bokeh/release/bokeh-widgets-0.13.0.min.css\");\n",
       "      Bokeh.embed.inject_css(\"https://cdn.pydata.org/bokeh/release/bokeh-widgets-0.13.0.min.css\");\n",
       "      console.log(\"Bokeh: injecting CSS: https://cdn.pydata.org/bokeh/release/bokeh-tables-0.13.0.min.css\");\n",
       "      Bokeh.embed.inject_css(\"https://cdn.pydata.org/bokeh/release/bokeh-tables-0.13.0.min.css\");\n",
       "    }\n",
       "  ];\n",
       "\n",
       "  function run_inline_js() {\n",
       "    \n",
       "    if ((root.Bokeh !== undefined) || (force === true)) {\n",
       "      for (var i = 0; i < inline_js.length; i++) {\n",
       "        inline_js[i].call(root, root.Bokeh);\n",
       "      }if (force === true) {\n",
       "        display_loaded();\n",
       "      }} else if (Date.now() < root._bokeh_timeout) {\n",
       "      setTimeout(run_inline_js, 100);\n",
       "    } else if (!root._bokeh_failed_load) {\n",
       "      console.log(\"Bokeh: BokehJS failed to load within specified timeout.\");\n",
       "      root._bokeh_failed_load = true;\n",
       "    } else if (force !== true) {\n",
       "      var cell = $(document.getElementById(\"81edb6a4-87de-4244-97d2-52f78a337c10\")).parents('.cell').data().cell;\n",
       "      cell.output_area.append_execute_result(NB_LOAD_WARNING)\n",
       "    }\n",
       "\n",
       "  }\n",
       "\n",
       "  if (root._bokeh_is_loading === 0) {\n",
       "    console.log(\"Bokeh: BokehJS loaded, going straight to plotting\");\n",
       "    run_inline_js();\n",
       "  } else {\n",
       "    load_libs(js_urls, function() {\n",
       "      console.log(\"Bokeh: BokehJS plotting callback run at\", now());\n",
       "      run_inline_js();\n",
       "    });\n",
       "  }\n",
       "}(window));"
      ],
      "application/vnd.bokehjs_load.v0+json": "\n(function(root) {\n  function now() {\n    return new Date();\n  }\n\n  var force = true;\n\n  if (typeof (root._bokeh_onload_callbacks) === \"undefined\" || force === true) {\n    root._bokeh_onload_callbacks = [];\n    root._bokeh_is_loading = undefined;\n  }\n\n  \n\n  \n  if (typeof (root._bokeh_timeout) === \"undefined\" || force === true) {\n    root._bokeh_timeout = Date.now() + 5000;\n    root._bokeh_failed_load = false;\n  }\n\n  var NB_LOAD_WARNING = {'data': {'text/html':\n     \"<div style='background-color: #fdd'>\\n\"+\n     \"<p>\\n\"+\n     \"BokehJS does not appear to have successfully loaded. If loading BokehJS from CDN, this \\n\"+\n     \"may be due to a slow or bad network connection. Possible fixes:\\n\"+\n     \"</p>\\n\"+\n     \"<ul>\\n\"+\n     \"<li>re-rerun `output_notebook()` to attempt to load from CDN again, or</li>\\n\"+\n     \"<li>use INLINE resources instead, as so:</li>\\n\"+\n     \"</ul>\\n\"+\n     \"<code>\\n\"+\n     \"from bokeh.resources import INLINE\\n\"+\n     \"output_notebook(resources=INLINE)\\n\"+\n     \"</code>\\n\"+\n     \"</div>\"}};\n\n  function display_loaded() {\n    var el = document.getElementById(\"81edb6a4-87de-4244-97d2-52f78a337c10\");\n    if (el != null) {\n      el.textContent = \"BokehJS is loading...\";\n    }\n    if (root.Bokeh !== undefined) {\n      if (el != null) {\n        el.textContent = \"BokehJS \" + root.Bokeh.version + \" successfully loaded.\";\n      }\n    } else if (Date.now() < root._bokeh_timeout) {\n      setTimeout(display_loaded, 100)\n    }\n  }\n\n\n  function run_callbacks() {\n    try {\n      root._bokeh_onload_callbacks.forEach(function(callback) { callback() });\n    }\n    finally {\n      delete root._bokeh_onload_callbacks\n    }\n    console.info(\"Bokeh: all callbacks have finished\");\n  }\n\n  function load_libs(js_urls, callback) {\n    root._bokeh_onload_callbacks.push(callback);\n    if (root._bokeh_is_loading > 0) {\n      console.log(\"Bokeh: BokehJS is being loaded, scheduling callback at\", now());\n      return null;\n    }\n    if (js_urls == null || js_urls.length === 0) {\n      run_callbacks();\n      return null;\n    }\n    console.log(\"Bokeh: BokehJS not loaded, scheduling load and callback at\", now());\n    root._bokeh_is_loading = js_urls.length;\n    for (var i = 0; i < js_urls.length; i++) {\n      var url = js_urls[i];\n      var s = document.createElement('script');\n      s.src = url;\n      s.async = false;\n      s.onreadystatechange = s.onload = function() {\n        root._bokeh_is_loading--;\n        if (root._bokeh_is_loading === 0) {\n          console.log(\"Bokeh: all BokehJS libraries loaded\");\n          run_callbacks()\n        }\n      };\n      s.onerror = function() {\n        console.warn(\"failed to load library \" + url);\n      };\n      console.log(\"Bokeh: injecting script tag for BokehJS library: \", url);\n      document.getElementsByTagName(\"head\")[0].appendChild(s);\n    }\n  };var element = document.getElementById(\"81edb6a4-87de-4244-97d2-52f78a337c10\");\n  if (element == null) {\n    console.log(\"Bokeh: ERROR: autoload.js configured with elementid '81edb6a4-87de-4244-97d2-52f78a337c10' but no matching script tag was found. \")\n    return false;\n  }\n\n  var js_urls = [\"https://cdn.pydata.org/bokeh/release/bokeh-0.13.0.min.js\", \"https://cdn.pydata.org/bokeh/release/bokeh-widgets-0.13.0.min.js\", \"https://cdn.pydata.org/bokeh/release/bokeh-tables-0.13.0.min.js\", \"https://cdn.pydata.org/bokeh/release/bokeh-gl-0.13.0.min.js\"];\n\n  var inline_js = [\n    function(Bokeh) {\n      Bokeh.set_log_level(\"info\");\n    },\n    \n    function(Bokeh) {\n      \n    },\n    function(Bokeh) {\n      console.log(\"Bokeh: injecting CSS: https://cdn.pydata.org/bokeh/release/bokeh-0.13.0.min.css\");\n      Bokeh.embed.inject_css(\"https://cdn.pydata.org/bokeh/release/bokeh-0.13.0.min.css\");\n      console.log(\"Bokeh: injecting CSS: https://cdn.pydata.org/bokeh/release/bokeh-widgets-0.13.0.min.css\");\n      Bokeh.embed.inject_css(\"https://cdn.pydata.org/bokeh/release/bokeh-widgets-0.13.0.min.css\");\n      console.log(\"Bokeh: injecting CSS: https://cdn.pydata.org/bokeh/release/bokeh-tables-0.13.0.min.css\");\n      Bokeh.embed.inject_css(\"https://cdn.pydata.org/bokeh/release/bokeh-tables-0.13.0.min.css\");\n    }\n  ];\n\n  function run_inline_js() {\n    \n    if ((root.Bokeh !== undefined) || (force === true)) {\n      for (var i = 0; i < inline_js.length; i++) {\n        inline_js[i].call(root, root.Bokeh);\n      }if (force === true) {\n        display_loaded();\n      }} else if (Date.now() < root._bokeh_timeout) {\n      setTimeout(run_inline_js, 100);\n    } else if (!root._bokeh_failed_load) {\n      console.log(\"Bokeh: BokehJS failed to load within specified timeout.\");\n      root._bokeh_failed_load = true;\n    } else if (force !== true) {\n      var cell = $(document.getElementById(\"81edb6a4-87de-4244-97d2-52f78a337c10\")).parents('.cell').data().cell;\n      cell.output_area.append_execute_result(NB_LOAD_WARNING)\n    }\n\n  }\n\n  if (root._bokeh_is_loading === 0) {\n    console.log(\"Bokeh: BokehJS loaded, going straight to plotting\");\n    run_inline_js();\n  } else {\n    load_libs(js_urls, function() {\n      console.log(\"Bokeh: BokehJS plotting callback run at\", now());\n      run_inline_js();\n    });\n  }\n}(window));"
     },
     "metadata": {},
     "output_type": "display_data"
    }
   ],
   "source": [
    "import pymongo\n",
    "from __future__ import division\n",
    "import numpy as np\n",
    "import pandas as pd\n",
    "# from scipy import stats\n",
    "from bokeh.models import HoverTool, NumeralTickFormatter, ColumnDataSource\n",
    "from bokeh.plotting import figure\n",
    "from bokeh.io import show, output_notebook\n",
    "from bokeh.layouts import row\n",
    "output_notebook() # To display plot into Jupyter notebook\n",
    "import Fcn_BasicStatisticalAnalysisOfPopulation"
   ]
  },
  {
   "cell_type": "markdown",
   "metadata": {},
   "source": [
    "# 2. Data loading"
   ]
  },
  {
   "cell_type": "code",
   "execution_count": 2,
   "metadata": {
    "collapsed": true
   },
   "outputs": [],
   "source": [
    "# User inputs\n",
    "DatabaseName = 'GeoApiGouv'\n",
    "CollectionName = 'PopulationCity'\n",
    "\n",
    "# Connection to MongoDB\n",
    "myclient = pymongo.MongoClient(\"mongodb://localhost:27017/\")\n",
    "mydb = myclient[DatabaseName]\n",
    "\n",
    "#Query all documents from MongoD\n",
    "QueryMongo = list(mydb[CollectionName].find({}))"
   ]
  },
  {
   "cell_type": "markdown",
   "metadata": {},
   "source": [
    "# 3. Statistical analysis"
   ]
  },
  {
   "cell_type": "markdown",
   "metadata": {},
   "source": [
    "## 3.1. Arrange data loaded"
   ]
  },
  {
   "cell_type": "code",
   "execution_count": 3,
   "metadata": {
    "collapsed": true
   },
   "outputs": [],
   "source": [
    "NumberOfCity      = len(QueryMongo)\n",
    "AllCityNames      = [QueryMongo[x]['nom'] for x in range(0,NumberOfCity)]\n",
    "AllPopulationList = [QueryMongo[x]['population'] for x in range(0,NumberOfCity)]\n",
    "AllAreaList       = [QueryMongo[x]['surface'] for x in range(0,NumberOfCity)]"
   ]
  },
  {
   "cell_type": "markdown",
   "metadata": {},
   "source": [
    "## 3.2. Population basic analysis"
   ]
  },
  {
   "cell_type": "code",
   "execution_count": 4,
   "metadata": {},
   "outputs": [
    {
     "name": "stdout",
     "output_type": "stream",
     "text": [
      "Nombre de ville: 345\n",
      "Population totale: 1 019 923\n",
      "Population moyenne par ville: 2 956\n",
      "Population mediane par ville: 1 314\n",
      "Population la plus faible: 107 (Bléruais)\n",
      "Population la plus élevée: 211 373 (Rennes)\n"
     ]
    }
   ],
   "source": [
    "TotalPopulation   = sum(AllPopulationList)\n",
    "AveragePopulation = int(np.mean(AllPopulationList)) # Population moyenne \n",
    "MedianPopulation  = int(np.median(AllPopulationList)) # Population mediane\n",
    "MinPopulation     = np.min(AllPopulationList) # Population la plus faible\n",
    "MaxPopulation     = np.max(AllPopulationList) # Population la plus élevée\n",
    "\n",
    "print 'Nombre de ville: ' + \"{:,}\".format(NumberOfCity).replace(',',' ')\n",
    "print 'Population totale: ' + \"{:,}\".format(TotalPopulation).replace(',',' ')\n",
    "print 'Population moyenne par ville: '+ \"{:,}\".format(AveragePopulation).replace(',',' ')\n",
    "print 'Population mediane par ville: '+ \"{:,}\".format(MedianPopulation).replace(',',' ')\n",
    "print 'Population la plus faible: '+ \"{:,}\".format(MinPopulation).replace(',',' ')  + ' (' + str(list(mydb[CollectionName].find({'population': MinPopulation},{'nom':1,'_id':0}))[0]['nom'].encode('utf-8')) + ')'\n",
    "print 'Population la plus élevée: '+ \"{:,}\".format(MaxPopulation).replace(',',' ') + ' (' + str(list(mydb[CollectionName].find({'population': MaxPopulation},{'nom':1,'_id':0}))[0]['nom'].encode('utf-8')) + ')'"
   ]
  },
  {
   "cell_type": "markdown",
   "metadata": {},
   "source": [
    "### 3.2.1. Population histogram"
   ]
  },
  {
   "cell_type": "code",
   "execution_count": 5,
   "metadata": {
    "collapsed": true
   },
   "outputs": [],
   "source": [
    "# Prepare the data for plot\n",
    "start = Fcn_BasicStatisticalAnalysisOfPopulation.DefineMinMaxLog(MinPopulation,'Min')\n",
    "stop = Fcn_BasicStatisticalAnalysisOfPopulation.DefineMinMaxLog(MaxPopulation,'Max')\n",
    "bins = Fcn_BasicStatisticalAnalysisOfPopulation.CreateLogBin(start,stop)\n",
    "hist, bin_edges = np.histogram(AllPopulationList, bins=bins)\n",
    "\n",
    "# Remove the first and last value when hist is 0 - Comment out this line to show forall log scale\n",
    "hist, bin_edges = Fcn_BasicStatisticalAnalysisOfPopulation.RemoveLastFirstValuesWhenZero(hist, bin_edges)"
   ]
  },
  {
   "cell_type": "code",
   "execution_count": 6,
   "metadata": {},
   "outputs": [
    {
     "data": {
      "text/html": [
       "\n",
       "\n",
       "\n",
       "\n",
       "\n",
       "\n",
       "  <div class=\"bk-root\" id=\"acaa3a43-4211-42c9-aa97-0b6b7c7fbe82\"></div>\n"
      ]
     },
     "metadata": {},
     "output_type": "display_data"
    },
    {
     "data": {
      "application/javascript": [
       "(function(root) {\n",
       "  function embed_document(root) {\n",
       "    \n",
       "  var docs_json = {\"f77d7248-aa79-4641-af73-3512639e9a6d\":{\"roots\":{\"references\":[{\"attributes\":{\"callback\":null},\"id\":\"4dba98d9-0009-4db0-b773-b2f8c8405ac6\",\"type\":\"DataRange1d\"},{\"attributes\":{},\"id\":\"d49b646c-bd46-4898-9ae7-bf87da8890db\",\"type\":\"BasicTicker\"},{\"attributes\":{},\"id\":\"d1769043-b823-46f7-a31a-047702d121d1\",\"type\":\"BasicTickFormatter\"},{\"attributes\":{\"callback\":null},\"id\":\"2bdef5e9-803e-4f5c-a4ad-bd75b6d16909\",\"type\":\"DataRange1d\"},{\"attributes\":{\"data_source\":{\"id\":\"595f9d28-7e8b-4be8-9066-de08978b2078\",\"type\":\"ColumnDataSource\"},\"glyph\":{\"id\":\"5fde33e2-e751-4036-aab3-1498b515b491\",\"type\":\"Quad\"},\"hover_glyph\":null,\"muted_glyph\":null,\"nonselection_glyph\":{\"id\":\"a2533b83-489b-466a-96de-9a6e2be3478f\",\"type\":\"Quad\"},\"selection_glyph\":null,\"view\":{\"id\":\"7fc4a160-0a29-4ae5-94c8-e41f4fc2c1ac\",\"type\":\"CDSView\"}},\"id\":\"e22e0005-6635-47df-ac1c-fea7f267b2ea\",\"type\":\"GlyphRenderer\"},{\"attributes\":{},\"id\":\"f21ea0fb-b68e-4811-bdcc-f01ceae52138\",\"type\":\"SaveTool\"},{\"attributes\":{\"ticks\":[0,1,2,3,4,5,6,7,8,9,10,11,12,13,14,15,16,17,18,19,20,21,22,23,24,25,26,27,28,29]},\"id\":\"a29b0fad-443a-4e68-beb9-1e5aaf48540b\",\"type\":\"FixedTicker\"},{\"attributes\":{\"plot\":{\"id\":\"95aea5e2-3c03-4683-8fb4-f4633d0f524a\",\"subtype\":\"Figure\",\"type\":\"Plot\"},\"ticker\":{\"id\":\"d49b646c-bd46-4898-9ae7-bf87da8890db\",\"type\":\"BasicTicker\"}},\"id\":\"f54ade45-0539-4eb5-a4de-cbc04943da85\",\"type\":\"Grid\"},{\"attributes\":{\"axis_label\":\"City population bins\",\"axis_label_text_font\":\"verdana\",\"axis_label_text_font_style\":\"normal\",\"formatter\":{\"id\":\"a1e456e8-5278-4ed1-811d-584fd934a1a0\",\"type\":\"BasicTickFormatter\"},\"major_label_orientation\":0.785,\"major_label_overrides\":{\"0\":\"100\",\"1\":\"200\",\"10\":\"2 000\",\"11\":\"3 000\",\"12\":\"4 000\",\"13\":\"5 000\",\"14\":\"6 000\",\"15\":\"7 000\",\"16\":\"8 000\",\"17\":\"9 000\",\"18\":\"10 000\",\"19\":\"20 000\",\"2\":\"300\",\"20\":\"30 000\",\"21\":\"40 000\",\"22\":\"50 000\",\"23\":\"60 000\",\"24\":\"70 000\",\"25\":\"80 000\",\"26\":\"90 000\",\"27\":\"100 000\",\"28\":\"200 000\",\"29\":\"300 000\",\"3\":\"400\",\"4\":\"500\",\"5\":\"600\",\"6\":\"700\",\"7\":\"800\",\"8\":\"900\",\"9\":\"1 000\"},\"major_label_text_font\":\"verdana\",\"plot\":{\"id\":\"95aea5e2-3c03-4683-8fb4-f4633d0f524a\",\"subtype\":\"Figure\",\"type\":\"Plot\"},\"ticker\":{\"id\":\"a29b0fad-443a-4e68-beb9-1e5aaf48540b\",\"type\":\"FixedTicker\"}},\"id\":\"cf661cc5-c81c-474e-b978-e3ada6e8172d\",\"type\":\"LinearAxis\"},{\"attributes\":{},\"id\":\"ee778868-d7a9-43b7-89bc-321f79cf9795\",\"type\":\"ResetTool\"},{\"attributes\":{},\"id\":\"cf42ed86-d8e5-4af5-bf90-bd96b2d6369a\",\"type\":\"WheelZoomTool\"},{\"attributes\":{},\"id\":\"a8c94581-633a-4aba-9519-5e8b72155a0a\",\"type\":\"HelpTool\"},{\"attributes\":{},\"id\":\"d3050a54-2b29-4856-9e5d-ed88783f9876\",\"type\":\"PanTool\"},{\"attributes\":{\"bottom_units\":\"screen\",\"fill_alpha\":{\"value\":0.5},\"fill_color\":{\"value\":\"lightgrey\"},\"left_units\":\"screen\",\"level\":\"overlay\",\"line_alpha\":{\"value\":1.0},\"line_color\":{\"value\":\"black\"},\"line_dash\":[4,4],\"line_width\":{\"value\":2},\"plot\":null,\"render_mode\":\"css\",\"right_units\":\"screen\",\"top_units\":\"screen\"},\"id\":\"4188e4b0-cb19-430c-bc74-5b9af8e519e1\",\"type\":\"BoxAnnotation\"},{\"attributes\":{\"axis_label\":\"Count\",\"axis_label_text_font\":\"verdana\",\"axis_label_text_font_style\":\"normal\",\"formatter\":{\"id\":\"d1769043-b823-46f7-a31a-047702d121d1\",\"type\":\"BasicTickFormatter\"},\"major_label_text_font\":\"verdana\",\"plot\":{\"id\":\"95aea5e2-3c03-4683-8fb4-f4633d0f524a\",\"subtype\":\"Figure\",\"type\":\"Plot\"},\"ticker\":{\"id\":\"a3aacedb-e32f-44d6-bc73-a232f3c7cbee\",\"type\":\"BasicTicker\"}},\"id\":\"568e4019-a6ac-4e27-b064-e4b0fa21316d\",\"type\":\"LinearAxis\"},{\"attributes\":{},\"id\":\"c630dfa1-b2f6-429f-8817-e967cecd119e\",\"type\":\"LinearScale\"},{\"attributes\":{},\"id\":\"7f72c56d-1aa4-4766-a27d-da9ee906f9b9\",\"type\":\"LinearScale\"},{\"attributes\":{},\"id\":\"339471a9-bb73-4fe6-a8db-d69b0cf9c51a\",\"type\":\"UnionRenderers\"},{\"attributes\":{\"active_drag\":\"auto\",\"active_inspect\":\"auto\",\"active_multi\":null,\"active_scroll\":\"auto\",\"active_tap\":\"auto\",\"tools\":[{\"id\":\"d3050a54-2b29-4856-9e5d-ed88783f9876\",\"type\":\"PanTool\"},{\"id\":\"cf42ed86-d8e5-4af5-bf90-bd96b2d6369a\",\"type\":\"WheelZoomTool\"},{\"id\":\"b44d1cfc-b75e-4be1-9a4b-e2db30efde26\",\"type\":\"BoxZoomTool\"},{\"id\":\"f21ea0fb-b68e-4811-bdcc-f01ceae52138\",\"type\":\"SaveTool\"},{\"id\":\"ee778868-d7a9-43b7-89bc-321f79cf9795\",\"type\":\"ResetTool\"},{\"id\":\"a8c94581-633a-4aba-9519-5e8b72155a0a\",\"type\":\"HelpTool\"}]},\"id\":\"99df4229-232e-43a3-ada2-74233df110e8\",\"type\":\"Toolbar\"},{\"attributes\":{\"bottom\":{\"value\":0},\"fill_alpha\":{\"value\":0.1},\"fill_color\":{\"value\":\"#1f77b4\"},\"left\":{\"field\":\"left\"},\"line_alpha\":{\"value\":0.1},\"line_color\":{\"value\":\"#1f77b4\"},\"right\":{\"field\":\"right\"},\"top\":{\"field\":\"top\"}},\"id\":\"a2533b83-489b-466a-96de-9a6e2be3478f\",\"type\":\"Quad\"},{\"attributes\":{\"below\":[{\"id\":\"cf661cc5-c81c-474e-b978-e3ada6e8172d\",\"type\":\"LinearAxis\"}],\"left\":[{\"id\":\"568e4019-a6ac-4e27-b064-e4b0fa21316d\",\"type\":\"LinearAxis\"}],\"plot_height\":300,\"renderers\":[{\"id\":\"cf661cc5-c81c-474e-b978-e3ada6e8172d\",\"type\":\"LinearAxis\"},{\"id\":\"f54ade45-0539-4eb5-a4de-cbc04943da85\",\"type\":\"Grid\"},{\"id\":\"568e4019-a6ac-4e27-b064-e4b0fa21316d\",\"type\":\"LinearAxis\"},{\"id\":\"1bde50cb-5b21-444d-9760-73055d630c97\",\"type\":\"Grid\"},{\"id\":\"4188e4b0-cb19-430c-bc74-5b9af8e519e1\",\"type\":\"BoxAnnotation\"},{\"id\":\"e22e0005-6635-47df-ac1c-fea7f267b2ea\",\"type\":\"GlyphRenderer\"}],\"title\":{\"id\":\"4b85b88d-a223-4e64-a2a4-fdfc08b0985d\",\"type\":\"Title\"},\"toolbar\":{\"id\":\"99df4229-232e-43a3-ada2-74233df110e8\",\"type\":\"Toolbar\"},\"x_range\":{\"id\":\"2bdef5e9-803e-4f5c-a4ad-bd75b6d16909\",\"type\":\"DataRange1d\"},\"x_scale\":{\"id\":\"c630dfa1-b2f6-429f-8817-e967cecd119e\",\"type\":\"LinearScale\"},\"y_range\":{\"id\":\"4dba98d9-0009-4db0-b773-b2f8c8405ac6\",\"type\":\"DataRange1d\"},\"y_scale\":{\"id\":\"7f72c56d-1aa4-4766-a27d-da9ee906f9b9\",\"type\":\"LinearScale\"}},\"id\":\"95aea5e2-3c03-4683-8fb4-f4633d0f524a\",\"subtype\":\"Figure\",\"type\":\"Plot\"},{\"attributes\":{\"plot\":null,\"text\":\"City population\",\"text_color\":{\"value\":\"#0276FD\"},\"text_font\":\"verdana\",\"text_font_size\":{\"value\":\"12pt\"}},\"id\":\"4b85b88d-a223-4e64-a2a4-fdfc08b0985d\",\"type\":\"Title\"},{\"attributes\":{\"overlay\":{\"id\":\"4188e4b0-cb19-430c-bc74-5b9af8e519e1\",\"type\":\"BoxAnnotation\"}},\"id\":\"b44d1cfc-b75e-4be1-9a4b-e2db30efde26\",\"type\":\"BoxZoomTool\"},{\"attributes\":{},\"id\":\"a1e456e8-5278-4ed1-811d-584fd934a1a0\",\"type\":\"BasicTickFormatter\"},{\"attributes\":{},\"id\":\"abf75f6c-2112-474f-afeb-2ce47adee2a7\",\"type\":\"Selection\"},{\"attributes\":{\"bottom\":{\"value\":0},\"fill_color\":{\"value\":\"#0276FD\"},\"left\":{\"field\":\"left\"},\"line_color\":{\"value\":\"#5F5B5B\"},\"right\":{\"field\":\"right\"},\"top\":{\"field\":\"top\"}},\"id\":\"5fde33e2-e751-4036-aab3-1498b515b491\",\"type\":\"Quad\"},{\"attributes\":{\"callback\":null,\"data\":{\"left\":[0,1,2,3,4,5,6,7,8,9,10,11,12,13,14,15,16,17,18,19,20,21,22,23,24,25,26,27,28],\"right\":[1,2,3,4,5,6,7,8,9,10,11,12,13,14,15,16,17,18,19,20,21,22,23,24,25,26,27,28,29],\"top\":[5,9,25,7,18,19,13,17,15,105,37,22,17,7,6,7,3,3,7,1,0,1,0,0,0,0,0,0,1]},\"selected\":{\"id\":\"abf75f6c-2112-474f-afeb-2ce47adee2a7\",\"type\":\"Selection\"},\"selection_policy\":{\"id\":\"339471a9-bb73-4fe6-a8db-d69b0cf9c51a\",\"type\":\"UnionRenderers\"}},\"id\":\"595f9d28-7e8b-4be8-9066-de08978b2078\",\"type\":\"ColumnDataSource\"},{\"attributes\":{\"source\":{\"id\":\"595f9d28-7e8b-4be8-9066-de08978b2078\",\"type\":\"ColumnDataSource\"}},\"id\":\"7fc4a160-0a29-4ae5-94c8-e41f4fc2c1ac\",\"type\":\"CDSView\"},{\"attributes\":{},\"id\":\"a3aacedb-e32f-44d6-bc73-a232f3c7cbee\",\"type\":\"BasicTicker\"},{\"attributes\":{\"dimension\":1,\"plot\":{\"id\":\"95aea5e2-3c03-4683-8fb4-f4633d0f524a\",\"subtype\":\"Figure\",\"type\":\"Plot\"},\"ticker\":{\"id\":\"a3aacedb-e32f-44d6-bc73-a232f3c7cbee\",\"type\":\"BasicTicker\"}},\"id\":\"1bde50cb-5b21-444d-9760-73055d630c97\",\"type\":\"Grid\"}],\"root_ids\":[\"95aea5e2-3c03-4683-8fb4-f4633d0f524a\"]},\"title\":\"Bokeh Application\",\"version\":\"0.13.0\"}};\n",
       "  var render_items = [{\"docid\":\"f77d7248-aa79-4641-af73-3512639e9a6d\",\"roots\":{\"95aea5e2-3c03-4683-8fb4-f4633d0f524a\":\"acaa3a43-4211-42c9-aa97-0b6b7c7fbe82\"}}];\n",
       "  root.Bokeh.embed.embed_items_notebook(docs_json, render_items);\n",
       "\n",
       "  }\n",
       "  if (root.Bokeh !== undefined) {\n",
       "    embed_document(root);\n",
       "  } else {\n",
       "    var attempts = 0;\n",
       "    var timer = setInterval(function(root) {\n",
       "      if (root.Bokeh !== undefined) {\n",
       "        embed_document(root);\n",
       "        clearInterval(timer);\n",
       "      }\n",
       "      attempts++;\n",
       "      if (attempts > 100) {\n",
       "        console.log(\"Bokeh: ERROR: Unable to run BokehJS code because BokehJS library is missing\")\n",
       "        clearInterval(timer);\n",
       "      }\n",
       "    }, 10, root)\n",
       "  }\n",
       "})(window);"
      ],
      "application/vnd.bokehjs_exec.v0+json": ""
     },
     "metadata": {
      "application/vnd.bokehjs_exec.v0+json": {
       "id": "95aea5e2-3c03-4683-8fb4-f4633d0f524a"
      }
     },
     "output_type": "display_data"
    }
   ],
   "source": [
    "# Plot histogram\n",
    "p = figure(plot_height=300, title=\"City population\",\n",
    "           x_axis_label='City population bins', y_axis_label='Count')\n",
    "p.quad(top=list(hist), bottom=0, left=list(range(0,len(bin_edges)))[:-1], right=list(range(0,len(bin_edges)))[1:],\n",
    "       fill_color = \"#0276FD\", line_color = \"#5F5B5B\", alpha=1)\n",
    "\n",
    "p.xaxis.ticker = list(range(0,len(bin_edges)))\n",
    "p.xaxis.major_label_orientation = 3.14/4\n",
    "p.xaxis.major_label_overrides = {el:\"{:,}\".format(bin_edges[el]).replace(',',' ') for el in range(0,len(bin_edges))}\n",
    "\n",
    "p.title.text_font_size = '12pt'\n",
    "p.title.text_color = \"#0276FD\"\n",
    "p.title.text_font = \"verdana\"\n",
    "p.yaxis.axis_label_text_font = \"verdana\"\n",
    "p.yaxis.axis_label_text_font_style = \"normal\"\n",
    "p.xaxis.axis_label_text_font = \"verdana\"\n",
    "p.xaxis.axis_label_text_font_style = \"normal\"\n",
    "p.xaxis.major_label_text_font = \"verdana\"\n",
    "p.yaxis.major_label_text_font = \"verdana\"\n",
    "\n",
    "show(p)"
   ]
  },
  {
   "cell_type": "markdown",
   "metadata": {},
   "source": [
    "La majorité des villes (30%) a une population comprise entre 1000 et 2000 habitants. Ensuite, viennent les villes ayant une population comprise entre 2000 et 3000 habitants (11%) enfin 7% des villes ont une population de 300 a 400 habitants."
   ]
  },
  {
   "cell_type": "code",
   "execution_count": 7,
   "metadata": {},
   "outputs": [
    {
     "data": {
      "text/plain": [
       "30"
      ]
     },
     "execution_count": 7,
     "metadata": {},
     "output_type": "execute_result"
    }
   ],
   "source": [
    "CityPopBinPercentage = [int(round(list(hist)[x]/NumberOfCity*100)) for x in range(0,len(hist))]\n",
    "CityPopBinPercentage[9]"
   ]
  },
  {
   "cell_type": "markdown",
   "metadata": {},
   "source": [
    "### 3.2.2. Population cumulative distribution"
   ]
  },
  {
   "cell_type": "code",
   "execution_count": 8,
   "metadata": {
    "scrolled": false
   },
   "outputs": [
    {
     "data": {
      "text/html": [
       "\n",
       "\n",
       "\n",
       "\n",
       "\n",
       "\n",
       "  <div class=\"bk-root\" id=\"08718fa8-73b1-4419-b819-28b0582d1e76\"></div>\n"
      ]
     },
     "metadata": {},
     "output_type": "display_data"
    },
    {
     "data": {
      "application/javascript": [
       "(function(root) {\n",
       "  function embed_document(root) {\n",
       "    \n",
       "  var docs_json = {\"2b35a2d9-bf03-4092-a507-b873c40cb521\":{\"roots\":{\"references\":[{\"attributes\":{},\"id\":\"7123b7ab-3571-4b2d-b0ae-4373e0dee0e3\",\"type\":\"BasicTickFormatter\"},{\"attributes\":{\"plot\":null,\"text\":\"City population distribution\",\"text_color\":{\"value\":\"#0276FD\"},\"text_font\":\"verdana\",\"text_font_size\":{\"value\":\"12pt\"}},\"id\":\"e23ce5c3-56b9-4c46-a3bc-1f679104d8f3\",\"type\":\"Title\"},{\"attributes\":{},\"id\":\"04005fa4-3955-484d-ad5b-1337979fcb9f\",\"type\":\"BasicTicker\"},{\"attributes\":{},\"id\":\"0daea6c9-4dbc-4560-bb3d-39b44aec8781\",\"type\":\"WheelZoomTool\"},{\"attributes\":{},\"id\":\"926718e9-df2a-4015-bbda-d879b357feb8\",\"type\":\"UnionRenderers\"},{\"attributes\":{},\"id\":\"bc7eb6e1-e790-40af-a62f-0d4000d6d55d\",\"type\":\"BasicTicker\"},{\"attributes\":{},\"id\":\"b2a467c3-9460-49ad-a979-a110c36cebd8\",\"type\":\"ResetTool\"},{\"attributes\":{},\"id\":\"180597b9-f50f-40d5-8704-db2c5ecef000\",\"type\":\"SaveTool\"},{\"attributes\":{\"source\":{\"id\":\"3f294ae6-5b7b-4ab0-ab0f-2a1902c9ed37\",\"type\":\"ColumnDataSource\"}},\"id\":\"e5ae8a89-a3f2-4987-b649-21627bd2e739\",\"type\":\"CDSView\"},{\"attributes\":{},\"id\":\"2acb205e-63a8-44b1-8678-b4fcbbc872fc\",\"type\":\"LinearScale\"},{\"attributes\":{\"data_source\":{\"id\":\"3f294ae6-5b7b-4ab0-ab0f-2a1902c9ed37\",\"type\":\"ColumnDataSource\"},\"glyph\":{\"id\":\"8d872fcf-f45d-4e0b-8784-d715cbca8200\",\"type\":\"Step\"},\"hover_glyph\":null,\"muted_glyph\":null,\"nonselection_glyph\":{\"id\":\"076dbe13-e545-4960-af21-89ff58bf2c0b\",\"type\":\"Step\"},\"selection_glyph\":null,\"view\":{\"id\":\"e5ae8a89-a3f2-4987-b649-21627bd2e739\",\"type\":\"CDSView\"}},\"id\":\"ff407fbb-de1f-4fda-ac82-3c6932d0502d\",\"type\":\"GlyphRenderer\"},{\"attributes\":{\"active_drag\":\"auto\",\"active_inspect\":\"auto\",\"active_multi\":null,\"active_scroll\":\"auto\",\"active_tap\":\"auto\",\"tools\":[{\"id\":\"3556b479-9885-4b70-8d69-3134dd584ca7\",\"type\":\"PanTool\"},{\"id\":\"0daea6c9-4dbc-4560-bb3d-39b44aec8781\",\"type\":\"WheelZoomTool\"},{\"id\":\"eac957d5-c0bf-479d-a8ac-d99066c93c99\",\"type\":\"BoxZoomTool\"},{\"id\":\"180597b9-f50f-40d5-8704-db2c5ecef000\",\"type\":\"SaveTool\"},{\"id\":\"b2a467c3-9460-49ad-a979-a110c36cebd8\",\"type\":\"ResetTool\"},{\"id\":\"fe409df2-f57f-4a8f-ad48-7b2c1252d47b\",\"type\":\"HelpTool\"}]},\"id\":\"b6bfc8b5-a145-4789-b014-9fe1f5e03583\",\"type\":\"Toolbar\"},{\"attributes\":{\"callback\":null},\"id\":\"34ede72f-9594-4670-bcac-a8a29e0cee0e\",\"type\":\"DataRange1d\"},{\"attributes\":{\"callback\":null,\"data\":{\"x\":[0,1,2,3,4,5,6,7,8,9,10,11,12,13,14,15,16,17,18,19,20,21,22,23,24,25,26,27,28,29],\"y\":[0,0.014492753623188406,0.04057971014492753,0.11304347826086956,0.13333333333333333,0.1855072463768116,0.24057971014492754,0.2782608695652174,0.32753623188405795,0.3710144927536232,0.6753623188405797,0.782608695652174,0.8463768115942029,0.8956521739130435,0.9159420289855073,0.9333333333333333,0.9536231884057971,0.9623188405797102,0.9710144927536232,0.991304347826087,0.9942028985507246,0.9942028985507246,0.9971014492753624,0.9971014492753624,0.9971014492753624,0.9971014492753624,0.9971014492753624,0.9971014492753624,0.9971014492753624,1.0]},\"selected\":{\"id\":\"e16d0a45-b742-4f76-811d-d42d1031c028\",\"type\":\"Selection\"},\"selection_policy\":{\"id\":\"926718e9-df2a-4015-bbda-d879b357feb8\",\"type\":\"UnionRenderers\"}},\"id\":\"3f294ae6-5b7b-4ab0-ab0f-2a1902c9ed37\",\"type\":\"ColumnDataSource\"},{\"attributes\":{\"overlay\":{\"id\":\"f9bed348-b47c-404a-b1d9-f94b1fe93482\",\"type\":\"BoxAnnotation\"}},\"id\":\"eac957d5-c0bf-479d-a8ac-d99066c93c99\",\"type\":\"BoxZoomTool\"},{\"attributes\":{\"dimension\":1,\"plot\":{\"id\":\"17f3bfac-5bd0-463e-ad7a-cfcca0b80bf3\",\"subtype\":\"Figure\",\"type\":\"Plot\"},\"ticker\":{\"id\":\"bc7eb6e1-e790-40af-a62f-0d4000d6d55d\",\"type\":\"BasicTicker\"}},\"id\":\"da6c1bd4-7021-4515-a202-0c81d37f0160\",\"type\":\"Grid\"},{\"attributes\":{},\"id\":\"3556b479-9885-4b70-8d69-3134dd584ca7\",\"type\":\"PanTool\"},{\"attributes\":{\"ticks\":[0,1,2,3,4,5,6,7,8,9,10,11,12,13,14,15,16,17,18,19,20,21,22,23,24,25,26,27,28,29]},\"id\":\"362477c6-0e5c-4029-b90d-29b6138af07b\",\"type\":\"FixedTicker\"},{\"attributes\":{\"callback\":null},\"id\":\"63f9bd88-8de7-416f-b525-85ddb3bacfe6\",\"type\":\"DataRange1d\"},{\"attributes\":{},\"id\":\"06e01648-2174-4aae-9a6d-513fb4fbf52a\",\"type\":\"BasicTickFormatter\"},{\"attributes\":{},\"id\":\"e16d0a45-b742-4f76-811d-d42d1031c028\",\"type\":\"Selection\"},{\"attributes\":{\"plot\":{\"id\":\"17f3bfac-5bd0-463e-ad7a-cfcca0b80bf3\",\"subtype\":\"Figure\",\"type\":\"Plot\"},\"ticker\":{\"id\":\"04005fa4-3955-484d-ad5b-1337979fcb9f\",\"type\":\"BasicTicker\"}},\"id\":\"3465856a-aec9-48bc-a2a6-63ae2fd3bd42\",\"type\":\"Grid\"},{\"attributes\":{\"axis_label\":\"City population bins\",\"axis_label_text_font\":\"verdana\",\"axis_label_text_font_style\":\"normal\",\"formatter\":{\"id\":\"06e01648-2174-4aae-9a6d-513fb4fbf52a\",\"type\":\"BasicTickFormatter\"},\"major_label_orientation\":0.785,\"major_label_overrides\":{\"0\":\"100\",\"1\":\"200\",\"10\":\"2 000\",\"11\":\"3 000\",\"12\":\"4 000\",\"13\":\"5 000\",\"14\":\"6 000\",\"15\":\"7 000\",\"16\":\"8 000\",\"17\":\"9 000\",\"18\":\"10 000\",\"19\":\"20 000\",\"2\":\"300\",\"20\":\"30 000\",\"21\":\"40 000\",\"22\":\"50 000\",\"23\":\"60 000\",\"24\":\"70 000\",\"25\":\"80 000\",\"26\":\"90 000\",\"27\":\"100 000\",\"28\":\"200 000\",\"29\":\"300 000\",\"3\":\"400\",\"4\":\"500\",\"5\":\"600\",\"6\":\"700\",\"7\":\"800\",\"8\":\"900\",\"9\":\"1 000\"},\"major_label_text_font\":\"verdana\",\"plot\":{\"id\":\"17f3bfac-5bd0-463e-ad7a-cfcca0b80bf3\",\"subtype\":\"Figure\",\"type\":\"Plot\"},\"ticker\":{\"id\":\"362477c6-0e5c-4029-b90d-29b6138af07b\",\"type\":\"FixedTicker\"}},\"id\":\"faaf1554-7d61-4599-a85b-9dc16e135f49\",\"type\":\"LinearAxis\"},{\"attributes\":{\"bottom_units\":\"screen\",\"fill_alpha\":{\"value\":0.5},\"fill_color\":{\"value\":\"lightgrey\"},\"left_units\":\"screen\",\"level\":\"overlay\",\"line_alpha\":{\"value\":1.0},\"line_color\":{\"value\":\"black\"},\"line_dash\":[4,4],\"line_width\":{\"value\":2},\"plot\":null,\"render_mode\":\"css\",\"right_units\":\"screen\",\"top_units\":\"screen\"},\"id\":\"f9bed348-b47c-404a-b1d9-f94b1fe93482\",\"type\":\"BoxAnnotation\"},{\"attributes\":{\"below\":[{\"id\":\"faaf1554-7d61-4599-a85b-9dc16e135f49\",\"type\":\"LinearAxis\"}],\"left\":[{\"id\":\"e7e7805f-075d-440e-a3c1-acc534d93f63\",\"type\":\"LinearAxis\"}],\"plot_height\":300,\"renderers\":[{\"id\":\"faaf1554-7d61-4599-a85b-9dc16e135f49\",\"type\":\"LinearAxis\"},{\"id\":\"3465856a-aec9-48bc-a2a6-63ae2fd3bd42\",\"type\":\"Grid\"},{\"id\":\"e7e7805f-075d-440e-a3c1-acc534d93f63\",\"type\":\"LinearAxis\"},{\"id\":\"da6c1bd4-7021-4515-a202-0c81d37f0160\",\"type\":\"Grid\"},{\"id\":\"f9bed348-b47c-404a-b1d9-f94b1fe93482\",\"type\":\"BoxAnnotation\"},{\"id\":\"ff407fbb-de1f-4fda-ac82-3c6932d0502d\",\"type\":\"GlyphRenderer\"}],\"title\":{\"id\":\"e23ce5c3-56b9-4c46-a3bc-1f679104d8f3\",\"type\":\"Title\"},\"toolbar\":{\"id\":\"b6bfc8b5-a145-4789-b014-9fe1f5e03583\",\"type\":\"Toolbar\"},\"x_range\":{\"id\":\"63f9bd88-8de7-416f-b525-85ddb3bacfe6\",\"type\":\"DataRange1d\"},\"x_scale\":{\"id\":\"682ea546-64e8-4921-8e40-5beee5eb0d3f\",\"type\":\"LinearScale\"},\"y_range\":{\"id\":\"34ede72f-9594-4670-bcac-a8a29e0cee0e\",\"type\":\"DataRange1d\"},\"y_scale\":{\"id\":\"2acb205e-63a8-44b1-8678-b4fcbbc872fc\",\"type\":\"LinearScale\"}},\"id\":\"17f3bfac-5bd0-463e-ad7a-cfcca0b80bf3\",\"subtype\":\"Figure\",\"type\":\"Plot\"},{\"attributes\":{\"line_color\":{\"value\":\"#0276FD\"},\"line_width\":{\"value\":2},\"x\":{\"field\":\"x\"},\"y\":{\"field\":\"y\"}},\"id\":\"8d872fcf-f45d-4e0b-8784-d715cbca8200\",\"type\":\"Step\"},{\"attributes\":{\"line_alpha\":{\"value\":0.1},\"line_color\":{\"value\":\"#1f77b4\"},\"line_width\":{\"value\":2},\"x\":{\"field\":\"x\"},\"y\":{\"field\":\"y\"}},\"id\":\"076dbe13-e545-4960-af21-89ff58bf2c0b\",\"type\":\"Step\"},{\"attributes\":{},\"id\":\"682ea546-64e8-4921-8e40-5beee5eb0d3f\",\"type\":\"LinearScale\"},{\"attributes\":{},\"id\":\"fe409df2-f57f-4a8f-ad48-7b2c1252d47b\",\"type\":\"HelpTool\"},{\"attributes\":{\"axis_label\":\"Percentile [%ile]\",\"axis_label_text_font\":\"verdana\",\"axis_label_text_font_style\":\"normal\",\"formatter\":{\"id\":\"7123b7ab-3571-4b2d-b0ae-4373e0dee0e3\",\"type\":\"BasicTickFormatter\"},\"major_label_text_font\":\"verdana\",\"plot\":{\"id\":\"17f3bfac-5bd0-463e-ad7a-cfcca0b80bf3\",\"subtype\":\"Figure\",\"type\":\"Plot\"},\"ticker\":{\"id\":\"bc7eb6e1-e790-40af-a62f-0d4000d6d55d\",\"type\":\"BasicTicker\"}},\"id\":\"e7e7805f-075d-440e-a3c1-acc534d93f63\",\"type\":\"LinearAxis\"}],\"root_ids\":[\"17f3bfac-5bd0-463e-ad7a-cfcca0b80bf3\"]},\"title\":\"Bokeh Application\",\"version\":\"0.13.0\"}};\n",
       "  var render_items = [{\"docid\":\"2b35a2d9-bf03-4092-a507-b873c40cb521\",\"roots\":{\"17f3bfac-5bd0-463e-ad7a-cfcca0b80bf3\":\"08718fa8-73b1-4419-b819-28b0582d1e76\"}}];\n",
       "  root.Bokeh.embed.embed_items_notebook(docs_json, render_items);\n",
       "\n",
       "  }\n",
       "  if (root.Bokeh !== undefined) {\n",
       "    embed_document(root);\n",
       "  } else {\n",
       "    var attempts = 0;\n",
       "    var timer = setInterval(function(root) {\n",
       "      if (root.Bokeh !== undefined) {\n",
       "        embed_document(root);\n",
       "        clearInterval(timer);\n",
       "      }\n",
       "      attempts++;\n",
       "      if (attempts > 100) {\n",
       "        console.log(\"Bokeh: ERROR: Unable to run BokehJS code because BokehJS library is missing\")\n",
       "        clearInterval(timer);\n",
       "      }\n",
       "    }, 10, root)\n",
       "  }\n",
       "})(window);"
      ],
      "application/vnd.bokehjs_exec.v0+json": ""
     },
     "metadata": {
      "application/vnd.bokehjs_exec.v0+json": {
       "id": "17f3bfac-5bd0-463e-ad7a-cfcca0b80bf3"
      }
     },
     "output_type": "display_data"
    }
   ],
   "source": [
    "#Plot cumulative distribution\n",
    "p = figure(plot_height=300, title=\"City population distribution\",\n",
    "           x_axis_label='City population bins', y_axis_label='Percentile [%ile]')\n",
    "p.step(list(range(0,len(bin_edges))),[0]+[list(np.cumsum(hist))[x]/NumberOfCity for x in range(0,len(hist))],\n",
    "       line_color=\"#0276FD\",line_width=2)\n",
    "\n",
    "p.xaxis.ticker = list(range(0,len(bin_edges)))\n",
    "p.xaxis.major_label_orientation = 3.14/4\n",
    "p.xaxis.major_label_overrides = {el:\"{:,}\".format(bin_edges[el]).replace(',',' ') for el in range(0,len(bin_edges))}\n",
    "\n",
    "p.title.text_font_size = '12pt'\n",
    "p.title.text_color = \"#0276FD\"\n",
    "p.title.text_font = \"verdana\"\n",
    "p.yaxis.axis_label_text_font = \"verdana\"\n",
    "p.yaxis.axis_label_text_font_style = \"normal\"\n",
    "p.xaxis.axis_label_text_font = \"verdana\"\n",
    "p.xaxis.axis_label_text_font_style = \"normal\"\n",
    "p.xaxis.major_label_text_font = \"verdana\"\n",
    "p.yaxis.major_label_text_font = \"verdana\"\n",
    "\n",
    "show(p)"
   ]
  },
  {
   "cell_type": "markdown",
   "metadata": {},
   "source": [
    "37% des villes ont 1000 habitants ou moins. 68% des villes ont 2000 habitants ou moins. Moins de 10% des villes ont 5000 habitants ou plus. Les villes de 10000 habitants ou plus représentent moins de 1% des villes."
   ]
  },
  {
   "cell_type": "code",
   "execution_count": 9,
   "metadata": {
    "scrolled": true
   },
   "outputs": [
    {
     "data": {
      "text/plain": [
       "99"
      ]
     },
     "execution_count": 9,
     "metadata": {},
     "output_type": "execute_result"
    }
   ],
   "source": [
    "CityPopBinCumDistributionPercentage = [int(round(list(np.cumsum(hist))[x]/NumberOfCity*100)) for x in range(0,len(hist))]\n",
    "CityPopBinCumDistributionPercentage[20]"
   ]
  },
  {
   "cell_type": "markdown",
   "metadata": {},
   "source": [
    "## 3.3. Area basic analysis"
   ]
  },
  {
   "cell_type": "code",
   "execution_count": 10,
   "metadata": {},
   "outputs": [
    {
     "name": "stdout",
     "output_type": "stream",
     "text": [
      "Surface totale: 6840.54 km²\n",
      "Surface moyenne: 19.82 km²\n",
      "Surface mediane: 15.81 km²\n",
      "Surface la plus faible: 0.56 km² (Bécherel)\n",
      "Surface la plus élevée: 110.66 km² (Paimpont)\n"
     ]
    }
   ],
   "source": [
    "#Statistics about area\n",
    "TotalArea = sum(AllAreaList)/100 # km2, originally surface in hectare\n",
    "AverageArea = int(np.mean(AllAreaList)) # Surface moyenne \n",
    "MedianArea = int(np.median(AllAreaList)) # Surface mediane\n",
    "MinArea = np.min(AllAreaList) # Surface la plus faible\n",
    "MaxArea = np.max(AllAreaList) # Surface la plus élevée\n",
    "\n",
    "print 'Surface totale: ' + str(TotalArea) + ' km' + (u\"\\u00b2\").encode('utf-8') \n",
    "print 'Surface moyenne: '+ str(AverageArea/100) + ' km' + (u\"\\u00b2\").encode('utf-8') \n",
    "print 'Surface mediane: '+ str(MedianArea/100) + ' km' + (u\"\\u00b2\").encode('utf-8') \n",
    "print 'Surface la plus faible: '+ str(MinArea/100) + ' km' + (u\"\\u00b2\").encode('utf-8') + ' (' + str(list(mydb[CollectionName].find({'surface': MinArea},{'nom':1,'_id':0}))[0]['nom'].encode('utf-8')) + ')'\n",
    "print 'Surface la plus élevée: '+ str(MaxArea/100) + ' km' + (u\"\\u00b2\").encode('utf-8')  + ' (' + str(list(mydb[CollectionName].find({'surface': MaxArea},{'nom':1,'_id':0}))[0]['nom'].encode('utf-8')) + ')'"
   ]
  },
  {
   "cell_type": "markdown",
   "metadata": {},
   "source": [
    "### 3.3.1 Area histogram"
   ]
  },
  {
   "cell_type": "code",
   "execution_count": 11,
   "metadata": {
    "collapsed": true
   },
   "outputs": [],
   "source": [
    "# Prepare the data for plot\n",
    "start = Fcn_BasicStatisticalAnalysisOfPopulation.DefineMinMaxLog(MinArea,'Min')\n",
    "stop = Fcn_BasicStatisticalAnalysisOfPopulation.DefineMinMaxLog(MaxArea,'Max')\n",
    "bins = Fcn_BasicStatisticalAnalysisOfPopulation.CreateLogBin(start,stop)\n",
    "hist, bin_edges = np.histogram(AllAreaList, bins=bins)\n",
    "\n",
    "# Remove the first and last value when hist is 0 - Comment out this line to show forall log scale\n",
    "hist, bin_edges = Fcn_BasicStatisticalAnalysisOfPopulation.RemoveLastFirstValuesWhenZero(hist, bin_edges)"
   ]
  },
  {
   "cell_type": "code",
   "execution_count": 12,
   "metadata": {},
   "outputs": [
    {
     "data": {
      "text/html": [
       "\n",
       "\n",
       "\n",
       "\n",
       "\n",
       "\n",
       "  <div class=\"bk-root\" id=\"f69008b7-b763-432b-82ea-cde332c4c18a\"></div>\n"
      ]
     },
     "metadata": {},
     "output_type": "display_data"
    },
    {
     "data": {
      "application/javascript": [
       "(function(root) {\n",
       "  function embed_document(root) {\n",
       "    \n",
       "  var docs_json = {\"fc98700f-15ed-4817-8a24-9d9f3632e585\":{\"roots\":{\"references\":[{\"attributes\":{},\"id\":\"1b3c6e1a-42b1-4ee7-9d6c-13e0e24c5b73\",\"type\":\"PanTool\"},{\"attributes\":{},\"id\":\"c04b25a1-63fe-40b8-992d-8a84afefb366\",\"type\":\"LinearScale\"},{\"attributes\":{\"callback\":null},\"id\":\"3efaab61-70a4-44d4-98c2-bf933d639182\",\"type\":\"DataRange1d\"},{\"attributes\":{},\"id\":\"f7f7743b-288d-4de6-8396-2a0cc9ac4f57\",\"type\":\"LinearScale\"},{\"attributes\":{\"bottom_units\":\"screen\",\"fill_alpha\":{\"value\":0.5},\"fill_color\":{\"value\":\"lightgrey\"},\"left_units\":\"screen\",\"level\":\"overlay\",\"line_alpha\":{\"value\":1.0},\"line_color\":{\"value\":\"black\"},\"line_dash\":[4,4],\"line_width\":{\"value\":2},\"plot\":null,\"render_mode\":\"css\",\"right_units\":\"screen\",\"top_units\":\"screen\"},\"id\":\"713aa50c-a0f8-496d-abd6-49cf24c86470\",\"type\":\"BoxAnnotation\"},{\"attributes\":{},\"id\":\"ef3813c1-a330-4619-81cf-bee316e26c69\",\"type\":\"UnionRenderers\"},{\"attributes\":{\"bottom\":{\"value\":0},\"fill_alpha\":{\"value\":0.1},\"fill_color\":{\"value\":\"#1f77b4\"},\"left\":{\"field\":\"left\"},\"line_alpha\":{\"value\":0.1},\"line_color\":{\"value\":\"#1f77b4\"},\"right\":{\"field\":\"right\"},\"top\":{\"field\":\"top\"}},\"id\":\"e0cb3ec4-c231-48c1-9c2e-5d99d4967bdc\",\"type\":\"Quad\"},{\"attributes\":{\"active_drag\":\"auto\",\"active_inspect\":\"auto\",\"active_multi\":null,\"active_scroll\":\"auto\",\"active_tap\":\"auto\",\"tools\":[{\"id\":\"1b3c6e1a-42b1-4ee7-9d6c-13e0e24c5b73\",\"type\":\"PanTool\"},{\"id\":\"4e86ef47-2b9c-4a66-ae38-cb8784dd31b1\",\"type\":\"WheelZoomTool\"},{\"id\":\"87988514-03f3-49bc-ad80-9fce520da900\",\"type\":\"BoxZoomTool\"},{\"id\":\"89ee50c6-8f63-4cae-82a3-d87e4fad740a\",\"type\":\"SaveTool\"},{\"id\":\"3e50b07a-caa3-4028-94ab-e5fde892b635\",\"type\":\"ResetTool\"},{\"id\":\"27b8ac35-bbb6-4922-a71f-1770ad46a57c\",\"type\":\"HelpTool\"}]},\"id\":\"650621dc-cba2-406a-8256-348d7547c384\",\"type\":\"Toolbar\"},{\"attributes\":{\"ticks\":[0,1,2,3,4,5,6,7,8,9,10,11,12,13,14,15,16,17,18,19,20,21,22,23,24]},\"id\":\"7df7d337-c8e4-4155-b9b2-c928552525aa\",\"type\":\"FixedTicker\"},{\"attributes\":{\"axis_label\":\"City area bins [km\\u00b2]\",\"axis_label_text_font\":\"verdana\",\"axis_label_text_font_style\":\"normal\",\"formatter\":{\"id\":\"a75bcdef-0d4e-4ad3-9907-393080f9d96c\",\"type\":\"BasicTickFormatter\"},\"major_label_orientation\":0.785,\"major_label_overrides\":{\"0\":\"0.5\",\"1\":\"0.6\",\"10\":\"6\",\"11\":\"7\",\"12\":\"8\",\"13\":\"9\",\"14\":\"10\",\"15\":\"20\",\"16\":\"30\",\"17\":\"40\",\"18\":\"50\",\"19\":\"60\",\"2\":\"0.7\",\"20\":\"70\",\"21\":\"80\",\"22\":\"90\",\"23\":\"100\",\"24\":\"200\",\"3\":\"0.8\",\"4\":\"0.9\",\"5\":\"1\",\"6\":\"2\",\"7\":\"3\",\"8\":\"4\",\"9\":\"5\"},\"major_label_text_font\":\"verdana\",\"plot\":{\"id\":\"e2f1e4e6-0370-407e-8ccf-dc59febc37e1\",\"subtype\":\"Figure\",\"type\":\"Plot\"},\"ticker\":{\"id\":\"7df7d337-c8e4-4155-b9b2-c928552525aa\",\"type\":\"FixedTicker\"}},\"id\":\"f2fb94a7-eb58-443e-a205-1bb041b175d5\",\"type\":\"LinearAxis\"},{\"attributes\":{\"source\":{\"id\":\"8dedaddb-2314-41ed-99c0-4aac382204bf\",\"type\":\"ColumnDataSource\"}},\"id\":\"24dcfd60-d725-4baa-8914-6c0a3763e502\",\"type\":\"CDSView\"},{\"attributes\":{},\"id\":\"d298ecbf-998a-4055-b3ba-801b6f86dfbf\",\"type\":\"BasicTicker\"},{\"attributes\":{\"bottom\":{\"value\":0},\"fill_color\":{\"value\":\"#0276FD\"},\"left\":{\"field\":\"left\"},\"line_color\":{\"value\":\"#5F5B5B\"},\"right\":{\"field\":\"right\"},\"top\":{\"field\":\"top\"}},\"id\":\"964feedc-077d-4ba5-8bab-1934f8e5cb7b\",\"type\":\"Quad\"},{\"attributes\":{\"callback\":null,\"data\":{\"left\":[0,1,2,3,4,5,6,7,8,9,10,11,12,13,14,15,16,17,18,19,20,21,22,23],\"right\":[1,2,3,4,5,6,7,8,9,10,11,12,13,14,15,16,17,18,19,20,21,22,23,24],\"top\":[1,0,0,0,0,1,6,9,9,8,11,16,14,18,125,65,31,16,7,3,3,0,1,1]},\"selected\":{\"id\":\"25b222d4-5929-4beb-be14-fae2e36b4694\",\"type\":\"Selection\"},\"selection_policy\":{\"id\":\"ef3813c1-a330-4619-81cf-bee316e26c69\",\"type\":\"UnionRenderers\"}},\"id\":\"8dedaddb-2314-41ed-99c0-4aac382204bf\",\"type\":\"ColumnDataSource\"},{\"attributes\":{\"plot\":{\"id\":\"e2f1e4e6-0370-407e-8ccf-dc59febc37e1\",\"subtype\":\"Figure\",\"type\":\"Plot\"},\"ticker\":{\"id\":\"b4e9a7e9-1973-41d3-96d8-edf85c1765bf\",\"type\":\"BasicTicker\"}},\"id\":\"8f19b80d-f98d-41c5-a672-bcdff7f1dd69\",\"type\":\"Grid\"},{\"attributes\":{},\"id\":\"4e86ef47-2b9c-4a66-ae38-cb8784dd31b1\",\"type\":\"WheelZoomTool\"},{\"attributes\":{},\"id\":\"25b222d4-5929-4beb-be14-fae2e36b4694\",\"type\":\"Selection\"},{\"attributes\":{\"axis_label\":\"Count [#]\",\"axis_label_text_font\":\"verdana\",\"axis_label_text_font_style\":\"normal\",\"formatter\":{\"id\":\"5830510f-56ca-4cc0-b5fc-94aa14c64579\",\"type\":\"BasicTickFormatter\"},\"major_label_text_font\":\"verdana\",\"plot\":{\"id\":\"e2f1e4e6-0370-407e-8ccf-dc59febc37e1\",\"subtype\":\"Figure\",\"type\":\"Plot\"},\"ticker\":{\"id\":\"d298ecbf-998a-4055-b3ba-801b6f86dfbf\",\"type\":\"BasicTicker\"}},\"id\":\"d24c3c6a-460a-424b-b309-46ebacf66cf0\",\"type\":\"LinearAxis\"},{\"attributes\":{\"below\":[{\"id\":\"f2fb94a7-eb58-443e-a205-1bb041b175d5\",\"type\":\"LinearAxis\"}],\"left\":[{\"id\":\"d24c3c6a-460a-424b-b309-46ebacf66cf0\",\"type\":\"LinearAxis\"}],\"plot_height\":300,\"renderers\":[{\"id\":\"f2fb94a7-eb58-443e-a205-1bb041b175d5\",\"type\":\"LinearAxis\"},{\"id\":\"8f19b80d-f98d-41c5-a672-bcdff7f1dd69\",\"type\":\"Grid\"},{\"id\":\"d24c3c6a-460a-424b-b309-46ebacf66cf0\",\"type\":\"LinearAxis\"},{\"id\":\"2f11db25-5205-4b9b-8712-77babed02a9a\",\"type\":\"Grid\"},{\"id\":\"713aa50c-a0f8-496d-abd6-49cf24c86470\",\"type\":\"BoxAnnotation\"},{\"id\":\"a714d0d4-402d-4490-8c6a-55bb7bc4267f\",\"type\":\"GlyphRenderer\"}],\"title\":{\"id\":\"02d9a30b-ecd4-4820-8cc6-41e591fcde9f\",\"type\":\"Title\"},\"toolbar\":{\"id\":\"650621dc-cba2-406a-8256-348d7547c384\",\"type\":\"Toolbar\"},\"x_range\":{\"id\":\"3efaab61-70a4-44d4-98c2-bf933d639182\",\"type\":\"DataRange1d\"},\"x_scale\":{\"id\":\"c04b25a1-63fe-40b8-992d-8a84afefb366\",\"type\":\"LinearScale\"},\"y_range\":{\"id\":\"5f0a0ff7-a928-4e9c-b114-471a3e8a0964\",\"type\":\"DataRange1d\"},\"y_scale\":{\"id\":\"f7f7743b-288d-4de6-8396-2a0cc9ac4f57\",\"type\":\"LinearScale\"}},\"id\":\"e2f1e4e6-0370-407e-8ccf-dc59febc37e1\",\"subtype\":\"Figure\",\"type\":\"Plot\"},{\"attributes\":{\"overlay\":{\"id\":\"713aa50c-a0f8-496d-abd6-49cf24c86470\",\"type\":\"BoxAnnotation\"}},\"id\":\"87988514-03f3-49bc-ad80-9fce520da900\",\"type\":\"BoxZoomTool\"},{\"attributes\":{},\"id\":\"27b8ac35-bbb6-4922-a71f-1770ad46a57c\",\"type\":\"HelpTool\"},{\"attributes\":{},\"id\":\"a75bcdef-0d4e-4ad3-9907-393080f9d96c\",\"type\":\"BasicTickFormatter\"},{\"attributes\":{\"plot\":null,\"text\":\"City area\",\"text_color\":{\"value\":\"#0276FD\"},\"text_font\":\"verdana\",\"text_font_size\":{\"value\":\"12pt\"}},\"id\":\"02d9a30b-ecd4-4820-8cc6-41e591fcde9f\",\"type\":\"Title\"},{\"attributes\":{},\"id\":\"89ee50c6-8f63-4cae-82a3-d87e4fad740a\",\"type\":\"SaveTool\"},{\"attributes\":{\"dimension\":1,\"plot\":{\"id\":\"e2f1e4e6-0370-407e-8ccf-dc59febc37e1\",\"subtype\":\"Figure\",\"type\":\"Plot\"},\"ticker\":{\"id\":\"d298ecbf-998a-4055-b3ba-801b6f86dfbf\",\"type\":\"BasicTicker\"}},\"id\":\"2f11db25-5205-4b9b-8712-77babed02a9a\",\"type\":\"Grid\"},{\"attributes\":{},\"id\":\"5830510f-56ca-4cc0-b5fc-94aa14c64579\",\"type\":\"BasicTickFormatter\"},{\"attributes\":{},\"id\":\"3e50b07a-caa3-4028-94ab-e5fde892b635\",\"type\":\"ResetTool\"},{\"attributes\":{\"data_source\":{\"id\":\"8dedaddb-2314-41ed-99c0-4aac382204bf\",\"type\":\"ColumnDataSource\"},\"glyph\":{\"id\":\"964feedc-077d-4ba5-8bab-1934f8e5cb7b\",\"type\":\"Quad\"},\"hover_glyph\":null,\"muted_glyph\":null,\"nonselection_glyph\":{\"id\":\"e0cb3ec4-c231-48c1-9c2e-5d99d4967bdc\",\"type\":\"Quad\"},\"selection_glyph\":null,\"view\":{\"id\":\"24dcfd60-d725-4baa-8914-6c0a3763e502\",\"type\":\"CDSView\"}},\"id\":\"a714d0d4-402d-4490-8c6a-55bb7bc4267f\",\"type\":\"GlyphRenderer\"},{\"attributes\":{},\"id\":\"b4e9a7e9-1973-41d3-96d8-edf85c1765bf\",\"type\":\"BasicTicker\"},{\"attributes\":{\"callback\":null},\"id\":\"5f0a0ff7-a928-4e9c-b114-471a3e8a0964\",\"type\":\"DataRange1d\"}],\"root_ids\":[\"e2f1e4e6-0370-407e-8ccf-dc59febc37e1\"]},\"title\":\"Bokeh Application\",\"version\":\"0.13.0\"}};\n",
       "  var render_items = [{\"docid\":\"fc98700f-15ed-4817-8a24-9d9f3632e585\",\"roots\":{\"e2f1e4e6-0370-407e-8ccf-dc59febc37e1\":\"f69008b7-b763-432b-82ea-cde332c4c18a\"}}];\n",
       "  root.Bokeh.embed.embed_items_notebook(docs_json, render_items);\n",
       "\n",
       "  }\n",
       "  if (root.Bokeh !== undefined) {\n",
       "    embed_document(root);\n",
       "  } else {\n",
       "    var attempts = 0;\n",
       "    var timer = setInterval(function(root) {\n",
       "      if (root.Bokeh !== undefined) {\n",
       "        embed_document(root);\n",
       "        clearInterval(timer);\n",
       "      }\n",
       "      attempts++;\n",
       "      if (attempts > 100) {\n",
       "        console.log(\"Bokeh: ERROR: Unable to run BokehJS code because BokehJS library is missing\")\n",
       "        clearInterval(timer);\n",
       "      }\n",
       "    }, 10, root)\n",
       "  }\n",
       "})(window);"
      ],
      "application/vnd.bokehjs_exec.v0+json": ""
     },
     "metadata": {
      "application/vnd.bokehjs_exec.v0+json": {
       "id": "e2f1e4e6-0370-407e-8ccf-dc59febc37e1"
      }
     },
     "output_type": "display_data"
    }
   ],
   "source": [
    "# Plot histogram\n",
    "p = figure(plot_height=300, title=\"City area\",\n",
    "           x_axis_label='City area bins'+ ' [km' + (u\"\\u00b2]\").encode('utf-8'), y_axis_label='Count [#]')\n",
    "p.quad(top=list(hist), bottom=0, left=list(range(0,len(bin_edges)))[:-1], right=list(range(0,len(bin_edges)))[1:],\n",
    "       fill_color = \"#0276FD\", line_color = \"#5F5B5B\", alpha=1)\n",
    "\n",
    "p.xaxis.ticker = list(range(0,len(bin_edges)))\n",
    "p.xaxis.major_label_orientation = 3.14/4\n",
    "p.xaxis.major_label_overrides = {el:\"{:,}\".format((bin_edges[el]/100)).replace(',',' ') if (bin_edges[el]/100) < 1 else \"{:,}\".format(int(bin_edges[el]/100)).replace(',',' ') for el in range(0,len(bin_edges))}\n",
    "p.title.text_font_size = '12pt'\n",
    "p.title.text_color = \"#0276FD\"\n",
    "p.title.text_font = \"verdana\"\n",
    "p.yaxis.axis_label_text_font = \"verdana\"\n",
    "p.yaxis.axis_label_text_font_style = \"normal\"\n",
    "p.xaxis.axis_label_text_font = \"verdana\"\n",
    "p.xaxis.axis_label_text_font_style = \"normal\"\n",
    "p.xaxis.major_label_text_font = \"verdana\"\n",
    "p.yaxis.major_label_text_font = \"verdana\"\n",
    "show(p)"
   ]
  },
  {
   "cell_type": "markdown",
   "metadata": {},
   "source": [
    "36% de villes ont un territoire compris entre 10 et 20 km$^2$ et 19% des villes ont une surface comprises entre 20 et 30 km$^2$. Une seule ville a un territoire inférieur a 1km$^2$."
   ]
  },
  {
   "cell_type": "code",
   "execution_count": 13,
   "metadata": {},
   "outputs": [
    {
     "data": {
      "text/plain": [
       "19"
      ]
     },
     "execution_count": 13,
     "metadata": {},
     "output_type": "execute_result"
    }
   ],
   "source": [
    "CityAreaBinPercentage = [int(round(list(hist)[x]/NumberOfCity*100)) for x in range(0,len(hist))]\n",
    "CityAreaBinPercentage[15]"
   ]
  },
  {
   "cell_type": "markdown",
   "metadata": {},
   "source": [
    "### 3.3.2. Population cumulative distribution"
   ]
  },
  {
   "cell_type": "code",
   "execution_count": 14,
   "metadata": {},
   "outputs": [
    {
     "data": {
      "text/html": [
       "\n",
       "\n",
       "\n",
       "\n",
       "\n",
       "\n",
       "  <div class=\"bk-root\" id=\"386b6c23-dc06-4063-9b99-962c68ab6178\"></div>\n"
      ]
     },
     "metadata": {},
     "output_type": "display_data"
    },
    {
     "data": {
      "application/javascript": [
       "(function(root) {\n",
       "  function embed_document(root) {\n",
       "    \n",
       "  var docs_json = {\"e28c78a9-7c7d-4c4f-804f-48b0e4e1dc5f\":{\"roots\":{\"references\":[{\"attributes\":{\"bottom_units\":\"screen\",\"fill_alpha\":{\"value\":0.5},\"fill_color\":{\"value\":\"lightgrey\"},\"left_units\":\"screen\",\"level\":\"overlay\",\"line_alpha\":{\"value\":1.0},\"line_color\":{\"value\":\"black\"},\"line_dash\":[4,4],\"line_width\":{\"value\":2},\"plot\":null,\"render_mode\":\"css\",\"right_units\":\"screen\",\"top_units\":\"screen\"},\"id\":\"9fee1315-e44b-4405-95a1-505be0163da5\",\"type\":\"BoxAnnotation\"},{\"attributes\":{},\"id\":\"0d84a6f4-5171-48c8-9b8c-823edcc9a307\",\"type\":\"LinearScale\"},{\"attributes\":{\"data_source\":{\"id\":\"adf781af-7bcc-4b71-95c8-c3b1d1c9041c\",\"type\":\"ColumnDataSource\"},\"glyph\":{\"id\":\"ae59b996-f533-41ad-9249-de81984070eb\",\"type\":\"Step\"},\"hover_glyph\":null,\"muted_glyph\":null,\"nonselection_glyph\":{\"id\":\"a66b3f72-40df-4754-a48a-798363ad7c6f\",\"type\":\"Step\"},\"selection_glyph\":null,\"view\":{\"id\":\"5a74be7b-9b08-4366-91d4-aaf6ec0c42bf\",\"type\":\"CDSView\"}},\"id\":\"251bcfa4-5634-49b1-9c86-456efe1c4fd8\",\"type\":\"GlyphRenderer\"},{\"attributes\":{\"plot\":null,\"text\":\"City area distribution\",\"text_color\":{\"value\":\"#0276FD\"},\"text_font\":\"verdana\",\"text_font_size\":{\"value\":\"12pt\"}},\"id\":\"ff0853f4-dff7-4a4a-bdad-4255d454a98f\",\"type\":\"Title\"},{\"attributes\":{\"ticks\":[0,1,2,3,4,5,6,7,8,9,10,11,12,13,14,15,16,17,18,19,20,21,22,23,24]},\"id\":\"3f208b24-20d7-4999-a4b4-655bddea0df0\",\"type\":\"FixedTicker\"},{\"attributes\":{},\"id\":\"8ac5d89d-8009-47da-8ab0-7c3e780c8b99\",\"type\":\"WheelZoomTool\"},{\"attributes\":{\"below\":[{\"id\":\"cd16f87b-be07-41b1-bc63-396878918972\",\"type\":\"LinearAxis\"}],\"left\":[{\"id\":\"86501974-e28c-4610-8e76-9cb104dd5d00\",\"type\":\"LinearAxis\"}],\"plot_height\":300,\"renderers\":[{\"id\":\"cd16f87b-be07-41b1-bc63-396878918972\",\"type\":\"LinearAxis\"},{\"id\":\"bf9beb6d-5edc-4072-b6c4-44a412c5d00c\",\"type\":\"Grid\"},{\"id\":\"86501974-e28c-4610-8e76-9cb104dd5d00\",\"type\":\"LinearAxis\"},{\"id\":\"04cb6874-0b75-47b5-adf7-6011009b31d0\",\"type\":\"Grid\"},{\"id\":\"9fee1315-e44b-4405-95a1-505be0163da5\",\"type\":\"BoxAnnotation\"},{\"id\":\"251bcfa4-5634-49b1-9c86-456efe1c4fd8\",\"type\":\"GlyphRenderer\"}],\"title\":{\"id\":\"ff0853f4-dff7-4a4a-bdad-4255d454a98f\",\"type\":\"Title\"},\"toolbar\":{\"id\":\"57b541e2-192a-448d-985b-812bdafb50d0\",\"type\":\"Toolbar\"},\"x_range\":{\"id\":\"0d7fadee-89f0-4521-9532-c3785cea7e9a\",\"type\":\"DataRange1d\"},\"x_scale\":{\"id\":\"0d84a6f4-5171-48c8-9b8c-823edcc9a307\",\"type\":\"LinearScale\"},\"y_range\":{\"id\":\"53cad068-25b2-4e89-93fb-fb136888d428\",\"type\":\"DataRange1d\"},\"y_scale\":{\"id\":\"88b89eeb-bc68-4e46-b2a3-5611b8f16570\",\"type\":\"LinearScale\"}},\"id\":\"1b21f400-0b4e-43c9-849f-c8b290de5981\",\"subtype\":\"Figure\",\"type\":\"Plot\"},{\"attributes\":{},\"id\":\"80054560-e9f8-4758-8706-cd1410187a35\",\"type\":\"ResetTool\"},{\"attributes\":{\"dimension\":1,\"plot\":{\"id\":\"1b21f400-0b4e-43c9-849f-c8b290de5981\",\"subtype\":\"Figure\",\"type\":\"Plot\"},\"ticker\":{\"id\":\"a4f0fdef-7b3b-43e1-b9f4-e5c5c35d623d\",\"type\":\"BasicTicker\"}},\"id\":\"04cb6874-0b75-47b5-adf7-6011009b31d0\",\"type\":\"Grid\"},{\"attributes\":{},\"id\":\"bdeed57c-9714-4ce3-be9f-40820805e215\",\"type\":\"HelpTool\"},{\"attributes\":{},\"id\":\"e6a6fb48-d83f-40d2-864e-22a0ea4cd148\",\"type\":\"Selection\"},{\"attributes\":{\"line_color\":{\"value\":\"#0276FD\"},\"line_width\":{\"value\":2},\"x\":{\"field\":\"x\"},\"y\":{\"field\":\"y\"}},\"id\":\"ae59b996-f533-41ad-9249-de81984070eb\",\"type\":\"Step\"},{\"attributes\":{},\"id\":\"a4f0fdef-7b3b-43e1-b9f4-e5c5c35d623d\",\"type\":\"BasicTicker\"},{\"attributes\":{\"line_alpha\":{\"value\":0.1},\"line_color\":{\"value\":\"#1f77b4\"},\"line_width\":{\"value\":2},\"x\":{\"field\":\"x\"},\"y\":{\"field\":\"y\"}},\"id\":\"a66b3f72-40df-4754-a48a-798363ad7c6f\",\"type\":\"Step\"},{\"attributes\":{\"axis_label\":\"Percentile [%ile]\",\"axis_label_text_font\":\"verdana\",\"axis_label_text_font_style\":\"normal\",\"formatter\":{\"id\":\"dbb734ec-740f-439c-bf42-d9d480b14596\",\"type\":\"BasicTickFormatter\"},\"major_label_text_font\":\"verdana\",\"plot\":{\"id\":\"1b21f400-0b4e-43c9-849f-c8b290de5981\",\"subtype\":\"Figure\",\"type\":\"Plot\"},\"ticker\":{\"id\":\"a4f0fdef-7b3b-43e1-b9f4-e5c5c35d623d\",\"type\":\"BasicTicker\"}},\"id\":\"86501974-e28c-4610-8e76-9cb104dd5d00\",\"type\":\"LinearAxis\"},{\"attributes\":{},\"id\":\"a99211e9-5912-44d0-875f-b21c96218f6e\",\"type\":\"BasicTicker\"},{\"attributes\":{\"axis_label\":\"City area bins\",\"axis_label_text_font\":\"verdana\",\"axis_label_text_font_style\":\"normal\",\"formatter\":{\"id\":\"0223ed84-7601-470b-aae6-291a9c9c3d01\",\"type\":\"BasicTickFormatter\"},\"major_label_orientation\":0.785,\"major_label_overrides\":{\"0\":\"0.5\",\"1\":\"0.6\",\"10\":\"6\",\"11\":\"7\",\"12\":\"8\",\"13\":\"9\",\"14\":\"10\",\"15\":\"20\",\"16\":\"30\",\"17\":\"40\",\"18\":\"50\",\"19\":\"60\",\"2\":\"0.7\",\"20\":\"70\",\"21\":\"80\",\"22\":\"90\",\"23\":\"100\",\"24\":\"200\",\"3\":\"0.8\",\"4\":\"0.9\",\"5\":\"1\",\"6\":\"2\",\"7\":\"3\",\"8\":\"4\",\"9\":\"5\"},\"major_label_text_font\":\"verdana\",\"plot\":{\"id\":\"1b21f400-0b4e-43c9-849f-c8b290de5981\",\"subtype\":\"Figure\",\"type\":\"Plot\"},\"ticker\":{\"id\":\"3f208b24-20d7-4999-a4b4-655bddea0df0\",\"type\":\"FixedTicker\"}},\"id\":\"cd16f87b-be07-41b1-bc63-396878918972\",\"type\":\"LinearAxis\"},{\"attributes\":{\"plot\":{\"id\":\"1b21f400-0b4e-43c9-849f-c8b290de5981\",\"subtype\":\"Figure\",\"type\":\"Plot\"},\"ticker\":{\"id\":\"a99211e9-5912-44d0-875f-b21c96218f6e\",\"type\":\"BasicTicker\"}},\"id\":\"bf9beb6d-5edc-4072-b6c4-44a412c5d00c\",\"type\":\"Grid\"},{\"attributes\":{},\"id\":\"0223ed84-7601-470b-aae6-291a9c9c3d01\",\"type\":\"BasicTickFormatter\"},{\"attributes\":{},\"id\":\"daba3376-5e78-45b9-9865-8172e1cc8521\",\"type\":\"SaveTool\"},{\"attributes\":{},\"id\":\"7a5de7dc-6a07-4ecc-a608-6fd78af53e05\",\"type\":\"UnionRenderers\"},{\"attributes\":{\"callback\":null},\"id\":\"0d7fadee-89f0-4521-9532-c3785cea7e9a\",\"type\":\"DataRange1d\"},{\"attributes\":{\"overlay\":{\"id\":\"9fee1315-e44b-4405-95a1-505be0163da5\",\"type\":\"BoxAnnotation\"}},\"id\":\"49a3426b-db6f-4603-a5e0-f40ca38da93b\",\"type\":\"BoxZoomTool\"},{\"attributes\":{\"callback\":null},\"id\":\"53cad068-25b2-4e89-93fb-fb136888d428\",\"type\":\"DataRange1d\"},{\"attributes\":{\"active_drag\":\"auto\",\"active_inspect\":\"auto\",\"active_multi\":null,\"active_scroll\":\"auto\",\"active_tap\":\"auto\",\"tools\":[{\"id\":\"04ece583-86bf-411d-ba0a-82593fac33a7\",\"type\":\"PanTool\"},{\"id\":\"8ac5d89d-8009-47da-8ab0-7c3e780c8b99\",\"type\":\"WheelZoomTool\"},{\"id\":\"49a3426b-db6f-4603-a5e0-f40ca38da93b\",\"type\":\"BoxZoomTool\"},{\"id\":\"daba3376-5e78-45b9-9865-8172e1cc8521\",\"type\":\"SaveTool\"},{\"id\":\"80054560-e9f8-4758-8706-cd1410187a35\",\"type\":\"ResetTool\"},{\"id\":\"bdeed57c-9714-4ce3-be9f-40820805e215\",\"type\":\"HelpTool\"}]},\"id\":\"57b541e2-192a-448d-985b-812bdafb50d0\",\"type\":\"Toolbar\"},{\"attributes\":{},\"id\":\"04ece583-86bf-411d-ba0a-82593fac33a7\",\"type\":\"PanTool\"},{\"attributes\":{},\"id\":\"88b89eeb-bc68-4e46-b2a3-5611b8f16570\",\"type\":\"LinearScale\"},{\"attributes\":{\"source\":{\"id\":\"adf781af-7bcc-4b71-95c8-c3b1d1c9041c\",\"type\":\"ColumnDataSource\"}},\"id\":\"5a74be7b-9b08-4366-91d4-aaf6ec0c42bf\",\"type\":\"CDSView\"},{\"attributes\":{},\"id\":\"dbb734ec-740f-439c-bf42-d9d480b14596\",\"type\":\"BasicTickFormatter\"},{\"attributes\":{\"callback\":null,\"data\":{\"x\":[0,1,2,3,4,5,6,7,8,9,10,11,12,13,14,15,16,17,18,19,20,21,22,23,24],\"y\":[0,0.002898550724637681,0.002898550724637681,0.002898550724637681,0.002898550724637681,0.002898550724637681,0.005797101449275362,0.02318840579710145,0.04927536231884058,0.07536231884057971,0.09855072463768116,0.13043478260869565,0.17681159420289855,0.21739130434782608,0.26956521739130435,0.6318840579710145,0.8202898550724638,0.9101449275362319,0.9565217391304348,0.9768115942028985,0.9855072463768116,0.9942028985507246,0.9942028985507246,0.9971014492753624,1.0]},\"selected\":{\"id\":\"e6a6fb48-d83f-40d2-864e-22a0ea4cd148\",\"type\":\"Selection\"},\"selection_policy\":{\"id\":\"7a5de7dc-6a07-4ecc-a608-6fd78af53e05\",\"type\":\"UnionRenderers\"}},\"id\":\"adf781af-7bcc-4b71-95c8-c3b1d1c9041c\",\"type\":\"ColumnDataSource\"}],\"root_ids\":[\"1b21f400-0b4e-43c9-849f-c8b290de5981\"]},\"title\":\"Bokeh Application\",\"version\":\"0.13.0\"}};\n",
       "  var render_items = [{\"docid\":\"e28c78a9-7c7d-4c4f-804f-48b0e4e1dc5f\",\"roots\":{\"1b21f400-0b4e-43c9-849f-c8b290de5981\":\"386b6c23-dc06-4063-9b99-962c68ab6178\"}}];\n",
       "  root.Bokeh.embed.embed_items_notebook(docs_json, render_items);\n",
       "\n",
       "  }\n",
       "  if (root.Bokeh !== undefined) {\n",
       "    embed_document(root);\n",
       "  } else {\n",
       "    var attempts = 0;\n",
       "    var timer = setInterval(function(root) {\n",
       "      if (root.Bokeh !== undefined) {\n",
       "        embed_document(root);\n",
       "        clearInterval(timer);\n",
       "      }\n",
       "      attempts++;\n",
       "      if (attempts > 100) {\n",
       "        console.log(\"Bokeh: ERROR: Unable to run BokehJS code because BokehJS library is missing\")\n",
       "        clearInterval(timer);\n",
       "      }\n",
       "    }, 10, root)\n",
       "  }\n",
       "})(window);"
      ],
      "application/vnd.bokehjs_exec.v0+json": ""
     },
     "metadata": {
      "application/vnd.bokehjs_exec.v0+json": {
       "id": "1b21f400-0b4e-43c9-849f-c8b290de5981"
      }
     },
     "output_type": "display_data"
    }
   ],
   "source": [
    "#Plot cumulative distribution\n",
    "p = figure(plot_height=300, title=\"City area distribution\",\n",
    "           x_axis_label='City area bins', y_axis_label='Percentile [%ile]')\n",
    "p.step(list(range(0,len(bin_edges))),[0]+[list(np.cumsum(hist))[x]/NumberOfCity for x in range(0,len(hist))],\n",
    "       line_color=\"#0276FD\",line_width=2)\n",
    "\n",
    "p.xaxis.ticker = list(range(0,len(bin_edges)))\n",
    "p.xaxis.major_label_orientation = 3.14/4\n",
    "p.xaxis.major_label_overrides = {el:\"{:,}\".format((bin_edges[el]/100)).replace(',',' ') if (bin_edges[el]/100) < 1 else \"{:,}\".format(int(bin_edges[el]/100)).replace(',',' ') for el in range(0,len(bin_edges))}\n",
    "\n",
    "p.title.text_font_size = '12pt'\n",
    "p.title.text_color = \"#0276FD\"\n",
    "p.title.text_font = \"verdana\"\n",
    "p.yaxis.axis_label_text_font = \"verdana\"\n",
    "p.yaxis.axis_label_text_font_style = \"normal\"\n",
    "p.xaxis.axis_label_text_font = \"verdana\"\n",
    "p.xaxis.axis_label_text_font_style = \"normal\"\n",
    "p.xaxis.major_label_text_font = \"verdana\"\n",
    "p.yaxis.major_label_text_font = \"verdana\"\n",
    "\n",
    "show(p)"
   ]
  },
  {
   "cell_type": "markdown",
   "metadata": {
    "collapsed": true
   },
   "source": [
    "27% des villes ont un territoire inférieur ou égal a 10km$^2$. 63% des villes ont un territoire inférieur ou égal a 20km$^2$. Un peu moins de 10% des villes ont un territoire supérieur a 30km$^2$. Environ 2% des villes ont un territoire inferieur a 1km$^2$ ou supérieur a 70km$^2$."
   ]
  },
  {
   "cell_type": "code",
   "execution_count": 15,
   "metadata": {},
   "outputs": [
    {
     "data": {
      "text/plain": [
       "63"
      ]
     },
     "execution_count": 15,
     "metadata": {},
     "output_type": "execute_result"
    }
   ],
   "source": [
    "CityAreaBinDistributionPercentage = [int(round(list(np.cumsum(hist))[x]/NumberOfCity*100)) for x in range(0,len(hist))]\n",
    "CityAreaBinDistributionPercentage[14]"
   ]
  },
  {
   "cell_type": "markdown",
   "metadata": {},
   "source": [
    "## 3.4. Population density basic analysis"
   ]
  },
  {
   "cell_type": "markdown",
   "metadata": {
    "collapsed": true
   },
   "source": [
    "Not done yet, it should provides same analysis as population and area"
   ]
  },
  {
   "cell_type": "markdown",
   "metadata": {},
   "source": [
    "## 3.5. Population density analysis"
   ]
  },
  {
   "cell_type": "markdown",
   "metadata": {},
   "source": [
    "**Purpose:** highlight that cities around big city have a higher population and population density"
   ]
  },
  {
   "cell_type": "markdown",
   "metadata": {},
   "source": [
    "### 3.5.1. Prepare the data"
   ]
  },
  {
   "cell_type": "code",
   "execution_count": 16,
   "metadata": {
    "collapsed": true
   },
   "outputs": [],
   "source": [
    "# Get most populated city info\n",
    "MostPopCityIndex = np.argmax(AllPopulationList)\n",
    "# Calculate distance to main city\n",
    "ListDistance = list()\n",
    "for CurrentCity in range(0,NumberOfCity):\n",
    "    ListDistance.append(Fcn_BasicStatisticalAnalysisOfPopulation.DistanceCoordToKm(QueryMongo[MostPopCityIndex]['centre']['coordinates'][1],QueryMongo[MostPopCityIndex]['centre']['coordinates'][0],QueryMongo[CurrentCity]['centre']['coordinates'][1],QueryMongo[CurrentCity]['centre']['coordinates'][0]))"
   ]
  },
  {
   "cell_type": "markdown",
   "metadata": {},
   "source": [
    "### 3.5.2. Scatter plot - Population vs distance to most populated city"
   ]
  },
  {
   "cell_type": "code",
   "execution_count": 17,
   "metadata": {},
   "outputs": [
    {
     "data": {
      "text/html": [
       "\n",
       "\n",
       "\n",
       "\n",
       "\n",
       "\n",
       "  <div class=\"bk-root\" id=\"ebe3af6d-1ce0-414d-93d5-443972e0e4cf\"></div>\n"
      ]
     },
     "metadata": {},
     "output_type": "display_data"
    },
    {
     "data": {
      "application/javascript": [
       "(function(root) {\n",
       "  function embed_document(root) {\n",
       "    \n",
       "  var docs_json = {\"1b104a85-6f6f-427a-9cc7-f8e7a60822fa\":{\"roots\":{\"references\":[{\"attributes\":{\"overlay\":{\"id\":\"a1b0a192-54c4-4fe5-9ee7-469d30e83e49\",\"type\":\"BoxAnnotation\"}},\"id\":\"0ec3ac11-cf72-4dd0-8966-84f0717bc495\",\"type\":\"BoxZoomTool\"},{\"attributes\":{\"dimension\":1,\"plot\":{\"id\":\"21d27517-42eb-42a9-a77e-022ae8444957\",\"subtype\":\"Figure\",\"type\":\"Plot\"},\"ticker\":{\"id\":\"b74eeaa6-b225-45ff-a1c8-4eb9c1be5db6\",\"type\":\"BasicTicker\"}},\"id\":\"57931730-4e92-4c36-9c5f-ce8358eefeea\",\"type\":\"Grid\"},{\"attributes\":{\"plot\":null,\"text\":\"City population vs distance to most populated city\",\"text_color\":{\"value\":\"#0276FD\"},\"text_font\":\"verdana\",\"text_font_size\":{\"value\":\"12pt\"}},\"id\":\"0b14dedb-df1f-4d61-b587-9ca5ad4b57a6\",\"type\":\"Title\"},{\"attributes\":{\"data_source\":{\"id\":\"6927dde8-a09a-4a42-83fe-f0ca0fa06b51\",\"type\":\"ColumnDataSource\"},\"glyph\":{\"id\":\"e59c5e2f-0f3e-457a-a2c5-bacbd21cf671\",\"type\":\"Circle\"},\"hover_glyph\":null,\"muted_glyph\":null,\"nonselection_glyph\":{\"id\":\"b6868bf5-2080-4c44-8cdb-5ec17d560ed0\",\"type\":\"Circle\"},\"selection_glyph\":null,\"view\":{\"id\":\"12e95210-bb59-4072-a97c-d7b410b70c1f\",\"type\":\"CDSView\"}},\"id\":\"b11e5b71-284e-4eaa-ad93-5fafd060f102\",\"type\":\"GlyphRenderer\"},{\"attributes\":{},\"id\":\"05bfdaa9-bdd8-4a23-a053-3149ab2a2e1b\",\"type\":\"Selection\"},{\"attributes\":{},\"id\":\"ce26645e-bc9e-49b1-8967-75733b5b72c8\",\"type\":\"BasicTickFormatter\"},{\"attributes\":{},\"id\":\"08601da5-9cd2-4c1f-9d19-3d5fb15e01a8\",\"type\":\"PanTool\"},{\"attributes\":{},\"id\":\"b74eeaa6-b225-45ff-a1c8-4eb9c1be5db6\",\"type\":\"BasicTicker\"},{\"attributes\":{\"below\":[{\"id\":\"37ff9a87-2c7a-4440-8cb5-81665b5f483d\",\"type\":\"LinearAxis\"}],\"left\":[{\"id\":\"630e9401-4b42-422c-aebe-eb67f62a50dc\",\"type\":\"LinearAxis\"}],\"plot_height\":300,\"renderers\":[{\"id\":\"37ff9a87-2c7a-4440-8cb5-81665b5f483d\",\"type\":\"LinearAxis\"},{\"id\":\"27a80ba3-ec72-43fe-b3a5-3b94e1cc9912\",\"type\":\"Grid\"},{\"id\":\"630e9401-4b42-422c-aebe-eb67f62a50dc\",\"type\":\"LinearAxis\"},{\"id\":\"57931730-4e92-4c36-9c5f-ce8358eefeea\",\"type\":\"Grid\"},{\"id\":\"a1b0a192-54c4-4fe5-9ee7-469d30e83e49\",\"type\":\"BoxAnnotation\"},{\"id\":\"b11e5b71-284e-4eaa-ad93-5fafd060f102\",\"type\":\"GlyphRenderer\"}],\"title\":{\"id\":\"0b14dedb-df1f-4d61-b587-9ca5ad4b57a6\",\"type\":\"Title\"},\"toolbar\":{\"id\":\"93badc4e-7a36-4eb5-b421-7010a6e93492\",\"type\":\"Toolbar\"},\"x_range\":{\"id\":\"416334e4-8692-4429-ba18-d169ce55b52f\",\"type\":\"DataRange1d\"},\"x_scale\":{\"id\":\"2a2e06a4-1276-4747-893c-37fc6d494810\",\"type\":\"LinearScale\"},\"y_range\":{\"id\":\"90ec0d01-4fd4-4729-ac32-8530af8a831a\",\"type\":\"DataRange1d\"},\"y_scale\":{\"id\":\"2ba3d314-d228-4c37-aba4-12b963e34335\",\"type\":\"LinearScale\"}},\"id\":\"21d27517-42eb-42a9-a77e-022ae8444957\",\"subtype\":\"Figure\",\"type\":\"Plot\"},{\"attributes\":{},\"id\":\"2a2e06a4-1276-4747-893c-37fc6d494810\",\"type\":\"LinearScale\"},{\"attributes\":{\"active_drag\":\"auto\",\"active_inspect\":\"auto\",\"active_multi\":null,\"active_scroll\":\"auto\",\"active_tap\":\"auto\",\"tools\":[{\"id\":\"08601da5-9cd2-4c1f-9d19-3d5fb15e01a8\",\"type\":\"PanTool\"},{\"id\":\"9c3108f5-9276-49a6-b773-7ae983fc98f4\",\"type\":\"WheelZoomTool\"},{\"id\":\"0ec3ac11-cf72-4dd0-8966-84f0717bc495\",\"type\":\"BoxZoomTool\"},{\"id\":\"9f14e268-1ffe-4c4c-9c33-b7cf8a4a3fe8\",\"type\":\"SaveTool\"},{\"id\":\"4c84500d-2fc9-435d-84a1-3b268896fd4f\",\"type\":\"ResetTool\"},{\"id\":\"a8228123-4409-4d70-944f-a70fae111cae\",\"type\":\"HelpTool\"}]},\"id\":\"93badc4e-7a36-4eb5-b421-7010a6e93492\",\"type\":\"Toolbar\"},{\"attributes\":{},\"id\":\"2ba3d314-d228-4c37-aba4-12b963e34335\",\"type\":\"LinearScale\"},{\"attributes\":{\"callback\":null},\"id\":\"416334e4-8692-4429-ba18-d169ce55b52f\",\"type\":\"DataRange1d\"},{\"attributes\":{\"callback\":null},\"id\":\"90ec0d01-4fd4-4729-ac32-8530af8a831a\",\"type\":\"DataRange1d\"},{\"attributes\":{\"plot\":{\"id\":\"21d27517-42eb-42a9-a77e-022ae8444957\",\"subtype\":\"Figure\",\"type\":\"Plot\"},\"ticker\":{\"id\":\"43d4d6fa-59ec-446c-a66e-9605f637d22f\",\"type\":\"BasicTicker\"}},\"id\":\"27a80ba3-ec72-43fe-b3a5-3b94e1cc9912\",\"type\":\"Grid\"},{\"attributes\":{},\"id\":\"6412ab29-cf2d-4717-a721-a084f669a6eb\",\"type\":\"UnionRenderers\"},{\"attributes\":{\"fill_color\":{\"value\":\"#0276FD\"},\"line_color\":{\"value\":\"#0276FD\"},\"x\":{\"field\":\"x\"},\"y\":{\"field\":\"y\"}},\"id\":\"e59c5e2f-0f3e-457a-a2c5-bacbd21cf671\",\"type\":\"Circle\"},{\"attributes\":{\"callback\":null,\"data\":{\"x\":[12.612759467970378,18.90024724954432,21.88348989420762,41.78984281358517,35.48382667756784,40.9688065078059,21.292930100952542,40.26304077149455,43.69309199164935,48.152533155179256,35.75313900708646,29.841216230730588,52.91517715203559,30.101072871279385,37.87598983979263,22.246402619097527,27.578951058055985,56.628911196993755,37.33665695399745,22.39150834241537,46.708779397318565,28.32849669803807,21.944364750423127,8.248999381241765,37.93977690692342,32.26371937744204,30.465918051820875,25.71827947419575,40.71270677256807,28.076146989036907,20.079428829930233,14.70804843175192,20.846905189474192,45.02405362604746,26.677701913630198,49.27329426105397,16.242318205812555,45.98071643443597,14.471397072062343,17.255031304929542,20.195934368907775,44.99524997400674,20.457851236544034,40.58194706573598,40.397174055813835,37.50130786558702,10.559792922242156,33.62571862705697,65.96705183595627,24.972161625114577,6.680117974535684,28.282078985120283,24.818179207837215,17.706519995110718,6.090760439036574,32.058634077557194,26.34067022655436,22.043761955569938,8.35368187572326,26.0117073598036,43.62171415991805,50.53500451169813,34.84202629197804,13.028640148123996,7.712676366116555,16.376715343394718,16.37268366110785,53.13973894003427,47.51354477126803,40.094786419201505,6.812836413625823,20.717159366751094,33.87745387737081,9.975890115041345,43.00605051045415,53.89870515892685,13.385776184838209,15.15618970945928,14.95673908744066,32.732026333840636,44.96843162489416,40.34808237859109,33.028745550311925,34.93724760016238,27.587946136819763,16.362530760719945,27.97075254899629,20.24108565946345,36.615069042118314,36.50911121188655,64.09506730273895,26.394414299891928,47.35909416368055,34.71746880677616,39.015686453340614,11.117434591039812,42.971484119278934,24.14198781309758,38.99988828281511,44.73090247950624,43.49334718195211,41.6102761987022,32.80928394170679,19.842570828497422,25.755306274712634,34.917914362305595,24.553502062432774,50.954930338278146,50.349652858436414,41.50311830231763,40.381985889413244,44.27632585617003,55.02457089136518,41.37194730347569,21.87048221069132,42.88801327854979,14.083165940144356,22.05420819270911,57.1986582950794,16.71975227072418,42.32014926154868,37.671118162745515,18.89475866653936,23.505822993648533,20.00107743105653,33.59905198055634,10.241662812333445,54.96955726577447,26.188720364887033,24.652770955070192,25.05568768402425,22.790055413008762,41.548348358975126,48.98310039545722,16.518638384090313,30.996166404332282,29.77210945651492,51.61880090949824,28.756765161525415,18.76044293618646,44.26278137192342,18.73232757794931,39.888836475962805,31.053108394910442,20.97986203961661,43.91431300004403,34.486583542921714,18.355095896669486,52.57164960516572,27.73543462584776,30.347464252536763,29.13139626043785,54.941834270704376,36.91511585577354,35.64819603446906,26.415152403259565,58.54145724355888,45.05605128390977,30.1460968331568,30.160836880855992,24.672138336283883,40.34174685004083,28.87728322493007,32.169199970842264,32.71562283514727,35.66733134675045,12.26013890220118,55.38992120401544,31.05063853186007,12.52706061266996,27.94443878042254,47.6983086782573,26.09822993452107,57.18336695877464,7.9970101380351055,43.9683198366219,29.626541908734254,43.127570993694924,51.93203989035352,23.26682936513989,20.890209300278915,5.717765212975302,58.50783813952679,37.165231668321155,15.088502322132944,33.047745615537615,21.82007568963148,12.263898988603646,13.453436550706028,26.126834402386564,36.67766861114597,38.25304907327849,35.52938327335913,36.141055708112845,22.71063141373112,12.671388320921876,34.06690879693137,13.019201970203982,14.047033561896143,8.815958054991503,37.50714494437691,25.37413358665829,64.71345953116503,40.34928561822756,50.1752137468296,13.993823266780412,47.0798237595547,20.984173473196694,38.1025444826953,22.1590830143857,26.68267265769736,46.888615034935526,32.74386948975581,47.7752261838845,38.72757451908721,34.97599594226945,17.471040470943752,59.529377083270184,30.8038566625492,50.687153686376625,23.226850673004297,45.223140501777785,29.351469573061305,37.522904754012146,40.39369408153815,58.52991007806554,48.3396412966264,33.56717278603596,61.58932418266667,32.572266225226045,40.037232730648924,32.96808968818244,19.54892595237798,48.55199606398884,52.78558744849058,50.09689999000238,42.710297665861376,13.146492454152739,17.25967623805534,28.724905840785095,25.22385993798401,57.417159545145694,66.06160479951896,40.770470318169004,24.675677560127497,51.369701034439515,35.32522989820462,30.903157393586152,29.449427573991144,66.32412709234745,24.08112339876133,32.08376052823934,10.39864614322999,41.320806538736804,32.97569851234634,52.293248390670215,55.54096417584405,39.7985116098115,44.10779691710571,15.904150418464727,13.480168245847624,20.598363853321978,29.66247841090706,5.316976320821598,54.53158932468894,34.2059151463352,5.237839451309785,29.620310461985117,25.715423810956047,58.570807540976006,44.562134326511796,30.873617015157546,65.34395168634865,28.812687231315177,31.57250018737193,52.85344243002804,35.29766993575421,31.70445137300385,51.889033836443915,31.359226106498504,17.536240602695568,39.19059314483358,60.68542877844294,42.99524772380201,31.437269034957126,35.803571447218964,42.11357550831163,30.786223870369607,29.241829624653295,55.98841692328208,29.186459841538515,41.696682609737024,30.739633111675694,37.72789356279571,38.91095839113888,23.096280409050877,55.41616284025507,13.856195517353932,37.980064452140276,20.85546942876375,31.21736665709106,20.966102197223087,27.15847792089452,22.87072811642963,24.35493267490144,45.690231272982416,42.18824561566239,28.068911568333977,16.332719401929296,46.81969852868014,45.10890030759796,33.564016466595554,18.28513235233368,36.17727929577044,28.81943413113246,8.336330881134774,33.42847056538647,32.653543121691555,25.989324180003894,30.878930674379614,42.34386214029859,26.02513299541363,38.281343619520705,36.82760137362773,28.04444762128635,43.88221635462419,33.92214087122414,31.01796822954709,29.390130215458335,34.303742874040815,32.516359611143685,18.50463078944395,8.391115151986325,5.510966883886349,44.15600558790436,28.824434763620246,17.21933264195738,51.57891097445356,52.70712352102551,32.87450390927275,36.42177019216168,54.460859545110125,44.33278807894072,10.748575436155207],\"y\":[6282,1616,837,1366,290,4273,487,689,1621,1578,304,7512,3402,2235,2246,2094,640,1110,1818,2099,1299,722,4058,10608,1038,107,1585,673,1446,629,4121,3737,3234,1135,595,970,5510,663,2051,3460,850,705,6513,386,852,496,16855,3813,5208,543,16784,476,304,1788,10410,832,1366,1249,4673,942,655,1429,426,1945,7395,1489,9182,1540,389,1719,6783,2267,827,3681,346,1141,1958,2186,718,1462,2339,714,5765,601,943,3176,508,2588,542,800,9839,1667,5469,1964,1307,2879,583,1108,539,397,1401,1672,1517,1750,1122,2577,926,708,1025,547,275,20170,2308,1637,1374,882,4843,1913,1718,4417,2417,4277,8095,3644,1698,6735,4042,1350,4454,272,2169,8232,2003,1135,4951,601,683,1267,970,922,1459,596,988,149,1504,3058,783,7164,324,1669,657,623,678,340,246,1728,3435,1306,797,973,1095,2619,1422,590,1836,1767,5913,664,1029,4510,1622,3783,744,1410,7940,806,5019,262,1136,1316,6483,3243,264,241,1928,1029,2209,7168,1212,695,321,952,884,959,347,2831,392,5590,4102,11044,1637,1154,44919,645,1314,1508,1416,899,3672,2381,2692,1960,3691,2497,749,1773,3132,6399,1247,385,1140,374,1553,1185,1121,9114,974,4088,2312,341,2296,304,3762,1323,1026,492,992,1848,3393,917,3601,1049,1965,4666,348,1132,577,222,316,2614,1919,2472,2662,410,667,375,1613,891,2024,877,4125,527,345,8989,1052,1016,11783,1122,1112,2569,1097,243,2287,1056,608,464,1329,560,2299,568,1345,4541,3852,1375,530,1184,805,1303,382,2232,1005,2769,847,1491,516,1776,958,1412,788,623,825,2045,514,711,998,585,154,2559,3545,2105,663,1029,2465,1059,1706,7770,736,169,3372,1150,537,1283,1551,355,1246,340,896,190,2547,395,784,1464,7957,4901,319,1131,1796,323,1125,801,17463,1036,1131,3905]},\"selected\":{\"id\":\"05bfdaa9-bdd8-4a23-a053-3149ab2a2e1b\",\"type\":\"Selection\"},\"selection_policy\":{\"id\":\"6412ab29-cf2d-4717-a721-a084f669a6eb\",\"type\":\"UnionRenderers\"}},\"id\":\"6927dde8-a09a-4a42-83fe-f0ca0fa06b51\",\"type\":\"ColumnDataSource\"},{\"attributes\":{\"axis_label\":\"Population\",\"axis_label_text_font\":\"verdana\",\"axis_label_text_font_style\":\"normal\",\"formatter\":{\"id\":\"1be27333-473a-43a2-b6e5-a13e442ff8ca\",\"type\":\"BasicTickFormatter\"},\"major_label_text_font\":\"verdana\",\"plot\":{\"id\":\"21d27517-42eb-42a9-a77e-022ae8444957\",\"subtype\":\"Figure\",\"type\":\"Plot\"},\"ticker\":{\"id\":\"b74eeaa6-b225-45ff-a1c8-4eb9c1be5db6\",\"type\":\"BasicTicker\"}},\"id\":\"630e9401-4b42-422c-aebe-eb67f62a50dc\",\"type\":\"LinearAxis\"},{\"attributes\":{},\"id\":\"a8228123-4409-4d70-944f-a70fae111cae\",\"type\":\"HelpTool\"},{\"attributes\":{},\"id\":\"43d4d6fa-59ec-446c-a66e-9605f637d22f\",\"type\":\"BasicTicker\"},{\"attributes\":{},\"id\":\"9f14e268-1ffe-4c4c-9c33-b7cf8a4a3fe8\",\"type\":\"SaveTool\"},{\"attributes\":{\"axis_label\":\"Distance to the most populated city [km]\",\"axis_label_text_font\":\"verdana\",\"axis_label_text_font_style\":\"normal\",\"formatter\":{\"id\":\"ce26645e-bc9e-49b1-8967-75733b5b72c8\",\"type\":\"BasicTickFormatter\"},\"major_label_text_font\":\"verdana\",\"plot\":{\"id\":\"21d27517-42eb-42a9-a77e-022ae8444957\",\"subtype\":\"Figure\",\"type\":\"Plot\"},\"ticker\":{\"id\":\"43d4d6fa-59ec-446c-a66e-9605f637d22f\",\"type\":\"BasicTicker\"}},\"id\":\"37ff9a87-2c7a-4440-8cb5-81665b5f483d\",\"type\":\"LinearAxis\"},{\"attributes\":{},\"id\":\"9c3108f5-9276-49a6-b773-7ae983fc98f4\",\"type\":\"WheelZoomTool\"},{\"attributes\":{},\"id\":\"4c84500d-2fc9-435d-84a1-3b268896fd4f\",\"type\":\"ResetTool\"},{\"attributes\":{\"bottom_units\":\"screen\",\"fill_alpha\":{\"value\":0.5},\"fill_color\":{\"value\":\"lightgrey\"},\"left_units\":\"screen\",\"level\":\"overlay\",\"line_alpha\":{\"value\":1.0},\"line_color\":{\"value\":\"black\"},\"line_dash\":[4,4],\"line_width\":{\"value\":2},\"plot\":null,\"render_mode\":\"css\",\"right_units\":\"screen\",\"top_units\":\"screen\"},\"id\":\"a1b0a192-54c4-4fe5-9ee7-469d30e83e49\",\"type\":\"BoxAnnotation\"},{\"attributes\":{\"source\":{\"id\":\"6927dde8-a09a-4a42-83fe-f0ca0fa06b51\",\"type\":\"ColumnDataSource\"}},\"id\":\"12e95210-bb59-4072-a97c-d7b410b70c1f\",\"type\":\"CDSView\"},{\"attributes\":{},\"id\":\"1be27333-473a-43a2-b6e5-a13e442ff8ca\",\"type\":\"BasicTickFormatter\"},{\"attributes\":{\"fill_alpha\":{\"value\":0.1},\"fill_color\":{\"value\":\"#1f77b4\"},\"line_alpha\":{\"value\":0.1},\"line_color\":{\"value\":\"#1f77b4\"},\"x\":{\"field\":\"x\"},\"y\":{\"field\":\"y\"}},\"id\":\"b6868bf5-2080-4c44-8cdb-5ec17d560ed0\",\"type\":\"Circle\"}],\"root_ids\":[\"21d27517-42eb-42a9-a77e-022ae8444957\"]},\"title\":\"Bokeh Application\",\"version\":\"0.13.0\"}};\n",
       "  var render_items = [{\"docid\":\"1b104a85-6f6f-427a-9cc7-f8e7a60822fa\",\"roots\":{\"21d27517-42eb-42a9-a77e-022ae8444957\":\"ebe3af6d-1ce0-414d-93d5-443972e0e4cf\"}}];\n",
       "  root.Bokeh.embed.embed_items_notebook(docs_json, render_items);\n",
       "\n",
       "  }\n",
       "  if (root.Bokeh !== undefined) {\n",
       "    embed_document(root);\n",
       "  } else {\n",
       "    var attempts = 0;\n",
       "    var timer = setInterval(function(root) {\n",
       "      if (root.Bokeh !== undefined) {\n",
       "        embed_document(root);\n",
       "        clearInterval(timer);\n",
       "      }\n",
       "      attempts++;\n",
       "      if (attempts > 100) {\n",
       "        console.log(\"Bokeh: ERROR: Unable to run BokehJS code because BokehJS library is missing\")\n",
       "        clearInterval(timer);\n",
       "      }\n",
       "    }, 10, root)\n",
       "  }\n",
       "})(window);"
      ],
      "application/vnd.bokehjs_exec.v0+json": ""
     },
     "metadata": {
      "application/vnd.bokehjs_exec.v0+json": {
       "id": "21d27517-42eb-42a9-a77e-022ae8444957"
      }
     },
     "output_type": "display_data"
    }
   ],
   "source": [
    "p = figure(plot_height=300, title=\"City population vs distance to most populated city\",\n",
    "           x_axis_label='Distance to the most populated city [km]', y_axis_label='Population')\n",
    "p.circle([ListDistance[i] for i in range(0,NumberOfCity) if ListDistance[i]>0],[AllPopulationList[i] for i in range(0,NumberOfCity) if AllPopulationList[i]<>AllPopulationList[MostPopCityIndex]],\n",
    "        color=\"#0276FD\")\n",
    "\n",
    "p.title.text_font_size = '12pt'\n",
    "p.title.text_color = \"#0276FD\"\n",
    "p.title.text_font = \"verdana\"\n",
    "p.yaxis.axis_label_text_font = \"verdana\"\n",
    "p.yaxis.axis_label_text_font_style = \"normal\"\n",
    "p.xaxis.axis_label_text_font = \"verdana\"\n",
    "p.xaxis.axis_label_text_font_style = \"normal\"\n",
    "p.xaxis.major_label_text_font = \"verdana\"\n",
    "p.yaxis.major_label_text_font = \"verdana\"\n",
    "\n",
    "show(p)"
   ]
  },
  {
   "cell_type": "markdown",
   "metadata": {},
   "source": [
    "Difficile de mettre en lumiere une tendance. Répéter la meme méthode avec la densité de population"
   ]
  },
  {
   "cell_type": "markdown",
   "metadata": {},
   "source": [
    "### 3.5.3. Scatter plot - Density population vs distance to most populated city"
   ]
  },
  {
   "cell_type": "code",
   "execution_count": 18,
   "metadata": {
    "collapsed": true
   },
   "outputs": [],
   "source": [
    "# Create the density list\n",
    "ListDensity = np.array(AllPopulationList)/np.array(AllAreaList)*100"
   ]
  },
  {
   "cell_type": "code",
   "execution_count": 19,
   "metadata": {},
   "outputs": [
    {
     "data": {
      "text/html": [
       "\n",
       "\n",
       "\n",
       "\n",
       "\n",
       "\n",
       "  <div class=\"bk-root\" id=\"47ddb3af-342b-4f67-882d-4665c1b5bc73\"></div>\n"
      ]
     },
     "metadata": {},
     "output_type": "display_data"
    },
    {
     "data": {
      "application/javascript": [
       "(function(root) {\n",
       "  function embed_document(root) {\n",
       "    \n",
       "  var docs_json = {\"4838935f-7a0c-4454-8f2c-92a0d6952f06\":{\"roots\":{\"references\":[{\"attributes\":{\"dimension\":1,\"plot\":{\"id\":\"2c96c181-d2ec-46f7-ab11-c93e65adb393\",\"subtype\":\"Figure\",\"type\":\"Plot\"},\"ticker\":{\"id\":\"633b6d1e-7116-4798-9fb6-681d8e7a7b81\",\"type\":\"BasicTicker\"}},\"id\":\"115cef86-a7f6-48b4-89e3-ab4878759d4f\",\"type\":\"Grid\"},{\"attributes\":{\"fill_alpha\":{\"value\":0.1},\"fill_color\":{\"value\":\"#1f77b4\"},\"line_alpha\":{\"value\":0.1},\"line_color\":{\"value\":\"#1f77b4\"},\"x\":{\"field\":\"x\"},\"y\":{\"field\":\"y\"}},\"id\":\"d3717a99-2bc8-4889-9e55-bd0424dfcdbf\",\"type\":\"Circle\"},{\"attributes\":{},\"id\":\"626388a9-baec-4d53-b374-a3ed385c3f9c\",\"type\":\"BasicTickFormatter\"},{\"attributes\":{\"bottom_units\":\"screen\",\"fill_alpha\":{\"value\":0.5},\"fill_color\":{\"value\":\"lightgrey\"},\"left_units\":\"screen\",\"level\":\"overlay\",\"line_alpha\":{\"value\":1.0},\"line_color\":{\"value\":\"black\"},\"line_dash\":[4,4],\"line_width\":{\"value\":2},\"plot\":null,\"render_mode\":\"css\",\"right_units\":\"screen\",\"top_units\":\"screen\"},\"id\":\"9727baaf-768b-40f4-a840-3c4ee4918193\",\"type\":\"BoxAnnotation\"},{\"attributes\":{},\"id\":\"0ed742ee-f450-4797-93c3-6ae02aa8a9d2\",\"type\":\"BasicTickFormatter\"},{\"attributes\":{},\"id\":\"a221f9bc-8780-4733-a6e4-1ef3e06ae761\",\"type\":\"Selection\"},{\"attributes\":{},\"id\":\"af388288-bfbb-40c0-8076-2d69c0bd7c45\",\"type\":\"UnionRenderers\"},{\"attributes\":{},\"id\":\"5274b9ea-929a-48b9-8e42-91da1cb770e6\",\"type\":\"PanTool\"},{\"attributes\":{\"axis_label\":\"Distance to the most populated city [km]\",\"axis_label_text_font\":\"verdana\",\"axis_label_text_font_style\":\"normal\",\"formatter\":{\"id\":\"0ed742ee-f450-4797-93c3-6ae02aa8a9d2\",\"type\":\"BasicTickFormatter\"},\"major_label_text_font\":\"verdana\",\"plot\":{\"id\":\"2c96c181-d2ec-46f7-ab11-c93e65adb393\",\"subtype\":\"Figure\",\"type\":\"Plot\"},\"ticker\":{\"id\":\"caf834d6-1a18-4342-a73a-4111a82f30bc\",\"type\":\"BasicTicker\"}},\"id\":\"e92501d9-670c-4a3b-a7d0-3811c64109dc\",\"type\":\"LinearAxis\"},{\"attributes\":{\"plot\":null,\"text\":\"City density population vs distance to most populated city\",\"text_color\":{\"value\":\"#0276FD\"},\"text_font\":\"verdana\",\"text_font_size\":{\"value\":\"12pt\"}},\"id\":\"5057fbf0-ec40-4677-9c66-6cb6992b96b5\",\"type\":\"Title\"},{\"attributes\":{\"callback\":null},\"id\":\"f540c351-b5f7-4a2e-9645-7efb0cf97a05\",\"type\":\"DataRange1d\"},{\"attributes\":{},\"id\":\"723c4422-8ef0-4c13-b2fc-a86fd1bd39b2\",\"type\":\"LinearScale\"},{\"attributes\":{\"below\":[{\"id\":\"e92501d9-670c-4a3b-a7d0-3811c64109dc\",\"type\":\"LinearAxis\"}],\"left\":[{\"id\":\"ce7ca208-fa0b-4365-9975-7362c5f10b35\",\"type\":\"LinearAxis\"}],\"plot_height\":300,\"renderers\":[{\"id\":\"e92501d9-670c-4a3b-a7d0-3811c64109dc\",\"type\":\"LinearAxis\"},{\"id\":\"efbcf570-6e00-40ed-ac0d-91abf1666706\",\"type\":\"Grid\"},{\"id\":\"ce7ca208-fa0b-4365-9975-7362c5f10b35\",\"type\":\"LinearAxis\"},{\"id\":\"115cef86-a7f6-48b4-89e3-ab4878759d4f\",\"type\":\"Grid\"},{\"id\":\"9727baaf-768b-40f4-a840-3c4ee4918193\",\"type\":\"BoxAnnotation\"},{\"id\":\"fe0707dd-4ff4-4bd2-b5bf-69d72fe3d3d8\",\"type\":\"GlyphRenderer\"}],\"title\":{\"id\":\"5057fbf0-ec40-4677-9c66-6cb6992b96b5\",\"type\":\"Title\"},\"toolbar\":{\"id\":\"2047c5f1-d950-4923-a550-d78f28ca9835\",\"type\":\"Toolbar\"},\"x_range\":{\"id\":\"f540c351-b5f7-4a2e-9645-7efb0cf97a05\",\"type\":\"DataRange1d\"},\"x_scale\":{\"id\":\"723c4422-8ef0-4c13-b2fc-a86fd1bd39b2\",\"type\":\"LinearScale\"},\"y_range\":{\"id\":\"b8e8171d-65e1-4e1d-aa0e-d6eaa985f95f\",\"type\":\"DataRange1d\"},\"y_scale\":{\"id\":\"eadd7b6a-435f-467e-934f-4dcc9a4ab88e\",\"type\":\"LinearScale\"}},\"id\":\"2c96c181-d2ec-46f7-ab11-c93e65adb393\",\"subtype\":\"Figure\",\"type\":\"Plot\"},{\"attributes\":{\"callback\":null},\"id\":\"b8e8171d-65e1-4e1d-aa0e-d6eaa985f95f\",\"type\":\"DataRange1d\"},{\"attributes\":{\"callback\":null,\"data\":{\"x\":[12.612759467970378,18.90024724954432,21.88348989420762,41.78984281358517,35.48382667756784,40.9688065078059,21.292930100952542,40.26304077149455,43.69309199164935,48.152533155179256,35.75313900708646,29.841216230730588,52.91517715203559,30.101072871279385,37.87598983979263,22.246402619097527,27.578951058055985,56.628911196993755,37.33665695399745,22.39150834241537,46.708779397318565,28.32849669803807,21.944364750423127,8.248999381241765,37.93977690692342,32.26371937744204,30.465918051820875,25.71827947419575,40.71270677256807,28.076146989036907,20.079428829930233,14.70804843175192,20.846905189474192,45.02405362604746,26.677701913630198,49.27329426105397,16.242318205812555,45.98071643443597,14.471397072062343,17.255031304929542,20.195934368907775,44.99524997400674,20.457851236544034,40.58194706573598,40.397174055813835,37.50130786558702,10.559792922242156,33.62571862705697,65.96705183595627,24.972161625114577,6.680117974535684,28.282078985120283,24.818179207837215,17.706519995110718,6.090760439036574,32.058634077557194,26.34067022655436,22.043761955569938,8.35368187572326,26.0117073598036,43.62171415991805,50.53500451169813,34.84202629197804,13.028640148123996,7.712676366116555,16.376715343394718,16.37268366110785,53.13973894003427,47.51354477126803,40.094786419201505,6.812836413625823,20.717159366751094,33.87745387737081,9.975890115041345,43.00605051045415,53.89870515892685,13.385776184838209,15.15618970945928,14.95673908744066,32.732026333840636,44.96843162489416,40.34808237859109,33.028745550311925,34.93724760016238,27.587946136819763,16.362530760719945,27.97075254899629,20.24108565946345,36.615069042118314,36.50911121188655,64.09506730273895,26.394414299891928,47.35909416368055,34.71746880677616,39.015686453340614,11.117434591039812,42.971484119278934,24.14198781309758,38.99988828281511,44.73090247950624,43.49334718195211,41.6102761987022,32.80928394170679,19.842570828497422,25.755306274712634,34.917914362305595,24.553502062432774,50.954930338278146,50.349652858436414,41.50311830231763,40.381985889413244,44.27632585617003,55.02457089136518,41.37194730347569,21.87048221069132,42.88801327854979,14.083165940144356,22.05420819270911,57.1986582950794,16.71975227072418,42.32014926154868,37.671118162745515,18.89475866653936,23.505822993648533,20.00107743105653,33.59905198055634,10.241662812333445,54.96955726577447,26.188720364887033,24.652770955070192,25.05568768402425,22.790055413008762,41.548348358975126,48.98310039545722,16.518638384090313,30.996166404332282,29.77210945651492,51.61880090949824,28.756765161525415,18.76044293618646,44.26278137192342,18.73232757794931,39.888836475962805,31.053108394910442,20.97986203961661,43.91431300004403,34.486583542921714,18.355095896669486,52.57164960516572,27.73543462584776,30.347464252536763,29.13139626043785,54.941834270704376,36.91511585577354,35.64819603446906,26.415152403259565,58.54145724355888,45.05605128390977,30.1460968331568,30.160836880855992,24.672138336283883,40.34174685004083,28.87728322493007,32.169199970842264,32.71562283514727,35.66733134675045,12.26013890220118,55.38992120401544,31.05063853186007,12.52706061266996,27.94443878042254,47.6983086782573,26.09822993452107,57.18336695877464,7.9970101380351055,43.9683198366219,29.626541908734254,43.127570993694924,51.93203989035352,23.26682936513989,20.890209300278915,5.717765212975302,58.50783813952679,37.165231668321155,15.088502322132944,33.047745615537615,21.82007568963148,12.263898988603646,13.453436550706028,26.126834402386564,36.67766861114597,38.25304907327849,35.52938327335913,36.141055708112845,22.71063141373112,12.671388320921876,34.06690879693137,13.019201970203982,14.047033561896143,8.815958054991503,37.50714494437691,25.37413358665829,64.71345953116503,40.34928561822756,50.1752137468296,13.993823266780412,47.0798237595547,20.984173473196694,38.1025444826953,22.1590830143857,26.68267265769736,46.888615034935526,32.74386948975581,47.7752261838845,38.72757451908721,34.97599594226945,17.471040470943752,59.529377083270184,30.8038566625492,50.687153686376625,23.226850673004297,45.223140501777785,29.351469573061305,37.522904754012146,40.39369408153815,58.52991007806554,48.3396412966264,33.56717278603596,61.58932418266667,32.572266225226045,40.037232730648924,32.96808968818244,19.54892595237798,48.55199606398884,52.78558744849058,50.09689999000238,42.710297665861376,13.146492454152739,17.25967623805534,28.724905840785095,25.22385993798401,57.417159545145694,66.06160479951896,40.770470318169004,24.675677560127497,51.369701034439515,35.32522989820462,30.903157393586152,29.449427573991144,66.32412709234745,24.08112339876133,32.08376052823934,10.39864614322999,41.320806538736804,32.97569851234634,52.293248390670215,55.54096417584405,39.7985116098115,44.10779691710571,15.904150418464727,13.480168245847624,20.598363853321978,29.66247841090706,5.316976320821598,54.53158932468894,34.2059151463352,5.237839451309785,29.620310461985117,25.715423810956047,58.570807540976006,44.562134326511796,30.873617015157546,65.34395168634865,28.812687231315177,31.57250018737193,52.85344243002804,35.29766993575421,31.70445137300385,51.889033836443915,31.359226106498504,17.536240602695568,39.19059314483358,60.68542877844294,42.99524772380201,31.437269034957126,35.803571447218964,42.11357550831163,30.786223870369607,29.241829624653295,55.98841692328208,29.186459841538515,41.696682609737024,30.739633111675694,37.72789356279571,38.91095839113888,23.096280409050877,55.41616284025507,13.856195517353932,37.980064452140276,20.85546942876375,31.21736665709106,20.966102197223087,27.15847792089452,22.87072811642963,24.35493267490144,45.690231272982416,42.18824561566239,28.068911568333977,16.332719401929296,46.81969852868014,45.10890030759796,33.564016466595554,18.28513235233368,36.17727929577044,28.81943413113246,8.336330881134774,33.42847056538647,32.653543121691555,25.989324180003894,30.878930674379614,42.34386214029859,26.02513299541363,38.281343619520705,36.82760137362773,28.04444762128635,43.88221635462419,33.92214087122414,31.01796822954709,29.390130215458335,34.303742874040815,32.516359611143685,18.50463078944395,8.391115151986325,5.510966883886349,44.15600558790436,28.824434763620246,17.21933264195738,51.57891097445356,52.70712352102551,32.87450390927275,36.42177019216168,54.460859545110125,44.33278807894072,10.748575436155207],\"y\":[208.0132450331126,63.22378716744914,66.11374407582939,145.01061571125265,61.833688699360344,103.1378228336954,219.36936936936937,61.462979482604815,66.35284486287351,98.01242236024845,57.250470809792844,113.68038740920096,75.65043362241495,63.06433408577878,61.51739249520679,82.9635499207607,65.57377049180327,44.205495818399044,31.39354170264203,142.5951086956522,154.45897740784778,1289.2857142857142,102.57836198179979,396.11650485436894,60.98707403055229,31.94029850746269,78.50421000495295,51.96911196911197,59.90057995028998,59.28369462770971,82.60172379234315,252.6707234617985,137.6756066411239,51.80282975810132,40.72553045859001,54.43322109988776,162.24970553592462,114.70588235294117,283.28729281767954,231.9034852546917,61.90823015294975,61.197916666666664,225.285368384642,29.92248062015504,40.09411764705882,41.47157190635451,562.771285475793,49.726134585289515,393.9485627836611,74.07912687585267,522.0528771384137,45.76923076923077,58.01526717557252,99.4991652754591,869.6741854636592,129.19254658385094,65.95847416706904,84.44895199459094,534.6681922196797,89.03591682419659,54.85762144053601,53.004451038575674,42.943548387096776,250.3217503217503,743.2160804020101,154.6209761163032,387.91719476130123,1107.9136690647483,28.66617538688283,53.50140056022409,255.76923076923075,77.55730413958261,46.12381483547128,292.8400954653938,30.404217926186295,89.2103205629398,188.26923076923077,255.67251461988306,166.97674418604652,61.66174609869254,56.81321350497935,41.0580793559517,90.04998437988128,64.6236559139785,74.96025437201908,138.75054608999565,42.439431913116124,304.47058823529414,85.89540412044374,33.655868742111906,1258.1841432225065,31.18802619270346,352.6112185686654,58.80239520958084,40.20301445709013,156.21269669017906,59.2479674796748,79.59770114942529,46.186803770351325,23.7866986219293,57.277187244480785,46.743080793961425,38.62016293279022,110.479797979798,47.66355140186916,92.23335719398712,45.481335952848724,40.78341013824885,56.56732891832229,44.43541835905768,44.86133768352366,1933.8446788111216,160.05547850208043,30.898452246130613,54.610492845786965,47.59848893685915,174.5225225225225,103.4613304488913,195.00567536889898,110.23209383578738,43.65968208092485,366.18150684931504,187.993497445425,68.47049981210071,66.7715296893433,72.96858071505959,584.9493487698987,135.678391959799,59.38666666666666,60.310421286031044,91.75126903553299,197.74201297141485,108.2117774176121,75.21537442014579,154.57383702778645,38.774193548387096,131.85328185328186,44.801980198019805,67.26768377253815,118.66151866151866,39.950711938663744,83.70786516853933,152.23420647149462,36.88118811881188,152.69035532994923,275.2475247524752,46.33136094674556,107.66456266907123,85.03937007874016,62.50936329588015,124.90494296577947,81.8659658344284,59.36952714535902,46.76753782668501,33.744855967078195,110.55662188099808,81.22487585717664,44.39157036029911,35.51693404634581,47.37098344693281,96.47577092511013,34.906037584966015,35.43483678046349,36.44224830142063,51.83512140033879,54.185832566697336,181.82656826568265,41.89274447949527,61.068249258160236,274.4978697504565,64.36507936507937,119.26229508196722,54.62555066079295,358.77862595419845,414.8380355276907,157.72994129158513,115.77854671280276,37.91606367583213,42.96520423600605,76.33410672853829,460.7675906183369,691.4712153518124,31.654676258992804,25.529661016949152,209.56521739130434,64.03235843186062,144.47351209941138,237.58700696055683,144.80286738351253,45.45454545454545,93.58600583090379,53.214086081609835,30.170648464163826,41.389728096676734,123.92857142857143,145.70252187339165,26.063829787234045,179.05188981422165,243.2977461447212,315.1826484018265,14.793059822880897,58.578680203045685,1174.0460010454783,37.5,65.30815109343936,309.016393442623,32.48451479697178,99.11797133406836,74.4223753546818,64.75387544193636,74.24158852730281,60.03062787136294,73.8791032826261,123.24777887462982,66.93476318141197,71.2620578778135,159.0655154900965,221.03626943005185,83.35561497326202,35.28872593950504,120.12644889357217,30.357142857142854,74.27068388330942,44.265969368696304,21.27134724857685,597.639344262295,37.07651313285116,97.28700618752974,724.7648902821317,25.353159851301115,84.84848484848484,42.10526315789473,130.08298755186723,73.2152739346984,39.416058394160586,47.262247838616716,34.4683808200139,235.1145038167939,144.50596252129472,88.85658914728683,130.37653874004346,352.0134228187919,239.34226552984165,117.97724399494311,42.38733252131547,46.81555004135649,62.37837837837837,67.6829268292683,40.879689521345405,143.70533260032985,134.57223001402525,156.35673624288424,243.77289377289378,28.893587033121914,56.19208087615838,30.662305805396567,51.10899873257287,78.02101576182136,62.29609110495537,224.29667519181584,196.7095851216023,117.89709172259508,37.33766233766234,513.9508290451687,161.84615384615384,55.008121277747705,954.8622366288492,60.550458715596335,102.86771507863091,274.75935828877004,39.164584077115315,43.238434163701065,217.3954372623574,56.17021276595745,37.392373923739235,59.716859716859716,75.08474576271186,45.639771801140995,91.77644710578844,66.58851113716295,72.93926247288503,244.7978436657682,132.18943033630748,44.19800707168113,211.15537848605578,47.569304941743674,37.65201122544434,84.44588464031109,40.72494669509595,118.91315929675012,82.98926507018992,93.01310043668121,57.307171853856566,78.93065113816834,54.66101694915254,97.04918032786885,203.82978723404256,209.1851851851852,69.48853615520282,78.26633165829145,71.18205349439172,112.92103810049696,73.85057471264368,67.01225259189444,116.86182669789227,68.10244470314319,70.96774193548387,82.15088282504013,229.89623865110244,48.77201112140871,46.13778705636743,78.48970251716247,113.75173050299954,39.827002632568636,69.51915240423799,570.4845814977974,29.91869918699187,44.9468085106383,143.73401534526855,80.3633822501747,35.53937789543349,67.13762428048142,42.5047958344752,56.891025641025635,48.4636328276935,65.13409961685824,73.38247338247338,52.92479108635098,55.85526315789474,60.86286594761171,70.18800358102058,207.36543909348444,399.44779116465867,619.5954487989886,35.682326621923934,52.26432532347505,125.85844428871759,29.660238751147844,250.55679287305122,49.50556242274413,451.2403100775193,464.57399103139016,99.12357581069237,445.2679589509693]},\"selected\":{\"id\":\"a221f9bc-8780-4733-a6e4-1ef3e06ae761\",\"type\":\"Selection\"},\"selection_policy\":{\"id\":\"af388288-bfbb-40c0-8076-2d69c0bd7c45\",\"type\":\"UnionRenderers\"}},\"id\":\"61013805-3435-4994-89fa-ee48afb4f5e6\",\"type\":\"ColumnDataSource\"},{\"attributes\":{},\"id\":\"eadd7b6a-435f-467e-934f-4dcc9a4ab88e\",\"type\":\"LinearScale\"},{\"attributes\":{\"overlay\":{\"id\":\"9727baaf-768b-40f4-a840-3c4ee4918193\",\"type\":\"BoxAnnotation\"}},\"id\":\"4a489b2c-53c7-4cf3-bd57-14e3e5162e7a\",\"type\":\"BoxZoomTool\"},{\"attributes\":{},\"id\":\"707581d5-aeca-4353-82b6-b684b2ae45bf\",\"type\":\"ResetTool\"},{\"attributes\":{},\"id\":\"9ccbe6f6-3e8d-442a-9c64-f0d147162500\",\"type\":\"HelpTool\"},{\"attributes\":{\"plot\":{\"id\":\"2c96c181-d2ec-46f7-ab11-c93e65adb393\",\"subtype\":\"Figure\",\"type\":\"Plot\"},\"ticker\":{\"id\":\"caf834d6-1a18-4342-a73a-4111a82f30bc\",\"type\":\"BasicTicker\"}},\"id\":\"efbcf570-6e00-40ed-ac0d-91abf1666706\",\"type\":\"Grid\"},{\"attributes\":{},\"id\":\"caf834d6-1a18-4342-a73a-4111a82f30bc\",\"type\":\"BasicTicker\"},{\"attributes\":{},\"id\":\"6e638303-8fa1-4d30-bdef-edf0211a424a\",\"type\":\"WheelZoomTool\"},{\"attributes\":{},\"id\":\"633b6d1e-7116-4798-9fb6-681d8e7a7b81\",\"type\":\"BasicTicker\"},{\"attributes\":{},\"id\":\"a11bdad3-1ee5-4584-9cb1-227130e32484\",\"type\":\"SaveTool\"},{\"attributes\":{\"fill_color\":{\"value\":\"#0276FD\"},\"line_color\":{\"value\":\"#0276FD\"},\"x\":{\"field\":\"x\"},\"y\":{\"field\":\"y\"}},\"id\":\"921dffe4-519b-441c-9069-418b95fc4760\",\"type\":\"Circle\"},{\"attributes\":{\"active_drag\":\"auto\",\"active_inspect\":\"auto\",\"active_multi\":null,\"active_scroll\":\"auto\",\"active_tap\":\"auto\",\"tools\":[{\"id\":\"5274b9ea-929a-48b9-8e42-91da1cb770e6\",\"type\":\"PanTool\"},{\"id\":\"6e638303-8fa1-4d30-bdef-edf0211a424a\",\"type\":\"WheelZoomTool\"},{\"id\":\"4a489b2c-53c7-4cf3-bd57-14e3e5162e7a\",\"type\":\"BoxZoomTool\"},{\"id\":\"a11bdad3-1ee5-4584-9cb1-227130e32484\",\"type\":\"SaveTool\"},{\"id\":\"707581d5-aeca-4353-82b6-b684b2ae45bf\",\"type\":\"ResetTool\"},{\"id\":\"9ccbe6f6-3e8d-442a-9c64-f0d147162500\",\"type\":\"HelpTool\"}]},\"id\":\"2047c5f1-d950-4923-a550-d78f28ca9835\",\"type\":\"Toolbar\"},{\"attributes\":{\"axis_label\":\"Population density\",\"axis_label_text_font\":\"verdana\",\"axis_label_text_font_style\":\"normal\",\"formatter\":{\"id\":\"626388a9-baec-4d53-b374-a3ed385c3f9c\",\"type\":\"BasicTickFormatter\"},\"major_label_text_font\":\"verdana\",\"plot\":{\"id\":\"2c96c181-d2ec-46f7-ab11-c93e65adb393\",\"subtype\":\"Figure\",\"type\":\"Plot\"},\"ticker\":{\"id\":\"633b6d1e-7116-4798-9fb6-681d8e7a7b81\",\"type\":\"BasicTicker\"}},\"id\":\"ce7ca208-fa0b-4365-9975-7362c5f10b35\",\"type\":\"LinearAxis\"},{\"attributes\":{\"data_source\":{\"id\":\"61013805-3435-4994-89fa-ee48afb4f5e6\",\"type\":\"ColumnDataSource\"},\"glyph\":{\"id\":\"921dffe4-519b-441c-9069-418b95fc4760\",\"type\":\"Circle\"},\"hover_glyph\":null,\"muted_glyph\":null,\"nonselection_glyph\":{\"id\":\"d3717a99-2bc8-4889-9e55-bd0424dfcdbf\",\"type\":\"Circle\"},\"selection_glyph\":null,\"view\":{\"id\":\"5eb72ed5-c280-4e0e-8dea-e948ecda73c0\",\"type\":\"CDSView\"}},\"id\":\"fe0707dd-4ff4-4bd2-b5bf-69d72fe3d3d8\",\"type\":\"GlyphRenderer\"},{\"attributes\":{\"source\":{\"id\":\"61013805-3435-4994-89fa-ee48afb4f5e6\",\"type\":\"ColumnDataSource\"}},\"id\":\"5eb72ed5-c280-4e0e-8dea-e948ecda73c0\",\"type\":\"CDSView\"}],\"root_ids\":[\"2c96c181-d2ec-46f7-ab11-c93e65adb393\"]},\"title\":\"Bokeh Application\",\"version\":\"0.13.0\"}};\n",
       "  var render_items = [{\"docid\":\"4838935f-7a0c-4454-8f2c-92a0d6952f06\",\"roots\":{\"2c96c181-d2ec-46f7-ab11-c93e65adb393\":\"47ddb3af-342b-4f67-882d-4665c1b5bc73\"}}];\n",
       "  root.Bokeh.embed.embed_items_notebook(docs_json, render_items);\n",
       "\n",
       "  }\n",
       "  if (root.Bokeh !== undefined) {\n",
       "    embed_document(root);\n",
       "  } else {\n",
       "    var attempts = 0;\n",
       "    var timer = setInterval(function(root) {\n",
       "      if (root.Bokeh !== undefined) {\n",
       "        embed_document(root);\n",
       "        clearInterval(timer);\n",
       "      }\n",
       "      attempts++;\n",
       "      if (attempts > 100) {\n",
       "        console.log(\"Bokeh: ERROR: Unable to run BokehJS code because BokehJS library is missing\")\n",
       "        clearInterval(timer);\n",
       "      }\n",
       "    }, 10, root)\n",
       "  }\n",
       "})(window);"
      ],
      "application/vnd.bokehjs_exec.v0+json": ""
     },
     "metadata": {
      "application/vnd.bokehjs_exec.v0+json": {
       "id": "2c96c181-d2ec-46f7-ab11-c93e65adb393"
      }
     },
     "output_type": "display_data"
    }
   ],
   "source": [
    "p = figure(plot_height=300, title=\"City density population vs distance to most populated city\",\n",
    "           x_axis_label='Distance to the most populated city [km]', y_axis_label='Population density')\n",
    "p.circle([ListDistance[i] for i in range(0,NumberOfCity) if AllPopulationList[i]<>AllPopulationList[MostPopCityIndex]],[ListDensity[i] for i in range(0,NumberOfCity) if AllPopulationList[i]<>AllPopulationList[MostPopCityIndex]],\n",
    "        color=\"#0276FD\")\n",
    "\n",
    "p.title.text_font_size = '12pt'\n",
    "p.title.text_color = \"#0276FD\"\n",
    "p.title.text_font = \"verdana\"\n",
    "p.yaxis.axis_label_text_font = \"verdana\"\n",
    "p.yaxis.axis_label_text_font_style = \"normal\"\n",
    "p.xaxis.axis_label_text_font = \"verdana\"\n",
    "p.xaxis.axis_label_text_font_style = \"normal\"\n",
    "p.xaxis.major_label_text_font = \"verdana\"\n",
    "p.yaxis.major_label_text_font = \"verdana\"\n",
    "\n",
    "show(p)"
   ]
  },
  {
   "cell_type": "markdown",
   "metadata": {},
   "source": [
    "Ce graphe montre que plus une ville est proche, moins de 15km, de la ville la plus peuplée et plus la densité de population est importante. Entre 15km et 50km de distance la densité de population est plutot faible et constante. Au dela de 50 km, la densité de population augmente du fait de l'eloignement de la ville principale, d'autres villes importantes se developpent.\n",
    "\n",
    "**Hypothese:** Autour des principales villes, la densité de population est plus importante puis diminue a mesure que l'on s'eloigne de ce centre urbain puis ré-augmente en s'approchant d'un autre centre urbain"
   ]
  },
  {
   "cell_type": "markdown",
   "metadata": {},
   "source": [
    "### 3.5.4. Investiguer l'hypothese émise"
   ]
  },
  {
   "cell_type": "markdown",
   "metadata": {},
   "source": [
    "**Etape:** \n",
    "- Prendre un exemple avec 2-3 villes pour vérifier si l'hypothese est plausible\n",
    "- Identifier les principales villes\n",
    "- Vérifier que la densité diminue avec l'eloignement d'un centre urbain (prendre 2 villes est observer la tendance qui devrait etre de forme parabolique)\n",
    "- Etablir une relation entre l'éloignement, la densité et la population du centre urbain le plus proche"
   ]
  },
  {
   "cell_type": "code",
   "execution_count": 20,
   "metadata": {
    "collapsed": true
   },
   "outputs": [],
   "source": [
    "# Comment définir une grande ville? La ville la plus peuplée + d'autres (quels criteres? distance entre grande ville? population par rapport a une ville plus peuplé?)\n",
    "# Au moins 2000 habitants -> https://www.larousse.fr/dictionnaires/francais/ville/82000\n",
    "# https://baripedia.org/wiki/Ville_et_Urbanisation\n",
    "# https://www.persee.fr/doc/hism_0982-1783_1987_num_2_2_1312"
   ]
  },
  {
   "cell_type": "code",
   "execution_count": 21,
   "metadata": {
    "collapsed": true
   },
   "outputs": [],
   "source": [
    "# Choose Rennes and Saint-Malo, calculate the distance between those 2 cities [Dist_R-SM].\n",
    "# For all cities calculate the distance to these 2 cities.\n",
    "# Then select only the cities that are between these 2 cities\n",
    "# - Cities within intersection of circles from both cities with radius [Dist_R-SM]\n",
    "# - Cities within [Dist_R-SM]+15km -> Margin part could be changed or used %"
   ]
  },
  {
   "cell_type": "code",
   "execution_count": 22,
   "metadata": {},
   "outputs": [
    {
     "data": {
      "text/html": [
       "<div>\n",
       "<style>\n",
       "    .dataframe thead tr:only-child th {\n",
       "        text-align: right;\n",
       "    }\n",
       "\n",
       "    .dataframe thead th {\n",
       "        text-align: left;\n",
       "    }\n",
       "\n",
       "    .dataframe tbody tr th {\n",
       "        vertical-align: top;\n",
       "    }\n",
       "</style>\n",
       "<table border=\"1\" class=\"dataframe\">\n",
       "  <thead>\n",
       "    <tr style=\"text-align: right;\">\n",
       "      <th></th>\n",
       "      <th>Name</th>\n",
       "      <th>Population</th>\n",
       "      <th>Area</th>\n",
       "      <th>Density</th>\n",
       "      <th>DistToRennes</th>\n",
       "      <th>DistToSaint-Malo</th>\n",
       "    </tr>\n",
       "  </thead>\n",
       "  <tbody>\n",
       "    <tr>\n",
       "      <th>0</th>\n",
       "      <td>Acigné</td>\n",
       "      <td>6282</td>\n",
       "      <td>3020</td>\n",
       "      <td>208.013245</td>\n",
       "      <td>12.612759</td>\n",
       "      <td>67.290686</td>\n",
       "    </tr>\n",
       "    <tr>\n",
       "      <th>1</th>\n",
       "      <td>Amanlis</td>\n",
       "      <td>1616</td>\n",
       "      <td>2556</td>\n",
       "      <td>63.223787</td>\n",
       "      <td>18.900247</td>\n",
       "      <td>82.226049</td>\n",
       "    </tr>\n",
       "    <tr>\n",
       "      <th>2</th>\n",
       "      <td>Andouillé-Neuville</td>\n",
       "      <td>837</td>\n",
       "      <td>1266</td>\n",
       "      <td>66.113744</td>\n",
       "      <td>21.883490</td>\n",
       "      <td>49.618939</td>\n",
       "    </tr>\n",
       "    <tr>\n",
       "      <th>3</th>\n",
       "      <td>Antrain</td>\n",
       "      <td>1366</td>\n",
       "      <td>942</td>\n",
       "      <td>145.010616</td>\n",
       "      <td>41.789843</td>\n",
       "      <td>44.005262</td>\n",
       "    </tr>\n",
       "    <tr>\n",
       "      <th>4</th>\n",
       "      <td>Arbrissel</td>\n",
       "      <td>290</td>\n",
       "      <td>469</td>\n",
       "      <td>61.833689</td>\n",
       "      <td>35.483827</td>\n",
       "      <td>96.394868</td>\n",
       "    </tr>\n",
       "  </tbody>\n",
       "</table>\n",
       "</div>"
      ],
      "text/plain": [
       "                 Name  Population  Area     Density  DistToRennes  \\\n",
       "0              Acigné        6282  3020  208.013245     12.612759   \n",
       "1             Amanlis        1616  2556   63.223787     18.900247   \n",
       "2  Andouillé-Neuville         837  1266   66.113744     21.883490   \n",
       "3             Antrain        1366   942  145.010616     41.789843   \n",
       "4           Arbrissel         290   469   61.833689     35.483827   \n",
       "\n",
       "   DistToSaint-Malo  \n",
       "0         67.290686  \n",
       "1         82.226049  \n",
       "2         49.618939  \n",
       "3         44.005262  \n",
       "4         96.394868  "
      ]
     },
     "execution_count": 22,
     "metadata": {},
     "output_type": "execute_result"
    }
   ],
   "source": [
    "# Create dataframe to make it easier to keep all info in one table\n",
    "df = pd.DataFrame({'Name':AllCityNames,\n",
    "                   'Population':AllPopulationList,\n",
    "                   'Area':AllAreaList,\n",
    "                   'Density':ListDensity})\n",
    "df = df[['Name','Population','Area','Density']]\n",
    "\n",
    "# Get the index of the two most populated cities\n",
    "TwoLargestCityIndex = list(df.nlargest(2,'Population').index.values)\n",
    "\n",
    "# Add column with distance of each city to the most two populated cities\n",
    "for CurrentMostPopCity in range(0,len(TwoLargestCityIndex)):\n",
    "    # Get index of the two most populated cities\n",
    "    MostPopCityIndex = TwoLargestCityIndex[CurrentMostPopCity]\n",
    "    # Initialise the list containing the distance\n",
    "    globals()['List1_{0}'.format(TwoLargestCityIndex[CurrentMostPopCity])]  = list()\n",
    "    # For loop to calculate the distance between the current city and all the other cities\n",
    "    for CurrentCity in range(0,NumberOfCity):\n",
    "        globals()['List1_{0}'.format(TwoLargestCityIndex[CurrentMostPopCity])].append(Fcn_BasicStatisticalAnalysisOfPopulation.DistanceCoordToKm(QueryMongo[MostPopCityIndex]['centre']['coordinates'][1],QueryMongo[MostPopCityIndex]['centre']['coordinates'][0],QueryMongo[CurrentCity]['centre']['coordinates'][1],QueryMongo[CurrentCity]['centre']['coordinates'][0]))\n",
    "    # Add to the dataframe a column with the distance to the current city\n",
    "    df['DistTo{0}'.format(df['Name'][TwoLargestCityIndex[CurrentMostPopCity]])] = pd.Series(globals()['List1_{0}'.format(TwoLargestCityIndex[CurrentMostPopCity])])\n",
    "\n",
    "# Get distance between the two most populated cities\n",
    "MasterDistance = sum(df['DistToRennes'][TwoLargestCityIndex])\n",
    "\n",
    "df.head()"
   ]
  },
  {
   "cell_type": "markdown",
   "metadata": {},
   "source": [
    "**Methode 1:** Selectionner uniquement les villes se trouvant dans l'intersection des deux cercles de rayon egal a la distance entre les deux villes les plus peuplés et ayant pour centre ces deux villes"
   ]
  },
  {
   "cell_type": "code",
   "execution_count": 23,
   "metadata": {
    "scrolled": true
   },
   "outputs": [
    {
     "data": {
      "text/html": [
       "<div>\n",
       "<style>\n",
       "    .dataframe thead tr:only-child th {\n",
       "        text-align: right;\n",
       "    }\n",
       "\n",
       "    .dataframe thead th {\n",
       "        text-align: left;\n",
       "    }\n",
       "\n",
       "    .dataframe tbody tr th {\n",
       "        vertical-align: top;\n",
       "    }\n",
       "</style>\n",
       "<table border=\"1\" class=\"dataframe\">\n",
       "  <thead>\n",
       "    <tr style=\"text-align: right;\">\n",
       "      <th></th>\n",
       "      <th>Name</th>\n",
       "      <th>Population</th>\n",
       "      <th>Area</th>\n",
       "      <th>Density</th>\n",
       "      <th>DistToRennes</th>\n",
       "      <th>DistToSaint-Malo</th>\n",
       "    </tr>\n",
       "  </thead>\n",
       "  <tbody>\n",
       "    <tr>\n",
       "      <th>2</th>\n",
       "      <td>Andouillé-Neuville</td>\n",
       "      <td>837</td>\n",
       "      <td>1266</td>\n",
       "      <td>66.113744</td>\n",
       "      <td>21.883490</td>\n",
       "      <td>49.618939</td>\n",
       "    </tr>\n",
       "    <tr>\n",
       "      <th>3</th>\n",
       "      <td>Antrain</td>\n",
       "      <td>1366</td>\n",
       "      <td>942</td>\n",
       "      <td>145.010616</td>\n",
       "      <td>41.789843</td>\n",
       "      <td>44.005262</td>\n",
       "    </tr>\n",
       "    <tr>\n",
       "      <th>6</th>\n",
       "      <td>Aubigné</td>\n",
       "      <td>487</td>\n",
       "      <td>222</td>\n",
       "      <td>219.369369</td>\n",
       "      <td>21.292930</td>\n",
       "      <td>47.785542</td>\n",
       "    </tr>\n",
       "    <tr>\n",
       "      <th>8</th>\n",
       "      <td>Baguer-Morvan</td>\n",
       "      <td>1621</td>\n",
       "      <td>2443</td>\n",
       "      <td>66.352845</td>\n",
       "      <td>43.693092</td>\n",
       "      <td>23.974464</td>\n",
       "    </tr>\n",
       "    <tr>\n",
       "      <th>9</th>\n",
       "      <td>Baguer-Pican</td>\n",
       "      <td>1578</td>\n",
       "      <td>1610</td>\n",
       "      <td>98.012422</td>\n",
       "      <td>48.152533</td>\n",
       "      <td>25.965216</td>\n",
       "    </tr>\n",
       "  </tbody>\n",
       "</table>\n",
       "</div>"
      ],
      "text/plain": [
       "                 Name  Population  Area     Density  DistToRennes  \\\n",
       "2  Andouillé-Neuville         837  1266   66.113744     21.883490   \n",
       "3             Antrain        1366   942  145.010616     41.789843   \n",
       "6             Aubigné         487   222  219.369369     21.292930   \n",
       "8       Baguer-Morvan        1621  2443   66.352845     43.693092   \n",
       "9        Baguer-Pican        1578  1610   98.012422     48.152533   \n",
       "\n",
       "   DistToSaint-Malo  \n",
       "2         49.618939  \n",
       "3         44.005262  \n",
       "6         47.785542  \n",
       "8         23.974464  \n",
       "9         25.965216  "
      ]
     },
     "execution_count": 23,
     "metadata": {},
     "output_type": "execute_result"
    }
   ],
   "source": [
    "# Get index of the cities between the two most populated cities\n",
    "df1 = df\n",
    "df1 = df1.drop(TwoLargestCityIndex)\n",
    "df1 = df1[(df1['DistToRennes'] <= MasterDistance) & (df1['DistToSaint-Malo'] <= MasterDistance)]\n",
    "df1.head()"
   ]
  },
  {
   "cell_type": "code",
   "execution_count": 24,
   "metadata": {},
   "outputs": [
    {
     "name": "stdout",
     "output_type": "stream",
     "text": [
      "Number of cities after filter: 170\n"
     ]
    }
   ],
   "source": [
    "print 'Number of cities after filter: ' + str(len(df1))"
   ]
  },
  {
   "cell_type": "code",
   "execution_count": 25,
   "metadata": {},
   "outputs": [
    {
     "data": {
      "text/html": [
       "\n",
       "\n",
       "\n",
       "\n",
       "\n",
       "\n",
       "  <div class=\"bk-root\" id=\"056fa528-6be0-43b8-b71f-6f665d3a358f\"></div>\n"
      ]
     },
     "metadata": {},
     "output_type": "display_data"
    },
    {
     "data": {
      "application/javascript": [
       "(function(root) {\n",
       "  function embed_document(root) {\n",
       "    \n",
       "  var docs_json = {\"14cc8e32-2df3-457b-ae50-baec7c79466f\":{\"roots\":{\"references\":[{\"attributes\":{\"plot\":null,\"text\":\"City density population vs distance to second most populated city\"},\"id\":\"eb1010a5-55ae-4e4d-98b6-57116aa04620\",\"type\":\"Title\"},{\"attributes\":{\"callback\":null,\"data\":{\"x\":[21.88348989420762,41.78984281358517,21.292930100952542,43.69309199164935,48.152533155179256,35.75313900708646,27.578951058055985,37.33665695399745,22.39150834241537,28.32849669803807,21.944364750423127,8.248999381241765,32.26371937744204,30.465918051820875,40.71270677256807,45.02405362604746,17.255031304929542,40.58194706573598,24.972161625114577,32.058634077557194,22.043761955569938,8.35368187572326,26.0117073598036,34.84202629197804,13.028640148123996,16.376715343394718,53.13973894003427,47.51354477126803,33.87745387737081,53.89870515892685,13.385776184838209,15.15618970945928,14.95673908744066,44.96843162489416,33.028745550311925,36.615069042118314,36.50911121188655,64.09506730273895,26.394414299891928,47.35909416368055,43.49334718195211,19.842570828497422,24.553502062432774,50.954930338278146,41.50311830231763,55.02457089136518,41.37194730347569,21.87048221069132,14.083165940144356,22.05420819270911,57.1986582950794,20.00107743105653,10.241662812333445,54.96955726577447,26.188720364887033,24.652770955070192,25.05568768402425,28.756765161525415,18.76044293618646,18.73232757794931,39.888836475962805,31.053108394910442,18.355095896669486,52.57164960516572,29.13139626043785,36.91511585577354,30.1460968331568,32.71562283514727,35.66733134675045,12.26013890220118,55.38992120401544,12.52706061266996,27.94443878042254,47.6983086782573,26.09822993452107,57.18336695877464,7.9970101380351055,29.626541908734254,51.93203989035352,20.890209300278915,5.717765212975302,58.50783813952679,15.088502322132944,21.82007568963148,12.263898988603646,13.453436550706028,35.52938327335913,22.71063141373112,34.06690879693137,8.815958054991503,13.993823266780412,46.888615034935526,47.7752261838845,38.72757451908721,34.97599594226945,17.471040470943752,59.529377083270184,50.687153686376625,29.351469573061305,37.522904754012146,61.58932418266667,32.572266225226045,32.96808968818244,19.54892595237798,48.55199606398884,52.78558744849058,50.09689999000238,17.25967623805534,25.22385993798401,57.417159545145694,40.770470318169004,24.675677560127497,51.369701034439515,30.903157393586152,32.08376052823934,52.293248390670215,55.54096417584405,44.10779691710571,15.904150418464727,13.480168245847624,20.598363853321978,29.66247841090706,5.316976320821598,54.53158932468894,34.2059151463352,29.620310461985117,58.570807540976006,30.873617015157546,31.57250018737193,52.85344243002804,35.29766993575421,31.70445137300385,31.359226106498504,17.536240602695568,39.19059314483358,60.68542877844294,31.437269034957126,35.803571447218964,42.11357550831163,30.786223870369607,55.98841692328208,29.186459841538515,41.696682609737024,30.739633111675694,37.72789356279571,55.41616284025507,13.856195517353932,20.85546942876375,31.21736665709106,27.15847792089452,28.068911568333977,45.10890030759796,18.28513235233368,8.336330881134774,32.653543121691555,25.989324180003894,42.34386214029859,38.281343619520705,36.82760137362773,43.88221635462419,33.92214087122414,31.01796822954709,5.510966883886349,44.15600558790436,28.824434763620246,17.21933264195738,51.57891097445356,52.70712352102551,54.460859545110125,44.33278807894072],\"y\":[66.11374407582939,145.01061571125265,219.36936936936937,66.35284486287351,98.01242236024845,57.250470809792844,65.57377049180327,31.39354170264203,142.5951086956522,1289.2857142857142,102.57836198179979,396.11650485436894,31.94029850746269,78.50421000495295,59.90057995028998,51.80282975810132,231.9034852546917,29.92248062015504,74.07912687585267,129.19254658385094,84.44895199459094,534.6681922196797,89.03591682419659,42.943548387096776,250.3217503217503,154.6209761163032,1107.9136690647483,28.66617538688283,46.12381483547128,89.2103205629398,188.26923076923077,255.67251461988306,166.97674418604652,56.81321350497935,90.04998437988128,85.89540412044374,33.655868742111906,1258.1841432225065,31.18802619270346,352.6112185686654,57.277187244480785,110.479797979798,45.481335952848724,40.78341013824885,44.43541835905768,160.05547850208043,30.898452246130613,54.610492845786965,174.5225225225225,103.4613304488913,195.00567536889898,66.7715296893433,584.9493487698987,135.678391959799,59.38666666666666,60.310421286031044,91.75126903553299,67.26768377253815,118.66151866151866,83.70786516853933,152.23420647149462,36.88118811881188,107.66456266907123,85.03937007874016,81.8659658344284,46.76753782668501,35.51693404634581,51.83512140033879,54.185832566697336,181.82656826568265,41.89274447949527,274.4978697504565,64.36507936507937,119.26229508196722,54.62555066079295,358.77862595419845,414.8380355276907,115.77854671280276,42.96520423600605,460.7675906183369,691.4712153518124,31.654676258992804,209.56521739130434,144.47351209941138,237.58700696055683,144.80286738351253,30.170648464163826,123.92857142857143,26.063829787234045,315.1826484018265,309.016393442623,60.03062787136294,123.24777887462982,66.93476318141197,71.2620578778135,159.0655154900965,221.03626943005185,35.28872593950504,74.27068388330942,44.265969368696304,724.7648902821317,25.353159851301115,42.10526315789473,130.08298755186723,73.2152739346984,39.416058394160586,47.262247838616716,144.50596252129472,130.37653874004346,352.0134228187919,117.97724399494311,42.38733252131547,46.81555004135649,67.6829268292683,156.35673624288424,30.662305805396567,51.10899873257287,62.29609110495537,224.29667519181584,196.7095851216023,117.89709172259508,37.33766233766234,513.9508290451687,161.84615384615384,55.008121277747705,60.550458715596335,274.75935828877004,43.238434163701065,37.392373923739235,59.716859716859716,75.08474576271186,45.639771801140995,66.58851113716295,72.93926247288503,244.7978436657682,132.18943033630748,211.15537848605578,47.569304941743674,37.65201122544434,84.44588464031109,118.91315929675012,82.98926507018992,93.01310043668121,57.307171853856566,78.93065113816834,203.82978723404256,209.1851851851852,78.26633165829145,71.18205349439172,73.85057471264368,82.15088282504013,46.13778705636743,113.75173050299954,570.4845814977974,44.9468085106383,143.73401534526855,35.53937789543349,42.5047958344752,56.891025641025635,65.13409961685824,73.38247338247338,52.92479108635098,619.5954487989886,35.682326621923934,52.26432532347505,125.85844428871759,29.660238751147844,250.55679287305122,464.57399103139016,99.12357581069237]},\"selected\":{\"id\":\"26e196fb-60b5-46b5-a235-c66534c3c9f8\",\"type\":\"Selection\"},\"selection_policy\":{\"id\":\"4e397a0f-003e-484e-b2fe-bbd6f17e9bcf\",\"type\":\"UnionRenderers\"}},\"id\":\"239e43e0-a617-4da4-b0ea-b277abbae899\",\"type\":\"ColumnDataSource\"},{\"attributes\":{},\"id\":\"64a36971-a1b5-4b45-9006-ecf9cc2cc888\",\"type\":\"WheelZoomTool\"},{\"attributes\":{\"plot\":{\"id\":\"e9606658-16c3-4152-b937-e774469f1844\",\"subtype\":\"Figure\",\"type\":\"Plot\"},\"ticker\":{\"id\":\"f423a940-9134-4219-b1bf-e78e5411a9d8\",\"type\":\"BasicTicker\"}},\"id\":\"af345c0f-6828-428a-bd7b-a66a77569a0d\",\"type\":\"Grid\"},{\"attributes\":{},\"id\":\"c38413e9-de5b-4c9a-a789-3496a31d4a28\",\"type\":\"LinearScale\"},{\"attributes\":{\"plot\":null,\"text\":\"City density population vs distance to most populated city\"},\"id\":\"cf067f3b-cba8-4358-9459-7de2b97ff34f\",\"type\":\"Title\"},{\"attributes\":{},\"id\":\"10af4ca8-f374-49e8-a9cb-30a5b1239092\",\"type\":\"BasicTicker\"},{\"attributes\":{\"children\":[{\"id\":\"52ce5ead-c221-443f-a396-b6f7df089681\",\"subtype\":\"Figure\",\"type\":\"Plot\"},{\"id\":\"e9606658-16c3-4152-b937-e774469f1844\",\"subtype\":\"Figure\",\"type\":\"Plot\"}]},\"id\":\"62b77366-8a7e-441c-b3c2-d5eb96f4a3b5\",\"type\":\"Row\"},{\"attributes\":{\"bottom_units\":\"screen\",\"fill_alpha\":{\"value\":0.5},\"fill_color\":{\"value\":\"lightgrey\"},\"left_units\":\"screen\",\"level\":\"overlay\",\"line_alpha\":{\"value\":1.0},\"line_color\":{\"value\":\"black\"},\"line_dash\":[4,4],\"line_width\":{\"value\":2},\"plot\":null,\"render_mode\":\"css\",\"right_units\":\"screen\",\"top_units\":\"screen\"},\"id\":\"fdd42f7f-d695-46f4-b101-f88998ec1e49\",\"type\":\"BoxAnnotation\"},{\"attributes\":{},\"id\":\"9bfd78fc-c14d-4c7a-aa86-25a9f52645e1\",\"type\":\"SaveTool\"},{\"attributes\":{\"callback\":null,\"data\":{\"x\":[49.618938963706555,44.005261681235716,47.7855416296867,23.974464179789805,25.965216189046497,56.1701229239075,38.58075232672677,40.391871843599915,42.35239778731894,39.84257078300517,52.3565737528687,58.61913952102676,60.184542423226745,54.00619494938391,26.523321630330013,29.93261590342061,57.53562006171515,31.97901227286522,41.68633977225743,32.71213118738112,44.05839258332909,56.57771609389237,48.737892550065766,63.74244097767133,59.49453126708262,55.730773934302654,11.670306089426598,61.105894215889535,51.14513807061382,21.502184267146603,54.33202422894096,60.93921623471502,53.92427770465398,53.52075463834374,33.70756684157655,50.33728101885541,34.729623467578975,4.535299843856032,40.384569986357484,23.20448186504492,27.741865663431202,56.90906567335055,45.24949890323442,55.36202457090946,42.04279568012221,13.973849671937,61.81849736998519,54.16817529350514,51.35061550657272,60.0771002719432,9.633133569133959,45.35939373270012,60.30187983423444,14.7973169614631,58.89504510200201,40.98769306223873,45.36535961588543,44.774731813480614,47.52513866289323,46.42314810522116,25.27551363124407,37.21995466354316,62.35396883712249,14.141787233855892,38.42664528677458,30.840446553827913,41.84812913104681,43.75799818240341,29.244065385296114,53.05750409694059,62.67627751901154,52.24968046680533,58.03801144337454,17.206049448133328,41.764855843491326,8.512890266993661,63.16879928948507,50.37742823561196,19.923160186118857,58.401521143335906,59.084353634237445,62.741300423392374,49.974428824256826,45.6561029712781,63.971049215100614,56.2263514858438,60.27055417052546,54.005950516097236,38.21116668946796,57.99426660707788,53.13952640294856,34.36196443227086,18.127115865406395,26.719220768430763,29.848411583636395,53.11314842749844,8.751734046915065,58.97435653808671,35.38865650108181,47.333555785052035,5.363557661826604,45.91657224650549,48.01879885877595,48.35659188005231,18.509513767498,30.735399021794663,31.41519590671989,53.50817951203135,60.772121368437,11.201179607235623,55.61938122997905,40.43265523106221,26.56827941889178,53.43993302021676,32.82054926719813,34.60276020905349,58.93700081736748,61.33901045693124,51.51024417866432,56.60982825986691,44.57557663656608,60.272328624446956,59.81246051412575,11.339630513658541,58.121251401169374,62.35540209621026,6.151714228240283,38.788179950759734,62.20203028486587,28.83016185212375,53.51742657270503,60.50550514518666,57.988393861383855,48.70831977213162,52.76356459057355,7.363049517460486,47.15605965303806,54.899232749375926,47.14553560293412,55.759186001708116,9.054006240126041,41.63251667003428,23.01886566308518,44.40178902529634,60.99591830583584,9.344458685736319,58.302095898824284,43.93502750102786,35.23192877737721,53.68797443561043,47.66345778919706,39.73181259303881,62.381556221157915,63.77284667324959,54.57988443799254,38.813622768805146,34.463399378709674,47.763708106654676,32.430483598767104,20.885328935345683,31.723143258904376,34.59243319371791,62.43194780614242,37.090127230599414,51.05924569701618,47.49440970038582,61.71290685929421,12.056706259019398,17.594913815055758,21.094928180858304],\"y\":[66.11374407582939,145.01061571125265,219.36936936936937,66.35284486287351,98.01242236024845,57.250470809792844,65.57377049180327,31.39354170264203,142.5951086956522,1289.2857142857142,102.57836198179979,396.11650485436894,31.94029850746269,78.50421000495295,59.90057995028998,51.80282975810132,231.9034852546917,29.92248062015504,74.07912687585267,129.19254658385094,84.44895199459094,534.6681922196797,89.03591682419659,42.943548387096776,250.3217503217503,154.6209761163032,1107.9136690647483,28.66617538688283,46.12381483547128,89.2103205629398,188.26923076923077,255.67251461988306,166.97674418604652,56.81321350497935,90.04998437988128,85.89540412044374,33.655868742111906,1258.1841432225065,31.18802619270346,352.6112185686654,57.277187244480785,110.479797979798,45.481335952848724,40.78341013824885,44.43541835905768,160.05547850208043,30.898452246130613,54.610492845786965,174.5225225225225,103.4613304488913,195.00567536889898,66.7715296893433,584.9493487698987,135.678391959799,59.38666666666666,60.310421286031044,91.75126903553299,67.26768377253815,118.66151866151866,83.70786516853933,152.23420647149462,36.88118811881188,107.66456266907123,85.03937007874016,81.8659658344284,46.76753782668501,35.51693404634581,51.83512140033879,54.185832566697336,181.82656826568265,41.89274447949527,274.4978697504565,64.36507936507937,119.26229508196722,54.62555066079295,358.77862595419845,414.8380355276907,115.77854671280276,42.96520423600605,460.7675906183369,691.4712153518124,31.654676258992804,209.56521739130434,144.47351209941138,237.58700696055683,144.80286738351253,30.170648464163826,123.92857142857143,26.063829787234045,315.1826484018265,309.016393442623,60.03062787136294,123.24777887462982,66.93476318141197,71.2620578778135,159.0655154900965,221.03626943005185,35.28872593950504,74.27068388330942,44.265969368696304,724.7648902821317,25.353159851301115,42.10526315789473,130.08298755186723,73.2152739346984,39.416058394160586,47.262247838616716,144.50596252129472,130.37653874004346,352.0134228187919,117.97724399494311,42.38733252131547,46.81555004135649,67.6829268292683,156.35673624288424,30.662305805396567,51.10899873257287,62.29609110495537,224.29667519181584,196.7095851216023,117.89709172259508,37.33766233766234,513.9508290451687,161.84615384615384,55.008121277747705,60.550458715596335,274.75935828877004,43.238434163701065,37.392373923739235,59.716859716859716,75.08474576271186,45.639771801140995,66.58851113716295,72.93926247288503,244.7978436657682,132.18943033630748,211.15537848605578,47.569304941743674,37.65201122544434,84.44588464031109,118.91315929675012,82.98926507018992,93.01310043668121,57.307171853856566,78.93065113816834,203.82978723404256,209.1851851851852,78.26633165829145,71.18205349439172,73.85057471264368,82.15088282504013,46.13778705636743,113.75173050299954,570.4845814977974,44.9468085106383,143.73401534526855,35.53937789543349,42.5047958344752,56.891025641025635,65.13409961685824,73.38247338247338,52.92479108635098,619.5954487989886,35.682326621923934,52.26432532347505,125.85844428871759,29.660238751147844,250.55679287305122,464.57399103139016,99.12357581069237]},\"selected\":{\"id\":\"3b61d01d-feec-46af-84af-1b01a77bb591\",\"type\":\"Selection\"},\"selection_policy\":{\"id\":\"bf870804-a07f-4c80-8822-7a7b9f02cd17\",\"type\":\"UnionRenderers\"}},\"id\":\"4a1278aa-671d-47f5-b2bf-115a6b3282db\",\"type\":\"ColumnDataSource\"},{\"attributes\":{},\"id\":\"4640c6b6-8cb2-4f8f-b810-661ca172ec7d\",\"type\":\"PanTool\"},{\"attributes\":{\"axis_label\":\"Distance to the most populated city [km]\",\"formatter\":{\"id\":\"dbc1191f-1444-4c2d-9e48-ccfe0f342a43\",\"type\":\"BasicTickFormatter\"},\"plot\":{\"id\":\"52ce5ead-c221-443f-a396-b6f7df089681\",\"subtype\":\"Figure\",\"type\":\"Plot\"},\"ticker\":{\"id\":\"f6ca68ae-5512-46c8-9045-bf8a2da98733\",\"type\":\"BasicTicker\"}},\"id\":\"f9f1d61c-7e50-4682-8685-41a9ae95dcfd\",\"type\":\"LinearAxis\"},{\"attributes\":{\"fill_color\":{\"value\":\"#0276FD\"},\"line_color\":{\"value\":\"#0276FD\"},\"x\":{\"field\":\"x\"},\"y\":{\"field\":\"y\"}},\"id\":\"8165aaa7-4cc4-4dbc-a216-82b378ef7187\",\"type\":\"Circle\"},{\"attributes\":{},\"id\":\"2bb6e7fc-0a0f-4a13-a549-4f925c923078\",\"type\":\"HelpTool\"},{\"attributes\":{},\"id\":\"8640d7ac-846b-499e-ab8e-a4acca6eeb59\",\"type\":\"LinearScale\"},{\"attributes\":{\"active_drag\":\"auto\",\"active_inspect\":\"auto\",\"active_multi\":null,\"active_scroll\":\"auto\",\"active_tap\":\"auto\",\"tools\":[{\"id\":\"4640c6b6-8cb2-4f8f-b810-661ca172ec7d\",\"type\":\"PanTool\"},{\"id\":\"64a36971-a1b5-4b45-9006-ecf9cc2cc888\",\"type\":\"WheelZoomTool\"},{\"id\":\"2898314b-d465-409d-a12a-c4ef88fd42a6\",\"type\":\"BoxZoomTool\"},{\"id\":\"d586df2e-c4d4-4656-9113-480fdbd10cbe\",\"type\":\"SaveTool\"},{\"id\":\"f6ab4932-b07d-4729-90b0-72f01440b947\",\"type\":\"ResetTool\"},{\"id\":\"a885af0f-93cd-4a4f-97d6-09618c252fbd\",\"type\":\"HelpTool\"}]},\"id\":\"8a63cc64-29bc-4547-860f-f327433c244c\",\"type\":\"Toolbar\"},{\"attributes\":{\"data_source\":{\"id\":\"239e43e0-a617-4da4-b0ea-b277abbae899\",\"type\":\"ColumnDataSource\"},\"glyph\":{\"id\":\"204eb830-3c1a-4ee5-a815-28741cc4660c\",\"type\":\"Circle\"},\"hover_glyph\":null,\"muted_glyph\":null,\"nonselection_glyph\":{\"id\":\"d822e0d7-463b-4ddd-945a-1bbeb7f60810\",\"type\":\"Circle\"},\"selection_glyph\":null,\"view\":{\"id\":\"11f31d2c-8683-42e1-a2b6-4a7fd18c8938\",\"type\":\"CDSView\"}},\"id\":\"105b660f-b543-4346-8cff-100c4299c137\",\"type\":\"GlyphRenderer\"},{\"attributes\":{\"data_source\":{\"id\":\"4a1278aa-671d-47f5-b2bf-115a6b3282db\",\"type\":\"ColumnDataSource\"},\"glyph\":{\"id\":\"8165aaa7-4cc4-4dbc-a216-82b378ef7187\",\"type\":\"Circle\"},\"hover_glyph\":null,\"muted_glyph\":null,\"nonselection_glyph\":{\"id\":\"caeff855-1e50-4125-98c2-41be76ed1d98\",\"type\":\"Circle\"},\"selection_glyph\":null,\"view\":{\"id\":\"a36e9df8-5b50-4745-bb21-df54560718ec\",\"type\":\"CDSView\"}},\"id\":\"7a6ee15e-3aad-41fa-ab4d-53522c437d3e\",\"type\":\"GlyphRenderer\"},{\"attributes\":{\"callback\":null},\"id\":\"2aaa07a9-afdb-4fe4-8e42-90dbdc91274e\",\"type\":\"DataRange1d\"},{\"attributes\":{\"callback\":null},\"id\":\"3e0c0c91-8972-468e-97aa-ad9d6372bdc8\",\"type\":\"DataRange1d\"},{\"attributes\":{},\"id\":\"dbc1191f-1444-4c2d-9e48-ccfe0f342a43\",\"type\":\"BasicTickFormatter\"},{\"attributes\":{\"below\":[{\"id\":\"f9f1d61c-7e50-4682-8685-41a9ae95dcfd\",\"type\":\"LinearAxis\"}],\"left\":[{\"id\":\"feba6c94-66a9-4f63-91f0-27e036701682\",\"type\":\"LinearAxis\"}],\"plot_height\":300,\"plot_width\":495,\"renderers\":[{\"id\":\"f9f1d61c-7e50-4682-8685-41a9ae95dcfd\",\"type\":\"LinearAxis\"},{\"id\":\"9ac45fac-9248-499d-a4d4-a0ca262ef8ab\",\"type\":\"Grid\"},{\"id\":\"feba6c94-66a9-4f63-91f0-27e036701682\",\"type\":\"LinearAxis\"},{\"id\":\"3bc664f9-4b51-4040-a4af-c96446c2cb6c\",\"type\":\"Grid\"},{\"id\":\"55299fbc-f7c4-4e6c-905b-5dc558842d86\",\"type\":\"BoxAnnotation\"},{\"id\":\"105b660f-b543-4346-8cff-100c4299c137\",\"type\":\"GlyphRenderer\"}],\"title\":{\"id\":\"cf067f3b-cba8-4358-9459-7de2b97ff34f\",\"type\":\"Title\"},\"toolbar\":{\"id\":\"ee0ea380-f38a-4688-b88d-3f7211cd066a\",\"type\":\"Toolbar\"},\"x_range\":{\"id\":\"2aaa07a9-afdb-4fe4-8e42-90dbdc91274e\",\"type\":\"DataRange1d\"},\"x_scale\":{\"id\":\"0ec1762c-a468-4894-bb94-e3b96f326363\",\"type\":\"LinearScale\"},\"y_range\":{\"id\":\"5ed6b597-ddc2-4901-88ae-882a48418b75\",\"type\":\"DataRange1d\"},\"y_scale\":{\"id\":\"7f22e4af-dcf2-4010-9616-0c25c86d382b\",\"type\":\"LinearScale\"}},\"id\":\"52ce5ead-c221-443f-a396-b6f7df089681\",\"subtype\":\"Figure\",\"type\":\"Plot\"},{\"attributes\":{},\"id\":\"0ec1762c-a468-4894-bb94-e3b96f326363\",\"type\":\"LinearScale\"},{\"attributes\":{\"overlay\":{\"id\":\"55299fbc-f7c4-4e6c-905b-5dc558842d86\",\"type\":\"BoxAnnotation\"}},\"id\":\"b163d536-8541-4eb0-a696-eafc7efa5d54\",\"type\":\"BoxZoomTool\"},{\"attributes\":{\"active_drag\":\"auto\",\"active_inspect\":\"auto\",\"active_multi\":null,\"active_scroll\":\"auto\",\"active_tap\":\"auto\",\"tools\":[{\"id\":\"bbec497a-b5ca-45c3-a5d0-86967c70f38b\",\"type\":\"PanTool\"},{\"id\":\"f46db4da-e795-45a2-be3f-adbe4bb656a9\",\"type\":\"WheelZoomTool\"},{\"id\":\"b163d536-8541-4eb0-a696-eafc7efa5d54\",\"type\":\"BoxZoomTool\"},{\"id\":\"9bfd78fc-c14d-4c7a-aa86-25a9f52645e1\",\"type\":\"SaveTool\"},{\"id\":\"0bc14276-fdfe-4aa2-acd3-555ba20e71a8\",\"type\":\"ResetTool\"},{\"id\":\"2bb6e7fc-0a0f-4a13-a549-4f925c923078\",\"type\":\"HelpTool\"}]},\"id\":\"ee0ea380-f38a-4688-b88d-3f7211cd066a\",\"type\":\"Toolbar\"},{\"attributes\":{},\"id\":\"57733066-fb3c-4f5c-a0c4-d94b00f01247\",\"type\":\"BasicTickFormatter\"},{\"attributes\":{},\"id\":\"f6ab4932-b07d-4729-90b0-72f01440b947\",\"type\":\"ResetTool\"},{\"attributes\":{},\"id\":\"bf870804-a07f-4c80-8822-7a7b9f02cd17\",\"type\":\"UnionRenderers\"},{\"attributes\":{},\"id\":\"fe254286-df1d-4add-a5d0-cde2bdb28ef2\",\"type\":\"BasicTickFormatter\"},{\"attributes\":{\"dimension\":1,\"plot\":{\"id\":\"52ce5ead-c221-443f-a396-b6f7df089681\",\"subtype\":\"Figure\",\"type\":\"Plot\"},\"ticker\":{\"id\":\"333712ab-49dc-49cd-b4d3-c6129d57a2f4\",\"type\":\"BasicTicker\"}},\"id\":\"3bc664f9-4b51-4040-a4af-c96446c2cb6c\",\"type\":\"Grid\"},{\"attributes\":{},\"id\":\"26e196fb-60b5-46b5-a235-c66534c3c9f8\",\"type\":\"Selection\"},{\"attributes\":{\"fill_color\":{\"value\":\"#0276FD\"},\"line_color\":{\"value\":\"#0276FD\"},\"x\":{\"field\":\"x\"},\"y\":{\"field\":\"y\"}},\"id\":\"204eb830-3c1a-4ee5-a815-28741cc4660c\",\"type\":\"Circle\"},{\"attributes\":{\"callback\":null},\"id\":\"4e28ae54-2084-4775-aaf0-47fda602661f\",\"type\":\"DataRange1d\"},{\"attributes\":{\"below\":[{\"id\":\"3e7d9082-4b30-4597-96f0-8873a8357edb\",\"type\":\"LinearAxis\"}],\"left\":[{\"id\":\"5166077f-e4cf-4d14-8868-87415729d37d\",\"type\":\"LinearAxis\"}],\"plot_height\":300,\"plot_width\":495,\"renderers\":[{\"id\":\"3e7d9082-4b30-4597-96f0-8873a8357edb\",\"type\":\"LinearAxis\"},{\"id\":\"af345c0f-6828-428a-bd7b-a66a77569a0d\",\"type\":\"Grid\"},{\"id\":\"5166077f-e4cf-4d14-8868-87415729d37d\",\"type\":\"LinearAxis\"},{\"id\":\"10fc6e55-8921-4c4e-8771-28623d9a4de4\",\"type\":\"Grid\"},{\"id\":\"fdd42f7f-d695-46f4-b101-f88998ec1e49\",\"type\":\"BoxAnnotation\"},{\"id\":\"7a6ee15e-3aad-41fa-ab4d-53522c437d3e\",\"type\":\"GlyphRenderer\"}],\"title\":{\"id\":\"eb1010a5-55ae-4e4d-98b6-57116aa04620\",\"type\":\"Title\"},\"toolbar\":{\"id\":\"8a63cc64-29bc-4547-860f-f327433c244c\",\"type\":\"Toolbar\"},\"x_range\":{\"id\":\"3e0c0c91-8972-468e-97aa-ad9d6372bdc8\",\"type\":\"DataRange1d\"},\"x_scale\":{\"id\":\"8640d7ac-846b-499e-ab8e-a4acca6eeb59\",\"type\":\"LinearScale\"},\"y_range\":{\"id\":\"4e28ae54-2084-4775-aaf0-47fda602661f\",\"type\":\"DataRange1d\"},\"y_scale\":{\"id\":\"c38413e9-de5b-4c9a-a789-3496a31d4a28\",\"type\":\"LinearScale\"}},\"id\":\"e9606658-16c3-4152-b937-e774469f1844\",\"subtype\":\"Figure\",\"type\":\"Plot\"},{\"attributes\":{\"source\":{\"id\":\"239e43e0-a617-4da4-b0ea-b277abbae899\",\"type\":\"ColumnDataSource\"}},\"id\":\"11f31d2c-8683-42e1-a2b6-4a7fd18c8938\",\"type\":\"CDSView\"},{\"attributes\":{\"axis_label\":\"Population density\",\"formatter\":{\"id\":\"57733066-fb3c-4f5c-a0c4-d94b00f01247\",\"type\":\"BasicTickFormatter\"},\"plot\":{\"id\":\"52ce5ead-c221-443f-a396-b6f7df089681\",\"subtype\":\"Figure\",\"type\":\"Plot\"},\"ticker\":{\"id\":\"333712ab-49dc-49cd-b4d3-c6129d57a2f4\",\"type\":\"BasicTicker\"}},\"id\":\"feba6c94-66a9-4f63-91f0-27e036701682\",\"type\":\"LinearAxis\"},{\"attributes\":{},\"id\":\"3b61d01d-feec-46af-84af-1b01a77bb591\",\"type\":\"Selection\"},{\"attributes\":{\"overlay\":{\"id\":\"fdd42f7f-d695-46f4-b101-f88998ec1e49\",\"type\":\"BoxAnnotation\"}},\"id\":\"2898314b-d465-409d-a12a-c4ef88fd42a6\",\"type\":\"BoxZoomTool\"},{\"attributes\":{\"axis_label\":\"Population density\",\"formatter\":{\"id\":\"fe254286-df1d-4add-a5d0-cde2bdb28ef2\",\"type\":\"BasicTickFormatter\"},\"plot\":{\"id\":\"e9606658-16c3-4152-b937-e774469f1844\",\"subtype\":\"Figure\",\"type\":\"Plot\"},\"ticker\":{\"id\":\"10af4ca8-f374-49e8-a9cb-30a5b1239092\",\"type\":\"BasicTicker\"}},\"id\":\"5166077f-e4cf-4d14-8868-87415729d37d\",\"type\":\"LinearAxis\"},{\"attributes\":{},\"id\":\"e7cd6ab9-7fb6-46e6-97bd-afad4a6111d8\",\"type\":\"BasicTickFormatter\"},{\"attributes\":{},\"id\":\"4e397a0f-003e-484e-b2fe-bbd6f17e9bcf\",\"type\":\"UnionRenderers\"},{\"attributes\":{},\"id\":\"0bc14276-fdfe-4aa2-acd3-555ba20e71a8\",\"type\":\"ResetTool\"},{\"attributes\":{},\"id\":\"a885af0f-93cd-4a4f-97d6-09618c252fbd\",\"type\":\"HelpTool\"},{\"attributes\":{},\"id\":\"f46db4da-e795-45a2-be3f-adbe4bb656a9\",\"type\":\"WheelZoomTool\"},{\"attributes\":{},\"id\":\"333712ab-49dc-49cd-b4d3-c6129d57a2f4\",\"type\":\"BasicTicker\"},{\"attributes\":{},\"id\":\"7f22e4af-dcf2-4010-9616-0c25c86d382b\",\"type\":\"LinearScale\"},{\"attributes\":{\"source\":{\"id\":\"4a1278aa-671d-47f5-b2bf-115a6b3282db\",\"type\":\"ColumnDataSource\"}},\"id\":\"a36e9df8-5b50-4745-bb21-df54560718ec\",\"type\":\"CDSView\"},{\"attributes\":{\"dimension\":1,\"plot\":{\"id\":\"e9606658-16c3-4152-b937-e774469f1844\",\"subtype\":\"Figure\",\"type\":\"Plot\"},\"ticker\":{\"id\":\"10af4ca8-f374-49e8-a9cb-30a5b1239092\",\"type\":\"BasicTicker\"}},\"id\":\"10fc6e55-8921-4c4e-8771-28623d9a4de4\",\"type\":\"Grid\"},{\"attributes\":{\"fill_alpha\":{\"value\":0.1},\"fill_color\":{\"value\":\"#1f77b4\"},\"line_alpha\":{\"value\":0.1},\"line_color\":{\"value\":\"#1f77b4\"},\"x\":{\"field\":\"x\"},\"y\":{\"field\":\"y\"}},\"id\":\"caeff855-1e50-4125-98c2-41be76ed1d98\",\"type\":\"Circle\"},{\"attributes\":{\"plot\":{\"id\":\"52ce5ead-c221-443f-a396-b6f7df089681\",\"subtype\":\"Figure\",\"type\":\"Plot\"},\"ticker\":{\"id\":\"f6ca68ae-5512-46c8-9045-bf8a2da98733\",\"type\":\"BasicTicker\"}},\"id\":\"9ac45fac-9248-499d-a4d4-a0ca262ef8ab\",\"type\":\"Grid\"},{\"attributes\":{\"axis_label\":\"Distance to the second most populated city [km]\",\"formatter\":{\"id\":\"e7cd6ab9-7fb6-46e6-97bd-afad4a6111d8\",\"type\":\"BasicTickFormatter\"},\"plot\":{\"id\":\"e9606658-16c3-4152-b937-e774469f1844\",\"subtype\":\"Figure\",\"type\":\"Plot\"},\"ticker\":{\"id\":\"f423a940-9134-4219-b1bf-e78e5411a9d8\",\"type\":\"BasicTicker\"}},\"id\":\"3e7d9082-4b30-4597-96f0-8873a8357edb\",\"type\":\"LinearAxis\"},{\"attributes\":{},\"id\":\"f6ca68ae-5512-46c8-9045-bf8a2da98733\",\"type\":\"BasicTicker\"},{\"attributes\":{},\"id\":\"f423a940-9134-4219-b1bf-e78e5411a9d8\",\"type\":\"BasicTicker\"},{\"attributes\":{},\"id\":\"d586df2e-c4d4-4656-9113-480fdbd10cbe\",\"type\":\"SaveTool\"},{\"attributes\":{\"callback\":null},\"id\":\"5ed6b597-ddc2-4901-88ae-882a48418b75\",\"type\":\"DataRange1d\"},{\"attributes\":{\"bottom_units\":\"screen\",\"fill_alpha\":{\"value\":0.5},\"fill_color\":{\"value\":\"lightgrey\"},\"left_units\":\"screen\",\"level\":\"overlay\",\"line_alpha\":{\"value\":1.0},\"line_color\":{\"value\":\"black\"},\"line_dash\":[4,4],\"line_width\":{\"value\":2},\"plot\":null,\"render_mode\":\"css\",\"right_units\":\"screen\",\"top_units\":\"screen\"},\"id\":\"55299fbc-f7c4-4e6c-905b-5dc558842d86\",\"type\":\"BoxAnnotation\"},{\"attributes\":{},\"id\":\"bbec497a-b5ca-45c3-a5d0-86967c70f38b\",\"type\":\"PanTool\"},{\"attributes\":{\"fill_alpha\":{\"value\":0.1},\"fill_color\":{\"value\":\"#1f77b4\"},\"line_alpha\":{\"value\":0.1},\"line_color\":{\"value\":\"#1f77b4\"},\"x\":{\"field\":\"x\"},\"y\":{\"field\":\"y\"}},\"id\":\"d822e0d7-463b-4ddd-945a-1bbeb7f60810\",\"type\":\"Circle\"}],\"root_ids\":[\"62b77366-8a7e-441c-b3c2-d5eb96f4a3b5\"]},\"title\":\"Bokeh Application\",\"version\":\"0.13.0\"}};\n",
       "  var render_items = [{\"docid\":\"14cc8e32-2df3-457b-ae50-baec7c79466f\",\"roots\":{\"62b77366-8a7e-441c-b3c2-d5eb96f4a3b5\":\"056fa528-6be0-43b8-b71f-6f665d3a358f\"}}];\n",
       "  root.Bokeh.embed.embed_items_notebook(docs_json, render_items);\n",
       "\n",
       "  }\n",
       "  if (root.Bokeh !== undefined) {\n",
       "    embed_document(root);\n",
       "  } else {\n",
       "    var attempts = 0;\n",
       "    var timer = setInterval(function(root) {\n",
       "      if (root.Bokeh !== undefined) {\n",
       "        embed_document(root);\n",
       "        clearInterval(timer);\n",
       "      }\n",
       "      attempts++;\n",
       "      if (attempts > 100) {\n",
       "        console.log(\"Bokeh: ERROR: Unable to run BokehJS code because BokehJS library is missing\")\n",
       "        clearInterval(timer);\n",
       "      }\n",
       "    }, 10, root)\n",
       "  }\n",
       "})(window);"
      ],
      "application/vnd.bokehjs_exec.v0+json": ""
     },
     "metadata": {
      "application/vnd.bokehjs_exec.v0+json": {
       "id": "62b77366-8a7e-441c-b3c2-d5eb96f4a3b5"
      }
     },
     "output_type": "display_data"
    }
   ],
   "source": [
    "p1 = figure(plot_height=300, title=\"City density population vs distance to most populated city\", plot_width = 495,\n",
    "           x_axis_label='Distance to the most populated city [km]', y_axis_label='Population density')\n",
    "p1.circle([list(df1['DistToRennes'])[i] for i in range(0,len(list(df1['DistToRennes']))) if list(df1['DistToRennes'])[i]>0],[list(df1['Density'])[i] for i in range(0,len(list(df1['DistToRennes']))) if list(df1['DistToRennes'])[i]>0],\n",
    "        color=\"#0276FD\")\n",
    "p2 = figure(plot_height=300, title=\"City density population vs distance to second most populated city\", plot_width = 495,\n",
    "           x_axis_label='Distance to the second most populated city [km]', y_axis_label='Population density')\n",
    "p2.circle([list(df1['DistToSaint-Malo'])[i] for i in range(0,len(list(df1['DistToSaint-Malo']))) if list(df1['DistToSaint-Malo'])[i]>0],[list(df1['Density'])[i] for i in range(0,len(list(df1['DistToSaint-Malo']))) if list(df1['DistToSaint-Malo'])[i]>0],\n",
    "        color=\"#0276FD\")\n",
    "show(row(p1,p2))"
   ]
  },
  {
   "cell_type": "markdown",
   "metadata": {},
   "source": [
    "**Commentaire:** Entre les deux villes, la densité de population est moindre lorsque l'on s'en éloigne. Cet phénomene s'observe plus aisément aux abords de la ville la plus peuplée. Certaines villes a plus de 25km d'une des deux principales villes ont une densité plus importante que la tendance générale, cela peut etre du a un teritoire relativement petit. Cette méthode selectionne 170 villes."
   ]
  },
  {
   "cell_type": "markdown",
   "metadata": {},
   "source": [
    "**Methode 2:** Sélectionner les villes dont la somme de la distance les séparant est superieure ou égal a la distance entre les principales villes plus 10%."
   ]
  },
  {
   "cell_type": "code",
   "execution_count": 26,
   "metadata": {},
   "outputs": [
    {
     "data": {
      "text/html": [
       "<div>\n",
       "<style>\n",
       "    .dataframe thead tr:only-child th {\n",
       "        text-align: right;\n",
       "    }\n",
       "\n",
       "    .dataframe thead th {\n",
       "        text-align: left;\n",
       "    }\n",
       "\n",
       "    .dataframe tbody tr th {\n",
       "        vertical-align: top;\n",
       "    }\n",
       "</style>\n",
       "<table border=\"1\" class=\"dataframe\">\n",
       "  <thead>\n",
       "    <tr style=\"text-align: right;\">\n",
       "      <th></th>\n",
       "      <th>Name</th>\n",
       "      <th>Population</th>\n",
       "      <th>Area</th>\n",
       "      <th>Density</th>\n",
       "      <th>DistToRennes</th>\n",
       "      <th>DistToSaint-Malo</th>\n",
       "      <th>SumDist</th>\n",
       "    </tr>\n",
       "  </thead>\n",
       "  <tbody>\n",
       "    <tr>\n",
       "      <th>6</th>\n",
       "      <td>Aubigné</td>\n",
       "      <td>487</td>\n",
       "      <td>222</td>\n",
       "      <td>219.369369</td>\n",
       "      <td>21.292930</td>\n",
       "      <td>47.785542</td>\n",
       "      <td>69.078472</td>\n",
       "    </tr>\n",
       "    <tr>\n",
       "      <th>8</th>\n",
       "      <td>Baguer-Morvan</td>\n",
       "      <td>1621</td>\n",
       "      <td>2443</td>\n",
       "      <td>66.352845</td>\n",
       "      <td>43.693092</td>\n",
       "      <td>23.974464</td>\n",
       "      <td>67.667556</td>\n",
       "    </tr>\n",
       "    <tr>\n",
       "      <th>16</th>\n",
       "      <td>La Baussaine</td>\n",
       "      <td>640</td>\n",
       "      <td>976</td>\n",
       "      <td>65.573770</td>\n",
       "      <td>27.578951</td>\n",
       "      <td>38.580752</td>\n",
       "      <td>66.159703</td>\n",
       "    </tr>\n",
       "    <tr>\n",
       "      <th>19</th>\n",
       "      <td>Hédé-Bazouges</td>\n",
       "      <td>2099</td>\n",
       "      <td>1472</td>\n",
       "      <td>142.595109</td>\n",
       "      <td>22.391508</td>\n",
       "      <td>42.352398</td>\n",
       "      <td>64.743906</td>\n",
       "    </tr>\n",
       "    <tr>\n",
       "      <th>21</th>\n",
       "      <td>Bécherel</td>\n",
       "      <td>722</td>\n",
       "      <td>56</td>\n",
       "      <td>1289.285714</td>\n",
       "      <td>28.328497</td>\n",
       "      <td>39.842571</td>\n",
       "      <td>68.171067</td>\n",
       "    </tr>\n",
       "  </tbody>\n",
       "</table>\n",
       "</div>"
      ],
      "text/plain": [
       "             Name  Population  Area      Density  DistToRennes  \\\n",
       "6         Aubigné         487   222   219.369369     21.292930   \n",
       "8   Baguer-Morvan        1621  2443    66.352845     43.693092   \n",
       "16   La Baussaine         640   976    65.573770     27.578951   \n",
       "19  Hédé-Bazouges        2099  1472   142.595109     22.391508   \n",
       "21       Bécherel         722    56  1289.285714     28.328497   \n",
       "\n",
       "    DistToSaint-Malo    SumDist  \n",
       "6          47.785542  69.078472  \n",
       "8          23.974464  67.667556  \n",
       "16         38.580752  66.159703  \n",
       "19         42.352398  64.743906  \n",
       "21         39.842571  68.171067  "
      ]
     },
     "execution_count": 26,
     "metadata": {},
     "output_type": "execute_result"
    }
   ],
   "source": [
    "df2 = df\n",
    "df2 = df2.drop(TwoLargestCityIndex)\n",
    "df2['SumDist'] = df2['DistToRennes'] + df2['DistToSaint-Malo']\n",
    "df2 = df2[(df2['SumDist'])< MasterDistance+MasterDistance*0.1]\n",
    "df2.head()"
   ]
  },
  {
   "cell_type": "code",
   "execution_count": 27,
   "metadata": {},
   "outputs": [
    {
     "name": "stdout",
     "output_type": "stream",
     "text": [
      "Number of cities after filter: 84\n"
     ]
    }
   ],
   "source": [
    "print 'Number of cities after filter: ' + str(len(df2))"
   ]
  },
  {
   "cell_type": "code",
   "execution_count": 28,
   "metadata": {},
   "outputs": [
    {
     "data": {
      "text/html": [
       "\n",
       "\n",
       "\n",
       "\n",
       "\n",
       "\n",
       "  <div class=\"bk-root\" id=\"862705a3-8d69-4e6b-b3f8-448968c9f9a4\"></div>\n"
      ]
     },
     "metadata": {},
     "output_type": "display_data"
    },
    {
     "data": {
      "application/javascript": [
       "(function(root) {\n",
       "  function embed_document(root) {\n",
       "    \n",
       "  var docs_json = {\"63b3e1e9-abf9-408f-8bd8-026d4066b8ef\":{\"roots\":{\"references\":[{\"attributes\":{},\"id\":\"7a0586eb-8e52-4b2e-b1d7-e835337b28c7\",\"type\":\"BasicTickFormatter\"},{\"attributes\":{},\"id\":\"dd16303d-d416-45f5-a9d7-0bf5f77cf0d6\",\"type\":\"ResetTool\"},{\"attributes\":{},\"id\":\"cb6d80a8-fd92-4d50-813b-926b88ed1ffe\",\"type\":\"BasicTicker\"},{\"attributes\":{},\"id\":\"eff54360-5f85-4a85-b44b-2a6271d81c30\",\"type\":\"BasicTicker\"},{\"attributes\":{},\"id\":\"c47a8073-7a1b-41a5-a76d-99a16162ce7e\",\"type\":\"ResetTool\"},{\"attributes\":{},\"id\":\"db22182e-1d33-4db0-a8c8-d2e0ca5140ac\",\"type\":\"BasicTicker\"},{\"attributes\":{},\"id\":\"ec585c35-9138-45c6-a08a-21ef59373ddf\",\"type\":\"SaveTool\"},{\"attributes\":{\"active_drag\":\"auto\",\"active_inspect\":\"auto\",\"active_multi\":null,\"active_scroll\":\"auto\",\"active_tap\":\"auto\",\"tools\":[{\"id\":\"3d30924f-e050-43b0-933f-3d9cdb8bdcbb\",\"type\":\"PanTool\"},{\"id\":\"32535bcf-879a-407f-a7a0-114597daa5bc\",\"type\":\"WheelZoomTool\"},{\"id\":\"c13c905d-79ab-4c50-b3eb-71b597ed81c1\",\"type\":\"BoxZoomTool\"},{\"id\":\"ec585c35-9138-45c6-a08a-21ef59373ddf\",\"type\":\"SaveTool\"},{\"id\":\"dd16303d-d416-45f5-a9d7-0bf5f77cf0d6\",\"type\":\"ResetTool\"},{\"id\":\"88b3dd43-1845-4a21-abe8-7740c6b291ef\",\"type\":\"HelpTool\"}]},\"id\":\"0dada763-d224-4044-9ebd-4ca35f96400d\",\"type\":\"Toolbar\"},{\"attributes\":{},\"id\":\"15f3181c-1ab7-45bd-a4aa-122b2e9d937d\",\"type\":\"PanTool\"},{\"attributes\":{\"axis_label\":\"Distance to the second most populated city [km]\",\"formatter\":{\"id\":\"69f2e137-e42e-4436-b548-29366c7c8b2d\",\"type\":\"BasicTickFormatter\"},\"plot\":{\"id\":\"85c67553-4b98-4455-984d-1d50fe95de51\",\"subtype\":\"Figure\",\"type\":\"Plot\"},\"ticker\":{\"id\":\"db22182e-1d33-4db0-a8c8-d2e0ca5140ac\",\"type\":\"BasicTicker\"}},\"id\":\"d330eb9b-1ae9-4a8c-a030-a5a4776b330a\",\"type\":\"LinearAxis\"},{\"attributes\":{\"bottom_units\":\"screen\",\"fill_alpha\":{\"value\":0.5},\"fill_color\":{\"value\":\"lightgrey\"},\"left_units\":\"screen\",\"level\":\"overlay\",\"line_alpha\":{\"value\":1.0},\"line_color\":{\"value\":\"black\"},\"line_dash\":[4,4],\"line_width\":{\"value\":2},\"plot\":null,\"render_mode\":\"css\",\"right_units\":\"screen\",\"top_units\":\"screen\"},\"id\":\"94e25841-67a2-4a66-9a9c-4cf17b87076e\",\"type\":\"BoxAnnotation\"},{\"attributes\":{},\"id\":\"32535bcf-879a-407f-a7a0-114597daa5bc\",\"type\":\"WheelZoomTool\"},{\"attributes\":{\"data_source\":{\"id\":\"ee069bbf-33be-4959-af58-768d0874f8a1\",\"type\":\"ColumnDataSource\"},\"glyph\":{\"id\":\"4ab8a796-82c1-4e18-96d7-f22d5e9ef4d2\",\"type\":\"Circle\"},\"hover_glyph\":null,\"muted_glyph\":null,\"nonselection_glyph\":{\"id\":\"94fddf30-2233-4d16-a6f8-2e9f17a4405a\",\"type\":\"Circle\"},\"selection_glyph\":null,\"view\":{\"id\":\"778dbee3-cbb6-4659-b5ee-ef966d1797a0\",\"type\":\"CDSView\"}},\"id\":\"f14adbfd-57d4-4d2e-9af6-0d89b98bb936\",\"type\":\"GlyphRenderer\"},{\"attributes\":{\"fill_alpha\":{\"value\":0.1},\"fill_color\":{\"value\":\"#1f77b4\"},\"line_alpha\":{\"value\":0.1},\"line_color\":{\"value\":\"#1f77b4\"},\"x\":{\"field\":\"x\"},\"y\":{\"field\":\"y\"}},\"id\":\"94fddf30-2233-4d16-a6f8-2e9f17a4405a\",\"type\":\"Circle\"},{\"attributes\":{},\"id\":\"c21997f1-faa9-4180-852b-cbde5bc00f21\",\"type\":\"HelpTool\"},{\"attributes\":{\"fill_color\":{\"value\":\"#0276FD\"},\"line_color\":{\"value\":\"#0276FD\"},\"x\":{\"field\":\"x\"},\"y\":{\"field\":\"y\"}},\"id\":\"3918970d-71be-4162-8b2f-b65401eb0c8c\",\"type\":\"Circle\"},{\"attributes\":{},\"id\":\"806b2ea6-f8a5-4fd5-b6e1-8195d56c1576\",\"type\":\"LinearScale\"},{\"attributes\":{\"plot\":{\"id\":\"066c1dae-755e-4a20-ab10-961caecbe8e4\",\"subtype\":\"Figure\",\"type\":\"Plot\"},\"ticker\":{\"id\":\"cb6d80a8-fd92-4d50-813b-926b88ed1ffe\",\"type\":\"BasicTicker\"}},\"id\":\"48ff5a35-3e61-4bf9-9c95-017a7a17ffd7\",\"type\":\"Grid\"},{\"attributes\":{\"callback\":null,\"data\":{\"x\":[21.292930100952542,43.69309199164935,27.578951058055985,22.39150834241537,28.32849669803807,8.248999381241765,40.71270677256807,24.972161625114577,32.058634077557194,22.043761955569938,8.35368187572326,53.13973894003427,13.385776184838209,14.95673908744066,33.028745550311925,64.09506730273895,26.394414299891928,47.35909416368055,24.553502062432774,55.02457089136518,14.083165940144356,57.1986582950794,20.00107743105653,10.241662812333445,54.96955726577447,24.652770955070192,25.05568768402425,18.76044293618646,18.73232757794931,39.888836475962805,31.053108394910442,52.57164960516572,29.13139626043785,36.91511585577354,35.66733134675045,12.26013890220118,12.52706061266996,47.6983086782573,26.09822993452107,57.18336695877464,7.9970101380351055,5.717765212975302,15.088502322132944,21.82007568963148,13.453436550706028,8.815958054991503,13.993823266780412,47.7752261838845,38.72757451908721,34.97599594226945,17.471040470943752,59.529377083270184,29.351469573061305,61.58932418266667,19.54892595237798,48.55199606398884,17.25967623805534,57.417159545145694,24.675677560127497,32.08376052823934,15.904150418464727,13.480168245847624,20.598363853321978,5.316976320821598,54.53158932468894,58.570807540976006,30.873617015157546,17.536240602695568,60.68542877844294,55.98841692328208,29.186459841538515,41.696682609737024,55.41616284025507,20.85546942876375,31.21736665709106,25.989324180003894,36.82760137362773,43.88221635462419,33.92214087122414,31.01796822954709,5.510966883886349,17.21933264195738,52.70712352102551,44.33278807894072],\"y\":[219.36936936936937,66.35284486287351,65.57377049180327,142.5951086956522,1289.2857142857142,396.11650485436894,59.90057995028998,74.07912687585267,129.19254658385094,84.44895199459094,534.6681922196797,1107.9136690647483,188.26923076923077,166.97674418604652,90.04998437988128,1258.1841432225065,31.18802619270346,352.6112185686654,45.481335952848724,160.05547850208043,174.5225225225225,195.00567536889898,66.7715296893433,584.9493487698987,135.678391959799,60.310421286031044,91.75126903553299,118.66151866151866,83.70786516853933,152.23420647149462,36.88118811881188,85.03937007874016,81.8659658344284,46.76753782668501,54.185832566697336,181.82656826568265,274.4978697504565,119.26229508196722,54.62555066079295,358.77862595419845,414.8380355276907,691.4712153518124,209.56521739130434,144.47351209941138,144.80286738351253,315.1826484018265,309.016393442623,123.24777887462982,66.93476318141197,71.2620578778135,159.0655154900965,221.03626943005185,74.27068388330942,724.7648902821317,130.08298755186723,73.2152739346984,144.50596252129472,352.0134228187919,42.38733252131547,156.35673624288424,224.29667519181584,196.7095851216023,117.89709172259508,513.9508290451687,161.84615384615384,274.75935828877004,43.238434163701065,72.93926247288503,132.18943033630748,118.91315929675012,82.98926507018992,93.01310043668121,203.82978723404256,78.26633165829145,71.18205349439172,143.73401534526855,56.891025641025635,65.13409961685824,73.38247338247338,52.92479108635098,619.5954487989886,125.85844428871759,250.55679287305122,99.12357581069237]},\"selected\":{\"id\":\"34a9c547-7c1c-4186-9a4d-81e03b81b79e\",\"type\":\"Selection\"},\"selection_policy\":{\"id\":\"cf656b6d-6b28-4af5-b16a-620bedf03956\",\"type\":\"UnionRenderers\"}},\"id\":\"4748bf06-1f52-475a-97e9-cdfe1a7f4f99\",\"type\":\"ColumnDataSource\"},{\"attributes\":{},\"id\":\"8247e030-d863-4c59-a976-94aa0762c1a1\",\"type\":\"BasicTickFormatter\"},{\"attributes\":{},\"id\":\"6a455857-7697-4075-9017-413a57405f95\",\"type\":\"LinearScale\"},{\"attributes\":{},\"id\":\"634b7771-6a0d-46d9-81ce-ffaa8565ee1f\",\"type\":\"BasicTicker\"},{\"attributes\":{\"callback\":null},\"id\":\"4d99a49d-504e-40bc-b424-70398636f5aa\",\"type\":\"DataRange1d\"},{\"attributes\":{\"children\":[{\"id\":\"066c1dae-755e-4a20-ab10-961caecbe8e4\",\"subtype\":\"Figure\",\"type\":\"Plot\"},{\"id\":\"85c67553-4b98-4455-984d-1d50fe95de51\",\"subtype\":\"Figure\",\"type\":\"Plot\"}]},\"id\":\"cb61a8ca-0fa2-4708-8149-a76bd3b8d351\",\"type\":\"Row\"},{\"attributes\":{\"source\":{\"id\":\"ee069bbf-33be-4959-af58-768d0874f8a1\",\"type\":\"ColumnDataSource\"}},\"id\":\"778dbee3-cbb6-4659-b5ee-ef966d1797a0\",\"type\":\"CDSView\"},{\"attributes\":{},\"id\":\"3e547c27-836d-4b15-b1e3-4825939a10a2\",\"type\":\"LinearScale\"},{\"attributes\":{\"below\":[{\"id\":\"d330eb9b-1ae9-4a8c-a030-a5a4776b330a\",\"type\":\"LinearAxis\"}],\"left\":[{\"id\":\"6436f2a8-94a5-4346-97f2-7c9cbf0c8f78\",\"type\":\"LinearAxis\"}],\"plot_height\":300,\"plot_width\":495,\"renderers\":[{\"id\":\"d330eb9b-1ae9-4a8c-a030-a5a4776b330a\",\"type\":\"LinearAxis\"},{\"id\":\"252ab615-6573-4833-9efc-a34b485bd857\",\"type\":\"Grid\"},{\"id\":\"6436f2a8-94a5-4346-97f2-7c9cbf0c8f78\",\"type\":\"LinearAxis\"},{\"id\":\"eeec0a28-ba20-4ac3-9cff-09fa5d531cc1\",\"type\":\"Grid\"},{\"id\":\"94e25841-67a2-4a66-9a9c-4cf17b87076e\",\"type\":\"BoxAnnotation\"},{\"id\":\"f14adbfd-57d4-4d2e-9af6-0d89b98bb936\",\"type\":\"GlyphRenderer\"}],\"title\":{\"id\":\"59cdc054-99f3-4bf4-844e-568b9d9649cd\",\"type\":\"Title\"},\"toolbar\":{\"id\":\"0dada763-d224-4044-9ebd-4ca35f96400d\",\"type\":\"Toolbar\"},\"x_range\":{\"id\":\"372724da-f476-4706-9397-111e8625d819\",\"type\":\"DataRange1d\"},\"x_scale\":{\"id\":\"6a455857-7697-4075-9017-413a57405f95\",\"type\":\"LinearScale\"},\"y_range\":{\"id\":\"f77f3677-6217-46f5-a5a7-6bb84720ba0e\",\"type\":\"DataRange1d\"},\"y_scale\":{\"id\":\"bd44645a-3995-4934-b026-ab2d1f3ef687\",\"type\":\"LinearScale\"}},\"id\":\"85c67553-4b98-4455-984d-1d50fe95de51\",\"subtype\":\"Figure\",\"type\":\"Plot\"},{\"attributes\":{\"callback\":null},\"id\":\"513ba468-13e4-460c-b10d-d85213d4db36\",\"type\":\"DataRange1d\"},{\"attributes\":{\"data_source\":{\"id\":\"4748bf06-1f52-475a-97e9-cdfe1a7f4f99\",\"type\":\"ColumnDataSource\"},\"glyph\":{\"id\":\"3918970d-71be-4162-8b2f-b65401eb0c8c\",\"type\":\"Circle\"},\"hover_glyph\":null,\"muted_glyph\":null,\"nonselection_glyph\":{\"id\":\"cba9aa8e-2f14-478e-8498-73bbef916edd\",\"type\":\"Circle\"},\"selection_glyph\":null,\"view\":{\"id\":\"d8af77cf-bc4c-48a4-8901-dd327303a9a5\",\"type\":\"CDSView\"}},\"id\":\"030e4a83-889d-44d5-a643-9f6accf7adad\",\"type\":\"GlyphRenderer\"},{\"attributes\":{},\"id\":\"892f150e-19ce-4f83-a121-035ef67358e7\",\"type\":\"UnionRenderers\"},{\"attributes\":{\"source\":{\"id\":\"4748bf06-1f52-475a-97e9-cdfe1a7f4f99\",\"type\":\"ColumnDataSource\"}},\"id\":\"d8af77cf-bc4c-48a4-8901-dd327303a9a5\",\"type\":\"CDSView\"},{\"attributes\":{\"overlay\":{\"id\":\"94e25841-67a2-4a66-9a9c-4cf17b87076e\",\"type\":\"BoxAnnotation\"}},\"id\":\"c13c905d-79ab-4c50-b3eb-71b597ed81c1\",\"type\":\"BoxZoomTool\"},{\"attributes\":{\"fill_color\":{\"value\":\"#0276FD\"},\"line_color\":{\"value\":\"#0276FD\"},\"x\":{\"field\":\"x\"},\"y\":{\"field\":\"y\"}},\"id\":\"4ab8a796-82c1-4e18-96d7-f22d5e9ef4d2\",\"type\":\"Circle\"},{\"attributes\":{},\"id\":\"34a9c547-7c1c-4186-9a4d-81e03b81b79e\",\"type\":\"Selection\"},{\"attributes\":{\"plot\":null,\"text\":\"City density population vs distance to most populated city\"},\"id\":\"5f398177-97bf-4a8e-84c5-0fe7157aaa1a\",\"type\":\"Title\"},{\"attributes\":{\"dimension\":1,\"plot\":{\"id\":\"85c67553-4b98-4455-984d-1d50fe95de51\",\"subtype\":\"Figure\",\"type\":\"Plot\"},\"ticker\":{\"id\":\"634b7771-6a0d-46d9-81ce-ffaa8565ee1f\",\"type\":\"BasicTicker\"}},\"id\":\"eeec0a28-ba20-4ac3-9cff-09fa5d531cc1\",\"type\":\"Grid\"},{\"attributes\":{\"below\":[{\"id\":\"a2d6acf5-3fc8-4032-8d28-2bea34b5d006\",\"type\":\"LinearAxis\"}],\"left\":[{\"id\":\"b1a095df-6048-44aa-ac49-3026613d8042\",\"type\":\"LinearAxis\"}],\"plot_height\":300,\"plot_width\":495,\"renderers\":[{\"id\":\"a2d6acf5-3fc8-4032-8d28-2bea34b5d006\",\"type\":\"LinearAxis\"},{\"id\":\"48ff5a35-3e61-4bf9-9c95-017a7a17ffd7\",\"type\":\"Grid\"},{\"id\":\"b1a095df-6048-44aa-ac49-3026613d8042\",\"type\":\"LinearAxis\"},{\"id\":\"1a5b7d77-f2fd-4557-995a-b6dfdec26bb7\",\"type\":\"Grid\"},{\"id\":\"0e2d6518-4f44-4e07-b035-e993e59fabb4\",\"type\":\"BoxAnnotation\"},{\"id\":\"030e4a83-889d-44d5-a643-9f6accf7adad\",\"type\":\"GlyphRenderer\"}],\"title\":{\"id\":\"5f398177-97bf-4a8e-84c5-0fe7157aaa1a\",\"type\":\"Title\"},\"toolbar\":{\"id\":\"348fe13f-9425-4654-b2ae-0b2e0cd84c98\",\"type\":\"Toolbar\"},\"x_range\":{\"id\":\"513ba468-13e4-460c-b10d-d85213d4db36\",\"type\":\"DataRange1d\"},\"x_scale\":{\"id\":\"806b2ea6-f8a5-4fd5-b6e1-8195d56c1576\",\"type\":\"LinearScale\"},\"y_range\":{\"id\":\"4d99a49d-504e-40bc-b424-70398636f5aa\",\"type\":\"DataRange1d\"},\"y_scale\":{\"id\":\"3e547c27-836d-4b15-b1e3-4825939a10a2\",\"type\":\"LinearScale\"}},\"id\":\"066c1dae-755e-4a20-ab10-961caecbe8e4\",\"subtype\":\"Figure\",\"type\":\"Plot\"},{\"attributes\":{},\"id\":\"58f0e061-0e24-442c-90bc-686568436f19\",\"type\":\"Selection\"},{\"attributes\":{\"callback\":null,\"data\":{\"x\":[47.7855416296867,23.974464179789805,38.58075232672677,42.35239778731894,39.84257078300517,58.61913952102676,26.523321630330013,41.68633977225743,32.71213118738112,44.05839258332909,56.57771609389237,11.670306089426598,54.33202422894096,53.92427770465398,33.70756684157655,4.535299843856032,40.384569986357484,23.20448186504492,45.24949890323442,13.973849671937,51.35061550657272,9.633133569133959,45.35939373270012,60.30187983423444,14.7973169614631,40.98769306223873,45.36535961588543,47.52513866289323,46.42314810522116,25.27551363124407,37.21995466354316,14.141787233855892,38.42664528677458,30.840446553827913,29.244065385296114,53.05750409694059,52.24968046680533,17.206049448133328,41.764855843491326,8.512890266993661,63.16879928948507,59.084353634237445,49.974428824256826,45.6561029712781,56.2263514858438,57.99426660707788,53.13952640294856,18.127115865406395,26.719220768430763,29.848411583636395,53.11314842749844,8.751734046915065,35.38865650108181,5.363557661826604,48.35659188005231,18.509513767498,53.50817951203135,11.201179607235623,40.43265523106221,32.82054926719813,51.51024417866432,56.60982825986691,44.57557663656608,59.81246051412575,11.339630513658541,6.151714228240283,38.788179950759734,48.70831977213162,7.363049517460486,9.054006240126041,41.63251667003428,23.01886566308518,9.344458685736319,43.93502750102786,35.23192877737721,38.813622768805146,32.430483598767104,20.885328935345683,31.723143258904376,34.59243319371791,62.43194780614242,47.49440970038582,12.056706259019398,21.094928180858304],\"y\":[219.36936936936937,66.35284486287351,65.57377049180327,142.5951086956522,1289.2857142857142,396.11650485436894,59.90057995028998,74.07912687585267,129.19254658385094,84.44895199459094,534.6681922196797,1107.9136690647483,188.26923076923077,166.97674418604652,90.04998437988128,1258.1841432225065,31.18802619270346,352.6112185686654,45.481335952848724,160.05547850208043,174.5225225225225,195.00567536889898,66.7715296893433,584.9493487698987,135.678391959799,60.310421286031044,91.75126903553299,118.66151866151866,83.70786516853933,152.23420647149462,36.88118811881188,85.03937007874016,81.8659658344284,46.76753782668501,54.185832566697336,181.82656826568265,274.4978697504565,119.26229508196722,54.62555066079295,358.77862595419845,414.8380355276907,691.4712153518124,209.56521739130434,144.47351209941138,144.80286738351253,315.1826484018265,309.016393442623,123.24777887462982,66.93476318141197,71.2620578778135,159.0655154900965,221.03626943005185,74.27068388330942,724.7648902821317,130.08298755186723,73.2152739346984,144.50596252129472,352.0134228187919,42.38733252131547,156.35673624288424,224.29667519181584,196.7095851216023,117.89709172259508,513.9508290451687,161.84615384615384,274.75935828877004,43.238434163701065,72.93926247288503,132.18943033630748,118.91315929675012,82.98926507018992,93.01310043668121,203.82978723404256,78.26633165829145,71.18205349439172,143.73401534526855,56.891025641025635,65.13409961685824,73.38247338247338,52.92479108635098,619.5954487989886,125.85844428871759,250.55679287305122,99.12357581069237]},\"selected\":{\"id\":\"58f0e061-0e24-442c-90bc-686568436f19\",\"type\":\"Selection\"},\"selection_policy\":{\"id\":\"892f150e-19ce-4f83-a121-035ef67358e7\",\"type\":\"UnionRenderers\"}},\"id\":\"ee069bbf-33be-4959-af58-768d0874f8a1\",\"type\":\"ColumnDataSource\"},{\"attributes\":{},\"id\":\"bd44645a-3995-4934-b026-ab2d1f3ef687\",\"type\":\"LinearScale\"},{\"attributes\":{\"axis_label\":\"Population density\",\"formatter\":{\"id\":\"7a0586eb-8e52-4b2e-b1d7-e835337b28c7\",\"type\":\"BasicTickFormatter\"},\"plot\":{\"id\":\"85c67553-4b98-4455-984d-1d50fe95de51\",\"subtype\":\"Figure\",\"type\":\"Plot\"},\"ticker\":{\"id\":\"634b7771-6a0d-46d9-81ce-ffaa8565ee1f\",\"type\":\"BasicTicker\"}},\"id\":\"6436f2a8-94a5-4346-97f2-7c9cbf0c8f78\",\"type\":\"LinearAxis\"},{\"attributes\":{\"axis_label\":\"Distance to the most populated city [km]\",\"formatter\":{\"id\":\"7248ca4c-0bd8-4cf6-a1d5-445225bbe73b\",\"type\":\"BasicTickFormatter\"},\"plot\":{\"id\":\"066c1dae-755e-4a20-ab10-961caecbe8e4\",\"subtype\":\"Figure\",\"type\":\"Plot\"},\"ticker\":{\"id\":\"cb6d80a8-fd92-4d50-813b-926b88ed1ffe\",\"type\":\"BasicTicker\"}},\"id\":\"a2d6acf5-3fc8-4032-8d28-2bea34b5d006\",\"type\":\"LinearAxis\"},{\"attributes\":{},\"id\":\"7248ca4c-0bd8-4cf6-a1d5-445225bbe73b\",\"type\":\"BasicTickFormatter\"},{\"attributes\":{\"active_drag\":\"auto\",\"active_inspect\":\"auto\",\"active_multi\":null,\"active_scroll\":\"auto\",\"active_tap\":\"auto\",\"tools\":[{\"id\":\"15f3181c-1ab7-45bd-a4aa-122b2e9d937d\",\"type\":\"PanTool\"},{\"id\":\"74553ef0-34ba-4808-a77a-09561f364366\",\"type\":\"WheelZoomTool\"},{\"id\":\"63218b12-a70f-4ff9-bcaf-13735136e4e5\",\"type\":\"BoxZoomTool\"},{\"id\":\"ef15e619-aaa9-439d-ae59-5197d5ebf167\",\"type\":\"SaveTool\"},{\"id\":\"c47a8073-7a1b-41a5-a76d-99a16162ce7e\",\"type\":\"ResetTool\"},{\"id\":\"c21997f1-faa9-4180-852b-cbde5bc00f21\",\"type\":\"HelpTool\"}]},\"id\":\"348fe13f-9425-4654-b2ae-0b2e0cd84c98\",\"type\":\"Toolbar\"},{\"attributes\":{\"axis_label\":\"Population density\",\"formatter\":{\"id\":\"8247e030-d863-4c59-a976-94aa0762c1a1\",\"type\":\"BasicTickFormatter\"},\"plot\":{\"id\":\"066c1dae-755e-4a20-ab10-961caecbe8e4\",\"subtype\":\"Figure\",\"type\":\"Plot\"},\"ticker\":{\"id\":\"eff54360-5f85-4a85-b44b-2a6271d81c30\",\"type\":\"BasicTicker\"}},\"id\":\"b1a095df-6048-44aa-ac49-3026613d8042\",\"type\":\"LinearAxis\"},{\"attributes\":{},\"id\":\"88b3dd43-1845-4a21-abe8-7740c6b291ef\",\"type\":\"HelpTool\"},{\"attributes\":{\"callback\":null},\"id\":\"f77f3677-6217-46f5-a5a7-6bb84720ba0e\",\"type\":\"DataRange1d\"},{\"attributes\":{},\"id\":\"3d30924f-e050-43b0-933f-3d9cdb8bdcbb\",\"type\":\"PanTool\"},{\"attributes\":{\"fill_alpha\":{\"value\":0.1},\"fill_color\":{\"value\":\"#1f77b4\"},\"line_alpha\":{\"value\":0.1},\"line_color\":{\"value\":\"#1f77b4\"},\"x\":{\"field\":\"x\"},\"y\":{\"field\":\"y\"}},\"id\":\"cba9aa8e-2f14-478e-8498-73bbef916edd\",\"type\":\"Circle\"},{\"attributes\":{},\"id\":\"69f2e137-e42e-4436-b548-29366c7c8b2d\",\"type\":\"BasicTickFormatter\"},{\"attributes\":{\"overlay\":{\"id\":\"0e2d6518-4f44-4e07-b035-e993e59fabb4\",\"type\":\"BoxAnnotation\"}},\"id\":\"63218b12-a70f-4ff9-bcaf-13735136e4e5\",\"type\":\"BoxZoomTool\"},{\"attributes\":{\"bottom_units\":\"screen\",\"fill_alpha\":{\"value\":0.5},\"fill_color\":{\"value\":\"lightgrey\"},\"left_units\":\"screen\",\"level\":\"overlay\",\"line_alpha\":{\"value\":1.0},\"line_color\":{\"value\":\"black\"},\"line_dash\":[4,4],\"line_width\":{\"value\":2},\"plot\":null,\"render_mode\":\"css\",\"right_units\":\"screen\",\"top_units\":\"screen\"},\"id\":\"0e2d6518-4f44-4e07-b035-e993e59fabb4\",\"type\":\"BoxAnnotation\"},{\"attributes\":{\"dimension\":1,\"plot\":{\"id\":\"066c1dae-755e-4a20-ab10-961caecbe8e4\",\"subtype\":\"Figure\",\"type\":\"Plot\"},\"ticker\":{\"id\":\"eff54360-5f85-4a85-b44b-2a6271d81c30\",\"type\":\"BasicTicker\"}},\"id\":\"1a5b7d77-f2fd-4557-995a-b6dfdec26bb7\",\"type\":\"Grid\"},{\"attributes\":{},\"id\":\"74553ef0-34ba-4808-a77a-09561f364366\",\"type\":\"WheelZoomTool\"},{\"attributes\":{\"plot\":{\"id\":\"85c67553-4b98-4455-984d-1d50fe95de51\",\"subtype\":\"Figure\",\"type\":\"Plot\"},\"ticker\":{\"id\":\"db22182e-1d33-4db0-a8c8-d2e0ca5140ac\",\"type\":\"BasicTicker\"}},\"id\":\"252ab615-6573-4833-9efc-a34b485bd857\",\"type\":\"Grid\"},{\"attributes\":{},\"id\":\"ef15e619-aaa9-439d-ae59-5197d5ebf167\",\"type\":\"SaveTool\"},{\"attributes\":{},\"id\":\"cf656b6d-6b28-4af5-b16a-620bedf03956\",\"type\":\"UnionRenderers\"},{\"attributes\":{\"callback\":null},\"id\":\"372724da-f476-4706-9397-111e8625d819\",\"type\":\"DataRange1d\"},{\"attributes\":{\"plot\":null,\"text\":\"City density population vs distance to second most populated city\"},\"id\":\"59cdc054-99f3-4bf4-844e-568b9d9649cd\",\"type\":\"Title\"}],\"root_ids\":[\"cb61a8ca-0fa2-4708-8149-a76bd3b8d351\"]},\"title\":\"Bokeh Application\",\"version\":\"0.13.0\"}};\n",
       "  var render_items = [{\"docid\":\"63b3e1e9-abf9-408f-8bd8-026d4066b8ef\",\"roots\":{\"cb61a8ca-0fa2-4708-8149-a76bd3b8d351\":\"862705a3-8d69-4e6b-b3f8-448968c9f9a4\"}}];\n",
       "  root.Bokeh.embed.embed_items_notebook(docs_json, render_items);\n",
       "\n",
       "  }\n",
       "  if (root.Bokeh !== undefined) {\n",
       "    embed_document(root);\n",
       "  } else {\n",
       "    var attempts = 0;\n",
       "    var timer = setInterval(function(root) {\n",
       "      if (root.Bokeh !== undefined) {\n",
       "        embed_document(root);\n",
       "        clearInterval(timer);\n",
       "      }\n",
       "      attempts++;\n",
       "      if (attempts > 100) {\n",
       "        console.log(\"Bokeh: ERROR: Unable to run BokehJS code because BokehJS library is missing\")\n",
       "        clearInterval(timer);\n",
       "      }\n",
       "    }, 10, root)\n",
       "  }\n",
       "})(window);"
      ],
      "application/vnd.bokehjs_exec.v0+json": ""
     },
     "metadata": {
      "application/vnd.bokehjs_exec.v0+json": {
       "id": "cb61a8ca-0fa2-4708-8149-a76bd3b8d351"
      }
     },
     "output_type": "display_data"
    }
   ],
   "source": [
    "p1 = figure(plot_height=300, title=\"City density population vs distance to most populated city\", plot_width = 495,\n",
    "           x_axis_label='Distance to the most populated city [km]', y_axis_label='Population density')\n",
    "p1.circle([list(df2['DistToRennes'])[i] for i in range(0,len(list(df2['DistToRennes']))) if list(df2['DistToRennes'])[i]>0],[list(df2['Density'])[i] for i in range(0,len(list(df2['DistToRennes']))) if list(df2['DistToRennes'])[i]>0],\n",
    "        color=\"#0276FD\")\n",
    "p2 = figure(plot_height=300, title=\"City density population vs distance to second most populated city\", plot_width = 495,\n",
    "           x_axis_label='Distance to the second most populated city [km]', y_axis_label='Population density')\n",
    "p2.circle([list(df2['DistToSaint-Malo'])[i] for i in range(0,len(list(df2['DistToSaint-Malo']))) if list(df2['DistToSaint-Malo'])[i]>0],[list(df2['Density'])[i] for i in range(0,len(list(df2['DistToSaint-Malo']))) if list(df2['DistToSaint-Malo'])[i]>0],\n",
    "        color=\"#0276FD\")\n",
    "show(row(p1,p2))"
   ]
  },
  {
   "cell_type": "markdown",
   "metadata": {},
   "source": [
    "**Commentaire:** Cette deuxieme méthode permet de mettre encore plus en évidence l'hypothese émit. Cette méthode sélectionne 84 villes."
   ]
  },
  {
   "cell_type": "markdown",
   "metadata": {},
   "source": [
    "**Conclusion:** L'hypothese émise parait plausible, reste maintenant a déterminer si le phonemene est similaire pour les autres villes et comment le quantifier (relation mathématique, équation...)"
   ]
  },
  {
   "cell_type": "code",
   "execution_count": null,
   "metadata": {
    "collapsed": true
   },
   "outputs": [],
   "source": [
    "len(globals()['List1_{0}'.format(TwoLargestCityIndex[1])])"
   ]
  },
  {
   "cell_type": "code",
   "execution_count": null,
   "metadata": {
    "collapsed": true
   },
   "outputs": [],
   "source": []
  },
  {
   "cell_type": "code",
   "execution_count": null,
   "metadata": {
    "collapsed": true
   },
   "outputs": [],
   "source": [
    "#Create a table to extract quickly info about the previous distribution\n",
    "#Map to display population with different color scale (use log scale or other scale)"
   ]
  }
 ],
 "metadata": {
  "kernelspec": {
   "display_name": "Python 2",
   "language": "python",
   "name": "python2"
  },
  "language_info": {
   "codemirror_mode": {
    "name": "ipython",
    "version": 2
   },
   "file_extension": ".py",
   "mimetype": "text/x-python",
   "name": "python",
   "nbconvert_exporter": "python",
   "pygments_lexer": "ipython2",
   "version": "2.7.14"
  }
 },
 "nbformat": 4,
 "nbformat_minor": 2
}
