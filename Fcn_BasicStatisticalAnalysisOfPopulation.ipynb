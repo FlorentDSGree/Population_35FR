{
 "cells": [
  {
   "cell_type": "code",
   "execution_count": null,
   "metadata": {
    "collapsed": true
   },
   "outputs": [],
   "source": [
    "from __future__ import division\n",
    "from math import cos, asin, sqrt"
   ]
  },
  {
   "cell_type": "code",
   "execution_count": null,
   "metadata": {
    "collapsed": true
   },
   "outputs": [],
   "source": [
    "# This function create a list that contains the number in log base 10 order\n",
    "# Inputs:\n",
    "# - start: first value of the list, must be a positive integer\n",
    "# - stop: last value of the list, must be a positive integer\n",
    "\n",
    "# function to create log bin for plot\n",
    "def CreateLogBin(start,stop):\n",
    "    # Initialisation\n",
    "    stopTemp  = stop\n",
    "    z         = start\n",
    "    increment = 0\n",
    "    flag      = 0\n",
    "    bins      = list()\n",
    "\n",
    "    # While loop to calculate the number of for loop to run next\n",
    "    while flag == 0:\n",
    "        increment = increment + 1\n",
    "        stopTemp = stopTemp/10\n",
    "        # If loop to check whether stopTemp = start\n",
    "        if stopTemp == start:\n",
    "            flag = 1\n",
    "    # For loop to create the log bin\n",
    "    for y in range(0,increment):\n",
    "        for x in range(1,10):\n",
    "            bins.append(x*z)\n",
    "        z = z*10\n",
    "    # Add the last value\n",
    "    bins.append(int((x+1)*z/10))\n",
    "    return bins"
   ]
  },
  {
   "cell_type": "code",
   "execution_count": null,
   "metadata": {
    "collapsed": true
   },
   "outputs": [],
   "source": [
    "# This function define the lower and higher boundary for the analysis using log base 10\n",
    "# Inputs:\n",
    "# - Value: either the min or max value of the population\n",
    "# - MinMaxParameters: either 'Min' (when min population specified) or 'Max' (when max population specified)\n",
    "\n",
    "def DefineMinMaxLog(Value,MinMaxParameters):\n",
    "\n",
    "    i = Value\n",
    "    k = 0\n",
    "    while i > 1:\n",
    "        k = k + 1\n",
    "        i = i/10\n",
    "    if MinMaxParameters == 'Min':\n",
    "        ValueBorder = 10**(k-1) # Should be; ValueBorder = 10**(k-1); but when define as function it must be modified to make it working\n",
    "    elif MinMaxParameters == 'Max': \n",
    "        ValueBorder = 10**k\n",
    "    return ValueBorder"
   ]
  },
  {
   "cell_type": "code",
   "execution_count": null,
   "metadata": {
    "collapsed": true
   },
   "outputs": [],
   "source": [
    "# This function remove the hist value where the value is 0 at the begining and at the end of the list\n",
    "# The purpose is to reduce the x axis in the plot to make it easier to read\n",
    "\n",
    "def RemoveLastFirstValuesWhenZero(hist,bin_edges):\n",
    "    #Get index until last value not 0\n",
    "    for LastNotZero in range(0,len(hist)):\n",
    "        if hist[len(hist)-1-LastNotZero] > 0:\n",
    "            break\n",
    "    #Get index of first not 0 value\n",
    "    for FirstNotZero in range(0,len(hist)):\n",
    "        if hist[FirstNotZero] > 0:\n",
    "            break\n",
    "    #Update hist and bin_edges\n",
    "    hist = hist[FirstNotZero:-LastNotZero]\n",
    "    bin_edges = bin_edges[FirstNotZero:-LastNotZero]\n",
    "    return hist,bin_edges"
   ]
  },
  {
   "cell_type": "code",
   "execution_count": null,
   "metadata": {
    "collapsed": true
   },
   "outputs": [],
   "source": [
    "# This function calculate the euclidean distance between 2 coordinates (latitude/longitude)\n",
    "\n",
    "def DistanceCoordToKm(lat1, lon1, lat2, lon2):\n",
    "    p = 0.017453292519943295     #Pi/180\n",
    "    a = 0.5 - cos((lat2 - lat1) * p)/2 + cos(lat1 * p) * cos(lat2 * p) * (1 - cos((lon2 - lon1) * p)) / 2\n",
    "    return 12742 * asin(sqrt(a)) #2*R*asin..."
   ]
  }
 ],
 "metadata": {
  "kernelspec": {
   "display_name": "Python 2",
   "language": "python",
   "name": "python2"
  },
  "language_info": {
   "codemirror_mode": {
    "name": "ipython",
    "version": 2
   },
   "file_extension": ".py",
   "mimetype": "text/x-python",
   "name": "python",
   "nbconvert_exporter": "python",
   "pygments_lexer": "ipython2",
   "version": "2.7.14"
  }
 },
 "nbformat": 4,
 "nbformat_minor": 2
}
