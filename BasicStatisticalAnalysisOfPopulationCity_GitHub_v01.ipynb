{
 "cells": [
  {
   "cell_type": "markdown",
   "metadata": {
    "collapsed": true
   },
   "source": [
    "Created 04/02/2019\n",
    "\n",
    "Last update 04/02/2019\n",
    "\n",
    "Code that analyse the population of Ille-et-Vilaine"
   ]
  },
  {
   "cell_type": "markdown",
   "metadata": {},
   "source": [
    "# 1. Import library"
   ]
  },
  {
   "cell_type": "code",
   "execution_count": 1,
   "metadata": {},
   "outputs": [
    {
     "data": {
      "text/html": [
       "\n",
       "    <div class=\"bk-root\">\n",
       "        <a href=\"https://bokeh.pydata.org\" target=\"_blank\" class=\"bk-logo bk-logo-small bk-logo-notebook\"></a>\n",
       "        <span id=\"34703ba8-8381-4b30-82a7-134987955266\">Loading BokehJS ...</span>\n",
       "    </div>"
      ]
     },
     "metadata": {},
     "output_type": "display_data"
    },
    {
     "data": {
      "application/javascript": [
       "\n",
       "(function(root) {\n",
       "  function now() {\n",
       "    return new Date();\n",
       "  }\n",
       "\n",
       "  var force = true;\n",
       "\n",
       "  if (typeof (root._bokeh_onload_callbacks) === \"undefined\" || force === true) {\n",
       "    root._bokeh_onload_callbacks = [];\n",
       "    root._bokeh_is_loading = undefined;\n",
       "  }\n",
       "\n",
       "  var JS_MIME_TYPE = 'application/javascript';\n",
       "  var HTML_MIME_TYPE = 'text/html';\n",
       "  var EXEC_MIME_TYPE = 'application/vnd.bokehjs_exec.v0+json';\n",
       "  var CLASS_NAME = 'output_bokeh rendered_html';\n",
       "\n",
       "  /**\n",
       "   * Render data to the DOM node\n",
       "   */\n",
       "  function render(props, node) {\n",
       "    var script = document.createElement(\"script\");\n",
       "    node.appendChild(script);\n",
       "  }\n",
       "\n",
       "  /**\n",
       "   * Handle when an output is cleared or removed\n",
       "   */\n",
       "  function handleClearOutput(event, handle) {\n",
       "    var cell = handle.cell;\n",
       "\n",
       "    var id = cell.output_area._bokeh_element_id;\n",
       "    var server_id = cell.output_area._bokeh_server_id;\n",
       "    // Clean up Bokeh references\n",
       "    if (id != null && id in Bokeh.index) {\n",
       "      Bokeh.index[id].model.document.clear();\n",
       "      delete Bokeh.index[id];\n",
       "    }\n",
       "\n",
       "    if (server_id !== undefined) {\n",
       "      // Clean up Bokeh references\n",
       "      var cmd = \"from bokeh.io.state import curstate; print(curstate().uuid_to_server['\" + server_id + \"'].get_sessions()[0].document.roots[0]._id)\";\n",
       "      cell.notebook.kernel.execute(cmd, {\n",
       "        iopub: {\n",
       "          output: function(msg) {\n",
       "            var id = msg.content.text.trim();\n",
       "            if (id in Bokeh.index) {\n",
       "              Bokeh.index[id].model.document.clear();\n",
       "              delete Bokeh.index[id];\n",
       "            }\n",
       "          }\n",
       "        }\n",
       "      });\n",
       "      // Destroy server and session\n",
       "      var cmd = \"import bokeh.io.notebook as ion; ion.destroy_server('\" + server_id + \"')\";\n",
       "      cell.notebook.kernel.execute(cmd);\n",
       "    }\n",
       "  }\n",
       "\n",
       "  /**\n",
       "   * Handle when a new output is added\n",
       "   */\n",
       "  function handleAddOutput(event, handle) {\n",
       "    var output_area = handle.output_area;\n",
       "    var output = handle.output;\n",
       "\n",
       "    // limit handleAddOutput to display_data with EXEC_MIME_TYPE content only\n",
       "    if ((output.output_type != \"display_data\") || (!output.data.hasOwnProperty(EXEC_MIME_TYPE))) {\n",
       "      return\n",
       "    }\n",
       "\n",
       "    var toinsert = output_area.element.find(\".\" + CLASS_NAME.split(' ')[0]);\n",
       "\n",
       "    if (output.metadata[EXEC_MIME_TYPE][\"id\"] !== undefined) {\n",
       "      toinsert[toinsert.length - 1].firstChild.textContent = output.data[JS_MIME_TYPE];\n",
       "      // store reference to embed id on output_area\n",
       "      output_area._bokeh_element_id = output.metadata[EXEC_MIME_TYPE][\"id\"];\n",
       "    }\n",
       "    if (output.metadata[EXEC_MIME_TYPE][\"server_id\"] !== undefined) {\n",
       "      var bk_div = document.createElement(\"div\");\n",
       "      bk_div.innerHTML = output.data[HTML_MIME_TYPE];\n",
       "      var script_attrs = bk_div.children[0].attributes;\n",
       "      for (var i = 0; i < script_attrs.length; i++) {\n",
       "        toinsert[toinsert.length - 1].firstChild.setAttribute(script_attrs[i].name, script_attrs[i].value);\n",
       "      }\n",
       "      // store reference to server id on output_area\n",
       "      output_area._bokeh_server_id = output.metadata[EXEC_MIME_TYPE][\"server_id\"];\n",
       "    }\n",
       "  }\n",
       "\n",
       "  function register_renderer(events, OutputArea) {\n",
       "\n",
       "    function append_mime(data, metadata, element) {\n",
       "      // create a DOM node to render to\n",
       "      var toinsert = this.create_output_subarea(\n",
       "        metadata,\n",
       "        CLASS_NAME,\n",
       "        EXEC_MIME_TYPE\n",
       "      );\n",
       "      this.keyboard_manager.register_events(toinsert);\n",
       "      // Render to node\n",
       "      var props = {data: data, metadata: metadata[EXEC_MIME_TYPE]};\n",
       "      render(props, toinsert[toinsert.length - 1]);\n",
       "      element.append(toinsert);\n",
       "      return toinsert\n",
       "    }\n",
       "\n",
       "    /* Handle when an output is cleared or removed */\n",
       "    events.on('clear_output.CodeCell', handleClearOutput);\n",
       "    events.on('delete.Cell', handleClearOutput);\n",
       "\n",
       "    /* Handle when a new output is added */\n",
       "    events.on('output_added.OutputArea', handleAddOutput);\n",
       "\n",
       "    /**\n",
       "     * Register the mime type and append_mime function with output_area\n",
       "     */\n",
       "    OutputArea.prototype.register_mime_type(EXEC_MIME_TYPE, append_mime, {\n",
       "      /* Is output safe? */\n",
       "      safe: true,\n",
       "      /* Index of renderer in `output_area.display_order` */\n",
       "      index: 0\n",
       "    });\n",
       "  }\n",
       "\n",
       "  // register the mime type if in Jupyter Notebook environment and previously unregistered\n",
       "  if (root.Jupyter !== undefined) {\n",
       "    var events = require('base/js/events');\n",
       "    var OutputArea = require('notebook/js/outputarea').OutputArea;\n",
       "\n",
       "    if (OutputArea.prototype.mime_types().indexOf(EXEC_MIME_TYPE) == -1) {\n",
       "      register_renderer(events, OutputArea);\n",
       "    }\n",
       "  }\n",
       "\n",
       "  \n",
       "  if (typeof (root._bokeh_timeout) === \"undefined\" || force === true) {\n",
       "    root._bokeh_timeout = Date.now() + 5000;\n",
       "    root._bokeh_failed_load = false;\n",
       "  }\n",
       "\n",
       "  var NB_LOAD_WARNING = {'data': {'text/html':\n",
       "     \"<div style='background-color: #fdd'>\\n\"+\n",
       "     \"<p>\\n\"+\n",
       "     \"BokehJS does not appear to have successfully loaded. If loading BokehJS from CDN, this \\n\"+\n",
       "     \"may be due to a slow or bad network connection. Possible fixes:\\n\"+\n",
       "     \"</p>\\n\"+\n",
       "     \"<ul>\\n\"+\n",
       "     \"<li>re-rerun `output_notebook()` to attempt to load from CDN again, or</li>\\n\"+\n",
       "     \"<li>use INLINE resources instead, as so:</li>\\n\"+\n",
       "     \"</ul>\\n\"+\n",
       "     \"<code>\\n\"+\n",
       "     \"from bokeh.resources import INLINE\\n\"+\n",
       "     \"output_notebook(resources=INLINE)\\n\"+\n",
       "     \"</code>\\n\"+\n",
       "     \"</div>\"}};\n",
       "\n",
       "  function display_loaded() {\n",
       "    var el = document.getElementById(\"34703ba8-8381-4b30-82a7-134987955266\");\n",
       "    if (el != null) {\n",
       "      el.textContent = \"BokehJS is loading...\";\n",
       "    }\n",
       "    if (root.Bokeh !== undefined) {\n",
       "      if (el != null) {\n",
       "        el.textContent = \"BokehJS \" + root.Bokeh.version + \" successfully loaded.\";\n",
       "      }\n",
       "    } else if (Date.now() < root._bokeh_timeout) {\n",
       "      setTimeout(display_loaded, 100)\n",
       "    }\n",
       "  }\n",
       "\n",
       "\n",
       "  function run_callbacks() {\n",
       "    try {\n",
       "      root._bokeh_onload_callbacks.forEach(function(callback) { callback() });\n",
       "    }\n",
       "    finally {\n",
       "      delete root._bokeh_onload_callbacks\n",
       "    }\n",
       "    console.info(\"Bokeh: all callbacks have finished\");\n",
       "  }\n",
       "\n",
       "  function load_libs(js_urls, callback) {\n",
       "    root._bokeh_onload_callbacks.push(callback);\n",
       "    if (root._bokeh_is_loading > 0) {\n",
       "      console.log(\"Bokeh: BokehJS is being loaded, scheduling callback at\", now());\n",
       "      return null;\n",
       "    }\n",
       "    if (js_urls == null || js_urls.length === 0) {\n",
       "      run_callbacks();\n",
       "      return null;\n",
       "    }\n",
       "    console.log(\"Bokeh: BokehJS not loaded, scheduling load and callback at\", now());\n",
       "    root._bokeh_is_loading = js_urls.length;\n",
       "    for (var i = 0; i < js_urls.length; i++) {\n",
       "      var url = js_urls[i];\n",
       "      var s = document.createElement('script');\n",
       "      s.src = url;\n",
       "      s.async = false;\n",
       "      s.onreadystatechange = s.onload = function() {\n",
       "        root._bokeh_is_loading--;\n",
       "        if (root._bokeh_is_loading === 0) {\n",
       "          console.log(\"Bokeh: all BokehJS libraries loaded\");\n",
       "          run_callbacks()\n",
       "        }\n",
       "      };\n",
       "      s.onerror = function() {\n",
       "        console.warn(\"failed to load library \" + url);\n",
       "      };\n",
       "      console.log(\"Bokeh: injecting script tag for BokehJS library: \", url);\n",
       "      document.getElementsByTagName(\"head\")[0].appendChild(s);\n",
       "    }\n",
       "  };var element = document.getElementById(\"34703ba8-8381-4b30-82a7-134987955266\");\n",
       "  if (element == null) {\n",
       "    console.log(\"Bokeh: ERROR: autoload.js configured with elementid '34703ba8-8381-4b30-82a7-134987955266' but no matching script tag was found. \")\n",
       "    return false;\n",
       "  }\n",
       "\n",
       "  var js_urls = [\"https://cdn.pydata.org/bokeh/release/bokeh-0.13.0.min.js\", \"https://cdn.pydata.org/bokeh/release/bokeh-widgets-0.13.0.min.js\", \"https://cdn.pydata.org/bokeh/release/bokeh-tables-0.13.0.min.js\", \"https://cdn.pydata.org/bokeh/release/bokeh-gl-0.13.0.min.js\"];\n",
       "\n",
       "  var inline_js = [\n",
       "    function(Bokeh) {\n",
       "      Bokeh.set_log_level(\"info\");\n",
       "    },\n",
       "    \n",
       "    function(Bokeh) {\n",
       "      \n",
       "    },\n",
       "    function(Bokeh) {\n",
       "      console.log(\"Bokeh: injecting CSS: https://cdn.pydata.org/bokeh/release/bokeh-0.13.0.min.css\");\n",
       "      Bokeh.embed.inject_css(\"https://cdn.pydata.org/bokeh/release/bokeh-0.13.0.min.css\");\n",
       "      console.log(\"Bokeh: injecting CSS: https://cdn.pydata.org/bokeh/release/bokeh-widgets-0.13.0.min.css\");\n",
       "      Bokeh.embed.inject_css(\"https://cdn.pydata.org/bokeh/release/bokeh-widgets-0.13.0.min.css\");\n",
       "      console.log(\"Bokeh: injecting CSS: https://cdn.pydata.org/bokeh/release/bokeh-tables-0.13.0.min.css\");\n",
       "      Bokeh.embed.inject_css(\"https://cdn.pydata.org/bokeh/release/bokeh-tables-0.13.0.min.css\");\n",
       "    }\n",
       "  ];\n",
       "\n",
       "  function run_inline_js() {\n",
       "    \n",
       "    if ((root.Bokeh !== undefined) || (force === true)) {\n",
       "      for (var i = 0; i < inline_js.length; i++) {\n",
       "        inline_js[i].call(root, root.Bokeh);\n",
       "      }if (force === true) {\n",
       "        display_loaded();\n",
       "      }} else if (Date.now() < root._bokeh_timeout) {\n",
       "      setTimeout(run_inline_js, 100);\n",
       "    } else if (!root._bokeh_failed_load) {\n",
       "      console.log(\"Bokeh: BokehJS failed to load within specified timeout.\");\n",
       "      root._bokeh_failed_load = true;\n",
       "    } else if (force !== true) {\n",
       "      var cell = $(document.getElementById(\"34703ba8-8381-4b30-82a7-134987955266\")).parents('.cell').data().cell;\n",
       "      cell.output_area.append_execute_result(NB_LOAD_WARNING)\n",
       "    }\n",
       "\n",
       "  }\n",
       "\n",
       "  if (root._bokeh_is_loading === 0) {\n",
       "    console.log(\"Bokeh: BokehJS loaded, going straight to plotting\");\n",
       "    run_inline_js();\n",
       "  } else {\n",
       "    load_libs(js_urls, function() {\n",
       "      console.log(\"Bokeh: BokehJS plotting callback run at\", now());\n",
       "      run_inline_js();\n",
       "    });\n",
       "  }\n",
       "}(window));"
      ],
      "application/vnd.bokehjs_load.v0+json": "\n(function(root) {\n  function now() {\n    return new Date();\n  }\n\n  var force = true;\n\n  if (typeof (root._bokeh_onload_callbacks) === \"undefined\" || force === true) {\n    root._bokeh_onload_callbacks = [];\n    root._bokeh_is_loading = undefined;\n  }\n\n  \n\n  \n  if (typeof (root._bokeh_timeout) === \"undefined\" || force === true) {\n    root._bokeh_timeout = Date.now() + 5000;\n    root._bokeh_failed_load = false;\n  }\n\n  var NB_LOAD_WARNING = {'data': {'text/html':\n     \"<div style='background-color: #fdd'>\\n\"+\n     \"<p>\\n\"+\n     \"BokehJS does not appear to have successfully loaded. If loading BokehJS from CDN, this \\n\"+\n     \"may be due to a slow or bad network connection. Possible fixes:\\n\"+\n     \"</p>\\n\"+\n     \"<ul>\\n\"+\n     \"<li>re-rerun `output_notebook()` to attempt to load from CDN again, or</li>\\n\"+\n     \"<li>use INLINE resources instead, as so:</li>\\n\"+\n     \"</ul>\\n\"+\n     \"<code>\\n\"+\n     \"from bokeh.resources import INLINE\\n\"+\n     \"output_notebook(resources=INLINE)\\n\"+\n     \"</code>\\n\"+\n     \"</div>\"}};\n\n  function display_loaded() {\n    var el = document.getElementById(\"34703ba8-8381-4b30-82a7-134987955266\");\n    if (el != null) {\n      el.textContent = \"BokehJS is loading...\";\n    }\n    if (root.Bokeh !== undefined) {\n      if (el != null) {\n        el.textContent = \"BokehJS \" + root.Bokeh.version + \" successfully loaded.\";\n      }\n    } else if (Date.now() < root._bokeh_timeout) {\n      setTimeout(display_loaded, 100)\n    }\n  }\n\n\n  function run_callbacks() {\n    try {\n      root._bokeh_onload_callbacks.forEach(function(callback) { callback() });\n    }\n    finally {\n      delete root._bokeh_onload_callbacks\n    }\n    console.info(\"Bokeh: all callbacks have finished\");\n  }\n\n  function load_libs(js_urls, callback) {\n    root._bokeh_onload_callbacks.push(callback);\n    if (root._bokeh_is_loading > 0) {\n      console.log(\"Bokeh: BokehJS is being loaded, scheduling callback at\", now());\n      return null;\n    }\n    if (js_urls == null || js_urls.length === 0) {\n      run_callbacks();\n      return null;\n    }\n    console.log(\"Bokeh: BokehJS not loaded, scheduling load and callback at\", now());\n    root._bokeh_is_loading = js_urls.length;\n    for (var i = 0; i < js_urls.length; i++) {\n      var url = js_urls[i];\n      var s = document.createElement('script');\n      s.src = url;\n      s.async = false;\n      s.onreadystatechange = s.onload = function() {\n        root._bokeh_is_loading--;\n        if (root._bokeh_is_loading === 0) {\n          console.log(\"Bokeh: all BokehJS libraries loaded\");\n          run_callbacks()\n        }\n      };\n      s.onerror = function() {\n        console.warn(\"failed to load library \" + url);\n      };\n      console.log(\"Bokeh: injecting script tag for BokehJS library: \", url);\n      document.getElementsByTagName(\"head\")[0].appendChild(s);\n    }\n  };var element = document.getElementById(\"34703ba8-8381-4b30-82a7-134987955266\");\n  if (element == null) {\n    console.log(\"Bokeh: ERROR: autoload.js configured with elementid '34703ba8-8381-4b30-82a7-134987955266' but no matching script tag was found. \")\n    return false;\n  }\n\n  var js_urls = [\"https://cdn.pydata.org/bokeh/release/bokeh-0.13.0.min.js\", \"https://cdn.pydata.org/bokeh/release/bokeh-widgets-0.13.0.min.js\", \"https://cdn.pydata.org/bokeh/release/bokeh-tables-0.13.0.min.js\", \"https://cdn.pydata.org/bokeh/release/bokeh-gl-0.13.0.min.js\"];\n\n  var inline_js = [\n    function(Bokeh) {\n      Bokeh.set_log_level(\"info\");\n    },\n    \n    function(Bokeh) {\n      \n    },\n    function(Bokeh) {\n      console.log(\"Bokeh: injecting CSS: https://cdn.pydata.org/bokeh/release/bokeh-0.13.0.min.css\");\n      Bokeh.embed.inject_css(\"https://cdn.pydata.org/bokeh/release/bokeh-0.13.0.min.css\");\n      console.log(\"Bokeh: injecting CSS: https://cdn.pydata.org/bokeh/release/bokeh-widgets-0.13.0.min.css\");\n      Bokeh.embed.inject_css(\"https://cdn.pydata.org/bokeh/release/bokeh-widgets-0.13.0.min.css\");\n      console.log(\"Bokeh: injecting CSS: https://cdn.pydata.org/bokeh/release/bokeh-tables-0.13.0.min.css\");\n      Bokeh.embed.inject_css(\"https://cdn.pydata.org/bokeh/release/bokeh-tables-0.13.0.min.css\");\n    }\n  ];\n\n  function run_inline_js() {\n    \n    if ((root.Bokeh !== undefined) || (force === true)) {\n      for (var i = 0; i < inline_js.length; i++) {\n        inline_js[i].call(root, root.Bokeh);\n      }if (force === true) {\n        display_loaded();\n      }} else if (Date.now() < root._bokeh_timeout) {\n      setTimeout(run_inline_js, 100);\n    } else if (!root._bokeh_failed_load) {\n      console.log(\"Bokeh: BokehJS failed to load within specified timeout.\");\n      root._bokeh_failed_load = true;\n    } else if (force !== true) {\n      var cell = $(document.getElementById(\"34703ba8-8381-4b30-82a7-134987955266\")).parents('.cell').data().cell;\n      cell.output_area.append_execute_result(NB_LOAD_WARNING)\n    }\n\n  }\n\n  if (root._bokeh_is_loading === 0) {\n    console.log(\"Bokeh: BokehJS loaded, going straight to plotting\");\n    run_inline_js();\n  } else {\n    load_libs(js_urls, function() {\n      console.log(\"Bokeh: BokehJS plotting callback run at\", now());\n      run_inline_js();\n    });\n  }\n}(window));"
     },
     "metadata": {},
     "output_type": "display_data"
    }
   ],
   "source": [
    "import pymongo\n",
    "from __future__ import division\n",
    "import numpy as np\n",
    "import pandas as pd\n",
    "from bokeh.plotting import figure\n",
    "from bokeh.io import show, output_notebook\n",
    "from bokeh.layouts import row\n",
    "output_notebook() # To display plot into Jupyter notebook\n",
    "import Fcn_BasicStatisticalAnalysisOfPopulation"
   ]
  },
  {
   "cell_type": "markdown",
   "metadata": {},
   "source": [
    "# 2. Data loading"
   ]
  },
  {
   "cell_type": "code",
   "execution_count": 2,
   "metadata": {
    "collapsed": true
   },
   "outputs": [],
   "source": [
    "# User inputs\n",
    "DatabaseName = 'GeoApiGouv'\n",
    "CollectionName = 'PopulationCity'\n",
    "\n",
    "# Connection to MongoDB\n",
    "myclient = pymongo.MongoClient(\"mongodb://localhost:27017/\")\n",
    "mydb = myclient[DatabaseName]\n",
    "\n",
    "#Query all documents from MongoD\n",
    "QueryMongo = list(mydb[CollectionName].find({}))"
   ]
  },
  {
   "cell_type": "markdown",
   "metadata": {},
   "source": [
    "# 3. Statistical analysis"
   ]
  },
  {
   "cell_type": "markdown",
   "metadata": {},
   "source": [
    "## 3.1. Arrange data loaded"
   ]
  },
  {
   "cell_type": "code",
   "execution_count": 3,
   "metadata": {
    "collapsed": true
   },
   "outputs": [],
   "source": [
    "NumberOfCity      = len(QueryMongo)\n",
    "AllCityNames      = [QueryMongo[x]['nom'] for x in range(0,NumberOfCity)]\n",
    "AllPopulationList = [QueryMongo[x]['population'] for x in range(0,NumberOfCity)]\n",
    "AllAreaList       = [QueryMongo[x]['surface'] for x in range(0,NumberOfCity)]\n",
    "AllDensityList    = np.array(AllPopulationList)/np.array(AllAreaList)*100"
   ]
  },
  {
   "cell_type": "code",
   "execution_count": 4,
   "metadata": {},
   "outputs": [
    {
     "data": {
      "text/html": [
       "<div>\n",
       "<style>\n",
       "    .dataframe thead tr:only-child th {\n",
       "        text-align: right;\n",
       "    }\n",
       "\n",
       "    .dataframe thead th {\n",
       "        text-align: left;\n",
       "    }\n",
       "\n",
       "    .dataframe tbody tr th {\n",
       "        vertical-align: top;\n",
       "    }\n",
       "</style>\n",
       "<table border=\"1\" class=\"dataframe\">\n",
       "  <thead>\n",
       "    <tr style=\"text-align: right;\">\n",
       "      <th></th>\n",
       "      <th>Area</th>\n",
       "      <th>City name</th>\n",
       "      <th>Density</th>\n",
       "      <th>Population</th>\n",
       "    </tr>\n",
       "  </thead>\n",
       "  <tbody>\n",
       "    <tr>\n",
       "      <th>227</th>\n",
       "      <td>5038</td>\n",
       "      <td>Rennes</td>\n",
       "      <td>4195.573640</td>\n",
       "      <td>211373</td>\n",
       "    </tr>\n",
       "    <tr>\n",
       "      <th>111</th>\n",
       "      <td>1043</td>\n",
       "      <td>Fougères</td>\n",
       "      <td>1933.844679</td>\n",
       "      <td>20170</td>\n",
       "    </tr>\n",
       "    <tr>\n",
       "      <th>21</th>\n",
       "      <td>56</td>\n",
       "      <td>Bécherel</td>\n",
       "      <td>1289.285714</td>\n",
       "      <td>722</td>\n",
       "    </tr>\n",
       "  </tbody>\n",
       "</table>\n",
       "</div>"
      ],
      "text/plain": [
       "     Area City name      Density  Population\n",
       "227  5038    Rennes  4195.573640      211373\n",
       "111  1043  Fougères  1933.844679       20170\n",
       "21     56  Bécherel  1289.285714         722"
      ]
     },
     "execution_count": 4,
     "metadata": {},
     "output_type": "execute_result"
    }
   ],
   "source": [
    "#Following to get the top 3 and bottom 3 - Change \"by=\" and \"ascending=\" accordingly\n",
    "df = pd.DataFrame({\"City name\":AllCityNames,\"Population\":AllPopulationList,\"Area\":AllAreaList,\"Density\":AllDensityList})\n",
    "df.sort_values(by=['Density'], ascending = False).head(3)"
   ]
  },
  {
   "cell_type": "markdown",
   "metadata": {},
   "source": [
    "## 3.2. Population analysis"
   ]
  },
  {
   "cell_type": "code",
   "execution_count": 5,
   "metadata": {},
   "outputs": [
    {
     "name": "stdout",
     "output_type": "stream",
     "text": [
      "Nombre de ville: 345\n",
      "Population totale: 1,019,923\n",
      "Population moyenne par ville: 2,956\n",
      "Population mediane par ville: 1,314\n",
      "Population la plus faible: 107 (Bléruais)\n",
      "Population la plus élevée: 211,373 (Rennes)\n"
     ]
    }
   ],
   "source": [
    "TotalPopulation   = sum(AllPopulationList)\n",
    "AveragePopulation = int(np.mean(AllPopulationList)) # Population moyenne \n",
    "MedianPopulation  = int(np.median(AllPopulationList)) # Population mediane\n",
    "MinPopulation     = np.min(AllPopulationList) # Population la plus faible\n",
    "MaxPopulation     = np.max(AllPopulationList) # Population la plus élevée\n",
    "\n",
    "print 'Nombre de ville: ' + \"{:,}\".format(NumberOfCity)\n",
    "print 'Population totale: ' + \"{:,}\".format(TotalPopulation)\n",
    "print 'Population moyenne par ville: '+ \"{:,}\".format(AveragePopulation)\n",
    "print 'Population mediane par ville: '+ \"{:,}\".format(MedianPopulation)\n",
    "print 'Population la plus faible: '+ \"{:,}\".format(MinPopulation) + ' (' + str(list(mydb[CollectionName].find({'population': MinPopulation},{'nom':1,'_id':0}))[0]['nom'].encode('utf-8')) + ')'\n",
    "print 'Population la plus élevée: '+ \"{:,}\".format(MaxPopulation) + ' (' + str(list(mydb[CollectionName].find({'population': MaxPopulation},{'nom':1,'_id':0}))[0]['nom'].encode('utf-8')) + ')'"
   ]
  },
  {
   "cell_type": "markdown",
   "metadata": {},
   "source": [
    "### 3.2.1. Population histogram"
   ]
  },
  {
   "cell_type": "code",
   "execution_count": 6,
   "metadata": {
    "collapsed": true
   },
   "outputs": [],
   "source": [
    "# Prepare the data for plot\n",
    "start = Fcn_BasicStatisticalAnalysisOfPopulation.DefineMinMaxLog(MinPopulation,'Min')\n",
    "stop = Fcn_BasicStatisticalAnalysisOfPopulation.DefineMinMaxLog(MaxPopulation,'Max')\n",
    "bins = Fcn_BasicStatisticalAnalysisOfPopulation.CreateLogBin(start,stop)\n",
    "hist, bin_edges = np.histogram(AllPopulationList, bins=bins)\n",
    "\n",
    "# Remove the first and last value when hist is 0 - Comment out this line to show forall log scale\n",
    "hist, bin_edges = Fcn_BasicStatisticalAnalysisOfPopulation.RemoveLastFirstValuesWhenZero(hist, bin_edges)"
   ]
  },
  {
   "cell_type": "code",
   "execution_count": 7,
   "metadata": {},
   "outputs": [
    {
     "data": {
      "text/html": [
       "\n",
       "\n",
       "\n",
       "\n",
       "\n",
       "\n",
       "  <div class=\"bk-root\" id=\"2584cc73-d571-4ec7-8bfa-db1a7572d047\"></div>\n"
      ]
     },
     "metadata": {},
     "output_type": "display_data"
    },
    {
     "data": {
      "application/javascript": [
       "(function(root) {\n",
       "  function embed_document(root) {\n",
       "    \n",
       "  var docs_json = {\"679ff159-d4f5-490e-beba-79728f18ad57\":{\"roots\":{\"references\":[{\"attributes\":{},\"id\":\"868d7d18-c460-46d6-804f-4e5bc5c33e6c\",\"type\":\"WheelZoomTool\"},{\"attributes\":{\"plot\":{\"id\":\"bd32e484-119a-465a-97bd-bb57a3dd2f55\",\"subtype\":\"Figure\",\"type\":\"Plot\"},\"ticker\":{\"id\":\"e96f8e75-6a31-4644-ba16-a1e640c2b657\",\"type\":\"BasicTicker\"}},\"id\":\"abab17c8-38b5-4543-be52-59f11c1ef5bb\",\"type\":\"Grid\"},{\"attributes\":{\"active_drag\":\"auto\",\"active_inspect\":\"auto\",\"active_multi\":null,\"active_scroll\":\"auto\",\"active_tap\":\"auto\",\"tools\":[{\"id\":\"a1f26f73-ee3c-40d4-96b7-1dd891666ae7\",\"type\":\"PanTool\"},{\"id\":\"868d7d18-c460-46d6-804f-4e5bc5c33e6c\",\"type\":\"WheelZoomTool\"},{\"id\":\"563a99c8-e9db-4b96-a75e-fe0b6288db6f\",\"type\":\"BoxZoomTool\"},{\"id\":\"0438a18b-785a-4e50-b223-44e0b87c29f7\",\"type\":\"SaveTool\"},{\"id\":\"16c2e386-964e-4009-9df6-ab168bce5ac5\",\"type\":\"ResetTool\"},{\"id\":\"13414a07-c658-400a-8cee-87ed5ab91501\",\"type\":\"HelpTool\"}]},\"id\":\"eaa387c1-c529-42c5-b4ff-3d032684b451\",\"type\":\"Toolbar\"},{\"attributes\":{\"ticks\":[0,1,2,3,4,5,6,7,8,9,10,11,12,13,14,15,16,17,18,19,20,21,22,23,24,25,26,27,28,29]},\"id\":\"dffd3059-aba7-4f03-ac58-cf20efc3fdb5\",\"type\":\"FixedTicker\"},{\"attributes\":{\"bottom_units\":\"screen\",\"fill_alpha\":{\"value\":0.5},\"fill_color\":{\"value\":\"lightgrey\"},\"left_units\":\"screen\",\"level\":\"overlay\",\"line_alpha\":{\"value\":1.0},\"line_color\":{\"value\":\"black\"},\"line_dash\":[4,4],\"line_width\":{\"value\":2},\"plot\":null,\"render_mode\":\"css\",\"right_units\":\"screen\",\"top_units\":\"screen\"},\"id\":\"ffe65394-51e4-4887-8fe7-9d05f71706d0\",\"type\":\"BoxAnnotation\"},{\"attributes\":{\"callback\":null},\"id\":\"d6c411a6-30d9-4433-a1d9-0ea8a9eff4e8\",\"type\":\"DataRange1d\"},{\"attributes\":{},\"id\":\"128a161f-ddac-4004-8831-cb95cbda2e77\",\"type\":\"BasicTicker\"},{\"attributes\":{},\"id\":\"1a994e1e-9132-45d7-9cf2-be220c964246\",\"type\":\"LinearScale\"},{\"attributes\":{\"dimension\":1,\"plot\":{\"id\":\"bd32e484-119a-465a-97bd-bb57a3dd2f55\",\"subtype\":\"Figure\",\"type\":\"Plot\"},\"ticker\":{\"id\":\"128a161f-ddac-4004-8831-cb95cbda2e77\",\"type\":\"BasicTicker\"}},\"id\":\"7834657e-a520-437a-8708-f1fdf1fdffd0\",\"type\":\"Grid\"},{\"attributes\":{},\"id\":\"0438a18b-785a-4e50-b223-44e0b87c29f7\",\"type\":\"SaveTool\"},{\"attributes\":{\"plot\":null,\"text\":\"City population\",\"text_color\":{\"value\":\"#0276FD\"},\"text_font\":\"verdana\",\"text_font_size\":{\"value\":\"12pt\"}},\"id\":\"a1d17ffd-b516-4131-9e1d-ae63cb3cb8f3\",\"type\":\"Title\"},{\"attributes\":{\"bottom\":{\"value\":0},\"fill_color\":{\"value\":\"#0276FD\"},\"left\":{\"field\":\"left\"},\"line_color\":{\"value\":\"#5F5B5B\"},\"right\":{\"field\":\"right\"},\"top\":{\"field\":\"top\"}},\"id\":\"c072e1f5-2db1-4e1a-8174-3190019b2b38\",\"type\":\"Quad\"},{\"attributes\":{\"callback\":null,\"data\":{\"left\":[0,1,2,3,4,5,6,7,8,9,10,11,12,13,14,15,16,17,18,19,20,21,22,23,24,25,26,27,28],\"right\":[1,2,3,4,5,6,7,8,9,10,11,12,13,14,15,16,17,18,19,20,21,22,23,24,25,26,27,28,29],\"top\":[5,9,25,7,18,19,13,17,15,105,37,22,17,7,6,7,3,3,7,1,0,1,0,0,0,0,0,0,1]},\"selected\":{\"id\":\"2e84643d-6794-4f38-ab29-167e8d93513c\",\"type\":\"Selection\"},\"selection_policy\":{\"id\":\"138e1a6b-1796-4ba2-bfad-d435082ca22d\",\"type\":\"UnionRenderers\"}},\"id\":\"a0023b04-1014-4f3e-9776-f8a88dd0b3a5\",\"type\":\"ColumnDataSource\"},{\"attributes\":{},\"id\":\"85102bb3-2a0c-4e76-99f4-4b4593e7925d\",\"type\":\"LinearScale\"},{\"attributes\":{},\"id\":\"13414a07-c658-400a-8cee-87ed5ab91501\",\"type\":\"HelpTool\"},{\"attributes\":{},\"id\":\"16c2e386-964e-4009-9df6-ab168bce5ac5\",\"type\":\"ResetTool\"},{\"attributes\":{\"below\":[{\"id\":\"6afb0803-6cec-453d-b439-267681c915b1\",\"type\":\"LinearAxis\"}],\"left\":[{\"id\":\"a3dfc126-03d7-4fc1-8926-3403b89c53e2\",\"type\":\"LinearAxis\"}],\"plot_height\":300,\"renderers\":[{\"id\":\"6afb0803-6cec-453d-b439-267681c915b1\",\"type\":\"LinearAxis\"},{\"id\":\"abab17c8-38b5-4543-be52-59f11c1ef5bb\",\"type\":\"Grid\"},{\"id\":\"a3dfc126-03d7-4fc1-8926-3403b89c53e2\",\"type\":\"LinearAxis\"},{\"id\":\"7834657e-a520-437a-8708-f1fdf1fdffd0\",\"type\":\"Grid\"},{\"id\":\"ffe65394-51e4-4887-8fe7-9d05f71706d0\",\"type\":\"BoxAnnotation\"},{\"id\":\"80af98eb-bc5a-4002-a889-e4cff56712a9\",\"type\":\"GlyphRenderer\"}],\"title\":{\"id\":\"a1d17ffd-b516-4131-9e1d-ae63cb3cb8f3\",\"type\":\"Title\"},\"toolbar\":{\"id\":\"eaa387c1-c529-42c5-b4ff-3d032684b451\",\"type\":\"Toolbar\"},\"x_range\":{\"id\":\"b906ece7-2842-4dac-87bd-d5212bd184b0\",\"type\":\"DataRange1d\"},\"x_scale\":{\"id\":\"1a994e1e-9132-45d7-9cf2-be220c964246\",\"type\":\"LinearScale\"},\"y_range\":{\"id\":\"d6c411a6-30d9-4433-a1d9-0ea8a9eff4e8\",\"type\":\"DataRange1d\"},\"y_scale\":{\"id\":\"85102bb3-2a0c-4e76-99f4-4b4593e7925d\",\"type\":\"LinearScale\"}},\"id\":\"bd32e484-119a-465a-97bd-bb57a3dd2f55\",\"subtype\":\"Figure\",\"type\":\"Plot\"},{\"attributes\":{\"data_source\":{\"id\":\"a0023b04-1014-4f3e-9776-f8a88dd0b3a5\",\"type\":\"ColumnDataSource\"},\"glyph\":{\"id\":\"c072e1f5-2db1-4e1a-8174-3190019b2b38\",\"type\":\"Quad\"},\"hover_glyph\":null,\"muted_glyph\":null,\"nonselection_glyph\":{\"id\":\"ad414b60-c19d-4c2e-ae8b-e9dbb7c79919\",\"type\":\"Quad\"},\"selection_glyph\":null,\"view\":{\"id\":\"7ee0cb9c-dc5a-4bda-97d6-f22c8d05eb77\",\"type\":\"CDSView\"}},\"id\":\"80af98eb-bc5a-4002-a889-e4cff56712a9\",\"type\":\"GlyphRenderer\"},{\"attributes\":{\"source\":{\"id\":\"a0023b04-1014-4f3e-9776-f8a88dd0b3a5\",\"type\":\"ColumnDataSource\"}},\"id\":\"7ee0cb9c-dc5a-4bda-97d6-f22c8d05eb77\",\"type\":\"CDSView\"},{\"attributes\":{\"callback\":null},\"id\":\"b906ece7-2842-4dac-87bd-d5212bd184b0\",\"type\":\"DataRange1d\"},{\"attributes\":{},\"id\":\"a1f26f73-ee3c-40d4-96b7-1dd891666ae7\",\"type\":\"PanTool\"},{\"attributes\":{},\"id\":\"2e84643d-6794-4f38-ab29-167e8d93513c\",\"type\":\"Selection\"},{\"attributes\":{},\"id\":\"e96f8e75-6a31-4644-ba16-a1e640c2b657\",\"type\":\"BasicTicker\"},{\"attributes\":{},\"id\":\"b30dc0b4-4009-4478-898f-a3c491565361\",\"type\":\"BasicTickFormatter\"},{\"attributes\":{},\"id\":\"d0b999d1-3792-4845-88ae-4cbe0af738de\",\"type\":\"BasicTickFormatter\"},{\"attributes\":{},\"id\":\"138e1a6b-1796-4ba2-bfad-d435082ca22d\",\"type\":\"UnionRenderers\"},{\"attributes\":{\"axis_label\":\"Count\",\"axis_label_text_font\":\"verdana\",\"axis_label_text_font_style\":\"normal\",\"formatter\":{\"id\":\"d0b999d1-3792-4845-88ae-4cbe0af738de\",\"type\":\"BasicTickFormatter\"},\"major_label_text_font\":\"verdana\",\"plot\":{\"id\":\"bd32e484-119a-465a-97bd-bb57a3dd2f55\",\"subtype\":\"Figure\",\"type\":\"Plot\"},\"ticker\":{\"id\":\"128a161f-ddac-4004-8831-cb95cbda2e77\",\"type\":\"BasicTicker\"}},\"id\":\"a3dfc126-03d7-4fc1-8926-3403b89c53e2\",\"type\":\"LinearAxis\"},{\"attributes\":{\"overlay\":{\"id\":\"ffe65394-51e4-4887-8fe7-9d05f71706d0\",\"type\":\"BoxAnnotation\"}},\"id\":\"563a99c8-e9db-4b96-a75e-fe0b6288db6f\",\"type\":\"BoxZoomTool\"},{\"attributes\":{\"axis_label\":\"City population bins\",\"axis_label_text_font\":\"verdana\",\"axis_label_text_font_style\":\"normal\",\"formatter\":{\"id\":\"b30dc0b4-4009-4478-898f-a3c491565361\",\"type\":\"BasicTickFormatter\"},\"major_label_orientation\":0.785,\"major_label_overrides\":{\"0\":\"100\",\"1\":\"200\",\"10\":\"2,000\",\"11\":\"3,000\",\"12\":\"4,000\",\"13\":\"5,000\",\"14\":\"6,000\",\"15\":\"7,000\",\"16\":\"8,000\",\"17\":\"9,000\",\"18\":\"10,000\",\"19\":\"20,000\",\"2\":\"300\",\"20\":\"30,000\",\"21\":\"40,000\",\"22\":\"50,000\",\"23\":\"60,000\",\"24\":\"70,000\",\"25\":\"80,000\",\"26\":\"90,000\",\"27\":\"100,000\",\"28\":\"200,000\",\"29\":\"300,000\",\"3\":\"400\",\"4\":\"500\",\"5\":\"600\",\"6\":\"700\",\"7\":\"800\",\"8\":\"900\",\"9\":\"1,000\"},\"major_label_text_font\":\"verdana\",\"plot\":{\"id\":\"bd32e484-119a-465a-97bd-bb57a3dd2f55\",\"subtype\":\"Figure\",\"type\":\"Plot\"},\"ticker\":{\"id\":\"dffd3059-aba7-4f03-ac58-cf20efc3fdb5\",\"type\":\"FixedTicker\"}},\"id\":\"6afb0803-6cec-453d-b439-267681c915b1\",\"type\":\"LinearAxis\"},{\"attributes\":{\"bottom\":{\"value\":0},\"fill_alpha\":{\"value\":0.1},\"fill_color\":{\"value\":\"#1f77b4\"},\"left\":{\"field\":\"left\"},\"line_alpha\":{\"value\":0.1},\"line_color\":{\"value\":\"#1f77b4\"},\"right\":{\"field\":\"right\"},\"top\":{\"field\":\"top\"}},\"id\":\"ad414b60-c19d-4c2e-ae8b-e9dbb7c79919\",\"type\":\"Quad\"}],\"root_ids\":[\"bd32e484-119a-465a-97bd-bb57a3dd2f55\"]},\"title\":\"Bokeh Application\",\"version\":\"0.13.0\"}};\n",
       "  var render_items = [{\"docid\":\"679ff159-d4f5-490e-beba-79728f18ad57\",\"roots\":{\"bd32e484-119a-465a-97bd-bb57a3dd2f55\":\"2584cc73-d571-4ec7-8bfa-db1a7572d047\"}}];\n",
       "  root.Bokeh.embed.embed_items_notebook(docs_json, render_items);\n",
       "\n",
       "  }\n",
       "  if (root.Bokeh !== undefined) {\n",
       "    embed_document(root);\n",
       "  } else {\n",
       "    var attempts = 0;\n",
       "    var timer = setInterval(function(root) {\n",
       "      if (root.Bokeh !== undefined) {\n",
       "        embed_document(root);\n",
       "        clearInterval(timer);\n",
       "      }\n",
       "      attempts++;\n",
       "      if (attempts > 100) {\n",
       "        console.log(\"Bokeh: ERROR: Unable to run BokehJS code because BokehJS library is missing\")\n",
       "        clearInterval(timer);\n",
       "      }\n",
       "    }, 10, root)\n",
       "  }\n",
       "})(window);"
      ],
      "application/vnd.bokehjs_exec.v0+json": ""
     },
     "metadata": {
      "application/vnd.bokehjs_exec.v0+json": {
       "id": "bd32e484-119a-465a-97bd-bb57a3dd2f55"
      }
     },
     "output_type": "display_data"
    }
   ],
   "source": [
    "# Plot histogram\n",
    "p1 = figure(plot_height=300, title=\"City population\",\n",
    "           x_axis_label='City population bins', y_axis_label='Count')\n",
    "p1.quad(top=list(hist), bottom=0, left=list(range(0,len(bin_edges)))[:-1], right=list(range(0,len(bin_edges)))[1:],\n",
    "       fill_color = \"#0276FD\", line_color = \"#5F5B5B\", alpha=1)\n",
    "\n",
    "p1.xaxis.ticker = list(range(0,len(bin_edges)))\n",
    "p1.xaxis.major_label_orientation = 3.14/4\n",
    "p1.xaxis.major_label_overrides = {el:\"{:,}\".format(bin_edges[el]) for el in range(0,len(bin_edges))}\n",
    "\n",
    "p1.title.text_font_size = '12pt'\n",
    "p1.title.text_color = \"#0276FD\"\n",
    "p1.title.text_font = \"verdana\"\n",
    "p1.yaxis.axis_label_text_font = \"verdana\"\n",
    "p1.yaxis.axis_label_text_font_style = \"normal\"\n",
    "p1.xaxis.axis_label_text_font = \"verdana\"\n",
    "p1.xaxis.axis_label_text_font_style = \"normal\"\n",
    "p1.xaxis.major_label_text_font = \"verdana\"\n",
    "p1.yaxis.major_label_text_font = \"verdana\"\n",
    "\n",
    "show(p1)"
   ]
  },
  {
   "cell_type": "markdown",
   "metadata": {},
   "source": [
    "### 3.2.2. Population cumulative distribution"
   ]
  },
  {
   "cell_type": "code",
   "execution_count": 8,
   "metadata": {
    "scrolled": true
   },
   "outputs": [
    {
     "data": {
      "text/html": [
       "\n",
       "\n",
       "\n",
       "\n",
       "\n",
       "\n",
       "  <div class=\"bk-root\" id=\"b02b5882-b8b0-43a2-8aa4-a21d2084719d\"></div>\n"
      ]
     },
     "metadata": {},
     "output_type": "display_data"
    },
    {
     "data": {
      "application/javascript": [
       "(function(root) {\n",
       "  function embed_document(root) {\n",
       "    \n",
       "  var docs_json = {\"ee386f84-6ab0-4dad-af83-68c28896c74e\":{\"roots\":{\"references\":[{\"attributes\":{\"line_alpha\":{\"value\":0.1},\"line_color\":{\"value\":\"#1f77b4\"},\"line_width\":{\"value\":2},\"x\":{\"field\":\"x\"},\"y\":{\"field\":\"y\"}},\"id\":\"1dfc5a01-ec60-4e4f-a04f-8a9b75994afb\",\"type\":\"Step\"},{\"attributes\":{},\"id\":\"e0cbecf9-d62c-4806-91eb-19db4d834c9a\",\"type\":\"BasicTicker\"},{\"attributes\":{},\"id\":\"a9a1290a-63b0-4500-a0d6-007c72353d7b\",\"type\":\"SaveTool\"},{\"attributes\":{\"active_drag\":\"auto\",\"active_inspect\":\"auto\",\"active_multi\":null,\"active_scroll\":\"auto\",\"active_tap\":\"auto\",\"tools\":[{\"id\":\"7d8ef313-0dd2-4a2f-bbcb-9e73fdadad74\",\"type\":\"PanTool\"},{\"id\":\"8d1c9397-a1e3-4459-9dae-03a175c96090\",\"type\":\"WheelZoomTool\"},{\"id\":\"fce1edc4-0e37-4af9-bed5-827e1ece5626\",\"type\":\"BoxZoomTool\"},{\"id\":\"a9a1290a-63b0-4500-a0d6-007c72353d7b\",\"type\":\"SaveTool\"},{\"id\":\"35217750-e6e0-45b9-92bc-fe3fa1c81685\",\"type\":\"ResetTool\"},{\"id\":\"221e8004-d2b2-478d-8bf4-b8766061550e\",\"type\":\"HelpTool\"}]},\"id\":\"a24b4954-5bde-49c6-9c24-95a25852d91f\",\"type\":\"Toolbar\"},{\"attributes\":{\"below\":[{\"id\":\"2b0a322b-d407-487d-ab0d-56aba75f34f9\",\"type\":\"LinearAxis\"}],\"left\":[{\"id\":\"dfbdd81f-2fae-4fad-ae86-9bb7354c3c33\",\"type\":\"LinearAxis\"}],\"plot_height\":300,\"renderers\":[{\"id\":\"2b0a322b-d407-487d-ab0d-56aba75f34f9\",\"type\":\"LinearAxis\"},{\"id\":\"f97a38ed-9f7d-4900-8abf-4c801933931b\",\"type\":\"Grid\"},{\"id\":\"dfbdd81f-2fae-4fad-ae86-9bb7354c3c33\",\"type\":\"LinearAxis\"},{\"id\":\"3ea37b0c-d335-47ba-9b35-80a488883904\",\"type\":\"Grid\"},{\"id\":\"f1ce6582-a1b2-4b75-9970-ae47f289eb21\",\"type\":\"BoxAnnotation\"},{\"id\":\"71400e88-ddac-497a-abbb-5c4360d6fce4\",\"type\":\"GlyphRenderer\"}],\"title\":{\"id\":\"7d96b51a-cc9e-47a2-a545-d49d5c7487b8\",\"type\":\"Title\"},\"toolbar\":{\"id\":\"a24b4954-5bde-49c6-9c24-95a25852d91f\",\"type\":\"Toolbar\"},\"x_range\":{\"id\":\"182c88d2-85f1-4a5a-b696-55f425e1dcc0\",\"type\":\"DataRange1d\"},\"x_scale\":{\"id\":\"fb671095-04ea-4dba-be06-79db6e05681e\",\"type\":\"LinearScale\"},\"y_range\":{\"id\":\"4f106942-3636-4992-af46-c156d67a1181\",\"type\":\"DataRange1d\"},\"y_scale\":{\"id\":\"3f103e7c-af78-4bb7-8366-cfae2585697e\",\"type\":\"LinearScale\"}},\"id\":\"1112a0fe-554e-4d39-af66-8c02239c51ae\",\"subtype\":\"Figure\",\"type\":\"Plot\"},{\"attributes\":{},\"id\":\"3f103e7c-af78-4bb7-8366-cfae2585697e\",\"type\":\"LinearScale\"},{\"attributes\":{},\"id\":\"7dcc4aa0-fb37-4b09-b549-61b9fdb1eab2\",\"type\":\"Selection\"},{\"attributes\":{},\"id\":\"7d8ef313-0dd2-4a2f-bbcb-9e73fdadad74\",\"type\":\"PanTool\"},{\"attributes\":{\"plot\":{\"id\":\"1112a0fe-554e-4d39-af66-8c02239c51ae\",\"subtype\":\"Figure\",\"type\":\"Plot\"},\"ticker\":{\"id\":\"7a5e727b-845e-4e20-a1e9-550b6f128ab5\",\"type\":\"BasicTicker\"}},\"id\":\"f97a38ed-9f7d-4900-8abf-4c801933931b\",\"type\":\"Grid\"},{\"attributes\":{\"axis_label\":\"City population bins\",\"axis_label_text_font\":\"verdana\",\"axis_label_text_font_style\":\"normal\",\"formatter\":{\"id\":\"28171d78-9b95-499a-97f1-3c8b2dbbf737\",\"type\":\"BasicTickFormatter\"},\"major_label_orientation\":0.785,\"major_label_overrides\":{\"0\":\"100\",\"1\":\"200\",\"10\":\"2,000\",\"11\":\"3,000\",\"12\":\"4,000\",\"13\":\"5,000\",\"14\":\"6,000\",\"15\":\"7,000\",\"16\":\"8,000\",\"17\":\"9,000\",\"18\":\"10,000\",\"19\":\"20,000\",\"2\":\"300\",\"20\":\"30,000\",\"21\":\"40,000\",\"22\":\"50,000\",\"23\":\"60,000\",\"24\":\"70,000\",\"25\":\"80,000\",\"26\":\"90,000\",\"27\":\"100,000\",\"28\":\"200,000\",\"29\":\"300,000\",\"3\":\"400\",\"4\":\"500\",\"5\":\"600\",\"6\":\"700\",\"7\":\"800\",\"8\":\"900\",\"9\":\"1,000\"},\"major_label_text_font\":\"verdana\",\"plot\":{\"id\":\"1112a0fe-554e-4d39-af66-8c02239c51ae\",\"subtype\":\"Figure\",\"type\":\"Plot\"},\"ticker\":{\"id\":\"07dd4648-4693-4c21-9c97-36f1de353ac7\",\"type\":\"FixedTicker\"}},\"id\":\"2b0a322b-d407-487d-ab0d-56aba75f34f9\",\"type\":\"LinearAxis\"},{\"attributes\":{\"callback\":null,\"data\":{\"x\":[0,1,2,3,4,5,6,7,8,9,10,11,12,13,14,15,16,17,18,19,20,21,22,23,24,25,26,27,28,29],\"y\":[0,0.014492753623188406,0.04057971014492753,0.11304347826086956,0.13333333333333333,0.1855072463768116,0.24057971014492754,0.2782608695652174,0.32753623188405795,0.3710144927536232,0.6753623188405797,0.782608695652174,0.8463768115942029,0.8956521739130435,0.9159420289855073,0.9333333333333333,0.9536231884057971,0.9623188405797102,0.9710144927536232,0.991304347826087,0.9942028985507246,0.9942028985507246,0.9971014492753624,0.9971014492753624,0.9971014492753624,0.9971014492753624,0.9971014492753624,0.9971014492753624,0.9971014492753624,1.0]},\"selected\":{\"id\":\"7dcc4aa0-fb37-4b09-b549-61b9fdb1eab2\",\"type\":\"Selection\"},\"selection_policy\":{\"id\":\"ed7c1a07-2476-4dff-9f0b-d5e113de0eac\",\"type\":\"UnionRenderers\"}},\"id\":\"638dd41d-0bb3-4c89-9564-18fb2e78afbf\",\"type\":\"ColumnDataSource\"},{\"attributes\":{\"callback\":null},\"id\":\"182c88d2-85f1-4a5a-b696-55f425e1dcc0\",\"type\":\"DataRange1d\"},{\"attributes\":{\"source\":{\"id\":\"638dd41d-0bb3-4c89-9564-18fb2e78afbf\",\"type\":\"ColumnDataSource\"}},\"id\":\"958ec351-83e5-439f-9d2e-38dab9b02d10\",\"type\":\"CDSView\"},{\"attributes\":{},\"id\":\"8d1c9397-a1e3-4459-9dae-03a175c96090\",\"type\":\"WheelZoomTool\"},{\"attributes\":{\"callback\":null},\"id\":\"4f106942-3636-4992-af46-c156d67a1181\",\"type\":\"DataRange1d\"},{\"attributes\":{\"overlay\":{\"id\":\"f1ce6582-a1b2-4b75-9970-ae47f289eb21\",\"type\":\"BoxAnnotation\"}},\"id\":\"fce1edc4-0e37-4af9-bed5-827e1ece5626\",\"type\":\"BoxZoomTool\"},{\"attributes\":{},\"id\":\"c6a714b0-7b0d-4027-b37f-5d5956f4c4d7\",\"type\":\"BasicTickFormatter\"},{\"attributes\":{},\"id\":\"fb671095-04ea-4dba-be06-79db6e05681e\",\"type\":\"LinearScale\"},{\"attributes\":{},\"id\":\"7a5e727b-845e-4e20-a1e9-550b6f128ab5\",\"type\":\"BasicTicker\"},{\"attributes\":{},\"id\":\"221e8004-d2b2-478d-8bf4-b8766061550e\",\"type\":\"HelpTool\"},{\"attributes\":{},\"id\":\"ed7c1a07-2476-4dff-9f0b-d5e113de0eac\",\"type\":\"UnionRenderers\"},{\"attributes\":{\"ticks\":[0,1,2,3,4,5,6,7,8,9,10,11,12,13,14,15,16,17,18,19,20,21,22,23,24,25,26,27,28,29]},\"id\":\"07dd4648-4693-4c21-9c97-36f1de353ac7\",\"type\":\"FixedTicker\"},{\"attributes\":{\"line_color\":{\"value\":\"#0276FD\"},\"line_width\":{\"value\":2},\"x\":{\"field\":\"x\"},\"y\":{\"field\":\"y\"}},\"id\":\"a23b5dbb-2114-47c8-a08b-f240a87a31bf\",\"type\":\"Step\"},{\"attributes\":{\"data_source\":{\"id\":\"638dd41d-0bb3-4c89-9564-18fb2e78afbf\",\"type\":\"ColumnDataSource\"},\"glyph\":{\"id\":\"a23b5dbb-2114-47c8-a08b-f240a87a31bf\",\"type\":\"Step\"},\"hover_glyph\":null,\"muted_glyph\":null,\"nonselection_glyph\":{\"id\":\"1dfc5a01-ec60-4e4f-a04f-8a9b75994afb\",\"type\":\"Step\"},\"selection_glyph\":null,\"view\":{\"id\":\"958ec351-83e5-439f-9d2e-38dab9b02d10\",\"type\":\"CDSView\"}},\"id\":\"71400e88-ddac-497a-abbb-5c4360d6fce4\",\"type\":\"GlyphRenderer\"},{\"attributes\":{\"dimension\":1,\"plot\":{\"id\":\"1112a0fe-554e-4d39-af66-8c02239c51ae\",\"subtype\":\"Figure\",\"type\":\"Plot\"},\"ticker\":{\"id\":\"e0cbecf9-d62c-4806-91eb-19db4d834c9a\",\"type\":\"BasicTicker\"}},\"id\":\"3ea37b0c-d335-47ba-9b35-80a488883904\",\"type\":\"Grid\"},{\"attributes\":{},\"id\":\"35217750-e6e0-45b9-92bc-fe3fa1c81685\",\"type\":\"ResetTool\"},{\"attributes\":{\"axis_label\":\"Percentile [%ile]\",\"axis_label_text_font\":\"verdana\",\"axis_label_text_font_style\":\"normal\",\"formatter\":{\"id\":\"c6a714b0-7b0d-4027-b37f-5d5956f4c4d7\",\"type\":\"BasicTickFormatter\"},\"major_label_text_font\":\"verdana\",\"plot\":{\"id\":\"1112a0fe-554e-4d39-af66-8c02239c51ae\",\"subtype\":\"Figure\",\"type\":\"Plot\"},\"ticker\":{\"id\":\"e0cbecf9-d62c-4806-91eb-19db4d834c9a\",\"type\":\"BasicTicker\"}},\"id\":\"dfbdd81f-2fae-4fad-ae86-9bb7354c3c33\",\"type\":\"LinearAxis\"},{\"attributes\":{\"bottom_units\":\"screen\",\"fill_alpha\":{\"value\":0.5},\"fill_color\":{\"value\":\"lightgrey\"},\"left_units\":\"screen\",\"level\":\"overlay\",\"line_alpha\":{\"value\":1.0},\"line_color\":{\"value\":\"black\"},\"line_dash\":[4,4],\"line_width\":{\"value\":2},\"plot\":null,\"render_mode\":\"css\",\"right_units\":\"screen\",\"top_units\":\"screen\"},\"id\":\"f1ce6582-a1b2-4b75-9970-ae47f289eb21\",\"type\":\"BoxAnnotation\"},{\"attributes\":{\"plot\":null,\"text\":\"City population distribution\",\"text_color\":{\"value\":\"#0276FD\"},\"text_font\":\"verdana\",\"text_font_size\":{\"value\":\"12pt\"}},\"id\":\"7d96b51a-cc9e-47a2-a545-d49d5c7487b8\",\"type\":\"Title\"},{\"attributes\":{},\"id\":\"28171d78-9b95-499a-97f1-3c8b2dbbf737\",\"type\":\"BasicTickFormatter\"}],\"root_ids\":[\"1112a0fe-554e-4d39-af66-8c02239c51ae\"]},\"title\":\"Bokeh Application\",\"version\":\"0.13.0\"}};\n",
       "  var render_items = [{\"docid\":\"ee386f84-6ab0-4dad-af83-68c28896c74e\",\"roots\":{\"1112a0fe-554e-4d39-af66-8c02239c51ae\":\"b02b5882-b8b0-43a2-8aa4-a21d2084719d\"}}];\n",
       "  root.Bokeh.embed.embed_items_notebook(docs_json, render_items);\n",
       "\n",
       "  }\n",
       "  if (root.Bokeh !== undefined) {\n",
       "    embed_document(root);\n",
       "  } else {\n",
       "    var attempts = 0;\n",
       "    var timer = setInterval(function(root) {\n",
       "      if (root.Bokeh !== undefined) {\n",
       "        embed_document(root);\n",
       "        clearInterval(timer);\n",
       "      }\n",
       "      attempts++;\n",
       "      if (attempts > 100) {\n",
       "        console.log(\"Bokeh: ERROR: Unable to run BokehJS code because BokehJS library is missing\")\n",
       "        clearInterval(timer);\n",
       "      }\n",
       "    }, 10, root)\n",
       "  }\n",
       "})(window);"
      ],
      "application/vnd.bokehjs_exec.v0+json": ""
     },
     "metadata": {
      "application/vnd.bokehjs_exec.v0+json": {
       "id": "1112a0fe-554e-4d39-af66-8c02239c51ae"
      }
     },
     "output_type": "display_data"
    }
   ],
   "source": [
    "#Plot cumulative distribution\n",
    "p2 = figure(plot_height=300, title=\"City population distribution\",\n",
    "           x_axis_label='City population bins', y_axis_label='Percentile [%ile]')\n",
    "p2.step(list(range(0,len(bin_edges))),[0]+[list(np.cumsum(hist))[x]/NumberOfCity for x in range(0,len(hist))],\n",
    "       line_color=\"#0276FD\",line_width=2)\n",
    "\n",
    "p2.xaxis.ticker = list(range(0,len(bin_edges)))\n",
    "p2.xaxis.major_label_orientation = 3.14/4\n",
    "p2.xaxis.major_label_overrides = {el:\"{:,}\".format(bin_edges[el]) for el in range(0,len(bin_edges))}\n",
    "\n",
    "p2.title.text_font_size = '12pt'\n",
    "p2.title.text_color = \"#0276FD\"\n",
    "p2.title.text_font = \"verdana\"\n",
    "p2.yaxis.axis_label_text_font = \"verdana\"\n",
    "p2.yaxis.axis_label_text_font_style = \"normal\"\n",
    "p2.xaxis.axis_label_text_font = \"verdana\"\n",
    "p2.xaxis.axis_label_text_font_style = \"normal\"\n",
    "p2.xaxis.major_label_text_font = \"verdana\"\n",
    "p2.yaxis.major_label_text_font = \"verdana\"\n",
    "\n",
    "show(p2)"
   ]
  },
  {
   "cell_type": "markdown",
   "metadata": {},
   "source": [
    "## 3.3. Area analysis"
   ]
  },
  {
   "cell_type": "code",
   "execution_count": 9,
   "metadata": {},
   "outputs": [
    {
     "name": "stdout",
     "output_type": "stream",
     "text": [
      "Surface totale: 6,840.54 km²\n",
      "Surface moyenne: 19.82 km²\n",
      "Surface mediane: 15.81 km²\n",
      "Surface la plus faible: 0.56 km² (Bécherel)\n",
      "Surface la plus élevée: 110.66 km² (Paimpont)\n"
     ]
    }
   ],
   "source": [
    "#Statistics about area\n",
    "TotalArea = sum(AllAreaList)/100 # km2, originally surface in hectare\n",
    "AverageArea = int(np.mean(AllAreaList)) # Surface moyenne \n",
    "MedianArea = int(np.median(AllAreaList)) # Surface mediane\n",
    "MinArea = np.min(AllAreaList) # Surface la plus faible\n",
    "MaxArea = np.max(AllAreaList) # Surface la plus élevée\n",
    "\n",
    "print 'Surface totale: ' + \"{:,}\".format(TotalArea) + ' km' + (u\"\\u00b2\").encode('utf-8') \n",
    "print 'Surface moyenne: '+ \"{:,}\".format(AverageArea/100) + ' km' + (u\"\\u00b2\").encode('utf-8') \n",
    "print 'Surface mediane: '+ \"{:,}\".format(MedianArea/100) + ' km' + (u\"\\u00b2\").encode('utf-8') \n",
    "print 'Surface la plus faible: '+ \"{:,}\".format(MinArea/100) + ' km' + (u\"\\u00b2\").encode('utf-8') + ' (' + str(list(mydb[CollectionName].find({'surface': MinArea},{'nom':1,'_id':0}))[0]['nom'].encode('utf-8')) + ')'\n",
    "print 'Surface la plus élevée: '+ \"{:,}\".format(MaxArea/100) + ' km' + (u\"\\u00b2\").encode('utf-8')  + ' (' + str(list(mydb[CollectionName].find({'surface': MaxArea},{'nom':1,'_id':0}))[0]['nom'].encode('utf-8')) + ')'"
   ]
  },
  {
   "cell_type": "markdown",
   "metadata": {},
   "source": [
    "### 3.3.1 Area histogram"
   ]
  },
  {
   "cell_type": "code",
   "execution_count": 10,
   "metadata": {
    "collapsed": true
   },
   "outputs": [],
   "source": [
    "# Prepare the data for plot\n",
    "start = Fcn_BasicStatisticalAnalysisOfPopulation.DefineMinMaxLog(MinArea,'Min')\n",
    "stop = Fcn_BasicStatisticalAnalysisOfPopulation.DefineMinMaxLog(MaxArea,'Max')\n",
    "bins = Fcn_BasicStatisticalAnalysisOfPopulation.CreateLogBin(start,stop)\n",
    "hist, bin_edges = np.histogram(AllAreaList, bins=bins)\n",
    "\n",
    "# Remove the first and last value when hist is 0 - Comment out this line to show forall log scale\n",
    "hist, bin_edges = Fcn_BasicStatisticalAnalysisOfPopulation.RemoveLastFirstValuesWhenZero(hist, bin_edges)"
   ]
  },
  {
   "cell_type": "code",
   "execution_count": 11,
   "metadata": {},
   "outputs": [
    {
     "data": {
      "text/html": [
       "\n",
       "\n",
       "\n",
       "\n",
       "\n",
       "\n",
       "  <div class=\"bk-root\" id=\"6899b642-c4bb-4121-80d1-8c6ebf4764cd\"></div>\n"
      ]
     },
     "metadata": {},
     "output_type": "display_data"
    },
    {
     "data": {
      "application/javascript": [
       "(function(root) {\n",
       "  function embed_document(root) {\n",
       "    \n",
       "  var docs_json = {\"62bf74ab-668f-466f-bdbd-9b283b09b461\":{\"roots\":{\"references\":[{\"attributes\":{\"active_drag\":\"auto\",\"active_inspect\":\"auto\",\"active_multi\":null,\"active_scroll\":\"auto\",\"active_tap\":\"auto\",\"tools\":[{\"id\":\"dccdca60-bdf5-4d6f-bbf9-0835cec7257f\",\"type\":\"PanTool\"},{\"id\":\"fc98321b-a85d-4b74-a395-cc0462b67283\",\"type\":\"WheelZoomTool\"},{\"id\":\"bba6ba59-301a-4e5e-84a8-765dd3b46897\",\"type\":\"BoxZoomTool\"},{\"id\":\"dede20b2-0ce7-4275-ab79-3a1fb5fe156b\",\"type\":\"SaveTool\"},{\"id\":\"771a155e-6511-40c0-9a0a-f4aaec1efd59\",\"type\":\"ResetTool\"},{\"id\":\"24f19e52-77cf-4223-aad4-fadcb1e437ad\",\"type\":\"HelpTool\"}]},\"id\":\"48d51cde-22de-4900-a78b-44acd93f411f\",\"type\":\"Toolbar\"},{\"attributes\":{\"overlay\":{\"id\":\"968dc2c7-7743-4470-ae02-cfd5d6280dcd\",\"type\":\"BoxAnnotation\"}},\"id\":\"bba6ba59-301a-4e5e-84a8-765dd3b46897\",\"type\":\"BoxZoomTool\"},{\"attributes\":{},\"id\":\"a7eb2e9c-3f43-42fe-b05d-2c5f31acef9a\",\"type\":\"BasicTickFormatter\"},{\"attributes\":{},\"id\":\"c3fa91fb-8911-44d7-b93a-a0a503f5c039\",\"type\":\"Selection\"},{\"attributes\":{\"bottom_units\":\"screen\",\"fill_alpha\":{\"value\":0.5},\"fill_color\":{\"value\":\"lightgrey\"},\"left_units\":\"screen\",\"level\":\"overlay\",\"line_alpha\":{\"value\":1.0},\"line_color\":{\"value\":\"black\"},\"line_dash\":[4,4],\"line_width\":{\"value\":2},\"plot\":null,\"render_mode\":\"css\",\"right_units\":\"screen\",\"top_units\":\"screen\"},\"id\":\"968dc2c7-7743-4470-ae02-cfd5d6280dcd\",\"type\":\"BoxAnnotation\"},{\"attributes\":{},\"id\":\"fc98321b-a85d-4b74-a395-cc0462b67283\",\"type\":\"WheelZoomTool\"},{\"attributes\":{},\"id\":\"57ce0a45-471f-4ac6-879b-3787117ef9f8\",\"type\":\"LinearScale\"},{\"attributes\":{\"callback\":null},\"id\":\"76fedbff-21ea-459b-8231-f5526187093e\",\"type\":\"DataRange1d\"},{\"attributes\":{},\"id\":\"24f19e52-77cf-4223-aad4-fadcb1e437ad\",\"type\":\"HelpTool\"},{\"attributes\":{\"plot\":null,\"text\":\"City area\",\"text_color\":{\"value\":\"#0276FD\"},\"text_font\":\"verdana\",\"text_font_size\":{\"value\":\"12pt\"}},\"id\":\"10d25305-7ab3-4596-af71-a4d3d33a342f\",\"type\":\"Title\"},{\"attributes\":{\"data_source\":{\"id\":\"0de0a39a-d58c-4312-bd1b-cfb09a4a7e95\",\"type\":\"ColumnDataSource\"},\"glyph\":{\"id\":\"15fc017d-bc87-45b5-8c62-e34aca82232e\",\"type\":\"Quad\"},\"hover_glyph\":null,\"muted_glyph\":null,\"nonselection_glyph\":{\"id\":\"1816ab45-c7c0-4b1e-b477-07d78e954f3c\",\"type\":\"Quad\"},\"selection_glyph\":null,\"view\":{\"id\":\"9409adc2-42da-47e6-8823-250c80d4f5e0\",\"type\":\"CDSView\"}},\"id\":\"1406b917-d137-4619-8c3f-e460b4211531\",\"type\":\"GlyphRenderer\"},{\"attributes\":{\"callback\":null},\"id\":\"ef423c1b-f315-49d4-afcb-63f78aaf1a60\",\"type\":\"DataRange1d\"},{\"attributes\":{\"bottom\":{\"value\":0},\"fill_alpha\":{\"value\":0.1},\"fill_color\":{\"value\":\"#1f77b4\"},\"left\":{\"field\":\"left\"},\"line_alpha\":{\"value\":0.1},\"line_color\":{\"value\":\"#1f77b4\"},\"right\":{\"field\":\"right\"},\"top\":{\"field\":\"top\"}},\"id\":\"1816ab45-c7c0-4b1e-b477-07d78e954f3c\",\"type\":\"Quad\"},{\"attributes\":{},\"id\":\"dede20b2-0ce7-4275-ab79-3a1fb5fe156b\",\"type\":\"SaveTool\"},{\"attributes\":{\"axis_label\":\"City area bins [km\\u00b2]\",\"axis_label_text_font\":\"verdana\",\"axis_label_text_font_style\":\"normal\",\"formatter\":{\"id\":\"4116239c-6ac7-43fb-8e18-682037440515\",\"type\":\"BasicTickFormatter\"},\"major_label_orientation\":0.785,\"major_label_overrides\":{\"0\":\"0.5\",\"1\":\"0.6\",\"10\":\"6\",\"11\":\"7\",\"12\":\"8\",\"13\":\"9\",\"14\":\"10\",\"15\":\"20\",\"16\":\"30\",\"17\":\"40\",\"18\":\"50\",\"19\":\"60\",\"2\":\"0.7\",\"20\":\"70\",\"21\":\"80\",\"22\":\"90\",\"23\":\"100\",\"24\":\"200\",\"3\":\"0.8\",\"4\":\"0.9\",\"5\":\"1\",\"6\":\"2\",\"7\":\"3\",\"8\":\"4\",\"9\":\"5\"},\"major_label_text_font\":\"verdana\",\"plot\":{\"id\":\"9c50f0a7-be86-4ee9-96a5-27cb52206eee\",\"subtype\":\"Figure\",\"type\":\"Plot\"},\"ticker\":{\"id\":\"94a88729-d04c-4ce6-a6fd-6beab835df3f\",\"type\":\"FixedTicker\"}},\"id\":\"d5a3fae1-d245-4ca7-8372-0dd5274e84de\",\"type\":\"LinearAxis\"},{\"attributes\":{\"bottom\":{\"value\":0},\"fill_color\":{\"value\":\"#0276FD\"},\"left\":{\"field\":\"left\"},\"line_color\":{\"value\":\"#5F5B5B\"},\"right\":{\"field\":\"right\"},\"top\":{\"field\":\"top\"}},\"id\":\"15fc017d-bc87-45b5-8c62-e34aca82232e\",\"type\":\"Quad\"},{\"attributes\":{},\"id\":\"32f2d794-f5b2-4abc-b903-3f63be8c2ca4\",\"type\":\"BasicTicker\"},{\"attributes\":{\"below\":[{\"id\":\"d5a3fae1-d245-4ca7-8372-0dd5274e84de\",\"type\":\"LinearAxis\"}],\"left\":[{\"id\":\"5c925275-2cb8-48b1-bdf1-40ae241df5d2\",\"type\":\"LinearAxis\"}],\"plot_height\":300,\"renderers\":[{\"id\":\"d5a3fae1-d245-4ca7-8372-0dd5274e84de\",\"type\":\"LinearAxis\"},{\"id\":\"586e34e0-74bc-4928-9bda-e223118af461\",\"type\":\"Grid\"},{\"id\":\"5c925275-2cb8-48b1-bdf1-40ae241df5d2\",\"type\":\"LinearAxis\"},{\"id\":\"e2e9db55-6f9e-46ec-8ff6-cddf75ce8be6\",\"type\":\"Grid\"},{\"id\":\"968dc2c7-7743-4470-ae02-cfd5d6280dcd\",\"type\":\"BoxAnnotation\"},{\"id\":\"1406b917-d137-4619-8c3f-e460b4211531\",\"type\":\"GlyphRenderer\"}],\"title\":{\"id\":\"10d25305-7ab3-4596-af71-a4d3d33a342f\",\"type\":\"Title\"},\"toolbar\":{\"id\":\"48d51cde-22de-4900-a78b-44acd93f411f\",\"type\":\"Toolbar\"},\"x_range\":{\"id\":\"76fedbff-21ea-459b-8231-f5526187093e\",\"type\":\"DataRange1d\"},\"x_scale\":{\"id\":\"57ce0a45-471f-4ac6-879b-3787117ef9f8\",\"type\":\"LinearScale\"},\"y_range\":{\"id\":\"ef423c1b-f315-49d4-afcb-63f78aaf1a60\",\"type\":\"DataRange1d\"},\"y_scale\":{\"id\":\"1c26f34f-1e4d-4a2c-b1a7-80613eaecbbd\",\"type\":\"LinearScale\"}},\"id\":\"9c50f0a7-be86-4ee9-96a5-27cb52206eee\",\"subtype\":\"Figure\",\"type\":\"Plot\"},{\"attributes\":{\"plot\":{\"id\":\"9c50f0a7-be86-4ee9-96a5-27cb52206eee\",\"subtype\":\"Figure\",\"type\":\"Plot\"},\"ticker\":{\"id\":\"32f2d794-f5b2-4abc-b903-3f63be8c2ca4\",\"type\":\"BasicTicker\"}},\"id\":\"586e34e0-74bc-4928-9bda-e223118af461\",\"type\":\"Grid\"},{\"attributes\":{},\"id\":\"dccdca60-bdf5-4d6f-bbf9-0835cec7257f\",\"type\":\"PanTool\"},{\"attributes\":{},\"id\":\"5e282872-a8b2-4fcb-a693-89fbcb5b3847\",\"type\":\"UnionRenderers\"},{\"attributes\":{\"callback\":null,\"data\":{\"left\":[0,1,2,3,4,5,6,7,8,9,10,11,12,13,14,15,16,17,18,19,20,21,22,23],\"right\":[1,2,3,4,5,6,7,8,9,10,11,12,13,14,15,16,17,18,19,20,21,22,23,24],\"top\":[1,0,0,0,0,1,6,9,9,8,11,16,14,18,125,65,31,16,7,3,3,0,1,1]},\"selected\":{\"id\":\"c3fa91fb-8911-44d7-b93a-a0a503f5c039\",\"type\":\"Selection\"},\"selection_policy\":{\"id\":\"5e282872-a8b2-4fcb-a693-89fbcb5b3847\",\"type\":\"UnionRenderers\"}},\"id\":\"0de0a39a-d58c-4312-bd1b-cfb09a4a7e95\",\"type\":\"ColumnDataSource\"},{\"attributes\":{},\"id\":\"771a155e-6511-40c0-9a0a-f4aaec1efd59\",\"type\":\"ResetTool\"},{\"attributes\":{\"source\":{\"id\":\"0de0a39a-d58c-4312-bd1b-cfb09a4a7e95\",\"type\":\"ColumnDataSource\"}},\"id\":\"9409adc2-42da-47e6-8823-250c80d4f5e0\",\"type\":\"CDSView\"},{\"attributes\":{},\"id\":\"23c9b506-e2ac-43c5-98b6-dcbc9ab3bb7b\",\"type\":\"BasicTicker\"},{\"attributes\":{},\"id\":\"4116239c-6ac7-43fb-8e18-682037440515\",\"type\":\"BasicTickFormatter\"},{\"attributes\":{\"ticks\":[0,1,2,3,4,5,6,7,8,9,10,11,12,13,14,15,16,17,18,19,20,21,22,23,24]},\"id\":\"94a88729-d04c-4ce6-a6fd-6beab835df3f\",\"type\":\"FixedTicker\"},{\"attributes\":{},\"id\":\"1c26f34f-1e4d-4a2c-b1a7-80613eaecbbd\",\"type\":\"LinearScale\"},{\"attributes\":{\"dimension\":1,\"plot\":{\"id\":\"9c50f0a7-be86-4ee9-96a5-27cb52206eee\",\"subtype\":\"Figure\",\"type\":\"Plot\"},\"ticker\":{\"id\":\"23c9b506-e2ac-43c5-98b6-dcbc9ab3bb7b\",\"type\":\"BasicTicker\"}},\"id\":\"e2e9db55-6f9e-46ec-8ff6-cddf75ce8be6\",\"type\":\"Grid\"},{\"attributes\":{\"axis_label\":\"Count [#]\",\"axis_label_text_font\":\"verdana\",\"axis_label_text_font_style\":\"normal\",\"formatter\":{\"id\":\"a7eb2e9c-3f43-42fe-b05d-2c5f31acef9a\",\"type\":\"BasicTickFormatter\"},\"major_label_text_font\":\"verdana\",\"plot\":{\"id\":\"9c50f0a7-be86-4ee9-96a5-27cb52206eee\",\"subtype\":\"Figure\",\"type\":\"Plot\"},\"ticker\":{\"id\":\"23c9b506-e2ac-43c5-98b6-dcbc9ab3bb7b\",\"type\":\"BasicTicker\"}},\"id\":\"5c925275-2cb8-48b1-bdf1-40ae241df5d2\",\"type\":\"LinearAxis\"}],\"root_ids\":[\"9c50f0a7-be86-4ee9-96a5-27cb52206eee\"]},\"title\":\"Bokeh Application\",\"version\":\"0.13.0\"}};\n",
       "  var render_items = [{\"docid\":\"62bf74ab-668f-466f-bdbd-9b283b09b461\",\"roots\":{\"9c50f0a7-be86-4ee9-96a5-27cb52206eee\":\"6899b642-c4bb-4121-80d1-8c6ebf4764cd\"}}];\n",
       "  root.Bokeh.embed.embed_items_notebook(docs_json, render_items);\n",
       "\n",
       "  }\n",
       "  if (root.Bokeh !== undefined) {\n",
       "    embed_document(root);\n",
       "  } else {\n",
       "    var attempts = 0;\n",
       "    var timer = setInterval(function(root) {\n",
       "      if (root.Bokeh !== undefined) {\n",
       "        embed_document(root);\n",
       "        clearInterval(timer);\n",
       "      }\n",
       "      attempts++;\n",
       "      if (attempts > 100) {\n",
       "        console.log(\"Bokeh: ERROR: Unable to run BokehJS code because BokehJS library is missing\")\n",
       "        clearInterval(timer);\n",
       "      }\n",
       "    }, 10, root)\n",
       "  }\n",
       "})(window);"
      ],
      "application/vnd.bokehjs_exec.v0+json": ""
     },
     "metadata": {
      "application/vnd.bokehjs_exec.v0+json": {
       "id": "9c50f0a7-be86-4ee9-96a5-27cb52206eee"
      }
     },
     "output_type": "display_data"
    }
   ],
   "source": [
    "# Plot histogram\n",
    "p1 = figure(plot_height=300, title=\"City area\",\n",
    "           x_axis_label='City area bins'+ ' [km' + (u\"\\u00b2]\").encode('utf-8'), y_axis_label='Count [#]')\n",
    "p1.quad(top=list(hist), bottom=0, left=list(range(0,len(bin_edges)))[:-1], right=list(range(0,len(bin_edges)))[1:],\n",
    "       fill_color = \"#0276FD\", line_color = \"#5F5B5B\", alpha=1)\n",
    "\n",
    "p1.xaxis.ticker = list(range(0,len(bin_edges)))\n",
    "p1.xaxis.major_label_orientation = 3.14/4\n",
    "p1.xaxis.major_label_overrides = {el:\"{:,}\".format((bin_edges[el]/100)) if (bin_edges[el]/100) < 1 else \"{:,}\".format(int(bin_edges[el]/100)) for el in range(0,len(bin_edges))}\n",
    "p1.title.text_font_size = '12pt'\n",
    "p1.title.text_color = \"#0276FD\"\n",
    "p1.title.text_font = \"verdana\"\n",
    "p1.yaxis.axis_label_text_font = \"verdana\"\n",
    "p1.yaxis.axis_label_text_font_style = \"normal\"\n",
    "p1.xaxis.axis_label_text_font = \"verdana\"\n",
    "p1.xaxis.axis_label_text_font_style = \"normal\"\n",
    "p1.xaxis.major_label_text_font = \"verdana\"\n",
    "p1.yaxis.major_label_text_font = \"verdana\"\n",
    "\n",
    "show(p1)"
   ]
  },
  {
   "cell_type": "markdown",
   "metadata": {},
   "source": [
    "### 3.3.2. Population cumulative distribution"
   ]
  },
  {
   "cell_type": "code",
   "execution_count": 12,
   "metadata": {},
   "outputs": [
    {
     "data": {
      "text/html": [
       "\n",
       "\n",
       "\n",
       "\n",
       "\n",
       "\n",
       "  <div class=\"bk-root\" id=\"04e39f31-a041-4c98-98c1-a303e3c6e918\"></div>\n"
      ]
     },
     "metadata": {},
     "output_type": "display_data"
    },
    {
     "data": {
      "application/javascript": [
       "(function(root) {\n",
       "  function embed_document(root) {\n",
       "    \n",
       "  var docs_json = {\"f6da8d2b-57c5-4c75-b798-6f813d0ad691\":{\"roots\":{\"references\":[{\"attributes\":{},\"id\":\"554b0392-5b14-41b4-83ce-2311569ffaf9\",\"type\":\"BasicTicker\"},{\"attributes\":{\"axis_label\":\"City area bins [km\\u00b2]\",\"axis_label_text_font\":\"verdana\",\"axis_label_text_font_style\":\"normal\",\"formatter\":{\"id\":\"1ee9309d-41ff-4087-a900-b2027d88b04a\",\"type\":\"BasicTickFormatter\"},\"major_label_orientation\":0.785,\"major_label_overrides\":{\"0\":\"0.5\",\"1\":\"0.6\",\"10\":\"6\",\"11\":\"7\",\"12\":\"8\",\"13\":\"9\",\"14\":\"10\",\"15\":\"20\",\"16\":\"30\",\"17\":\"40\",\"18\":\"50\",\"19\":\"60\",\"2\":\"0.7\",\"20\":\"70\",\"21\":\"80\",\"22\":\"90\",\"23\":\"100\",\"24\":\"200\",\"3\":\"0.8\",\"4\":\"0.9\",\"5\":\"1\",\"6\":\"2\",\"7\":\"3\",\"8\":\"4\",\"9\":\"5\"},\"major_label_text_font\":\"verdana\",\"plot\":{\"id\":\"ae4d5f97-a44d-40d5-91d7-c8988a4b902c\",\"subtype\":\"Figure\",\"type\":\"Plot\"},\"ticker\":{\"id\":\"446e524b-abd9-4f0e-b1b1-be565fc60567\",\"type\":\"FixedTicker\"}},\"id\":\"bbfcd887-6885-48cc-b295-b99109f376f7\",\"type\":\"LinearAxis\"},{\"attributes\":{\"ticks\":[0,1,2,3,4,5,6,7,8,9,10,11,12,13,14,15,16,17,18,19,20,21,22,23,24]},\"id\":\"446e524b-abd9-4f0e-b1b1-be565fc60567\",\"type\":\"FixedTicker\"},{\"attributes\":{\"active_drag\":\"auto\",\"active_inspect\":\"auto\",\"active_multi\":null,\"active_scroll\":\"auto\",\"active_tap\":\"auto\",\"tools\":[{\"id\":\"0b78a5f1-db09-49c0-89b3-057a46f45703\",\"type\":\"PanTool\"},{\"id\":\"cde59a57-0cc0-4f59-8eb5-0c0d6fd53a4d\",\"type\":\"WheelZoomTool\"},{\"id\":\"cd10a406-6d83-4f12-96d9-03f4f44a2a52\",\"type\":\"BoxZoomTool\"},{\"id\":\"79905b51-09c6-410a-89ea-ec4224095fc2\",\"type\":\"SaveTool\"},{\"id\":\"f1141756-5c07-46eb-b0ea-c3e5938514db\",\"type\":\"ResetTool\"},{\"id\":\"a5dba58b-7b31-4d9a-8e06-56e77054d85c\",\"type\":\"HelpTool\"}]},\"id\":\"555b9f11-238a-4e0a-a563-0ab62e8bb280\",\"type\":\"Toolbar\"},{\"attributes\":{\"plot\":null,\"text\":\"City area distribution\",\"text_color\":{\"value\":\"#0276FD\"},\"text_font\":\"verdana\",\"text_font_size\":{\"value\":\"12pt\"}},\"id\":\"79a3266d-606e-4cae-aae7-3a490c415e88\",\"type\":\"Title\"},{\"attributes\":{\"line_color\":{\"value\":\"#0276FD\"},\"line_width\":{\"value\":2},\"x\":{\"field\":\"x\"},\"y\":{\"field\":\"y\"}},\"id\":\"5f52cc40-ed3d-4f3a-9da0-90e71ebc1320\",\"type\":\"Step\"},{\"attributes\":{},\"id\":\"55737eba-8ac6-4897-9b0a-66865dcc5818\",\"type\":\"BasicTicker\"},{\"attributes\":{\"callback\":null},\"id\":\"5832a0f3-2a2b-4edd-bfc0-4d4476a7c3fc\",\"type\":\"DataRange1d\"},{\"attributes\":{},\"id\":\"a5dba58b-7b31-4d9a-8e06-56e77054d85c\",\"type\":\"HelpTool\"},{\"attributes\":{},\"id\":\"3397f5ff-165c-4a22-98ec-b4af07cd3769\",\"type\":\"LinearScale\"},{\"attributes\":{},\"id\":\"fb95ea6b-c9bf-4ee5-a420-f99cb6b5bafa\",\"type\":\"BasicTickFormatter\"},{\"attributes\":{},\"id\":\"1ee9309d-41ff-4087-a900-b2027d88b04a\",\"type\":\"BasicTickFormatter\"},{\"attributes\":{},\"id\":\"cde59a57-0cc0-4f59-8eb5-0c0d6fd53a4d\",\"type\":\"WheelZoomTool\"},{\"attributes\":{},\"id\":\"cf89cb09-8d3b-4b77-8a78-d342ac6b1379\",\"type\":\"Selection\"},{\"attributes\":{},\"id\":\"fa92cf39-c880-43b0-9f15-e73c94ddec4d\",\"type\":\"UnionRenderers\"},{\"attributes\":{\"dimension\":1,\"plot\":{\"id\":\"ae4d5f97-a44d-40d5-91d7-c8988a4b902c\",\"subtype\":\"Figure\",\"type\":\"Plot\"},\"ticker\":{\"id\":\"554b0392-5b14-41b4-83ce-2311569ffaf9\",\"type\":\"BasicTicker\"}},\"id\":\"0aee1d08-a772-43e1-8f66-8163aa247b68\",\"type\":\"Grid\"},{\"attributes\":{\"data_source\":{\"id\":\"e5f55f92-7650-48f3-98f9-21f9f8af1e57\",\"type\":\"ColumnDataSource\"},\"glyph\":{\"id\":\"5f52cc40-ed3d-4f3a-9da0-90e71ebc1320\",\"type\":\"Step\"},\"hover_glyph\":null,\"muted_glyph\":null,\"nonselection_glyph\":{\"id\":\"f90ee3c4-4eff-400d-9426-492f14af7941\",\"type\":\"Step\"},\"selection_glyph\":null,\"view\":{\"id\":\"8ac4441f-de57-47e7-a4a6-5a50a161ecea\",\"type\":\"CDSView\"}},\"id\":\"627b86ac-75cd-43d6-8b51-5e65c146b7a8\",\"type\":\"GlyphRenderer\"},{\"attributes\":{\"callback\":null,\"data\":{\"x\":[0,1,2,3,4,5,6,7,8,9,10,11,12,13,14,15,16,17,18,19,20,21,22,23,24],\"y\":[0,0.002898550724637681,0.002898550724637681,0.002898550724637681,0.002898550724637681,0.002898550724637681,0.005797101449275362,0.02318840579710145,0.04927536231884058,0.07536231884057971,0.09855072463768116,0.13043478260869565,0.17681159420289855,0.21739130434782608,0.26956521739130435,0.6318840579710145,0.8202898550724638,0.9101449275362319,0.9565217391304348,0.9768115942028985,0.9855072463768116,0.9942028985507246,0.9942028985507246,0.9971014492753624,1.0]},\"selected\":{\"id\":\"cf89cb09-8d3b-4b77-8a78-d342ac6b1379\",\"type\":\"Selection\"},\"selection_policy\":{\"id\":\"fa92cf39-c880-43b0-9f15-e73c94ddec4d\",\"type\":\"UnionRenderers\"}},\"id\":\"e5f55f92-7650-48f3-98f9-21f9f8af1e57\",\"type\":\"ColumnDataSource\"},{\"attributes\":{\"axis_label\":\"Percentile [%ile]\",\"axis_label_text_font\":\"verdana\",\"axis_label_text_font_style\":\"normal\",\"formatter\":{\"id\":\"fb95ea6b-c9bf-4ee5-a420-f99cb6b5bafa\",\"type\":\"BasicTickFormatter\"},\"major_label_text_font\":\"verdana\",\"plot\":{\"id\":\"ae4d5f97-a44d-40d5-91d7-c8988a4b902c\",\"subtype\":\"Figure\",\"type\":\"Plot\"},\"ticker\":{\"id\":\"554b0392-5b14-41b4-83ce-2311569ffaf9\",\"type\":\"BasicTicker\"}},\"id\":\"3a868a89-d2a2-4144-ae76-9d8099be1541\",\"type\":\"LinearAxis\"},{\"attributes\":{\"bottom_units\":\"screen\",\"fill_alpha\":{\"value\":0.5},\"fill_color\":{\"value\":\"lightgrey\"},\"left_units\":\"screen\",\"level\":\"overlay\",\"line_alpha\":{\"value\":1.0},\"line_color\":{\"value\":\"black\"},\"line_dash\":[4,4],\"line_width\":{\"value\":2},\"plot\":null,\"render_mode\":\"css\",\"right_units\":\"screen\",\"top_units\":\"screen\"},\"id\":\"08c590b5-f6dc-4b7e-a7b8-8b329ef03530\",\"type\":\"BoxAnnotation\"},{\"attributes\":{\"plot\":{\"id\":\"ae4d5f97-a44d-40d5-91d7-c8988a4b902c\",\"subtype\":\"Figure\",\"type\":\"Plot\"},\"ticker\":{\"id\":\"55737eba-8ac6-4897-9b0a-66865dcc5818\",\"type\":\"BasicTicker\"}},\"id\":\"a3f80159-17ba-4754-afef-00333592b118\",\"type\":\"Grid\"},{\"attributes\":{\"callback\":null},\"id\":\"b6a0de23-d757-407f-92cb-28b55847e213\",\"type\":\"DataRange1d\"},{\"attributes\":{\"line_alpha\":{\"value\":0.1},\"line_color\":{\"value\":\"#1f77b4\"},\"line_width\":{\"value\":2},\"x\":{\"field\":\"x\"},\"y\":{\"field\":\"y\"}},\"id\":\"f90ee3c4-4eff-400d-9426-492f14af7941\",\"type\":\"Step\"},{\"attributes\":{},\"id\":\"f1141756-5c07-46eb-b0ea-c3e5938514db\",\"type\":\"ResetTool\"},{\"attributes\":{},\"id\":\"7b4fa341-1a50-49a3-b994-87067577ee98\",\"type\":\"LinearScale\"},{\"attributes\":{\"below\":[{\"id\":\"bbfcd887-6885-48cc-b295-b99109f376f7\",\"type\":\"LinearAxis\"}],\"left\":[{\"id\":\"3a868a89-d2a2-4144-ae76-9d8099be1541\",\"type\":\"LinearAxis\"}],\"plot_height\":300,\"renderers\":[{\"id\":\"bbfcd887-6885-48cc-b295-b99109f376f7\",\"type\":\"LinearAxis\"},{\"id\":\"a3f80159-17ba-4754-afef-00333592b118\",\"type\":\"Grid\"},{\"id\":\"3a868a89-d2a2-4144-ae76-9d8099be1541\",\"type\":\"LinearAxis\"},{\"id\":\"0aee1d08-a772-43e1-8f66-8163aa247b68\",\"type\":\"Grid\"},{\"id\":\"08c590b5-f6dc-4b7e-a7b8-8b329ef03530\",\"type\":\"BoxAnnotation\"},{\"id\":\"627b86ac-75cd-43d6-8b51-5e65c146b7a8\",\"type\":\"GlyphRenderer\"}],\"title\":{\"id\":\"79a3266d-606e-4cae-aae7-3a490c415e88\",\"type\":\"Title\"},\"toolbar\":{\"id\":\"555b9f11-238a-4e0a-a563-0ab62e8bb280\",\"type\":\"Toolbar\"},\"x_range\":{\"id\":\"5832a0f3-2a2b-4edd-bfc0-4d4476a7c3fc\",\"type\":\"DataRange1d\"},\"x_scale\":{\"id\":\"3397f5ff-165c-4a22-98ec-b4af07cd3769\",\"type\":\"LinearScale\"},\"y_range\":{\"id\":\"b6a0de23-d757-407f-92cb-28b55847e213\",\"type\":\"DataRange1d\"},\"y_scale\":{\"id\":\"7b4fa341-1a50-49a3-b994-87067577ee98\",\"type\":\"LinearScale\"}},\"id\":\"ae4d5f97-a44d-40d5-91d7-c8988a4b902c\",\"subtype\":\"Figure\",\"type\":\"Plot\"},{\"attributes\":{},\"id\":\"79905b51-09c6-410a-89ea-ec4224095fc2\",\"type\":\"SaveTool\"},{\"attributes\":{\"source\":{\"id\":\"e5f55f92-7650-48f3-98f9-21f9f8af1e57\",\"type\":\"ColumnDataSource\"}},\"id\":\"8ac4441f-de57-47e7-a4a6-5a50a161ecea\",\"type\":\"CDSView\"},{\"attributes\":{},\"id\":\"0b78a5f1-db09-49c0-89b3-057a46f45703\",\"type\":\"PanTool\"},{\"attributes\":{\"overlay\":{\"id\":\"08c590b5-f6dc-4b7e-a7b8-8b329ef03530\",\"type\":\"BoxAnnotation\"}},\"id\":\"cd10a406-6d83-4f12-96d9-03f4f44a2a52\",\"type\":\"BoxZoomTool\"}],\"root_ids\":[\"ae4d5f97-a44d-40d5-91d7-c8988a4b902c\"]},\"title\":\"Bokeh Application\",\"version\":\"0.13.0\"}};\n",
       "  var render_items = [{\"docid\":\"f6da8d2b-57c5-4c75-b798-6f813d0ad691\",\"roots\":{\"ae4d5f97-a44d-40d5-91d7-c8988a4b902c\":\"04e39f31-a041-4c98-98c1-a303e3c6e918\"}}];\n",
       "  root.Bokeh.embed.embed_items_notebook(docs_json, render_items);\n",
       "\n",
       "  }\n",
       "  if (root.Bokeh !== undefined) {\n",
       "    embed_document(root);\n",
       "  } else {\n",
       "    var attempts = 0;\n",
       "    var timer = setInterval(function(root) {\n",
       "      if (root.Bokeh !== undefined) {\n",
       "        embed_document(root);\n",
       "        clearInterval(timer);\n",
       "      }\n",
       "      attempts++;\n",
       "      if (attempts > 100) {\n",
       "        console.log(\"Bokeh: ERROR: Unable to run BokehJS code because BokehJS library is missing\")\n",
       "        clearInterval(timer);\n",
       "      }\n",
       "    }, 10, root)\n",
       "  }\n",
       "})(window);"
      ],
      "application/vnd.bokehjs_exec.v0+json": ""
     },
     "metadata": {
      "application/vnd.bokehjs_exec.v0+json": {
       "id": "ae4d5f97-a44d-40d5-91d7-c8988a4b902c"
      }
     },
     "output_type": "display_data"
    }
   ],
   "source": [
    "#Plot cumulative distribution\n",
    "p2 = figure(plot_height=300, title=\"City area distribution\",\n",
    "           x_axis_label='City area bins'+ ' [km' + (u\"\\u00b2]\").encode('utf-8'), y_axis_label='Percentile [%ile]')\n",
    "p2.step(list(range(0,len(bin_edges))),[0]+[list(np.cumsum(hist))[x]/NumberOfCity for x in range(0,len(hist))],\n",
    "       line_color=\"#0276FD\",line_width=2)\n",
    "\n",
    "p2.xaxis.ticker = list(range(0,len(bin_edges)))\n",
    "p2.xaxis.major_label_orientation = 3.14/4\n",
    "p2.xaxis.major_label_overrides = {el:\"{:,}\".format((bin_edges[el]/100)) if (bin_edges[el]/100) < 1 else \"{:,}\".format(int(bin_edges[el]/100)) for el in range(0,len(bin_edges))}\n",
    "\n",
    "p2.title.text_font_size = '12pt'\n",
    "p2.title.text_color = \"#0276FD\"\n",
    "p2.title.text_font = \"verdana\"\n",
    "p2.yaxis.axis_label_text_font = \"verdana\"\n",
    "p2.yaxis.axis_label_text_font_style = \"normal\"\n",
    "p2.xaxis.axis_label_text_font = \"verdana\"\n",
    "p2.xaxis.axis_label_text_font_style = \"normal\"\n",
    "p2.xaxis.major_label_text_font = \"verdana\"\n",
    "p2.yaxis.major_label_text_font = \"verdana\"\n",
    "\n",
    "show(p2)"
   ]
  },
  {
   "cell_type": "markdown",
   "metadata": {},
   "source": [
    "## 3.4. Population density analysis"
   ]
  },
  {
   "cell_type": "code",
   "execution_count": 13,
   "metadata": {},
   "outputs": [
    {
     "name": "stdout",
     "output_type": "stream",
     "text": [
      "Densité totale: 149 pop/km²\n",
      "Densité moyenne: 155 pop/km²\n",
      "Densité mediane: 74 pop/km²\n",
      "Densité la plus faible: 14 pop/km²\n",
      "Densité la plus élevée: 4,195 pop/km²\n"
     ]
    }
   ],
   "source": [
    "#Statistics about area\n",
    "TotalDensity = int(TotalPopulation/TotalArea) # pop/km2\n",
    "AverageDensity = int(np.mean(AllDensityList)) # Densité moyenne \n",
    "MedianDensity = int(np.median(AllDensityList)) # Densité mediane\n",
    "MinDensity = int(np.min(AllDensityList)) # Densité la plus faible\n",
    "MaxDensity = int(np.max(AllDensityList)) # Densité la plus élevée\n",
    "\n",
    "print 'Densité totale: ' + \"{:,}\".format(TotalDensity) + ' pop/km' + (u\"\\u00b2\").encode('utf-8') \n",
    "print 'Densité moyenne: '+ \"{:,}\".format(AverageDensity) + ' pop/km' + (u\"\\u00b2\").encode('utf-8') \n",
    "print 'Densité mediane: '+ \"{:,}\".format(MedianDensity) + ' pop/km' + (u\"\\u00b2\").encode('utf-8') \n",
    "print 'Densité la plus faible: '+ \"{:,}\".format(MinDensity) + ' pop/km' + (u\"\\u00b2\").encode('utf-8') #+ ' (' + str(list(mydb[CollectionName].find({'surface': MinDensity},{'nom':1,'_id':0}))[0]['nom'].encode('utf-8')) + ')'\n",
    "print 'Densité la plus élevée: '+ \"{:,}\".format(MaxDensity) + ' pop/km' + (u\"\\u00b2\").encode('utf-8') # + ' (' + str(list(mydb[CollectionName].find({'surface': MaxDensity},{'nom':1,'_id':0}))[0]['nom'].encode('utf-8')) + ')'"
   ]
  },
  {
   "cell_type": "markdown",
   "metadata": {},
   "source": [
    "### 3.4.1 Population density histogram"
   ]
  },
  {
   "cell_type": "code",
   "execution_count": 14,
   "metadata": {
    "collapsed": true
   },
   "outputs": [],
   "source": [
    "# Prepare the data for plot\n",
    "start = Fcn_BasicStatisticalAnalysisOfPopulation.DefineMinMaxLog(MinDensity,'Min')\n",
    "stop = Fcn_BasicStatisticalAnalysisOfPopulation.DefineMinMaxLog(MaxDensity,'Max')\n",
    "bins = Fcn_BasicStatisticalAnalysisOfPopulation.CreateLogBin(start,stop)\n",
    "hist, bin_edges = np.histogram(AllDensityList, bins=bins)\n",
    "\n",
    "# Remove the first and last value when hist is 0 - Comment out this line to show forall log scale\n",
    "hist, bin_edges = Fcn_BasicStatisticalAnalysisOfPopulation.RemoveLastFirstValuesWhenZero(hist, bin_edges)"
   ]
  },
  {
   "cell_type": "code",
   "execution_count": 15,
   "metadata": {},
   "outputs": [
    {
     "data": {
      "text/html": [
       "\n",
       "\n",
       "\n",
       "\n",
       "\n",
       "\n",
       "  <div class=\"bk-root\" id=\"278a1ef2-6a64-4370-baa9-59415fe866dc\"></div>\n"
      ]
     },
     "metadata": {},
     "output_type": "display_data"
    },
    {
     "data": {
      "application/javascript": [
       "(function(root) {\n",
       "  function embed_document(root) {\n",
       "    \n",
       "  var docs_json = {\"b812080d-9252-407e-9ae6-fea3634e4909\":{\"roots\":{\"references\":[{\"attributes\":{},\"id\":\"669e553d-0290-43f2-b62c-f5379b14a5f4\",\"type\":\"SaveTool\"},{\"attributes\":{},\"id\":\"fb3cac72-faad-4638-abd5-3a04b7047a29\",\"type\":\"LinearScale\"},{\"attributes\":{\"dimension\":1,\"plot\":{\"id\":\"c59981e9-5d08-4343-9abc-40186f471b21\",\"subtype\":\"Figure\",\"type\":\"Plot\"},\"ticker\":{\"id\":\"75486cb7-1448-409b-990a-036e979ee229\",\"type\":\"BasicTicker\"}},\"id\":\"4513a44d-b641-4e31-a6d4-f7507e370e8d\",\"type\":\"Grid\"},{\"attributes\":{},\"id\":\"beaeb139-c396-44ad-afa4-bbb44721bd74\",\"type\":\"PanTool\"},{\"attributes\":{\"axis_label\":\"Count [#]\",\"axis_label_text_font\":\"verdana\",\"axis_label_text_font_style\":\"normal\",\"formatter\":{\"id\":\"addb33f1-f852-45c4-bf17-6c01dce1b4f2\",\"type\":\"BasicTickFormatter\"},\"major_label_text_font\":\"verdana\",\"plot\":{\"id\":\"c59981e9-5d08-4343-9abc-40186f471b21\",\"subtype\":\"Figure\",\"type\":\"Plot\"},\"ticker\":{\"id\":\"75486cb7-1448-409b-990a-036e979ee229\",\"type\":\"BasicTicker\"}},\"id\":\"2bbf1055-45d7-4dec-89b0-a2f0e02d9adf\",\"type\":\"LinearAxis\"},{\"attributes\":{\"active_drag\":\"auto\",\"active_inspect\":\"auto\",\"active_multi\":null,\"active_scroll\":\"auto\",\"active_tap\":\"auto\",\"tools\":[{\"id\":\"beaeb139-c396-44ad-afa4-bbb44721bd74\",\"type\":\"PanTool\"},{\"id\":\"7198aa4c-2be3-4e52-8350-20c6f93ce5de\",\"type\":\"WheelZoomTool\"},{\"id\":\"382150f4-ec8f-47cb-9c4f-617c71e9d482\",\"type\":\"BoxZoomTool\"},{\"id\":\"669e553d-0290-43f2-b62c-f5379b14a5f4\",\"type\":\"SaveTool\"},{\"id\":\"7b6ebb40-0192-4e39-ae82-494902f95a62\",\"type\":\"ResetTool\"},{\"id\":\"61556d5d-f1d0-4b43-ab44-26b297652b64\",\"type\":\"HelpTool\"}]},\"id\":\"0bf6a22d-ad1e-4804-a23d-8c7da6d54de2\",\"type\":\"Toolbar\"},{\"attributes\":{\"bottom_units\":\"screen\",\"fill_alpha\":{\"value\":0.5},\"fill_color\":{\"value\":\"lightgrey\"},\"left_units\":\"screen\",\"level\":\"overlay\",\"line_alpha\":{\"value\":1.0},\"line_color\":{\"value\":\"black\"},\"line_dash\":[4,4],\"line_width\":{\"value\":2},\"plot\":null,\"render_mode\":\"css\",\"right_units\":\"screen\",\"top_units\":\"screen\"},\"id\":\"d1da22b9-717b-42c1-a102-4e5ee33659d8\",\"type\":\"BoxAnnotation\"},{\"attributes\":{},\"id\":\"61556d5d-f1d0-4b43-ab44-26b297652b64\",\"type\":\"HelpTool\"},{\"attributes\":{},\"id\":\"addb33f1-f852-45c4-bf17-6c01dce1b4f2\",\"type\":\"BasicTickFormatter\"},{\"attributes\":{\"ticks\":[0,1,2,3,4,5,6,7,8,9,10,11,12,13,14,15,16,17,18,19,20,21,22]},\"id\":\"0198a3f9-7415-476d-a93f-0cdf4f95327a\",\"type\":\"FixedTicker\"},{\"attributes\":{},\"id\":\"7198aa4c-2be3-4e52-8350-20c6f93ce5de\",\"type\":\"WheelZoomTool\"},{\"attributes\":{\"axis_label\":\"City population density bins [pop/km\\u00b2]\",\"axis_label_text_font\":\"verdana\",\"axis_label_text_font_style\":\"normal\",\"formatter\":{\"id\":\"0d701cc2-66bc-4f53-b134-885ddbecfc86\",\"type\":\"BasicTickFormatter\"},\"major_label_orientation\":0.785,\"major_label_overrides\":{\"0\":\"10\",\"1\":\"20\",\"10\":\"200\",\"11\":\"300\",\"12\":\"400\",\"13\":\"500\",\"14\":\"600\",\"15\":\"700\",\"16\":\"800\",\"17\":\"900\",\"18\":\"1,000\",\"19\":\"2,000\",\"2\":\"30\",\"20\":\"3,000\",\"21\":\"4,000\",\"22\":\"5,000\",\"3\":\"40\",\"4\":\"50\",\"5\":\"60\",\"6\":\"70\",\"7\":\"80\",\"8\":\"90\",\"9\":\"100\"},\"major_label_text_font\":\"verdana\",\"plot\":{\"id\":\"c59981e9-5d08-4343-9abc-40186f471b21\",\"subtype\":\"Figure\",\"type\":\"Plot\"},\"ticker\":{\"id\":\"0198a3f9-7415-476d-a93f-0cdf4f95327a\",\"type\":\"FixedTicker\"}},\"id\":\"5b5eb3f6-0578-4f1e-9530-4515332376c1\",\"type\":\"LinearAxis\"},{\"attributes\":{},\"id\":\"75486cb7-1448-409b-990a-036e979ee229\",\"type\":\"BasicTicker\"},{\"attributes\":{\"source\":{\"id\":\"67177843-fb3b-4723-980a-d1357e8c45ce\",\"type\":\"ColumnDataSource\"}},\"id\":\"cf6da920-eed3-46de-b13d-ec47f5fda34a\",\"type\":\"CDSView\"},{\"attributes\":{\"plot\":{\"id\":\"c59981e9-5d08-4343-9abc-40186f471b21\",\"subtype\":\"Figure\",\"type\":\"Plot\"},\"ticker\":{\"id\":\"75ab56cd-f282-42a0-ab20-4b6afc9f9a0d\",\"type\":\"BasicTicker\"}},\"id\":\"067abbb3-55a9-4544-8553-78e0c147d8b2\",\"type\":\"Grid\"},{\"attributes\":{\"callback\":null,\"data\":{\"left\":[0,1,2,3,4,5,6,7,8,9,10,11,12,13,14,15,16,17,18,19,20,21],\"right\":[1,2,3,4,5,6,7,8,9,10,11,12,13,14,15,16,17,18,19,20,21,22],\"top\":[1,10,33,46,34,38,26,17,13,63,29,11,5,7,2,2,1,1,5,0,0,1]},\"selected\":{\"id\":\"c3499581-16eb-4930-be6c-8edb1810f6e2\",\"type\":\"Selection\"},\"selection_policy\":{\"id\":\"4af1f597-9d21-4560-a874-69c8ddcbb253\",\"type\":\"UnionRenderers\"}},\"id\":\"67177843-fb3b-4723-980a-d1357e8c45ce\",\"type\":\"ColumnDataSource\"},{\"attributes\":{},\"id\":\"7ab84fce-1413-478b-b807-c8828386f190\",\"type\":\"LinearScale\"},{\"attributes\":{},\"id\":\"c3499581-16eb-4930-be6c-8edb1810f6e2\",\"type\":\"Selection\"},{\"attributes\":{},\"id\":\"4af1f597-9d21-4560-a874-69c8ddcbb253\",\"type\":\"UnionRenderers\"},{\"attributes\":{\"overlay\":{\"id\":\"d1da22b9-717b-42c1-a102-4e5ee33659d8\",\"type\":\"BoxAnnotation\"}},\"id\":\"382150f4-ec8f-47cb-9c4f-617c71e9d482\",\"type\":\"BoxZoomTool\"},{\"attributes\":{},\"id\":\"75ab56cd-f282-42a0-ab20-4b6afc9f9a0d\",\"type\":\"BasicTicker\"},{\"attributes\":{\"bottom\":{\"value\":0},\"fill_alpha\":{\"value\":0.1},\"fill_color\":{\"value\":\"#1f77b4\"},\"left\":{\"field\":\"left\"},\"line_alpha\":{\"value\":0.1},\"line_color\":{\"value\":\"#1f77b4\"},\"right\":{\"field\":\"right\"},\"top\":{\"field\":\"top\"}},\"id\":\"b8b52cc9-e1b9-4cb2-8575-8e9716b4ddad\",\"type\":\"Quad\"},{\"attributes\":{\"data_source\":{\"id\":\"67177843-fb3b-4723-980a-d1357e8c45ce\",\"type\":\"ColumnDataSource\"},\"glyph\":{\"id\":\"424d1fde-a648-4d3e-ba50-3e1ca6dda472\",\"type\":\"Quad\"},\"hover_glyph\":null,\"muted_glyph\":null,\"nonselection_glyph\":{\"id\":\"b8b52cc9-e1b9-4cb2-8575-8e9716b4ddad\",\"type\":\"Quad\"},\"selection_glyph\":null,\"view\":{\"id\":\"cf6da920-eed3-46de-b13d-ec47f5fda34a\",\"type\":\"CDSView\"}},\"id\":\"87c4e785-f299-486e-aa40-85eab8237a53\",\"type\":\"GlyphRenderer\"},{\"attributes\":{},\"id\":\"0d701cc2-66bc-4f53-b134-885ddbecfc86\",\"type\":\"BasicTickFormatter\"},{\"attributes\":{\"callback\":null},\"id\":\"5d443cb8-2b93-4061-9110-86b7922fae19\",\"type\":\"DataRange1d\"},{\"attributes\":{},\"id\":\"7b6ebb40-0192-4e39-ae82-494902f95a62\",\"type\":\"ResetTool\"},{\"attributes\":{\"below\":[{\"id\":\"5b5eb3f6-0578-4f1e-9530-4515332376c1\",\"type\":\"LinearAxis\"}],\"left\":[{\"id\":\"2bbf1055-45d7-4dec-89b0-a2f0e02d9adf\",\"type\":\"LinearAxis\"}],\"plot_height\":300,\"renderers\":[{\"id\":\"5b5eb3f6-0578-4f1e-9530-4515332376c1\",\"type\":\"LinearAxis\"},{\"id\":\"067abbb3-55a9-4544-8553-78e0c147d8b2\",\"type\":\"Grid\"},{\"id\":\"2bbf1055-45d7-4dec-89b0-a2f0e02d9adf\",\"type\":\"LinearAxis\"},{\"id\":\"4513a44d-b641-4e31-a6d4-f7507e370e8d\",\"type\":\"Grid\"},{\"id\":\"d1da22b9-717b-42c1-a102-4e5ee33659d8\",\"type\":\"BoxAnnotation\"},{\"id\":\"87c4e785-f299-486e-aa40-85eab8237a53\",\"type\":\"GlyphRenderer\"}],\"title\":{\"id\":\"46bb27c0-d8ac-47b5-a1a1-d86dc62e1c10\",\"type\":\"Title\"},\"toolbar\":{\"id\":\"0bf6a22d-ad1e-4804-a23d-8c7da6d54de2\",\"type\":\"Toolbar\"},\"x_range\":{\"id\":\"cff638b5-cc36-43ee-a971-106a286cb2d0\",\"type\":\"DataRange1d\"},\"x_scale\":{\"id\":\"7ab84fce-1413-478b-b807-c8828386f190\",\"type\":\"LinearScale\"},\"y_range\":{\"id\":\"5d443cb8-2b93-4061-9110-86b7922fae19\",\"type\":\"DataRange1d\"},\"y_scale\":{\"id\":\"fb3cac72-faad-4638-abd5-3a04b7047a29\",\"type\":\"LinearScale\"}},\"id\":\"c59981e9-5d08-4343-9abc-40186f471b21\",\"subtype\":\"Figure\",\"type\":\"Plot\"},{\"attributes\":{\"bottom\":{\"value\":0},\"fill_color\":{\"value\":\"#0276FD\"},\"left\":{\"field\":\"left\"},\"line_color\":{\"value\":\"#5F5B5B\"},\"right\":{\"field\":\"right\"},\"top\":{\"field\":\"top\"}},\"id\":\"424d1fde-a648-4d3e-ba50-3e1ca6dda472\",\"type\":\"Quad\"},{\"attributes\":{\"callback\":null},\"id\":\"cff638b5-cc36-43ee-a971-106a286cb2d0\",\"type\":\"DataRange1d\"},{\"attributes\":{\"plot\":null,\"text\":\"City population density\",\"text_color\":{\"value\":\"#0276FD\"},\"text_font\":\"verdana\",\"text_font_size\":{\"value\":\"12pt\"}},\"id\":\"46bb27c0-d8ac-47b5-a1a1-d86dc62e1c10\",\"type\":\"Title\"}],\"root_ids\":[\"c59981e9-5d08-4343-9abc-40186f471b21\"]},\"title\":\"Bokeh Application\",\"version\":\"0.13.0\"}};\n",
       "  var render_items = [{\"docid\":\"b812080d-9252-407e-9ae6-fea3634e4909\",\"roots\":{\"c59981e9-5d08-4343-9abc-40186f471b21\":\"278a1ef2-6a64-4370-baa9-59415fe866dc\"}}];\n",
       "  root.Bokeh.embed.embed_items_notebook(docs_json, render_items);\n",
       "\n",
       "  }\n",
       "  if (root.Bokeh !== undefined) {\n",
       "    embed_document(root);\n",
       "  } else {\n",
       "    var attempts = 0;\n",
       "    var timer = setInterval(function(root) {\n",
       "      if (root.Bokeh !== undefined) {\n",
       "        embed_document(root);\n",
       "        clearInterval(timer);\n",
       "      }\n",
       "      attempts++;\n",
       "      if (attempts > 100) {\n",
       "        console.log(\"Bokeh: ERROR: Unable to run BokehJS code because BokehJS library is missing\")\n",
       "        clearInterval(timer);\n",
       "      }\n",
       "    }, 10, root)\n",
       "  }\n",
       "})(window);"
      ],
      "application/vnd.bokehjs_exec.v0+json": ""
     },
     "metadata": {
      "application/vnd.bokehjs_exec.v0+json": {
       "id": "c59981e9-5d08-4343-9abc-40186f471b21"
      }
     },
     "output_type": "display_data"
    }
   ],
   "source": [
    "# Plot histogram\n",
    "p1 = figure(plot_height=300, title=\"City population density\",\n",
    "           x_axis_label='City population density bins'+ ' [pop/km' + (u\"\\u00b2]\").encode('utf-8'), y_axis_label='Count [#]')\n",
    "p1.quad(top=list(hist), bottom=0, left=list(range(0,len(bin_edges)))[:-1], right=list(range(0,len(bin_edges)))[1:],\n",
    "       fill_color = \"#0276FD\", line_color = \"#5F5B5B\", alpha=1)\n",
    "\n",
    "p1.xaxis.ticker = list(range(0,len(bin_edges)))\n",
    "p1.xaxis.major_label_orientation = 3.14/4\n",
    "p1.xaxis.major_label_overrides = {el:\"{:,}\".format((bin_edges[el]/100)) if (bin_edges[el]) < 1 else \"{:,}\".format(int(bin_edges[el])) for el in range(0,len(bin_edges))}\n",
    "p1.title.text_font_size = '12pt'\n",
    "p1.title.text_color = \"#0276FD\"\n",
    "p1.title.text_font = \"verdana\"\n",
    "p1.yaxis.axis_label_text_font = \"verdana\"\n",
    "p1.yaxis.axis_label_text_font_style = \"normal\"\n",
    "p1.xaxis.axis_label_text_font = \"verdana\"\n",
    "p1.xaxis.axis_label_text_font_style = \"normal\"\n",
    "p1.xaxis.major_label_text_font = \"verdana\"\n",
    "p1.yaxis.major_label_text_font = \"verdana\"\n",
    "\n",
    "show(p1)"
   ]
  },
  {
   "cell_type": "markdown",
   "metadata": {},
   "source": [
    "### 3.4.2 Population density cumulative distribution"
   ]
  },
  {
   "cell_type": "code",
   "execution_count": 16,
   "metadata": {},
   "outputs": [
    {
     "data": {
      "text/html": [
       "\n",
       "\n",
       "\n",
       "\n",
       "\n",
       "\n",
       "  <div class=\"bk-root\" id=\"550d1dcf-523d-4716-88c6-f0eaf2127f02\"></div>\n"
      ]
     },
     "metadata": {},
     "output_type": "display_data"
    },
    {
     "data": {
      "application/javascript": [
       "(function(root) {\n",
       "  function embed_document(root) {\n",
       "    \n",
       "  var docs_json = {\"2164378c-c9a6-4cdf-81f5-9a32e7bbc0e4\":{\"roots\":{\"references\":[{\"attributes\":{},\"id\":\"0fd3a682-eaa8-4dd5-9010-33feb7090936\",\"type\":\"SaveTool\"},{\"attributes\":{},\"id\":\"62211fee-bdf5-4271-9562-58d1eef8a9fa\",\"type\":\"UnionRenderers\"},{\"attributes\":{},\"id\":\"89bc093a-72ad-43d5-b599-9ba87d91615f\",\"type\":\"HelpTool\"},{\"attributes\":{},\"id\":\"1a49238f-6633-4cd0-93e1-082c30ad28f8\",\"type\":\"LinearScale\"},{\"attributes\":{\"axis_label\":\"Percentile [%ile]\",\"axis_label_text_font\":\"verdana\",\"axis_label_text_font_style\":\"normal\",\"formatter\":{\"id\":\"a4afe935-322c-4cb7-bb45-bc01663875d0\",\"type\":\"BasicTickFormatter\"},\"major_label_text_font\":\"verdana\",\"plot\":{\"id\":\"20b30876-70d2-4ae9-86aa-f0b56c6393cc\",\"subtype\":\"Figure\",\"type\":\"Plot\"},\"ticker\":{\"id\":\"1abb2719-fd0d-47c0-891d-34eb6770e8a9\",\"type\":\"BasicTicker\"}},\"id\":\"bca9375a-1295-44d0-a5ed-62e609966135\",\"type\":\"LinearAxis\"},{\"attributes\":{\"active_drag\":\"auto\",\"active_inspect\":\"auto\",\"active_multi\":null,\"active_scroll\":\"auto\",\"active_tap\":\"auto\",\"tools\":[{\"id\":\"302d284f-d12e-406a-be51-549a95a7c1ca\",\"type\":\"PanTool\"},{\"id\":\"6cfc02cc-af96-47a8-9e02-900ff85b8332\",\"type\":\"WheelZoomTool\"},{\"id\":\"dc3107bc-9c18-4409-9275-86254bb78d64\",\"type\":\"BoxZoomTool\"},{\"id\":\"0fd3a682-eaa8-4dd5-9010-33feb7090936\",\"type\":\"SaveTool\"},{\"id\":\"f9a20297-7564-4805-83de-042bfce9461f\",\"type\":\"ResetTool\"},{\"id\":\"89bc093a-72ad-43d5-b599-9ba87d91615f\",\"type\":\"HelpTool\"}]},\"id\":\"42aab1a3-fa0c-4d8b-9392-6cac4209e550\",\"type\":\"Toolbar\"},{\"attributes\":{\"bottom_units\":\"screen\",\"fill_alpha\":{\"value\":0.5},\"fill_color\":{\"value\":\"lightgrey\"},\"left_units\":\"screen\",\"level\":\"overlay\",\"line_alpha\":{\"value\":1.0},\"line_color\":{\"value\":\"black\"},\"line_dash\":[4,4],\"line_width\":{\"value\":2},\"plot\":null,\"render_mode\":\"css\",\"right_units\":\"screen\",\"top_units\":\"screen\"},\"id\":\"7d3db6aa-e942-47d7-9d3b-a5e0392317d0\",\"type\":\"BoxAnnotation\"},{\"attributes\":{\"callback\":null,\"data\":{\"x\":[0,1,2,3,4,5,6,7,8,9,10,11,12,13,14,15,16,17,18,19,20,21,22],\"y\":[0,0.002898550724637681,0.03188405797101449,0.12753623188405797,0.2608695652173913,0.35942028985507246,0.46956521739130436,0.5449275362318841,0.5942028985507246,0.6318840579710145,0.8144927536231884,0.8985507246376812,0.9304347826086956,0.9449275362318841,0.9652173913043478,0.9710144927536232,0.9768115942028985,0.9797101449275363,0.9826086956521739,0.9971014492753624,0.9971014492753624,0.9971014492753624,1.0]},\"selected\":{\"id\":\"a6c3c7df-9212-4079-b057-7c6961a81ef2\",\"type\":\"Selection\"},\"selection_policy\":{\"id\":\"62211fee-bdf5-4271-9562-58d1eef8a9fa\",\"type\":\"UnionRenderers\"}},\"id\":\"39e57659-ebcc-4b35-9444-211231dc2a84\",\"type\":\"ColumnDataSource\"},{\"attributes\":{\"source\":{\"id\":\"39e57659-ebcc-4b35-9444-211231dc2a84\",\"type\":\"ColumnDataSource\"}},\"id\":\"1f32794c-672c-4830-a4ab-99256079ea3f\",\"type\":\"CDSView\"},{\"attributes\":{},\"id\":\"6cfc02cc-af96-47a8-9e02-900ff85b8332\",\"type\":\"WheelZoomTool\"},{\"attributes\":{},\"id\":\"a6c3c7df-9212-4079-b057-7c6961a81ef2\",\"type\":\"Selection\"},{\"attributes\":{\"below\":[{\"id\":\"cc5a1be1-aeeb-4b81-992b-32470a16a274\",\"type\":\"LinearAxis\"}],\"left\":[{\"id\":\"bca9375a-1295-44d0-a5ed-62e609966135\",\"type\":\"LinearAxis\"}],\"plot_height\":300,\"renderers\":[{\"id\":\"cc5a1be1-aeeb-4b81-992b-32470a16a274\",\"type\":\"LinearAxis\"},{\"id\":\"0dc42fe3-ef3c-46c6-be89-f428f0f67812\",\"type\":\"Grid\"},{\"id\":\"bca9375a-1295-44d0-a5ed-62e609966135\",\"type\":\"LinearAxis\"},{\"id\":\"5429a7fb-8afd-4fe5-9a03-ecf4163d0321\",\"type\":\"Grid\"},{\"id\":\"7d3db6aa-e942-47d7-9d3b-a5e0392317d0\",\"type\":\"BoxAnnotation\"},{\"id\":\"7432b887-d3c3-4f39-aa39-db6ffc40fd01\",\"type\":\"GlyphRenderer\"}],\"title\":{\"id\":\"426cf93e-071f-48dc-84c6-107fb54a51e8\",\"type\":\"Title\"},\"toolbar\":{\"id\":\"42aab1a3-fa0c-4d8b-9392-6cac4209e550\",\"type\":\"Toolbar\"},\"x_range\":{\"id\":\"a79220ad-fa4c-48c9-9a43-15e0cf24ee5c\",\"type\":\"DataRange1d\"},\"x_scale\":{\"id\":\"1a49238f-6633-4cd0-93e1-082c30ad28f8\",\"type\":\"LinearScale\"},\"y_range\":{\"id\":\"d3564d15-1854-4190-b155-6a61d3dee17e\",\"type\":\"DataRange1d\"},\"y_scale\":{\"id\":\"bfd379af-64e7-43f9-9b16-811541fea821\",\"type\":\"LinearScale\"}},\"id\":\"20b30876-70d2-4ae9-86aa-f0b56c6393cc\",\"subtype\":\"Figure\",\"type\":\"Plot\"},{\"attributes\":{\"axis_label\":\"City population density bins [pop/km\\u00b2]\",\"axis_label_text_font\":\"verdana\",\"axis_label_text_font_style\":\"normal\",\"formatter\":{\"id\":\"99674160-c592-44c8-892d-71c30f735026\",\"type\":\"BasicTickFormatter\"},\"major_label_orientation\":0.785,\"major_label_overrides\":{\"0\":\"0.1\",\"1\":\"0.2\",\"10\":\"2\",\"11\":\"3\",\"12\":\"4\",\"13\":\"5\",\"14\":\"6\",\"15\":\"7\",\"16\":\"8\",\"17\":\"9\",\"18\":\"10\",\"19\":\"20\",\"2\":\"0.3\",\"20\":\"30\",\"21\":\"40\",\"22\":\"50\",\"3\":\"0.4\",\"4\":\"0.5\",\"5\":\"0.6\",\"6\":\"0.7\",\"7\":\"0.8\",\"8\":\"0.9\",\"9\":\"1\"},\"major_label_text_font\":\"verdana\",\"plot\":{\"id\":\"20b30876-70d2-4ae9-86aa-f0b56c6393cc\",\"subtype\":\"Figure\",\"type\":\"Plot\"},\"ticker\":{\"id\":\"b640b272-da7f-4121-acfd-507c79c29009\",\"type\":\"FixedTicker\"}},\"id\":\"cc5a1be1-aeeb-4b81-992b-32470a16a274\",\"type\":\"LinearAxis\"},{\"attributes\":{},\"id\":\"99674160-c592-44c8-892d-71c30f735026\",\"type\":\"BasicTickFormatter\"},{\"attributes\":{\"data_source\":{\"id\":\"39e57659-ebcc-4b35-9444-211231dc2a84\",\"type\":\"ColumnDataSource\"},\"glyph\":{\"id\":\"4e5b9268-c7cd-43a6-ba32-70871cf39b84\",\"type\":\"Step\"},\"hover_glyph\":null,\"muted_glyph\":null,\"nonselection_glyph\":{\"id\":\"e068f3e8-e879-4b12-9d7a-31452e13ef91\",\"type\":\"Step\"},\"selection_glyph\":null,\"view\":{\"id\":\"1f32794c-672c-4830-a4ab-99256079ea3f\",\"type\":\"CDSView\"}},\"id\":\"7432b887-d3c3-4f39-aa39-db6ffc40fd01\",\"type\":\"GlyphRenderer\"},{\"attributes\":{\"plot\":{\"id\":\"20b30876-70d2-4ae9-86aa-f0b56c6393cc\",\"subtype\":\"Figure\",\"type\":\"Plot\"},\"ticker\":{\"id\":\"f38e983b-e5d4-4013-9c0f-035b38296ecc\",\"type\":\"BasicTicker\"}},\"id\":\"0dc42fe3-ef3c-46c6-be89-f428f0f67812\",\"type\":\"Grid\"},{\"attributes\":{},\"id\":\"302d284f-d12e-406a-be51-549a95a7c1ca\",\"type\":\"PanTool\"},{\"attributes\":{},\"id\":\"1abb2719-fd0d-47c0-891d-34eb6770e8a9\",\"type\":\"BasicTicker\"},{\"attributes\":{},\"id\":\"f9a20297-7564-4805-83de-042bfce9461f\",\"type\":\"ResetTool\"},{\"attributes\":{\"line_color\":{\"value\":\"#0276FD\"},\"line_width\":{\"value\":2},\"x\":{\"field\":\"x\"},\"y\":{\"field\":\"y\"}},\"id\":\"4e5b9268-c7cd-43a6-ba32-70871cf39b84\",\"type\":\"Step\"},{\"attributes\":{},\"id\":\"a4afe935-322c-4cb7-bb45-bc01663875d0\",\"type\":\"BasicTickFormatter\"},{\"attributes\":{\"plot\":null,\"text\":\"City population density distribution\",\"text_color\":{\"value\":\"#0276FD\"},\"text_font\":\"verdana\",\"text_font_size\":{\"value\":\"12pt\"}},\"id\":\"426cf93e-071f-48dc-84c6-107fb54a51e8\",\"type\":\"Title\"},{\"attributes\":{\"line_alpha\":{\"value\":0.1},\"line_color\":{\"value\":\"#1f77b4\"},\"line_width\":{\"value\":2},\"x\":{\"field\":\"x\"},\"y\":{\"field\":\"y\"}},\"id\":\"e068f3e8-e879-4b12-9d7a-31452e13ef91\",\"type\":\"Step\"},{\"attributes\":{},\"id\":\"bfd379af-64e7-43f9-9b16-811541fea821\",\"type\":\"LinearScale\"},{\"attributes\":{\"ticks\":[0,1,2,3,4,5,6,7,8,9,10,11,12,13,14,15,16,17,18,19,20,21,22]},\"id\":\"b640b272-da7f-4121-acfd-507c79c29009\",\"type\":\"FixedTicker\"},{\"attributes\":{\"callback\":null},\"id\":\"d3564d15-1854-4190-b155-6a61d3dee17e\",\"type\":\"DataRange1d\"},{\"attributes\":{\"callback\":null},\"id\":\"a79220ad-fa4c-48c9-9a43-15e0cf24ee5c\",\"type\":\"DataRange1d\"},{\"attributes\":{},\"id\":\"f38e983b-e5d4-4013-9c0f-035b38296ecc\",\"type\":\"BasicTicker\"},{\"attributes\":{\"dimension\":1,\"plot\":{\"id\":\"20b30876-70d2-4ae9-86aa-f0b56c6393cc\",\"subtype\":\"Figure\",\"type\":\"Plot\"},\"ticker\":{\"id\":\"1abb2719-fd0d-47c0-891d-34eb6770e8a9\",\"type\":\"BasicTicker\"}},\"id\":\"5429a7fb-8afd-4fe5-9a03-ecf4163d0321\",\"type\":\"Grid\"},{\"attributes\":{\"overlay\":{\"id\":\"7d3db6aa-e942-47d7-9d3b-a5e0392317d0\",\"type\":\"BoxAnnotation\"}},\"id\":\"dc3107bc-9c18-4409-9275-86254bb78d64\",\"type\":\"BoxZoomTool\"}],\"root_ids\":[\"20b30876-70d2-4ae9-86aa-f0b56c6393cc\"]},\"title\":\"Bokeh Application\",\"version\":\"0.13.0\"}};\n",
       "  var render_items = [{\"docid\":\"2164378c-c9a6-4cdf-81f5-9a32e7bbc0e4\",\"roots\":{\"20b30876-70d2-4ae9-86aa-f0b56c6393cc\":\"550d1dcf-523d-4716-88c6-f0eaf2127f02\"}}];\n",
       "  root.Bokeh.embed.embed_items_notebook(docs_json, render_items);\n",
       "\n",
       "  }\n",
       "  if (root.Bokeh !== undefined) {\n",
       "    embed_document(root);\n",
       "  } else {\n",
       "    var attempts = 0;\n",
       "    var timer = setInterval(function(root) {\n",
       "      if (root.Bokeh !== undefined) {\n",
       "        embed_document(root);\n",
       "        clearInterval(timer);\n",
       "      }\n",
       "      attempts++;\n",
       "      if (attempts > 100) {\n",
       "        console.log(\"Bokeh: ERROR: Unable to run BokehJS code because BokehJS library is missing\")\n",
       "        clearInterval(timer);\n",
       "      }\n",
       "    }, 10, root)\n",
       "  }\n",
       "})(window);"
      ],
      "application/vnd.bokehjs_exec.v0+json": ""
     },
     "metadata": {
      "application/vnd.bokehjs_exec.v0+json": {
       "id": "20b30876-70d2-4ae9-86aa-f0b56c6393cc"
      }
     },
     "output_type": "display_data"
    }
   ],
   "source": [
    "#Plot cumulative distribution\n",
    "p2 = figure(plot_height=300, title=\"City population density distribution\",\n",
    "           x_axis_label='City population density bins'+ ' [pop/km' + (u\"\\u00b2]\").encode('utf-8'), y_axis_label='Percentile [%ile]')\n",
    "p2.step(list(range(0,len(bin_edges))),[0]+[list(np.cumsum(hist))[x]/NumberOfCity for x in range(0,len(hist))],\n",
    "       line_color=\"#0276FD\",line_width=2)\n",
    "\n",
    "p2.xaxis.ticker = list(range(0,len(bin_edges)))\n",
    "p2.xaxis.major_label_orientation = 3.14/4\n",
    "p2.xaxis.major_label_overrides = {el:\"{:,}\".format((bin_edges[el]/100)) if (bin_edges[el]/100) < 1 else \"{:,}\".format(int(bin_edges[el]/100)) for el in range(0,len(bin_edges))}\n",
    "\n",
    "p2.title.text_font_size = '12pt'\n",
    "p2.title.text_color = \"#0276FD\"\n",
    "p2.title.text_font = \"verdana\"\n",
    "p2.yaxis.axis_label_text_font = \"verdana\"\n",
    "p2.yaxis.axis_label_text_font_style = \"normal\"\n",
    "p2.xaxis.axis_label_text_font = \"verdana\"\n",
    "p2.xaxis.axis_label_text_font_style = \"normal\"\n",
    "p2.xaxis.major_label_text_font = \"verdana\"\n",
    "p2.yaxis.major_label_text_font = \"verdana\"\n",
    "\n",
    "show(p2)"
   ]
  }
 ],
 "metadata": {
  "kernelspec": {
   "display_name": "Python 2",
   "language": "python",
   "name": "python2"
  },
  "language_info": {
   "codemirror_mode": {
    "name": "ipython",
    "version": 2
   },
   "file_extension": ".py",
   "mimetype": "text/x-python",
   "name": "python",
   "nbconvert_exporter": "python",
   "pygments_lexer": "ipython2",
   "version": "2.7.14"
  }
 },
 "nbformat": 4,
 "nbformat_minor": 2
}
