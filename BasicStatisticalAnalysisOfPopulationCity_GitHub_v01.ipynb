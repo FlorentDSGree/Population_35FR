{
 "cells": [
  {
   "cell_type": "markdown",
   "metadata": {
    "collapsed": true
   },
   "source": [
    "Created 04/02/2019\n",
    "\n",
    "Last update 04/02/2019\n",
    "\n",
    "Code that analyse the population of Ille-et-Vilaine"
   ]
  },
  {
   "cell_type": "markdown",
   "metadata": {},
   "source": [
    "# 1. Import library"
   ]
  },
  {
   "cell_type": "code",
   "execution_count": 1,
   "metadata": {},
   "outputs": [
    {
     "data": {
      "text/html": [
       "\n",
       "    <div class=\"bk-root\">\n",
       "        <a href=\"https://bokeh.pydata.org\" target=\"_blank\" class=\"bk-logo bk-logo-small bk-logo-notebook\"></a>\n",
       "        <span id=\"3301f3e2-2580-4cce-a8e3-c5aa9d5d8760\">Loading BokehJS ...</span>\n",
       "    </div>"
      ]
     },
     "metadata": {},
     "output_type": "display_data"
    },
    {
     "data": {
      "application/javascript": [
       "\n",
       "(function(root) {\n",
       "  function now() {\n",
       "    return new Date();\n",
       "  }\n",
       "\n",
       "  var force = true;\n",
       "\n",
       "  if (typeof (root._bokeh_onload_callbacks) === \"undefined\" || force === true) {\n",
       "    root._bokeh_onload_callbacks = [];\n",
       "    root._bokeh_is_loading = undefined;\n",
       "  }\n",
       "\n",
       "  var JS_MIME_TYPE = 'application/javascript';\n",
       "  var HTML_MIME_TYPE = 'text/html';\n",
       "  var EXEC_MIME_TYPE = 'application/vnd.bokehjs_exec.v0+json';\n",
       "  var CLASS_NAME = 'output_bokeh rendered_html';\n",
       "\n",
       "  /**\n",
       "   * Render data to the DOM node\n",
       "   */\n",
       "  function render(props, node) {\n",
       "    var script = document.createElement(\"script\");\n",
       "    node.appendChild(script);\n",
       "  }\n",
       "\n",
       "  /**\n",
       "   * Handle when an output is cleared or removed\n",
       "   */\n",
       "  function handleClearOutput(event, handle) {\n",
       "    var cell = handle.cell;\n",
       "\n",
       "    var id = cell.output_area._bokeh_element_id;\n",
       "    var server_id = cell.output_area._bokeh_server_id;\n",
       "    // Clean up Bokeh references\n",
       "    if (id != null && id in Bokeh.index) {\n",
       "      Bokeh.index[id].model.document.clear();\n",
       "      delete Bokeh.index[id];\n",
       "    }\n",
       "\n",
       "    if (server_id !== undefined) {\n",
       "      // Clean up Bokeh references\n",
       "      var cmd = \"from bokeh.io.state import curstate; print(curstate().uuid_to_server['\" + server_id + \"'].get_sessions()[0].document.roots[0]._id)\";\n",
       "      cell.notebook.kernel.execute(cmd, {\n",
       "        iopub: {\n",
       "          output: function(msg) {\n",
       "            var id = msg.content.text.trim();\n",
       "            if (id in Bokeh.index) {\n",
       "              Bokeh.index[id].model.document.clear();\n",
       "              delete Bokeh.index[id];\n",
       "            }\n",
       "          }\n",
       "        }\n",
       "      });\n",
       "      // Destroy server and session\n",
       "      var cmd = \"import bokeh.io.notebook as ion; ion.destroy_server('\" + server_id + \"')\";\n",
       "      cell.notebook.kernel.execute(cmd);\n",
       "    }\n",
       "  }\n",
       "\n",
       "  /**\n",
       "   * Handle when a new output is added\n",
       "   */\n",
       "  function handleAddOutput(event, handle) {\n",
       "    var output_area = handle.output_area;\n",
       "    var output = handle.output;\n",
       "\n",
       "    // limit handleAddOutput to display_data with EXEC_MIME_TYPE content only\n",
       "    if ((output.output_type != \"display_data\") || (!output.data.hasOwnProperty(EXEC_MIME_TYPE))) {\n",
       "      return\n",
       "    }\n",
       "\n",
       "    var toinsert = output_area.element.find(\".\" + CLASS_NAME.split(' ')[0]);\n",
       "\n",
       "    if (output.metadata[EXEC_MIME_TYPE][\"id\"] !== undefined) {\n",
       "      toinsert[toinsert.length - 1].firstChild.textContent = output.data[JS_MIME_TYPE];\n",
       "      // store reference to embed id on output_area\n",
       "      output_area._bokeh_element_id = output.metadata[EXEC_MIME_TYPE][\"id\"];\n",
       "    }\n",
       "    if (output.metadata[EXEC_MIME_TYPE][\"server_id\"] !== undefined) {\n",
       "      var bk_div = document.createElement(\"div\");\n",
       "      bk_div.innerHTML = output.data[HTML_MIME_TYPE];\n",
       "      var script_attrs = bk_div.children[0].attributes;\n",
       "      for (var i = 0; i < script_attrs.length; i++) {\n",
       "        toinsert[toinsert.length - 1].firstChild.setAttribute(script_attrs[i].name, script_attrs[i].value);\n",
       "      }\n",
       "      // store reference to server id on output_area\n",
       "      output_area._bokeh_server_id = output.metadata[EXEC_MIME_TYPE][\"server_id\"];\n",
       "    }\n",
       "  }\n",
       "\n",
       "  function register_renderer(events, OutputArea) {\n",
       "\n",
       "    function append_mime(data, metadata, element) {\n",
       "      // create a DOM node to render to\n",
       "      var toinsert = this.create_output_subarea(\n",
       "        metadata,\n",
       "        CLASS_NAME,\n",
       "        EXEC_MIME_TYPE\n",
       "      );\n",
       "      this.keyboard_manager.register_events(toinsert);\n",
       "      // Render to node\n",
       "      var props = {data: data, metadata: metadata[EXEC_MIME_TYPE]};\n",
       "      render(props, toinsert[toinsert.length - 1]);\n",
       "      element.append(toinsert);\n",
       "      return toinsert\n",
       "    }\n",
       "\n",
       "    /* Handle when an output is cleared or removed */\n",
       "    events.on('clear_output.CodeCell', handleClearOutput);\n",
       "    events.on('delete.Cell', handleClearOutput);\n",
       "\n",
       "    /* Handle when a new output is added */\n",
       "    events.on('output_added.OutputArea', handleAddOutput);\n",
       "\n",
       "    /**\n",
       "     * Register the mime type and append_mime function with output_area\n",
       "     */\n",
       "    OutputArea.prototype.register_mime_type(EXEC_MIME_TYPE, append_mime, {\n",
       "      /* Is output safe? */\n",
       "      safe: true,\n",
       "      /* Index of renderer in `output_area.display_order` */\n",
       "      index: 0\n",
       "    });\n",
       "  }\n",
       "\n",
       "  // register the mime type if in Jupyter Notebook environment and previously unregistered\n",
       "  if (root.Jupyter !== undefined) {\n",
       "    var events = require('base/js/events');\n",
       "    var OutputArea = require('notebook/js/outputarea').OutputArea;\n",
       "\n",
       "    if (OutputArea.prototype.mime_types().indexOf(EXEC_MIME_TYPE) == -1) {\n",
       "      register_renderer(events, OutputArea);\n",
       "    }\n",
       "  }\n",
       "\n",
       "  \n",
       "  if (typeof (root._bokeh_timeout) === \"undefined\" || force === true) {\n",
       "    root._bokeh_timeout = Date.now() + 5000;\n",
       "    root._bokeh_failed_load = false;\n",
       "  }\n",
       "\n",
       "  var NB_LOAD_WARNING = {'data': {'text/html':\n",
       "     \"<div style='background-color: #fdd'>\\n\"+\n",
       "     \"<p>\\n\"+\n",
       "     \"BokehJS does not appear to have successfully loaded. If loading BokehJS from CDN, this \\n\"+\n",
       "     \"may be due to a slow or bad network connection. Possible fixes:\\n\"+\n",
       "     \"</p>\\n\"+\n",
       "     \"<ul>\\n\"+\n",
       "     \"<li>re-rerun `output_notebook()` to attempt to load from CDN again, or</li>\\n\"+\n",
       "     \"<li>use INLINE resources instead, as so:</li>\\n\"+\n",
       "     \"</ul>\\n\"+\n",
       "     \"<code>\\n\"+\n",
       "     \"from bokeh.resources import INLINE\\n\"+\n",
       "     \"output_notebook(resources=INLINE)\\n\"+\n",
       "     \"</code>\\n\"+\n",
       "     \"</div>\"}};\n",
       "\n",
       "  function display_loaded() {\n",
       "    var el = document.getElementById(\"3301f3e2-2580-4cce-a8e3-c5aa9d5d8760\");\n",
       "    if (el != null) {\n",
       "      el.textContent = \"BokehJS is loading...\";\n",
       "    }\n",
       "    if (root.Bokeh !== undefined) {\n",
       "      if (el != null) {\n",
       "        el.textContent = \"BokehJS \" + root.Bokeh.version + \" successfully loaded.\";\n",
       "      }\n",
       "    } else if (Date.now() < root._bokeh_timeout) {\n",
       "      setTimeout(display_loaded, 100)\n",
       "    }\n",
       "  }\n",
       "\n",
       "\n",
       "  function run_callbacks() {\n",
       "    try {\n",
       "      root._bokeh_onload_callbacks.forEach(function(callback) { callback() });\n",
       "    }\n",
       "    finally {\n",
       "      delete root._bokeh_onload_callbacks\n",
       "    }\n",
       "    console.info(\"Bokeh: all callbacks have finished\");\n",
       "  }\n",
       "\n",
       "  function load_libs(js_urls, callback) {\n",
       "    root._bokeh_onload_callbacks.push(callback);\n",
       "    if (root._bokeh_is_loading > 0) {\n",
       "      console.log(\"Bokeh: BokehJS is being loaded, scheduling callback at\", now());\n",
       "      return null;\n",
       "    }\n",
       "    if (js_urls == null || js_urls.length === 0) {\n",
       "      run_callbacks();\n",
       "      return null;\n",
       "    }\n",
       "    console.log(\"Bokeh: BokehJS not loaded, scheduling load and callback at\", now());\n",
       "    root._bokeh_is_loading = js_urls.length;\n",
       "    for (var i = 0; i < js_urls.length; i++) {\n",
       "      var url = js_urls[i];\n",
       "      var s = document.createElement('script');\n",
       "      s.src = url;\n",
       "      s.async = false;\n",
       "      s.onreadystatechange = s.onload = function() {\n",
       "        root._bokeh_is_loading--;\n",
       "        if (root._bokeh_is_loading === 0) {\n",
       "          console.log(\"Bokeh: all BokehJS libraries loaded\");\n",
       "          run_callbacks()\n",
       "        }\n",
       "      };\n",
       "      s.onerror = function() {\n",
       "        console.warn(\"failed to load library \" + url);\n",
       "      };\n",
       "      console.log(\"Bokeh: injecting script tag for BokehJS library: \", url);\n",
       "      document.getElementsByTagName(\"head\")[0].appendChild(s);\n",
       "    }\n",
       "  };var element = document.getElementById(\"3301f3e2-2580-4cce-a8e3-c5aa9d5d8760\");\n",
       "  if (element == null) {\n",
       "    console.log(\"Bokeh: ERROR: autoload.js configured with elementid '3301f3e2-2580-4cce-a8e3-c5aa9d5d8760' but no matching script tag was found. \")\n",
       "    return false;\n",
       "  }\n",
       "\n",
       "  var js_urls = [\"https://cdn.pydata.org/bokeh/release/bokeh-0.13.0.min.js\", \"https://cdn.pydata.org/bokeh/release/bokeh-widgets-0.13.0.min.js\", \"https://cdn.pydata.org/bokeh/release/bokeh-tables-0.13.0.min.js\", \"https://cdn.pydata.org/bokeh/release/bokeh-gl-0.13.0.min.js\"];\n",
       "\n",
       "  var inline_js = [\n",
       "    function(Bokeh) {\n",
       "      Bokeh.set_log_level(\"info\");\n",
       "    },\n",
       "    \n",
       "    function(Bokeh) {\n",
       "      \n",
       "    },\n",
       "    function(Bokeh) {\n",
       "      console.log(\"Bokeh: injecting CSS: https://cdn.pydata.org/bokeh/release/bokeh-0.13.0.min.css\");\n",
       "      Bokeh.embed.inject_css(\"https://cdn.pydata.org/bokeh/release/bokeh-0.13.0.min.css\");\n",
       "      console.log(\"Bokeh: injecting CSS: https://cdn.pydata.org/bokeh/release/bokeh-widgets-0.13.0.min.css\");\n",
       "      Bokeh.embed.inject_css(\"https://cdn.pydata.org/bokeh/release/bokeh-widgets-0.13.0.min.css\");\n",
       "      console.log(\"Bokeh: injecting CSS: https://cdn.pydata.org/bokeh/release/bokeh-tables-0.13.0.min.css\");\n",
       "      Bokeh.embed.inject_css(\"https://cdn.pydata.org/bokeh/release/bokeh-tables-0.13.0.min.css\");\n",
       "    }\n",
       "  ];\n",
       "\n",
       "  function run_inline_js() {\n",
       "    \n",
       "    if ((root.Bokeh !== undefined) || (force === true)) {\n",
       "      for (var i = 0; i < inline_js.length; i++) {\n",
       "        inline_js[i].call(root, root.Bokeh);\n",
       "      }if (force === true) {\n",
       "        display_loaded();\n",
       "      }} else if (Date.now() < root._bokeh_timeout) {\n",
       "      setTimeout(run_inline_js, 100);\n",
       "    } else if (!root._bokeh_failed_load) {\n",
       "      console.log(\"Bokeh: BokehJS failed to load within specified timeout.\");\n",
       "      root._bokeh_failed_load = true;\n",
       "    } else if (force !== true) {\n",
       "      var cell = $(document.getElementById(\"3301f3e2-2580-4cce-a8e3-c5aa9d5d8760\")).parents('.cell').data().cell;\n",
       "      cell.output_area.append_execute_result(NB_LOAD_WARNING)\n",
       "    }\n",
       "\n",
       "  }\n",
       "\n",
       "  if (root._bokeh_is_loading === 0) {\n",
       "    console.log(\"Bokeh: BokehJS loaded, going straight to plotting\");\n",
       "    run_inline_js();\n",
       "  } else {\n",
       "    load_libs(js_urls, function() {\n",
       "      console.log(\"Bokeh: BokehJS plotting callback run at\", now());\n",
       "      run_inline_js();\n",
       "    });\n",
       "  }\n",
       "}(window));"
      ],
      "application/vnd.bokehjs_load.v0+json": "\n(function(root) {\n  function now() {\n    return new Date();\n  }\n\n  var force = true;\n\n  if (typeof (root._bokeh_onload_callbacks) === \"undefined\" || force === true) {\n    root._bokeh_onload_callbacks = [];\n    root._bokeh_is_loading = undefined;\n  }\n\n  \n\n  \n  if (typeof (root._bokeh_timeout) === \"undefined\" || force === true) {\n    root._bokeh_timeout = Date.now() + 5000;\n    root._bokeh_failed_load = false;\n  }\n\n  var NB_LOAD_WARNING = {'data': {'text/html':\n     \"<div style='background-color: #fdd'>\\n\"+\n     \"<p>\\n\"+\n     \"BokehJS does not appear to have successfully loaded. If loading BokehJS from CDN, this \\n\"+\n     \"may be due to a slow or bad network connection. Possible fixes:\\n\"+\n     \"</p>\\n\"+\n     \"<ul>\\n\"+\n     \"<li>re-rerun `output_notebook()` to attempt to load from CDN again, or</li>\\n\"+\n     \"<li>use INLINE resources instead, as so:</li>\\n\"+\n     \"</ul>\\n\"+\n     \"<code>\\n\"+\n     \"from bokeh.resources import INLINE\\n\"+\n     \"output_notebook(resources=INLINE)\\n\"+\n     \"</code>\\n\"+\n     \"</div>\"}};\n\n  function display_loaded() {\n    var el = document.getElementById(\"3301f3e2-2580-4cce-a8e3-c5aa9d5d8760\");\n    if (el != null) {\n      el.textContent = \"BokehJS is loading...\";\n    }\n    if (root.Bokeh !== undefined) {\n      if (el != null) {\n        el.textContent = \"BokehJS \" + root.Bokeh.version + \" successfully loaded.\";\n      }\n    } else if (Date.now() < root._bokeh_timeout) {\n      setTimeout(display_loaded, 100)\n    }\n  }\n\n\n  function run_callbacks() {\n    try {\n      root._bokeh_onload_callbacks.forEach(function(callback) { callback() });\n    }\n    finally {\n      delete root._bokeh_onload_callbacks\n    }\n    console.info(\"Bokeh: all callbacks have finished\");\n  }\n\n  function load_libs(js_urls, callback) {\n    root._bokeh_onload_callbacks.push(callback);\n    if (root._bokeh_is_loading > 0) {\n      console.log(\"Bokeh: BokehJS is being loaded, scheduling callback at\", now());\n      return null;\n    }\n    if (js_urls == null || js_urls.length === 0) {\n      run_callbacks();\n      return null;\n    }\n    console.log(\"Bokeh: BokehJS not loaded, scheduling load and callback at\", now());\n    root._bokeh_is_loading = js_urls.length;\n    for (var i = 0; i < js_urls.length; i++) {\n      var url = js_urls[i];\n      var s = document.createElement('script');\n      s.src = url;\n      s.async = false;\n      s.onreadystatechange = s.onload = function() {\n        root._bokeh_is_loading--;\n        if (root._bokeh_is_loading === 0) {\n          console.log(\"Bokeh: all BokehJS libraries loaded\");\n          run_callbacks()\n        }\n      };\n      s.onerror = function() {\n        console.warn(\"failed to load library \" + url);\n      };\n      console.log(\"Bokeh: injecting script tag for BokehJS library: \", url);\n      document.getElementsByTagName(\"head\")[0].appendChild(s);\n    }\n  };var element = document.getElementById(\"3301f3e2-2580-4cce-a8e3-c5aa9d5d8760\");\n  if (element == null) {\n    console.log(\"Bokeh: ERROR: autoload.js configured with elementid '3301f3e2-2580-4cce-a8e3-c5aa9d5d8760' but no matching script tag was found. \")\n    return false;\n  }\n\n  var js_urls = [\"https://cdn.pydata.org/bokeh/release/bokeh-0.13.0.min.js\", \"https://cdn.pydata.org/bokeh/release/bokeh-widgets-0.13.0.min.js\", \"https://cdn.pydata.org/bokeh/release/bokeh-tables-0.13.0.min.js\", \"https://cdn.pydata.org/bokeh/release/bokeh-gl-0.13.0.min.js\"];\n\n  var inline_js = [\n    function(Bokeh) {\n      Bokeh.set_log_level(\"info\");\n    },\n    \n    function(Bokeh) {\n      \n    },\n    function(Bokeh) {\n      console.log(\"Bokeh: injecting CSS: https://cdn.pydata.org/bokeh/release/bokeh-0.13.0.min.css\");\n      Bokeh.embed.inject_css(\"https://cdn.pydata.org/bokeh/release/bokeh-0.13.0.min.css\");\n      console.log(\"Bokeh: injecting CSS: https://cdn.pydata.org/bokeh/release/bokeh-widgets-0.13.0.min.css\");\n      Bokeh.embed.inject_css(\"https://cdn.pydata.org/bokeh/release/bokeh-widgets-0.13.0.min.css\");\n      console.log(\"Bokeh: injecting CSS: https://cdn.pydata.org/bokeh/release/bokeh-tables-0.13.0.min.css\");\n      Bokeh.embed.inject_css(\"https://cdn.pydata.org/bokeh/release/bokeh-tables-0.13.0.min.css\");\n    }\n  ];\n\n  function run_inline_js() {\n    \n    if ((root.Bokeh !== undefined) || (force === true)) {\n      for (var i = 0; i < inline_js.length; i++) {\n        inline_js[i].call(root, root.Bokeh);\n      }if (force === true) {\n        display_loaded();\n      }} else if (Date.now() < root._bokeh_timeout) {\n      setTimeout(run_inline_js, 100);\n    } else if (!root._bokeh_failed_load) {\n      console.log(\"Bokeh: BokehJS failed to load within specified timeout.\");\n      root._bokeh_failed_load = true;\n    } else if (force !== true) {\n      var cell = $(document.getElementById(\"3301f3e2-2580-4cce-a8e3-c5aa9d5d8760\")).parents('.cell').data().cell;\n      cell.output_area.append_execute_result(NB_LOAD_WARNING)\n    }\n\n  }\n\n  if (root._bokeh_is_loading === 0) {\n    console.log(\"Bokeh: BokehJS loaded, going straight to plotting\");\n    run_inline_js();\n  } else {\n    load_libs(js_urls, function() {\n      console.log(\"Bokeh: BokehJS plotting callback run at\", now());\n      run_inline_js();\n    });\n  }\n}(window));"
     },
     "metadata": {},
     "output_type": "display_data"
    }
   ],
   "source": [
    "import pymongo\n",
    "from __future__ import division\n",
    "import numpy as np\n",
    "import pandas as pd\n",
    "from bokeh.plotting import figure\n",
    "from bokeh.io import show, output_notebook\n",
    "from bokeh.layouts import row\n",
    "output_notebook() # To display plot into Jupyter notebook\n",
    "import Fcn_BasicStatisticalAnalysisOfPopulation"
   ]
  },
  {
   "cell_type": "markdown",
   "metadata": {},
   "source": [
    "# 2. Data loading"
   ]
  },
  {
   "cell_type": "code",
   "execution_count": 2,
   "metadata": {
    "collapsed": true
   },
   "outputs": [],
   "source": [
    "# User inputs\n",
    "DatabaseName = 'GeoApiGouv'\n",
    "CollectionName = 'PopulationCity'\n",
    "\n",
    "# Connection to MongoDB\n",
    "myclient = pymongo.MongoClient(\"mongodb://localhost:27017/\")\n",
    "mydb = myclient[DatabaseName]\n",
    "\n",
    "#Query all documents from MongoD\n",
    "QueryMongo = list(mydb[CollectionName].find({}))"
   ]
  },
  {
   "cell_type": "markdown",
   "metadata": {},
   "source": [
    "# 3. Statistical analysis"
   ]
  },
  {
   "cell_type": "markdown",
   "metadata": {},
   "source": [
    "## 3.1. Arrange data loaded"
   ]
  },
  {
   "cell_type": "code",
   "execution_count": 3,
   "metadata": {
    "collapsed": true
   },
   "outputs": [],
   "source": [
    "NumberOfCity      = len(QueryMongo)\n",
    "AllCityNames      = [QueryMongo[x]['nom'] for x in range(0,NumberOfCity)]\n",
    "AllPopulationList = [QueryMongo[x]['population'] for x in range(0,NumberOfCity)]\n",
    "AllAreaList       = [QueryMongo[x]['surface'] for x in range(0,NumberOfCity)]\n",
    "AllDensityList    = np.array(AllPopulationList)/np.array(AllAreaList)*100"
   ]
  },
  {
   "cell_type": "code",
   "execution_count": 4,
   "metadata": {},
   "outputs": [
    {
     "data": {
      "text/html": [
       "<div>\n",
       "<style>\n",
       "    .dataframe thead tr:only-child th {\n",
       "        text-align: right;\n",
       "    }\n",
       "\n",
       "    .dataframe thead th {\n",
       "        text-align: left;\n",
       "    }\n",
       "\n",
       "    .dataframe tbody tr th {\n",
       "        vertical-align: top;\n",
       "    }\n",
       "</style>\n",
       "<table border=\"1\" class=\"dataframe\">\n",
       "  <thead>\n",
       "    <tr style=\"text-align: right;\">\n",
       "      <th></th>\n",
       "      <th>Area</th>\n",
       "      <th>City name</th>\n",
       "      <th>Density</th>\n",
       "      <th>Population</th>\n",
       "    </tr>\n",
       "  </thead>\n",
       "  <tbody>\n",
       "    <tr>\n",
       "      <th>227</th>\n",
       "      <td>5038</td>\n",
       "      <td>Rennes</td>\n",
       "      <td>4195.573640</td>\n",
       "      <td>211373</td>\n",
       "    </tr>\n",
       "    <tr>\n",
       "      <th>111</th>\n",
       "      <td>1043</td>\n",
       "      <td>Fougères</td>\n",
       "      <td>1933.844679</td>\n",
       "      <td>20170</td>\n",
       "    </tr>\n",
       "    <tr>\n",
       "      <th>21</th>\n",
       "      <td>56</td>\n",
       "      <td>Bécherel</td>\n",
       "      <td>1289.285714</td>\n",
       "      <td>722</td>\n",
       "    </tr>\n",
       "  </tbody>\n",
       "</table>\n",
       "</div>"
      ],
      "text/plain": [
       "     Area City name      Density  Population\n",
       "227  5038    Rennes  4195.573640      211373\n",
       "111  1043  Fougères  1933.844679       20170\n",
       "21     56  Bécherel  1289.285714         722"
      ]
     },
     "execution_count": 4,
     "metadata": {},
     "output_type": "execute_result"
    }
   ],
   "source": [
    "#Following to get the top 3 and bottom 3 - Change \"by=\" and \"ascending=\" accordingly\n",
    "df = pd.DataFrame({\"City name\":AllCityNames,\"Population\":AllPopulationList,\"Area\":AllAreaList,\"Density\":AllDensityList})\n",
    "df.sort_values(by=['Density'], ascending = False).head(3)"
   ]
  },
  {
   "cell_type": "markdown",
   "metadata": {},
   "source": [
    "## 3.2. Population analysis"
   ]
  },
  {
   "cell_type": "code",
   "execution_count": 5,
   "metadata": {},
   "outputs": [
    {
     "name": "stdout",
     "output_type": "stream",
     "text": [
      "Nombre de ville: 345\n",
      "Population totale: 1,019,923\n",
      "Population moyenne par ville: 2,956\n",
      "Population mediane par ville: 1,314\n",
      "Population la plus faible: 107 (Bléruais)\n",
      "Population la plus élevée: 211,373 (Rennes)\n"
     ]
    }
   ],
   "source": [
    "TotalPopulation   = sum(AllPopulationList)\n",
    "AveragePopulation = int(np.mean(AllPopulationList)) # Population moyenne \n",
    "MedianPopulation  = int(np.median(AllPopulationList)) # Population mediane\n",
    "MinPopulation     = np.min(AllPopulationList) # Population la plus faible\n",
    "MaxPopulation     = np.max(AllPopulationList) # Population la plus élevée\n",
    "\n",
    "print 'Nombre de ville: ' + \"{:,}\".format(NumberOfCity)\n",
    "print 'Population totale: ' + \"{:,}\".format(TotalPopulation)\n",
    "print 'Population moyenne par ville: '+ \"{:,}\".format(AveragePopulation)\n",
    "print 'Population mediane par ville: '+ \"{:,}\".format(MedianPopulation)\n",
    "print 'Population la plus faible: '+ \"{:,}\".format(MinPopulation) + ' (' + str(list(mydb[CollectionName].find({'population': MinPopulation},{'nom':1,'_id':0}))[0]['nom'].encode('utf-8')) + ')'\n",
    "print 'Population la plus élevée: '+ \"{:,}\".format(MaxPopulation) + ' (' + str(list(mydb[CollectionName].find({'population': MaxPopulation},{'nom':1,'_id':0}))[0]['nom'].encode('utf-8')) + ')'"
   ]
  },
  {
   "cell_type": "markdown",
   "metadata": {},
   "source": [
    "### 3.2.1. Population histogram"
   ]
  },
  {
   "cell_type": "code",
   "execution_count": 6,
   "metadata": {
    "collapsed": true
   },
   "outputs": [],
   "source": [
    "# Prepare the data for plot\n",
    "start = Fcn_BasicStatisticalAnalysisOfPopulation.DefineMinMaxLog(MinPopulation,'Min')\n",
    "stop = Fcn_BasicStatisticalAnalysisOfPopulation.DefineMinMaxLog(MaxPopulation,'Max')\n",
    "bins = Fcn_BasicStatisticalAnalysisOfPopulation.CreateLogBin(start,stop)\n",
    "hist, bin_edges = np.histogram(AllPopulationList, bins=bins)\n",
    "\n",
    "# Remove the first and last value when hist is 0 - Comment out this line to show forall log scale\n",
    "hist, bin_edges = Fcn_BasicStatisticalAnalysisOfPopulation.RemoveLastFirstValuesWhenZero(hist, bin_edges)"
   ]
  },
  {
   "cell_type": "code",
   "execution_count": 7,
   "metadata": {},
   "outputs": [
    {
     "data": {
      "text/html": [
       "\n",
       "\n",
       "\n",
       "\n",
       "\n",
       "\n",
       "  <div class=\"bk-root\" id=\"13fff1a1-201f-4962-99cc-ea1e900a4b54\"></div>\n"
      ]
     },
     "metadata": {},
     "output_type": "display_data"
    },
    {
     "data": {
      "application/javascript": [
       "(function(root) {\n",
       "  function embed_document(root) {\n",
       "    \n",
       "  var docs_json = {\"bedf6b04-1545-41bb-b514-a84676683cb5\":{\"roots\":{\"references\":[{\"attributes\":{\"callback\":null,\"data\":{\"left\":[0,1,2,3,4,5,6,7,8,9,10,11,12,13,14,15,16,17,18,19,20,21,22,23,24,25,26,27,28],\"right\":[1,2,3,4,5,6,7,8,9,10,11,12,13,14,15,16,17,18,19,20,21,22,23,24,25,26,27,28,29],\"top\":[5,9,25,7,18,19,13,17,15,105,37,22,17,7,6,7,3,3,7,1,0,1,0,0,0,0,0,0,1]},\"selected\":{\"id\":\"c7a547eb-4e6d-4e74-9555-698b93699ecd\",\"type\":\"Selection\"},\"selection_policy\":{\"id\":\"dfb27f16-1669-432c-a661-688a7ff7c4b9\",\"type\":\"UnionRenderers\"}},\"id\":\"6f9f4621-d143-47b6-ba82-db750ca0895b\",\"type\":\"ColumnDataSource\"},{\"attributes\":{\"ticks\":[0,1,2,3,4,5,6,7,8,9,10,11,12,13,14,15,16,17,18,19,20,21,22,23,24,25,26,27,28,29]},\"id\":\"900ab3dd-cc44-41ba-a139-6af0e6416ad4\",\"type\":\"FixedTicker\"},{\"attributes\":{\"bottom\":{\"value\":0},\"fill_alpha\":{\"value\":0.1},\"fill_color\":{\"value\":\"#1f77b4\"},\"left\":{\"field\":\"left\"},\"line_alpha\":{\"value\":0.1},\"line_color\":{\"value\":\"#1f77b4\"},\"right\":{\"field\":\"right\"},\"top\":{\"field\":\"top\"}},\"id\":\"1be6a52c-4334-49e5-bca8-4e3eac0c3e65\",\"type\":\"Quad\"},{\"attributes\":{},\"id\":\"37f7be51-9142-4b77-9565-ae0e73a0f772\",\"type\":\"PanTool\"},{\"attributes\":{},\"id\":\"d8217400-54ea-465f-88a6-e04bf14065ad\",\"type\":\"WheelZoomTool\"},{\"attributes\":{\"dimension\":1,\"plot\":{\"id\":\"3c68a44f-1ac5-4069-8831-c9aea5bcfb1f\",\"subtype\":\"Figure\",\"type\":\"Plot\"},\"ticker\":{\"id\":\"d5ae5042-58b1-415c-9035-bf4a3eab42a4\",\"type\":\"BasicTicker\"}},\"id\":\"3d2a1be8-11b1-42f5-a5b1-e7afe46a5f66\",\"type\":\"Grid\"},{\"attributes\":{},\"id\":\"44896ce4-0869-410d-8304-9a5dfa1a7dab\",\"type\":\"ResetTool\"},{\"attributes\":{\"plot\":null,\"text\":\"City population\",\"text_color\":{\"value\":\"#0276FD\"},\"text_font\":\"verdana\",\"text_font_size\":{\"value\":\"12pt\"}},\"id\":\"3dcfaf29-f943-4bca-9ce1-88e688930749\",\"type\":\"Title\"},{\"attributes\":{},\"id\":\"1fbb055b-26f5-4b89-9b91-853e27a26488\",\"type\":\"LinearScale\"},{\"attributes\":{\"bottom\":{\"value\":0},\"fill_color\":{\"value\":\"#0276FD\"},\"left\":{\"field\":\"left\"},\"line_color\":{\"value\":\"#5F5B5B\"},\"right\":{\"field\":\"right\"},\"top\":{\"field\":\"top\"}},\"id\":\"c11ffbd0-e85b-4888-a151-35e5655bc724\",\"type\":\"Quad\"},{\"attributes\":{\"below\":[{\"id\":\"9931a7f9-b8a4-462e-943a-3f14fb3799a0\",\"type\":\"LinearAxis\"}],\"left\":[{\"id\":\"7bf29fea-9750-4230-95ba-499fa06b9505\",\"type\":\"LinearAxis\"}],\"plot_height\":300,\"renderers\":[{\"id\":\"9931a7f9-b8a4-462e-943a-3f14fb3799a0\",\"type\":\"LinearAxis\"},{\"id\":\"af8e55c8-d5cf-4e95-97fc-b8636fc58caa\",\"type\":\"Grid\"},{\"id\":\"7bf29fea-9750-4230-95ba-499fa06b9505\",\"type\":\"LinearAxis\"},{\"id\":\"3d2a1be8-11b1-42f5-a5b1-e7afe46a5f66\",\"type\":\"Grid\"},{\"id\":\"67e0a7a3-0ca1-4301-ac0e-615f7e9876ab\",\"type\":\"BoxAnnotation\"},{\"id\":\"f57f4f87-fd00-4ad9-a12c-49377e8d83ca\",\"type\":\"GlyphRenderer\"}],\"title\":{\"id\":\"3dcfaf29-f943-4bca-9ce1-88e688930749\",\"type\":\"Title\"},\"toolbar\":{\"id\":\"e4b5daa2-ce7a-4cad-9d61-acf576175bda\",\"type\":\"Toolbar\"},\"x_range\":{\"id\":\"c3cfc28f-2d02-468e-b893-c8886af834bb\",\"type\":\"DataRange1d\"},\"x_scale\":{\"id\":\"1fbb055b-26f5-4b89-9b91-853e27a26488\",\"type\":\"LinearScale\"},\"y_range\":{\"id\":\"6226bbd1-19bb-4377-8ea5-fc5b83c96788\",\"type\":\"DataRange1d\"},\"y_scale\":{\"id\":\"a25caf2f-7023-4b88-939a-18202b4c493f\",\"type\":\"LinearScale\"}},\"id\":\"3c68a44f-1ac5-4069-8831-c9aea5bcfb1f\",\"subtype\":\"Figure\",\"type\":\"Plot\"},{\"attributes\":{\"active_drag\":\"auto\",\"active_inspect\":\"auto\",\"active_multi\":null,\"active_scroll\":\"auto\",\"active_tap\":\"auto\",\"tools\":[{\"id\":\"37f7be51-9142-4b77-9565-ae0e73a0f772\",\"type\":\"PanTool\"},{\"id\":\"d8217400-54ea-465f-88a6-e04bf14065ad\",\"type\":\"WheelZoomTool\"},{\"id\":\"ab55c2eb-a0fa-4d2c-9c1f-359f5c739f2d\",\"type\":\"BoxZoomTool\"},{\"id\":\"e7ade4c7-d453-487b-b672-214878308ac2\",\"type\":\"SaveTool\"},{\"id\":\"44896ce4-0869-410d-8304-9a5dfa1a7dab\",\"type\":\"ResetTool\"},{\"id\":\"9a5fa277-7d27-463e-bcb2-b96da8f30225\",\"type\":\"HelpTool\"}]},\"id\":\"e4b5daa2-ce7a-4cad-9d61-acf576175bda\",\"type\":\"Toolbar\"},{\"attributes\":{},\"id\":\"bcffea79-36f8-4629-bfb0-86bdfe20a54f\",\"type\":\"BasicTickFormatter\"},{\"attributes\":{\"source\":{\"id\":\"6f9f4621-d143-47b6-ba82-db750ca0895b\",\"type\":\"ColumnDataSource\"}},\"id\":\"d3a3117e-7fa2-4c2b-b469-a5cdaa6bc9d1\",\"type\":\"CDSView\"},{\"attributes\":{\"bottom_units\":\"screen\",\"fill_alpha\":{\"value\":0.5},\"fill_color\":{\"value\":\"lightgrey\"},\"left_units\":\"screen\",\"level\":\"overlay\",\"line_alpha\":{\"value\":1.0},\"line_color\":{\"value\":\"black\"},\"line_dash\":[4,4],\"line_width\":{\"value\":2},\"plot\":null,\"render_mode\":\"css\",\"right_units\":\"screen\",\"top_units\":\"screen\"},\"id\":\"67e0a7a3-0ca1-4301-ac0e-615f7e9876ab\",\"type\":\"BoxAnnotation\"},{\"attributes\":{\"plot\":{\"id\":\"3c68a44f-1ac5-4069-8831-c9aea5bcfb1f\",\"subtype\":\"Figure\",\"type\":\"Plot\"},\"ticker\":{\"id\":\"791cb55d-7be5-4fa6-9dd3-19e203b508d3\",\"type\":\"BasicTicker\"}},\"id\":\"af8e55c8-d5cf-4e95-97fc-b8636fc58caa\",\"type\":\"Grid\"},{\"attributes\":{\"overlay\":{\"id\":\"67e0a7a3-0ca1-4301-ac0e-615f7e9876ab\",\"type\":\"BoxAnnotation\"}},\"id\":\"ab55c2eb-a0fa-4d2c-9c1f-359f5c739f2d\",\"type\":\"BoxZoomTool\"},{\"attributes\":{\"axis_label\":\"Count\",\"axis_label_text_font\":\"verdana\",\"axis_label_text_font_style\":\"normal\",\"formatter\":{\"id\":\"3f80591c-6daa-44b7-86a5-80678436a4d8\",\"type\":\"BasicTickFormatter\"},\"major_label_text_font\":\"verdana\",\"plot\":{\"id\":\"3c68a44f-1ac5-4069-8831-c9aea5bcfb1f\",\"subtype\":\"Figure\",\"type\":\"Plot\"},\"ticker\":{\"id\":\"d5ae5042-58b1-415c-9035-bf4a3eab42a4\",\"type\":\"BasicTicker\"}},\"id\":\"7bf29fea-9750-4230-95ba-499fa06b9505\",\"type\":\"LinearAxis\"},{\"attributes\":{},\"id\":\"9a5fa277-7d27-463e-bcb2-b96da8f30225\",\"type\":\"HelpTool\"},{\"attributes\":{\"callback\":null},\"id\":\"6226bbd1-19bb-4377-8ea5-fc5b83c96788\",\"type\":\"DataRange1d\"},{\"attributes\":{},\"id\":\"791cb55d-7be5-4fa6-9dd3-19e203b508d3\",\"type\":\"BasicTicker\"},{\"attributes\":{\"callback\":null},\"id\":\"c3cfc28f-2d02-468e-b893-c8886af834bb\",\"type\":\"DataRange1d\"},{\"attributes\":{},\"id\":\"e7ade4c7-d453-487b-b672-214878308ac2\",\"type\":\"SaveTool\"},{\"attributes\":{},\"id\":\"3f80591c-6daa-44b7-86a5-80678436a4d8\",\"type\":\"BasicTickFormatter\"},{\"attributes\":{},\"id\":\"dfb27f16-1669-432c-a661-688a7ff7c4b9\",\"type\":\"UnionRenderers\"},{\"attributes\":{\"axis_label\":\"City population bins\",\"axis_label_text_font\":\"verdana\",\"axis_label_text_font_style\":\"normal\",\"formatter\":{\"id\":\"bcffea79-36f8-4629-bfb0-86bdfe20a54f\",\"type\":\"BasicTickFormatter\"},\"major_label_orientation\":0.785,\"major_label_overrides\":{\"0\":\"100\",\"1\":\"200\",\"10\":\"2,000\",\"11\":\"3,000\",\"12\":\"4,000\",\"13\":\"5,000\",\"14\":\"6,000\",\"15\":\"7,000\",\"16\":\"8,000\",\"17\":\"9,000\",\"18\":\"10,000\",\"19\":\"20,000\",\"2\":\"300\",\"20\":\"30,000\",\"21\":\"40,000\",\"22\":\"50,000\",\"23\":\"60,000\",\"24\":\"70,000\",\"25\":\"80,000\",\"26\":\"90,000\",\"27\":\"100,000\",\"28\":\"200,000\",\"29\":\"300,000\",\"3\":\"400\",\"4\":\"500\",\"5\":\"600\",\"6\":\"700\",\"7\":\"800\",\"8\":\"900\",\"9\":\"1,000\"},\"major_label_text_font\":\"verdana\",\"plot\":{\"id\":\"3c68a44f-1ac5-4069-8831-c9aea5bcfb1f\",\"subtype\":\"Figure\",\"type\":\"Plot\"},\"ticker\":{\"id\":\"900ab3dd-cc44-41ba-a139-6af0e6416ad4\",\"type\":\"FixedTicker\"}},\"id\":\"9931a7f9-b8a4-462e-943a-3f14fb3799a0\",\"type\":\"LinearAxis\"},{\"attributes\":{},\"id\":\"a25caf2f-7023-4b88-939a-18202b4c493f\",\"type\":\"LinearScale\"},{\"attributes\":{\"data_source\":{\"id\":\"6f9f4621-d143-47b6-ba82-db750ca0895b\",\"type\":\"ColumnDataSource\"},\"glyph\":{\"id\":\"c11ffbd0-e85b-4888-a151-35e5655bc724\",\"type\":\"Quad\"},\"hover_glyph\":null,\"muted_glyph\":null,\"nonselection_glyph\":{\"id\":\"1be6a52c-4334-49e5-bca8-4e3eac0c3e65\",\"type\":\"Quad\"},\"selection_glyph\":null,\"view\":{\"id\":\"d3a3117e-7fa2-4c2b-b469-a5cdaa6bc9d1\",\"type\":\"CDSView\"}},\"id\":\"f57f4f87-fd00-4ad9-a12c-49377e8d83ca\",\"type\":\"GlyphRenderer\"},{\"attributes\":{},\"id\":\"d5ae5042-58b1-415c-9035-bf4a3eab42a4\",\"type\":\"BasicTicker\"},{\"attributes\":{},\"id\":\"c7a547eb-4e6d-4e74-9555-698b93699ecd\",\"type\":\"Selection\"}],\"root_ids\":[\"3c68a44f-1ac5-4069-8831-c9aea5bcfb1f\"]},\"title\":\"Bokeh Application\",\"version\":\"0.13.0\"}};\n",
       "  var render_items = [{\"docid\":\"bedf6b04-1545-41bb-b514-a84676683cb5\",\"roots\":{\"3c68a44f-1ac5-4069-8831-c9aea5bcfb1f\":\"13fff1a1-201f-4962-99cc-ea1e900a4b54\"}}];\n",
       "  root.Bokeh.embed.embed_items_notebook(docs_json, render_items);\n",
       "\n",
       "  }\n",
       "  if (root.Bokeh !== undefined) {\n",
       "    embed_document(root);\n",
       "  } else {\n",
       "    var attempts = 0;\n",
       "    var timer = setInterval(function(root) {\n",
       "      if (root.Bokeh !== undefined) {\n",
       "        embed_document(root);\n",
       "        clearInterval(timer);\n",
       "      }\n",
       "      attempts++;\n",
       "      if (attempts > 100) {\n",
       "        console.log(\"Bokeh: ERROR: Unable to run BokehJS code because BokehJS library is missing\")\n",
       "        clearInterval(timer);\n",
       "      }\n",
       "    }, 10, root)\n",
       "  }\n",
       "})(window);"
      ],
      "application/vnd.bokehjs_exec.v0+json": ""
     },
     "metadata": {
      "application/vnd.bokehjs_exec.v0+json": {
       "id": "3c68a44f-1ac5-4069-8831-c9aea5bcfb1f"
      }
     },
     "output_type": "display_data"
    }
   ],
   "source": [
    "# Plot histogram\n",
    "p1 = figure(plot_height=300, title=\"City population\",\n",
    "           x_axis_label='City population bins', y_axis_label='Count')\n",
    "p1.quad(top=list(hist), bottom=0, left=list(range(0,len(bin_edges)))[:-1], right=list(range(0,len(bin_edges)))[1:],\n",
    "       fill_color = \"#0276FD\", line_color = \"#5F5B5B\", alpha=1)\n",
    "\n",
    "p1.xaxis.ticker = list(range(0,len(bin_edges)))\n",
    "p1.xaxis.major_label_orientation = 3.14/4\n",
    "p1.xaxis.major_label_overrides = {el:\"{:,}\".format(bin_edges[el]) for el in range(0,len(bin_edges))}\n",
    "\n",
    "p1.title.text_font_size = '12pt'\n",
    "p1.title.text_color = \"#0276FD\"\n",
    "p1.title.text_font = \"verdana\"\n",
    "p1.yaxis.axis_label_text_font = \"verdana\"\n",
    "p1.yaxis.axis_label_text_font_style = \"normal\"\n",
    "p1.xaxis.axis_label_text_font = \"verdana\"\n",
    "p1.xaxis.axis_label_text_font_style = \"normal\"\n",
    "p1.xaxis.major_label_text_font = \"verdana\"\n",
    "p1.yaxis.major_label_text_font = \"verdana\"\n",
    "\n",
    "show(p1)"
   ]
  },
  {
   "cell_type": "markdown",
   "metadata": {},
   "source": [
    "### 3.2.2. Population cumulative distribution"
   ]
  },
  {
   "cell_type": "code",
   "execution_count": 8,
   "metadata": {
    "scrolled": true
   },
   "outputs": [
    {
     "data": {
      "text/html": [
       "\n",
       "\n",
       "\n",
       "\n",
       "\n",
       "\n",
       "  <div class=\"bk-root\" id=\"1163fbdf-47f4-4aee-b0d0-c936fec784c7\"></div>\n"
      ]
     },
     "metadata": {},
     "output_type": "display_data"
    },
    {
     "data": {
      "application/javascript": [
       "(function(root) {\n",
       "  function embed_document(root) {\n",
       "    \n",
       "  var docs_json = {\"a6cf8688-1834-40c5-a90c-e0fc37196cbb\":{\"roots\":{\"references\":[{\"attributes\":{\"axis_label\":\"City population bins\",\"axis_label_text_font\":\"verdana\",\"axis_label_text_font_style\":\"normal\",\"formatter\":{\"id\":\"7a24df13-aed6-402b-90a5-00ec0c7be7b4\",\"type\":\"BasicTickFormatter\"},\"major_label_orientation\":0.785,\"major_label_overrides\":{\"0\":\"100\",\"1\":\"200\",\"10\":\"2,000\",\"11\":\"3,000\",\"12\":\"4,000\",\"13\":\"5,000\",\"14\":\"6,000\",\"15\":\"7,000\",\"16\":\"8,000\",\"17\":\"9,000\",\"18\":\"10,000\",\"19\":\"20,000\",\"2\":\"300\",\"20\":\"30,000\",\"21\":\"40,000\",\"22\":\"50,000\",\"23\":\"60,000\",\"24\":\"70,000\",\"25\":\"80,000\",\"26\":\"90,000\",\"27\":\"100,000\",\"28\":\"200,000\",\"29\":\"300,000\",\"3\":\"400\",\"4\":\"500\",\"5\":\"600\",\"6\":\"700\",\"7\":\"800\",\"8\":\"900\",\"9\":\"1,000\"},\"major_label_text_font\":\"verdana\",\"plot\":{\"id\":\"053bbb62-aa33-4b04-9de6-cb2eedae1c65\",\"subtype\":\"Figure\",\"type\":\"Plot\"},\"ticker\":{\"id\":\"ad25f0a8-6ef6-492e-a330-5f56861eab77\",\"type\":\"FixedTicker\"}},\"id\":\"a770de0d-736d-4c75-8e25-fb27e0e26b01\",\"type\":\"LinearAxis\"},{\"attributes\":{\"below\":[{\"id\":\"a770de0d-736d-4c75-8e25-fb27e0e26b01\",\"type\":\"LinearAxis\"}],\"left\":[{\"id\":\"1e80599f-cff8-4c31-b2c5-fc215bf93054\",\"type\":\"LinearAxis\"}],\"plot_height\":300,\"renderers\":[{\"id\":\"a770de0d-736d-4c75-8e25-fb27e0e26b01\",\"type\":\"LinearAxis\"},{\"id\":\"c58312af-4bf8-4501-9b4b-d932759a2152\",\"type\":\"Grid\"},{\"id\":\"1e80599f-cff8-4c31-b2c5-fc215bf93054\",\"type\":\"LinearAxis\"},{\"id\":\"75319674-da45-42e0-9eba-4a1e9b5aa0ff\",\"type\":\"Grid\"},{\"id\":\"2b85687d-bc78-4929-a9a2-d3f5a3552bdc\",\"type\":\"BoxAnnotation\"},{\"id\":\"dd1b2c74-b7d8-45ea-b7b9-d77516fc1988\",\"type\":\"GlyphRenderer\"}],\"title\":{\"id\":\"55d77538-4444-4718-814f-fd63f5f68796\",\"type\":\"Title\"},\"toolbar\":{\"id\":\"fe618beb-b973-4df4-a970-06b18f277b49\",\"type\":\"Toolbar\"},\"x_range\":{\"id\":\"abfa3825-15e0-46f1-b5ea-acac86941e04\",\"type\":\"DataRange1d\"},\"x_scale\":{\"id\":\"9b57ca08-1614-48b5-be64-ad95207fa5a7\",\"type\":\"LinearScale\"},\"y_range\":{\"id\":\"6a703d6a-a766-4c48-96b8-297c8147dc5d\",\"type\":\"DataRange1d\"},\"y_scale\":{\"id\":\"6af04b9f-188b-4434-8b8d-41dc30b1b6a1\",\"type\":\"LinearScale\"}},\"id\":\"053bbb62-aa33-4b04-9de6-cb2eedae1c65\",\"subtype\":\"Figure\",\"type\":\"Plot\"},{\"attributes\":{},\"id\":\"82042f31-201f-4815-8cc6-90815c12b90a\",\"type\":\"WheelZoomTool\"},{\"attributes\":{},\"id\":\"7a24df13-aed6-402b-90a5-00ec0c7be7b4\",\"type\":\"BasicTickFormatter\"},{\"attributes\":{},\"id\":\"58bcde98-ff17-4736-8f3c-16d9dd001cf5\",\"type\":\"UnionRenderers\"},{\"attributes\":{\"active_drag\":\"auto\",\"active_inspect\":\"auto\",\"active_multi\":null,\"active_scroll\":\"auto\",\"active_tap\":\"auto\",\"tools\":[{\"id\":\"f2a4b001-f323-4ee7-bc56-54c9d96e9648\",\"type\":\"PanTool\"},{\"id\":\"82042f31-201f-4815-8cc6-90815c12b90a\",\"type\":\"WheelZoomTool\"},{\"id\":\"3a1325bf-875b-496f-91be-b2562d20afba\",\"type\":\"BoxZoomTool\"},{\"id\":\"982f2b3a-61b2-4e63-8dcd-279b0b177e79\",\"type\":\"SaveTool\"},{\"id\":\"abd5b31e-8c64-4f46-a533-a987a7897777\",\"type\":\"ResetTool\"},{\"id\":\"2108545a-7594-401a-945d-97f60f171af1\",\"type\":\"HelpTool\"}]},\"id\":\"fe618beb-b973-4df4-a970-06b18f277b49\",\"type\":\"Toolbar\"},{\"attributes\":{\"data_source\":{\"id\":\"60878c89-bb58-4986-880f-b04f86d1fa3b\",\"type\":\"ColumnDataSource\"},\"glyph\":{\"id\":\"e952c2ce-5486-40c7-b73b-eb8c6e345dd3\",\"type\":\"Step\"},\"hover_glyph\":null,\"muted_glyph\":null,\"nonselection_glyph\":{\"id\":\"50b6f619-cf06-4109-b532-cc5252ee8f8f\",\"type\":\"Step\"},\"selection_glyph\":null,\"view\":{\"id\":\"52816097-7818-43fc-bc87-d43eeb597b72\",\"type\":\"CDSView\"}},\"id\":\"dd1b2c74-b7d8-45ea-b7b9-d77516fc1988\",\"type\":\"GlyphRenderer\"},{\"attributes\":{\"line_color\":{\"value\":\"#0276FD\"},\"line_width\":{\"value\":2},\"x\":{\"field\":\"x\"},\"y\":{\"field\":\"y\"}},\"id\":\"e952c2ce-5486-40c7-b73b-eb8c6e345dd3\",\"type\":\"Step\"},{\"attributes\":{\"ticks\":[0,1,2,3,4,5,6,7,8,9,10,11,12,13,14,15,16,17,18,19,20,21,22,23,24,25,26,27,28,29]},\"id\":\"ad25f0a8-6ef6-492e-a330-5f56861eab77\",\"type\":\"FixedTicker\"},{\"attributes\":{\"callback\":null},\"id\":\"6a703d6a-a766-4c48-96b8-297c8147dc5d\",\"type\":\"DataRange1d\"},{\"attributes\":{},\"id\":\"9b57ca08-1614-48b5-be64-ad95207fa5a7\",\"type\":\"LinearScale\"},{\"attributes\":{\"axis_label\":\"Percentile [%ile]\",\"axis_label_text_font\":\"verdana\",\"axis_label_text_font_style\":\"normal\",\"formatter\":{\"id\":\"bb6bec5f-3a74-4960-a93d-7eac8c63558a\",\"type\":\"BasicTickFormatter\"},\"major_label_text_font\":\"verdana\",\"plot\":{\"id\":\"053bbb62-aa33-4b04-9de6-cb2eedae1c65\",\"subtype\":\"Figure\",\"type\":\"Plot\"},\"ticker\":{\"id\":\"7e26b84c-a1aa-417f-8774-b7b4a0f215a3\",\"type\":\"BasicTicker\"}},\"id\":\"1e80599f-cff8-4c31-b2c5-fc215bf93054\",\"type\":\"LinearAxis\"},{\"attributes\":{},\"id\":\"bb6bec5f-3a74-4960-a93d-7eac8c63558a\",\"type\":\"BasicTickFormatter\"},{\"attributes\":{},\"id\":\"2108545a-7594-401a-945d-97f60f171af1\",\"type\":\"HelpTool\"},{\"attributes\":{\"plot\":null,\"text\":\"City population distribution\",\"text_color\":{\"value\":\"#0276FD\"},\"text_font\":\"verdana\",\"text_font_size\":{\"value\":\"12pt\"}},\"id\":\"55d77538-4444-4718-814f-fd63f5f68796\",\"type\":\"Title\"},{\"attributes\":{\"callback\":null},\"id\":\"abfa3825-15e0-46f1-b5ea-acac86941e04\",\"type\":\"DataRange1d\"},{\"attributes\":{\"bottom_units\":\"screen\",\"fill_alpha\":{\"value\":0.5},\"fill_color\":{\"value\":\"lightgrey\"},\"left_units\":\"screen\",\"level\":\"overlay\",\"line_alpha\":{\"value\":1.0},\"line_color\":{\"value\":\"black\"},\"line_dash\":[4,4],\"line_width\":{\"value\":2},\"plot\":null,\"render_mode\":\"css\",\"right_units\":\"screen\",\"top_units\":\"screen\"},\"id\":\"2b85687d-bc78-4929-a9a2-d3f5a3552bdc\",\"type\":\"BoxAnnotation\"},{\"attributes\":{\"source\":{\"id\":\"60878c89-bb58-4986-880f-b04f86d1fa3b\",\"type\":\"ColumnDataSource\"}},\"id\":\"52816097-7818-43fc-bc87-d43eeb597b72\",\"type\":\"CDSView\"},{\"attributes\":{},\"id\":\"7e26b84c-a1aa-417f-8774-b7b4a0f215a3\",\"type\":\"BasicTicker\"},{\"attributes\":{\"plot\":{\"id\":\"053bbb62-aa33-4b04-9de6-cb2eedae1c65\",\"subtype\":\"Figure\",\"type\":\"Plot\"},\"ticker\":{\"id\":\"0b78d7ee-384f-4dc7-addd-ea1a438d6c43\",\"type\":\"BasicTicker\"}},\"id\":\"c58312af-4bf8-4501-9b4b-d932759a2152\",\"type\":\"Grid\"},{\"attributes\":{\"overlay\":{\"id\":\"2b85687d-bc78-4929-a9a2-d3f5a3552bdc\",\"type\":\"BoxAnnotation\"}},\"id\":\"3a1325bf-875b-496f-91be-b2562d20afba\",\"type\":\"BoxZoomTool\"},{\"attributes\":{},\"id\":\"6af04b9f-188b-4434-8b8d-41dc30b1b6a1\",\"type\":\"LinearScale\"},{\"attributes\":{},\"id\":\"abd5b31e-8c64-4f46-a533-a987a7897777\",\"type\":\"ResetTool\"},{\"attributes\":{},\"id\":\"f2a4b001-f323-4ee7-bc56-54c9d96e9648\",\"type\":\"PanTool\"},{\"attributes\":{\"line_alpha\":{\"value\":0.1},\"line_color\":{\"value\":\"#1f77b4\"},\"line_width\":{\"value\":2},\"x\":{\"field\":\"x\"},\"y\":{\"field\":\"y\"}},\"id\":\"50b6f619-cf06-4109-b532-cc5252ee8f8f\",\"type\":\"Step\"},{\"attributes\":{},\"id\":\"982f2b3a-61b2-4e63-8dcd-279b0b177e79\",\"type\":\"SaveTool\"},{\"attributes\":{\"callback\":null,\"data\":{\"x\":[0,1,2,3,4,5,6,7,8,9,10,11,12,13,14,15,16,17,18,19,20,21,22,23,24,25,26,27,28,29],\"y\":[0,0.014492753623188406,0.04057971014492753,0.11304347826086956,0.13333333333333333,0.1855072463768116,0.24057971014492754,0.2782608695652174,0.32753623188405795,0.3710144927536232,0.6753623188405797,0.782608695652174,0.8463768115942029,0.8956521739130435,0.9159420289855073,0.9333333333333333,0.9536231884057971,0.9623188405797102,0.9710144927536232,0.991304347826087,0.9942028985507246,0.9942028985507246,0.9971014492753624,0.9971014492753624,0.9971014492753624,0.9971014492753624,0.9971014492753624,0.9971014492753624,0.9971014492753624,1.0]},\"selected\":{\"id\":\"e7a80aa8-831a-436a-a0ae-340a9071892b\",\"type\":\"Selection\"},\"selection_policy\":{\"id\":\"58bcde98-ff17-4736-8f3c-16d9dd001cf5\",\"type\":\"UnionRenderers\"}},\"id\":\"60878c89-bb58-4986-880f-b04f86d1fa3b\",\"type\":\"ColumnDataSource\"},{\"attributes\":{},\"id\":\"0b78d7ee-384f-4dc7-addd-ea1a438d6c43\",\"type\":\"BasicTicker\"},{\"attributes\":{\"dimension\":1,\"plot\":{\"id\":\"053bbb62-aa33-4b04-9de6-cb2eedae1c65\",\"subtype\":\"Figure\",\"type\":\"Plot\"},\"ticker\":{\"id\":\"7e26b84c-a1aa-417f-8774-b7b4a0f215a3\",\"type\":\"BasicTicker\"}},\"id\":\"75319674-da45-42e0-9eba-4a1e9b5aa0ff\",\"type\":\"Grid\"},{\"attributes\":{},\"id\":\"e7a80aa8-831a-436a-a0ae-340a9071892b\",\"type\":\"Selection\"}],\"root_ids\":[\"053bbb62-aa33-4b04-9de6-cb2eedae1c65\"]},\"title\":\"Bokeh Application\",\"version\":\"0.13.0\"}};\n",
       "  var render_items = [{\"docid\":\"a6cf8688-1834-40c5-a90c-e0fc37196cbb\",\"roots\":{\"053bbb62-aa33-4b04-9de6-cb2eedae1c65\":\"1163fbdf-47f4-4aee-b0d0-c936fec784c7\"}}];\n",
       "  root.Bokeh.embed.embed_items_notebook(docs_json, render_items);\n",
       "\n",
       "  }\n",
       "  if (root.Bokeh !== undefined) {\n",
       "    embed_document(root);\n",
       "  } else {\n",
       "    var attempts = 0;\n",
       "    var timer = setInterval(function(root) {\n",
       "      if (root.Bokeh !== undefined) {\n",
       "        embed_document(root);\n",
       "        clearInterval(timer);\n",
       "      }\n",
       "      attempts++;\n",
       "      if (attempts > 100) {\n",
       "        console.log(\"Bokeh: ERROR: Unable to run BokehJS code because BokehJS library is missing\")\n",
       "        clearInterval(timer);\n",
       "      }\n",
       "    }, 10, root)\n",
       "  }\n",
       "})(window);"
      ],
      "application/vnd.bokehjs_exec.v0+json": ""
     },
     "metadata": {
      "application/vnd.bokehjs_exec.v0+json": {
       "id": "053bbb62-aa33-4b04-9de6-cb2eedae1c65"
      }
     },
     "output_type": "display_data"
    }
   ],
   "source": [
    "#Plot cumulative distribution\n",
    "p2 = figure(plot_height=300, title=\"City population distribution\",\n",
    "           x_axis_label='City population bins', y_axis_label='Percentile [%ile]')\n",
    "p2.step(list(range(0,len(bin_edges))),[0]+[list(np.cumsum(hist))[x]/NumberOfCity for x in range(0,len(hist))],\n",
    "       line_color=\"#0276FD\",line_width=2)\n",
    "\n",
    "p2.xaxis.ticker = list(range(0,len(bin_edges)))\n",
    "p2.xaxis.major_label_orientation = 3.14/4\n",
    "p2.xaxis.major_label_overrides = {el:\"{:,}\".format(bin_edges[el]) for el in range(0,len(bin_edges))}\n",
    "\n",
    "p2.title.text_font_size = '12pt'\n",
    "p2.title.text_color = \"#0276FD\"\n",
    "p2.title.text_font = \"verdana\"\n",
    "p2.yaxis.axis_label_text_font = \"verdana\"\n",
    "p2.yaxis.axis_label_text_font_style = \"normal\"\n",
    "p2.xaxis.axis_label_text_font = \"verdana\"\n",
    "p2.xaxis.axis_label_text_font_style = \"normal\"\n",
    "p2.xaxis.major_label_text_font = \"verdana\"\n",
    "p2.yaxis.major_label_text_font = \"verdana\"\n",
    "\n",
    "show(p2)"
   ]
  },
  {
   "cell_type": "markdown",
   "metadata": {},
   "source": [
    "## 3.3. Area analysis"
   ]
  },
  {
   "cell_type": "code",
   "execution_count": 9,
   "metadata": {},
   "outputs": [
    {
     "name": "stdout",
     "output_type": "stream",
     "text": [
      "Surface totale: 6,840.54 km²\n",
      "Surface moyenne: 19.82 km²\n",
      "Surface mediane: 15.81 km²\n",
      "Surface la plus faible: 0.56 km² (Bécherel)\n",
      "Surface la plus élevée: 110.66 km² (Paimpont)\n"
     ]
    }
   ],
   "source": [
    "#Statistics about area\n",
    "TotalArea = sum(AllAreaList)/100 # km2, originally surface in hectare\n",
    "AverageArea = int(np.mean(AllAreaList)) # Surface moyenne \n",
    "MedianArea = int(np.median(AllAreaList)) # Surface mediane\n",
    "MinArea = np.min(AllAreaList) # Surface la plus faible\n",
    "MaxArea = np.max(AllAreaList) # Surface la plus élevée\n",
    "\n",
    "print 'Surface totale: ' + \"{:,}\".format(TotalArea) + ' km' + (u\"\\u00b2\").encode('utf-8') \n",
    "print 'Surface moyenne: '+ \"{:,}\".format(AverageArea/100) + ' km' + (u\"\\u00b2\").encode('utf-8') \n",
    "print 'Surface mediane: '+ \"{:,}\".format(MedianArea/100) + ' km' + (u\"\\u00b2\").encode('utf-8') \n",
    "print 'Surface la plus faible: '+ \"{:,}\".format(MinArea/100) + ' km' + (u\"\\u00b2\").encode('utf-8') + ' (' + str(list(mydb[CollectionName].find({'surface': MinArea},{'nom':1,'_id':0}))[0]['nom'].encode('utf-8')) + ')'\n",
    "print 'Surface la plus élevée: '+ \"{:,}\".format(MaxArea/100) + ' km' + (u\"\\u00b2\").encode('utf-8')  + ' (' + str(list(mydb[CollectionName].find({'surface': MaxArea},{'nom':1,'_id':0}))[0]['nom'].encode('utf-8')) + ')'"
   ]
  },
  {
   "cell_type": "markdown",
   "metadata": {},
   "source": [
    "### 3.3.1 Area histogram"
   ]
  },
  {
   "cell_type": "code",
   "execution_count": 10,
   "metadata": {
    "collapsed": true
   },
   "outputs": [],
   "source": [
    "# Prepare the data for plot\n",
    "start = Fcn_BasicStatisticalAnalysisOfPopulation.DefineMinMaxLog(MinArea,'Min')\n",
    "stop = Fcn_BasicStatisticalAnalysisOfPopulation.DefineMinMaxLog(MaxArea,'Max')\n",
    "bins = Fcn_BasicStatisticalAnalysisOfPopulation.CreateLogBin(start,stop)\n",
    "hist, bin_edges = np.histogram(AllAreaList, bins=bins)\n",
    "\n",
    "# Remove the first and last value when hist is 0 - Comment out this line to show forall log scale\n",
    "hist, bin_edges = Fcn_BasicStatisticalAnalysisOfPopulation.RemoveLastFirstValuesWhenZero(hist, bin_edges)"
   ]
  },
  {
   "cell_type": "code",
   "execution_count": 11,
   "metadata": {},
   "outputs": [
    {
     "data": {
      "text/html": [
       "\n",
       "\n",
       "\n",
       "\n",
       "\n",
       "\n",
       "  <div class=\"bk-root\" id=\"268e3f4d-8958-419a-a4d5-c6d42178d603\"></div>\n"
      ]
     },
     "metadata": {},
     "output_type": "display_data"
    },
    {
     "data": {
      "application/javascript": [
       "(function(root) {\n",
       "  function embed_document(root) {\n",
       "    \n",
       "  var docs_json = {\"5ce59d4b-5488-41f4-ad64-7275d94ca789\":{\"roots\":{\"references\":[{\"attributes\":{},\"id\":\"401db715-4a18-49ec-a2c4-7fcd81afaf9e\",\"type\":\"PanTool\"},{\"attributes\":{\"plot\":{\"id\":\"8a0aac07-9d95-430f-8910-8066860adb53\",\"subtype\":\"Figure\",\"type\":\"Plot\"},\"ticker\":{\"id\":\"d1b57e58-2212-4898-9ff6-8d26c083d65b\",\"type\":\"BasicTicker\"}},\"id\":\"0588d6f6-0cfd-4067-8a82-1723006b510c\",\"type\":\"Grid\"},{\"attributes\":{\"below\":[{\"id\":\"a98f7c9c-8de9-4e91-a9bb-458f5576195d\",\"type\":\"LinearAxis\"}],\"left\":[{\"id\":\"e0afcbbf-64b0-4555-b111-7a3d4406ecb6\",\"type\":\"LinearAxis\"}],\"plot_height\":300,\"renderers\":[{\"id\":\"a98f7c9c-8de9-4e91-a9bb-458f5576195d\",\"type\":\"LinearAxis\"},{\"id\":\"0588d6f6-0cfd-4067-8a82-1723006b510c\",\"type\":\"Grid\"},{\"id\":\"e0afcbbf-64b0-4555-b111-7a3d4406ecb6\",\"type\":\"LinearAxis\"},{\"id\":\"34263d22-54f2-45b6-9168-46f219d9925f\",\"type\":\"Grid\"},{\"id\":\"c2505766-5793-4da3-beb6-03f59e43dc53\",\"type\":\"BoxAnnotation\"},{\"id\":\"4205afde-b15b-4ef0-a934-e8ac650ab29e\",\"type\":\"GlyphRenderer\"}],\"title\":{\"id\":\"8e15108d-6dbe-45a7-87dd-3d540e896243\",\"type\":\"Title\"},\"toolbar\":{\"id\":\"c96d02f7-87f9-4ee3-9855-a4f77e581b81\",\"type\":\"Toolbar\"},\"x_range\":{\"id\":\"eb37d949-1f37-40cd-b0d9-ae8d63a64828\",\"type\":\"DataRange1d\"},\"x_scale\":{\"id\":\"99625dd8-d751-4900-8b3d-42b908b8bce9\",\"type\":\"LinearScale\"},\"y_range\":{\"id\":\"8a3e80ec-85b1-4939-a02c-d1495c0e7bc5\",\"type\":\"DataRange1d\"},\"y_scale\":{\"id\":\"702a8810-1cf5-400d-b593-09dbb03fc3e9\",\"type\":\"LinearScale\"}},\"id\":\"8a0aac07-9d95-430f-8910-8066860adb53\",\"subtype\":\"Figure\",\"type\":\"Plot\"},{\"attributes\":{},\"id\":\"a78130d6-898d-4b70-b323-c88778419e5e\",\"type\":\"ResetTool\"},{\"attributes\":{\"data_source\":{\"id\":\"749bbe1f-e783-4043-904c-c68d7342ee77\",\"type\":\"ColumnDataSource\"},\"glyph\":{\"id\":\"539683fc-73d3-47da-8534-06b75cf16d37\",\"type\":\"Quad\"},\"hover_glyph\":null,\"muted_glyph\":null,\"nonselection_glyph\":{\"id\":\"bc9df940-6af7-4c2b-a836-c180615148da\",\"type\":\"Quad\"},\"selection_glyph\":null,\"view\":{\"id\":\"054f9f74-88d5-4095-af37-81d48bf43dd8\",\"type\":\"CDSView\"}},\"id\":\"4205afde-b15b-4ef0-a934-e8ac650ab29e\",\"type\":\"GlyphRenderer\"},{\"attributes\":{},\"id\":\"58b4bcbf-aa1d-489a-8299-d16c7e461121\",\"type\":\"HelpTool\"},{\"attributes\":{\"bottom\":{\"value\":0},\"fill_color\":{\"value\":\"#0276FD\"},\"left\":{\"field\":\"left\"},\"line_color\":{\"value\":\"#5F5B5B\"},\"right\":{\"field\":\"right\"},\"top\":{\"field\":\"top\"}},\"id\":\"539683fc-73d3-47da-8534-06b75cf16d37\",\"type\":\"Quad\"},{\"attributes\":{\"callback\":null,\"data\":{\"left\":[0,1,2,3,4,5,6,7,8,9,10,11,12,13,14,15,16,17,18,19,20,21,22,23],\"right\":[1,2,3,4,5,6,7,8,9,10,11,12,13,14,15,16,17,18,19,20,21,22,23,24],\"top\":[1,0,0,0,0,1,6,9,9,8,11,16,14,18,125,65,31,16,7,3,3,0,1,1]},\"selected\":{\"id\":\"297b59d2-1eb9-430b-8170-f8e17f2b93b1\",\"type\":\"Selection\"},\"selection_policy\":{\"id\":\"559a5e83-d9ea-46b5-8837-a20a01cccfa5\",\"type\":\"UnionRenderers\"}},\"id\":\"749bbe1f-e783-4043-904c-c68d7342ee77\",\"type\":\"ColumnDataSource\"},{\"attributes\":{\"plot\":null,\"text\":\"City area\",\"text_color\":{\"value\":\"#0276FD\"},\"text_font\":\"verdana\",\"text_font_size\":{\"value\":\"12pt\"}},\"id\":\"8e15108d-6dbe-45a7-87dd-3d540e896243\",\"type\":\"Title\"},{\"attributes\":{},\"id\":\"9eb9eb5b-6ca2-45b7-b984-01620b34d11f\",\"type\":\"BasicTickFormatter\"},{\"attributes\":{},\"id\":\"559a5e83-d9ea-46b5-8837-a20a01cccfa5\",\"type\":\"UnionRenderers\"},{\"attributes\":{\"axis_label\":\"City area bins [km\\u00b2]\",\"axis_label_text_font\":\"verdana\",\"axis_label_text_font_style\":\"normal\",\"formatter\":{\"id\":\"9eb9eb5b-6ca2-45b7-b984-01620b34d11f\",\"type\":\"BasicTickFormatter\"},\"major_label_orientation\":0.785,\"major_label_overrides\":{\"0\":\"0.5\",\"1\":\"0.6\",\"10\":\"6\",\"11\":\"7\",\"12\":\"8\",\"13\":\"9\",\"14\":\"10\",\"15\":\"20\",\"16\":\"30\",\"17\":\"40\",\"18\":\"50\",\"19\":\"60\",\"2\":\"0.7\",\"20\":\"70\",\"21\":\"80\",\"22\":\"90\",\"23\":\"100\",\"24\":\"200\",\"3\":\"0.8\",\"4\":\"0.9\",\"5\":\"1\",\"6\":\"2\",\"7\":\"3\",\"8\":\"4\",\"9\":\"5\"},\"major_label_text_font\":\"verdana\",\"plot\":{\"id\":\"8a0aac07-9d95-430f-8910-8066860adb53\",\"subtype\":\"Figure\",\"type\":\"Plot\"},\"ticker\":{\"id\":\"bc6f8a6a-4640-4255-a6f6-259d6c3c6251\",\"type\":\"FixedTicker\"}},\"id\":\"a98f7c9c-8de9-4e91-a9bb-458f5576195d\",\"type\":\"LinearAxis\"},{\"attributes\":{},\"id\":\"a701b2c8-109c-4a7d-9c49-bbfc7f75fcdb\",\"type\":\"BasicTickFormatter\"},{\"attributes\":{\"active_drag\":\"auto\",\"active_inspect\":\"auto\",\"active_multi\":null,\"active_scroll\":\"auto\",\"active_tap\":\"auto\",\"tools\":[{\"id\":\"401db715-4a18-49ec-a2c4-7fcd81afaf9e\",\"type\":\"PanTool\"},{\"id\":\"62f18f6a-0458-4983-922d-8a496421bc43\",\"type\":\"WheelZoomTool\"},{\"id\":\"9311d5f7-c967-4ff8-b926-910d0249dcbc\",\"type\":\"BoxZoomTool\"},{\"id\":\"bec27577-c039-494c-bfbb-648cca834b21\",\"type\":\"SaveTool\"},{\"id\":\"a78130d6-898d-4b70-b323-c88778419e5e\",\"type\":\"ResetTool\"},{\"id\":\"58b4bcbf-aa1d-489a-8299-d16c7e461121\",\"type\":\"HelpTool\"}]},\"id\":\"c96d02f7-87f9-4ee3-9855-a4f77e581b81\",\"type\":\"Toolbar\"},{\"attributes\":{},\"id\":\"702a8810-1cf5-400d-b593-09dbb03fc3e9\",\"type\":\"LinearScale\"},{\"attributes\":{},\"id\":\"d1b57e58-2212-4898-9ff6-8d26c083d65b\",\"type\":\"BasicTicker\"},{\"attributes\":{\"bottom_units\":\"screen\",\"fill_alpha\":{\"value\":0.5},\"fill_color\":{\"value\":\"lightgrey\"},\"left_units\":\"screen\",\"level\":\"overlay\",\"line_alpha\":{\"value\":1.0},\"line_color\":{\"value\":\"black\"},\"line_dash\":[4,4],\"line_width\":{\"value\":2},\"plot\":null,\"render_mode\":\"css\",\"right_units\":\"screen\",\"top_units\":\"screen\"},\"id\":\"c2505766-5793-4da3-beb6-03f59e43dc53\",\"type\":\"BoxAnnotation\"},{\"attributes\":{\"bottom\":{\"value\":0},\"fill_alpha\":{\"value\":0.1},\"fill_color\":{\"value\":\"#1f77b4\"},\"left\":{\"field\":\"left\"},\"line_alpha\":{\"value\":0.1},\"line_color\":{\"value\":\"#1f77b4\"},\"right\":{\"field\":\"right\"},\"top\":{\"field\":\"top\"}},\"id\":\"bc9df940-6af7-4c2b-a836-c180615148da\",\"type\":\"Quad\"},{\"attributes\":{\"callback\":null},\"id\":\"eb37d949-1f37-40cd-b0d9-ae8d63a64828\",\"type\":\"DataRange1d\"},{\"attributes\":{\"dimension\":1,\"plot\":{\"id\":\"8a0aac07-9d95-430f-8910-8066860adb53\",\"subtype\":\"Figure\",\"type\":\"Plot\"},\"ticker\":{\"id\":\"29f8d73c-eb29-4444-9208-82d3b598a49e\",\"type\":\"BasicTicker\"}},\"id\":\"34263d22-54f2-45b6-9168-46f219d9925f\",\"type\":\"Grid\"},{\"attributes\":{},\"id\":\"bec27577-c039-494c-bfbb-648cca834b21\",\"type\":\"SaveTool\"},{\"attributes\":{\"axis_label\":\"Count [#]\",\"axis_label_text_font\":\"verdana\",\"axis_label_text_font_style\":\"normal\",\"formatter\":{\"id\":\"a701b2c8-109c-4a7d-9c49-bbfc7f75fcdb\",\"type\":\"BasicTickFormatter\"},\"major_label_text_font\":\"verdana\",\"plot\":{\"id\":\"8a0aac07-9d95-430f-8910-8066860adb53\",\"subtype\":\"Figure\",\"type\":\"Plot\"},\"ticker\":{\"id\":\"29f8d73c-eb29-4444-9208-82d3b598a49e\",\"type\":\"BasicTicker\"}},\"id\":\"e0afcbbf-64b0-4555-b111-7a3d4406ecb6\",\"type\":\"LinearAxis\"},{\"attributes\":{},\"id\":\"29f8d73c-eb29-4444-9208-82d3b598a49e\",\"type\":\"BasicTicker\"},{\"attributes\":{},\"id\":\"62f18f6a-0458-4983-922d-8a496421bc43\",\"type\":\"WheelZoomTool\"},{\"attributes\":{\"callback\":null},\"id\":\"8a3e80ec-85b1-4939-a02c-d1495c0e7bc5\",\"type\":\"DataRange1d\"},{\"attributes\":{},\"id\":\"297b59d2-1eb9-430b-8170-f8e17f2b93b1\",\"type\":\"Selection\"},{\"attributes\":{\"source\":{\"id\":\"749bbe1f-e783-4043-904c-c68d7342ee77\",\"type\":\"ColumnDataSource\"}},\"id\":\"054f9f74-88d5-4095-af37-81d48bf43dd8\",\"type\":\"CDSView\"},{\"attributes\":{},\"id\":\"99625dd8-d751-4900-8b3d-42b908b8bce9\",\"type\":\"LinearScale\"},{\"attributes\":{\"overlay\":{\"id\":\"c2505766-5793-4da3-beb6-03f59e43dc53\",\"type\":\"BoxAnnotation\"}},\"id\":\"9311d5f7-c967-4ff8-b926-910d0249dcbc\",\"type\":\"BoxZoomTool\"},{\"attributes\":{\"ticks\":[0,1,2,3,4,5,6,7,8,9,10,11,12,13,14,15,16,17,18,19,20,21,22,23,24]},\"id\":\"bc6f8a6a-4640-4255-a6f6-259d6c3c6251\",\"type\":\"FixedTicker\"}],\"root_ids\":[\"8a0aac07-9d95-430f-8910-8066860adb53\"]},\"title\":\"Bokeh Application\",\"version\":\"0.13.0\"}};\n",
       "  var render_items = [{\"docid\":\"5ce59d4b-5488-41f4-ad64-7275d94ca789\",\"roots\":{\"8a0aac07-9d95-430f-8910-8066860adb53\":\"268e3f4d-8958-419a-a4d5-c6d42178d603\"}}];\n",
       "  root.Bokeh.embed.embed_items_notebook(docs_json, render_items);\n",
       "\n",
       "  }\n",
       "  if (root.Bokeh !== undefined) {\n",
       "    embed_document(root);\n",
       "  } else {\n",
       "    var attempts = 0;\n",
       "    var timer = setInterval(function(root) {\n",
       "      if (root.Bokeh !== undefined) {\n",
       "        embed_document(root);\n",
       "        clearInterval(timer);\n",
       "      }\n",
       "      attempts++;\n",
       "      if (attempts > 100) {\n",
       "        console.log(\"Bokeh: ERROR: Unable to run BokehJS code because BokehJS library is missing\")\n",
       "        clearInterval(timer);\n",
       "      }\n",
       "    }, 10, root)\n",
       "  }\n",
       "})(window);"
      ],
      "application/vnd.bokehjs_exec.v0+json": ""
     },
     "metadata": {
      "application/vnd.bokehjs_exec.v0+json": {
       "id": "8a0aac07-9d95-430f-8910-8066860adb53"
      }
     },
     "output_type": "display_data"
    }
   ],
   "source": [
    "# Plot histogram\n",
    "p1 = figure(plot_height=300, title=\"City area\",\n",
    "           x_axis_label='City area bins'+ ' [km' + (u\"\\u00b2]\").encode('utf-8'), y_axis_label='Count [#]')\n",
    "p1.quad(top=list(hist), bottom=0, left=list(range(0,len(bin_edges)))[:-1], right=list(range(0,len(bin_edges)))[1:],\n",
    "       fill_color = \"#0276FD\", line_color = \"#5F5B5B\", alpha=1)\n",
    "\n",
    "p1.xaxis.ticker = list(range(0,len(bin_edges)))\n",
    "p1.xaxis.major_label_orientation = 3.14/4\n",
    "p1.xaxis.major_label_overrides = {el:\"{:,}\".format((bin_edges[el]/100)) if (bin_edges[el]/100) < 1 else \"{:,}\".format(int(bin_edges[el]/100)) for el in range(0,len(bin_edges))}\n",
    "p1.title.text_font_size = '12pt'\n",
    "p1.title.text_color = \"#0276FD\"\n",
    "p1.title.text_font = \"verdana\"\n",
    "p1.yaxis.axis_label_text_font = \"verdana\"\n",
    "p1.yaxis.axis_label_text_font_style = \"normal\"\n",
    "p1.xaxis.axis_label_text_font = \"verdana\"\n",
    "p1.xaxis.axis_label_text_font_style = \"normal\"\n",
    "p1.xaxis.major_label_text_font = \"verdana\"\n",
    "p1.yaxis.major_label_text_font = \"verdana\"\n",
    "\n",
    "show(p1)"
   ]
  },
  {
   "cell_type": "markdown",
   "metadata": {},
   "source": [
    "### 3.3.2. Population cumulative distribution"
   ]
  },
  {
   "cell_type": "code",
   "execution_count": 12,
   "metadata": {},
   "outputs": [
    {
     "data": {
      "text/html": [
       "\n",
       "\n",
       "\n",
       "\n",
       "\n",
       "\n",
       "  <div class=\"bk-root\" id=\"ba5e1f55-594a-40e0-b523-b476f94a273d\"></div>\n"
      ]
     },
     "metadata": {},
     "output_type": "display_data"
    },
    {
     "data": {
      "application/javascript": [
       "(function(root) {\n",
       "  function embed_document(root) {\n",
       "    \n",
       "  var docs_json = {\"79f7f59e-269d-4a37-a8ce-dbcb4392068a\":{\"roots\":{\"references\":[{\"attributes\":{\"callback\":null,\"data\":{\"x\":[0,1,2,3,4,5,6,7,8,9,10,11,12,13,14,15,16,17,18,19,20,21,22,23,24],\"y\":[0,0.002898550724637681,0.002898550724637681,0.002898550724637681,0.002898550724637681,0.002898550724637681,0.005797101449275362,0.02318840579710145,0.04927536231884058,0.07536231884057971,0.09855072463768116,0.13043478260869565,0.17681159420289855,0.21739130434782608,0.26956521739130435,0.6318840579710145,0.8202898550724638,0.9101449275362319,0.9565217391304348,0.9768115942028985,0.9855072463768116,0.9942028985507246,0.9942028985507246,0.9971014492753624,1.0]},\"selected\":{\"id\":\"2abb4c51-6d89-4ada-84d5-6b495ada8e57\",\"type\":\"Selection\"},\"selection_policy\":{\"id\":\"8518bf9f-3741-41e8-868a-7133a47993b4\",\"type\":\"UnionRenderers\"}},\"id\":\"bebb2bd3-07aa-4393-85c9-5425dac63153\",\"type\":\"ColumnDataSource\"},{\"attributes\":{},\"id\":\"6cbfb8b2-e79f-4d68-b575-2ff56f73744a\",\"type\":\"ResetTool\"},{\"attributes\":{\"ticks\":[0,1,2,3,4,5,6,7,8,9,10,11,12,13,14,15,16,17,18,19,20,21,22,23,24]},\"id\":\"1c6f11b7-f0d0-498b-bd9e-4283331533ad\",\"type\":\"FixedTicker\"},{\"attributes\":{},\"id\":\"27c81a25-5ef3-4b9b-8ac0-70c3c7b9a685\",\"type\":\"PanTool\"},{\"attributes\":{\"line_color\":{\"value\":\"#0276FD\"},\"line_width\":{\"value\":2},\"x\":{\"field\":\"x\"},\"y\":{\"field\":\"y\"}},\"id\":\"21f8b1d1-4baf-4ca3-8034-9d8ae258d9cd\",\"type\":\"Step\"},{\"attributes\":{},\"id\":\"331ad024-74ca-41b3-a6de-5c74b551d46a\",\"type\":\"LinearScale\"},{\"attributes\":{\"source\":{\"id\":\"bebb2bd3-07aa-4393-85c9-5425dac63153\",\"type\":\"ColumnDataSource\"}},\"id\":\"7ab9b4f2-5cc8-4c9e-a668-fe95e50507e7\",\"type\":\"CDSView\"},{\"attributes\":{\"bottom_units\":\"screen\",\"fill_alpha\":{\"value\":0.5},\"fill_color\":{\"value\":\"lightgrey\"},\"left_units\":\"screen\",\"level\":\"overlay\",\"line_alpha\":{\"value\":1.0},\"line_color\":{\"value\":\"black\"},\"line_dash\":[4,4],\"line_width\":{\"value\":2},\"plot\":null,\"render_mode\":\"css\",\"right_units\":\"screen\",\"top_units\":\"screen\"},\"id\":\"40fbee9f-3b1b-435e-a3fd-a0457a1a8ae8\",\"type\":\"BoxAnnotation\"},{\"attributes\":{},\"id\":\"77ef513b-337d-418a-b157-ffaf14e314ca\",\"type\":\"WheelZoomTool\"},{\"attributes\":{\"active_drag\":\"auto\",\"active_inspect\":\"auto\",\"active_multi\":null,\"active_scroll\":\"auto\",\"active_tap\":\"auto\",\"tools\":[{\"id\":\"27c81a25-5ef3-4b9b-8ac0-70c3c7b9a685\",\"type\":\"PanTool\"},{\"id\":\"77ef513b-337d-418a-b157-ffaf14e314ca\",\"type\":\"WheelZoomTool\"},{\"id\":\"a8f06a37-8ba6-4cc3-8790-963867d415a4\",\"type\":\"BoxZoomTool\"},{\"id\":\"3beb433b-7409-41db-b663-eafd5f5b0f27\",\"type\":\"SaveTool\"},{\"id\":\"6cbfb8b2-e79f-4d68-b575-2ff56f73744a\",\"type\":\"ResetTool\"},{\"id\":\"e11ef77f-8136-4730-9633-8b95e29f969c\",\"type\":\"HelpTool\"}]},\"id\":\"740f9a97-f730-46ca-a4d4-8cf085bb1f46\",\"type\":\"Toolbar\"},{\"attributes\":{},\"id\":\"8ae132f0-6d65-4ddd-8f65-ed5c6b5e2e91\",\"type\":\"BasicTickFormatter\"},{\"attributes\":{},\"id\":\"f8fa62e0-889c-4ba4-a47b-fe8f7827c503\",\"type\":\"BasicTicker\"},{\"attributes\":{\"below\":[{\"id\":\"10744f0b-c8eb-44e9-9057-d9cea257a924\",\"type\":\"LinearAxis\"}],\"left\":[{\"id\":\"41def598-298f-4087-ac1a-f8f0faecdbd4\",\"type\":\"LinearAxis\"}],\"plot_height\":300,\"renderers\":[{\"id\":\"10744f0b-c8eb-44e9-9057-d9cea257a924\",\"type\":\"LinearAxis\"},{\"id\":\"5f7ccf06-0274-4485-a2a0-6e37e1049cc3\",\"type\":\"Grid\"},{\"id\":\"41def598-298f-4087-ac1a-f8f0faecdbd4\",\"type\":\"LinearAxis\"},{\"id\":\"f9fc65e0-8178-40ae-90e2-9d2025995189\",\"type\":\"Grid\"},{\"id\":\"40fbee9f-3b1b-435e-a3fd-a0457a1a8ae8\",\"type\":\"BoxAnnotation\"},{\"id\":\"73d19f1d-fb9b-440a-8def-5db2e7388b92\",\"type\":\"GlyphRenderer\"}],\"title\":{\"id\":\"d3e7407b-31fa-4d7a-8750-1dc8637081e5\",\"type\":\"Title\"},\"toolbar\":{\"id\":\"740f9a97-f730-46ca-a4d4-8cf085bb1f46\",\"type\":\"Toolbar\"},\"x_range\":{\"id\":\"5e508a8b-b570-4171-9ee4-054815f55ba6\",\"type\":\"DataRange1d\"},\"x_scale\":{\"id\":\"eefa0deb-81a8-4de4-bd2e-9916412fdc1d\",\"type\":\"LinearScale\"},\"y_range\":{\"id\":\"bc67f611-fdb3-47d5-b9a3-d502ab2b6af3\",\"type\":\"DataRange1d\"},\"y_scale\":{\"id\":\"331ad024-74ca-41b3-a6de-5c74b551d46a\",\"type\":\"LinearScale\"}},\"id\":\"371b25aa-65ec-43a4-848d-007d893bf242\",\"subtype\":\"Figure\",\"type\":\"Plot\"},{\"attributes\":{\"data_source\":{\"id\":\"bebb2bd3-07aa-4393-85c9-5425dac63153\",\"type\":\"ColumnDataSource\"},\"glyph\":{\"id\":\"21f8b1d1-4baf-4ca3-8034-9d8ae258d9cd\",\"type\":\"Step\"},\"hover_glyph\":null,\"muted_glyph\":null,\"nonselection_glyph\":{\"id\":\"d378ab9a-c35c-498a-ab4e-5b394b0d56a4\",\"type\":\"Step\"},\"selection_glyph\":null,\"view\":{\"id\":\"7ab9b4f2-5cc8-4c9e-a668-fe95e50507e7\",\"type\":\"CDSView\"}},\"id\":\"73d19f1d-fb9b-440a-8def-5db2e7388b92\",\"type\":\"GlyphRenderer\"},{\"attributes\":{\"callback\":null},\"id\":\"bc67f611-fdb3-47d5-b9a3-d502ab2b6af3\",\"type\":\"DataRange1d\"},{\"attributes\":{},\"id\":\"3beb433b-7409-41db-b663-eafd5f5b0f27\",\"type\":\"SaveTool\"},{\"attributes\":{},\"id\":\"e11ef77f-8136-4730-9633-8b95e29f969c\",\"type\":\"HelpTool\"},{\"attributes\":{},\"id\":\"f3c9fe98-b384-4240-8fc1-a7e08ed00cdd\",\"type\":\"BasicTicker\"},{\"attributes\":{},\"id\":\"eefa0deb-81a8-4de4-bd2e-9916412fdc1d\",\"type\":\"LinearScale\"},{\"attributes\":{\"axis_label\":\"City area bins [km\\u00b2]\",\"axis_label_text_font\":\"verdana\",\"axis_label_text_font_style\":\"normal\",\"formatter\":{\"id\":\"58924e1d-6381-4309-9b8c-2b68ae2be997\",\"type\":\"BasicTickFormatter\"},\"major_label_orientation\":0.785,\"major_label_overrides\":{\"0\":\"0.5\",\"1\":\"0.6\",\"10\":\"6\",\"11\":\"7\",\"12\":\"8\",\"13\":\"9\",\"14\":\"10\",\"15\":\"20\",\"16\":\"30\",\"17\":\"40\",\"18\":\"50\",\"19\":\"60\",\"2\":\"0.7\",\"20\":\"70\",\"21\":\"80\",\"22\":\"90\",\"23\":\"100\",\"24\":\"200\",\"3\":\"0.8\",\"4\":\"0.9\",\"5\":\"1\",\"6\":\"2\",\"7\":\"3\",\"8\":\"4\",\"9\":\"5\"},\"major_label_text_font\":\"verdana\",\"plot\":{\"id\":\"371b25aa-65ec-43a4-848d-007d893bf242\",\"subtype\":\"Figure\",\"type\":\"Plot\"},\"ticker\":{\"id\":\"1c6f11b7-f0d0-498b-bd9e-4283331533ad\",\"type\":\"FixedTicker\"}},\"id\":\"10744f0b-c8eb-44e9-9057-d9cea257a924\",\"type\":\"LinearAxis\"},{\"attributes\":{\"callback\":null},\"id\":\"5e508a8b-b570-4171-9ee4-054815f55ba6\",\"type\":\"DataRange1d\"},{\"attributes\":{\"plot\":null,\"text\":\"City area distribution\",\"text_color\":{\"value\":\"#0276FD\"},\"text_font\":\"verdana\",\"text_font_size\":{\"value\":\"12pt\"}},\"id\":\"d3e7407b-31fa-4d7a-8750-1dc8637081e5\",\"type\":\"Title\"},{\"attributes\":{\"axis_label\":\"Percentile [%ile]\",\"axis_label_text_font\":\"verdana\",\"axis_label_text_font_style\":\"normal\",\"formatter\":{\"id\":\"8ae132f0-6d65-4ddd-8f65-ed5c6b5e2e91\",\"type\":\"BasicTickFormatter\"},\"major_label_text_font\":\"verdana\",\"plot\":{\"id\":\"371b25aa-65ec-43a4-848d-007d893bf242\",\"subtype\":\"Figure\",\"type\":\"Plot\"},\"ticker\":{\"id\":\"f3c9fe98-b384-4240-8fc1-a7e08ed00cdd\",\"type\":\"BasicTicker\"}},\"id\":\"41def598-298f-4087-ac1a-f8f0faecdbd4\",\"type\":\"LinearAxis\"},{\"attributes\":{},\"id\":\"2abb4c51-6d89-4ada-84d5-6b495ada8e57\",\"type\":\"Selection\"},{\"attributes\":{},\"id\":\"58924e1d-6381-4309-9b8c-2b68ae2be997\",\"type\":\"BasicTickFormatter\"},{\"attributes\":{\"overlay\":{\"id\":\"40fbee9f-3b1b-435e-a3fd-a0457a1a8ae8\",\"type\":\"BoxAnnotation\"}},\"id\":\"a8f06a37-8ba6-4cc3-8790-963867d415a4\",\"type\":\"BoxZoomTool\"},{\"attributes\":{\"line_alpha\":{\"value\":0.1},\"line_color\":{\"value\":\"#1f77b4\"},\"line_width\":{\"value\":2},\"x\":{\"field\":\"x\"},\"y\":{\"field\":\"y\"}},\"id\":\"d378ab9a-c35c-498a-ab4e-5b394b0d56a4\",\"type\":\"Step\"},{\"attributes\":{},\"id\":\"8518bf9f-3741-41e8-868a-7133a47993b4\",\"type\":\"UnionRenderers\"},{\"attributes\":{\"plot\":{\"id\":\"371b25aa-65ec-43a4-848d-007d893bf242\",\"subtype\":\"Figure\",\"type\":\"Plot\"},\"ticker\":{\"id\":\"f8fa62e0-889c-4ba4-a47b-fe8f7827c503\",\"type\":\"BasicTicker\"}},\"id\":\"5f7ccf06-0274-4485-a2a0-6e37e1049cc3\",\"type\":\"Grid\"},{\"attributes\":{\"dimension\":1,\"plot\":{\"id\":\"371b25aa-65ec-43a4-848d-007d893bf242\",\"subtype\":\"Figure\",\"type\":\"Plot\"},\"ticker\":{\"id\":\"f3c9fe98-b384-4240-8fc1-a7e08ed00cdd\",\"type\":\"BasicTicker\"}},\"id\":\"f9fc65e0-8178-40ae-90e2-9d2025995189\",\"type\":\"Grid\"}],\"root_ids\":[\"371b25aa-65ec-43a4-848d-007d893bf242\"]},\"title\":\"Bokeh Application\",\"version\":\"0.13.0\"}};\n",
       "  var render_items = [{\"docid\":\"79f7f59e-269d-4a37-a8ce-dbcb4392068a\",\"roots\":{\"371b25aa-65ec-43a4-848d-007d893bf242\":\"ba5e1f55-594a-40e0-b523-b476f94a273d\"}}];\n",
       "  root.Bokeh.embed.embed_items_notebook(docs_json, render_items);\n",
       "\n",
       "  }\n",
       "  if (root.Bokeh !== undefined) {\n",
       "    embed_document(root);\n",
       "  } else {\n",
       "    var attempts = 0;\n",
       "    var timer = setInterval(function(root) {\n",
       "      if (root.Bokeh !== undefined) {\n",
       "        embed_document(root);\n",
       "        clearInterval(timer);\n",
       "      }\n",
       "      attempts++;\n",
       "      if (attempts > 100) {\n",
       "        console.log(\"Bokeh: ERROR: Unable to run BokehJS code because BokehJS library is missing\")\n",
       "        clearInterval(timer);\n",
       "      }\n",
       "    }, 10, root)\n",
       "  }\n",
       "})(window);"
      ],
      "application/vnd.bokehjs_exec.v0+json": ""
     },
     "metadata": {
      "application/vnd.bokehjs_exec.v0+json": {
       "id": "371b25aa-65ec-43a4-848d-007d893bf242"
      }
     },
     "output_type": "display_data"
    }
   ],
   "source": [
    "#Plot cumulative distribution\n",
    "p2 = figure(plot_height=300, title=\"City area distribution\",\n",
    "           x_axis_label='City area bins'+ ' [km' + (u\"\\u00b2]\").encode('utf-8'), y_axis_label='Percentile [%ile]')\n",
    "p2.step(list(range(0,len(bin_edges))),[0]+[list(np.cumsum(hist))[x]/NumberOfCity for x in range(0,len(hist))],\n",
    "       line_color=\"#0276FD\",line_width=2)\n",
    "\n",
    "p2.xaxis.ticker = list(range(0,len(bin_edges)))\n",
    "p2.xaxis.major_label_orientation = 3.14/4\n",
    "p2.xaxis.major_label_overrides = {el:\"{:,}\".format((bin_edges[el]/100)) if (bin_edges[el]/100) < 1 else \"{:,}\".format(int(bin_edges[el]/100)) for el in range(0,len(bin_edges))}\n",
    "\n",
    "p2.title.text_font_size = '12pt'\n",
    "p2.title.text_color = \"#0276FD\"\n",
    "p2.title.text_font = \"verdana\"\n",
    "p2.yaxis.axis_label_text_font = \"verdana\"\n",
    "p2.yaxis.axis_label_text_font_style = \"normal\"\n",
    "p2.xaxis.axis_label_text_font = \"verdana\"\n",
    "p2.xaxis.axis_label_text_font_style = \"normal\"\n",
    "p2.xaxis.major_label_text_font = \"verdana\"\n",
    "p2.yaxis.major_label_text_font = \"verdana\"\n",
    "\n",
    "show(p2)"
   ]
  },
  {
   "cell_type": "markdown",
   "metadata": {},
   "source": [
    "## 3.4. Population density analysis"
   ]
  },
  {
   "cell_type": "code",
   "execution_count": 13,
   "metadata": {},
   "outputs": [
    {
     "name": "stdout",
     "output_type": "stream",
     "text": [
      "Densité totale: 149 pop/km²\n",
      "Densité moyenne: 155 pop/km²\n",
      "Densité mediane: 74 pop/km²\n",
      "Densité la plus faible: 14 pop/km²\n",
      "Densité la plus élevée: 4,195 pop/km²\n"
     ]
    }
   ],
   "source": [
    "#Statistics about area\n",
    "TotalDensity = int(TotalPopulation/TotalArea) # pop/km2\n",
    "AverageDensity = int(np.mean(AllDensityList)) # Densité moyenne \n",
    "MedianDensity = int(np.median(AllDensityList)) # Densité mediane\n",
    "MinDensity = int(np.min(AllDensityList)) # Densité la plus faible\n",
    "MaxDensity = int(np.max(AllDensityList)) # Densité la plus élevée\n",
    "\n",
    "print 'Densité totale: ' + \"{:,}\".format(TotalDensity) + ' pop/km' + (u\"\\u00b2\").encode('utf-8') \n",
    "print 'Densité moyenne: '+ \"{:,}\".format(AverageDensity) + ' pop/km' + (u\"\\u00b2\").encode('utf-8') \n",
    "print 'Densité mediane: '+ \"{:,}\".format(MedianDensity) + ' pop/km' + (u\"\\u00b2\").encode('utf-8') \n",
    "print 'Densité la plus faible: '+ \"{:,}\".format(MinDensity) + ' pop/km' + (u\"\\u00b2\").encode('utf-8') #+ ' (' + str(list(mydb[CollectionName].find({'surface': MinDensity},{'nom':1,'_id':0}))[0]['nom'].encode('utf-8')) + ')'\n",
    "print 'Densité la plus élevée: '+ \"{:,}\".format(MaxDensity) + ' pop/km' + (u\"\\u00b2\").encode('utf-8') # + ' (' + str(list(mydb[CollectionName].find({'surface': MaxDensity},{'nom':1,'_id':0}))[0]['nom'].encode('utf-8')) + ')'"
   ]
  },
  {
   "cell_type": "markdown",
   "metadata": {},
   "source": [
    "### 3.4.1 Population density histogram"
   ]
  },
  {
   "cell_type": "code",
   "execution_count": 14,
   "metadata": {
    "collapsed": true
   },
   "outputs": [],
   "source": [
    "# Prepare the data for plot\n",
    "start = Fcn_BasicStatisticalAnalysisOfPopulation.DefineMinMaxLog(MinDensity,'Min')\n",
    "stop = Fcn_BasicStatisticalAnalysisOfPopulation.DefineMinMaxLog(MaxDensity,'Max')\n",
    "bins = Fcn_BasicStatisticalAnalysisOfPopulation.CreateLogBin(start,stop)\n",
    "hist, bin_edges = np.histogram(AllDensityList, bins=bins)\n",
    "\n",
    "# Remove the first and last value when hist is 0 - Comment out this line to show forall log scale\n",
    "hist, bin_edges = Fcn_BasicStatisticalAnalysisOfPopulation.RemoveLastFirstValuesWhenZero(hist, bin_edges)"
   ]
  },
  {
   "cell_type": "code",
   "execution_count": 15,
   "metadata": {},
   "outputs": [
    {
     "data": {
      "text/html": [
       "\n",
       "\n",
       "\n",
       "\n",
       "\n",
       "\n",
       "  <div class=\"bk-root\" id=\"ce934a41-5404-4aea-9739-83a6fe936878\"></div>\n"
      ]
     },
     "metadata": {},
     "output_type": "display_data"
    },
    {
     "data": {
      "application/javascript": [
       "(function(root) {\n",
       "  function embed_document(root) {\n",
       "    \n",
       "  var docs_json = {\"0c9d76f3-7957-4123-b431-278579e1fabe\":{\"roots\":{\"references\":[{\"attributes\":{},\"id\":\"6d62c365-1abf-4320-a987-9a239d28733e\",\"type\":\"PanTool\"},{\"attributes\":{},\"id\":\"acf4e09f-c3e8-44ba-8dce-33eeee3812e9\",\"type\":\"SaveTool\"},{\"attributes\":{\"source\":{\"id\":\"01b4202c-083b-4f77-8752-4fc154b82904\",\"type\":\"ColumnDataSource\"}},\"id\":\"40702868-28b8-44c7-8523-6ffc17c7b992\",\"type\":\"CDSView\"},{\"attributes\":{\"data_source\":{\"id\":\"01b4202c-083b-4f77-8752-4fc154b82904\",\"type\":\"ColumnDataSource\"},\"glyph\":{\"id\":\"d69fd5ab-9205-4a46-92f1-716a26aad628\",\"type\":\"Quad\"},\"hover_glyph\":null,\"muted_glyph\":null,\"nonselection_glyph\":{\"id\":\"df2ef0cb-4a92-42e3-87ac-89692c60c5cb\",\"type\":\"Quad\"},\"selection_glyph\":null,\"view\":{\"id\":\"40702868-28b8-44c7-8523-6ffc17c7b992\",\"type\":\"CDSView\"}},\"id\":\"860adaa6-82f0-413c-b400-71700535387f\",\"type\":\"GlyphRenderer\"},{\"attributes\":{\"callback\":null},\"id\":\"9676b0f8-d835-4c86-af5f-7f00e9d77129\",\"type\":\"DataRange1d\"},{\"attributes\":{},\"id\":\"fcce32a9-6339-4f42-909e-215d78186d2b\",\"type\":\"LinearScale\"},{\"attributes\":{\"axis_label\":\"Count [#]\",\"axis_label_text_font\":\"verdana\",\"axis_label_text_font_style\":\"normal\",\"formatter\":{\"id\":\"7b220ad8-bc71-4ad1-b43f-cd69a852dc72\",\"type\":\"BasicTickFormatter\"},\"major_label_text_font\":\"verdana\",\"plot\":{\"id\":\"4956f71f-089e-4d44-b521-a090e3522475\",\"subtype\":\"Figure\",\"type\":\"Plot\"},\"ticker\":{\"id\":\"11fb1c08-2dab-49fa-9757-6b10fe30019a\",\"type\":\"BasicTicker\"}},\"id\":\"6f2cdf77-21ec-4d6f-bd77-1cf11c22f28b\",\"type\":\"LinearAxis\"},{\"attributes\":{},\"id\":\"4f244a52-ce25-4363-91d3-f5a978aa80df\",\"type\":\"HelpTool\"},{\"attributes\":{},\"id\":\"3b7b1545-7dfd-4296-b458-81e6c49732bc\",\"type\":\"LinearScale\"},{\"attributes\":{\"callback\":null,\"data\":{\"left\":[0,1,2,3,4,5,6,7,8,9,10,11,12,13,14,15,16,17,18,19,20,21],\"right\":[1,2,3,4,5,6,7,8,9,10,11,12,13,14,15,16,17,18,19,20,21,22],\"top\":[1,10,33,46,34,38,26,17,13,63,29,11,5,7,2,2,1,1,5,0,0,1]},\"selected\":{\"id\":\"ede01c39-3887-435f-845f-70a900613486\",\"type\":\"Selection\"},\"selection_policy\":{\"id\":\"676d5f9f-d10e-4b2d-992c-7f6e7aa9da3c\",\"type\":\"UnionRenderers\"}},\"id\":\"01b4202c-083b-4f77-8752-4fc154b82904\",\"type\":\"ColumnDataSource\"},{\"attributes\":{},\"id\":\"c19b6591-2fac-4f98-800c-14b4b6a6b744\",\"type\":\"WheelZoomTool\"},{\"attributes\":{\"below\":[{\"id\":\"ee06a0f7-b7b6-44c5-a5fb-7eea30c99b4e\",\"type\":\"LinearAxis\"}],\"left\":[{\"id\":\"6f2cdf77-21ec-4d6f-bd77-1cf11c22f28b\",\"type\":\"LinearAxis\"}],\"plot_height\":300,\"renderers\":[{\"id\":\"ee06a0f7-b7b6-44c5-a5fb-7eea30c99b4e\",\"type\":\"LinearAxis\"},{\"id\":\"c6cb4921-3dcd-4981-a087-f8028d62a534\",\"type\":\"Grid\"},{\"id\":\"6f2cdf77-21ec-4d6f-bd77-1cf11c22f28b\",\"type\":\"LinearAxis\"},{\"id\":\"7f4c08f5-b817-4c49-b1c1-b7c690460aa9\",\"type\":\"Grid\"},{\"id\":\"2d95515c-7364-4edb-aec4-cfb7802300dd\",\"type\":\"BoxAnnotation\"},{\"id\":\"860adaa6-82f0-413c-b400-71700535387f\",\"type\":\"GlyphRenderer\"}],\"title\":{\"id\":\"10b463bb-359e-42f6-9cca-1f796826cda1\",\"type\":\"Title\"},\"toolbar\":{\"id\":\"12a8ce33-d527-4f1b-961b-73cdd971cc33\",\"type\":\"Toolbar\"},\"x_range\":{\"id\":\"9676b0f8-d835-4c86-af5f-7f00e9d77129\",\"type\":\"DataRange1d\"},\"x_scale\":{\"id\":\"3b7b1545-7dfd-4296-b458-81e6c49732bc\",\"type\":\"LinearScale\"},\"y_range\":{\"id\":\"2173971c-ea2f-4e73-9441-adc27079705d\",\"type\":\"DataRange1d\"},\"y_scale\":{\"id\":\"fcce32a9-6339-4f42-909e-215d78186d2b\",\"type\":\"LinearScale\"}},\"id\":\"4956f71f-089e-4d44-b521-a090e3522475\",\"subtype\":\"Figure\",\"type\":\"Plot\"},{\"attributes\":{},\"id\":\"676d5f9f-d10e-4b2d-992c-7f6e7aa9da3c\",\"type\":\"UnionRenderers\"},{\"attributes\":{\"overlay\":{\"id\":\"2d95515c-7364-4edb-aec4-cfb7802300dd\",\"type\":\"BoxAnnotation\"}},\"id\":\"1f78f8b0-0fd7-40a5-9139-fa16115f3fb5\",\"type\":\"BoxZoomTool\"},{\"attributes\":{},\"id\":\"ede01c39-3887-435f-845f-70a900613486\",\"type\":\"Selection\"},{\"attributes\":{},\"id\":\"11fb1c08-2dab-49fa-9757-6b10fe30019a\",\"type\":\"BasicTicker\"},{\"attributes\":{\"bottom_units\":\"screen\",\"fill_alpha\":{\"value\":0.5},\"fill_color\":{\"value\":\"lightgrey\"},\"left_units\":\"screen\",\"level\":\"overlay\",\"line_alpha\":{\"value\":1.0},\"line_color\":{\"value\":\"black\"},\"line_dash\":[4,4],\"line_width\":{\"value\":2},\"plot\":null,\"render_mode\":\"css\",\"right_units\":\"screen\",\"top_units\":\"screen\"},\"id\":\"2d95515c-7364-4edb-aec4-cfb7802300dd\",\"type\":\"BoxAnnotation\"},{\"attributes\":{},\"id\":\"7b220ad8-bc71-4ad1-b43f-cd69a852dc72\",\"type\":\"BasicTickFormatter\"},{\"attributes\":{\"bottom\":{\"value\":0},\"fill_color\":{\"value\":\"#0276FD\"},\"left\":{\"field\":\"left\"},\"line_color\":{\"value\":\"#5F5B5B\"},\"right\":{\"field\":\"right\"},\"top\":{\"field\":\"top\"}},\"id\":\"d69fd5ab-9205-4a46-92f1-716a26aad628\",\"type\":\"Quad\"},{\"attributes\":{\"bottom\":{\"value\":0},\"fill_alpha\":{\"value\":0.1},\"fill_color\":{\"value\":\"#1f77b4\"},\"left\":{\"field\":\"left\"},\"line_alpha\":{\"value\":0.1},\"line_color\":{\"value\":\"#1f77b4\"},\"right\":{\"field\":\"right\"},\"top\":{\"field\":\"top\"}},\"id\":\"df2ef0cb-4a92-42e3-87ac-89692c60c5cb\",\"type\":\"Quad\"},{\"attributes\":{\"dimension\":1,\"plot\":{\"id\":\"4956f71f-089e-4d44-b521-a090e3522475\",\"subtype\":\"Figure\",\"type\":\"Plot\"},\"ticker\":{\"id\":\"11fb1c08-2dab-49fa-9757-6b10fe30019a\",\"type\":\"BasicTicker\"}},\"id\":\"7f4c08f5-b817-4c49-b1c1-b7c690460aa9\",\"type\":\"Grid\"},{\"attributes\":{},\"id\":\"8c71d570-3398-4816-abaf-85b73c0881c2\",\"type\":\"BasicTickFormatter\"},{\"attributes\":{},\"id\":\"1d79838c-2024-46ec-8a03-67e1b6060af3\",\"type\":\"ResetTool\"},{\"attributes\":{\"plot\":{\"id\":\"4956f71f-089e-4d44-b521-a090e3522475\",\"subtype\":\"Figure\",\"type\":\"Plot\"},\"ticker\":{\"id\":\"03a9d804-66e3-45f9-9946-b3b63b8ec379\",\"type\":\"BasicTicker\"}},\"id\":\"c6cb4921-3dcd-4981-a087-f8028d62a534\",\"type\":\"Grid\"},{\"attributes\":{\"axis_label\":\"City population density bins [pop/km\\u00b2]\",\"axis_label_text_font\":\"verdana\",\"axis_label_text_font_style\":\"normal\",\"formatter\":{\"id\":\"8c71d570-3398-4816-abaf-85b73c0881c2\",\"type\":\"BasicTickFormatter\"},\"major_label_orientation\":0.785,\"major_label_overrides\":{\"0\":\"10\",\"1\":\"20\",\"10\":\"200\",\"11\":\"300\",\"12\":\"400\",\"13\":\"500\",\"14\":\"600\",\"15\":\"700\",\"16\":\"800\",\"17\":\"900\",\"18\":\"1,000\",\"19\":\"2,000\",\"2\":\"30\",\"20\":\"3,000\",\"21\":\"4,000\",\"22\":\"5,000\",\"3\":\"40\",\"4\":\"50\",\"5\":\"60\",\"6\":\"70\",\"7\":\"80\",\"8\":\"90\",\"9\":\"100\"},\"major_label_text_font\":\"verdana\",\"plot\":{\"id\":\"4956f71f-089e-4d44-b521-a090e3522475\",\"subtype\":\"Figure\",\"type\":\"Plot\"},\"ticker\":{\"id\":\"969e46f9-a45e-4cfa-af63-0131160e021d\",\"type\":\"FixedTicker\"}},\"id\":\"ee06a0f7-b7b6-44c5-a5fb-7eea30c99b4e\",\"type\":\"LinearAxis\"},{\"attributes\":{\"ticks\":[0,1,2,3,4,5,6,7,8,9,10,11,12,13,14,15,16,17,18,19,20,21,22]},\"id\":\"969e46f9-a45e-4cfa-af63-0131160e021d\",\"type\":\"FixedTicker\"},{\"attributes\":{\"callback\":null},\"id\":\"2173971c-ea2f-4e73-9441-adc27079705d\",\"type\":\"DataRange1d\"},{\"attributes\":{},\"id\":\"03a9d804-66e3-45f9-9946-b3b63b8ec379\",\"type\":\"BasicTicker\"},{\"attributes\":{\"plot\":null,\"text\":\"City population density\",\"text_color\":{\"value\":\"#0276FD\"},\"text_font\":\"verdana\",\"text_font_size\":{\"value\":\"12pt\"}},\"id\":\"10b463bb-359e-42f6-9cca-1f796826cda1\",\"type\":\"Title\"},{\"attributes\":{\"active_drag\":\"auto\",\"active_inspect\":\"auto\",\"active_multi\":null,\"active_scroll\":\"auto\",\"active_tap\":\"auto\",\"tools\":[{\"id\":\"6d62c365-1abf-4320-a987-9a239d28733e\",\"type\":\"PanTool\"},{\"id\":\"c19b6591-2fac-4f98-800c-14b4b6a6b744\",\"type\":\"WheelZoomTool\"},{\"id\":\"1f78f8b0-0fd7-40a5-9139-fa16115f3fb5\",\"type\":\"BoxZoomTool\"},{\"id\":\"acf4e09f-c3e8-44ba-8dce-33eeee3812e9\",\"type\":\"SaveTool\"},{\"id\":\"1d79838c-2024-46ec-8a03-67e1b6060af3\",\"type\":\"ResetTool\"},{\"id\":\"4f244a52-ce25-4363-91d3-f5a978aa80df\",\"type\":\"HelpTool\"}]},\"id\":\"12a8ce33-d527-4f1b-961b-73cdd971cc33\",\"type\":\"Toolbar\"}],\"root_ids\":[\"4956f71f-089e-4d44-b521-a090e3522475\"]},\"title\":\"Bokeh Application\",\"version\":\"0.13.0\"}};\n",
       "  var render_items = [{\"docid\":\"0c9d76f3-7957-4123-b431-278579e1fabe\",\"roots\":{\"4956f71f-089e-4d44-b521-a090e3522475\":\"ce934a41-5404-4aea-9739-83a6fe936878\"}}];\n",
       "  root.Bokeh.embed.embed_items_notebook(docs_json, render_items);\n",
       "\n",
       "  }\n",
       "  if (root.Bokeh !== undefined) {\n",
       "    embed_document(root);\n",
       "  } else {\n",
       "    var attempts = 0;\n",
       "    var timer = setInterval(function(root) {\n",
       "      if (root.Bokeh !== undefined) {\n",
       "        embed_document(root);\n",
       "        clearInterval(timer);\n",
       "      }\n",
       "      attempts++;\n",
       "      if (attempts > 100) {\n",
       "        console.log(\"Bokeh: ERROR: Unable to run BokehJS code because BokehJS library is missing\")\n",
       "        clearInterval(timer);\n",
       "      }\n",
       "    }, 10, root)\n",
       "  }\n",
       "})(window);"
      ],
      "application/vnd.bokehjs_exec.v0+json": ""
     },
     "metadata": {
      "application/vnd.bokehjs_exec.v0+json": {
       "id": "4956f71f-089e-4d44-b521-a090e3522475"
      }
     },
     "output_type": "display_data"
    }
   ],
   "source": [
    "# Plot histogram\n",
    "p1 = figure(plot_height=300, title=\"City population density\",\n",
    "           x_axis_label='City population density bins'+ ' [pop/km' + (u\"\\u00b2]\").encode('utf-8'), y_axis_label='Count [#]')\n",
    "p1.quad(top=list(hist), bottom=0, left=list(range(0,len(bin_edges)))[:-1], right=list(range(0,len(bin_edges)))[1:],\n",
    "       fill_color = \"#0276FD\", line_color = \"#5F5B5B\", alpha=1)\n",
    "\n",
    "p1.xaxis.ticker = list(range(0,len(bin_edges)))\n",
    "p1.xaxis.major_label_orientation = 3.14/4\n",
    "p1.xaxis.major_label_overrides = {el:\"{:,}\".format((bin_edges[el])) if (bin_edges[el]) < 1 else \"{:,}\".format(int(bin_edges[el])) for el in range(0,len(bin_edges))}\n",
    "p1.title.text_font_size = '12pt'\n",
    "p1.title.text_color = \"#0276FD\"\n",
    "p1.title.text_font = \"verdana\"\n",
    "p1.yaxis.axis_label_text_font = \"verdana\"\n",
    "p1.yaxis.axis_label_text_font_style = \"normal\"\n",
    "p1.xaxis.axis_label_text_font = \"verdana\"\n",
    "p1.xaxis.axis_label_text_font_style = \"normal\"\n",
    "p1.xaxis.major_label_text_font = \"verdana\"\n",
    "p1.yaxis.major_label_text_font = \"verdana\"\n",
    "\n",
    "show(p1)"
   ]
  },
  {
   "cell_type": "markdown",
   "metadata": {},
   "source": [
    "### 3.4.2 Population density cumulative distribution"
   ]
  },
  {
   "cell_type": "code",
   "execution_count": 16,
   "metadata": {},
   "outputs": [
    {
     "data": {
      "text/html": [
       "\n",
       "\n",
       "\n",
       "\n",
       "\n",
       "\n",
       "  <div class=\"bk-root\" id=\"7c838855-dcc1-4213-9a54-eb6a79d870ce\"></div>\n"
      ]
     },
     "metadata": {},
     "output_type": "display_data"
    },
    {
     "data": {
      "application/javascript": [
       "(function(root) {\n",
       "  function embed_document(root) {\n",
       "    \n",
       "  var docs_json = {\"c233ec7c-186e-47fd-aac2-1a3a2b7d5d3e\":{\"roots\":{\"references\":[{\"attributes\":{},\"id\":\"6815af49-c560-4f01-8287-1182eff50249\",\"type\":\"BasicTicker\"},{\"attributes\":{},\"id\":\"75933f05-62c7-4db2-8140-d1d4dc9d6da3\",\"type\":\"Selection\"},{\"attributes\":{},\"id\":\"f69bc328-9786-4444-bbae-45704628ab10\",\"type\":\"SaveTool\"},{\"attributes\":{\"line_alpha\":{\"value\":0.1},\"line_color\":{\"value\":\"#1f77b4\"},\"line_width\":{\"value\":2},\"x\":{\"field\":\"x\"},\"y\":{\"field\":\"y\"}},\"id\":\"880d3943-cbee-4f36-abcf-37cd26a096cb\",\"type\":\"Step\"},{\"attributes\":{\"dimension\":1,\"plot\":{\"id\":\"5f054a03-2cb8-4cf7-ac17-470debfa539e\",\"subtype\":\"Figure\",\"type\":\"Plot\"},\"ticker\":{\"id\":\"467a7fb4-1a64-4b74-bdeb-66296a11f2c0\",\"type\":\"BasicTicker\"}},\"id\":\"b24157f1-c7f9-4698-91ed-1512fa348e1d\",\"type\":\"Grid\"},{\"attributes\":{\"bottom_units\":\"screen\",\"fill_alpha\":{\"value\":0.5},\"fill_color\":{\"value\":\"lightgrey\"},\"left_units\":\"screen\",\"level\":\"overlay\",\"line_alpha\":{\"value\":1.0},\"line_color\":{\"value\":\"black\"},\"line_dash\":[4,4],\"line_width\":{\"value\":2},\"plot\":null,\"render_mode\":\"css\",\"right_units\":\"screen\",\"top_units\":\"screen\"},\"id\":\"a1ae902d-bcd8-40b8-9f4c-886f247b2993\",\"type\":\"BoxAnnotation\"},{\"attributes\":{},\"id\":\"a1d5215c-27c0-4e2e-94c2-3fb48e4f03a3\",\"type\":\"UnionRenderers\"},{\"attributes\":{\"callback\":null},\"id\":\"355f42f3-8090-45ba-a3fa-f9838c92ee90\",\"type\":\"DataRange1d\"},{\"attributes\":{\"line_color\":{\"value\":\"#0276FD\"},\"line_width\":{\"value\":2},\"x\":{\"field\":\"x\"},\"y\":{\"field\":\"y\"}},\"id\":\"cfa05f95-7330-4cd7-839f-743fceed15d7\",\"type\":\"Step\"},{\"attributes\":{},\"id\":\"467a7fb4-1a64-4b74-bdeb-66296a11f2c0\",\"type\":\"BasicTicker\"},{\"attributes\":{\"callback\":null},\"id\":\"498dfb48-5078-4ce4-9540-bc57727dd880\",\"type\":\"DataRange1d\"},{\"attributes\":{\"overlay\":{\"id\":\"a1ae902d-bcd8-40b8-9f4c-886f247b2993\",\"type\":\"BoxAnnotation\"}},\"id\":\"34a122c9-81b3-4045-b92b-3a922782a882\",\"type\":\"BoxZoomTool\"},{\"attributes\":{\"callback\":null,\"data\":{\"x\":[0,1,2,3,4,5,6,7,8,9,10,11,12,13,14,15,16,17,18,19,20,21,22],\"y\":[0,0.002898550724637681,0.03188405797101449,0.12753623188405797,0.2608695652173913,0.35942028985507246,0.46956521739130436,0.5449275362318841,0.5942028985507246,0.6318840579710145,0.8144927536231884,0.8985507246376812,0.9304347826086956,0.9449275362318841,0.9652173913043478,0.9710144927536232,0.9768115942028985,0.9797101449275363,0.9826086956521739,0.9971014492753624,0.9971014492753624,0.9971014492753624,1.0]},\"selected\":{\"id\":\"75933f05-62c7-4db2-8140-d1d4dc9d6da3\",\"type\":\"Selection\"},\"selection_policy\":{\"id\":\"a1d5215c-27c0-4e2e-94c2-3fb48e4f03a3\",\"type\":\"UnionRenderers\"}},\"id\":\"991b58aa-aa7a-4863-be13-44f822b41ad5\",\"type\":\"ColumnDataSource\"},{\"attributes\":{\"active_drag\":\"auto\",\"active_inspect\":\"auto\",\"active_multi\":null,\"active_scroll\":\"auto\",\"active_tap\":\"auto\",\"tools\":[{\"id\":\"9c2898f5-9ba8-4821-82f9-89c2953c1cbc\",\"type\":\"PanTool\"},{\"id\":\"b558738a-a833-41ec-b971-0dad66e17e20\",\"type\":\"WheelZoomTool\"},{\"id\":\"34a122c9-81b3-4045-b92b-3a922782a882\",\"type\":\"BoxZoomTool\"},{\"id\":\"f69bc328-9786-4444-bbae-45704628ab10\",\"type\":\"SaveTool\"},{\"id\":\"708db448-ca34-4496-927e-7463f5170720\",\"type\":\"ResetTool\"},{\"id\":\"408a1a59-173d-42e5-822e-425d365ee1b4\",\"type\":\"HelpTool\"}]},\"id\":\"fa9858c8-606f-4346-8acf-33d3c62a81dc\",\"type\":\"Toolbar\"},{\"attributes\":{},\"id\":\"84320fd1-a6fb-4965-a3c1-a493721bc1e2\",\"type\":\"LinearScale\"},{\"attributes\":{},\"id\":\"b00f22f5-c294-4fe0-8aff-312b64cf0f3b\",\"type\":\"BasicTickFormatter\"},{\"attributes\":{},\"id\":\"9c2898f5-9ba8-4821-82f9-89c2953c1cbc\",\"type\":\"PanTool\"},{\"attributes\":{},\"id\":\"b558738a-a833-41ec-b971-0dad66e17e20\",\"type\":\"WheelZoomTool\"},{\"attributes\":{\"axis_label\":\"City population density bins [pop/km\\u00b2]\",\"axis_label_text_font\":\"verdana\",\"axis_label_text_font_style\":\"normal\",\"formatter\":{\"id\":\"805e7738-60d1-42c3-91c6-a67870924144\",\"type\":\"BasicTickFormatter\"},\"major_label_orientation\":0.785,\"major_label_overrides\":{\"0\":\"10\",\"1\":\"20\",\"10\":\"200\",\"11\":\"300\",\"12\":\"400\",\"13\":\"500\",\"14\":\"600\",\"15\":\"700\",\"16\":\"800\",\"17\":\"900\",\"18\":\"1,000\",\"19\":\"2,000\",\"2\":\"30\",\"20\":\"3,000\",\"21\":\"4,000\",\"22\":\"5,000\",\"3\":\"40\",\"4\":\"50\",\"5\":\"60\",\"6\":\"70\",\"7\":\"80\",\"8\":\"90\",\"9\":\"100\"},\"major_label_text_font\":\"verdana\",\"plot\":{\"id\":\"5f054a03-2cb8-4cf7-ac17-470debfa539e\",\"subtype\":\"Figure\",\"type\":\"Plot\"},\"ticker\":{\"id\":\"174b56a7-228e-42f3-a171-79c29b05ca6e\",\"type\":\"FixedTicker\"}},\"id\":\"23389903-118f-4ade-ac21-bf040aff6906\",\"type\":\"LinearAxis\"},{\"attributes\":{},\"id\":\"805e7738-60d1-42c3-91c6-a67870924144\",\"type\":\"BasicTickFormatter\"},{\"attributes\":{\"axis_label\":\"Percentile [%ile]\",\"axis_label_text_font\":\"verdana\",\"axis_label_text_font_style\":\"normal\",\"formatter\":{\"id\":\"b00f22f5-c294-4fe0-8aff-312b64cf0f3b\",\"type\":\"BasicTickFormatter\"},\"major_label_text_font\":\"verdana\",\"plot\":{\"id\":\"5f054a03-2cb8-4cf7-ac17-470debfa539e\",\"subtype\":\"Figure\",\"type\":\"Plot\"},\"ticker\":{\"id\":\"467a7fb4-1a64-4b74-bdeb-66296a11f2c0\",\"type\":\"BasicTicker\"}},\"id\":\"6f1d14e4-9b32-4fc2-b727-08e2df976672\",\"type\":\"LinearAxis\"},{\"attributes\":{},\"id\":\"29ea4037-6f00-424c-b518-4c213b644065\",\"type\":\"LinearScale\"},{\"attributes\":{\"ticks\":[0,1,2,3,4,5,6,7,8,9,10,11,12,13,14,15,16,17,18,19,20,21,22]},\"id\":\"174b56a7-228e-42f3-a171-79c29b05ca6e\",\"type\":\"FixedTicker\"},{\"attributes\":{\"plot\":{\"id\":\"5f054a03-2cb8-4cf7-ac17-470debfa539e\",\"subtype\":\"Figure\",\"type\":\"Plot\"},\"ticker\":{\"id\":\"6815af49-c560-4f01-8287-1182eff50249\",\"type\":\"BasicTicker\"}},\"id\":\"ef676f6a-b5ae-42fc-9aa4-4da729fc79cb\",\"type\":\"Grid\"},{\"attributes\":{\"source\":{\"id\":\"991b58aa-aa7a-4863-be13-44f822b41ad5\",\"type\":\"ColumnDataSource\"}},\"id\":\"b6abd648-18a3-40f2-b7a2-613daddf5562\",\"type\":\"CDSView\"},{\"attributes\":{},\"id\":\"708db448-ca34-4496-927e-7463f5170720\",\"type\":\"ResetTool\"},{\"attributes\":{\"plot\":null,\"text\":\"City population density distribution\",\"text_color\":{\"value\":\"#0276FD\"},\"text_font\":\"verdana\",\"text_font_size\":{\"value\":\"12pt\"}},\"id\":\"bfdb6477-976b-4a0f-a33b-7937d000cbed\",\"type\":\"Title\"},{\"attributes\":{\"below\":[{\"id\":\"23389903-118f-4ade-ac21-bf040aff6906\",\"type\":\"LinearAxis\"}],\"left\":[{\"id\":\"6f1d14e4-9b32-4fc2-b727-08e2df976672\",\"type\":\"LinearAxis\"}],\"plot_height\":300,\"renderers\":[{\"id\":\"23389903-118f-4ade-ac21-bf040aff6906\",\"type\":\"LinearAxis\"},{\"id\":\"ef676f6a-b5ae-42fc-9aa4-4da729fc79cb\",\"type\":\"Grid\"},{\"id\":\"6f1d14e4-9b32-4fc2-b727-08e2df976672\",\"type\":\"LinearAxis\"},{\"id\":\"b24157f1-c7f9-4698-91ed-1512fa348e1d\",\"type\":\"Grid\"},{\"id\":\"a1ae902d-bcd8-40b8-9f4c-886f247b2993\",\"type\":\"BoxAnnotation\"},{\"id\":\"871b9bf6-1b43-4ecf-9a9c-64547a92fa4f\",\"type\":\"GlyphRenderer\"}],\"title\":{\"id\":\"bfdb6477-976b-4a0f-a33b-7937d000cbed\",\"type\":\"Title\"},\"toolbar\":{\"id\":\"fa9858c8-606f-4346-8acf-33d3c62a81dc\",\"type\":\"Toolbar\"},\"x_range\":{\"id\":\"498dfb48-5078-4ce4-9540-bc57727dd880\",\"type\":\"DataRange1d\"},\"x_scale\":{\"id\":\"29ea4037-6f00-424c-b518-4c213b644065\",\"type\":\"LinearScale\"},\"y_range\":{\"id\":\"355f42f3-8090-45ba-a3fa-f9838c92ee90\",\"type\":\"DataRange1d\"},\"y_scale\":{\"id\":\"84320fd1-a6fb-4965-a3c1-a493721bc1e2\",\"type\":\"LinearScale\"}},\"id\":\"5f054a03-2cb8-4cf7-ac17-470debfa539e\",\"subtype\":\"Figure\",\"type\":\"Plot\"},{\"attributes\":{},\"id\":\"408a1a59-173d-42e5-822e-425d365ee1b4\",\"type\":\"HelpTool\"},{\"attributes\":{\"data_source\":{\"id\":\"991b58aa-aa7a-4863-be13-44f822b41ad5\",\"type\":\"ColumnDataSource\"},\"glyph\":{\"id\":\"cfa05f95-7330-4cd7-839f-743fceed15d7\",\"type\":\"Step\"},\"hover_glyph\":null,\"muted_glyph\":null,\"nonselection_glyph\":{\"id\":\"880d3943-cbee-4f36-abcf-37cd26a096cb\",\"type\":\"Step\"},\"selection_glyph\":null,\"view\":{\"id\":\"b6abd648-18a3-40f2-b7a2-613daddf5562\",\"type\":\"CDSView\"}},\"id\":\"871b9bf6-1b43-4ecf-9a9c-64547a92fa4f\",\"type\":\"GlyphRenderer\"}],\"root_ids\":[\"5f054a03-2cb8-4cf7-ac17-470debfa539e\"]},\"title\":\"Bokeh Application\",\"version\":\"0.13.0\"}};\n",
       "  var render_items = [{\"docid\":\"c233ec7c-186e-47fd-aac2-1a3a2b7d5d3e\",\"roots\":{\"5f054a03-2cb8-4cf7-ac17-470debfa539e\":\"7c838855-dcc1-4213-9a54-eb6a79d870ce\"}}];\n",
       "  root.Bokeh.embed.embed_items_notebook(docs_json, render_items);\n",
       "\n",
       "  }\n",
       "  if (root.Bokeh !== undefined) {\n",
       "    embed_document(root);\n",
       "  } else {\n",
       "    var attempts = 0;\n",
       "    var timer = setInterval(function(root) {\n",
       "      if (root.Bokeh !== undefined) {\n",
       "        embed_document(root);\n",
       "        clearInterval(timer);\n",
       "      }\n",
       "      attempts++;\n",
       "      if (attempts > 100) {\n",
       "        console.log(\"Bokeh: ERROR: Unable to run BokehJS code because BokehJS library is missing\")\n",
       "        clearInterval(timer);\n",
       "      }\n",
       "    }, 10, root)\n",
       "  }\n",
       "})(window);"
      ],
      "application/vnd.bokehjs_exec.v0+json": ""
     },
     "metadata": {
      "application/vnd.bokehjs_exec.v0+json": {
       "id": "5f054a03-2cb8-4cf7-ac17-470debfa539e"
      }
     },
     "output_type": "display_data"
    }
   ],
   "source": [
    "#Plot cumulative distribution\n",
    "p2 = figure(plot_height=300, title=\"City population density distribution\",\n",
    "           x_axis_label='City population density bins'+ ' [pop/km' + (u\"\\u00b2]\").encode('utf-8'), y_axis_label='Percentile [%ile]')\n",
    "p2.step(list(range(0,len(bin_edges))),[0]+[list(np.cumsum(hist))[x]/NumberOfCity for x in range(0,len(hist))],\n",
    "       line_color=\"#0276FD\",line_width=2)\n",
    "\n",
    "p2.xaxis.ticker = list(range(0,len(bin_edges)))\n",
    "p2.xaxis.major_label_orientation = 3.14/4\n",
    "p2.xaxis.major_label_overrides = {el:\"{:,}\".format((bin_edges[el])) if (bin_edges[el]) < 1 else \"{:,}\".format(int(bin_edges[el])) for el in range(0,len(bin_edges))}\n",
    "\n",
    "p2.title.text_font_size = '12pt'\n",
    "p2.title.text_color = \"#0276FD\"\n",
    "p2.title.text_font = \"verdana\"\n",
    "p2.yaxis.axis_label_text_font = \"verdana\"\n",
    "p2.yaxis.axis_label_text_font_style = \"normal\"\n",
    "p2.xaxis.axis_label_text_font = \"verdana\"\n",
    "p2.xaxis.axis_label_text_font_style = \"normal\"\n",
    "p2.xaxis.major_label_text_font = \"verdana\"\n",
    "p2.yaxis.major_label_text_font = \"verdana\"\n",
    "\n",
    "show(p2)"
   ]
  },
  {
   "cell_type": "code",
   "execution_count": null,
   "metadata": {
    "collapsed": true
   },
   "outputs": [],
   "source": []
  }
 ],
 "metadata": {
  "kernelspec": {
   "display_name": "Python 2",
   "language": "python",
   "name": "python2"
  },
  "language_info": {
   "codemirror_mode": {
    "name": "ipython",
    "version": 2
   },
   "file_extension": ".py",
   "mimetype": "text/x-python",
   "name": "python",
   "nbconvert_exporter": "python",
   "pygments_lexer": "ipython2",
   "version": "2.7.14"
  }
 },
 "nbformat": 4,
 "nbformat_minor": 2
}
