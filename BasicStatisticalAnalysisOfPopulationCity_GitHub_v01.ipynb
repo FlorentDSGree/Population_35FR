{
 "cells": [
  {
   "cell_type": "markdown",
   "metadata": {
    "collapsed": true
   },
   "source": [
    "Created 04/02/2019\n",
    "\n",
    "Last update 04/02/2019\n",
    "\n",
    "Code that analyse the population of Ille-et-Vilaine"
   ]
  },
  {
   "cell_type": "markdown",
   "metadata": {},
   "source": [
    "# 1. Import library"
   ]
  },
  {
   "cell_type": "code",
   "execution_count": 1,
   "metadata": {},
   "outputs": [
    {
     "data": {
      "text/html": [
       "\n",
       "    <div class=\"bk-root\">\n",
       "        <a href=\"https://bokeh.pydata.org\" target=\"_blank\" class=\"bk-logo bk-logo-small bk-logo-notebook\"></a>\n",
       "        <span id=\"e82fe4e3-6689-4616-b5de-f09a0e874442\">Loading BokehJS ...</span>\n",
       "    </div>"
      ]
     },
     "metadata": {},
     "output_type": "display_data"
    },
    {
     "data": {
      "application/javascript": [
       "\n",
       "(function(root) {\n",
       "  function now() {\n",
       "    return new Date();\n",
       "  }\n",
       "\n",
       "  var force = true;\n",
       "\n",
       "  if (typeof (root._bokeh_onload_callbacks) === \"undefined\" || force === true) {\n",
       "    root._bokeh_onload_callbacks = [];\n",
       "    root._bokeh_is_loading = undefined;\n",
       "  }\n",
       "\n",
       "  var JS_MIME_TYPE = 'application/javascript';\n",
       "  var HTML_MIME_TYPE = 'text/html';\n",
       "  var EXEC_MIME_TYPE = 'application/vnd.bokehjs_exec.v0+json';\n",
       "  var CLASS_NAME = 'output_bokeh rendered_html';\n",
       "\n",
       "  /**\n",
       "   * Render data to the DOM node\n",
       "   */\n",
       "  function render(props, node) {\n",
       "    var script = document.createElement(\"script\");\n",
       "    node.appendChild(script);\n",
       "  }\n",
       "\n",
       "  /**\n",
       "   * Handle when an output is cleared or removed\n",
       "   */\n",
       "  function handleClearOutput(event, handle) {\n",
       "    var cell = handle.cell;\n",
       "\n",
       "    var id = cell.output_area._bokeh_element_id;\n",
       "    var server_id = cell.output_area._bokeh_server_id;\n",
       "    // Clean up Bokeh references\n",
       "    if (id != null && id in Bokeh.index) {\n",
       "      Bokeh.index[id].model.document.clear();\n",
       "      delete Bokeh.index[id];\n",
       "    }\n",
       "\n",
       "    if (server_id !== undefined) {\n",
       "      // Clean up Bokeh references\n",
       "      var cmd = \"from bokeh.io.state import curstate; print(curstate().uuid_to_server['\" + server_id + \"'].get_sessions()[0].document.roots[0]._id)\";\n",
       "      cell.notebook.kernel.execute(cmd, {\n",
       "        iopub: {\n",
       "          output: function(msg) {\n",
       "            var id = msg.content.text.trim();\n",
       "            if (id in Bokeh.index) {\n",
       "              Bokeh.index[id].model.document.clear();\n",
       "              delete Bokeh.index[id];\n",
       "            }\n",
       "          }\n",
       "        }\n",
       "      });\n",
       "      // Destroy server and session\n",
       "      var cmd = \"import bokeh.io.notebook as ion; ion.destroy_server('\" + server_id + \"')\";\n",
       "      cell.notebook.kernel.execute(cmd);\n",
       "    }\n",
       "  }\n",
       "\n",
       "  /**\n",
       "   * Handle when a new output is added\n",
       "   */\n",
       "  function handleAddOutput(event, handle) {\n",
       "    var output_area = handle.output_area;\n",
       "    var output = handle.output;\n",
       "\n",
       "    // limit handleAddOutput to display_data with EXEC_MIME_TYPE content only\n",
       "    if ((output.output_type != \"display_data\") || (!output.data.hasOwnProperty(EXEC_MIME_TYPE))) {\n",
       "      return\n",
       "    }\n",
       "\n",
       "    var toinsert = output_area.element.find(\".\" + CLASS_NAME.split(' ')[0]);\n",
       "\n",
       "    if (output.metadata[EXEC_MIME_TYPE][\"id\"] !== undefined) {\n",
       "      toinsert[toinsert.length - 1].firstChild.textContent = output.data[JS_MIME_TYPE];\n",
       "      // store reference to embed id on output_area\n",
       "      output_area._bokeh_element_id = output.metadata[EXEC_MIME_TYPE][\"id\"];\n",
       "    }\n",
       "    if (output.metadata[EXEC_MIME_TYPE][\"server_id\"] !== undefined) {\n",
       "      var bk_div = document.createElement(\"div\");\n",
       "      bk_div.innerHTML = output.data[HTML_MIME_TYPE];\n",
       "      var script_attrs = bk_div.children[0].attributes;\n",
       "      for (var i = 0; i < script_attrs.length; i++) {\n",
       "        toinsert[toinsert.length - 1].firstChild.setAttribute(script_attrs[i].name, script_attrs[i].value);\n",
       "      }\n",
       "      // store reference to server id on output_area\n",
       "      output_area._bokeh_server_id = output.metadata[EXEC_MIME_TYPE][\"server_id\"];\n",
       "    }\n",
       "  }\n",
       "\n",
       "  function register_renderer(events, OutputArea) {\n",
       "\n",
       "    function append_mime(data, metadata, element) {\n",
       "      // create a DOM node to render to\n",
       "      var toinsert = this.create_output_subarea(\n",
       "        metadata,\n",
       "        CLASS_NAME,\n",
       "        EXEC_MIME_TYPE\n",
       "      );\n",
       "      this.keyboard_manager.register_events(toinsert);\n",
       "      // Render to node\n",
       "      var props = {data: data, metadata: metadata[EXEC_MIME_TYPE]};\n",
       "      render(props, toinsert[toinsert.length - 1]);\n",
       "      element.append(toinsert);\n",
       "      return toinsert\n",
       "    }\n",
       "\n",
       "    /* Handle when an output is cleared or removed */\n",
       "    events.on('clear_output.CodeCell', handleClearOutput);\n",
       "    events.on('delete.Cell', handleClearOutput);\n",
       "\n",
       "    /* Handle when a new output is added */\n",
       "    events.on('output_added.OutputArea', handleAddOutput);\n",
       "\n",
       "    /**\n",
       "     * Register the mime type and append_mime function with output_area\n",
       "     */\n",
       "    OutputArea.prototype.register_mime_type(EXEC_MIME_TYPE, append_mime, {\n",
       "      /* Is output safe? */\n",
       "      safe: true,\n",
       "      /* Index of renderer in `output_area.display_order` */\n",
       "      index: 0\n",
       "    });\n",
       "  }\n",
       "\n",
       "  // register the mime type if in Jupyter Notebook environment and previously unregistered\n",
       "  if (root.Jupyter !== undefined) {\n",
       "    var events = require('base/js/events');\n",
       "    var OutputArea = require('notebook/js/outputarea').OutputArea;\n",
       "\n",
       "    if (OutputArea.prototype.mime_types().indexOf(EXEC_MIME_TYPE) == -1) {\n",
       "      register_renderer(events, OutputArea);\n",
       "    }\n",
       "  }\n",
       "\n",
       "  \n",
       "  if (typeof (root._bokeh_timeout) === \"undefined\" || force === true) {\n",
       "    root._bokeh_timeout = Date.now() + 5000;\n",
       "    root._bokeh_failed_load = false;\n",
       "  }\n",
       "\n",
       "  var NB_LOAD_WARNING = {'data': {'text/html':\n",
       "     \"<div style='background-color: #fdd'>\\n\"+\n",
       "     \"<p>\\n\"+\n",
       "     \"BokehJS does not appear to have successfully loaded. If loading BokehJS from CDN, this \\n\"+\n",
       "     \"may be due to a slow or bad network connection. Possible fixes:\\n\"+\n",
       "     \"</p>\\n\"+\n",
       "     \"<ul>\\n\"+\n",
       "     \"<li>re-rerun `output_notebook()` to attempt to load from CDN again, or</li>\\n\"+\n",
       "     \"<li>use INLINE resources instead, as so:</li>\\n\"+\n",
       "     \"</ul>\\n\"+\n",
       "     \"<code>\\n\"+\n",
       "     \"from bokeh.resources import INLINE\\n\"+\n",
       "     \"output_notebook(resources=INLINE)\\n\"+\n",
       "     \"</code>\\n\"+\n",
       "     \"</div>\"}};\n",
       "\n",
       "  function display_loaded() {\n",
       "    var el = document.getElementById(\"e82fe4e3-6689-4616-b5de-f09a0e874442\");\n",
       "    if (el != null) {\n",
       "      el.textContent = \"BokehJS is loading...\";\n",
       "    }\n",
       "    if (root.Bokeh !== undefined) {\n",
       "      if (el != null) {\n",
       "        el.textContent = \"BokehJS \" + root.Bokeh.version + \" successfully loaded.\";\n",
       "      }\n",
       "    } else if (Date.now() < root._bokeh_timeout) {\n",
       "      setTimeout(display_loaded, 100)\n",
       "    }\n",
       "  }\n",
       "\n",
       "\n",
       "  function run_callbacks() {\n",
       "    try {\n",
       "      root._bokeh_onload_callbacks.forEach(function(callback) { callback() });\n",
       "    }\n",
       "    finally {\n",
       "      delete root._bokeh_onload_callbacks\n",
       "    }\n",
       "    console.info(\"Bokeh: all callbacks have finished\");\n",
       "  }\n",
       "\n",
       "  function load_libs(js_urls, callback) {\n",
       "    root._bokeh_onload_callbacks.push(callback);\n",
       "    if (root._bokeh_is_loading > 0) {\n",
       "      console.log(\"Bokeh: BokehJS is being loaded, scheduling callback at\", now());\n",
       "      return null;\n",
       "    }\n",
       "    if (js_urls == null || js_urls.length === 0) {\n",
       "      run_callbacks();\n",
       "      return null;\n",
       "    }\n",
       "    console.log(\"Bokeh: BokehJS not loaded, scheduling load and callback at\", now());\n",
       "    root._bokeh_is_loading = js_urls.length;\n",
       "    for (var i = 0; i < js_urls.length; i++) {\n",
       "      var url = js_urls[i];\n",
       "      var s = document.createElement('script');\n",
       "      s.src = url;\n",
       "      s.async = false;\n",
       "      s.onreadystatechange = s.onload = function() {\n",
       "        root._bokeh_is_loading--;\n",
       "        if (root._bokeh_is_loading === 0) {\n",
       "          console.log(\"Bokeh: all BokehJS libraries loaded\");\n",
       "          run_callbacks()\n",
       "        }\n",
       "      };\n",
       "      s.onerror = function() {\n",
       "        console.warn(\"failed to load library \" + url);\n",
       "      };\n",
       "      console.log(\"Bokeh: injecting script tag for BokehJS library: \", url);\n",
       "      document.getElementsByTagName(\"head\")[0].appendChild(s);\n",
       "    }\n",
       "  };var element = document.getElementById(\"e82fe4e3-6689-4616-b5de-f09a0e874442\");\n",
       "  if (element == null) {\n",
       "    console.log(\"Bokeh: ERROR: autoload.js configured with elementid 'e82fe4e3-6689-4616-b5de-f09a0e874442' but no matching script tag was found. \")\n",
       "    return false;\n",
       "  }\n",
       "\n",
       "  var js_urls = [\"https://cdn.pydata.org/bokeh/release/bokeh-0.13.0.min.js\", \"https://cdn.pydata.org/bokeh/release/bokeh-widgets-0.13.0.min.js\", \"https://cdn.pydata.org/bokeh/release/bokeh-tables-0.13.0.min.js\", \"https://cdn.pydata.org/bokeh/release/bokeh-gl-0.13.0.min.js\"];\n",
       "\n",
       "  var inline_js = [\n",
       "    function(Bokeh) {\n",
       "      Bokeh.set_log_level(\"info\");\n",
       "    },\n",
       "    \n",
       "    function(Bokeh) {\n",
       "      \n",
       "    },\n",
       "    function(Bokeh) {\n",
       "      console.log(\"Bokeh: injecting CSS: https://cdn.pydata.org/bokeh/release/bokeh-0.13.0.min.css\");\n",
       "      Bokeh.embed.inject_css(\"https://cdn.pydata.org/bokeh/release/bokeh-0.13.0.min.css\");\n",
       "      console.log(\"Bokeh: injecting CSS: https://cdn.pydata.org/bokeh/release/bokeh-widgets-0.13.0.min.css\");\n",
       "      Bokeh.embed.inject_css(\"https://cdn.pydata.org/bokeh/release/bokeh-widgets-0.13.0.min.css\");\n",
       "      console.log(\"Bokeh: injecting CSS: https://cdn.pydata.org/bokeh/release/bokeh-tables-0.13.0.min.css\");\n",
       "      Bokeh.embed.inject_css(\"https://cdn.pydata.org/bokeh/release/bokeh-tables-0.13.0.min.css\");\n",
       "    }\n",
       "  ];\n",
       "\n",
       "  function run_inline_js() {\n",
       "    \n",
       "    if ((root.Bokeh !== undefined) || (force === true)) {\n",
       "      for (var i = 0; i < inline_js.length; i++) {\n",
       "        inline_js[i].call(root, root.Bokeh);\n",
       "      }if (force === true) {\n",
       "        display_loaded();\n",
       "      }} else if (Date.now() < root._bokeh_timeout) {\n",
       "      setTimeout(run_inline_js, 100);\n",
       "    } else if (!root._bokeh_failed_load) {\n",
       "      console.log(\"Bokeh: BokehJS failed to load within specified timeout.\");\n",
       "      root._bokeh_failed_load = true;\n",
       "    } else if (force !== true) {\n",
       "      var cell = $(document.getElementById(\"e82fe4e3-6689-4616-b5de-f09a0e874442\")).parents('.cell').data().cell;\n",
       "      cell.output_area.append_execute_result(NB_LOAD_WARNING)\n",
       "    }\n",
       "\n",
       "  }\n",
       "\n",
       "  if (root._bokeh_is_loading === 0) {\n",
       "    console.log(\"Bokeh: BokehJS loaded, going straight to plotting\");\n",
       "    run_inline_js();\n",
       "  } else {\n",
       "    load_libs(js_urls, function() {\n",
       "      console.log(\"Bokeh: BokehJS plotting callback run at\", now());\n",
       "      run_inline_js();\n",
       "    });\n",
       "  }\n",
       "}(window));"
      ],
      "application/vnd.bokehjs_load.v0+json": "\n(function(root) {\n  function now() {\n    return new Date();\n  }\n\n  var force = true;\n\n  if (typeof (root._bokeh_onload_callbacks) === \"undefined\" || force === true) {\n    root._bokeh_onload_callbacks = [];\n    root._bokeh_is_loading = undefined;\n  }\n\n  \n\n  \n  if (typeof (root._bokeh_timeout) === \"undefined\" || force === true) {\n    root._bokeh_timeout = Date.now() + 5000;\n    root._bokeh_failed_load = false;\n  }\n\n  var NB_LOAD_WARNING = {'data': {'text/html':\n     \"<div style='background-color: #fdd'>\\n\"+\n     \"<p>\\n\"+\n     \"BokehJS does not appear to have successfully loaded. If loading BokehJS from CDN, this \\n\"+\n     \"may be due to a slow or bad network connection. Possible fixes:\\n\"+\n     \"</p>\\n\"+\n     \"<ul>\\n\"+\n     \"<li>re-rerun `output_notebook()` to attempt to load from CDN again, or</li>\\n\"+\n     \"<li>use INLINE resources instead, as so:</li>\\n\"+\n     \"</ul>\\n\"+\n     \"<code>\\n\"+\n     \"from bokeh.resources import INLINE\\n\"+\n     \"output_notebook(resources=INLINE)\\n\"+\n     \"</code>\\n\"+\n     \"</div>\"}};\n\n  function display_loaded() {\n    var el = document.getElementById(\"e82fe4e3-6689-4616-b5de-f09a0e874442\");\n    if (el != null) {\n      el.textContent = \"BokehJS is loading...\";\n    }\n    if (root.Bokeh !== undefined) {\n      if (el != null) {\n        el.textContent = \"BokehJS \" + root.Bokeh.version + \" successfully loaded.\";\n      }\n    } else if (Date.now() < root._bokeh_timeout) {\n      setTimeout(display_loaded, 100)\n    }\n  }\n\n\n  function run_callbacks() {\n    try {\n      root._bokeh_onload_callbacks.forEach(function(callback) { callback() });\n    }\n    finally {\n      delete root._bokeh_onload_callbacks\n    }\n    console.info(\"Bokeh: all callbacks have finished\");\n  }\n\n  function load_libs(js_urls, callback) {\n    root._bokeh_onload_callbacks.push(callback);\n    if (root._bokeh_is_loading > 0) {\n      console.log(\"Bokeh: BokehJS is being loaded, scheduling callback at\", now());\n      return null;\n    }\n    if (js_urls == null || js_urls.length === 0) {\n      run_callbacks();\n      return null;\n    }\n    console.log(\"Bokeh: BokehJS not loaded, scheduling load and callback at\", now());\n    root._bokeh_is_loading = js_urls.length;\n    for (var i = 0; i < js_urls.length; i++) {\n      var url = js_urls[i];\n      var s = document.createElement('script');\n      s.src = url;\n      s.async = false;\n      s.onreadystatechange = s.onload = function() {\n        root._bokeh_is_loading--;\n        if (root._bokeh_is_loading === 0) {\n          console.log(\"Bokeh: all BokehJS libraries loaded\");\n          run_callbacks()\n        }\n      };\n      s.onerror = function() {\n        console.warn(\"failed to load library \" + url);\n      };\n      console.log(\"Bokeh: injecting script tag for BokehJS library: \", url);\n      document.getElementsByTagName(\"head\")[0].appendChild(s);\n    }\n  };var element = document.getElementById(\"e82fe4e3-6689-4616-b5de-f09a0e874442\");\n  if (element == null) {\n    console.log(\"Bokeh: ERROR: autoload.js configured with elementid 'e82fe4e3-6689-4616-b5de-f09a0e874442' but no matching script tag was found. \")\n    return false;\n  }\n\n  var js_urls = [\"https://cdn.pydata.org/bokeh/release/bokeh-0.13.0.min.js\", \"https://cdn.pydata.org/bokeh/release/bokeh-widgets-0.13.0.min.js\", \"https://cdn.pydata.org/bokeh/release/bokeh-tables-0.13.0.min.js\", \"https://cdn.pydata.org/bokeh/release/bokeh-gl-0.13.0.min.js\"];\n\n  var inline_js = [\n    function(Bokeh) {\n      Bokeh.set_log_level(\"info\");\n    },\n    \n    function(Bokeh) {\n      \n    },\n    function(Bokeh) {\n      console.log(\"Bokeh: injecting CSS: https://cdn.pydata.org/bokeh/release/bokeh-0.13.0.min.css\");\n      Bokeh.embed.inject_css(\"https://cdn.pydata.org/bokeh/release/bokeh-0.13.0.min.css\");\n      console.log(\"Bokeh: injecting CSS: https://cdn.pydata.org/bokeh/release/bokeh-widgets-0.13.0.min.css\");\n      Bokeh.embed.inject_css(\"https://cdn.pydata.org/bokeh/release/bokeh-widgets-0.13.0.min.css\");\n      console.log(\"Bokeh: injecting CSS: https://cdn.pydata.org/bokeh/release/bokeh-tables-0.13.0.min.css\");\n      Bokeh.embed.inject_css(\"https://cdn.pydata.org/bokeh/release/bokeh-tables-0.13.0.min.css\");\n    }\n  ];\n\n  function run_inline_js() {\n    \n    if ((root.Bokeh !== undefined) || (force === true)) {\n      for (var i = 0; i < inline_js.length; i++) {\n        inline_js[i].call(root, root.Bokeh);\n      }if (force === true) {\n        display_loaded();\n      }} else if (Date.now() < root._bokeh_timeout) {\n      setTimeout(run_inline_js, 100);\n    } else if (!root._bokeh_failed_load) {\n      console.log(\"Bokeh: BokehJS failed to load within specified timeout.\");\n      root._bokeh_failed_load = true;\n    } else if (force !== true) {\n      var cell = $(document.getElementById(\"e82fe4e3-6689-4616-b5de-f09a0e874442\")).parents('.cell').data().cell;\n      cell.output_area.append_execute_result(NB_LOAD_WARNING)\n    }\n\n  }\n\n  if (root._bokeh_is_loading === 0) {\n    console.log(\"Bokeh: BokehJS loaded, going straight to plotting\");\n    run_inline_js();\n  } else {\n    load_libs(js_urls, function() {\n      console.log(\"Bokeh: BokehJS plotting callback run at\", now());\n      run_inline_js();\n    });\n  }\n}(window));"
     },
     "metadata": {},
     "output_type": "display_data"
    }
   ],
   "source": [
    "import pymongo\n",
    "from __future__ import division\n",
    "import numpy as np\n",
    "import pandas as pd\n",
    "from bokeh.plotting import figure\n",
    "from bokeh.io import show, output_notebook\n",
    "from bokeh.layouts import row\n",
    "output_notebook() # To display plot into Jupyter notebook\n",
    "import Fcn_BasicStatisticalAnalysisOfPopulation"
   ]
  },
  {
   "cell_type": "markdown",
   "metadata": {},
   "source": [
    "# 2. Data loading"
   ]
  },
  {
   "cell_type": "code",
   "execution_count": 2,
   "metadata": {
    "collapsed": true
   },
   "outputs": [],
   "source": [
    "# User inputs\n",
    "DatabaseName = 'GeoApiGouv'\n",
    "CollectionName = 'PopulationCity'\n",
    "\n",
    "# Connection to MongoDB\n",
    "myclient = pymongo.MongoClient(\"mongodb://localhost:27017/\")\n",
    "mydb = myclient[DatabaseName]\n",
    "\n",
    "#Query all documents from MongoD\n",
    "QueryMongo = list(mydb[CollectionName].find({}))"
   ]
  },
  {
   "cell_type": "markdown",
   "metadata": {},
   "source": [
    "# 3. Statistical analysis"
   ]
  },
  {
   "cell_type": "markdown",
   "metadata": {},
   "source": [
    "## 3.1. Arrange data loaded"
   ]
  },
  {
   "cell_type": "code",
   "execution_count": 3,
   "metadata": {
    "collapsed": true
   },
   "outputs": [],
   "source": [
    "NumberOfCity      = len(QueryMongo)\n",
    "AllCityNames      = [QueryMongo[x]['nom'] for x in range(0,NumberOfCity)]\n",
    "AllPopulationList = [QueryMongo[x]['population'] for x in range(0,NumberOfCity)]\n",
    "AllAreaList       = [QueryMongo[x]['surface'] for x in range(0,NumberOfCity)]\n",
    "AllDensityList    = np.array(AllPopulationList)/np.array(AllAreaList)*100"
   ]
  },
  {
   "cell_type": "code",
   "execution_count": 4,
   "metadata": {},
   "outputs": [
    {
     "data": {
      "text/html": [
       "<div>\n",
       "<style>\n",
       "    .dataframe thead tr:only-child th {\n",
       "        text-align: right;\n",
       "    }\n",
       "\n",
       "    .dataframe thead th {\n",
       "        text-align: left;\n",
       "    }\n",
       "\n",
       "    .dataframe tbody tr th {\n",
       "        vertical-align: top;\n",
       "    }\n",
       "</style>\n",
       "<table border=\"1\" class=\"dataframe\">\n",
       "  <thead>\n",
       "    <tr style=\"text-align: right;\">\n",
       "      <th></th>\n",
       "      <th>Area</th>\n",
       "      <th>City name</th>\n",
       "      <th>Density</th>\n",
       "      <th>Population</th>\n",
       "    </tr>\n",
       "  </thead>\n",
       "  <tbody>\n",
       "    <tr>\n",
       "      <th>227</th>\n",
       "      <td>5038</td>\n",
       "      <td>Rennes</td>\n",
       "      <td>4195.573640</td>\n",
       "      <td>211373</td>\n",
       "    </tr>\n",
       "    <tr>\n",
       "      <th>111</th>\n",
       "      <td>1043</td>\n",
       "      <td>Fougères</td>\n",
       "      <td>1933.844679</td>\n",
       "      <td>20170</td>\n",
       "    </tr>\n",
       "    <tr>\n",
       "      <th>21</th>\n",
       "      <td>56</td>\n",
       "      <td>Bécherel</td>\n",
       "      <td>1289.285714</td>\n",
       "      <td>722</td>\n",
       "    </tr>\n",
       "  </tbody>\n",
       "</table>\n",
       "</div>"
      ],
      "text/plain": [
       "     Area City name      Density  Population\n",
       "227  5038    Rennes  4195.573640      211373\n",
       "111  1043  Fougères  1933.844679       20170\n",
       "21     56  Bécherel  1289.285714         722"
      ]
     },
     "execution_count": 4,
     "metadata": {},
     "output_type": "execute_result"
    }
   ],
   "source": [
    "#Following to get the top 3 and bottom 3 - Change \"by=\" and \"ascending=\" accordingly\n",
    "df = pd.DataFrame({\"City name\":AllCityNames,\"Population\":AllPopulationList,\"Area\":AllAreaList,\"Density\":AllDensityList})\n",
    "df.sort_values(by=['Density'], ascending = False).head(3)"
   ]
  },
  {
   "cell_type": "markdown",
   "metadata": {},
   "source": [
    "## 3.2. Population analysis"
   ]
  },
  {
   "cell_type": "code",
   "execution_count": 44,
   "metadata": {},
   "outputs": [
    {
     "name": "stdout",
     "output_type": "stream",
     "text": [
      "Nombre de ville: 345\n",
      "Population totale: 1,019,923\n",
      "Population moyenne par ville: 2,956\n",
      "Population mediane par ville: 1,314\n",
      "Population la plus faible: 107 (Bléruais)\n",
      "Population la plus élevée: 211,373 (Rennes)\n"
     ]
    }
   ],
   "source": [
    "TotalPopulation   = df['Population'].sum()\n",
    "AveragePopulation = int(df['Population'].mean()) # Population moyenne \n",
    "MedianPopulation  = int(df['Population'].median()) # Population mediane\n",
    "MinPopulation     = df['Population'].min() # Population la plus faible\n",
    "MaxPopulation     = df['Population'].max() # Population la plus élevée\n",
    "\n",
    "print ('Nombre de ville: ' + \"{:,}\".format(NumberOfCity))\n",
    "print ('Population totale: ' + \"{:,}\".format(TotalPopulation))\n",
    "print ('Population moyenne par ville: '+ \"{:,}\".format(AveragePopulation))\n",
    "print ('Population mediane par ville: '+ \"{:,}\".format(MedianPopulation))\n",
    "print ('Population la plus faible: '+ \"{:,}\".format(MinPopulation) + ' (' + df.loc[df['Population'] == MinPopulation]['City name'].to_string(index=False).encode('utf-8') + ')')\n",
    "print ('Population la plus élevée: '+ \"{:,}\".format(MaxPopulation) + ' (' + df.loc[df['Population'] == MaxPopulation]['City name'].to_string(index=False).encode('utf-8') + ')')"
   ]
  },
  {
   "cell_type": "markdown",
   "metadata": {},
   "source": [
    "### 3.2.1. Population histogram"
   ]
  },
  {
   "cell_type": "code",
   "execution_count": 45,
   "metadata": {
    "collapsed": true
   },
   "outputs": [],
   "source": [
    "# Prepare the data for plot\n",
    "start = Fcn_BasicStatisticalAnalysisOfPopulation.DefineMinMaxLog(MinPopulation,'Min')\n",
    "stop = Fcn_BasicStatisticalAnalysisOfPopulation.DefineMinMaxLog(MaxPopulation,'Max')\n",
    "bins = Fcn_BasicStatisticalAnalysisOfPopulation.CreateLogBin(start,stop)\n",
    "hist, bin_edges = np.histogram(list(df['Population']), bins=bins)\n",
    "\n",
    "# Remove the first and last value when hist is 0 - Comment out this line to show for all log scale\n",
    "hist, bin_edges = Fcn_BasicStatisticalAnalysisOfPopulation.RemoveLastFirstValuesWhenZero(hist, bin_edges)"
   ]
  },
  {
   "cell_type": "code",
   "execution_count": 46,
   "metadata": {},
   "outputs": [
    {
     "data": {
      "text/html": [
       "\n",
       "\n",
       "\n",
       "\n",
       "\n",
       "\n",
       "  <div class=\"bk-root\" id=\"91416090-66fb-48c0-a497-5c3a879c45de\"></div>\n"
      ]
     },
     "metadata": {},
     "output_type": "display_data"
    },
    {
     "data": {
      "application/javascript": [
       "(function(root) {\n",
       "  function embed_document(root) {\n",
       "    \n",
       "  var docs_json = {\"ada8835b-1980-4aec-82d2-8da98685d9cb\":{\"roots\":{\"references\":[{\"attributes\":{\"below\":[{\"id\":\"85c38c8a-eafd-4863-932d-6349e3bc374e\",\"type\":\"LinearAxis\"}],\"left\":[{\"id\":\"6d56c84b-ee74-46a8-ac52-b47edaa72add\",\"type\":\"LinearAxis\"}],\"plot_height\":300,\"renderers\":[{\"id\":\"85c38c8a-eafd-4863-932d-6349e3bc374e\",\"type\":\"LinearAxis\"},{\"id\":\"265d3887-f457-4d42-a455-95899203be41\",\"type\":\"Grid\"},{\"id\":\"6d56c84b-ee74-46a8-ac52-b47edaa72add\",\"type\":\"LinearAxis\"},{\"id\":\"ce28643f-f5a2-4843-a9b6-3af3b244709e\",\"type\":\"Grid\"},{\"id\":\"40349cfb-2fb0-46aa-8b29-79ea3a190d15\",\"type\":\"BoxAnnotation\"},{\"id\":\"f588ba9c-d3a7-44d9-b333-9b16549a7b77\",\"type\":\"GlyphRenderer\"}],\"title\":{\"id\":\"1f069487-e49d-4f49-b250-c0574643f3a7\",\"type\":\"Title\"},\"toolbar\":{\"id\":\"3ef650bf-5236-45b5-ae29-b8dec5242c61\",\"type\":\"Toolbar\"},\"x_range\":{\"id\":\"9ba9a079-e083-47a3-ac2b-6be9c96f5a7e\",\"type\":\"DataRange1d\"},\"x_scale\":{\"id\":\"9a0bec35-35ed-4d30-af50-8725f1d82439\",\"type\":\"LinearScale\"},\"y_range\":{\"id\":\"3ec71485-92b3-46d8-ac3f-edbaeae36e30\",\"type\":\"DataRange1d\"},\"y_scale\":{\"id\":\"a7936eca-3e2c-4054-bce0-9c1bdda9226b\",\"type\":\"LinearScale\"}},\"id\":\"d7d63f6c-2ec9-4432-a477-bcb148dfe72c\",\"subtype\":\"Figure\",\"type\":\"Plot\"},{\"attributes\":{\"callback\":null,\"data\":{\"left\":[0,1,2,3,4,5,6,7,8,9,10,11,12,13,14,15,16,17,18,19,20,21,22,23,24,25,26,27,28],\"right\":[1,2,3,4,5,6,7,8,9,10,11,12,13,14,15,16,17,18,19,20,21,22,23,24,25,26,27,28,29],\"top\":[5,9,25,7,18,19,13,17,15,105,37,22,17,7,6,7,3,3,7,1,0,1,0,0,0,0,0,0,1]},\"selected\":{\"id\":\"9d4fa20f-2435-45bb-9b81-10f3d2f8f3b1\",\"type\":\"Selection\"},\"selection_policy\":{\"id\":\"1ade9a59-c1b7-4e86-9312-b012c4c9b10d\",\"type\":\"UnionRenderers\"}},\"id\":\"5712ed73-946e-47de-b6d4-3fdc78eca0c8\",\"type\":\"ColumnDataSource\"},{\"attributes\":{\"bottom\":{\"value\":0},\"fill_alpha\":{\"value\":0.1},\"fill_color\":{\"value\":\"#1f77b4\"},\"left\":{\"field\":\"left\"},\"line_alpha\":{\"value\":0.1},\"line_color\":{\"value\":\"#1f77b4\"},\"right\":{\"field\":\"right\"},\"top\":{\"field\":\"top\"}},\"id\":\"bbfa6068-a4f1-46e9-a5c0-604fb114618b\",\"type\":\"Quad\"},{\"attributes\":{\"data_source\":{\"id\":\"5712ed73-946e-47de-b6d4-3fdc78eca0c8\",\"type\":\"ColumnDataSource\"},\"glyph\":{\"id\":\"c52af802-3f03-4d11-9244-777db5ff62f7\",\"type\":\"Quad\"},\"hover_glyph\":null,\"muted_glyph\":null,\"nonselection_glyph\":{\"id\":\"bbfa6068-a4f1-46e9-a5c0-604fb114618b\",\"type\":\"Quad\"},\"selection_glyph\":null,\"view\":{\"id\":\"e454bbce-1372-48e0-ae46-aa467ea9cfb7\",\"type\":\"CDSView\"}},\"id\":\"f588ba9c-d3a7-44d9-b333-9b16549a7b77\",\"type\":\"GlyphRenderer\"},{\"attributes\":{},\"id\":\"a7936eca-3e2c-4054-bce0-9c1bdda9226b\",\"type\":\"LinearScale\"},{\"attributes\":{\"dimension\":1,\"plot\":{\"id\":\"d7d63f6c-2ec9-4432-a477-bcb148dfe72c\",\"subtype\":\"Figure\",\"type\":\"Plot\"},\"ticker\":{\"id\":\"c7eaf1e6-f22c-4acf-aec0-1c4a7a9945cd\",\"type\":\"BasicTicker\"}},\"id\":\"ce28643f-f5a2-4843-a9b6-3af3b244709e\",\"type\":\"Grid\"},{\"attributes\":{\"bottom\":{\"value\":0},\"fill_color\":{\"value\":\"#0276FD\"},\"left\":{\"field\":\"left\"},\"line_color\":{\"value\":\"#5F5B5B\"},\"right\":{\"field\":\"right\"},\"top\":{\"field\":\"top\"}},\"id\":\"c52af802-3f03-4d11-9244-777db5ff62f7\",\"type\":\"Quad\"},{\"attributes\":{},\"id\":\"dc34aba2-c698-49f2-b2be-4b1e44f3c270\",\"type\":\"BasicTickFormatter\"},{\"attributes\":{\"overlay\":{\"id\":\"40349cfb-2fb0-46aa-8b29-79ea3a190d15\",\"type\":\"BoxAnnotation\"}},\"id\":\"a86cf6e7-9be0-4ff3-afec-8041be89f9d8\",\"type\":\"BoxZoomTool\"},{\"attributes\":{},\"id\":\"7d54a0ba-6d28-4233-b8b2-7fe3cef76ba7\",\"type\":\"HelpTool\"},{\"attributes\":{\"axis_label\":\"Count\",\"axis_label_text_font\":\"verdana\",\"axis_label_text_font_style\":\"normal\",\"formatter\":{\"id\":\"dc34aba2-c698-49f2-b2be-4b1e44f3c270\",\"type\":\"BasicTickFormatter\"},\"major_label_text_font\":\"verdana\",\"plot\":{\"id\":\"d7d63f6c-2ec9-4432-a477-bcb148dfe72c\",\"subtype\":\"Figure\",\"type\":\"Plot\"},\"ticker\":{\"id\":\"c7eaf1e6-f22c-4acf-aec0-1c4a7a9945cd\",\"type\":\"BasicTicker\"}},\"id\":\"6d56c84b-ee74-46a8-ac52-b47edaa72add\",\"type\":\"LinearAxis\"},{\"attributes\":{\"plot\":null,\"text\":\"City population\",\"text_color\":{\"value\":\"#0276FD\"},\"text_font\":\"verdana\",\"text_font_size\":{\"value\":\"12pt\"}},\"id\":\"1f069487-e49d-4f49-b250-c0574643f3a7\",\"type\":\"Title\"},{\"attributes\":{\"callback\":null},\"id\":\"3ec71485-92b3-46d8-ac3f-edbaeae36e30\",\"type\":\"DataRange1d\"},{\"attributes\":{\"callback\":null},\"id\":\"9ba9a079-e083-47a3-ac2b-6be9c96f5a7e\",\"type\":\"DataRange1d\"},{\"attributes\":{},\"id\":\"eef61c4d-f8b9-4165-b83c-3dac47edf9a8\",\"type\":\"BasicTickFormatter\"},{\"attributes\":{\"active_drag\":\"auto\",\"active_inspect\":\"auto\",\"active_multi\":null,\"active_scroll\":\"auto\",\"active_tap\":\"auto\",\"tools\":[{\"id\":\"3682575c-073c-4356-b9d6-778ba3d1463b\",\"type\":\"PanTool\"},{\"id\":\"7224d69c-4965-497e-a687-f2d316fcdcc5\",\"type\":\"WheelZoomTool\"},{\"id\":\"a86cf6e7-9be0-4ff3-afec-8041be89f9d8\",\"type\":\"BoxZoomTool\"},{\"id\":\"1d8cc09c-b935-4bb0-9f53-7d2945e63861\",\"type\":\"SaveTool\"},{\"id\":\"360783e7-1116-4d92-b22f-ba7c5b063676\",\"type\":\"ResetTool\"},{\"id\":\"7d54a0ba-6d28-4233-b8b2-7fe3cef76ba7\",\"type\":\"HelpTool\"}]},\"id\":\"3ef650bf-5236-45b5-ae29-b8dec5242c61\",\"type\":\"Toolbar\"},{\"attributes\":{},\"id\":\"1d8cc09c-b935-4bb0-9f53-7d2945e63861\",\"type\":\"SaveTool\"},{\"attributes\":{\"ticks\":[0,1,2,3,4,5,6,7,8,9,10,11,12,13,14,15,16,17,18,19,20,21,22,23,24,25,26,27,28,29]},\"id\":\"2fa60dd4-7a1a-4a48-a0c8-52bf743d3da7\",\"type\":\"FixedTicker\"},{\"attributes\":{},\"id\":\"1ade9a59-c1b7-4e86-9312-b012c4c9b10d\",\"type\":\"UnionRenderers\"},{\"attributes\":{},\"id\":\"3682575c-073c-4356-b9d6-778ba3d1463b\",\"type\":\"PanTool\"},{\"attributes\":{\"plot\":{\"id\":\"d7d63f6c-2ec9-4432-a477-bcb148dfe72c\",\"subtype\":\"Figure\",\"type\":\"Plot\"},\"ticker\":{\"id\":\"81c7bc73-ed98-4631-afe8-4c7fef8d560e\",\"type\":\"BasicTicker\"}},\"id\":\"265d3887-f457-4d42-a455-95899203be41\",\"type\":\"Grid\"},{\"attributes\":{},\"id\":\"9a0bec35-35ed-4d30-af50-8725f1d82439\",\"type\":\"LinearScale\"},{\"attributes\":{\"bottom_units\":\"screen\",\"fill_alpha\":{\"value\":0.5},\"fill_color\":{\"value\":\"lightgrey\"},\"left_units\":\"screen\",\"level\":\"overlay\",\"line_alpha\":{\"value\":1.0},\"line_color\":{\"value\":\"black\"},\"line_dash\":[4,4],\"line_width\":{\"value\":2},\"plot\":null,\"render_mode\":\"css\",\"right_units\":\"screen\",\"top_units\":\"screen\"},\"id\":\"40349cfb-2fb0-46aa-8b29-79ea3a190d15\",\"type\":\"BoxAnnotation\"},{\"attributes\":{},\"id\":\"c7eaf1e6-f22c-4acf-aec0-1c4a7a9945cd\",\"type\":\"BasicTicker\"},{\"attributes\":{},\"id\":\"9d4fa20f-2435-45bb-9b81-10f3d2f8f3b1\",\"type\":\"Selection\"},{\"attributes\":{},\"id\":\"7224d69c-4965-497e-a687-f2d316fcdcc5\",\"type\":\"WheelZoomTool\"},{\"attributes\":{\"source\":{\"id\":\"5712ed73-946e-47de-b6d4-3fdc78eca0c8\",\"type\":\"ColumnDataSource\"}},\"id\":\"e454bbce-1372-48e0-ae46-aa467ea9cfb7\",\"type\":\"CDSView\"},{\"attributes\":{\"axis_label\":\"City population bins\",\"axis_label_text_font\":\"verdana\",\"axis_label_text_font_style\":\"normal\",\"formatter\":{\"id\":\"eef61c4d-f8b9-4165-b83c-3dac47edf9a8\",\"type\":\"BasicTickFormatter\"},\"major_label_orientation\":0.785,\"major_label_overrides\":{\"0\":\"100\",\"1\":\"200\",\"10\":\"2,000\",\"11\":\"3,000\",\"12\":\"4,000\",\"13\":\"5,000\",\"14\":\"6,000\",\"15\":\"7,000\",\"16\":\"8,000\",\"17\":\"9,000\",\"18\":\"10,000\",\"19\":\"20,000\",\"2\":\"300\",\"20\":\"30,000\",\"21\":\"40,000\",\"22\":\"50,000\",\"23\":\"60,000\",\"24\":\"70,000\",\"25\":\"80,000\",\"26\":\"90,000\",\"27\":\"100,000\",\"28\":\"200,000\",\"29\":\"300,000\",\"3\":\"400\",\"4\":\"500\",\"5\":\"600\",\"6\":\"700\",\"7\":\"800\",\"8\":\"900\",\"9\":\"1,000\"},\"major_label_text_font\":\"verdana\",\"plot\":{\"id\":\"d7d63f6c-2ec9-4432-a477-bcb148dfe72c\",\"subtype\":\"Figure\",\"type\":\"Plot\"},\"ticker\":{\"id\":\"2fa60dd4-7a1a-4a48-a0c8-52bf743d3da7\",\"type\":\"FixedTicker\"}},\"id\":\"85c38c8a-eafd-4863-932d-6349e3bc374e\",\"type\":\"LinearAxis\"},{\"attributes\":{},\"id\":\"360783e7-1116-4d92-b22f-ba7c5b063676\",\"type\":\"ResetTool\"},{\"attributes\":{},\"id\":\"81c7bc73-ed98-4631-afe8-4c7fef8d560e\",\"type\":\"BasicTicker\"}],\"root_ids\":[\"d7d63f6c-2ec9-4432-a477-bcb148dfe72c\"]},\"title\":\"Bokeh Application\",\"version\":\"0.13.0\"}};\n",
       "  var render_items = [{\"docid\":\"ada8835b-1980-4aec-82d2-8da98685d9cb\",\"roots\":{\"d7d63f6c-2ec9-4432-a477-bcb148dfe72c\":\"91416090-66fb-48c0-a497-5c3a879c45de\"}}];\n",
       "  root.Bokeh.embed.embed_items_notebook(docs_json, render_items);\n",
       "\n",
       "  }\n",
       "  if (root.Bokeh !== undefined) {\n",
       "    embed_document(root);\n",
       "  } else {\n",
       "    var attempts = 0;\n",
       "    var timer = setInterval(function(root) {\n",
       "      if (root.Bokeh !== undefined) {\n",
       "        embed_document(root);\n",
       "        clearInterval(timer);\n",
       "      }\n",
       "      attempts++;\n",
       "      if (attempts > 100) {\n",
       "        console.log(\"Bokeh: ERROR: Unable to run BokehJS code because BokehJS library is missing\")\n",
       "        clearInterval(timer);\n",
       "      }\n",
       "    }, 10, root)\n",
       "  }\n",
       "})(window);"
      ],
      "application/vnd.bokehjs_exec.v0+json": ""
     },
     "metadata": {
      "application/vnd.bokehjs_exec.v0+json": {
       "id": "d7d63f6c-2ec9-4432-a477-bcb148dfe72c"
      }
     },
     "output_type": "display_data"
    }
   ],
   "source": [
    "# Plot histogram\n",
    "p1 = figure(plot_height=300, title=\"City population\",\n",
    "           x_axis_label='City population bins', y_axis_label='Count')\n",
    "p1.quad(top=list(hist), bottom=0, left=list(range(0,len(bin_edges)))[:-1], right=list(range(0,len(bin_edges)))[1:],\n",
    "       fill_color = \"#0276FD\", line_color = \"#5F5B5B\", alpha=1)\n",
    "\n",
    "p1.xaxis.ticker = list(range(0,len(bin_edges)))\n",
    "p1.xaxis.major_label_orientation = 3.14/4\n",
    "p1.xaxis.major_label_overrides = {el:\"{:,}\".format(bin_edges[el]) for el in range(0,len(bin_edges))}\n",
    "\n",
    "p1.title.text_font_size = '12pt'\n",
    "p1.title.text_color = \"#0276FD\"\n",
    "p1.title.text_font = \"verdana\"\n",
    "p1.yaxis.axis_label_text_font = \"verdana\"\n",
    "p1.yaxis.axis_label_text_font_style = \"normal\"\n",
    "p1.xaxis.axis_label_text_font = \"verdana\"\n",
    "p1.xaxis.axis_label_text_font_style = \"normal\"\n",
    "p1.xaxis.major_label_text_font = \"verdana\"\n",
    "p1.yaxis.major_label_text_font = \"verdana\"\n",
    "\n",
    "show(p1)"
   ]
  },
  {
   "cell_type": "code",
   "execution_count": 47,
   "metadata": {
    "scrolled": true
   },
   "outputs": [
    {
     "data": {
      "text/html": [
       "\n",
       "\n",
       "\n",
       "\n",
       "\n",
       "\n",
       "  <div class=\"bk-root\" id=\"eafd96bd-104b-4e59-b9f9-704602d47306\"></div>\n"
      ]
     },
     "metadata": {},
     "output_type": "display_data"
    },
    {
     "data": {
      "application/javascript": [
       "(function(root) {\n",
       "  function embed_document(root) {\n",
       "    \n",
       "  var docs_json = {\"73f9ab07-3a46-4718-b16d-8fd020dfc45a\":{\"roots\":{\"references\":[{\"attributes\":{},\"id\":\"8442e1b1-317a-434d-8358-1180b3e2c850\",\"type\":\"BasicTickFormatter\"},{\"attributes\":{\"callback\":null},\"id\":\"d67662c2-1fc7-44c6-a454-d0deee7ad04f\",\"type\":\"DataRange1d\"},{\"attributes\":{},\"id\":\"5feec9d6-bf0d-4707-87e1-3e9ecd4e07c4\",\"type\":\"WheelZoomTool\"},{\"attributes\":{},\"id\":\"33bb0d3a-97e4-47c0-8ec3-ee14e683c8ad\",\"type\":\"PanTool\"},{\"attributes\":{\"line_color\":{\"value\":\"#0276FD\"},\"line_width\":{\"value\":2},\"x\":{\"field\":\"x\"},\"y\":{\"field\":\"y\"}},\"id\":\"df57ab05-d340-4623-85cc-870fe109a9c8\",\"type\":\"Step\"},{\"attributes\":{\"line_alpha\":{\"value\":0.1},\"line_color\":{\"value\":\"#1f77b4\"},\"line_width\":{\"value\":2},\"x\":{\"field\":\"x\"},\"y\":{\"field\":\"y\"}},\"id\":\"f2c3b7a4-f15d-45f9-bb85-9235e5e28545\",\"type\":\"Step\"},{\"attributes\":{\"data_source\":{\"id\":\"36ffccee-60f6-4ded-a690-179a9ba3cfd5\",\"type\":\"ColumnDataSource\"},\"glyph\":{\"id\":\"df57ab05-d340-4623-85cc-870fe109a9c8\",\"type\":\"Step\"},\"hover_glyph\":null,\"muted_glyph\":null,\"nonselection_glyph\":{\"id\":\"f2c3b7a4-f15d-45f9-bb85-9235e5e28545\",\"type\":\"Step\"},\"selection_glyph\":null,\"view\":{\"id\":\"407b3ec2-23f8-4142-9efd-7a6e023f3916\",\"type\":\"CDSView\"}},\"id\":\"47f64908-5201-499b-b2d5-f663c6b359b6\",\"type\":\"GlyphRenderer\"},{\"attributes\":{\"ticks\":[0,1,2,3,4,5,6,7,8,9,10,11,12,13,14,15,16,17,18,19,20,21,22,23,24,25,26,27,28,29]},\"id\":\"be878395-095b-4aab-be07-29b7d6dcc6af\",\"type\":\"FixedTicker\"},{\"attributes\":{\"below\":[{\"id\":\"c3cc87b6-0fbf-4f5e-88f2-3b5e3fa7078a\",\"type\":\"LinearAxis\"}],\"left\":[{\"id\":\"bc7abf6b-fcc5-4684-bdda-5824119fffa8\",\"type\":\"LinearAxis\"}],\"plot_height\":300,\"renderers\":[{\"id\":\"c3cc87b6-0fbf-4f5e-88f2-3b5e3fa7078a\",\"type\":\"LinearAxis\"},{\"id\":\"823d37a9-edf4-457f-ba4e-270dd50a8059\",\"type\":\"Grid\"},{\"id\":\"bc7abf6b-fcc5-4684-bdda-5824119fffa8\",\"type\":\"LinearAxis\"},{\"id\":\"9add024f-e470-4ba8-ae2c-3e35e08daff6\",\"type\":\"Grid\"},{\"id\":\"14ae2683-ddb8-45e6-96a5-4a5ab5b2d99e\",\"type\":\"BoxAnnotation\"},{\"id\":\"47f64908-5201-499b-b2d5-f663c6b359b6\",\"type\":\"GlyphRenderer\"}],\"title\":{\"id\":\"4865af71-a1f9-4288-a504-3e41b0f1a150\",\"type\":\"Title\"},\"toolbar\":{\"id\":\"148704f6-be3d-45d1-ae7a-73ae65d878c2\",\"type\":\"Toolbar\"},\"x_range\":{\"id\":\"492f8180-3619-47e9-ab67-8a5749738ba5\",\"type\":\"DataRange1d\"},\"x_scale\":{\"id\":\"dc497b36-ddd7-41fa-9d7d-387f5c928da1\",\"type\":\"LinearScale\"},\"y_range\":{\"id\":\"d67662c2-1fc7-44c6-a454-d0deee7ad04f\",\"type\":\"DataRange1d\"},\"y_scale\":{\"id\":\"1edebb27-608d-4521-b26d-485961eda506\",\"type\":\"LinearScale\"}},\"id\":\"babab8bb-006a-4012-828d-c002282588c2\",\"subtype\":\"Figure\",\"type\":\"Plot\"},{\"attributes\":{\"axis_label\":\"City population bins\",\"axis_label_text_font\":\"verdana\",\"axis_label_text_font_style\":\"normal\",\"formatter\":{\"id\":\"a0882fa2-44f6-4eee-b387-b54c31c0fd89\",\"type\":\"BasicTickFormatter\"},\"major_label_orientation\":0.785,\"major_label_overrides\":{\"0\":\"100\",\"1\":\"200\",\"10\":\"2,000\",\"11\":\"3,000\",\"12\":\"4,000\",\"13\":\"5,000\",\"14\":\"6,000\",\"15\":\"7,000\",\"16\":\"8,000\",\"17\":\"9,000\",\"18\":\"10,000\",\"19\":\"20,000\",\"2\":\"300\",\"20\":\"30,000\",\"21\":\"40,000\",\"22\":\"50,000\",\"23\":\"60,000\",\"24\":\"70,000\",\"25\":\"80,000\",\"26\":\"90,000\",\"27\":\"100,000\",\"28\":\"200,000\",\"29\":\"300,000\",\"3\":\"400\",\"4\":\"500\",\"5\":\"600\",\"6\":\"700\",\"7\":\"800\",\"8\":\"900\",\"9\":\"1,000\"},\"major_label_text_font\":\"verdana\",\"plot\":{\"id\":\"babab8bb-006a-4012-828d-c002282588c2\",\"subtype\":\"Figure\",\"type\":\"Plot\"},\"ticker\":{\"id\":\"be878395-095b-4aab-be07-29b7d6dcc6af\",\"type\":\"FixedTicker\"}},\"id\":\"c3cc87b6-0fbf-4f5e-88f2-3b5e3fa7078a\",\"type\":\"LinearAxis\"},{\"attributes\":{},\"id\":\"4ba58486-a429-4a9a-b5fa-c89073380264\",\"type\":\"HelpTool\"},{\"attributes\":{},\"id\":\"5083aba7-4c3a-4557-9a4a-1b917fee12b8\",\"type\":\"BasicTicker\"},{\"attributes\":{},\"id\":\"dc497b36-ddd7-41fa-9d7d-387f5c928da1\",\"type\":\"LinearScale\"},{\"attributes\":{\"overlay\":{\"id\":\"14ae2683-ddb8-45e6-96a5-4a5ab5b2d99e\",\"type\":\"BoxAnnotation\"}},\"id\":\"5e9862f6-18f3-4f15-82f1-22415da79feb\",\"type\":\"BoxZoomTool\"},{\"attributes\":{},\"id\":\"01ae14f9-a107-4ca8-a575-4ff0b08b4f62\",\"type\":\"SaveTool\"},{\"attributes\":{\"callback\":null,\"data\":{\"x\":[0,1,2,3,4,5,6,7,8,9,10,11,12,13,14,15,16,17,18,19,20,21,22,23,24,25,26,27,28,29],\"y\":[0,0.014492753623188406,0.04057971014492753,0.11304347826086956,0.13333333333333333,0.1855072463768116,0.24057971014492754,0.2782608695652174,0.32753623188405795,0.3710144927536232,0.6753623188405797,0.782608695652174,0.8463768115942029,0.8956521739130435,0.9159420289855073,0.9333333333333333,0.9536231884057971,0.9623188405797102,0.9710144927536232,0.991304347826087,0.9942028985507246,0.9942028985507246,0.9971014492753624,0.9971014492753624,0.9971014492753624,0.9971014492753624,0.9971014492753624,0.9971014492753624,0.9971014492753624,1.0]},\"selected\":{\"id\":\"80dc33e9-a0fb-4c4e-a3c5-609a186eeb5c\",\"type\":\"Selection\"},\"selection_policy\":{\"id\":\"4cbba3c3-3ede-4a2b-a0a6-ea41897edde9\",\"type\":\"UnionRenderers\"}},\"id\":\"36ffccee-60f6-4ded-a690-179a9ba3cfd5\",\"type\":\"ColumnDataSource\"},{\"attributes\":{\"plot\":{\"id\":\"babab8bb-006a-4012-828d-c002282588c2\",\"subtype\":\"Figure\",\"type\":\"Plot\"},\"ticker\":{\"id\":\"b94b8b43-d572-4bfb-892a-7c613778ef64\",\"type\":\"BasicTicker\"}},\"id\":\"823d37a9-edf4-457f-ba4e-270dd50a8059\",\"type\":\"Grid\"},{\"attributes\":{},\"id\":\"1edebb27-608d-4521-b26d-485961eda506\",\"type\":\"LinearScale\"},{\"attributes\":{},\"id\":\"583cc6ba-e122-4ecd-be35-0aeb2038f673\",\"type\":\"ResetTool\"},{\"attributes\":{\"callback\":null},\"id\":\"492f8180-3619-47e9-ab67-8a5749738ba5\",\"type\":\"DataRange1d\"},{\"attributes\":{\"source\":{\"id\":\"36ffccee-60f6-4ded-a690-179a9ba3cfd5\",\"type\":\"ColumnDataSource\"}},\"id\":\"407b3ec2-23f8-4142-9efd-7a6e023f3916\",\"type\":\"CDSView\"},{\"attributes\":{},\"id\":\"80dc33e9-a0fb-4c4e-a3c5-609a186eeb5c\",\"type\":\"Selection\"},{\"attributes\":{\"dimension\":1,\"plot\":{\"id\":\"babab8bb-006a-4012-828d-c002282588c2\",\"subtype\":\"Figure\",\"type\":\"Plot\"},\"ticker\":{\"id\":\"5083aba7-4c3a-4557-9a4a-1b917fee12b8\",\"type\":\"BasicTicker\"}},\"id\":\"9add024f-e470-4ba8-ae2c-3e35e08daff6\",\"type\":\"Grid\"},{\"attributes\":{\"active_drag\":\"auto\",\"active_inspect\":\"auto\",\"active_multi\":null,\"active_scroll\":\"auto\",\"active_tap\":\"auto\",\"tools\":[{\"id\":\"33bb0d3a-97e4-47c0-8ec3-ee14e683c8ad\",\"type\":\"PanTool\"},{\"id\":\"5feec9d6-bf0d-4707-87e1-3e9ecd4e07c4\",\"type\":\"WheelZoomTool\"},{\"id\":\"5e9862f6-18f3-4f15-82f1-22415da79feb\",\"type\":\"BoxZoomTool\"},{\"id\":\"01ae14f9-a107-4ca8-a575-4ff0b08b4f62\",\"type\":\"SaveTool\"},{\"id\":\"583cc6ba-e122-4ecd-be35-0aeb2038f673\",\"type\":\"ResetTool\"},{\"id\":\"4ba58486-a429-4a9a-b5fa-c89073380264\",\"type\":\"HelpTool\"}]},\"id\":\"148704f6-be3d-45d1-ae7a-73ae65d878c2\",\"type\":\"Toolbar\"},{\"attributes\":{},\"id\":\"a0882fa2-44f6-4eee-b387-b54c31c0fd89\",\"type\":\"BasicTickFormatter\"},{\"attributes\":{\"axis_label\":\"Percentile [%ile]\",\"axis_label_text_font\":\"verdana\",\"axis_label_text_font_style\":\"normal\",\"formatter\":{\"id\":\"8442e1b1-317a-434d-8358-1180b3e2c850\",\"type\":\"BasicTickFormatter\"},\"major_label_text_font\":\"verdana\",\"plot\":{\"id\":\"babab8bb-006a-4012-828d-c002282588c2\",\"subtype\":\"Figure\",\"type\":\"Plot\"},\"ticker\":{\"id\":\"5083aba7-4c3a-4557-9a4a-1b917fee12b8\",\"type\":\"BasicTicker\"}},\"id\":\"bc7abf6b-fcc5-4684-bdda-5824119fffa8\",\"type\":\"LinearAxis\"},{\"attributes\":{\"plot\":null,\"text\":\"City population distribution\",\"text_color\":{\"value\":\"#0276FD\"},\"text_font\":\"verdana\",\"text_font_size\":{\"value\":\"12pt\"}},\"id\":\"4865af71-a1f9-4288-a504-3e41b0f1a150\",\"type\":\"Title\"},{\"attributes\":{},\"id\":\"4cbba3c3-3ede-4a2b-a0a6-ea41897edde9\",\"type\":\"UnionRenderers\"},{\"attributes\":{\"bottom_units\":\"screen\",\"fill_alpha\":{\"value\":0.5},\"fill_color\":{\"value\":\"lightgrey\"},\"left_units\":\"screen\",\"level\":\"overlay\",\"line_alpha\":{\"value\":1.0},\"line_color\":{\"value\":\"black\"},\"line_dash\":[4,4],\"line_width\":{\"value\":2},\"plot\":null,\"render_mode\":\"css\",\"right_units\":\"screen\",\"top_units\":\"screen\"},\"id\":\"14ae2683-ddb8-45e6-96a5-4a5ab5b2d99e\",\"type\":\"BoxAnnotation\"},{\"attributes\":{},\"id\":\"b94b8b43-d572-4bfb-892a-7c613778ef64\",\"type\":\"BasicTicker\"}],\"root_ids\":[\"babab8bb-006a-4012-828d-c002282588c2\"]},\"title\":\"Bokeh Application\",\"version\":\"0.13.0\"}};\n",
       "  var render_items = [{\"docid\":\"73f9ab07-3a46-4718-b16d-8fd020dfc45a\",\"roots\":{\"babab8bb-006a-4012-828d-c002282588c2\":\"eafd96bd-104b-4e59-b9f9-704602d47306\"}}];\n",
       "  root.Bokeh.embed.embed_items_notebook(docs_json, render_items);\n",
       "\n",
       "  }\n",
       "  if (root.Bokeh !== undefined) {\n",
       "    embed_document(root);\n",
       "  } else {\n",
       "    var attempts = 0;\n",
       "    var timer = setInterval(function(root) {\n",
       "      if (root.Bokeh !== undefined) {\n",
       "        embed_document(root);\n",
       "        clearInterval(timer);\n",
       "      }\n",
       "      attempts++;\n",
       "      if (attempts > 100) {\n",
       "        console.log(\"Bokeh: ERROR: Unable to run BokehJS code because BokehJS library is missing\")\n",
       "        clearInterval(timer);\n",
       "      }\n",
       "    }, 10, root)\n",
       "  }\n",
       "})(window);"
      ],
      "application/vnd.bokehjs_exec.v0+json": ""
     },
     "metadata": {
      "application/vnd.bokehjs_exec.v0+json": {
       "id": "babab8bb-006a-4012-828d-c002282588c2"
      }
     },
     "output_type": "display_data"
    }
   ],
   "source": [
    "#Plot cumulative distribution\n",
    "p2 = figure(plot_height=300, title=\"City population distribution\",\n",
    "           x_axis_label='City population bins', y_axis_label='Percentile [%ile]')\n",
    "p2.step(list(range(0,len(bin_edges))),[0]+[list(np.cumsum(hist))[x]/NumberOfCity for x in range(0,len(hist))],\n",
    "       line_color=\"#0276FD\",line_width=2)\n",
    "\n",
    "p2.xaxis.ticker = list(range(0,len(bin_edges)))\n",
    "p2.xaxis.major_label_orientation = 3.14/4\n",
    "p2.xaxis.major_label_overrides = {el:\"{:,}\".format(bin_edges[el]) for el in range(0,len(bin_edges))}\n",
    "\n",
    "p2.title.text_font_size = '12pt'\n",
    "p2.title.text_color = \"#0276FD\"\n",
    "p2.title.text_font = \"verdana\"\n",
    "p2.yaxis.axis_label_text_font = \"verdana\"\n",
    "p2.yaxis.axis_label_text_font_style = \"normal\"\n",
    "p2.xaxis.axis_label_text_font = \"verdana\"\n",
    "p2.xaxis.axis_label_text_font_style = \"normal\"\n",
    "p2.xaxis.major_label_text_font = \"verdana\"\n",
    "p2.yaxis.major_label_text_font = \"verdana\"\n",
    "\n",
    "show(p2)"
   ]
  },
  {
   "cell_type": "markdown",
   "metadata": {},
   "source": [
    "## 3.3. Area analysis"
   ]
  },
  {
   "cell_type": "code",
   "execution_count": 48,
   "metadata": {},
   "outputs": [
    {
     "name": "stdout",
     "output_type": "stream",
     "text": [
      "Surface totale: 6,840.54 km²\n",
      "Surface moyenne: 19.82 km²\n",
      "Surface mediane: 15.81 km²\n",
      "Surface la plus faible: 0.56 km² (Bécherel)\n",
      "Surface la plus élevée: 110.66 km² (Paimpont)\n"
     ]
    }
   ],
   "source": [
    "TotalArea   = df['Area'].sum() # Surface totale\n",
    "AverageArea = int(df['Area'].mean()) # Surface moyenne \n",
    "MedianArea  = int(df['Area'].median()) # Surface mediane\n",
    "MinArea     = df['Area'].min() # Surface la plus faible\n",
    "MaxArea     = df['Area'].max() # Surface la plus élevée\n",
    "\n",
    "print ('Surface totale: ' + \"{:,}\".format(TotalArea/100) + ' km' + (u\"\\u00b2\").encode('utf-8')) # [km2] originally surface in hectare so need to /100\n",
    "print ('Surface moyenne: '+ \"{:,}\".format(AverageArea/100) + ' km' + (u\"\\u00b2\").encode('utf-8')) # [km2] originally surface in hectare\n",
    "print ('Surface mediane: '+ \"{:,}\".format(MedianArea/100) + ' km' + (u\"\\u00b2\").encode('utf-8')) # [km2] originally surface in hectare\n",
    "print ('Surface la plus faible: '+ \"{:,}\".format(MinArea/100) + ' km' + (u\"\\u00b2\").encode('utf-8')  + ' (' + df.loc[df['Area'] == MinArea]['City name'].to_string(index=False).encode('utf-8') + ')') # [km2] originally surface in hectare\n",
    "print ('Surface la plus élevée: '+ \"{:,}\".format(MaxArea/100) + ' km' + (u\"\\u00b2\").encode('utf-8')  + ' (' + df.loc[df['Area'] == MaxArea]['City name'].to_string(index=False).encode('utf-8') + ')') # [km2] originally surface in hectare"
   ]
  },
  {
   "cell_type": "markdown",
   "metadata": {},
   "source": [
    "### 3.3.1 Area histogram"
   ]
  },
  {
   "cell_type": "code",
   "execution_count": 53,
   "metadata": {},
   "outputs": [],
   "source": [
    "# Prepare the data for plot\n",
    "start = Fcn_BasicStatisticalAnalysisOfPopulation.DefineMinMaxLog(MinArea,'Min')\n",
    "stop = Fcn_BasicStatisticalAnalysisOfPopulation.DefineMinMaxLog(MaxArea,'Max')\n",
    "bins = Fcn_BasicStatisticalAnalysisOfPopulation.CreateLogBin(start,stop)\n",
    "hist, bin_edges = np.histogram(list(df['Area']), bins=bins)\n",
    "\n",
    "# Remove the first and last value when hist is 0 - Comment out this line to show for all log scale\n",
    "hist, bin_edges = Fcn_BasicStatisticalAnalysisOfPopulation.RemoveLastFirstValuesWhenZero(hist, bin_edges)"
   ]
  },
  {
   "cell_type": "code",
   "execution_count": 54,
   "metadata": {},
   "outputs": [
    {
     "data": {
      "text/html": [
       "\n",
       "\n",
       "\n",
       "\n",
       "\n",
       "\n",
       "  <div class=\"bk-root\" id=\"818c43ea-e696-4c44-8778-bd14b05efbae\"></div>\n"
      ]
     },
     "metadata": {},
     "output_type": "display_data"
    },
    {
     "data": {
      "application/javascript": [
       "(function(root) {\n",
       "  function embed_document(root) {\n",
       "    \n",
       "  var docs_json = {\"e3a91498-55e1-4636-a9b3-8a86468089c8\":{\"roots\":{\"references\":[{\"attributes\":{\"active_drag\":\"auto\",\"active_inspect\":\"auto\",\"active_multi\":null,\"active_scroll\":\"auto\",\"active_tap\":\"auto\",\"tools\":[{\"id\":\"1fffa09d-5e9f-4fb2-832f-414119e23bef\",\"type\":\"PanTool\"},{\"id\":\"2dbeb49f-4927-4853-acce-79b2c9308e2f\",\"type\":\"WheelZoomTool\"},{\"id\":\"cb4b231c-676d-45a8-a662-ca60fd7d764b\",\"type\":\"BoxZoomTool\"},{\"id\":\"7a6362c2-99af-4e52-807d-2a4530626b95\",\"type\":\"SaveTool\"},{\"id\":\"ca753d0e-7d9c-417e-b9e6-dc3d6cdc8aa6\",\"type\":\"ResetTool\"},{\"id\":\"f092ddb8-1967-4af7-ba1f-50e43df8d7fb\",\"type\":\"HelpTool\"}]},\"id\":\"60b1438f-7f75-48e4-b742-c01b235d5758\",\"type\":\"Toolbar\"},{\"attributes\":{\"bottom\":{\"value\":0},\"fill_alpha\":{\"value\":0.1},\"fill_color\":{\"value\":\"#1f77b4\"},\"left\":{\"field\":\"left\"},\"line_alpha\":{\"value\":0.1},\"line_color\":{\"value\":\"#1f77b4\"},\"right\":{\"field\":\"right\"},\"top\":{\"field\":\"top\"}},\"id\":\"b66b8a76-80ef-4d5f-bc8f-49215410a0c3\",\"type\":\"Quad\"},{\"attributes\":{\"bottom_units\":\"screen\",\"fill_alpha\":{\"value\":0.5},\"fill_color\":{\"value\":\"lightgrey\"},\"left_units\":\"screen\",\"level\":\"overlay\",\"line_alpha\":{\"value\":1.0},\"line_color\":{\"value\":\"black\"},\"line_dash\":[4,4],\"line_width\":{\"value\":2},\"plot\":null,\"render_mode\":\"css\",\"right_units\":\"screen\",\"top_units\":\"screen\"},\"id\":\"64eccc86-8551-47a3-9aa0-7baa7d80e269\",\"type\":\"BoxAnnotation\"},{\"attributes\":{},\"id\":\"ba1e2d56-3b21-4272-9947-1aea48c0d1ab\",\"type\":\"BasicTicker\"},{\"attributes\":{},\"id\":\"d911b8cf-540d-43c5-a50d-dbe90d3b198c\",\"type\":\"BasicTickFormatter\"},{\"attributes\":{},\"id\":\"2dbeb49f-4927-4853-acce-79b2c9308e2f\",\"type\":\"WheelZoomTool\"},{\"attributes\":{\"axis_label\":\"City area bins [km\\u00b2]\",\"axis_label_text_font\":\"verdana\",\"axis_label_text_font_style\":\"normal\",\"formatter\":{\"id\":\"c9e89356-fdff-45b7-94da-226c6119a91f\",\"type\":\"BasicTickFormatter\"},\"major_label_orientation\":0.785,\"major_label_overrides\":{\"0\":\"0.5\",\"1\":\"0.6\",\"10\":\"6\",\"11\":\"7\",\"12\":\"8\",\"13\":\"9\",\"14\":\"10\",\"15\":\"20\",\"16\":\"30\",\"17\":\"40\",\"18\":\"50\",\"19\":\"60\",\"2\":\"0.7\",\"20\":\"70\",\"21\":\"80\",\"22\":\"90\",\"23\":\"100\",\"24\":\"200\",\"3\":\"0.8\",\"4\":\"0.9\",\"5\":\"1\",\"6\":\"2\",\"7\":\"3\",\"8\":\"4\",\"9\":\"5\"},\"major_label_text_font\":\"verdana\",\"plot\":{\"id\":\"c9ec7b3b-8a24-422c-8e1a-986db9a2646a\",\"subtype\":\"Figure\",\"type\":\"Plot\"},\"ticker\":{\"id\":\"1e47db6f-1436-4d28-98da-7ee17540178f\",\"type\":\"FixedTicker\"}},\"id\":\"50fb79e6-3738-42b0-8940-dd4c889aeb7f\",\"type\":\"LinearAxis\"},{\"attributes\":{\"ticks\":[0,1,2,3,4,5,6,7,8,9,10,11,12,13,14,15,16,17,18,19,20,21,22,23,24]},\"id\":\"1e47db6f-1436-4d28-98da-7ee17540178f\",\"type\":\"FixedTicker\"},{\"attributes\":{\"callback\":null},\"id\":\"011a2b10-5f07-449d-9f2d-3f6fdeb17fb6\",\"type\":\"DataRange1d\"},{\"attributes\":{},\"id\":\"c9e89356-fdff-45b7-94da-226c6119a91f\",\"type\":\"BasicTickFormatter\"},{\"attributes\":{\"bottom\":{\"value\":0},\"fill_color\":{\"value\":\"#0276FD\"},\"left\":{\"field\":\"left\"},\"line_color\":{\"value\":\"#5F5B5B\"},\"right\":{\"field\":\"right\"},\"top\":{\"field\":\"top\"}},\"id\":\"ef892f69-99e9-43de-984d-9498c81549c6\",\"type\":\"Quad\"},{\"attributes\":{\"plot\":{\"id\":\"c9ec7b3b-8a24-422c-8e1a-986db9a2646a\",\"subtype\":\"Figure\",\"type\":\"Plot\"},\"ticker\":{\"id\":\"b9970db6-285e-4120-95f6-3854448f7734\",\"type\":\"BasicTicker\"}},\"id\":\"fefb5b55-220d-40e8-a318-e53fc9878f21\",\"type\":\"Grid\"},{\"attributes\":{},\"id\":\"f092ddb8-1967-4af7-ba1f-50e43df8d7fb\",\"type\":\"HelpTool\"},{\"attributes\":{\"source\":{\"id\":\"f1c92bc4-8718-497a-ae0d-f7064d92b13b\",\"type\":\"ColumnDataSource\"}},\"id\":\"5fa82d58-7553-4bf8-9dce-82d594327b9d\",\"type\":\"CDSView\"},{\"attributes\":{\"dimension\":1,\"plot\":{\"id\":\"c9ec7b3b-8a24-422c-8e1a-986db9a2646a\",\"subtype\":\"Figure\",\"type\":\"Plot\"},\"ticker\":{\"id\":\"ba1e2d56-3b21-4272-9947-1aea48c0d1ab\",\"type\":\"BasicTicker\"}},\"id\":\"383f563e-6543-4a5a-b21a-8e920b26de12\",\"type\":\"Grid\"},{\"attributes\":{},\"id\":\"dcc7eb0e-42c6-4f1e-8699-0b2a9ba60022\",\"type\":\"LinearScale\"},{\"attributes\":{\"axis_label\":\"Count [#]\",\"axis_label_text_font\":\"verdana\",\"axis_label_text_font_style\":\"normal\",\"formatter\":{\"id\":\"d911b8cf-540d-43c5-a50d-dbe90d3b198c\",\"type\":\"BasicTickFormatter\"},\"major_label_text_font\":\"verdana\",\"plot\":{\"id\":\"c9ec7b3b-8a24-422c-8e1a-986db9a2646a\",\"subtype\":\"Figure\",\"type\":\"Plot\"},\"ticker\":{\"id\":\"ba1e2d56-3b21-4272-9947-1aea48c0d1ab\",\"type\":\"BasicTicker\"}},\"id\":\"397f93ce-6c0c-4f65-b8ab-4814573d4f04\",\"type\":\"LinearAxis\"},{\"attributes\":{\"below\":[{\"id\":\"50fb79e6-3738-42b0-8940-dd4c889aeb7f\",\"type\":\"LinearAxis\"}],\"left\":[{\"id\":\"397f93ce-6c0c-4f65-b8ab-4814573d4f04\",\"type\":\"LinearAxis\"}],\"plot_height\":300,\"renderers\":[{\"id\":\"50fb79e6-3738-42b0-8940-dd4c889aeb7f\",\"type\":\"LinearAxis\"},{\"id\":\"fefb5b55-220d-40e8-a318-e53fc9878f21\",\"type\":\"Grid\"},{\"id\":\"397f93ce-6c0c-4f65-b8ab-4814573d4f04\",\"type\":\"LinearAxis\"},{\"id\":\"383f563e-6543-4a5a-b21a-8e920b26de12\",\"type\":\"Grid\"},{\"id\":\"64eccc86-8551-47a3-9aa0-7baa7d80e269\",\"type\":\"BoxAnnotation\"},{\"id\":\"6f35acfd-04f0-420d-814f-3ed90c973b8c\",\"type\":\"GlyphRenderer\"}],\"title\":{\"id\":\"b3aa6411-8b5a-446c-9846-7ca536a00033\",\"type\":\"Title\"},\"toolbar\":{\"id\":\"60b1438f-7f75-48e4-b742-c01b235d5758\",\"type\":\"Toolbar\"},\"x_range\":{\"id\":\"52eb4474-976a-4d9e-83a4-98d70d23882b\",\"type\":\"DataRange1d\"},\"x_scale\":{\"id\":\"dcc7eb0e-42c6-4f1e-8699-0b2a9ba60022\",\"type\":\"LinearScale\"},\"y_range\":{\"id\":\"011a2b10-5f07-449d-9f2d-3f6fdeb17fb6\",\"type\":\"DataRange1d\"},\"y_scale\":{\"id\":\"957051a4-a512-422e-bf76-5c490c2a14ce\",\"type\":\"LinearScale\"}},\"id\":\"c9ec7b3b-8a24-422c-8e1a-986db9a2646a\",\"subtype\":\"Figure\",\"type\":\"Plot\"},{\"attributes\":{},\"id\":\"1fffa09d-5e9f-4fb2-832f-414119e23bef\",\"type\":\"PanTool\"},{\"attributes\":{\"callback\":null},\"id\":\"52eb4474-976a-4d9e-83a4-98d70d23882b\",\"type\":\"DataRange1d\"},{\"attributes\":{\"data_source\":{\"id\":\"f1c92bc4-8718-497a-ae0d-f7064d92b13b\",\"type\":\"ColumnDataSource\"},\"glyph\":{\"id\":\"ef892f69-99e9-43de-984d-9498c81549c6\",\"type\":\"Quad\"},\"hover_glyph\":null,\"muted_glyph\":null,\"nonselection_glyph\":{\"id\":\"b66b8a76-80ef-4d5f-bc8f-49215410a0c3\",\"type\":\"Quad\"},\"selection_glyph\":null,\"view\":{\"id\":\"5fa82d58-7553-4bf8-9dce-82d594327b9d\",\"type\":\"CDSView\"}},\"id\":\"6f35acfd-04f0-420d-814f-3ed90c973b8c\",\"type\":\"GlyphRenderer\"},{\"attributes\":{},\"id\":\"a3bfa0d3-94d8-4f7e-82c6-3dea8bc75f52\",\"type\":\"Selection\"},{\"attributes\":{},\"id\":\"957051a4-a512-422e-bf76-5c490c2a14ce\",\"type\":\"LinearScale\"},{\"attributes\":{\"plot\":null,\"text\":\"City area\",\"text_color\":{\"value\":\"#0276FD\"},\"text_font\":\"verdana\",\"text_font_size\":{\"value\":\"12pt\"}},\"id\":\"b3aa6411-8b5a-446c-9846-7ca536a00033\",\"type\":\"Title\"},{\"attributes\":{\"callback\":null,\"data\":{\"left\":[0,1,2,3,4,5,6,7,8,9,10,11,12,13,14,15,16,17,18,19,20,21,22,23],\"right\":[1,2,3,4,5,6,7,8,9,10,11,12,13,14,15,16,17,18,19,20,21,22,23,24],\"top\":[1,0,0,0,0,1,6,9,9,8,11,16,14,18,125,65,31,16,7,3,3,0,1,1]},\"selected\":{\"id\":\"a3bfa0d3-94d8-4f7e-82c6-3dea8bc75f52\",\"type\":\"Selection\"},\"selection_policy\":{\"id\":\"5a1806d1-0185-4089-ac8f-c4c6e8616a55\",\"type\":\"UnionRenderers\"}},\"id\":\"f1c92bc4-8718-497a-ae0d-f7064d92b13b\",\"type\":\"ColumnDataSource\"},{\"attributes\":{\"overlay\":{\"id\":\"64eccc86-8551-47a3-9aa0-7baa7d80e269\",\"type\":\"BoxAnnotation\"}},\"id\":\"cb4b231c-676d-45a8-a662-ca60fd7d764b\",\"type\":\"BoxZoomTool\"},{\"attributes\":{},\"id\":\"ca753d0e-7d9c-417e-b9e6-dc3d6cdc8aa6\",\"type\":\"ResetTool\"},{\"attributes\":{},\"id\":\"b9970db6-285e-4120-95f6-3854448f7734\",\"type\":\"BasicTicker\"},{\"attributes\":{},\"id\":\"5a1806d1-0185-4089-ac8f-c4c6e8616a55\",\"type\":\"UnionRenderers\"},{\"attributes\":{},\"id\":\"7a6362c2-99af-4e52-807d-2a4530626b95\",\"type\":\"SaveTool\"}],\"root_ids\":[\"c9ec7b3b-8a24-422c-8e1a-986db9a2646a\"]},\"title\":\"Bokeh Application\",\"version\":\"0.13.0\"}};\n",
       "  var render_items = [{\"docid\":\"e3a91498-55e1-4636-a9b3-8a86468089c8\",\"roots\":{\"c9ec7b3b-8a24-422c-8e1a-986db9a2646a\":\"818c43ea-e696-4c44-8778-bd14b05efbae\"}}];\n",
       "  root.Bokeh.embed.embed_items_notebook(docs_json, render_items);\n",
       "\n",
       "  }\n",
       "  if (root.Bokeh !== undefined) {\n",
       "    embed_document(root);\n",
       "  } else {\n",
       "    var attempts = 0;\n",
       "    var timer = setInterval(function(root) {\n",
       "      if (root.Bokeh !== undefined) {\n",
       "        embed_document(root);\n",
       "        clearInterval(timer);\n",
       "      }\n",
       "      attempts++;\n",
       "      if (attempts > 100) {\n",
       "        console.log(\"Bokeh: ERROR: Unable to run BokehJS code because BokehJS library is missing\")\n",
       "        clearInterval(timer);\n",
       "      }\n",
       "    }, 10, root)\n",
       "  }\n",
       "})(window);"
      ],
      "application/vnd.bokehjs_exec.v0+json": ""
     },
     "metadata": {
      "application/vnd.bokehjs_exec.v0+json": {
       "id": "c9ec7b3b-8a24-422c-8e1a-986db9a2646a"
      }
     },
     "output_type": "display_data"
    }
   ],
   "source": [
    "# Plot histogram\n",
    "p1 = figure(plot_height=300, title=\"City area\",\n",
    "           x_axis_label='City area bins'+ ' [km' + (u\"\\u00b2]\").encode('utf-8'), y_axis_label='Count [#]')\n",
    "p1.quad(top=list(hist), bottom=0, left=list(range(0,len(bin_edges)))[:-1], right=list(range(0,len(bin_edges)))[1:],\n",
    "       fill_color = \"#0276FD\", line_color = \"#5F5B5B\", alpha=1)\n",
    "\n",
    "p1.xaxis.ticker = list(range(0,len(bin_edges)))\n",
    "p1.xaxis.major_label_orientation = 3.14/4\n",
    "p1.xaxis.major_label_overrides = {el:\"{:,}\".format((bin_edges[el]/100)) if (bin_edges[el]/100) < 1 else \"{:,}\".format(int(bin_edges[el]/100)) for el in range(0,len(bin_edges))}\n",
    "p1.title.text_font_size = '12pt'\n",
    "p1.title.text_color = \"#0276FD\"\n",
    "p1.title.text_font = \"verdana\"\n",
    "p1.yaxis.axis_label_text_font = \"verdana\"\n",
    "p1.yaxis.axis_label_text_font_style = \"normal\"\n",
    "p1.xaxis.axis_label_text_font = \"verdana\"\n",
    "p1.xaxis.axis_label_text_font_style = \"normal\"\n",
    "p1.xaxis.major_label_text_font = \"verdana\"\n",
    "p1.yaxis.major_label_text_font = \"verdana\"\n",
    "\n",
    "show(p1)"
   ]
  },
  {
   "cell_type": "markdown",
   "metadata": {},
   "source": [
    "### 3.3.2. Population cumulative distribution"
   ]
  },
  {
   "cell_type": "code",
   "execution_count": 55,
   "metadata": {},
   "outputs": [
    {
     "data": {
      "text/html": [
       "\n",
       "\n",
       "\n",
       "\n",
       "\n",
       "\n",
       "  <div class=\"bk-root\" id=\"042af4d9-b81d-409d-a464-bdab1f2d54ec\"></div>\n"
      ]
     },
     "metadata": {},
     "output_type": "display_data"
    },
    {
     "data": {
      "application/javascript": [
       "(function(root) {\n",
       "  function embed_document(root) {\n",
       "    \n",
       "  var docs_json = {\"84d342e6-dbf6-41b4-9385-3275e04c9976\":{\"roots\":{\"references\":[{\"attributes\":{},\"id\":\"7af77b04-3a2a-465f-9cb4-cec83564ad46\",\"type\":\"BasicTicker\"},{\"attributes\":{},\"id\":\"62b2ff93-0dcd-46d2-a445-94cd57677de9\",\"type\":\"BasicTickFormatter\"},{\"attributes\":{\"plot\":{\"id\":\"4aaf2ee3-534e-4e71-a7d7-ecfeaa66d291\",\"subtype\":\"Figure\",\"type\":\"Plot\"},\"ticker\":{\"id\":\"7af77b04-3a2a-465f-9cb4-cec83564ad46\",\"type\":\"BasicTicker\"}},\"id\":\"2ea4b921-9ba8-44ef-8283-e144c8d9e6c5\",\"type\":\"Grid\"},{\"attributes\":{\"active_drag\":\"auto\",\"active_inspect\":\"auto\",\"active_multi\":null,\"active_scroll\":\"auto\",\"active_tap\":\"auto\",\"tools\":[{\"id\":\"3d0f25ab-89ec-448f-a056-6f233e859484\",\"type\":\"PanTool\"},{\"id\":\"33284f95-165c-4ddf-8b42-e234fe4384e2\",\"type\":\"WheelZoomTool\"},{\"id\":\"586fc048-fbbe-4aa2-a78d-fcd72a159e30\",\"type\":\"BoxZoomTool\"},{\"id\":\"d7227a16-bf22-49db-9d1d-d49132499ade\",\"type\":\"SaveTool\"},{\"id\":\"30cc6305-c07a-4508-8754-3c4ec7099754\",\"type\":\"ResetTool\"},{\"id\":\"60fb3b13-3641-4e8b-8c7d-bee3b9988b13\",\"type\":\"HelpTool\"}]},\"id\":\"20d21f8d-41b8-4e21-9547-cec5f56e94fb\",\"type\":\"Toolbar\"},{\"attributes\":{\"dimension\":1,\"plot\":{\"id\":\"4aaf2ee3-534e-4e71-a7d7-ecfeaa66d291\",\"subtype\":\"Figure\",\"type\":\"Plot\"},\"ticker\":{\"id\":\"741a8e66-9ced-439d-bf18-66e48110e6f7\",\"type\":\"BasicTicker\"}},\"id\":\"4d56a6b3-99f2-4ab4-9bdd-462f0c75aec6\",\"type\":\"Grid\"},{\"attributes\":{\"axis_label\":\"City area bins [km\\u00b2]\",\"axis_label_text_font\":\"verdana\",\"axis_label_text_font_style\":\"normal\",\"formatter\":{\"id\":\"8424e874-6be0-4520-a375-8adb45ac46c0\",\"type\":\"BasicTickFormatter\"},\"major_label_orientation\":0.785,\"major_label_overrides\":{\"0\":\"0.5\",\"1\":\"0.6\",\"10\":\"6\",\"11\":\"7\",\"12\":\"8\",\"13\":\"9\",\"14\":\"10\",\"15\":\"20\",\"16\":\"30\",\"17\":\"40\",\"18\":\"50\",\"19\":\"60\",\"2\":\"0.7\",\"20\":\"70\",\"21\":\"80\",\"22\":\"90\",\"23\":\"100\",\"24\":\"200\",\"3\":\"0.8\",\"4\":\"0.9\",\"5\":\"1\",\"6\":\"2\",\"7\":\"3\",\"8\":\"4\",\"9\":\"5\"},\"major_label_text_font\":\"verdana\",\"plot\":{\"id\":\"4aaf2ee3-534e-4e71-a7d7-ecfeaa66d291\",\"subtype\":\"Figure\",\"type\":\"Plot\"},\"ticker\":{\"id\":\"9762c032-226b-4deb-9972-a2b3d3c69c17\",\"type\":\"FixedTicker\"}},\"id\":\"04648b7c-8a2c-4a1c-add0-50d80825a117\",\"type\":\"LinearAxis\"},{\"attributes\":{\"overlay\":{\"id\":\"3bb2fe7e-3d83-4366-b877-521e2a48008e\",\"type\":\"BoxAnnotation\"}},\"id\":\"586fc048-fbbe-4aa2-a78d-fcd72a159e30\",\"type\":\"BoxZoomTool\"},{\"attributes\":{\"below\":[{\"id\":\"04648b7c-8a2c-4a1c-add0-50d80825a117\",\"type\":\"LinearAxis\"}],\"left\":[{\"id\":\"d29a22a8-8b87-4771-9d17-80abdee1afd6\",\"type\":\"LinearAxis\"}],\"plot_height\":300,\"renderers\":[{\"id\":\"04648b7c-8a2c-4a1c-add0-50d80825a117\",\"type\":\"LinearAxis\"},{\"id\":\"2ea4b921-9ba8-44ef-8283-e144c8d9e6c5\",\"type\":\"Grid\"},{\"id\":\"d29a22a8-8b87-4771-9d17-80abdee1afd6\",\"type\":\"LinearAxis\"},{\"id\":\"4d56a6b3-99f2-4ab4-9bdd-462f0c75aec6\",\"type\":\"Grid\"},{\"id\":\"3bb2fe7e-3d83-4366-b877-521e2a48008e\",\"type\":\"BoxAnnotation\"},{\"id\":\"bcf20d3c-ac65-4782-af90-26c0e594201c\",\"type\":\"GlyphRenderer\"}],\"title\":{\"id\":\"d7e85df9-b300-4885-aa3a-ef80ef7b03c7\",\"type\":\"Title\"},\"toolbar\":{\"id\":\"20d21f8d-41b8-4e21-9547-cec5f56e94fb\",\"type\":\"Toolbar\"},\"x_range\":{\"id\":\"66dc881c-3d9f-4d6f-9d67-053271189ab9\",\"type\":\"DataRange1d\"},\"x_scale\":{\"id\":\"9aae9dc3-c2a5-4d9a-9e3a-3cbbbd1eb03c\",\"type\":\"LinearScale\"},\"y_range\":{\"id\":\"49fed4b6-1462-423e-ac78-eeb35397776a\",\"type\":\"DataRange1d\"},\"y_scale\":{\"id\":\"1c22ea65-9724-4f0d-85ec-f3290e03e0ea\",\"type\":\"LinearScale\"}},\"id\":\"4aaf2ee3-534e-4e71-a7d7-ecfeaa66d291\",\"subtype\":\"Figure\",\"type\":\"Plot\"},{\"attributes\":{},\"id\":\"741a8e66-9ced-439d-bf18-66e48110e6f7\",\"type\":\"BasicTicker\"},{\"attributes\":{\"source\":{\"id\":\"86e56b05-286e-497f-9ba1-17bd6054d491\",\"type\":\"ColumnDataSource\"}},\"id\":\"89e42a5c-691d-4ce5-9c20-6a1214aa8608\",\"type\":\"CDSView\"},{\"attributes\":{},\"id\":\"30cc6305-c07a-4508-8754-3c4ec7099754\",\"type\":\"ResetTool\"},{\"attributes\":{\"ticks\":[0,1,2,3,4,5,6,7,8,9,10,11,12,13,14,15,16,17,18,19,20,21,22,23,24]},\"id\":\"9762c032-226b-4deb-9972-a2b3d3c69c17\",\"type\":\"FixedTicker\"},{\"attributes\":{},\"id\":\"60fb3b13-3641-4e8b-8c7d-bee3b9988b13\",\"type\":\"HelpTool\"},{\"attributes\":{\"callback\":null},\"id\":\"66dc881c-3d9f-4d6f-9d67-053271189ab9\",\"type\":\"DataRange1d\"},{\"attributes\":{\"plot\":null,\"text\":\"City area distribution\",\"text_color\":{\"value\":\"#0276FD\"},\"text_font\":\"verdana\",\"text_font_size\":{\"value\":\"12pt\"}},\"id\":\"d7e85df9-b300-4885-aa3a-ef80ef7b03c7\",\"type\":\"Title\"},{\"attributes\":{\"callback\":null,\"data\":{\"x\":[0,1,2,3,4,5,6,7,8,9,10,11,12,13,14,15,16,17,18,19,20,21,22,23,24],\"y\":[0,0.002898550724637681,0.002898550724637681,0.002898550724637681,0.002898550724637681,0.002898550724637681,0.005797101449275362,0.02318840579710145,0.04927536231884058,0.07536231884057971,0.09855072463768116,0.13043478260869565,0.17681159420289855,0.21739130434782608,0.26956521739130435,0.6318840579710145,0.8202898550724638,0.9101449275362319,0.9565217391304348,0.9768115942028985,0.9855072463768116,0.9942028985507246,0.9942028985507246,0.9971014492753624,1.0]},\"selected\":{\"id\":\"ef150b77-f5cc-45ae-9f34-976872514ee3\",\"type\":\"Selection\"},\"selection_policy\":{\"id\":\"0fb1727c-995e-44e9-aa94-f8ef62a6cacc\",\"type\":\"UnionRenderers\"}},\"id\":\"86e56b05-286e-497f-9ba1-17bd6054d491\",\"type\":\"ColumnDataSource\"},{\"attributes\":{},\"id\":\"d7227a16-bf22-49db-9d1d-d49132499ade\",\"type\":\"SaveTool\"},{\"attributes\":{},\"id\":\"1c22ea65-9724-4f0d-85ec-f3290e03e0ea\",\"type\":\"LinearScale\"},{\"attributes\":{},\"id\":\"ef150b77-f5cc-45ae-9f34-976872514ee3\",\"type\":\"Selection\"},{\"attributes\":{},\"id\":\"8424e874-6be0-4520-a375-8adb45ac46c0\",\"type\":\"BasicTickFormatter\"},{\"attributes\":{},\"id\":\"33284f95-165c-4ddf-8b42-e234fe4384e2\",\"type\":\"WheelZoomTool\"},{\"attributes\":{\"bottom_units\":\"screen\",\"fill_alpha\":{\"value\":0.5},\"fill_color\":{\"value\":\"lightgrey\"},\"left_units\":\"screen\",\"level\":\"overlay\",\"line_alpha\":{\"value\":1.0},\"line_color\":{\"value\":\"black\"},\"line_dash\":[4,4],\"line_width\":{\"value\":2},\"plot\":null,\"render_mode\":\"css\",\"right_units\":\"screen\",\"top_units\":\"screen\"},\"id\":\"3bb2fe7e-3d83-4366-b877-521e2a48008e\",\"type\":\"BoxAnnotation\"},{\"attributes\":{\"line_alpha\":{\"value\":0.1},\"line_color\":{\"value\":\"#1f77b4\"},\"line_width\":{\"value\":2},\"x\":{\"field\":\"x\"},\"y\":{\"field\":\"y\"}},\"id\":\"a4ed3608-a4f2-4310-9967-f2439302e8fd\",\"type\":\"Step\"},{\"attributes\":{\"axis_label\":\"Percentile [%ile]\",\"axis_label_text_font\":\"verdana\",\"axis_label_text_font_style\":\"normal\",\"formatter\":{\"id\":\"62b2ff93-0dcd-46d2-a445-94cd57677de9\",\"type\":\"BasicTickFormatter\"},\"major_label_text_font\":\"verdana\",\"plot\":{\"id\":\"4aaf2ee3-534e-4e71-a7d7-ecfeaa66d291\",\"subtype\":\"Figure\",\"type\":\"Plot\"},\"ticker\":{\"id\":\"741a8e66-9ced-439d-bf18-66e48110e6f7\",\"type\":\"BasicTicker\"}},\"id\":\"d29a22a8-8b87-4771-9d17-80abdee1afd6\",\"type\":\"LinearAxis\"},{\"attributes\":{\"line_color\":{\"value\":\"#0276FD\"},\"line_width\":{\"value\":2},\"x\":{\"field\":\"x\"},\"y\":{\"field\":\"y\"}},\"id\":\"b0458350-8bc8-42d5-8850-65bf1adc6a88\",\"type\":\"Step\"},{\"attributes\":{},\"id\":\"9aae9dc3-c2a5-4d9a-9e3a-3cbbbd1eb03c\",\"type\":\"LinearScale\"},{\"attributes\":{},\"id\":\"0fb1727c-995e-44e9-aa94-f8ef62a6cacc\",\"type\":\"UnionRenderers\"},{\"attributes\":{},\"id\":\"3d0f25ab-89ec-448f-a056-6f233e859484\",\"type\":\"PanTool\"},{\"attributes\":{\"callback\":null},\"id\":\"49fed4b6-1462-423e-ac78-eeb35397776a\",\"type\":\"DataRange1d\"},{\"attributes\":{\"data_source\":{\"id\":\"86e56b05-286e-497f-9ba1-17bd6054d491\",\"type\":\"ColumnDataSource\"},\"glyph\":{\"id\":\"b0458350-8bc8-42d5-8850-65bf1adc6a88\",\"type\":\"Step\"},\"hover_glyph\":null,\"muted_glyph\":null,\"nonselection_glyph\":{\"id\":\"a4ed3608-a4f2-4310-9967-f2439302e8fd\",\"type\":\"Step\"},\"selection_glyph\":null,\"view\":{\"id\":\"89e42a5c-691d-4ce5-9c20-6a1214aa8608\",\"type\":\"CDSView\"}},\"id\":\"bcf20d3c-ac65-4782-af90-26c0e594201c\",\"type\":\"GlyphRenderer\"}],\"root_ids\":[\"4aaf2ee3-534e-4e71-a7d7-ecfeaa66d291\"]},\"title\":\"Bokeh Application\",\"version\":\"0.13.0\"}};\n",
       "  var render_items = [{\"docid\":\"84d342e6-dbf6-41b4-9385-3275e04c9976\",\"roots\":{\"4aaf2ee3-534e-4e71-a7d7-ecfeaa66d291\":\"042af4d9-b81d-409d-a464-bdab1f2d54ec\"}}];\n",
       "  root.Bokeh.embed.embed_items_notebook(docs_json, render_items);\n",
       "\n",
       "  }\n",
       "  if (root.Bokeh !== undefined) {\n",
       "    embed_document(root);\n",
       "  } else {\n",
       "    var attempts = 0;\n",
       "    var timer = setInterval(function(root) {\n",
       "      if (root.Bokeh !== undefined) {\n",
       "        embed_document(root);\n",
       "        clearInterval(timer);\n",
       "      }\n",
       "      attempts++;\n",
       "      if (attempts > 100) {\n",
       "        console.log(\"Bokeh: ERROR: Unable to run BokehJS code because BokehJS library is missing\")\n",
       "        clearInterval(timer);\n",
       "      }\n",
       "    }, 10, root)\n",
       "  }\n",
       "})(window);"
      ],
      "application/vnd.bokehjs_exec.v0+json": ""
     },
     "metadata": {
      "application/vnd.bokehjs_exec.v0+json": {
       "id": "4aaf2ee3-534e-4e71-a7d7-ecfeaa66d291"
      }
     },
     "output_type": "display_data"
    }
   ],
   "source": [
    "#Plot cumulative distribution\n",
    "p2 = figure(plot_height=300, title=\"City area distribution\",\n",
    "           x_axis_label='City area bins'+ ' [km' + (u\"\\u00b2]\").encode('utf-8'), y_axis_label='Percentile [%ile]')\n",
    "p2.step(list(range(0,len(bin_edges))),[0]+[list(np.cumsum(hist))[x]/NumberOfCity for x in range(0,len(hist))],\n",
    "       line_color=\"#0276FD\",line_width=2)\n",
    "\n",
    "p2.xaxis.ticker = list(range(0,len(bin_edges)))\n",
    "p2.xaxis.major_label_orientation = 3.14/4\n",
    "p2.xaxis.major_label_overrides = {el:\"{:,}\".format((bin_edges[el]/100)) if (bin_edges[el]/100) < 1 else \"{:,}\".format(int(bin_edges[el]/100)) for el in range(0,len(bin_edges))}\n",
    "\n",
    "p2.title.text_font_size = '12pt'\n",
    "p2.title.text_color = \"#0276FD\"\n",
    "p2.title.text_font = \"verdana\"\n",
    "p2.yaxis.axis_label_text_font = \"verdana\"\n",
    "p2.yaxis.axis_label_text_font_style = \"normal\"\n",
    "p2.xaxis.axis_label_text_font = \"verdana\"\n",
    "p2.xaxis.axis_label_text_font_style = \"normal\"\n",
    "p2.xaxis.major_label_text_font = \"verdana\"\n",
    "p2.yaxis.major_label_text_font = \"verdana\"\n",
    "\n",
    "show(p2)"
   ]
  },
  {
   "cell_type": "markdown",
   "metadata": {},
   "source": [
    "## 3.4. Population density analysis"
   ]
  },
  {
   "cell_type": "code",
   "execution_count": 68,
   "metadata": {},
   "outputs": [
    {
     "name": "stdout",
     "output_type": "stream",
     "text": [
      "Density totale: 149 pop/km²\n",
      "Density moyenne: 155 pop/km²\n",
      "Density mediane: 74 pop/km²\n",
      "Density la plus faible: 14 pop/km² (Paimpont)\n",
      "Density la plus élevée: 4,195 pop/km² (Rennes)\n"
     ]
    }
   ],
   "source": [
    "TotalDensity   = int(df['Population'].sum()/(df['Area'].sum()/100)) # pop/km2\n",
    "AverageDensity = int(df['Density'].mean()) # Population moyenne \n",
    "MedianDensity  = int(df['Density'].median()) # Population mediane\n",
    "MinDensity     = df['Density'].min() # Population la plus faible\n",
    "MaxDensity     = df['Density'].max() # Population la plus élevée\n",
    "\n",
    "print ('Density totale: ' + \"{:,}\".format(TotalDensity) + ' pop/km' + (u\"\\u00b2\").encode('utf-8')) \n",
    "print ('Density moyenne: '+ \"{:,}\".format(AverageDensity) + ' pop/km' + (u\"\\u00b2\").encode('utf-8'))\n",
    "print ('Density mediane: '+ \"{:,}\".format(MedianDensity) + ' pop/km' + (u\"\\u00b2\").encode('utf-8')) \n",
    "print ('Density la plus faible: '+ \"{:,}\".format(int(MinDensity)) + ' pop/km' + (u\"\\u00b2\").encode('utf-8') + ' (' + df.loc[df['Density'] == MinDensity]['City name'].to_string(index=False).encode('utf-8') + ')')  \n",
    "print ('Density la plus élevée: '+ \"{:,}\".format(int(MaxDensity)) + ' pop/km' + (u\"\\u00b2\").encode('utf-8')  + ' (' + df.loc[df['Density'] == MaxDensity]['City name'].to_string(index=False).encode('utf-8') + ')')"
   ]
  },
  {
   "cell_type": "markdown",
   "metadata": {},
   "source": [
    "### 3.4.1 Population density histogram"
   ]
  },
  {
   "cell_type": "code",
   "execution_count": 72,
   "metadata": {
    "collapsed": true
   },
   "outputs": [],
   "source": [
    "# Prepare the data for plot\n",
    "start = Fcn_BasicStatisticalAnalysisOfPopulation.DefineMinMaxLog(MinDensity,'Min')\n",
    "stop = Fcn_BasicStatisticalAnalysisOfPopulation.DefineMinMaxLog(MaxDensity,'Max')\n",
    "bins = Fcn_BasicStatisticalAnalysisOfPopulation.CreateLogBin(start,stop)\n",
    "hist, bin_edges = np.histogram(list(df['Density']), bins=bins)\n",
    "\n",
    "# Remove the first and last value when hist is 0 - Comment out this line to show forall log scale\n",
    "hist, bin_edges = Fcn_BasicStatisticalAnalysisOfPopulation.RemoveLastFirstValuesWhenZero(hist, bin_edges)"
   ]
  },
  {
   "cell_type": "code",
   "execution_count": 73,
   "metadata": {},
   "outputs": [
    {
     "data": {
      "text/html": [
       "\n",
       "\n",
       "\n",
       "\n",
       "\n",
       "\n",
       "  <div class=\"bk-root\" id=\"a7e09911-b398-4da9-89f0-9c8d2646f911\"></div>\n"
      ]
     },
     "metadata": {},
     "output_type": "display_data"
    },
    {
     "data": {
      "application/javascript": [
       "(function(root) {\n",
       "  function embed_document(root) {\n",
       "    \n",
       "  var docs_json = {\"39565d6d-94a9-478a-9082-90ea03a6525d\":{\"roots\":{\"references\":[{\"attributes\":{},\"id\":\"672e7a70-5c48-494d-8d5d-8f953c3337b1\",\"type\":\"LinearScale\"},{\"attributes\":{},\"id\":\"9280e1ac-326f-49c6-824a-cbed950afa70\",\"type\":\"ResetTool\"},{\"attributes\":{},\"id\":\"217a63ea-c5d3-4a54-9faf-0552e680fa88\",\"type\":\"UnionRenderers\"},{\"attributes\":{},\"id\":\"173dcc22-8696-4aae-bb40-9dce07f7e009\",\"type\":\"BasicTicker\"},{\"attributes\":{},\"id\":\"6d7a80a1-181e-4773-ae7a-7f54936fe9c8\",\"type\":\"BasicTicker\"},{\"attributes\":{},\"id\":\"1b532935-65fe-4146-9e58-2ee3543900d3\",\"type\":\"WheelZoomTool\"},{\"attributes\":{},\"id\":\"a1a783e5-5d65-4ea0-8ab3-a76e8ac4bad5\",\"type\":\"BasicTickFormatter\"},{\"attributes\":{\"plot\":null,\"text\":\"City population density\",\"text_color\":{\"value\":\"#0276FD\"},\"text_font\":\"verdana\",\"text_font_size\":{\"value\":\"12pt\"}},\"id\":\"1d28a515-075f-44d6-b7d9-3087118f0745\",\"type\":\"Title\"},{\"attributes\":{\"callback\":null},\"id\":\"a3eee2c9-3124-41dd-b6dc-f508547c1270\",\"type\":\"DataRange1d\"},{\"attributes\":{\"bottom\":{\"value\":0},\"fill_color\":{\"value\":\"#0276FD\"},\"left\":{\"field\":\"left\"},\"line_color\":{\"value\":\"#5F5B5B\"},\"right\":{\"field\":\"right\"},\"top\":{\"field\":\"top\"}},\"id\":\"8d361c45-ed46-4b9a-8152-9f8f25b7da6e\",\"type\":\"Quad\"},{\"attributes\":{\"active_drag\":\"auto\",\"active_inspect\":\"auto\",\"active_multi\":null,\"active_scroll\":\"auto\",\"active_tap\":\"auto\",\"tools\":[{\"id\":\"0d007646-a0dd-42cc-8c7b-b8233e429c0a\",\"type\":\"PanTool\"},{\"id\":\"1b532935-65fe-4146-9e58-2ee3543900d3\",\"type\":\"WheelZoomTool\"},{\"id\":\"79b7ba23-c336-4633-bb15-f424aa99f855\",\"type\":\"BoxZoomTool\"},{\"id\":\"66d1811e-e2de-4b3a-a5da-41c31e55d315\",\"type\":\"SaveTool\"},{\"id\":\"9280e1ac-326f-49c6-824a-cbed950afa70\",\"type\":\"ResetTool\"},{\"id\":\"97364e74-1555-43da-a254-57580b665703\",\"type\":\"HelpTool\"}]},\"id\":\"2be7b34d-463e-4c7f-b633-22064e91bede\",\"type\":\"Toolbar\"},{\"attributes\":{\"callback\":null},\"id\":\"9298f33b-b0bd-4bf6-b367-02a3e78d6f2c\",\"type\":\"DataRange1d\"},{\"attributes\":{\"axis_label\":\"Count [#]\",\"axis_label_text_font\":\"verdana\",\"axis_label_text_font_style\":\"normal\",\"formatter\":{\"id\":\"a1a783e5-5d65-4ea0-8ab3-a76e8ac4bad5\",\"type\":\"BasicTickFormatter\"},\"major_label_text_font\":\"verdana\",\"plot\":{\"id\":\"0cfad966-188e-4c1f-8dc9-649127565b94\",\"subtype\":\"Figure\",\"type\":\"Plot\"},\"ticker\":{\"id\":\"6d7a80a1-181e-4773-ae7a-7f54936fe9c8\",\"type\":\"BasicTicker\"}},\"id\":\"f25402f8-c00c-4438-823e-0b1e2ae9bf19\",\"type\":\"LinearAxis\"},{\"attributes\":{},\"id\":\"31b3a969-795b-4200-a479-dd65e26fa748\",\"type\":\"Selection\"},{\"attributes\":{\"ticks\":[0,1,2,3,4,5,6,7,8,9,10,11,12,13,14,15,16,17,18,19,20,21,22]},\"id\":\"9339e9b3-515f-40d9-b43b-579338e97e80\",\"type\":\"FixedTicker\"},{\"attributes\":{\"callback\":null,\"data\":{\"left\":[0,1,2,3,4,5,6,7,8,9,10,11,12,13,14,15,16,17,18,19,20,21],\"right\":[1,2,3,4,5,6,7,8,9,10,11,12,13,14,15,16,17,18,19,20,21,22],\"top\":[1,10,33,46,34,38,26,17,13,63,29,11,5,7,2,2,1,1,5,0,0,1]},\"selected\":{\"id\":\"31b3a969-795b-4200-a479-dd65e26fa748\",\"type\":\"Selection\"},\"selection_policy\":{\"id\":\"217a63ea-c5d3-4a54-9faf-0552e680fa88\",\"type\":\"UnionRenderers\"}},\"id\":\"51f2ddbf-75ec-4e7a-8de9-9ed976e3b010\",\"type\":\"ColumnDataSource\"},{\"attributes\":{},\"id\":\"65dab9f7-4088-4356-be56-a2229a1295e7\",\"type\":\"BasicTickFormatter\"},{\"attributes\":{},\"id\":\"97364e74-1555-43da-a254-57580b665703\",\"type\":\"HelpTool\"},{\"attributes\":{},\"id\":\"0a296d3c-8f6e-4035-9ecb-146941f2fbd1\",\"type\":\"LinearScale\"},{\"attributes\":{\"axis_label\":\"City population density bins [pop/km\\u00b2]\",\"axis_label_text_font\":\"verdana\",\"axis_label_text_font_style\":\"normal\",\"formatter\":{\"id\":\"65dab9f7-4088-4356-be56-a2229a1295e7\",\"type\":\"BasicTickFormatter\"},\"major_label_orientation\":0.785,\"major_label_overrides\":{\"0\":\"10\",\"1\":\"20\",\"10\":\"200\",\"11\":\"300\",\"12\":\"400\",\"13\":\"500\",\"14\":\"600\",\"15\":\"700\",\"16\":\"800\",\"17\":\"900\",\"18\":\"1,000\",\"19\":\"2,000\",\"2\":\"30\",\"20\":\"3,000\",\"21\":\"4,000\",\"22\":\"5,000\",\"3\":\"40\",\"4\":\"50\",\"5\":\"60\",\"6\":\"70\",\"7\":\"80\",\"8\":\"90\",\"9\":\"100\"},\"major_label_text_font\":\"verdana\",\"plot\":{\"id\":\"0cfad966-188e-4c1f-8dc9-649127565b94\",\"subtype\":\"Figure\",\"type\":\"Plot\"},\"ticker\":{\"id\":\"9339e9b3-515f-40d9-b43b-579338e97e80\",\"type\":\"FixedTicker\"}},\"id\":\"b0de6f0c-3fe1-42a5-99ad-1140f3aed28b\",\"type\":\"LinearAxis\"},{\"attributes\":{\"plot\":{\"id\":\"0cfad966-188e-4c1f-8dc9-649127565b94\",\"subtype\":\"Figure\",\"type\":\"Plot\"},\"ticker\":{\"id\":\"173dcc22-8696-4aae-bb40-9dce07f7e009\",\"type\":\"BasicTicker\"}},\"id\":\"365bff00-2874-4846-aa7a-b1c42d4dd399\",\"type\":\"Grid\"},{\"attributes\":{\"overlay\":{\"id\":\"3796a8b5-0020-46d0-b58b-e3eea6b10f1b\",\"type\":\"BoxAnnotation\"}},\"id\":\"79b7ba23-c336-4633-bb15-f424aa99f855\",\"type\":\"BoxZoomTool\"},{\"attributes\":{},\"id\":\"0d007646-a0dd-42cc-8c7b-b8233e429c0a\",\"type\":\"PanTool\"},{\"attributes\":{\"data_source\":{\"id\":\"51f2ddbf-75ec-4e7a-8de9-9ed976e3b010\",\"type\":\"ColumnDataSource\"},\"glyph\":{\"id\":\"8d361c45-ed46-4b9a-8152-9f8f25b7da6e\",\"type\":\"Quad\"},\"hover_glyph\":null,\"muted_glyph\":null,\"nonselection_glyph\":{\"id\":\"a6c22d3e-634e-4d97-bafd-a396d175a3f8\",\"type\":\"Quad\"},\"selection_glyph\":null,\"view\":{\"id\":\"89b5e88d-1b7a-4eb1-a276-806e820cd20d\",\"type\":\"CDSView\"}},\"id\":\"b5b0218d-74d0-4183-b1f0-5815c9b7701c\",\"type\":\"GlyphRenderer\"},{\"attributes\":{\"bottom_units\":\"screen\",\"fill_alpha\":{\"value\":0.5},\"fill_color\":{\"value\":\"lightgrey\"},\"left_units\":\"screen\",\"level\":\"overlay\",\"line_alpha\":{\"value\":1.0},\"line_color\":{\"value\":\"black\"},\"line_dash\":[4,4],\"line_width\":{\"value\":2},\"plot\":null,\"render_mode\":\"css\",\"right_units\":\"screen\",\"top_units\":\"screen\"},\"id\":\"3796a8b5-0020-46d0-b58b-e3eea6b10f1b\",\"type\":\"BoxAnnotation\"},{\"attributes\":{\"bottom\":{\"value\":0},\"fill_alpha\":{\"value\":0.1},\"fill_color\":{\"value\":\"#1f77b4\"},\"left\":{\"field\":\"left\"},\"line_alpha\":{\"value\":0.1},\"line_color\":{\"value\":\"#1f77b4\"},\"right\":{\"field\":\"right\"},\"top\":{\"field\":\"top\"}},\"id\":\"a6c22d3e-634e-4d97-bafd-a396d175a3f8\",\"type\":\"Quad\"},{\"attributes\":{\"below\":[{\"id\":\"b0de6f0c-3fe1-42a5-99ad-1140f3aed28b\",\"type\":\"LinearAxis\"}],\"left\":[{\"id\":\"f25402f8-c00c-4438-823e-0b1e2ae9bf19\",\"type\":\"LinearAxis\"}],\"plot_height\":300,\"renderers\":[{\"id\":\"b0de6f0c-3fe1-42a5-99ad-1140f3aed28b\",\"type\":\"LinearAxis\"},{\"id\":\"365bff00-2874-4846-aa7a-b1c42d4dd399\",\"type\":\"Grid\"},{\"id\":\"f25402f8-c00c-4438-823e-0b1e2ae9bf19\",\"type\":\"LinearAxis\"},{\"id\":\"35175476-43e2-4a5a-a357-11cfcd578e0e\",\"type\":\"Grid\"},{\"id\":\"3796a8b5-0020-46d0-b58b-e3eea6b10f1b\",\"type\":\"BoxAnnotation\"},{\"id\":\"b5b0218d-74d0-4183-b1f0-5815c9b7701c\",\"type\":\"GlyphRenderer\"}],\"title\":{\"id\":\"1d28a515-075f-44d6-b7d9-3087118f0745\",\"type\":\"Title\"},\"toolbar\":{\"id\":\"2be7b34d-463e-4c7f-b633-22064e91bede\",\"type\":\"Toolbar\"},\"x_range\":{\"id\":\"a3eee2c9-3124-41dd-b6dc-f508547c1270\",\"type\":\"DataRange1d\"},\"x_scale\":{\"id\":\"672e7a70-5c48-494d-8d5d-8f953c3337b1\",\"type\":\"LinearScale\"},\"y_range\":{\"id\":\"9298f33b-b0bd-4bf6-b367-02a3e78d6f2c\",\"type\":\"DataRange1d\"},\"y_scale\":{\"id\":\"0a296d3c-8f6e-4035-9ecb-146941f2fbd1\",\"type\":\"LinearScale\"}},\"id\":\"0cfad966-188e-4c1f-8dc9-649127565b94\",\"subtype\":\"Figure\",\"type\":\"Plot\"},{\"attributes\":{\"dimension\":1,\"plot\":{\"id\":\"0cfad966-188e-4c1f-8dc9-649127565b94\",\"subtype\":\"Figure\",\"type\":\"Plot\"},\"ticker\":{\"id\":\"6d7a80a1-181e-4773-ae7a-7f54936fe9c8\",\"type\":\"BasicTicker\"}},\"id\":\"35175476-43e2-4a5a-a357-11cfcd578e0e\",\"type\":\"Grid\"},{\"attributes\":{\"source\":{\"id\":\"51f2ddbf-75ec-4e7a-8de9-9ed976e3b010\",\"type\":\"ColumnDataSource\"}},\"id\":\"89b5e88d-1b7a-4eb1-a276-806e820cd20d\",\"type\":\"CDSView\"},{\"attributes\":{},\"id\":\"66d1811e-e2de-4b3a-a5da-41c31e55d315\",\"type\":\"SaveTool\"}],\"root_ids\":[\"0cfad966-188e-4c1f-8dc9-649127565b94\"]},\"title\":\"Bokeh Application\",\"version\":\"0.13.0\"}};\n",
       "  var render_items = [{\"docid\":\"39565d6d-94a9-478a-9082-90ea03a6525d\",\"roots\":{\"0cfad966-188e-4c1f-8dc9-649127565b94\":\"a7e09911-b398-4da9-89f0-9c8d2646f911\"}}];\n",
       "  root.Bokeh.embed.embed_items_notebook(docs_json, render_items);\n",
       "\n",
       "  }\n",
       "  if (root.Bokeh !== undefined) {\n",
       "    embed_document(root);\n",
       "  } else {\n",
       "    var attempts = 0;\n",
       "    var timer = setInterval(function(root) {\n",
       "      if (root.Bokeh !== undefined) {\n",
       "        embed_document(root);\n",
       "        clearInterval(timer);\n",
       "      }\n",
       "      attempts++;\n",
       "      if (attempts > 100) {\n",
       "        console.log(\"Bokeh: ERROR: Unable to run BokehJS code because BokehJS library is missing\")\n",
       "        clearInterval(timer);\n",
       "      }\n",
       "    }, 10, root)\n",
       "  }\n",
       "})(window);"
      ],
      "application/vnd.bokehjs_exec.v0+json": ""
     },
     "metadata": {
      "application/vnd.bokehjs_exec.v0+json": {
       "id": "0cfad966-188e-4c1f-8dc9-649127565b94"
      }
     },
     "output_type": "display_data"
    }
   ],
   "source": [
    "# Plot histogram\n",
    "p1 = figure(plot_height=300, title=\"City population density\",\n",
    "           x_axis_label='City population density bins'+ ' [pop/km' + (u\"\\u00b2]\").encode('utf-8'), y_axis_label='Count [#]')\n",
    "p1.quad(top=list(hist), bottom=0, left=list(range(0,len(bin_edges)))[:-1], right=list(range(0,len(bin_edges)))[1:],\n",
    "       fill_color = \"#0276FD\", line_color = \"#5F5B5B\", alpha=1)\n",
    "\n",
    "p1.xaxis.ticker = list(range(0,len(bin_edges)))\n",
    "p1.xaxis.major_label_orientation = 3.14/4\n",
    "p1.xaxis.major_label_overrides = {el:\"{:,}\".format((bin_edges[el])) if (bin_edges[el]) < 1 else \"{:,}\".format(int(bin_edges[el])) for el in range(0,len(bin_edges))}\n",
    "p1.title.text_font_size = '12pt'\n",
    "p1.title.text_color = \"#0276FD\"\n",
    "p1.title.text_font = \"verdana\"\n",
    "p1.yaxis.axis_label_text_font = \"verdana\"\n",
    "p1.yaxis.axis_label_text_font_style = \"normal\"\n",
    "p1.xaxis.axis_label_text_font = \"verdana\"\n",
    "p1.xaxis.axis_label_text_font_style = \"normal\"\n",
    "p1.xaxis.major_label_text_font = \"verdana\"\n",
    "p1.yaxis.major_label_text_font = \"verdana\"\n",
    "\n",
    "show(p1)"
   ]
  },
  {
   "cell_type": "markdown",
   "metadata": {},
   "source": [
    "### 3.4.2 Population density cumulative distribution"
   ]
  },
  {
   "cell_type": "code",
   "execution_count": 74,
   "metadata": {},
   "outputs": [
    {
     "data": {
      "text/html": [
       "\n",
       "\n",
       "\n",
       "\n",
       "\n",
       "\n",
       "  <div class=\"bk-root\" id=\"a7e313be-3794-4e00-b9c5-91de1e969208\"></div>\n"
      ]
     },
     "metadata": {},
     "output_type": "display_data"
    },
    {
     "data": {
      "application/javascript": [
       "(function(root) {\n",
       "  function embed_document(root) {\n",
       "    \n",
       "  var docs_json = {\"faecae0f-bacf-415e-bad7-0877079ccb9a\":{\"roots\":{\"references\":[{\"attributes\":{\"overlay\":{\"id\":\"ff4df316-4e05-4d29-891e-7905c6643b01\",\"type\":\"BoxAnnotation\"}},\"id\":\"bcef8d4d-ae33-44f1-9a6c-b7b83e68ab33\",\"type\":\"BoxZoomTool\"},{\"attributes\":{},\"id\":\"2271c98c-ef58-4fae-a48a-e937ee005cf2\",\"type\":\"ResetTool\"},{\"attributes\":{},\"id\":\"5afcbbc1-876b-4ac1-abf4-e0b59fbb6b9d\",\"type\":\"LinearScale\"},{\"attributes\":{\"data_source\":{\"id\":\"783724e9-19ba-4847-ba3d-612869f420e8\",\"type\":\"ColumnDataSource\"},\"glyph\":{\"id\":\"531387df-a934-41a6-9246-d6e141eed728\",\"type\":\"Step\"},\"hover_glyph\":null,\"muted_glyph\":null,\"nonselection_glyph\":{\"id\":\"3f3d9237-2494-4a24-b684-45ff218caec9\",\"type\":\"Step\"},\"selection_glyph\":null,\"view\":{\"id\":\"561959c7-412f-439c-ac39-011d776be3f2\",\"type\":\"CDSView\"}},\"id\":\"323aa135-28e7-47c8-845f-2b486f959550\",\"type\":\"GlyphRenderer\"},{\"attributes\":{},\"id\":\"ef8a2241-e98f-4620-8ed6-749511b3ed93\",\"type\":\"SaveTool\"},{\"attributes\":{},\"id\":\"fd6f94a3-3a42-44ea-a993-18ea1de54aa7\",\"type\":\"BasicTickFormatter\"},{\"attributes\":{},\"id\":\"85b87382-96a0-45c3-8402-898e38dc953d\",\"type\":\"HelpTool\"},{\"attributes\":{\"below\":[{\"id\":\"c3363f05-bee9-404a-8aa5-05577e7097b9\",\"type\":\"LinearAxis\"}],\"left\":[{\"id\":\"fcac17d7-33b3-43b0-ac3c-4a8d3822ee8f\",\"type\":\"LinearAxis\"}],\"plot_height\":300,\"renderers\":[{\"id\":\"c3363f05-bee9-404a-8aa5-05577e7097b9\",\"type\":\"LinearAxis\"},{\"id\":\"eec0bda7-bfbc-4705-8517-6be488f0b1f5\",\"type\":\"Grid\"},{\"id\":\"fcac17d7-33b3-43b0-ac3c-4a8d3822ee8f\",\"type\":\"LinearAxis\"},{\"id\":\"ec617513-f1a6-4ec7-93c0-952c56048474\",\"type\":\"Grid\"},{\"id\":\"ff4df316-4e05-4d29-891e-7905c6643b01\",\"type\":\"BoxAnnotation\"},{\"id\":\"323aa135-28e7-47c8-845f-2b486f959550\",\"type\":\"GlyphRenderer\"}],\"title\":{\"id\":\"23b35330-b263-45c1-a677-e279bb752adf\",\"type\":\"Title\"},\"toolbar\":{\"id\":\"34b24789-a901-4e3a-9026-7c3dd1b4c5a4\",\"type\":\"Toolbar\"},\"x_range\":{\"id\":\"c3b2440e-1e10-4ff9-a286-c0164278daf5\",\"type\":\"DataRange1d\"},\"x_scale\":{\"id\":\"604f1300-200a-4fc3-9a9b-b2e02069ea42\",\"type\":\"LinearScale\"},\"y_range\":{\"id\":\"82a8d3d9-7b2b-4341-a88c-7ab80dcdc67c\",\"type\":\"DataRange1d\"},\"y_scale\":{\"id\":\"5afcbbc1-876b-4ac1-abf4-e0b59fbb6b9d\",\"type\":\"LinearScale\"}},\"id\":\"f457d660-7266-4333-b993-9a0a82fb72be\",\"subtype\":\"Figure\",\"type\":\"Plot\"},{\"attributes\":{\"callback\":null},\"id\":\"82a8d3d9-7b2b-4341-a88c-7ab80dcdc67c\",\"type\":\"DataRange1d\"},{\"attributes\":{},\"id\":\"5772523f-fd25-4768-860c-0100222c7a82\",\"type\":\"BasicTicker\"},{\"attributes\":{\"active_drag\":\"auto\",\"active_inspect\":\"auto\",\"active_multi\":null,\"active_scroll\":\"auto\",\"active_tap\":\"auto\",\"tools\":[{\"id\":\"204fd990-52d1-46fc-8942-b001441d15b0\",\"type\":\"PanTool\"},{\"id\":\"59b22390-08f1-42ef-b048-896d46c29fba\",\"type\":\"WheelZoomTool\"},{\"id\":\"bcef8d4d-ae33-44f1-9a6c-b7b83e68ab33\",\"type\":\"BoxZoomTool\"},{\"id\":\"ef8a2241-e98f-4620-8ed6-749511b3ed93\",\"type\":\"SaveTool\"},{\"id\":\"2271c98c-ef58-4fae-a48a-e937ee005cf2\",\"type\":\"ResetTool\"},{\"id\":\"85b87382-96a0-45c3-8402-898e38dc953d\",\"type\":\"HelpTool\"}]},\"id\":\"34b24789-a901-4e3a-9026-7c3dd1b4c5a4\",\"type\":\"Toolbar\"},{\"attributes\":{\"callback\":null,\"data\":{\"x\":[0,1,2,3,4,5,6,7,8,9,10,11,12,13,14,15,16,17,18,19,20,21,22],\"y\":[0,0.002898550724637681,0.03188405797101449,0.12753623188405797,0.2608695652173913,0.35942028985507246,0.46956521739130436,0.5449275362318841,0.5942028985507246,0.6318840579710145,0.8144927536231884,0.8985507246376812,0.9304347826086956,0.9449275362318841,0.9652173913043478,0.9710144927536232,0.9768115942028985,0.9797101449275363,0.9826086956521739,0.9971014492753624,0.9971014492753624,0.9971014492753624,1.0]},\"selected\":{\"id\":\"7a54a576-7a07-4ec4-b3e2-c65037b3d309\",\"type\":\"Selection\"},\"selection_policy\":{\"id\":\"906f7319-aba6-4681-bc39-95990fb22d6f\",\"type\":\"UnionRenderers\"}},\"id\":\"783724e9-19ba-4847-ba3d-612869f420e8\",\"type\":\"ColumnDataSource\"},{\"attributes\":{\"callback\":null},\"id\":\"c3b2440e-1e10-4ff9-a286-c0164278daf5\",\"type\":\"DataRange1d\"},{\"attributes\":{},\"id\":\"906f7319-aba6-4681-bc39-95990fb22d6f\",\"type\":\"UnionRenderers\"},{\"attributes\":{\"line_color\":{\"value\":\"#0276FD\"},\"line_width\":{\"value\":2},\"x\":{\"field\":\"x\"},\"y\":{\"field\":\"y\"}},\"id\":\"531387df-a934-41a6-9246-d6e141eed728\",\"type\":\"Step\"},{\"attributes\":{\"plot\":null,\"text\":\"City population density distribution\",\"text_color\":{\"value\":\"#0276FD\"},\"text_font\":\"verdana\",\"text_font_size\":{\"value\":\"12pt\"}},\"id\":\"23b35330-b263-45c1-a677-e279bb752adf\",\"type\":\"Title\"},{\"attributes\":{},\"id\":\"604f1300-200a-4fc3-9a9b-b2e02069ea42\",\"type\":\"LinearScale\"},{\"attributes\":{\"bottom_units\":\"screen\",\"fill_alpha\":{\"value\":0.5},\"fill_color\":{\"value\":\"lightgrey\"},\"left_units\":\"screen\",\"level\":\"overlay\",\"line_alpha\":{\"value\":1.0},\"line_color\":{\"value\":\"black\"},\"line_dash\":[4,4],\"line_width\":{\"value\":2},\"plot\":null,\"render_mode\":\"css\",\"right_units\":\"screen\",\"top_units\":\"screen\"},\"id\":\"ff4df316-4e05-4d29-891e-7905c6643b01\",\"type\":\"BoxAnnotation\"},{\"attributes\":{},\"id\":\"ee2396c7-1335-4d4f-9338-dd48feb81a35\",\"type\":\"BasicTicker\"},{\"attributes\":{\"axis_label\":\"City population density bins [pop/km\\u00b2]\",\"axis_label_text_font\":\"verdana\",\"axis_label_text_font_style\":\"normal\",\"formatter\":{\"id\":\"c2947fa3-b2b2-4ee9-b5f6-99a1f1974605\",\"type\":\"BasicTickFormatter\"},\"major_label_orientation\":0.785,\"major_label_overrides\":{\"0\":\"10\",\"1\":\"20\",\"10\":\"200\",\"11\":\"300\",\"12\":\"400\",\"13\":\"500\",\"14\":\"600\",\"15\":\"700\",\"16\":\"800\",\"17\":\"900\",\"18\":\"1,000\",\"19\":\"2,000\",\"2\":\"30\",\"20\":\"3,000\",\"21\":\"4,000\",\"22\":\"5,000\",\"3\":\"40\",\"4\":\"50\",\"5\":\"60\",\"6\":\"70\",\"7\":\"80\",\"8\":\"90\",\"9\":\"100\"},\"major_label_text_font\":\"verdana\",\"plot\":{\"id\":\"f457d660-7266-4333-b993-9a0a82fb72be\",\"subtype\":\"Figure\",\"type\":\"Plot\"},\"ticker\":{\"id\":\"293a7f08-86c3-4c2b-bf98-2d4be97b142d\",\"type\":\"FixedTicker\"}},\"id\":\"c3363f05-bee9-404a-8aa5-05577e7097b9\",\"type\":\"LinearAxis\"},{\"attributes\":{\"line_alpha\":{\"value\":0.1},\"line_color\":{\"value\":\"#1f77b4\"},\"line_width\":{\"value\":2},\"x\":{\"field\":\"x\"},\"y\":{\"field\":\"y\"}},\"id\":\"3f3d9237-2494-4a24-b684-45ff218caec9\",\"type\":\"Step\"},{\"attributes\":{\"dimension\":1,\"plot\":{\"id\":\"f457d660-7266-4333-b993-9a0a82fb72be\",\"subtype\":\"Figure\",\"type\":\"Plot\"},\"ticker\":{\"id\":\"ee2396c7-1335-4d4f-9338-dd48feb81a35\",\"type\":\"BasicTicker\"}},\"id\":\"ec617513-f1a6-4ec7-93c0-952c56048474\",\"type\":\"Grid\"},{\"attributes\":{},\"id\":\"204fd990-52d1-46fc-8942-b001441d15b0\",\"type\":\"PanTool\"},{\"attributes\":{\"plot\":{\"id\":\"f457d660-7266-4333-b993-9a0a82fb72be\",\"subtype\":\"Figure\",\"type\":\"Plot\"},\"ticker\":{\"id\":\"5772523f-fd25-4768-860c-0100222c7a82\",\"type\":\"BasicTicker\"}},\"id\":\"eec0bda7-bfbc-4705-8517-6be488f0b1f5\",\"type\":\"Grid\"},{\"attributes\":{\"axis_label\":\"Percentile [%ile]\",\"axis_label_text_font\":\"verdana\",\"axis_label_text_font_style\":\"normal\",\"formatter\":{\"id\":\"fd6f94a3-3a42-44ea-a993-18ea1de54aa7\",\"type\":\"BasicTickFormatter\"},\"major_label_text_font\":\"verdana\",\"plot\":{\"id\":\"f457d660-7266-4333-b993-9a0a82fb72be\",\"subtype\":\"Figure\",\"type\":\"Plot\"},\"ticker\":{\"id\":\"ee2396c7-1335-4d4f-9338-dd48feb81a35\",\"type\":\"BasicTicker\"}},\"id\":\"fcac17d7-33b3-43b0-ac3c-4a8d3822ee8f\",\"type\":\"LinearAxis\"},{\"attributes\":{},\"id\":\"c2947fa3-b2b2-4ee9-b5f6-99a1f1974605\",\"type\":\"BasicTickFormatter\"},{\"attributes\":{},\"id\":\"7a54a576-7a07-4ec4-b3e2-c65037b3d309\",\"type\":\"Selection\"},{\"attributes\":{\"source\":{\"id\":\"783724e9-19ba-4847-ba3d-612869f420e8\",\"type\":\"ColumnDataSource\"}},\"id\":\"561959c7-412f-439c-ac39-011d776be3f2\",\"type\":\"CDSView\"},{\"attributes\":{},\"id\":\"59b22390-08f1-42ef-b048-896d46c29fba\",\"type\":\"WheelZoomTool\"},{\"attributes\":{\"ticks\":[0,1,2,3,4,5,6,7,8,9,10,11,12,13,14,15,16,17,18,19,20,21,22]},\"id\":\"293a7f08-86c3-4c2b-bf98-2d4be97b142d\",\"type\":\"FixedTicker\"}],\"root_ids\":[\"f457d660-7266-4333-b993-9a0a82fb72be\"]},\"title\":\"Bokeh Application\",\"version\":\"0.13.0\"}};\n",
       "  var render_items = [{\"docid\":\"faecae0f-bacf-415e-bad7-0877079ccb9a\",\"roots\":{\"f457d660-7266-4333-b993-9a0a82fb72be\":\"a7e313be-3794-4e00-b9c5-91de1e969208\"}}];\n",
       "  root.Bokeh.embed.embed_items_notebook(docs_json, render_items);\n",
       "\n",
       "  }\n",
       "  if (root.Bokeh !== undefined) {\n",
       "    embed_document(root);\n",
       "  } else {\n",
       "    var attempts = 0;\n",
       "    var timer = setInterval(function(root) {\n",
       "      if (root.Bokeh !== undefined) {\n",
       "        embed_document(root);\n",
       "        clearInterval(timer);\n",
       "      }\n",
       "      attempts++;\n",
       "      if (attempts > 100) {\n",
       "        console.log(\"Bokeh: ERROR: Unable to run BokehJS code because BokehJS library is missing\")\n",
       "        clearInterval(timer);\n",
       "      }\n",
       "    }, 10, root)\n",
       "  }\n",
       "})(window);"
      ],
      "application/vnd.bokehjs_exec.v0+json": ""
     },
     "metadata": {
      "application/vnd.bokehjs_exec.v0+json": {
       "id": "f457d660-7266-4333-b993-9a0a82fb72be"
      }
     },
     "output_type": "display_data"
    }
   ],
   "source": [
    "#Plot cumulative distribution\n",
    "p2 = figure(plot_height=300, title=\"City population density distribution\",\n",
    "           x_axis_label='City population density bins'+ ' [pop/km' + (u\"\\u00b2]\").encode('utf-8'), y_axis_label='Percentile [%ile]')\n",
    "p2.step(list(range(0,len(bin_edges))),[0]+[list(np.cumsum(hist))[x]/NumberOfCity for x in range(0,len(hist))],\n",
    "       line_color=\"#0276FD\",line_width=2)\n",
    "\n",
    "p2.xaxis.ticker = list(range(0,len(bin_edges)))\n",
    "p2.xaxis.major_label_orientation = 3.14/4\n",
    "p2.xaxis.major_label_overrides = {el:\"{:,}\".format((bin_edges[el])) if (bin_edges[el]) < 1 else \"{:,}\".format(int(bin_edges[el])) for el in range(0,len(bin_edges))}\n",
    "\n",
    "p2.title.text_font_size = '12pt'\n",
    "p2.title.text_color = \"#0276FD\"\n",
    "p2.title.text_font = \"verdana\"\n",
    "p2.yaxis.axis_label_text_font = \"verdana\"\n",
    "p2.yaxis.axis_label_text_font_style = \"normal\"\n",
    "p2.xaxis.axis_label_text_font = \"verdana\"\n",
    "p2.xaxis.axis_label_text_font_style = \"normal\"\n",
    "p2.xaxis.major_label_text_font = \"verdana\"\n",
    "p2.yaxis.major_label_text_font = \"verdana\"\n",
    "\n",
    "show(p2)"
   ]
  },
  {
   "cell_type": "markdown",
   "metadata": {
    "collapsed": true
   },
   "source": [
    "## 3.5 Population spatial analysis"
   ]
  },
  {
   "cell_type": "markdown",
   "metadata": {},
   "source": [
    "### 3.5.1. Prepare the data"
   ]
  },
  {
   "cell_type": "code",
   "execution_count": 110,
   "metadata": {},
   "outputs": [
    {
     "data": {
      "text/html": [
       "<div>\n",
       "<style>\n",
       "    .dataframe thead tr:only-child th {\n",
       "        text-align: right;\n",
       "    }\n",
       "\n",
       "    .dataframe thead th {\n",
       "        text-align: left;\n",
       "    }\n",
       "\n",
       "    .dataframe tbody tr th {\n",
       "        vertical-align: top;\n",
       "    }\n",
       "</style>\n",
       "<table border=\"1\" class=\"dataframe\">\n",
       "  <thead>\n",
       "    <tr style=\"text-align: right;\">\n",
       "      <th></th>\n",
       "      <th>Area</th>\n",
       "      <th>City name</th>\n",
       "      <th>Density</th>\n",
       "      <th>Population</th>\n",
       "      <th>Latitude</th>\n",
       "      <th>Longitude</th>\n",
       "      <th>DistanceToRennes</th>\n",
       "      <th>DistanceToSaint-Malo</th>\n",
       "    </tr>\n",
       "  </thead>\n",
       "  <tbody>\n",
       "    <tr>\n",
       "      <th>0</th>\n",
       "      <td>3020</td>\n",
       "      <td>Acigné</td>\n",
       "      <td>208.013245</td>\n",
       "      <td>6282</td>\n",
       "      <td>48.140329</td>\n",
       "      <td>-1.516048</td>\n",
       "      <td>12.612759</td>\n",
       "      <td>67.290686</td>\n",
       "    </tr>\n",
       "    <tr>\n",
       "      <th>1</th>\n",
       "      <td>2556</td>\n",
       "      <td>Amanlis</td>\n",
       "      <td>63.223787</td>\n",
       "      <td>1616</td>\n",
       "      <td>47.993798</td>\n",
       "      <td>-1.495800</td>\n",
       "      <td>18.900247</td>\n",
       "      <td>82.226049</td>\n",
       "    </tr>\n",
       "    <tr>\n",
       "      <th>2</th>\n",
       "      <td>1266</td>\n",
       "      <td>Andouillé-Neuville</td>\n",
       "      <td>66.113744</td>\n",
       "      <td>837</td>\n",
       "      <td>48.298632</td>\n",
       "      <td>-1.591675</td>\n",
       "      <td>21.883490</td>\n",
       "      <td>49.618939</td>\n",
       "    </tr>\n",
       "    <tr>\n",
       "      <th>3</th>\n",
       "      <td>942</td>\n",
       "      <td>Antrain</td>\n",
       "      <td>145.010616</td>\n",
       "      <td>1366</td>\n",
       "      <td>48.461888</td>\n",
       "      <td>-1.478346</td>\n",
       "      <td>41.789843</td>\n",
       "      <td>44.005262</td>\n",
       "    </tr>\n",
       "    <tr>\n",
       "      <th>4</th>\n",
       "      <td>469</td>\n",
       "      <td>Arbrissel</td>\n",
       "      <td>61.833689</td>\n",
       "      <td>290</td>\n",
       "      <td>47.925517</td>\n",
       "      <td>-1.291799</td>\n",
       "      <td>35.483827</td>\n",
       "      <td>96.394868</td>\n",
       "    </tr>\n",
       "  </tbody>\n",
       "</table>\n",
       "</div>"
      ],
      "text/plain": [
       "   Area           City name     Density  Population   Latitude  Longitude  \\\n",
       "0  3020              Acigné  208.013245        6282  48.140329  -1.516048   \n",
       "1  2556             Amanlis   63.223787        1616  47.993798  -1.495800   \n",
       "2  1266  Andouillé-Neuville   66.113744         837  48.298632  -1.591675   \n",
       "3   942             Antrain  145.010616        1366  48.461888  -1.478346   \n",
       "4   469           Arbrissel   61.833689         290  47.925517  -1.291799   \n",
       "\n",
       "   DistanceToRennes  DistanceToSaint-Malo  \n",
       "0         12.612759             67.290686  \n",
       "1         18.900247             82.226049  \n",
       "2         21.883490             49.618939  \n",
       "3         41.789843             44.005262  \n",
       "4         35.483827             96.394868  "
      ]
     },
     "execution_count": 110,
     "metadata": {},
     "output_type": "execute_result"
    }
   ],
   "source": [
    "df['Latitude'] = [QueryMongo[x]['centre']['coordinates'][1] for x in range(0,NumberOfCity)]\n",
    "df['Longitude'] = [QueryMongo[x]['centre']['coordinates'][0] for x in range(0,NumberOfCity)]\n",
    "CityNameDistance = 'Rennes'\n",
    "df['DistanceTo' + CityNameDistance] = [Fcn_BasicStatisticalAnalysisOfPopulation.DistanceCoordToKm(float(df.loc[df['City name'] == CityNameDistance]['Latitude']),float(df.loc[df['City name'] == CityNameDistance]['Longitude']),df['Latitude'][x],df['Longitude'][x]) for x in range(0,NumberOfCity)]\n",
    "df.head()"
   ]
  },
  {
   "cell_type": "markdown",
   "metadata": {},
   "source": [
    "### 3.5.2. Scatter plot - Population density vs distance to most populated city"
   ]
  },
  {
   "cell_type": "code",
   "execution_count": 134,
   "metadata": {
    "collapsed": true
   },
   "outputs": [],
   "source": [
    "# Get only up to a defined distance, i.e. 30km\n",
    "MaximumDistanceToCity = 30 # km - Maximum distance to be consider from the 'CityNameDistance'"
   ]
  },
  {
   "cell_type": "code",
   "execution_count": 135,
   "metadata": {},
   "outputs": [
    {
     "data": {
      "text/html": [
       "\n",
       "\n",
       "\n",
       "\n",
       "\n",
       "\n",
       "  <div class=\"bk-root\" id=\"51451cdc-7c53-4d6e-bbd0-bc9e883b88ee\"></div>\n"
      ]
     },
     "metadata": {},
     "output_type": "display_data"
    },
    {
     "data": {
      "application/javascript": [
       "(function(root) {\n",
       "  function embed_document(root) {\n",
       "    \n",
       "  var docs_json = {\"c55bb17a-0d20-4872-af37-07ef2eb9181d\":{\"roots\":{\"references\":[{\"attributes\":{},\"id\":\"e5efaff0-e731-463d-a9c9-b0262fc0e252\",\"type\":\"BasicTicker\"},{\"attributes\":{},\"id\":\"6cc8931c-3ec4-46db-86da-dc58dd00e8d1\",\"type\":\"SaveTool\"},{\"attributes\":{},\"id\":\"661d6410-1821-41eb-95c9-6e5b863074d1\",\"type\":\"LinearScale\"},{\"attributes\":{\"axis_label\":\"Population density\",\"axis_label_text_font\":\"verdana\",\"axis_label_text_font_style\":\"normal\",\"formatter\":{\"id\":\"e5d3bf07-1653-46b9-905f-a3d8e26040ac\",\"type\":\"BasicTickFormatter\"},\"major_label_text_font\":\"verdana\",\"plot\":{\"id\":\"ae0ce605-820c-4ff1-b559-6e7550126edd\",\"subtype\":\"Figure\",\"type\":\"Plot\"},\"ticker\":{\"id\":\"e5efaff0-e731-463d-a9c9-b0262fc0e252\",\"type\":\"BasicTicker\"}},\"id\":\"bab97a18-541d-4cbd-a27c-7469d1284eb7\",\"type\":\"LinearAxis\"},{\"attributes\":{\"overlay\":{\"id\":\"d91a01d2-7d64-4b17-8216-3b2358e97232\",\"type\":\"BoxAnnotation\"}},\"id\":\"4ada8d39-aa15-4b6b-bcc4-de924a48866c\",\"type\":\"BoxZoomTool\"},{\"attributes\":{\"fill_color\":{\"value\":\"#0276FD\"},\"line_color\":{\"value\":\"#0276FD\"},\"x\":{\"field\":\"x\"},\"y\":{\"field\":\"y\"}},\"id\":\"275c3130-bcf3-45fb-bf5a-6a241f14c2a1\",\"type\":\"Circle\"},{\"attributes\":{},\"id\":\"65324ab0-8619-412a-8d87-bcf3b70ebc0e\",\"type\":\"PanTool\"},{\"attributes\":{\"plot\":{\"id\":\"ae0ce605-820c-4ff1-b559-6e7550126edd\",\"subtype\":\"Figure\",\"type\":\"Plot\"},\"ticker\":{\"id\":\"ceb453e0-d94d-482d-88f7-606e7c94a5a8\",\"type\":\"BasicTicker\"}},\"id\":\"ffb0282d-8504-490f-965b-45a9c73d922e\",\"type\":\"Grid\"},{\"attributes\":{},\"id\":\"33d0d080-9ed5-4e46-9799-1b4bdd08dac3\",\"type\":\"LinearScale\"},{\"attributes\":{\"active_drag\":\"auto\",\"active_inspect\":\"auto\",\"active_multi\":null,\"active_scroll\":\"auto\",\"active_tap\":\"auto\",\"tools\":[{\"id\":\"65324ab0-8619-412a-8d87-bcf3b70ebc0e\",\"type\":\"PanTool\"},{\"id\":\"defa023a-bcbe-451b-927a-94e1e482e446\",\"type\":\"WheelZoomTool\"},{\"id\":\"4ada8d39-aa15-4b6b-bcc4-de924a48866c\",\"type\":\"BoxZoomTool\"},{\"id\":\"6cc8931c-3ec4-46db-86da-dc58dd00e8d1\",\"type\":\"SaveTool\"},{\"id\":\"ae4504bf-cba3-4a29-9105-3e854a9a966a\",\"type\":\"ResetTool\"},{\"id\":\"5e500410-3d1d-4e2a-a6c6-36f8b1bc29b0\",\"type\":\"HelpTool\"}]},\"id\":\"81816cd2-16c3-49eb-984b-f07c8556e879\",\"type\":\"Toolbar\"},{\"attributes\":{\"fill_alpha\":{\"value\":0.1},\"fill_color\":{\"value\":\"#1f77b4\"},\"line_alpha\":{\"value\":0.1},\"line_color\":{\"value\":\"#1f77b4\"},\"x\":{\"field\":\"x\"},\"y\":{\"field\":\"y\"}},\"id\":\"3183d34b-9718-4a8f-9d5b-c6d66ec63636\",\"type\":\"Circle\"},{\"attributes\":{},\"id\":\"5e500410-3d1d-4e2a-a6c6-36f8b1bc29b0\",\"type\":\"HelpTool\"},{\"attributes\":{},\"id\":\"defa023a-bcbe-451b-927a-94e1e482e446\",\"type\":\"WheelZoomTool\"},{\"attributes\":{\"below\":[{\"id\":\"ba15896c-8130-4f6c-beeb-9606dbdc14c4\",\"type\":\"LinearAxis\"}],\"left\":[{\"id\":\"bab97a18-541d-4cbd-a27c-7469d1284eb7\",\"type\":\"LinearAxis\"}],\"plot_height\":300,\"renderers\":[{\"id\":\"ba15896c-8130-4f6c-beeb-9606dbdc14c4\",\"type\":\"LinearAxis\"},{\"id\":\"ffb0282d-8504-490f-965b-45a9c73d922e\",\"type\":\"Grid\"},{\"id\":\"bab97a18-541d-4cbd-a27c-7469d1284eb7\",\"type\":\"LinearAxis\"},{\"id\":\"bd19427d-6085-4fb8-8adc-a1a1c214d64b\",\"type\":\"Grid\"},{\"id\":\"d91a01d2-7d64-4b17-8216-3b2358e97232\",\"type\":\"BoxAnnotation\"},{\"id\":\"83c5f409-daca-469b-85af-6286e3e7814d\",\"type\":\"GlyphRenderer\"}],\"title\":{\"id\":\"dbe286a3-6f44-4317-862d-5a46a3335079\",\"type\":\"Title\"},\"toolbar\":{\"id\":\"81816cd2-16c3-49eb-984b-f07c8556e879\",\"type\":\"Toolbar\"},\"x_range\":{\"id\":\"108427fa-17f8-42e4-9dde-3d582560af6a\",\"type\":\"DataRange1d\"},\"x_scale\":{\"id\":\"33d0d080-9ed5-4e46-9799-1b4bdd08dac3\",\"type\":\"LinearScale\"},\"y_range\":{\"id\":\"273d3e5a-b853-4b87-a7dc-44659e219499\",\"type\":\"DataRange1d\"},\"y_scale\":{\"id\":\"661d6410-1821-41eb-95c9-6e5b863074d1\",\"type\":\"LinearScale\"}},\"id\":\"ae0ce605-820c-4ff1-b559-6e7550126edd\",\"subtype\":\"Figure\",\"type\":\"Plot\"},{\"attributes\":{},\"id\":\"ae4504bf-cba3-4a29-9105-3e854a9a966a\",\"type\":\"ResetTool\"},{\"attributes\":{},\"id\":\"ceb453e0-d94d-482d-88f7-606e7c94a5a8\",\"type\":\"BasicTicker\"},{\"attributes\":{\"callback\":null},\"id\":\"273d3e5a-b853-4b87-a7dc-44659e219499\",\"type\":\"DataRange1d\"},{\"attributes\":{},\"id\":\"6e23c781-d8c5-4029-bc99-f06aeac94ecd\",\"type\":\"UnionRenderers\"},{\"attributes\":{\"dimension\":1,\"plot\":{\"id\":\"ae0ce605-820c-4ff1-b559-6e7550126edd\",\"subtype\":\"Figure\",\"type\":\"Plot\"},\"ticker\":{\"id\":\"e5efaff0-e731-463d-a9c9-b0262fc0e252\",\"type\":\"BasicTicker\"}},\"id\":\"bd19427d-6085-4fb8-8adc-a1a1c214d64b\",\"type\":\"Grid\"},{\"attributes\":{},\"id\":\"336e2f80-2ad3-4123-9c74-fa9f53f9d733\",\"type\":\"Selection\"},{\"attributes\":{},\"id\":\"e5d3bf07-1653-46b9-905f-a3d8e26040ac\",\"type\":\"BasicTickFormatter\"},{\"attributes\":{\"source\":{\"id\":\"9aeab664-d1f2-421b-9b2c-33c8a0696483\",\"type\":\"ColumnDataSource\"}},\"id\":\"0cd5226f-162d-4b6d-b9e2-ffc5184decdc\",\"type\":\"CDSView\"},{\"attributes\":{\"callback\":null,\"data\":{\"x\":{\"__ndarray__\":\"iH7mm7s5KUBYG4+aduYyQN73yWQs4jVA65qTd/1KNUAu2mfyWdc9QDGs9j0UPzZAxlX0IjaUO0ACyQbkOWQ2QOHqDlwYVDxAApBm48HxNUCzUM7YfH8gQA8P4ynhtzlANpp7Xn4TPEDv6KJyVRQ0QJi39FKFai1AtppLx87YNEBzemPffa06QLkw4ZAIPjBAN+D/9FrxLEDrIEq7SUExQA2fOsEoMjRAyWMXvTV1NEDqH4stnR4lQBdLkpXf+DhAyTWo2HC4GkAB+w9UNkg8QJPtSzF00ThAeviQft60MUASu/VN8FwYQJrF+Sk2VzpAXfvH+zMLNkCz1nLKFbUgQJ5650D/AjpAHxfn66kOKkAxaVTVx9keQB/Ir2pwYDBANjZIMmhfMEBXFVYwWEAbQE03msGXtzRAPC+B3qfzI0BZ6cJ0hMUqQN4y/Bj4Ty5AnLmmtNnpLUBPc1Wjg5Y7QA8W4dDOXDBAnXIyPYP4O0Ac7i7Ktz00QE4c51X4ZDpAyd7/YiA8JkBGrzVQWSQ4QMb1yLiy1zNAt1qEwFvBOUDVaqhPso04QESrEuzX3jVASR/iuZQqLEBj3I6W4A02QGr7T69BuDBAYJlq5w7lMkAHSZ+dfYE3QMgmS5xGADRAWENnOrt7JEBsR1P6TzA6QB/OT/8bpzhAlKxNjEEOOUCB5lASQco2QEEeMnzFhDBA9qkg96jFPUD6gJNcu8E8QCNlZWOswjJATUD10Xm7MkDFvhY92Po0QKUjj5DnWjJAtFyScUW8O0CzZXEvoyE9QAvbim1HajpAJboMQhGsOEBxZyiileA8QCq+Gu0whShAutp849oNKUAr/Wq9xvE7QJdB1JglGTpAnZDCOfD8H0BIlu8MZaA9QGbj5O1ORDdAAUu3weTjNEDZvQ/Y/d4WQLNcJi1QLS5APDb7evDRNUASAKvEHYcoQNcv6NUo6CpADEIqOHggOkBEfLnw67U2QDeNwjXAVylA+RY019QJKkAQUXTIFBgsQEsxEkHFoSFAVAj/N8dfOUDJpjln1vwrQHX48Mry+zRAvCIYqrkoNkD+rqKiw646QL3LuRuWeDFACaG94hI6N0Bf1vHo+Vk9QJtjRWmGjDNAwmQXDwFLKkD6/lUkekIxQPPZ3m2TuTxAooaI4k45OUCAY180+aw4QGw2fK8Ncz1Ay57IgMQUOEDdsudYG8wkQALxu83szi9AifzAnNj1KkBeIJ1fLpk0QOEmZS+YqT1AAyTOcJVEFUDkS2QvjPMUQL2Xm6rMnj1A/tXOAya3OUAfYDhFDNA8QGNdaxBHiTFAARfZi+g9PUDebAnVuy89QHgeONWlGDdArAhEQl+2K0CjRGMLANs0QLqqPXlS9zRASmFPApIoO0Dfxa8J6N42QMb7Jt7cWjhAfU9EMKQRPEDwB0YZLVUwQAFOEG/+SDJAqnBqb8bRPECqN66PM6wgQD1CdllE/TlAIVqxHW8GOkBTz1frYAs8QDKT5JLfYz1AaDfBey+BMkCvgMU+QMggQAqGHuc6CxZAOG8bKA7TPED4JhwvJjgxQEjAkUdFfyVA\",\"dtype\":\"float64\",\"shape\":[147]},\"y\":{\"__ndarray__\":\"swHZgGwAakCxutIOpZxPQENzO5VHh1BAvTK239Fra0A2yKF3i2tcQMJuSc2qvVRAHW3ep7hkUECGLGQhC9NhQJIkSZIkJZRAHEX54QOlWUBwtTE03cF4QMG/atwL/ElANAgGG1CkTUCxVYKkgqZUQLSiDJF2lW9AzZLRkZ41YUCv8psu3lxEQKXNdpb9R2RA84RawJi0cUA2quhZ6fxsQIMUuuJA9E5AMevgvCEpbEBJM7iXK5aBQGYBLGoQhVJAi2HZSmxQgEAndmInduJGQKTkWUb0AU1AU1npUvLfWEDXLlm7ZC2LQNVnCKRXfVBAfo8lobscVUC6lyl1WLWAQDxTFHZMQlZApKxUx0tKb0CFn1yIujmHQNLjTQnfU2NAn/1p1Kw+eECJndiJnfhvQLJb+96qY1NAJlbxB3FNckCKndiJnYhnQFlPYT2F9W9AGPQFfUHfZEBu6sDOdL1SQIHVO3kEWGFAhNMPTj84RUCIh4eHhwdzQOhzDHwiMD9AKwlKac6GY0AMZFK8QOZTQNX6lQK1nltAGh+ZQO/UR0Do759qnL1GQGqMK6EkTktACzUngbjQZUDHqCVwht1ZQNeTGqDajltAUZgnu8p/Z0DKbz6rHB5RQNfnD75gsVBAtPkqRJhHgkCx5BdLfrFNQCi+e+K7J05AJYe4yhTwVkDorfyRvrdoQHRyeN9cUmNAtcO+FU57YEApLh67IdFQQKU6XlJWql1Apza1qU3tVEAKmA9kFxZjQGtz3DGI6lpARMsE0TJBT0CxlPb7a3dUQPzHYbGfo1tAFe/kB3MeWEAlmEu7qLdBQJegSj9zumZADn5FRvcncUB2Xdd1XRdQQGgMRwsSUEtAFQXxl2jteUBbeZe10/FcQIMcMAFiFVNAk6cZDUjMfEBC640MxZuFQAtZyEIWMmpAbqfYAicPYkC2Q9LCyLJtQMRm8BaxGWJAuuiiiy66RkC3bdu2bfteQCPeJg97NmJAe+LTFKlhZkDOQuwih2luQC8IuyDssnNAQXZhMRJKTUD0PsUlQ1BzQBpso9eMx1hA8xfIfj8wUECu9rkvdo9SQBHr8LMY4mNAgaAZvRcIXkCRl37iUpFSQNangtWnQmBAtIzoA6pjbUDNPlDYMBBiQCZtSVvSNlZAPcX4mgxMYEAU3a8clDFFQP1njqqZcERA5oBRtU/SYECMu7iLu3huQEbM+Fx+CWxAUmDb67SWaEC5g2bzaXldQOKs/IQ4q0JAsShCTJsPgECRUlHc5daNQGikYm51Rk5A0D3TpIi3WUARkyuIyRVMQK/ZWOAcPFJA5GOlDctcRECd4nAeUL9UQGnzPsUlQ1hAX0J7Ce0lakAUkPCTC5FTQEgAyknyOlxA/Wbr0G92UkCVXhi/yMBQQBaRKisoN11A1MRvEKiJVECt/K38rbxsQHlyQVoccFxA4nUByzlhUUBLqkNs4NOBQBnWvw1992FAaPMR1s7IUEDWJQxSWDtIQNhQXkN57UtAQmZTrbHraUBZehEnKvd4QMrwqHrDXINAPOqFadUhSkC5XlDA8HZfQFYxU49J1HtA\",\"dtype\":\"float64\",\"shape\":[147]}},\"selected\":{\"id\":\"336e2f80-2ad3-4123-9c74-fa9f53f9d733\",\"type\":\"Selection\"},\"selection_policy\":{\"id\":\"6e23c781-d8c5-4029-bc99-f06aeac94ecd\",\"type\":\"UnionRenderers\"}},\"id\":\"9aeab664-d1f2-421b-9b2c-33c8a0696483\",\"type\":\"ColumnDataSource\"},{\"attributes\":{\"callback\":null},\"id\":\"108427fa-17f8-42e4-9dde-3d582560af6a\",\"type\":\"DataRange1d\"},{\"attributes\":{\"data_source\":{\"id\":\"9aeab664-d1f2-421b-9b2c-33c8a0696483\",\"type\":\"ColumnDataSource\"},\"glyph\":{\"id\":\"275c3130-bcf3-45fb-bf5a-6a241f14c2a1\",\"type\":\"Circle\"},\"hover_glyph\":null,\"muted_glyph\":null,\"nonselection_glyph\":{\"id\":\"3183d34b-9718-4a8f-9d5b-c6d66ec63636\",\"type\":\"Circle\"},\"selection_glyph\":null,\"view\":{\"id\":\"0cd5226f-162d-4b6d-b9e2-ffc5184decdc\",\"type\":\"CDSView\"}},\"id\":\"83c5f409-daca-469b-85af-6286e3e7814d\",\"type\":\"GlyphRenderer\"},{\"attributes\":{},\"id\":\"235153a0-f34f-4a46-9bb1-1f2ad0343b0c\",\"type\":\"BasicTickFormatter\"},{\"attributes\":{\"axis_label\":\"Distance to the most populated city [km]\",\"axis_label_text_font\":\"verdana\",\"axis_label_text_font_style\":\"normal\",\"formatter\":{\"id\":\"235153a0-f34f-4a46-9bb1-1f2ad0343b0c\",\"type\":\"BasicTickFormatter\"},\"major_label_text_font\":\"verdana\",\"plot\":{\"id\":\"ae0ce605-820c-4ff1-b559-6e7550126edd\",\"subtype\":\"Figure\",\"type\":\"Plot\"},\"ticker\":{\"id\":\"ceb453e0-d94d-482d-88f7-606e7c94a5a8\",\"type\":\"BasicTicker\"}},\"id\":\"ba15896c-8130-4f6c-beeb-9606dbdc14c4\",\"type\":\"LinearAxis\"},{\"attributes\":{\"bottom_units\":\"screen\",\"fill_alpha\":{\"value\":0.5},\"fill_color\":{\"value\":\"lightgrey\"},\"left_units\":\"screen\",\"level\":\"overlay\",\"line_alpha\":{\"value\":1.0},\"line_color\":{\"value\":\"black\"},\"line_dash\":[4,4],\"line_width\":{\"value\":2},\"plot\":null,\"render_mode\":\"css\",\"right_units\":\"screen\",\"top_units\":\"screen\"},\"id\":\"d91a01d2-7d64-4b17-8216-3b2358e97232\",\"type\":\"BoxAnnotation\"},{\"attributes\":{\"plot\":null,\"text\":\"City density population vs distance to most populated city\",\"text_color\":{\"value\":\"#0276FD\"},\"text_font\":\"verdana\",\"text_font_size\":{\"value\":\"12pt\"}},\"id\":\"dbe286a3-6f44-4317-862d-5a46a3335079\",\"type\":\"Title\"}],\"root_ids\":[\"ae0ce605-820c-4ff1-b559-6e7550126edd\"]},\"title\":\"Bokeh Application\",\"version\":\"0.13.0\"}};\n",
       "  var render_items = [{\"docid\":\"c55bb17a-0d20-4872-af37-07ef2eb9181d\",\"roots\":{\"ae0ce605-820c-4ff1-b559-6e7550126edd\":\"51451cdc-7c53-4d6e-bbd0-bc9e883b88ee\"}}];\n",
       "  root.Bokeh.embed.embed_items_notebook(docs_json, render_items);\n",
       "\n",
       "  }\n",
       "  if (root.Bokeh !== undefined) {\n",
       "    embed_document(root);\n",
       "  } else {\n",
       "    var attempts = 0;\n",
       "    var timer = setInterval(function(root) {\n",
       "      if (root.Bokeh !== undefined) {\n",
       "        embed_document(root);\n",
       "        clearInterval(timer);\n",
       "      }\n",
       "      attempts++;\n",
       "      if (attempts > 100) {\n",
       "        console.log(\"Bokeh: ERROR: Unable to run BokehJS code because BokehJS library is missing\")\n",
       "        clearInterval(timer);\n",
       "      }\n",
       "    }, 10, root)\n",
       "  }\n",
       "})(window);"
      ],
      "application/vnd.bokehjs_exec.v0+json": ""
     },
     "metadata": {
      "application/vnd.bokehjs_exec.v0+json": {
       "id": "ae0ce605-820c-4ff1-b559-6e7550126edd"
      }
     },
     "output_type": "display_data"
    }
   ],
   "source": [
    "p = figure(plot_height=300, title=\"City density population vs distance to most populated city\",\n",
    "           x_axis_label='Distance to the most populated city [km]', y_axis_label='Population density')\n",
    "p.circle(df[(df['DistanceToRennes']<=MaximumDistanceToCity) & (df['DistanceToRennes']>0)]['DistanceTo' + CityNameDistance],df[(df['DistanceToRennes']<=MaximumDistanceToCity) & (df['DistanceToRennes']>0)]['Density'],\n",
    "        color=\"#0276FD\")\n",
    "\n",
    "p.title.text_font_size = '12pt'\n",
    "p.title.text_color = \"#0276FD\"\n",
    "p.title.text_font = \"verdana\"\n",
    "p.yaxis.axis_label_text_font = \"verdana\"\n",
    "p.yaxis.axis_label_text_font_style = \"normal\"\n",
    "p.xaxis.axis_label_text_font = \"verdana\"\n",
    "p.xaxis.axis_label_text_font_style = \"normal\"\n",
    "p.xaxis.major_label_text_font = \"verdana\"\n",
    "p.yaxis.major_label_text_font = \"verdana\"\n",
    "\n",
    "show(p)"
   ]
  },
  {
   "cell_type": "code",
   "execution_count": null,
   "metadata": {
    "collapsed": true
   },
   "outputs": [],
   "source": []
  }
 ],
 "metadata": {
  "kernelspec": {
   "display_name": "Python 2",
   "language": "python",
   "name": "python2"
  },
  "language_info": {
   "codemirror_mode": {
    "name": "ipython",
    "version": 2
   },
   "file_extension": ".py",
   "mimetype": "text/x-python",
   "name": "python",
   "nbconvert_exporter": "python",
   "pygments_lexer": "ipython2",
   "version": "2.7.14"
  }
 },
 "nbformat": 4,
 "nbformat_minor": 2
}
