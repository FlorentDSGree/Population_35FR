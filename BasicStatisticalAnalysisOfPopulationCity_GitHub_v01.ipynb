{
 "cells": [
  {
   "cell_type": "markdown",
   "metadata": {
    "collapsed": true
   },
   "source": [
    "Created 04/02/2019\n",
    "\n",
    "Last update 04/02/2019\n",
    "\n",
    "Code that analyse the population of Ille-et-Vilaine"
   ]
  },
  {
   "cell_type": "markdown",
   "metadata": {},
   "source": [
    "# 1. Import library"
   ]
  },
  {
   "cell_type": "code",
   "execution_count": 1,
   "metadata": {},
   "outputs": [
    {
     "data": {
      "text/html": [
       "\n",
       "    <div class=\"bk-root\">\n",
       "        <a href=\"https://bokeh.pydata.org\" target=\"_blank\" class=\"bk-logo bk-logo-small bk-logo-notebook\"></a>\n",
       "        <span id=\"8573b111-d714-4b32-a2dc-a4fcbeeede38\">Loading BokehJS ...</span>\n",
       "    </div>"
      ]
     },
     "metadata": {},
     "output_type": "display_data"
    },
    {
     "data": {
      "application/javascript": [
       "\n",
       "(function(root) {\n",
       "  function now() {\n",
       "    return new Date();\n",
       "  }\n",
       "\n",
       "  var force = true;\n",
       "\n",
       "  if (typeof (root._bokeh_onload_callbacks) === \"undefined\" || force === true) {\n",
       "    root._bokeh_onload_callbacks = [];\n",
       "    root._bokeh_is_loading = undefined;\n",
       "  }\n",
       "\n",
       "  var JS_MIME_TYPE = 'application/javascript';\n",
       "  var HTML_MIME_TYPE = 'text/html';\n",
       "  var EXEC_MIME_TYPE = 'application/vnd.bokehjs_exec.v0+json';\n",
       "  var CLASS_NAME = 'output_bokeh rendered_html';\n",
       "\n",
       "  /**\n",
       "   * Render data to the DOM node\n",
       "   */\n",
       "  function render(props, node) {\n",
       "    var script = document.createElement(\"script\");\n",
       "    node.appendChild(script);\n",
       "  }\n",
       "\n",
       "  /**\n",
       "   * Handle when an output is cleared or removed\n",
       "   */\n",
       "  function handleClearOutput(event, handle) {\n",
       "    var cell = handle.cell;\n",
       "\n",
       "    var id = cell.output_area._bokeh_element_id;\n",
       "    var server_id = cell.output_area._bokeh_server_id;\n",
       "    // Clean up Bokeh references\n",
       "    if (id !== undefined) {\n",
       "      Bokeh.index[id].model.document.clear();\n",
       "      delete Bokeh.index[id];\n",
       "    }\n",
       "\n",
       "    if (server_id !== undefined) {\n",
       "      // Clean up Bokeh references\n",
       "      var cmd = \"from bokeh.io.state import curstate; print(curstate().uuid_to_server['\" + server_id + \"'].get_sessions()[0].document.roots[0]._id)\";\n",
       "      cell.notebook.kernel.execute(cmd, {\n",
       "        iopub: {\n",
       "          output: function(msg) {\n",
       "            var element_id = msg.content.text.trim();\n",
       "            Bokeh.index[element_id].model.document.clear();\n",
       "            delete Bokeh.index[element_id];\n",
       "          }\n",
       "        }\n",
       "      });\n",
       "      // Destroy server and session\n",
       "      var cmd = \"import bokeh.io.notebook as ion; ion.destroy_server('\" + server_id + \"')\";\n",
       "      cell.notebook.kernel.execute(cmd);\n",
       "    }\n",
       "  }\n",
       "\n",
       "  /**\n",
       "   * Handle when a new output is added\n",
       "   */\n",
       "  function handleAddOutput(event, handle) {\n",
       "    var output_area = handle.output_area;\n",
       "    var output = handle.output;\n",
       "\n",
       "    // limit handleAddOutput to display_data with EXEC_MIME_TYPE content only\n",
       "    if ((output.output_type != \"display_data\") || (!output.data.hasOwnProperty(EXEC_MIME_TYPE))) {\n",
       "      return\n",
       "    }\n",
       "\n",
       "    var toinsert = output_area.element.find(\".\" + CLASS_NAME.split(' ')[0]);\n",
       "\n",
       "    if (output.metadata[EXEC_MIME_TYPE][\"id\"] !== undefined) {\n",
       "      toinsert[toinsert.length - 1].firstChild.textContent = output.data[JS_MIME_TYPE];\n",
       "      // store reference to embed id on output_area\n",
       "      output_area._bokeh_element_id = output.metadata[EXEC_MIME_TYPE][\"id\"];\n",
       "    }\n",
       "    if (output.metadata[EXEC_MIME_TYPE][\"server_id\"] !== undefined) {\n",
       "      var bk_div = document.createElement(\"div\");\n",
       "      bk_div.innerHTML = output.data[HTML_MIME_TYPE];\n",
       "      var script_attrs = bk_div.children[0].attributes;\n",
       "      for (var i = 0; i < script_attrs.length; i++) {\n",
       "        toinsert[toinsert.length - 1].firstChild.setAttribute(script_attrs[i].name, script_attrs[i].value);\n",
       "      }\n",
       "      // store reference to server id on output_area\n",
       "      output_area._bokeh_server_id = output.metadata[EXEC_MIME_TYPE][\"server_id\"];\n",
       "    }\n",
       "  }\n",
       "\n",
       "  function register_renderer(events, OutputArea) {\n",
       "\n",
       "    function append_mime(data, metadata, element) {\n",
       "      // create a DOM node to render to\n",
       "      var toinsert = this.create_output_subarea(\n",
       "        metadata,\n",
       "        CLASS_NAME,\n",
       "        EXEC_MIME_TYPE\n",
       "      );\n",
       "      this.keyboard_manager.register_events(toinsert);\n",
       "      // Render to node\n",
       "      var props = {data: data, metadata: metadata[EXEC_MIME_TYPE]};\n",
       "      render(props, toinsert[toinsert.length - 1]);\n",
       "      element.append(toinsert);\n",
       "      return toinsert\n",
       "    }\n",
       "\n",
       "    /* Handle when an output is cleared or removed */\n",
       "    events.on('clear_output.CodeCell', handleClearOutput);\n",
       "    events.on('delete.Cell', handleClearOutput);\n",
       "\n",
       "    /* Handle when a new output is added */\n",
       "    events.on('output_added.OutputArea', handleAddOutput);\n",
       "\n",
       "    /**\n",
       "     * Register the mime type and append_mime function with output_area\n",
       "     */\n",
       "    OutputArea.prototype.register_mime_type(EXEC_MIME_TYPE, append_mime, {\n",
       "      /* Is output safe? */\n",
       "      safe: true,\n",
       "      /* Index of renderer in `output_area.display_order` */\n",
       "      index: 0\n",
       "    });\n",
       "  }\n",
       "\n",
       "  // register the mime type if in Jupyter Notebook environment and previously unregistered\n",
       "  if (root.Jupyter !== undefined) {\n",
       "    var events = require('base/js/events');\n",
       "    var OutputArea = require('notebook/js/outputarea').OutputArea;\n",
       "\n",
       "    if (OutputArea.prototype.mime_types().indexOf(EXEC_MIME_TYPE) == -1) {\n",
       "      register_renderer(events, OutputArea);\n",
       "    }\n",
       "  }\n",
       "\n",
       "  \n",
       "  if (typeof (root._bokeh_timeout) === \"undefined\" || force === true) {\n",
       "    root._bokeh_timeout = Date.now() + 5000;\n",
       "    root._bokeh_failed_load = false;\n",
       "  }\n",
       "\n",
       "  var NB_LOAD_WARNING = {'data': {'text/html':\n",
       "     \"<div style='background-color: #fdd'>\\n\"+\n",
       "     \"<p>\\n\"+\n",
       "     \"BokehJS does not appear to have successfully loaded. If loading BokehJS from CDN, this \\n\"+\n",
       "     \"may be due to a slow or bad network connection. Possible fixes:\\n\"+\n",
       "     \"</p>\\n\"+\n",
       "     \"<ul>\\n\"+\n",
       "     \"<li>re-rerun `output_notebook()` to attempt to load from CDN again, or</li>\\n\"+\n",
       "     \"<li>use INLINE resources instead, as so:</li>\\n\"+\n",
       "     \"</ul>\\n\"+\n",
       "     \"<code>\\n\"+\n",
       "     \"from bokeh.resources import INLINE\\n\"+\n",
       "     \"output_notebook(resources=INLINE)\\n\"+\n",
       "     \"</code>\\n\"+\n",
       "     \"</div>\"}};\n",
       "\n",
       "  function display_loaded() {\n",
       "    var el = document.getElementById(\"8573b111-d714-4b32-a2dc-a4fcbeeede38\");\n",
       "    if (el != null) {\n",
       "      el.textContent = \"BokehJS is loading...\";\n",
       "    }\n",
       "    if (root.Bokeh !== undefined) {\n",
       "      if (el != null) {\n",
       "        el.textContent = \"BokehJS \" + root.Bokeh.version + \" successfully loaded.\";\n",
       "      }\n",
       "    } else if (Date.now() < root._bokeh_timeout) {\n",
       "      setTimeout(display_loaded, 100)\n",
       "    }\n",
       "  }\n",
       "\n",
       "\n",
       "  function run_callbacks() {\n",
       "    try {\n",
       "      root._bokeh_onload_callbacks.forEach(function(callback) { callback() });\n",
       "    }\n",
       "    finally {\n",
       "      delete root._bokeh_onload_callbacks\n",
       "    }\n",
       "    console.info(\"Bokeh: all callbacks have finished\");\n",
       "  }\n",
       "\n",
       "  function load_libs(js_urls, callback) {\n",
       "    root._bokeh_onload_callbacks.push(callback);\n",
       "    if (root._bokeh_is_loading > 0) {\n",
       "      console.log(\"Bokeh: BokehJS is being loaded, scheduling callback at\", now());\n",
       "      return null;\n",
       "    }\n",
       "    if (js_urls == null || js_urls.length === 0) {\n",
       "      run_callbacks();\n",
       "      return null;\n",
       "    }\n",
       "    console.log(\"Bokeh: BokehJS not loaded, scheduling load and callback at\", now());\n",
       "    root._bokeh_is_loading = js_urls.length;\n",
       "    for (var i = 0; i < js_urls.length; i++) {\n",
       "      var url = js_urls[i];\n",
       "      var s = document.createElement('script');\n",
       "      s.src = url;\n",
       "      s.async = false;\n",
       "      s.onreadystatechange = s.onload = function() {\n",
       "        root._bokeh_is_loading--;\n",
       "        if (root._bokeh_is_loading === 0) {\n",
       "          console.log(\"Bokeh: all BokehJS libraries loaded\");\n",
       "          run_callbacks()\n",
       "        }\n",
       "      };\n",
       "      s.onerror = function() {\n",
       "        console.warn(\"failed to load library \" + url);\n",
       "      };\n",
       "      console.log(\"Bokeh: injecting script tag for BokehJS library: \", url);\n",
       "      document.getElementsByTagName(\"head\")[0].appendChild(s);\n",
       "    }\n",
       "  };var element = document.getElementById(\"8573b111-d714-4b32-a2dc-a4fcbeeede38\");\n",
       "  if (element == null) {\n",
       "    console.log(\"Bokeh: ERROR: autoload.js configured with elementid '8573b111-d714-4b32-a2dc-a4fcbeeede38' but no matching script tag was found. \")\n",
       "    return false;\n",
       "  }\n",
       "\n",
       "  var js_urls = [\"https://cdn.pydata.org/bokeh/release/bokeh-0.12.16.min.js\", \"https://cdn.pydata.org/bokeh/release/bokeh-widgets-0.12.16.min.js\", \"https://cdn.pydata.org/bokeh/release/bokeh-tables-0.12.16.min.js\", \"https://cdn.pydata.org/bokeh/release/bokeh-gl-0.12.16.min.js\"];\n",
       "\n",
       "  var inline_js = [\n",
       "    function(Bokeh) {\n",
       "      Bokeh.set_log_level(\"info\");\n",
       "    },\n",
       "    \n",
       "    function(Bokeh) {\n",
       "      \n",
       "    },\n",
       "    function(Bokeh) {\n",
       "      console.log(\"Bokeh: injecting CSS: https://cdn.pydata.org/bokeh/release/bokeh-0.12.16.min.css\");\n",
       "      Bokeh.embed.inject_css(\"https://cdn.pydata.org/bokeh/release/bokeh-0.12.16.min.css\");\n",
       "      console.log(\"Bokeh: injecting CSS: https://cdn.pydata.org/bokeh/release/bokeh-widgets-0.12.16.min.css\");\n",
       "      Bokeh.embed.inject_css(\"https://cdn.pydata.org/bokeh/release/bokeh-widgets-0.12.16.min.css\");\n",
       "      console.log(\"Bokeh: injecting CSS: https://cdn.pydata.org/bokeh/release/bokeh-tables-0.12.16.min.css\");\n",
       "      Bokeh.embed.inject_css(\"https://cdn.pydata.org/bokeh/release/bokeh-tables-0.12.16.min.css\");\n",
       "    }\n",
       "  ];\n",
       "\n",
       "  function run_inline_js() {\n",
       "    \n",
       "    if ((root.Bokeh !== undefined) || (force === true)) {\n",
       "      for (var i = 0; i < inline_js.length; i++) {\n",
       "        inline_js[i].call(root, root.Bokeh);\n",
       "      }if (force === true) {\n",
       "        display_loaded();\n",
       "      }} else if (Date.now() < root._bokeh_timeout) {\n",
       "      setTimeout(run_inline_js, 100);\n",
       "    } else if (!root._bokeh_failed_load) {\n",
       "      console.log(\"Bokeh: BokehJS failed to load within specified timeout.\");\n",
       "      root._bokeh_failed_load = true;\n",
       "    } else if (force !== true) {\n",
       "      var cell = $(document.getElementById(\"8573b111-d714-4b32-a2dc-a4fcbeeede38\")).parents('.cell').data().cell;\n",
       "      cell.output_area.append_execute_result(NB_LOAD_WARNING)\n",
       "    }\n",
       "\n",
       "  }\n",
       "\n",
       "  if (root._bokeh_is_loading === 0) {\n",
       "    console.log(\"Bokeh: BokehJS loaded, going straight to plotting\");\n",
       "    run_inline_js();\n",
       "  } else {\n",
       "    load_libs(js_urls, function() {\n",
       "      console.log(\"Bokeh: BokehJS plotting callback run at\", now());\n",
       "      run_inline_js();\n",
       "    });\n",
       "  }\n",
       "}(window));"
      ],
      "application/vnd.bokehjs_load.v0+json": "\n(function(root) {\n  function now() {\n    return new Date();\n  }\n\n  var force = true;\n\n  if (typeof (root._bokeh_onload_callbacks) === \"undefined\" || force === true) {\n    root._bokeh_onload_callbacks = [];\n    root._bokeh_is_loading = undefined;\n  }\n\n  \n\n  \n  if (typeof (root._bokeh_timeout) === \"undefined\" || force === true) {\n    root._bokeh_timeout = Date.now() + 5000;\n    root._bokeh_failed_load = false;\n  }\n\n  var NB_LOAD_WARNING = {'data': {'text/html':\n     \"<div style='background-color: #fdd'>\\n\"+\n     \"<p>\\n\"+\n     \"BokehJS does not appear to have successfully loaded. If loading BokehJS from CDN, this \\n\"+\n     \"may be due to a slow or bad network connection. Possible fixes:\\n\"+\n     \"</p>\\n\"+\n     \"<ul>\\n\"+\n     \"<li>re-rerun `output_notebook()` to attempt to load from CDN again, or</li>\\n\"+\n     \"<li>use INLINE resources instead, as so:</li>\\n\"+\n     \"</ul>\\n\"+\n     \"<code>\\n\"+\n     \"from bokeh.resources import INLINE\\n\"+\n     \"output_notebook(resources=INLINE)\\n\"+\n     \"</code>\\n\"+\n     \"</div>\"}};\n\n  function display_loaded() {\n    var el = document.getElementById(\"8573b111-d714-4b32-a2dc-a4fcbeeede38\");\n    if (el != null) {\n      el.textContent = \"BokehJS is loading...\";\n    }\n    if (root.Bokeh !== undefined) {\n      if (el != null) {\n        el.textContent = \"BokehJS \" + root.Bokeh.version + \" successfully loaded.\";\n      }\n    } else if (Date.now() < root._bokeh_timeout) {\n      setTimeout(display_loaded, 100)\n    }\n  }\n\n\n  function run_callbacks() {\n    try {\n      root._bokeh_onload_callbacks.forEach(function(callback) { callback() });\n    }\n    finally {\n      delete root._bokeh_onload_callbacks\n    }\n    console.info(\"Bokeh: all callbacks have finished\");\n  }\n\n  function load_libs(js_urls, callback) {\n    root._bokeh_onload_callbacks.push(callback);\n    if (root._bokeh_is_loading > 0) {\n      console.log(\"Bokeh: BokehJS is being loaded, scheduling callback at\", now());\n      return null;\n    }\n    if (js_urls == null || js_urls.length === 0) {\n      run_callbacks();\n      return null;\n    }\n    console.log(\"Bokeh: BokehJS not loaded, scheduling load and callback at\", now());\n    root._bokeh_is_loading = js_urls.length;\n    for (var i = 0; i < js_urls.length; i++) {\n      var url = js_urls[i];\n      var s = document.createElement('script');\n      s.src = url;\n      s.async = false;\n      s.onreadystatechange = s.onload = function() {\n        root._bokeh_is_loading--;\n        if (root._bokeh_is_loading === 0) {\n          console.log(\"Bokeh: all BokehJS libraries loaded\");\n          run_callbacks()\n        }\n      };\n      s.onerror = function() {\n        console.warn(\"failed to load library \" + url);\n      };\n      console.log(\"Bokeh: injecting script tag for BokehJS library: \", url);\n      document.getElementsByTagName(\"head\")[0].appendChild(s);\n    }\n  };var element = document.getElementById(\"8573b111-d714-4b32-a2dc-a4fcbeeede38\");\n  if (element == null) {\n    console.log(\"Bokeh: ERROR: autoload.js configured with elementid '8573b111-d714-4b32-a2dc-a4fcbeeede38' but no matching script tag was found. \")\n    return false;\n  }\n\n  var js_urls = [\"https://cdn.pydata.org/bokeh/release/bokeh-0.12.16.min.js\", \"https://cdn.pydata.org/bokeh/release/bokeh-widgets-0.12.16.min.js\", \"https://cdn.pydata.org/bokeh/release/bokeh-tables-0.12.16.min.js\", \"https://cdn.pydata.org/bokeh/release/bokeh-gl-0.12.16.min.js\"];\n\n  var inline_js = [\n    function(Bokeh) {\n      Bokeh.set_log_level(\"info\");\n    },\n    \n    function(Bokeh) {\n      \n    },\n    function(Bokeh) {\n      console.log(\"Bokeh: injecting CSS: https://cdn.pydata.org/bokeh/release/bokeh-0.12.16.min.css\");\n      Bokeh.embed.inject_css(\"https://cdn.pydata.org/bokeh/release/bokeh-0.12.16.min.css\");\n      console.log(\"Bokeh: injecting CSS: https://cdn.pydata.org/bokeh/release/bokeh-widgets-0.12.16.min.css\");\n      Bokeh.embed.inject_css(\"https://cdn.pydata.org/bokeh/release/bokeh-widgets-0.12.16.min.css\");\n      console.log(\"Bokeh: injecting CSS: https://cdn.pydata.org/bokeh/release/bokeh-tables-0.12.16.min.css\");\n      Bokeh.embed.inject_css(\"https://cdn.pydata.org/bokeh/release/bokeh-tables-0.12.16.min.css\");\n    }\n  ];\n\n  function run_inline_js() {\n    \n    if ((root.Bokeh !== undefined) || (force === true)) {\n      for (var i = 0; i < inline_js.length; i++) {\n        inline_js[i].call(root, root.Bokeh);\n      }if (force === true) {\n        display_loaded();\n      }} else if (Date.now() < root._bokeh_timeout) {\n      setTimeout(run_inline_js, 100);\n    } else if (!root._bokeh_failed_load) {\n      console.log(\"Bokeh: BokehJS failed to load within specified timeout.\");\n      root._bokeh_failed_load = true;\n    } else if (force !== true) {\n      var cell = $(document.getElementById(\"8573b111-d714-4b32-a2dc-a4fcbeeede38\")).parents('.cell').data().cell;\n      cell.output_area.append_execute_result(NB_LOAD_WARNING)\n    }\n\n  }\n\n  if (root._bokeh_is_loading === 0) {\n    console.log(\"Bokeh: BokehJS loaded, going straight to plotting\");\n    run_inline_js();\n  } else {\n    load_libs(js_urls, function() {\n      console.log(\"Bokeh: BokehJS plotting callback run at\", now());\n      run_inline_js();\n    });\n  }\n}(window));"
     },
     "metadata": {},
     "output_type": "display_data"
    },
    {
     "ename": "ModuleNotFoundError",
     "evalue": "No module named 'Fcn_BasicStatisticalAnalysisOfPopulation'",
     "output_type": "error",
     "traceback": [
      "\u001b[1;31m---------------------------------------------------------------------------\u001b[0m",
      "\u001b[1;31mModuleNotFoundError\u001b[0m                       Traceback (most recent call last)",
      "\u001b[1;32m<ipython-input-1-e6f76fbe26d1>\u001b[0m in \u001b[0;36m<module>\u001b[1;34m()\u001b[0m\n\u001b[0;32m      7\u001b[0m \u001b[1;32mfrom\u001b[0m \u001b[0mbokeh\u001b[0m\u001b[1;33m.\u001b[0m\u001b[0mlayouts\u001b[0m \u001b[1;32mimport\u001b[0m \u001b[0mrow\u001b[0m\u001b[1;33m\u001b[0m\u001b[0m\n\u001b[0;32m      8\u001b[0m \u001b[0moutput_notebook\u001b[0m\u001b[1;33m(\u001b[0m\u001b[1;33m)\u001b[0m \u001b[1;31m# To display plot into Jupyter notebook\u001b[0m\u001b[1;33m\u001b[0m\u001b[0m\n\u001b[1;32m----> 9\u001b[1;33m \u001b[1;32mimport\u001b[0m \u001b[0mFcn_BasicStatisticalAnalysisOfPopulation\u001b[0m\u001b[1;33m\u001b[0m\u001b[0m\n\u001b[0m",
      "\u001b[1;31mModuleNotFoundError\u001b[0m: No module named 'Fcn_BasicStatisticalAnalysisOfPopulation'"
     ]
    }
   ],
   "source": [
    "import pymongo\n",
    "from __future__ import division\n",
    "import numpy as np\n",
    "import pandas as pd\n",
    "from bokeh.plotting import figure\n",
    "from bokeh.io import show, output_notebook\n",
    "from bokeh.layouts import row\n",
    "output_notebook() # To display plot into Jupyter notebook\n",
    "import Fcn_BasicStatisticalAnalysisOfPopulation"
   ]
  },
  {
   "cell_type": "markdown",
   "metadata": {},
   "source": [
    "# 2. Data loading"
   ]
  },
  {
   "cell_type": "code",
   "execution_count": 2,
   "metadata": {},
   "outputs": [],
   "source": [
    "# User inputs\n",
    "DatabaseName = 'GeoApiGouv'\n",
    "CollectionName = 'PopulationCity'\n",
    "\n",
    "# Connection to MongoDB\n",
    "myclient = pymongo.MongoClient(\"mongodb://localhost:27017/\")\n",
    "mydb = myclient[DatabaseName]\n",
    "\n",
    "#Query all documents from MongoD\n",
    "QueryMongo = list(mydb[CollectionName].find({}))"
   ]
  },
  {
   "cell_type": "markdown",
   "metadata": {},
   "source": [
    "# 3. Statistical analysis"
   ]
  },
  {
   "cell_type": "markdown",
   "metadata": {},
   "source": [
    "## 3.1. Arrange data loaded"
   ]
  },
  {
   "cell_type": "code",
   "execution_count": 3,
   "metadata": {},
   "outputs": [],
   "source": [
    "NumberOfCity      = len(QueryMongo)\n",
    "AllCityNames      = [QueryMongo[x]['nom'] for x in range(0,NumberOfCity)]\n",
    "AllPopulationList = [QueryMongo[x]['population'] for x in range(0,NumberOfCity)]\n",
    "AllAreaList       = [QueryMongo[x]['surface'] for x in range(0,NumberOfCity)]\n",
    "AllDensityList    = np.array(AllPopulationList)/np.array(AllAreaList)*100"
   ]
  },
  {
   "cell_type": "code",
   "execution_count": 4,
   "metadata": {},
   "outputs": [
    {
     "data": {
      "text/html": [
       "<div>\n",
       "<style scoped>\n",
       "    .dataframe tbody tr th:only-of-type {\n",
       "        vertical-align: middle;\n",
       "    }\n",
       "\n",
       "    .dataframe tbody tr th {\n",
       "        vertical-align: top;\n",
       "    }\n",
       "\n",
       "    .dataframe thead th {\n",
       "        text-align: right;\n",
       "    }\n",
       "</style>\n",
       "<table border=\"1\" class=\"dataframe\">\n",
       "  <thead>\n",
       "    <tr style=\"text-align: right;\">\n",
       "      <th></th>\n",
       "      <th>City name</th>\n",
       "      <th>Population</th>\n",
       "      <th>Area</th>\n",
       "      <th>Density</th>\n",
       "    </tr>\n",
       "  </thead>\n",
       "  <tbody>\n",
       "    <tr>\n",
       "      <th>227</th>\n",
       "      <td>Rennes</td>\n",
       "      <td>211373</td>\n",
       "      <td>5038</td>\n",
       "      <td>4195.573640</td>\n",
       "    </tr>\n",
       "    <tr>\n",
       "      <th>111</th>\n",
       "      <td>Fougères</td>\n",
       "      <td>20170</td>\n",
       "      <td>1043</td>\n",
       "      <td>1933.844679</td>\n",
       "    </tr>\n",
       "    <tr>\n",
       "      <th>21</th>\n",
       "      <td>Bécherel</td>\n",
       "      <td>722</td>\n",
       "      <td>56</td>\n",
       "      <td>1289.285714</td>\n",
       "    </tr>\n",
       "  </tbody>\n",
       "</table>\n",
       "</div>"
      ],
      "text/plain": [
       "    City name  Population  Area      Density\n",
       "227    Rennes      211373  5038  4195.573640\n",
       "111  Fougères       20170  1043  1933.844679\n",
       "21   Bécherel         722    56  1289.285714"
      ]
     },
     "execution_count": 4,
     "metadata": {},
     "output_type": "execute_result"
    }
   ],
   "source": [
    "#Following to get the top 3 and bottom 3 - Change \"by=\" and \"ascending=\" accordingly\n",
    "df = pd.DataFrame({\"City name\":AllCityNames,\"Population\":AllPopulationList,\"Area\":AllAreaList,\"Density\":AllDensityList})\n",
    "df.sort_values(by=['Density'], ascending = False).head(3)"
   ]
  },
  {
   "cell_type": "markdown",
   "metadata": {},
   "source": [
    "## 3.2. Population analysis"
   ]
  },
  {
   "cell_type": "code",
   "execution_count": 40,
   "metadata": {
    "scrolled": true
   },
   "outputs": [
    {
     "name": "stdout",
     "output_type": "stream",
     "text": [
      "Nombre de ville: 345\n",
      "Population totale: 1,019,923\n",
      "Population moyenne par ville: 2,956\n",
      "Population mediane par ville: 1,314\n",
      "Population la plus faible: 107 (Bléruais)\n",
      "Population la plus élevée: 211,373 (Rennes)\n"
     ]
    }
   ],
   "source": [
    "TotalPopulation   = df['Population'].sum()\n",
    "AveragePopulation = int(df['Population'].mean()) # Population moyenne \n",
    "MedianPopulation  = int(df['Population'].median()) # Population mediane\n",
    "MinPopulation     = df['Population'].min() # Population la plus faible\n",
    "MaxPopulation     = df['Population'].max() # Population la plus élevée\n",
    "\n",
    "print ('Nombre de ville: ' + \"{:,}\".format(NumberOfCity))\n",
    "print ('Population totale: ' + \"{:,}\".format(TotalPopulation))\n",
    "print ('Population moyenne par ville: '+ \"{:,}\".format(AveragePopulation))\n",
    "print ('Population mediane par ville: '+ \"{:,}\".format(MedianPopulation))\n",
    "print ('Population la plus faible: '+ \"{:,}\".format(MinPopulation) + ' (' + df.loc[df['Population'] == MinPopulation]['City name'].to_string(index=False) + ')')\n",
    "print ('Population la plus élevée: '+ \"{:,}\".format(MaxPopulation) + ' (' + df.loc[df['Population'] == MaxPopulation]['City name'].to_string(index=False) + ')')"
   ]
  },
  {
   "cell_type": "markdown",
   "metadata": {},
   "source": [
    "### 3.2.1. Population histogram"
   ]
  },
  {
   "cell_type": "code",
   "execution_count": 6,
   "metadata": {
    "collapsed": true
   },
   "outputs": [],
   "source": [
    "# Prepare the data for plot\n",
    "start = Fcn_BasicStatisticalAnalysisOfPopulation.DefineMinMaxLog(MinPopulation,'Min')\n",
    "stop = Fcn_BasicStatisticalAnalysisOfPopulation.DefineMinMaxLog(MaxPopulation,'Max')\n",
    "bins = Fcn_BasicStatisticalAnalysisOfPopulation.CreateLogBin(start,stop)\n",
    "hist, bin_edges = np.histogram(AllPopulationList, bins=bins)\n",
    "\n",
    "# Remove the first and last value when hist is 0 - Comment out this line to show forall log scale\n",
    "hist, bin_edges = Fcn_BasicStatisticalAnalysisOfPopulation.RemoveLastFirstValuesWhenZero(hist, bin_edges)"
   ]
  },
  {
   "cell_type": "code",
   "execution_count": 7,
   "metadata": {},
   "outputs": [
    {
     "data": {
      "text/html": [
       "\n",
       "\n",
       "\n",
       "\n",
       "\n",
       "\n",
       "  <div class=\"bk-root\" id=\"13fff1a1-201f-4962-99cc-ea1e900a4b54\"></div>\n"
      ]
     },
     "metadata": {},
     "output_type": "display_data"
    },
    {
     "data": {
      "application/javascript": [
       "(function(root) {\n",
       "  function embed_document(root) {\n",
       "    \n",
       "  var docs_json = {\"bedf6b04-1545-41bb-b514-a84676683cb5\":{\"roots\":{\"references\":[{\"attributes\":{\"callback\":null,\"data\":{\"left\":[0,1,2,3,4,5,6,7,8,9,10,11,12,13,14,15,16,17,18,19,20,21,22,23,24,25,26,27,28],\"right\":[1,2,3,4,5,6,7,8,9,10,11,12,13,14,15,16,17,18,19,20,21,22,23,24,25,26,27,28,29],\"top\":[5,9,25,7,18,19,13,17,15,105,37,22,17,7,6,7,3,3,7,1,0,1,0,0,0,0,0,0,1]},\"selected\":{\"id\":\"c7a547eb-4e6d-4e74-9555-698b93699ecd\",\"type\":\"Selection\"},\"selection_policy\":{\"id\":\"dfb27f16-1669-432c-a661-688a7ff7c4b9\",\"type\":\"UnionRenderers\"}},\"id\":\"6f9f4621-d143-47b6-ba82-db750ca0895b\",\"type\":\"ColumnDataSource\"},{\"attributes\":{\"ticks\":[0,1,2,3,4,5,6,7,8,9,10,11,12,13,14,15,16,17,18,19,20,21,22,23,24,25,26,27,28,29]},\"id\":\"900ab3dd-cc44-41ba-a139-6af0e6416ad4\",\"type\":\"FixedTicker\"},{\"attributes\":{\"bottom\":{\"value\":0},\"fill_alpha\":{\"value\":0.1},\"fill_color\":{\"value\":\"#1f77b4\"},\"left\":{\"field\":\"left\"},\"line_alpha\":{\"value\":0.1},\"line_color\":{\"value\":\"#1f77b4\"},\"right\":{\"field\":\"right\"},\"top\":{\"field\":\"top\"}},\"id\":\"1be6a52c-4334-49e5-bca8-4e3eac0c3e65\",\"type\":\"Quad\"},{\"attributes\":{},\"id\":\"37f7be51-9142-4b77-9565-ae0e73a0f772\",\"type\":\"PanTool\"},{\"attributes\":{},\"id\":\"d8217400-54ea-465f-88a6-e04bf14065ad\",\"type\":\"WheelZoomTool\"},{\"attributes\":{\"dimension\":1,\"plot\":{\"id\":\"3c68a44f-1ac5-4069-8831-c9aea5bcfb1f\",\"subtype\":\"Figure\",\"type\":\"Plot\"},\"ticker\":{\"id\":\"d5ae5042-58b1-415c-9035-bf4a3eab42a4\",\"type\":\"BasicTicker\"}},\"id\":\"3d2a1be8-11b1-42f5-a5b1-e7afe46a5f66\",\"type\":\"Grid\"},{\"attributes\":{},\"id\":\"44896ce4-0869-410d-8304-9a5dfa1a7dab\",\"type\":\"ResetTool\"},{\"attributes\":{\"plot\":null,\"text\":\"City population\",\"text_color\":{\"value\":\"#0276FD\"},\"text_font\":\"verdana\",\"text_font_size\":{\"value\":\"12pt\"}},\"id\":\"3dcfaf29-f943-4bca-9ce1-88e688930749\",\"type\":\"Title\"},{\"attributes\":{},\"id\":\"1fbb055b-26f5-4b89-9b91-853e27a26488\",\"type\":\"LinearScale\"},{\"attributes\":{\"bottom\":{\"value\":0},\"fill_color\":{\"value\":\"#0276FD\"},\"left\":{\"field\":\"left\"},\"line_color\":{\"value\":\"#5F5B5B\"},\"right\":{\"field\":\"right\"},\"top\":{\"field\":\"top\"}},\"id\":\"c11ffbd0-e85b-4888-a151-35e5655bc724\",\"type\":\"Quad\"},{\"attributes\":{\"below\":[{\"id\":\"9931a7f9-b8a4-462e-943a-3f14fb3799a0\",\"type\":\"LinearAxis\"}],\"left\":[{\"id\":\"7bf29fea-9750-4230-95ba-499fa06b9505\",\"type\":\"LinearAxis\"}],\"plot_height\":300,\"renderers\":[{\"id\":\"9931a7f9-b8a4-462e-943a-3f14fb3799a0\",\"type\":\"LinearAxis\"},{\"id\":\"af8e55c8-d5cf-4e95-97fc-b8636fc58caa\",\"type\":\"Grid\"},{\"id\":\"7bf29fea-9750-4230-95ba-499fa06b9505\",\"type\":\"LinearAxis\"},{\"id\":\"3d2a1be8-11b1-42f5-a5b1-e7afe46a5f66\",\"type\":\"Grid\"},{\"id\":\"67e0a7a3-0ca1-4301-ac0e-615f7e9876ab\",\"type\":\"BoxAnnotation\"},{\"id\":\"f57f4f87-fd00-4ad9-a12c-49377e8d83ca\",\"type\":\"GlyphRenderer\"}],\"title\":{\"id\":\"3dcfaf29-f943-4bca-9ce1-88e688930749\",\"type\":\"Title\"},\"toolbar\":{\"id\":\"e4b5daa2-ce7a-4cad-9d61-acf576175bda\",\"type\":\"Toolbar\"},\"x_range\":{\"id\":\"c3cfc28f-2d02-468e-b893-c8886af834bb\",\"type\":\"DataRange1d\"},\"x_scale\":{\"id\":\"1fbb055b-26f5-4b89-9b91-853e27a26488\",\"type\":\"LinearScale\"},\"y_range\":{\"id\":\"6226bbd1-19bb-4377-8ea5-fc5b83c96788\",\"type\":\"DataRange1d\"},\"y_scale\":{\"id\":\"a25caf2f-7023-4b88-939a-18202b4c493f\",\"type\":\"LinearScale\"}},\"id\":\"3c68a44f-1ac5-4069-8831-c9aea5bcfb1f\",\"subtype\":\"Figure\",\"type\":\"Plot\"},{\"attributes\":{\"active_drag\":\"auto\",\"active_inspect\":\"auto\",\"active_multi\":null,\"active_scroll\":\"auto\",\"active_tap\":\"auto\",\"tools\":[{\"id\":\"37f7be51-9142-4b77-9565-ae0e73a0f772\",\"type\":\"PanTool\"},{\"id\":\"d8217400-54ea-465f-88a6-e04bf14065ad\",\"type\":\"WheelZoomTool\"},{\"id\":\"ab55c2eb-a0fa-4d2c-9c1f-359f5c739f2d\",\"type\":\"BoxZoomTool\"},{\"id\":\"e7ade4c7-d453-487b-b672-214878308ac2\",\"type\":\"SaveTool\"},{\"id\":\"44896ce4-0869-410d-8304-9a5dfa1a7dab\",\"type\":\"ResetTool\"},{\"id\":\"9a5fa277-7d27-463e-bcb2-b96da8f30225\",\"type\":\"HelpTool\"}]},\"id\":\"e4b5daa2-ce7a-4cad-9d61-acf576175bda\",\"type\":\"Toolbar\"},{\"attributes\":{},\"id\":\"bcffea79-36f8-4629-bfb0-86bdfe20a54f\",\"type\":\"BasicTickFormatter\"},{\"attributes\":{\"source\":{\"id\":\"6f9f4621-d143-47b6-ba82-db750ca0895b\",\"type\":\"ColumnDataSource\"}},\"id\":\"d3a3117e-7fa2-4c2b-b469-a5cdaa6bc9d1\",\"type\":\"CDSView\"},{\"attributes\":{\"bottom_units\":\"screen\",\"fill_alpha\":{\"value\":0.5},\"fill_color\":{\"value\":\"lightgrey\"},\"left_units\":\"screen\",\"level\":\"overlay\",\"line_alpha\":{\"value\":1.0},\"line_color\":{\"value\":\"black\"},\"line_dash\":[4,4],\"line_width\":{\"value\":2},\"plot\":null,\"render_mode\":\"css\",\"right_units\":\"screen\",\"top_units\":\"screen\"},\"id\":\"67e0a7a3-0ca1-4301-ac0e-615f7e9876ab\",\"type\":\"BoxAnnotation\"},{\"attributes\":{\"plot\":{\"id\":\"3c68a44f-1ac5-4069-8831-c9aea5bcfb1f\",\"subtype\":\"Figure\",\"type\":\"Plot\"},\"ticker\":{\"id\":\"791cb55d-7be5-4fa6-9dd3-19e203b508d3\",\"type\":\"BasicTicker\"}},\"id\":\"af8e55c8-d5cf-4e95-97fc-b8636fc58caa\",\"type\":\"Grid\"},{\"attributes\":{\"overlay\":{\"id\":\"67e0a7a3-0ca1-4301-ac0e-615f7e9876ab\",\"type\":\"BoxAnnotation\"}},\"id\":\"ab55c2eb-a0fa-4d2c-9c1f-359f5c739f2d\",\"type\":\"BoxZoomTool\"},{\"attributes\":{\"axis_label\":\"Count\",\"axis_label_text_font\":\"verdana\",\"axis_label_text_font_style\":\"normal\",\"formatter\":{\"id\":\"3f80591c-6daa-44b7-86a5-80678436a4d8\",\"type\":\"BasicTickFormatter\"},\"major_label_text_font\":\"verdana\",\"plot\":{\"id\":\"3c68a44f-1ac5-4069-8831-c9aea5bcfb1f\",\"subtype\":\"Figure\",\"type\":\"Plot\"},\"ticker\":{\"id\":\"d5ae5042-58b1-415c-9035-bf4a3eab42a4\",\"type\":\"BasicTicker\"}},\"id\":\"7bf29fea-9750-4230-95ba-499fa06b9505\",\"type\":\"LinearAxis\"},{\"attributes\":{},\"id\":\"9a5fa277-7d27-463e-bcb2-b96da8f30225\",\"type\":\"HelpTool\"},{\"attributes\":{\"callback\":null},\"id\":\"6226bbd1-19bb-4377-8ea5-fc5b83c96788\",\"type\":\"DataRange1d\"},{\"attributes\":{},\"id\":\"791cb55d-7be5-4fa6-9dd3-19e203b508d3\",\"type\":\"BasicTicker\"},{\"attributes\":{\"callback\":null},\"id\":\"c3cfc28f-2d02-468e-b893-c8886af834bb\",\"type\":\"DataRange1d\"},{\"attributes\":{},\"id\":\"e7ade4c7-d453-487b-b672-214878308ac2\",\"type\":\"SaveTool\"},{\"attributes\":{},\"id\":\"3f80591c-6daa-44b7-86a5-80678436a4d8\",\"type\":\"BasicTickFormatter\"},{\"attributes\":{},\"id\":\"dfb27f16-1669-432c-a661-688a7ff7c4b9\",\"type\":\"UnionRenderers\"},{\"attributes\":{\"axis_label\":\"City population bins\",\"axis_label_text_font\":\"verdana\",\"axis_label_text_font_style\":\"normal\",\"formatter\":{\"id\":\"bcffea79-36f8-4629-bfb0-86bdfe20a54f\",\"type\":\"BasicTickFormatter\"},\"major_label_orientation\":0.785,\"major_label_overrides\":{\"0\":\"100\",\"1\":\"200\",\"10\":\"2,000\",\"11\":\"3,000\",\"12\":\"4,000\",\"13\":\"5,000\",\"14\":\"6,000\",\"15\":\"7,000\",\"16\":\"8,000\",\"17\":\"9,000\",\"18\":\"10,000\",\"19\":\"20,000\",\"2\":\"300\",\"20\":\"30,000\",\"21\":\"40,000\",\"22\":\"50,000\",\"23\":\"60,000\",\"24\":\"70,000\",\"25\":\"80,000\",\"26\":\"90,000\",\"27\":\"100,000\",\"28\":\"200,000\",\"29\":\"300,000\",\"3\":\"400\",\"4\":\"500\",\"5\":\"600\",\"6\":\"700\",\"7\":\"800\",\"8\":\"900\",\"9\":\"1,000\"},\"major_label_text_font\":\"verdana\",\"plot\":{\"id\":\"3c68a44f-1ac5-4069-8831-c9aea5bcfb1f\",\"subtype\":\"Figure\",\"type\":\"Plot\"},\"ticker\":{\"id\":\"900ab3dd-cc44-41ba-a139-6af0e6416ad4\",\"type\":\"FixedTicker\"}},\"id\":\"9931a7f9-b8a4-462e-943a-3f14fb3799a0\",\"type\":\"LinearAxis\"},{\"attributes\":{},\"id\":\"a25caf2f-7023-4b88-939a-18202b4c493f\",\"type\":\"LinearScale\"},{\"attributes\":{\"data_source\":{\"id\":\"6f9f4621-d143-47b6-ba82-db750ca0895b\",\"type\":\"ColumnDataSource\"},\"glyph\":{\"id\":\"c11ffbd0-e85b-4888-a151-35e5655bc724\",\"type\":\"Quad\"},\"hover_glyph\":null,\"muted_glyph\":null,\"nonselection_glyph\":{\"id\":\"1be6a52c-4334-49e5-bca8-4e3eac0c3e65\",\"type\":\"Quad\"},\"selection_glyph\":null,\"view\":{\"id\":\"d3a3117e-7fa2-4c2b-b469-a5cdaa6bc9d1\",\"type\":\"CDSView\"}},\"id\":\"f57f4f87-fd00-4ad9-a12c-49377e8d83ca\",\"type\":\"GlyphRenderer\"},{\"attributes\":{},\"id\":\"d5ae5042-58b1-415c-9035-bf4a3eab42a4\",\"type\":\"BasicTicker\"},{\"attributes\":{},\"id\":\"c7a547eb-4e6d-4e74-9555-698b93699ecd\",\"type\":\"Selection\"}],\"root_ids\":[\"3c68a44f-1ac5-4069-8831-c9aea5bcfb1f\"]},\"title\":\"Bokeh Application\",\"version\":\"0.13.0\"}};\n",
       "  var render_items = [{\"docid\":\"bedf6b04-1545-41bb-b514-a84676683cb5\",\"roots\":{\"3c68a44f-1ac5-4069-8831-c9aea5bcfb1f\":\"13fff1a1-201f-4962-99cc-ea1e900a4b54\"}}];\n",
       "  root.Bokeh.embed.embed_items_notebook(docs_json, render_items);\n",
       "\n",
       "  }\n",
       "  if (root.Bokeh !== undefined) {\n",
       "    embed_document(root);\n",
       "  } else {\n",
       "    var attempts = 0;\n",
       "    var timer = setInterval(function(root) {\n",
       "      if (root.Bokeh !== undefined) {\n",
       "        embed_document(root);\n",
       "        clearInterval(timer);\n",
       "      }\n",
       "      attempts++;\n",
       "      if (attempts > 100) {\n",
       "        console.log(\"Bokeh: ERROR: Unable to run BokehJS code because BokehJS library is missing\")\n",
       "        clearInterval(timer);\n",
       "      }\n",
       "    }, 10, root)\n",
       "  }\n",
       "})(window);"
      ],
      "application/vnd.bokehjs_exec.v0+json": ""
     },
     "metadata": {
      "application/vnd.bokehjs_exec.v0+json": {
       "id": "3c68a44f-1ac5-4069-8831-c9aea5bcfb1f"
      }
     },
     "output_type": "display_data"
    }
   ],
   "source": [
    "# Plot histogram\n",
    "p1 = figure(plot_height=300, title=\"City population\",\n",
    "           x_axis_label='City population bins', y_axis_label='Count')\n",
    "p1.quad(top=list(hist), bottom=0, left=list(range(0,len(bin_edges)))[:-1], right=list(range(0,len(bin_edges)))[1:],\n",
    "       fill_color = \"#0276FD\", line_color = \"#5F5B5B\", alpha=1)\n",
    "\n",
    "p1.xaxis.ticker = list(range(0,len(bin_edges)))\n",
    "p1.xaxis.major_label_orientation = 3.14/4\n",
    "p1.xaxis.major_label_overrides = {el:\"{:,}\".format(bin_edges[el]) for el in range(0,len(bin_edges))}\n",
    "\n",
    "p1.title.text_font_size = '12pt'\n",
    "p1.title.text_color = \"#0276FD\"\n",
    "p1.title.text_font = \"verdana\"\n",
    "p1.yaxis.axis_label_text_font = \"verdana\"\n",
    "p1.yaxis.axis_label_text_font_style = \"normal\"\n",
    "p1.xaxis.axis_label_text_font = \"verdana\"\n",
    "p1.xaxis.axis_label_text_font_style = \"normal\"\n",
    "p1.xaxis.major_label_text_font = \"verdana\"\n",
    "p1.yaxis.major_label_text_font = \"verdana\"\n",
    "\n",
    "show(p1)"
   ]
  },
  {
   "cell_type": "markdown",
   "metadata": {},
   "source": [
    "### 3.2.2. Population cumulative distribution"
   ]
  },
  {
   "cell_type": "code",
   "execution_count": 8,
   "metadata": {
    "scrolled": true
   },
   "outputs": [
    {
     "data": {
      "text/html": [
       "\n",
       "\n",
       "\n",
       "\n",
       "\n",
       "\n",
       "  <div class=\"bk-root\" id=\"1163fbdf-47f4-4aee-b0d0-c936fec784c7\"></div>\n"
      ]
     },
     "metadata": {},
     "output_type": "display_data"
    },
    {
     "data": {
      "application/javascript": [
       "(function(root) {\n",
       "  function embed_document(root) {\n",
       "    \n",
       "  var docs_json = {\"a6cf8688-1834-40c5-a90c-e0fc37196cbb\":{\"roots\":{\"references\":[{\"attributes\":{\"axis_label\":\"City population bins\",\"axis_label_text_font\":\"verdana\",\"axis_label_text_font_style\":\"normal\",\"formatter\":{\"id\":\"7a24df13-aed6-402b-90a5-00ec0c7be7b4\",\"type\":\"BasicTickFormatter\"},\"major_label_orientation\":0.785,\"major_label_overrides\":{\"0\":\"100\",\"1\":\"200\",\"10\":\"2,000\",\"11\":\"3,000\",\"12\":\"4,000\",\"13\":\"5,000\",\"14\":\"6,000\",\"15\":\"7,000\",\"16\":\"8,000\",\"17\":\"9,000\",\"18\":\"10,000\",\"19\":\"20,000\",\"2\":\"300\",\"20\":\"30,000\",\"21\":\"40,000\",\"22\":\"50,000\",\"23\":\"60,000\",\"24\":\"70,000\",\"25\":\"80,000\",\"26\":\"90,000\",\"27\":\"100,000\",\"28\":\"200,000\",\"29\":\"300,000\",\"3\":\"400\",\"4\":\"500\",\"5\":\"600\",\"6\":\"700\",\"7\":\"800\",\"8\":\"900\",\"9\":\"1,000\"},\"major_label_text_font\":\"verdana\",\"plot\":{\"id\":\"053bbb62-aa33-4b04-9de6-cb2eedae1c65\",\"subtype\":\"Figure\",\"type\":\"Plot\"},\"ticker\":{\"id\":\"ad25f0a8-6ef6-492e-a330-5f56861eab77\",\"type\":\"FixedTicker\"}},\"id\":\"a770de0d-736d-4c75-8e25-fb27e0e26b01\",\"type\":\"LinearAxis\"},{\"attributes\":{\"below\":[{\"id\":\"a770de0d-736d-4c75-8e25-fb27e0e26b01\",\"type\":\"LinearAxis\"}],\"left\":[{\"id\":\"1e80599f-cff8-4c31-b2c5-fc215bf93054\",\"type\":\"LinearAxis\"}],\"plot_height\":300,\"renderers\":[{\"id\":\"a770de0d-736d-4c75-8e25-fb27e0e26b01\",\"type\":\"LinearAxis\"},{\"id\":\"c58312af-4bf8-4501-9b4b-d932759a2152\",\"type\":\"Grid\"},{\"id\":\"1e80599f-cff8-4c31-b2c5-fc215bf93054\",\"type\":\"LinearAxis\"},{\"id\":\"75319674-da45-42e0-9eba-4a1e9b5aa0ff\",\"type\":\"Grid\"},{\"id\":\"2b85687d-bc78-4929-a9a2-d3f5a3552bdc\",\"type\":\"BoxAnnotation\"},{\"id\":\"dd1b2c74-b7d8-45ea-b7b9-d77516fc1988\",\"type\":\"GlyphRenderer\"}],\"title\":{\"id\":\"55d77538-4444-4718-814f-fd63f5f68796\",\"type\":\"Title\"},\"toolbar\":{\"id\":\"fe618beb-b973-4df4-a970-06b18f277b49\",\"type\":\"Toolbar\"},\"x_range\":{\"id\":\"abfa3825-15e0-46f1-b5ea-acac86941e04\",\"type\":\"DataRange1d\"},\"x_scale\":{\"id\":\"9b57ca08-1614-48b5-be64-ad95207fa5a7\",\"type\":\"LinearScale\"},\"y_range\":{\"id\":\"6a703d6a-a766-4c48-96b8-297c8147dc5d\",\"type\":\"DataRange1d\"},\"y_scale\":{\"id\":\"6af04b9f-188b-4434-8b8d-41dc30b1b6a1\",\"type\":\"LinearScale\"}},\"id\":\"053bbb62-aa33-4b04-9de6-cb2eedae1c65\",\"subtype\":\"Figure\",\"type\":\"Plot\"},{\"attributes\":{},\"id\":\"82042f31-201f-4815-8cc6-90815c12b90a\",\"type\":\"WheelZoomTool\"},{\"attributes\":{},\"id\":\"7a24df13-aed6-402b-90a5-00ec0c7be7b4\",\"type\":\"BasicTickFormatter\"},{\"attributes\":{},\"id\":\"58bcde98-ff17-4736-8f3c-16d9dd001cf5\",\"type\":\"UnionRenderers\"},{\"attributes\":{\"active_drag\":\"auto\",\"active_inspect\":\"auto\",\"active_multi\":null,\"active_scroll\":\"auto\",\"active_tap\":\"auto\",\"tools\":[{\"id\":\"f2a4b001-f323-4ee7-bc56-54c9d96e9648\",\"type\":\"PanTool\"},{\"id\":\"82042f31-201f-4815-8cc6-90815c12b90a\",\"type\":\"WheelZoomTool\"},{\"id\":\"3a1325bf-875b-496f-91be-b2562d20afba\",\"type\":\"BoxZoomTool\"},{\"id\":\"982f2b3a-61b2-4e63-8dcd-279b0b177e79\",\"type\":\"SaveTool\"},{\"id\":\"abd5b31e-8c64-4f46-a533-a987a7897777\",\"type\":\"ResetTool\"},{\"id\":\"2108545a-7594-401a-945d-97f60f171af1\",\"type\":\"HelpTool\"}]},\"id\":\"fe618beb-b973-4df4-a970-06b18f277b49\",\"type\":\"Toolbar\"},{\"attributes\":{\"data_source\":{\"id\":\"60878c89-bb58-4986-880f-b04f86d1fa3b\",\"type\":\"ColumnDataSource\"},\"glyph\":{\"id\":\"e952c2ce-5486-40c7-b73b-eb8c6e345dd3\",\"type\":\"Step\"},\"hover_glyph\":null,\"muted_glyph\":null,\"nonselection_glyph\":{\"id\":\"50b6f619-cf06-4109-b532-cc5252ee8f8f\",\"type\":\"Step\"},\"selection_glyph\":null,\"view\":{\"id\":\"52816097-7818-43fc-bc87-d43eeb597b72\",\"type\":\"CDSView\"}},\"id\":\"dd1b2c74-b7d8-45ea-b7b9-d77516fc1988\",\"type\":\"GlyphRenderer\"},{\"attributes\":{\"line_color\":{\"value\":\"#0276FD\"},\"line_width\":{\"value\":2},\"x\":{\"field\":\"x\"},\"y\":{\"field\":\"y\"}},\"id\":\"e952c2ce-5486-40c7-b73b-eb8c6e345dd3\",\"type\":\"Step\"},{\"attributes\":{\"ticks\":[0,1,2,3,4,5,6,7,8,9,10,11,12,13,14,15,16,17,18,19,20,21,22,23,24,25,26,27,28,29]},\"id\":\"ad25f0a8-6ef6-492e-a330-5f56861eab77\",\"type\":\"FixedTicker\"},{\"attributes\":{\"callback\":null},\"id\":\"6a703d6a-a766-4c48-96b8-297c8147dc5d\",\"type\":\"DataRange1d\"},{\"attributes\":{},\"id\":\"9b57ca08-1614-48b5-be64-ad95207fa5a7\",\"type\":\"LinearScale\"},{\"attributes\":{\"axis_label\":\"Percentile [%ile]\",\"axis_label_text_font\":\"verdana\",\"axis_label_text_font_style\":\"normal\",\"formatter\":{\"id\":\"bb6bec5f-3a74-4960-a93d-7eac8c63558a\",\"type\":\"BasicTickFormatter\"},\"major_label_text_font\":\"verdana\",\"plot\":{\"id\":\"053bbb62-aa33-4b04-9de6-cb2eedae1c65\",\"subtype\":\"Figure\",\"type\":\"Plot\"},\"ticker\":{\"id\":\"7e26b84c-a1aa-417f-8774-b7b4a0f215a3\",\"type\":\"BasicTicker\"}},\"id\":\"1e80599f-cff8-4c31-b2c5-fc215bf93054\",\"type\":\"LinearAxis\"},{\"attributes\":{},\"id\":\"bb6bec5f-3a74-4960-a93d-7eac8c63558a\",\"type\":\"BasicTickFormatter\"},{\"attributes\":{},\"id\":\"2108545a-7594-401a-945d-97f60f171af1\",\"type\":\"HelpTool\"},{\"attributes\":{\"plot\":null,\"text\":\"City population distribution\",\"text_color\":{\"value\":\"#0276FD\"},\"text_font\":\"verdana\",\"text_font_size\":{\"value\":\"12pt\"}},\"id\":\"55d77538-4444-4718-814f-fd63f5f68796\",\"type\":\"Title\"},{\"attributes\":{\"callback\":null},\"id\":\"abfa3825-15e0-46f1-b5ea-acac86941e04\",\"type\":\"DataRange1d\"},{\"attributes\":{\"bottom_units\":\"screen\",\"fill_alpha\":{\"value\":0.5},\"fill_color\":{\"value\":\"lightgrey\"},\"left_units\":\"screen\",\"level\":\"overlay\",\"line_alpha\":{\"value\":1.0},\"line_color\":{\"value\":\"black\"},\"line_dash\":[4,4],\"line_width\":{\"value\":2},\"plot\":null,\"render_mode\":\"css\",\"right_units\":\"screen\",\"top_units\":\"screen\"},\"id\":\"2b85687d-bc78-4929-a9a2-d3f5a3552bdc\",\"type\":\"BoxAnnotation\"},{\"attributes\":{\"source\":{\"id\":\"60878c89-bb58-4986-880f-b04f86d1fa3b\",\"type\":\"ColumnDataSource\"}},\"id\":\"52816097-7818-43fc-bc87-d43eeb597b72\",\"type\":\"CDSView\"},{\"attributes\":{},\"id\":\"7e26b84c-a1aa-417f-8774-b7b4a0f215a3\",\"type\":\"BasicTicker\"},{\"attributes\":{\"plot\":{\"id\":\"053bbb62-aa33-4b04-9de6-cb2eedae1c65\",\"subtype\":\"Figure\",\"type\":\"Plot\"},\"ticker\":{\"id\":\"0b78d7ee-384f-4dc7-addd-ea1a438d6c43\",\"type\":\"BasicTicker\"}},\"id\":\"c58312af-4bf8-4501-9b4b-d932759a2152\",\"type\":\"Grid\"},{\"attributes\":{\"overlay\":{\"id\":\"2b85687d-bc78-4929-a9a2-d3f5a3552bdc\",\"type\":\"BoxAnnotation\"}},\"id\":\"3a1325bf-875b-496f-91be-b2562d20afba\",\"type\":\"BoxZoomTool\"},{\"attributes\":{},\"id\":\"6af04b9f-188b-4434-8b8d-41dc30b1b6a1\",\"type\":\"LinearScale\"},{\"attributes\":{},\"id\":\"abd5b31e-8c64-4f46-a533-a987a7897777\",\"type\":\"ResetTool\"},{\"attributes\":{},\"id\":\"f2a4b001-f323-4ee7-bc56-54c9d96e9648\",\"type\":\"PanTool\"},{\"attributes\":{\"line_alpha\":{\"value\":0.1},\"line_color\":{\"value\":\"#1f77b4\"},\"line_width\":{\"value\":2},\"x\":{\"field\":\"x\"},\"y\":{\"field\":\"y\"}},\"id\":\"50b6f619-cf06-4109-b532-cc5252ee8f8f\",\"type\":\"Step\"},{\"attributes\":{},\"id\":\"982f2b3a-61b2-4e63-8dcd-279b0b177e79\",\"type\":\"SaveTool\"},{\"attributes\":{\"callback\":null,\"data\":{\"x\":[0,1,2,3,4,5,6,7,8,9,10,11,12,13,14,15,16,17,18,19,20,21,22,23,24,25,26,27,28,29],\"y\":[0,0.014492753623188406,0.04057971014492753,0.11304347826086956,0.13333333333333333,0.1855072463768116,0.24057971014492754,0.2782608695652174,0.32753623188405795,0.3710144927536232,0.6753623188405797,0.782608695652174,0.8463768115942029,0.8956521739130435,0.9159420289855073,0.9333333333333333,0.9536231884057971,0.9623188405797102,0.9710144927536232,0.991304347826087,0.9942028985507246,0.9942028985507246,0.9971014492753624,0.9971014492753624,0.9971014492753624,0.9971014492753624,0.9971014492753624,0.9971014492753624,0.9971014492753624,1.0]},\"selected\":{\"id\":\"e7a80aa8-831a-436a-a0ae-340a9071892b\",\"type\":\"Selection\"},\"selection_policy\":{\"id\":\"58bcde98-ff17-4736-8f3c-16d9dd001cf5\",\"type\":\"UnionRenderers\"}},\"id\":\"60878c89-bb58-4986-880f-b04f86d1fa3b\",\"type\":\"ColumnDataSource\"},{\"attributes\":{},\"id\":\"0b78d7ee-384f-4dc7-addd-ea1a438d6c43\",\"type\":\"BasicTicker\"},{\"attributes\":{\"dimension\":1,\"plot\":{\"id\":\"053bbb62-aa33-4b04-9de6-cb2eedae1c65\",\"subtype\":\"Figure\",\"type\":\"Plot\"},\"ticker\":{\"id\":\"7e26b84c-a1aa-417f-8774-b7b4a0f215a3\",\"type\":\"BasicTicker\"}},\"id\":\"75319674-da45-42e0-9eba-4a1e9b5aa0ff\",\"type\":\"Grid\"},{\"attributes\":{},\"id\":\"e7a80aa8-831a-436a-a0ae-340a9071892b\",\"type\":\"Selection\"}],\"root_ids\":[\"053bbb62-aa33-4b04-9de6-cb2eedae1c65\"]},\"title\":\"Bokeh Application\",\"version\":\"0.13.0\"}};\n",
       "  var render_items = [{\"docid\":\"a6cf8688-1834-40c5-a90c-e0fc37196cbb\",\"roots\":{\"053bbb62-aa33-4b04-9de6-cb2eedae1c65\":\"1163fbdf-47f4-4aee-b0d0-c936fec784c7\"}}];\n",
       "  root.Bokeh.embed.embed_items_notebook(docs_json, render_items);\n",
       "\n",
       "  }\n",
       "  if (root.Bokeh !== undefined) {\n",
       "    embed_document(root);\n",
       "  } else {\n",
       "    var attempts = 0;\n",
       "    var timer = setInterval(function(root) {\n",
       "      if (root.Bokeh !== undefined) {\n",
       "        embed_document(root);\n",
       "        clearInterval(timer);\n",
       "      }\n",
       "      attempts++;\n",
       "      if (attempts > 100) {\n",
       "        console.log(\"Bokeh: ERROR: Unable to run BokehJS code because BokehJS library is missing\")\n",
       "        clearInterval(timer);\n",
       "      }\n",
       "    }, 10, root)\n",
       "  }\n",
       "})(window);"
      ],
      "application/vnd.bokehjs_exec.v0+json": ""
     },
     "metadata": {
      "application/vnd.bokehjs_exec.v0+json": {
       "id": "053bbb62-aa33-4b04-9de6-cb2eedae1c65"
      }
     },
     "output_type": "display_data"
    }
   ],
   "source": [
    "#Plot cumulative distribution\n",
    "p2 = figure(plot_height=300, title=\"City population distribution\",\n",
    "           x_axis_label='City population bins', y_axis_label='Percentile [%ile]')\n",
    "p2.step(list(range(0,len(bin_edges))),[0]+[list(np.cumsum(hist))[x]/NumberOfCity for x in range(0,len(hist))],\n",
    "       line_color=\"#0276FD\",line_width=2)\n",
    "\n",
    "p2.xaxis.ticker = list(range(0,len(bin_edges)))\n",
    "p2.xaxis.major_label_orientation = 3.14/4\n",
    "p2.xaxis.major_label_overrides = {el:\"{:,}\".format(bin_edges[el]) for el in range(0,len(bin_edges))}\n",
    "\n",
    "p2.title.text_font_size = '12pt'\n",
    "p2.title.text_color = \"#0276FD\"\n",
    "p2.title.text_font = \"verdana\"\n",
    "p2.yaxis.axis_label_text_font = \"verdana\"\n",
    "p2.yaxis.axis_label_text_font_style = \"normal\"\n",
    "p2.xaxis.axis_label_text_font = \"verdana\"\n",
    "p2.xaxis.axis_label_text_font_style = \"normal\"\n",
    "p2.xaxis.major_label_text_font = \"verdana\"\n",
    "p2.yaxis.major_label_text_font = \"verdana\"\n",
    "\n",
    "show(p2)"
   ]
  },
  {
   "cell_type": "markdown",
   "metadata": {},
   "source": [
    "## 3.3. Area analysis"
   ]
  },
  {
   "cell_type": "code",
   "execution_count": 9,
   "metadata": {},
   "outputs": [
    {
     "name": "stdout",
     "output_type": "stream",
     "text": [
      "Surface totale: 6,840.54 km²\n",
      "Surface moyenne: 19.82 km²\n",
      "Surface mediane: 15.81 km²\n",
      "Surface la plus faible: 0.56 km² (Bécherel)\n",
      "Surface la plus élevée: 110.66 km² (Paimpont)\n"
     ]
    }
   ],
   "source": [
    "#Statistics about area\n",
    "TotalArea = sum(AllAreaList)/100 # km2, originally surface in hectare\n",
    "AverageArea = int(np.mean(AllAreaList)) # Surface moyenne \n",
    "MedianArea = int(np.median(AllAreaList)) # Surface mediane\n",
    "MinArea = np.min(AllAreaList) # Surface la plus faible\n",
    "MaxArea = np.max(AllAreaList) # Surface la plus élevée\n",
    "\n",
    "print 'Surface totale: ' + \"{:,}\".format(TotalArea) + ' km' + (u\"\\u00b2\").encode('utf-8') \n",
    "print 'Surface moyenne: '+ \"{:,}\".format(AverageArea/100) + ' km' + (u\"\\u00b2\").encode('utf-8') \n",
    "print 'Surface mediane: '+ \"{:,}\".format(MedianArea/100) + ' km' + (u\"\\u00b2\").encode('utf-8') \n",
    "print 'Surface la plus faible: '+ \"{:,}\".format(MinArea/100) + ' km' + (u\"\\u00b2\").encode('utf-8') + ' (' + str(list(mydb[CollectionName].find({'surface': MinArea},{'nom':1,'_id':0}))[0]['nom'].encode('utf-8')) + ')'\n",
    "print 'Surface la plus élevée: '+ \"{:,}\".format(MaxArea/100) + ' km' + (u\"\\u00b2\").encode('utf-8')  + ' (' + str(list(mydb[CollectionName].find({'surface': MaxArea},{'nom':1,'_id':0}))[0]['nom'].encode('utf-8')) + ')'"
   ]
  },
  {
   "cell_type": "markdown",
   "metadata": {},
   "source": [
    "### 3.3.1 Area histogram"
   ]
  },
  {
   "cell_type": "code",
   "execution_count": 10,
   "metadata": {
    "collapsed": true
   },
   "outputs": [],
   "source": [
    "# Prepare the data for plot\n",
    "start = Fcn_BasicStatisticalAnalysisOfPopulation.DefineMinMaxLog(MinArea,'Min')\n",
    "stop = Fcn_BasicStatisticalAnalysisOfPopulation.DefineMinMaxLog(MaxArea,'Max')\n",
    "bins = Fcn_BasicStatisticalAnalysisOfPopulation.CreateLogBin(start,stop)\n",
    "hist, bin_edges = np.histogram(AllAreaList, bins=bins)\n",
    "\n",
    "# Remove the first and last value when hist is 0 - Comment out this line to show forall log scale\n",
    "hist, bin_edges = Fcn_BasicStatisticalAnalysisOfPopulation.RemoveLastFirstValuesWhenZero(hist, bin_edges)"
   ]
  },
  {
   "cell_type": "code",
   "execution_count": 11,
   "metadata": {},
   "outputs": [
    {
     "data": {
      "text/html": [
       "\n",
       "\n",
       "\n",
       "\n",
       "\n",
       "\n",
       "  <div class=\"bk-root\" id=\"268e3f4d-8958-419a-a4d5-c6d42178d603\"></div>\n"
      ]
     },
     "metadata": {},
     "output_type": "display_data"
    },
    {
     "data": {
      "application/javascript": [
       "(function(root) {\n",
       "  function embed_document(root) {\n",
       "    \n",
       "  var docs_json = {\"5ce59d4b-5488-41f4-ad64-7275d94ca789\":{\"roots\":{\"references\":[{\"attributes\":{},\"id\":\"401db715-4a18-49ec-a2c4-7fcd81afaf9e\",\"type\":\"PanTool\"},{\"attributes\":{\"plot\":{\"id\":\"8a0aac07-9d95-430f-8910-8066860adb53\",\"subtype\":\"Figure\",\"type\":\"Plot\"},\"ticker\":{\"id\":\"d1b57e58-2212-4898-9ff6-8d26c083d65b\",\"type\":\"BasicTicker\"}},\"id\":\"0588d6f6-0cfd-4067-8a82-1723006b510c\",\"type\":\"Grid\"},{\"attributes\":{\"below\":[{\"id\":\"a98f7c9c-8de9-4e91-a9bb-458f5576195d\",\"type\":\"LinearAxis\"}],\"left\":[{\"id\":\"e0afcbbf-64b0-4555-b111-7a3d4406ecb6\",\"type\":\"LinearAxis\"}],\"plot_height\":300,\"renderers\":[{\"id\":\"a98f7c9c-8de9-4e91-a9bb-458f5576195d\",\"type\":\"LinearAxis\"},{\"id\":\"0588d6f6-0cfd-4067-8a82-1723006b510c\",\"type\":\"Grid\"},{\"id\":\"e0afcbbf-64b0-4555-b111-7a3d4406ecb6\",\"type\":\"LinearAxis\"},{\"id\":\"34263d22-54f2-45b6-9168-46f219d9925f\",\"type\":\"Grid\"},{\"id\":\"c2505766-5793-4da3-beb6-03f59e43dc53\",\"type\":\"BoxAnnotation\"},{\"id\":\"4205afde-b15b-4ef0-a934-e8ac650ab29e\",\"type\":\"GlyphRenderer\"}],\"title\":{\"id\":\"8e15108d-6dbe-45a7-87dd-3d540e896243\",\"type\":\"Title\"},\"toolbar\":{\"id\":\"c96d02f7-87f9-4ee3-9855-a4f77e581b81\",\"type\":\"Toolbar\"},\"x_range\":{\"id\":\"eb37d949-1f37-40cd-b0d9-ae8d63a64828\",\"type\":\"DataRange1d\"},\"x_scale\":{\"id\":\"99625dd8-d751-4900-8b3d-42b908b8bce9\",\"type\":\"LinearScale\"},\"y_range\":{\"id\":\"8a3e80ec-85b1-4939-a02c-d1495c0e7bc5\",\"type\":\"DataRange1d\"},\"y_scale\":{\"id\":\"702a8810-1cf5-400d-b593-09dbb03fc3e9\",\"type\":\"LinearScale\"}},\"id\":\"8a0aac07-9d95-430f-8910-8066860adb53\",\"subtype\":\"Figure\",\"type\":\"Plot\"},{\"attributes\":{},\"id\":\"a78130d6-898d-4b70-b323-c88778419e5e\",\"type\":\"ResetTool\"},{\"attributes\":{\"data_source\":{\"id\":\"749bbe1f-e783-4043-904c-c68d7342ee77\",\"type\":\"ColumnDataSource\"},\"glyph\":{\"id\":\"539683fc-73d3-47da-8534-06b75cf16d37\",\"type\":\"Quad\"},\"hover_glyph\":null,\"muted_glyph\":null,\"nonselection_glyph\":{\"id\":\"bc9df940-6af7-4c2b-a836-c180615148da\",\"type\":\"Quad\"},\"selection_glyph\":null,\"view\":{\"id\":\"054f9f74-88d5-4095-af37-81d48bf43dd8\",\"type\":\"CDSView\"}},\"id\":\"4205afde-b15b-4ef0-a934-e8ac650ab29e\",\"type\":\"GlyphRenderer\"},{\"attributes\":{},\"id\":\"58b4bcbf-aa1d-489a-8299-d16c7e461121\",\"type\":\"HelpTool\"},{\"attributes\":{\"bottom\":{\"value\":0},\"fill_color\":{\"value\":\"#0276FD\"},\"left\":{\"field\":\"left\"},\"line_color\":{\"value\":\"#5F5B5B\"},\"right\":{\"field\":\"right\"},\"top\":{\"field\":\"top\"}},\"id\":\"539683fc-73d3-47da-8534-06b75cf16d37\",\"type\":\"Quad\"},{\"attributes\":{\"callback\":null,\"data\":{\"left\":[0,1,2,3,4,5,6,7,8,9,10,11,12,13,14,15,16,17,18,19,20,21,22,23],\"right\":[1,2,3,4,5,6,7,8,9,10,11,12,13,14,15,16,17,18,19,20,21,22,23,24],\"top\":[1,0,0,0,0,1,6,9,9,8,11,16,14,18,125,65,31,16,7,3,3,0,1,1]},\"selected\":{\"id\":\"297b59d2-1eb9-430b-8170-f8e17f2b93b1\",\"type\":\"Selection\"},\"selection_policy\":{\"id\":\"559a5e83-d9ea-46b5-8837-a20a01cccfa5\",\"type\":\"UnionRenderers\"}},\"id\":\"749bbe1f-e783-4043-904c-c68d7342ee77\",\"type\":\"ColumnDataSource\"},{\"attributes\":{\"plot\":null,\"text\":\"City area\",\"text_color\":{\"value\":\"#0276FD\"},\"text_font\":\"verdana\",\"text_font_size\":{\"value\":\"12pt\"}},\"id\":\"8e15108d-6dbe-45a7-87dd-3d540e896243\",\"type\":\"Title\"},{\"attributes\":{},\"id\":\"9eb9eb5b-6ca2-45b7-b984-01620b34d11f\",\"type\":\"BasicTickFormatter\"},{\"attributes\":{},\"id\":\"559a5e83-d9ea-46b5-8837-a20a01cccfa5\",\"type\":\"UnionRenderers\"},{\"attributes\":{\"axis_label\":\"City area bins [km\\u00b2]\",\"axis_label_text_font\":\"verdana\",\"axis_label_text_font_style\":\"normal\",\"formatter\":{\"id\":\"9eb9eb5b-6ca2-45b7-b984-01620b34d11f\",\"type\":\"BasicTickFormatter\"},\"major_label_orientation\":0.785,\"major_label_overrides\":{\"0\":\"0.5\",\"1\":\"0.6\",\"10\":\"6\",\"11\":\"7\",\"12\":\"8\",\"13\":\"9\",\"14\":\"10\",\"15\":\"20\",\"16\":\"30\",\"17\":\"40\",\"18\":\"50\",\"19\":\"60\",\"2\":\"0.7\",\"20\":\"70\",\"21\":\"80\",\"22\":\"90\",\"23\":\"100\",\"24\":\"200\",\"3\":\"0.8\",\"4\":\"0.9\",\"5\":\"1\",\"6\":\"2\",\"7\":\"3\",\"8\":\"4\",\"9\":\"5\"},\"major_label_text_font\":\"verdana\",\"plot\":{\"id\":\"8a0aac07-9d95-430f-8910-8066860adb53\",\"subtype\":\"Figure\",\"type\":\"Plot\"},\"ticker\":{\"id\":\"bc6f8a6a-4640-4255-a6f6-259d6c3c6251\",\"type\":\"FixedTicker\"}},\"id\":\"a98f7c9c-8de9-4e91-a9bb-458f5576195d\",\"type\":\"LinearAxis\"},{\"attributes\":{},\"id\":\"a701b2c8-109c-4a7d-9c49-bbfc7f75fcdb\",\"type\":\"BasicTickFormatter\"},{\"attributes\":{\"active_drag\":\"auto\",\"active_inspect\":\"auto\",\"active_multi\":null,\"active_scroll\":\"auto\",\"active_tap\":\"auto\",\"tools\":[{\"id\":\"401db715-4a18-49ec-a2c4-7fcd81afaf9e\",\"type\":\"PanTool\"},{\"id\":\"62f18f6a-0458-4983-922d-8a496421bc43\",\"type\":\"WheelZoomTool\"},{\"id\":\"9311d5f7-c967-4ff8-b926-910d0249dcbc\",\"type\":\"BoxZoomTool\"},{\"id\":\"bec27577-c039-494c-bfbb-648cca834b21\",\"type\":\"SaveTool\"},{\"id\":\"a78130d6-898d-4b70-b323-c88778419e5e\",\"type\":\"ResetTool\"},{\"id\":\"58b4bcbf-aa1d-489a-8299-d16c7e461121\",\"type\":\"HelpTool\"}]},\"id\":\"c96d02f7-87f9-4ee3-9855-a4f77e581b81\",\"type\":\"Toolbar\"},{\"attributes\":{},\"id\":\"702a8810-1cf5-400d-b593-09dbb03fc3e9\",\"type\":\"LinearScale\"},{\"attributes\":{},\"id\":\"d1b57e58-2212-4898-9ff6-8d26c083d65b\",\"type\":\"BasicTicker\"},{\"attributes\":{\"bottom_units\":\"screen\",\"fill_alpha\":{\"value\":0.5},\"fill_color\":{\"value\":\"lightgrey\"},\"left_units\":\"screen\",\"level\":\"overlay\",\"line_alpha\":{\"value\":1.0},\"line_color\":{\"value\":\"black\"},\"line_dash\":[4,4],\"line_width\":{\"value\":2},\"plot\":null,\"render_mode\":\"css\",\"right_units\":\"screen\",\"top_units\":\"screen\"},\"id\":\"c2505766-5793-4da3-beb6-03f59e43dc53\",\"type\":\"BoxAnnotation\"},{\"attributes\":{\"bottom\":{\"value\":0},\"fill_alpha\":{\"value\":0.1},\"fill_color\":{\"value\":\"#1f77b4\"},\"left\":{\"field\":\"left\"},\"line_alpha\":{\"value\":0.1},\"line_color\":{\"value\":\"#1f77b4\"},\"right\":{\"field\":\"right\"},\"top\":{\"field\":\"top\"}},\"id\":\"bc9df940-6af7-4c2b-a836-c180615148da\",\"type\":\"Quad\"},{\"attributes\":{\"callback\":null},\"id\":\"eb37d949-1f37-40cd-b0d9-ae8d63a64828\",\"type\":\"DataRange1d\"},{\"attributes\":{\"dimension\":1,\"plot\":{\"id\":\"8a0aac07-9d95-430f-8910-8066860adb53\",\"subtype\":\"Figure\",\"type\":\"Plot\"},\"ticker\":{\"id\":\"29f8d73c-eb29-4444-9208-82d3b598a49e\",\"type\":\"BasicTicker\"}},\"id\":\"34263d22-54f2-45b6-9168-46f219d9925f\",\"type\":\"Grid\"},{\"attributes\":{},\"id\":\"bec27577-c039-494c-bfbb-648cca834b21\",\"type\":\"SaveTool\"},{\"attributes\":{\"axis_label\":\"Count [#]\",\"axis_label_text_font\":\"verdana\",\"axis_label_text_font_style\":\"normal\",\"formatter\":{\"id\":\"a701b2c8-109c-4a7d-9c49-bbfc7f75fcdb\",\"type\":\"BasicTickFormatter\"},\"major_label_text_font\":\"verdana\",\"plot\":{\"id\":\"8a0aac07-9d95-430f-8910-8066860adb53\",\"subtype\":\"Figure\",\"type\":\"Plot\"},\"ticker\":{\"id\":\"29f8d73c-eb29-4444-9208-82d3b598a49e\",\"type\":\"BasicTicker\"}},\"id\":\"e0afcbbf-64b0-4555-b111-7a3d4406ecb6\",\"type\":\"LinearAxis\"},{\"attributes\":{},\"id\":\"29f8d73c-eb29-4444-9208-82d3b598a49e\",\"type\":\"BasicTicker\"},{\"attributes\":{},\"id\":\"62f18f6a-0458-4983-922d-8a496421bc43\",\"type\":\"WheelZoomTool\"},{\"attributes\":{\"callback\":null},\"id\":\"8a3e80ec-85b1-4939-a02c-d1495c0e7bc5\",\"type\":\"DataRange1d\"},{\"attributes\":{},\"id\":\"297b59d2-1eb9-430b-8170-f8e17f2b93b1\",\"type\":\"Selection\"},{\"attributes\":{\"source\":{\"id\":\"749bbe1f-e783-4043-904c-c68d7342ee77\",\"type\":\"ColumnDataSource\"}},\"id\":\"054f9f74-88d5-4095-af37-81d48bf43dd8\",\"type\":\"CDSView\"},{\"attributes\":{},\"id\":\"99625dd8-d751-4900-8b3d-42b908b8bce9\",\"type\":\"LinearScale\"},{\"attributes\":{\"overlay\":{\"id\":\"c2505766-5793-4da3-beb6-03f59e43dc53\",\"type\":\"BoxAnnotation\"}},\"id\":\"9311d5f7-c967-4ff8-b926-910d0249dcbc\",\"type\":\"BoxZoomTool\"},{\"attributes\":{\"ticks\":[0,1,2,3,4,5,6,7,8,9,10,11,12,13,14,15,16,17,18,19,20,21,22,23,24]},\"id\":\"bc6f8a6a-4640-4255-a6f6-259d6c3c6251\",\"type\":\"FixedTicker\"}],\"root_ids\":[\"8a0aac07-9d95-430f-8910-8066860adb53\"]},\"title\":\"Bokeh Application\",\"version\":\"0.13.0\"}};\n",
       "  var render_items = [{\"docid\":\"5ce59d4b-5488-41f4-ad64-7275d94ca789\",\"roots\":{\"8a0aac07-9d95-430f-8910-8066860adb53\":\"268e3f4d-8958-419a-a4d5-c6d42178d603\"}}];\n",
       "  root.Bokeh.embed.embed_items_notebook(docs_json, render_items);\n",
       "\n",
       "  }\n",
       "  if (root.Bokeh !== undefined) {\n",
       "    embed_document(root);\n",
       "  } else {\n",
       "    var attempts = 0;\n",
       "    var timer = setInterval(function(root) {\n",
       "      if (root.Bokeh !== undefined) {\n",
       "        embed_document(root);\n",
       "        clearInterval(timer);\n",
       "      }\n",
       "      attempts++;\n",
       "      if (attempts > 100) {\n",
       "        console.log(\"Bokeh: ERROR: Unable to run BokehJS code because BokehJS library is missing\")\n",
       "        clearInterval(timer);\n",
       "      }\n",
       "    }, 10, root)\n",
       "  }\n",
       "})(window);"
      ],
      "application/vnd.bokehjs_exec.v0+json": ""
     },
     "metadata": {
      "application/vnd.bokehjs_exec.v0+json": {
       "id": "8a0aac07-9d95-430f-8910-8066860adb53"
      }
     },
     "output_type": "display_data"
    }
   ],
   "source": [
    "# Plot histogram\n",
    "p1 = figure(plot_height=300, title=\"City area\",\n",
    "           x_axis_label='City area bins'+ ' [km' + (u\"\\u00b2]\").encode('utf-8'), y_axis_label='Count [#]')\n",
    "p1.quad(top=list(hist), bottom=0, left=list(range(0,len(bin_edges)))[:-1], right=list(range(0,len(bin_edges)))[1:],\n",
    "       fill_color = \"#0276FD\", line_color = \"#5F5B5B\", alpha=1)\n",
    "\n",
    "p1.xaxis.ticker = list(range(0,len(bin_edges)))\n",
    "p1.xaxis.major_label_orientation = 3.14/4\n",
    "p1.xaxis.major_label_overrides = {el:\"{:,}\".format((bin_edges[el]/100)) if (bin_edges[el]/100) < 1 else \"{:,}\".format(int(bin_edges[el]/100)) for el in range(0,len(bin_edges))}\n",
    "p1.title.text_font_size = '12pt'\n",
    "p1.title.text_color = \"#0276FD\"\n",
    "p1.title.text_font = \"verdana\"\n",
    "p1.yaxis.axis_label_text_font = \"verdana\"\n",
    "p1.yaxis.axis_label_text_font_style = \"normal\"\n",
    "p1.xaxis.axis_label_text_font = \"verdana\"\n",
    "p1.xaxis.axis_label_text_font_style = \"normal\"\n",
    "p1.xaxis.major_label_text_font = \"verdana\"\n",
    "p1.yaxis.major_label_text_font = \"verdana\"\n",
    "\n",
    "show(p1)"
   ]
  },
  {
   "cell_type": "markdown",
   "metadata": {},
   "source": [
    "### 3.3.2. Population cumulative distribution"
   ]
  },
  {
   "cell_type": "code",
   "execution_count": 12,
   "metadata": {},
   "outputs": [
    {
     "data": {
      "text/html": [
       "\n",
       "\n",
       "\n",
       "\n",
       "\n",
       "\n",
       "  <div class=\"bk-root\" id=\"ba5e1f55-594a-40e0-b523-b476f94a273d\"></div>\n"
      ]
     },
     "metadata": {},
     "output_type": "display_data"
    },
    {
     "data": {
      "application/javascript": [
       "(function(root) {\n",
       "  function embed_document(root) {\n",
       "    \n",
       "  var docs_json = {\"79f7f59e-269d-4a37-a8ce-dbcb4392068a\":{\"roots\":{\"references\":[{\"attributes\":{\"callback\":null,\"data\":{\"x\":[0,1,2,3,4,5,6,7,8,9,10,11,12,13,14,15,16,17,18,19,20,21,22,23,24],\"y\":[0,0.002898550724637681,0.002898550724637681,0.002898550724637681,0.002898550724637681,0.002898550724637681,0.005797101449275362,0.02318840579710145,0.04927536231884058,0.07536231884057971,0.09855072463768116,0.13043478260869565,0.17681159420289855,0.21739130434782608,0.26956521739130435,0.6318840579710145,0.8202898550724638,0.9101449275362319,0.9565217391304348,0.9768115942028985,0.9855072463768116,0.9942028985507246,0.9942028985507246,0.9971014492753624,1.0]},\"selected\":{\"id\":\"2abb4c51-6d89-4ada-84d5-6b495ada8e57\",\"type\":\"Selection\"},\"selection_policy\":{\"id\":\"8518bf9f-3741-41e8-868a-7133a47993b4\",\"type\":\"UnionRenderers\"}},\"id\":\"bebb2bd3-07aa-4393-85c9-5425dac63153\",\"type\":\"ColumnDataSource\"},{\"attributes\":{},\"id\":\"6cbfb8b2-e79f-4d68-b575-2ff56f73744a\",\"type\":\"ResetTool\"},{\"attributes\":{\"ticks\":[0,1,2,3,4,5,6,7,8,9,10,11,12,13,14,15,16,17,18,19,20,21,22,23,24]},\"id\":\"1c6f11b7-f0d0-498b-bd9e-4283331533ad\",\"type\":\"FixedTicker\"},{\"attributes\":{},\"id\":\"27c81a25-5ef3-4b9b-8ac0-70c3c7b9a685\",\"type\":\"PanTool\"},{\"attributes\":{\"line_color\":{\"value\":\"#0276FD\"},\"line_width\":{\"value\":2},\"x\":{\"field\":\"x\"},\"y\":{\"field\":\"y\"}},\"id\":\"21f8b1d1-4baf-4ca3-8034-9d8ae258d9cd\",\"type\":\"Step\"},{\"attributes\":{},\"id\":\"331ad024-74ca-41b3-a6de-5c74b551d46a\",\"type\":\"LinearScale\"},{\"attributes\":{\"source\":{\"id\":\"bebb2bd3-07aa-4393-85c9-5425dac63153\",\"type\":\"ColumnDataSource\"}},\"id\":\"7ab9b4f2-5cc8-4c9e-a668-fe95e50507e7\",\"type\":\"CDSView\"},{\"attributes\":{\"bottom_units\":\"screen\",\"fill_alpha\":{\"value\":0.5},\"fill_color\":{\"value\":\"lightgrey\"},\"left_units\":\"screen\",\"level\":\"overlay\",\"line_alpha\":{\"value\":1.0},\"line_color\":{\"value\":\"black\"},\"line_dash\":[4,4],\"line_width\":{\"value\":2},\"plot\":null,\"render_mode\":\"css\",\"right_units\":\"screen\",\"top_units\":\"screen\"},\"id\":\"40fbee9f-3b1b-435e-a3fd-a0457a1a8ae8\",\"type\":\"BoxAnnotation\"},{\"attributes\":{},\"id\":\"77ef513b-337d-418a-b157-ffaf14e314ca\",\"type\":\"WheelZoomTool\"},{\"attributes\":{\"active_drag\":\"auto\",\"active_inspect\":\"auto\",\"active_multi\":null,\"active_scroll\":\"auto\",\"active_tap\":\"auto\",\"tools\":[{\"id\":\"27c81a25-5ef3-4b9b-8ac0-70c3c7b9a685\",\"type\":\"PanTool\"},{\"id\":\"77ef513b-337d-418a-b157-ffaf14e314ca\",\"type\":\"WheelZoomTool\"},{\"id\":\"a8f06a37-8ba6-4cc3-8790-963867d415a4\",\"type\":\"BoxZoomTool\"},{\"id\":\"3beb433b-7409-41db-b663-eafd5f5b0f27\",\"type\":\"SaveTool\"},{\"id\":\"6cbfb8b2-e79f-4d68-b575-2ff56f73744a\",\"type\":\"ResetTool\"},{\"id\":\"e11ef77f-8136-4730-9633-8b95e29f969c\",\"type\":\"HelpTool\"}]},\"id\":\"740f9a97-f730-46ca-a4d4-8cf085bb1f46\",\"type\":\"Toolbar\"},{\"attributes\":{},\"id\":\"8ae132f0-6d65-4ddd-8f65-ed5c6b5e2e91\",\"type\":\"BasicTickFormatter\"},{\"attributes\":{},\"id\":\"f8fa62e0-889c-4ba4-a47b-fe8f7827c503\",\"type\":\"BasicTicker\"},{\"attributes\":{\"below\":[{\"id\":\"10744f0b-c8eb-44e9-9057-d9cea257a924\",\"type\":\"LinearAxis\"}],\"left\":[{\"id\":\"41def598-298f-4087-ac1a-f8f0faecdbd4\",\"type\":\"LinearAxis\"}],\"plot_height\":300,\"renderers\":[{\"id\":\"10744f0b-c8eb-44e9-9057-d9cea257a924\",\"type\":\"LinearAxis\"},{\"id\":\"5f7ccf06-0274-4485-a2a0-6e37e1049cc3\",\"type\":\"Grid\"},{\"id\":\"41def598-298f-4087-ac1a-f8f0faecdbd4\",\"type\":\"LinearAxis\"},{\"id\":\"f9fc65e0-8178-40ae-90e2-9d2025995189\",\"type\":\"Grid\"},{\"id\":\"40fbee9f-3b1b-435e-a3fd-a0457a1a8ae8\",\"type\":\"BoxAnnotation\"},{\"id\":\"73d19f1d-fb9b-440a-8def-5db2e7388b92\",\"type\":\"GlyphRenderer\"}],\"title\":{\"id\":\"d3e7407b-31fa-4d7a-8750-1dc8637081e5\",\"type\":\"Title\"},\"toolbar\":{\"id\":\"740f9a97-f730-46ca-a4d4-8cf085bb1f46\",\"type\":\"Toolbar\"},\"x_range\":{\"id\":\"5e508a8b-b570-4171-9ee4-054815f55ba6\",\"type\":\"DataRange1d\"},\"x_scale\":{\"id\":\"eefa0deb-81a8-4de4-bd2e-9916412fdc1d\",\"type\":\"LinearScale\"},\"y_range\":{\"id\":\"bc67f611-fdb3-47d5-b9a3-d502ab2b6af3\",\"type\":\"DataRange1d\"},\"y_scale\":{\"id\":\"331ad024-74ca-41b3-a6de-5c74b551d46a\",\"type\":\"LinearScale\"}},\"id\":\"371b25aa-65ec-43a4-848d-007d893bf242\",\"subtype\":\"Figure\",\"type\":\"Plot\"},{\"attributes\":{\"data_source\":{\"id\":\"bebb2bd3-07aa-4393-85c9-5425dac63153\",\"type\":\"ColumnDataSource\"},\"glyph\":{\"id\":\"21f8b1d1-4baf-4ca3-8034-9d8ae258d9cd\",\"type\":\"Step\"},\"hover_glyph\":null,\"muted_glyph\":null,\"nonselection_glyph\":{\"id\":\"d378ab9a-c35c-498a-ab4e-5b394b0d56a4\",\"type\":\"Step\"},\"selection_glyph\":null,\"view\":{\"id\":\"7ab9b4f2-5cc8-4c9e-a668-fe95e50507e7\",\"type\":\"CDSView\"}},\"id\":\"73d19f1d-fb9b-440a-8def-5db2e7388b92\",\"type\":\"GlyphRenderer\"},{\"attributes\":{\"callback\":null},\"id\":\"bc67f611-fdb3-47d5-b9a3-d502ab2b6af3\",\"type\":\"DataRange1d\"},{\"attributes\":{},\"id\":\"3beb433b-7409-41db-b663-eafd5f5b0f27\",\"type\":\"SaveTool\"},{\"attributes\":{},\"id\":\"e11ef77f-8136-4730-9633-8b95e29f969c\",\"type\":\"HelpTool\"},{\"attributes\":{},\"id\":\"f3c9fe98-b384-4240-8fc1-a7e08ed00cdd\",\"type\":\"BasicTicker\"},{\"attributes\":{},\"id\":\"eefa0deb-81a8-4de4-bd2e-9916412fdc1d\",\"type\":\"LinearScale\"},{\"attributes\":{\"axis_label\":\"City area bins [km\\u00b2]\",\"axis_label_text_font\":\"verdana\",\"axis_label_text_font_style\":\"normal\",\"formatter\":{\"id\":\"58924e1d-6381-4309-9b8c-2b68ae2be997\",\"type\":\"BasicTickFormatter\"},\"major_label_orientation\":0.785,\"major_label_overrides\":{\"0\":\"0.5\",\"1\":\"0.6\",\"10\":\"6\",\"11\":\"7\",\"12\":\"8\",\"13\":\"9\",\"14\":\"10\",\"15\":\"20\",\"16\":\"30\",\"17\":\"40\",\"18\":\"50\",\"19\":\"60\",\"2\":\"0.7\",\"20\":\"70\",\"21\":\"80\",\"22\":\"90\",\"23\":\"100\",\"24\":\"200\",\"3\":\"0.8\",\"4\":\"0.9\",\"5\":\"1\",\"6\":\"2\",\"7\":\"3\",\"8\":\"4\",\"9\":\"5\"},\"major_label_text_font\":\"verdana\",\"plot\":{\"id\":\"371b25aa-65ec-43a4-848d-007d893bf242\",\"subtype\":\"Figure\",\"type\":\"Plot\"},\"ticker\":{\"id\":\"1c6f11b7-f0d0-498b-bd9e-4283331533ad\",\"type\":\"FixedTicker\"}},\"id\":\"10744f0b-c8eb-44e9-9057-d9cea257a924\",\"type\":\"LinearAxis\"},{\"attributes\":{\"callback\":null},\"id\":\"5e508a8b-b570-4171-9ee4-054815f55ba6\",\"type\":\"DataRange1d\"},{\"attributes\":{\"plot\":null,\"text\":\"City area distribution\",\"text_color\":{\"value\":\"#0276FD\"},\"text_font\":\"verdana\",\"text_font_size\":{\"value\":\"12pt\"}},\"id\":\"d3e7407b-31fa-4d7a-8750-1dc8637081e5\",\"type\":\"Title\"},{\"attributes\":{\"axis_label\":\"Percentile [%ile]\",\"axis_label_text_font\":\"verdana\",\"axis_label_text_font_style\":\"normal\",\"formatter\":{\"id\":\"8ae132f0-6d65-4ddd-8f65-ed5c6b5e2e91\",\"type\":\"BasicTickFormatter\"},\"major_label_text_font\":\"verdana\",\"plot\":{\"id\":\"371b25aa-65ec-43a4-848d-007d893bf242\",\"subtype\":\"Figure\",\"type\":\"Plot\"},\"ticker\":{\"id\":\"f3c9fe98-b384-4240-8fc1-a7e08ed00cdd\",\"type\":\"BasicTicker\"}},\"id\":\"41def598-298f-4087-ac1a-f8f0faecdbd4\",\"type\":\"LinearAxis\"},{\"attributes\":{},\"id\":\"2abb4c51-6d89-4ada-84d5-6b495ada8e57\",\"type\":\"Selection\"},{\"attributes\":{},\"id\":\"58924e1d-6381-4309-9b8c-2b68ae2be997\",\"type\":\"BasicTickFormatter\"},{\"attributes\":{\"overlay\":{\"id\":\"40fbee9f-3b1b-435e-a3fd-a0457a1a8ae8\",\"type\":\"BoxAnnotation\"}},\"id\":\"a8f06a37-8ba6-4cc3-8790-963867d415a4\",\"type\":\"BoxZoomTool\"},{\"attributes\":{\"line_alpha\":{\"value\":0.1},\"line_color\":{\"value\":\"#1f77b4\"},\"line_width\":{\"value\":2},\"x\":{\"field\":\"x\"},\"y\":{\"field\":\"y\"}},\"id\":\"d378ab9a-c35c-498a-ab4e-5b394b0d56a4\",\"type\":\"Step\"},{\"attributes\":{},\"id\":\"8518bf9f-3741-41e8-868a-7133a47993b4\",\"type\":\"UnionRenderers\"},{\"attributes\":{\"plot\":{\"id\":\"371b25aa-65ec-43a4-848d-007d893bf242\",\"subtype\":\"Figure\",\"type\":\"Plot\"},\"ticker\":{\"id\":\"f8fa62e0-889c-4ba4-a47b-fe8f7827c503\",\"type\":\"BasicTicker\"}},\"id\":\"5f7ccf06-0274-4485-a2a0-6e37e1049cc3\",\"type\":\"Grid\"},{\"attributes\":{\"dimension\":1,\"plot\":{\"id\":\"371b25aa-65ec-43a4-848d-007d893bf242\",\"subtype\":\"Figure\",\"type\":\"Plot\"},\"ticker\":{\"id\":\"f3c9fe98-b384-4240-8fc1-a7e08ed00cdd\",\"type\":\"BasicTicker\"}},\"id\":\"f9fc65e0-8178-40ae-90e2-9d2025995189\",\"type\":\"Grid\"}],\"root_ids\":[\"371b25aa-65ec-43a4-848d-007d893bf242\"]},\"title\":\"Bokeh Application\",\"version\":\"0.13.0\"}};\n",
       "  var render_items = [{\"docid\":\"79f7f59e-269d-4a37-a8ce-dbcb4392068a\",\"roots\":{\"371b25aa-65ec-43a4-848d-007d893bf242\":\"ba5e1f55-594a-40e0-b523-b476f94a273d\"}}];\n",
       "  root.Bokeh.embed.embed_items_notebook(docs_json, render_items);\n",
       "\n",
       "  }\n",
       "  if (root.Bokeh !== undefined) {\n",
       "    embed_document(root);\n",
       "  } else {\n",
       "    var attempts = 0;\n",
       "    var timer = setInterval(function(root) {\n",
       "      if (root.Bokeh !== undefined) {\n",
       "        embed_document(root);\n",
       "        clearInterval(timer);\n",
       "      }\n",
       "      attempts++;\n",
       "      if (attempts > 100) {\n",
       "        console.log(\"Bokeh: ERROR: Unable to run BokehJS code because BokehJS library is missing\")\n",
       "        clearInterval(timer);\n",
       "      }\n",
       "    }, 10, root)\n",
       "  }\n",
       "})(window);"
      ],
      "application/vnd.bokehjs_exec.v0+json": ""
     },
     "metadata": {
      "application/vnd.bokehjs_exec.v0+json": {
       "id": "371b25aa-65ec-43a4-848d-007d893bf242"
      }
     },
     "output_type": "display_data"
    }
   ],
   "source": [
    "#Plot cumulative distribution\n",
    "p2 = figure(plot_height=300, title=\"City area distribution\",\n",
    "           x_axis_label='City area bins'+ ' [km' + (u\"\\u00b2]\").encode('utf-8'), y_axis_label='Percentile [%ile]')\n",
    "p2.step(list(range(0,len(bin_edges))),[0]+[list(np.cumsum(hist))[x]/NumberOfCity for x in range(0,len(hist))],\n",
    "       line_color=\"#0276FD\",line_width=2)\n",
    "\n",
    "p2.xaxis.ticker = list(range(0,len(bin_edges)))\n",
    "p2.xaxis.major_label_orientation = 3.14/4\n",
    "p2.xaxis.major_label_overrides = {el:\"{:,}\".format((bin_edges[el]/100)) if (bin_edges[el]/100) < 1 else \"{:,}\".format(int(bin_edges[el]/100)) for el in range(0,len(bin_edges))}\n",
    "\n",
    "p2.title.text_font_size = '12pt'\n",
    "p2.title.text_color = \"#0276FD\"\n",
    "p2.title.text_font = \"verdana\"\n",
    "p2.yaxis.axis_label_text_font = \"verdana\"\n",
    "p2.yaxis.axis_label_text_font_style = \"normal\"\n",
    "p2.xaxis.axis_label_text_font = \"verdana\"\n",
    "p2.xaxis.axis_label_text_font_style = \"normal\"\n",
    "p2.xaxis.major_label_text_font = \"verdana\"\n",
    "p2.yaxis.major_label_text_font = \"verdana\"\n",
    "\n",
    "show(p2)"
   ]
  },
  {
   "cell_type": "markdown",
   "metadata": {},
   "source": [
    "## 3.4. Population density analysis"
   ]
  },
  {
   "cell_type": "code",
   "execution_count": 13,
   "metadata": {},
   "outputs": [
    {
     "name": "stdout",
     "output_type": "stream",
     "text": [
      "Densité totale: 149 pop/km²\n",
      "Densité moyenne: 155 pop/km²\n",
      "Densité mediane: 74 pop/km²\n",
      "Densité la plus faible: 14 pop/km²\n",
      "Densité la plus élevée: 4,195 pop/km²\n"
     ]
    }
   ],
   "source": [
    "#Statistics about area\n",
    "TotalDensity = int(TotalPopulation/TotalArea) # pop/km2\n",
    "AverageDensity = int(np.mean(AllDensityList)) # Densité moyenne \n",
    "MedianDensity = int(np.median(AllDensityList)) # Densité mediane\n",
    "MinDensity = int(np.min(AllDensityList)) # Densité la plus faible\n",
    "MaxDensity = int(np.max(AllDensityList)) # Densité la plus élevée\n",
    "\n",
    "print 'Densité totale: ' + \"{:,}\".format(TotalDensity) + ' pop/km' + (u\"\\u00b2\").encode('utf-8') \n",
    "print 'Densité moyenne: '+ \"{:,}\".format(AverageDensity) + ' pop/km' + (u\"\\u00b2\").encode('utf-8') \n",
    "print 'Densité mediane: '+ \"{:,}\".format(MedianDensity) + ' pop/km' + (u\"\\u00b2\").encode('utf-8') \n",
    "print 'Densité la plus faible: '+ \"{:,}\".format(MinDensity) + ' pop/km' + (u\"\\u00b2\").encode('utf-8') #+ ' (' + str(list(mydb[CollectionName].find({'surface': MinDensity},{'nom':1,'_id':0}))[0]['nom'].encode('utf-8')) + ')'\n",
    "print 'Densité la plus élevée: '+ \"{:,}\".format(MaxDensity) + ' pop/km' + (u\"\\u00b2\").encode('utf-8') # + ' (' + str(list(mydb[CollectionName].find({'surface': MaxDensity},{'nom':1,'_id':0}))[0]['nom'].encode('utf-8')) + ')'"
   ]
  },
  {
   "cell_type": "markdown",
   "metadata": {},
   "source": [
    "### 3.4.1 Population density histogram"
   ]
  },
  {
   "cell_type": "code",
   "execution_count": 14,
   "metadata": {
    "collapsed": true
   },
   "outputs": [],
   "source": [
    "# Prepare the data for plot\n",
    "start = Fcn_BasicStatisticalAnalysisOfPopulation.DefineMinMaxLog(MinDensity,'Min')\n",
    "stop = Fcn_BasicStatisticalAnalysisOfPopulation.DefineMinMaxLog(MaxDensity,'Max')\n",
    "bins = Fcn_BasicStatisticalAnalysisOfPopulation.CreateLogBin(start,stop)\n",
    "hist, bin_edges = np.histogram(AllDensityList, bins=bins)\n",
    "\n",
    "# Remove the first and last value when hist is 0 - Comment out this line to show forall log scale\n",
    "hist, bin_edges = Fcn_BasicStatisticalAnalysisOfPopulation.RemoveLastFirstValuesWhenZero(hist, bin_edges)"
   ]
  },
  {
   "cell_type": "code",
   "execution_count": 15,
   "metadata": {},
   "outputs": [
    {
     "data": {
      "text/html": [
       "\n",
       "\n",
       "\n",
       "\n",
       "\n",
       "\n",
       "  <div class=\"bk-root\" id=\"ce934a41-5404-4aea-9739-83a6fe936878\"></div>\n"
      ]
     },
     "metadata": {},
     "output_type": "display_data"
    },
    {
     "data": {
      "application/javascript": [
       "(function(root) {\n",
       "  function embed_document(root) {\n",
       "    \n",
       "  var docs_json = {\"0c9d76f3-7957-4123-b431-278579e1fabe\":{\"roots\":{\"references\":[{\"attributes\":{},\"id\":\"6d62c365-1abf-4320-a987-9a239d28733e\",\"type\":\"PanTool\"},{\"attributes\":{},\"id\":\"acf4e09f-c3e8-44ba-8dce-33eeee3812e9\",\"type\":\"SaveTool\"},{\"attributes\":{\"source\":{\"id\":\"01b4202c-083b-4f77-8752-4fc154b82904\",\"type\":\"ColumnDataSource\"}},\"id\":\"40702868-28b8-44c7-8523-6ffc17c7b992\",\"type\":\"CDSView\"},{\"attributes\":{\"data_source\":{\"id\":\"01b4202c-083b-4f77-8752-4fc154b82904\",\"type\":\"ColumnDataSource\"},\"glyph\":{\"id\":\"d69fd5ab-9205-4a46-92f1-716a26aad628\",\"type\":\"Quad\"},\"hover_glyph\":null,\"muted_glyph\":null,\"nonselection_glyph\":{\"id\":\"df2ef0cb-4a92-42e3-87ac-89692c60c5cb\",\"type\":\"Quad\"},\"selection_glyph\":null,\"view\":{\"id\":\"40702868-28b8-44c7-8523-6ffc17c7b992\",\"type\":\"CDSView\"}},\"id\":\"860adaa6-82f0-413c-b400-71700535387f\",\"type\":\"GlyphRenderer\"},{\"attributes\":{\"callback\":null},\"id\":\"9676b0f8-d835-4c86-af5f-7f00e9d77129\",\"type\":\"DataRange1d\"},{\"attributes\":{},\"id\":\"fcce32a9-6339-4f42-909e-215d78186d2b\",\"type\":\"LinearScale\"},{\"attributes\":{\"axis_label\":\"Count [#]\",\"axis_label_text_font\":\"verdana\",\"axis_label_text_font_style\":\"normal\",\"formatter\":{\"id\":\"7b220ad8-bc71-4ad1-b43f-cd69a852dc72\",\"type\":\"BasicTickFormatter\"},\"major_label_text_font\":\"verdana\",\"plot\":{\"id\":\"4956f71f-089e-4d44-b521-a090e3522475\",\"subtype\":\"Figure\",\"type\":\"Plot\"},\"ticker\":{\"id\":\"11fb1c08-2dab-49fa-9757-6b10fe30019a\",\"type\":\"BasicTicker\"}},\"id\":\"6f2cdf77-21ec-4d6f-bd77-1cf11c22f28b\",\"type\":\"LinearAxis\"},{\"attributes\":{},\"id\":\"4f244a52-ce25-4363-91d3-f5a978aa80df\",\"type\":\"HelpTool\"},{\"attributes\":{},\"id\":\"3b7b1545-7dfd-4296-b458-81e6c49732bc\",\"type\":\"LinearScale\"},{\"attributes\":{\"callback\":null,\"data\":{\"left\":[0,1,2,3,4,5,6,7,8,9,10,11,12,13,14,15,16,17,18,19,20,21],\"right\":[1,2,3,4,5,6,7,8,9,10,11,12,13,14,15,16,17,18,19,20,21,22],\"top\":[1,10,33,46,34,38,26,17,13,63,29,11,5,7,2,2,1,1,5,0,0,1]},\"selected\":{\"id\":\"ede01c39-3887-435f-845f-70a900613486\",\"type\":\"Selection\"},\"selection_policy\":{\"id\":\"676d5f9f-d10e-4b2d-992c-7f6e7aa9da3c\",\"type\":\"UnionRenderers\"}},\"id\":\"01b4202c-083b-4f77-8752-4fc154b82904\",\"type\":\"ColumnDataSource\"},{\"attributes\":{},\"id\":\"c19b6591-2fac-4f98-800c-14b4b6a6b744\",\"type\":\"WheelZoomTool\"},{\"attributes\":{\"below\":[{\"id\":\"ee06a0f7-b7b6-44c5-a5fb-7eea30c99b4e\",\"type\":\"LinearAxis\"}],\"left\":[{\"id\":\"6f2cdf77-21ec-4d6f-bd77-1cf11c22f28b\",\"type\":\"LinearAxis\"}],\"plot_height\":300,\"renderers\":[{\"id\":\"ee06a0f7-b7b6-44c5-a5fb-7eea30c99b4e\",\"type\":\"LinearAxis\"},{\"id\":\"c6cb4921-3dcd-4981-a087-f8028d62a534\",\"type\":\"Grid\"},{\"id\":\"6f2cdf77-21ec-4d6f-bd77-1cf11c22f28b\",\"type\":\"LinearAxis\"},{\"id\":\"7f4c08f5-b817-4c49-b1c1-b7c690460aa9\",\"type\":\"Grid\"},{\"id\":\"2d95515c-7364-4edb-aec4-cfb7802300dd\",\"type\":\"BoxAnnotation\"},{\"id\":\"860adaa6-82f0-413c-b400-71700535387f\",\"type\":\"GlyphRenderer\"}],\"title\":{\"id\":\"10b463bb-359e-42f6-9cca-1f796826cda1\",\"type\":\"Title\"},\"toolbar\":{\"id\":\"12a8ce33-d527-4f1b-961b-73cdd971cc33\",\"type\":\"Toolbar\"},\"x_range\":{\"id\":\"9676b0f8-d835-4c86-af5f-7f00e9d77129\",\"type\":\"DataRange1d\"},\"x_scale\":{\"id\":\"3b7b1545-7dfd-4296-b458-81e6c49732bc\",\"type\":\"LinearScale\"},\"y_range\":{\"id\":\"2173971c-ea2f-4e73-9441-adc27079705d\",\"type\":\"DataRange1d\"},\"y_scale\":{\"id\":\"fcce32a9-6339-4f42-909e-215d78186d2b\",\"type\":\"LinearScale\"}},\"id\":\"4956f71f-089e-4d44-b521-a090e3522475\",\"subtype\":\"Figure\",\"type\":\"Plot\"},{\"attributes\":{},\"id\":\"676d5f9f-d10e-4b2d-992c-7f6e7aa9da3c\",\"type\":\"UnionRenderers\"},{\"attributes\":{\"overlay\":{\"id\":\"2d95515c-7364-4edb-aec4-cfb7802300dd\",\"type\":\"BoxAnnotation\"}},\"id\":\"1f78f8b0-0fd7-40a5-9139-fa16115f3fb5\",\"type\":\"BoxZoomTool\"},{\"attributes\":{},\"id\":\"ede01c39-3887-435f-845f-70a900613486\",\"type\":\"Selection\"},{\"attributes\":{},\"id\":\"11fb1c08-2dab-49fa-9757-6b10fe30019a\",\"type\":\"BasicTicker\"},{\"attributes\":{\"bottom_units\":\"screen\",\"fill_alpha\":{\"value\":0.5},\"fill_color\":{\"value\":\"lightgrey\"},\"left_units\":\"screen\",\"level\":\"overlay\",\"line_alpha\":{\"value\":1.0},\"line_color\":{\"value\":\"black\"},\"line_dash\":[4,4],\"line_width\":{\"value\":2},\"plot\":null,\"render_mode\":\"css\",\"right_units\":\"screen\",\"top_units\":\"screen\"},\"id\":\"2d95515c-7364-4edb-aec4-cfb7802300dd\",\"type\":\"BoxAnnotation\"},{\"attributes\":{},\"id\":\"7b220ad8-bc71-4ad1-b43f-cd69a852dc72\",\"type\":\"BasicTickFormatter\"},{\"attributes\":{\"bottom\":{\"value\":0},\"fill_color\":{\"value\":\"#0276FD\"},\"left\":{\"field\":\"left\"},\"line_color\":{\"value\":\"#5F5B5B\"},\"right\":{\"field\":\"right\"},\"top\":{\"field\":\"top\"}},\"id\":\"d69fd5ab-9205-4a46-92f1-716a26aad628\",\"type\":\"Quad\"},{\"attributes\":{\"bottom\":{\"value\":0},\"fill_alpha\":{\"value\":0.1},\"fill_color\":{\"value\":\"#1f77b4\"},\"left\":{\"field\":\"left\"},\"line_alpha\":{\"value\":0.1},\"line_color\":{\"value\":\"#1f77b4\"},\"right\":{\"field\":\"right\"},\"top\":{\"field\":\"top\"}},\"id\":\"df2ef0cb-4a92-42e3-87ac-89692c60c5cb\",\"type\":\"Quad\"},{\"attributes\":{\"dimension\":1,\"plot\":{\"id\":\"4956f71f-089e-4d44-b521-a090e3522475\",\"subtype\":\"Figure\",\"type\":\"Plot\"},\"ticker\":{\"id\":\"11fb1c08-2dab-49fa-9757-6b10fe30019a\",\"type\":\"BasicTicker\"}},\"id\":\"7f4c08f5-b817-4c49-b1c1-b7c690460aa9\",\"type\":\"Grid\"},{\"attributes\":{},\"id\":\"8c71d570-3398-4816-abaf-85b73c0881c2\",\"type\":\"BasicTickFormatter\"},{\"attributes\":{},\"id\":\"1d79838c-2024-46ec-8a03-67e1b6060af3\",\"type\":\"ResetTool\"},{\"attributes\":{\"plot\":{\"id\":\"4956f71f-089e-4d44-b521-a090e3522475\",\"subtype\":\"Figure\",\"type\":\"Plot\"},\"ticker\":{\"id\":\"03a9d804-66e3-45f9-9946-b3b63b8ec379\",\"type\":\"BasicTicker\"}},\"id\":\"c6cb4921-3dcd-4981-a087-f8028d62a534\",\"type\":\"Grid\"},{\"attributes\":{\"axis_label\":\"City population density bins [pop/km\\u00b2]\",\"axis_label_text_font\":\"verdana\",\"axis_label_text_font_style\":\"normal\",\"formatter\":{\"id\":\"8c71d570-3398-4816-abaf-85b73c0881c2\",\"type\":\"BasicTickFormatter\"},\"major_label_orientation\":0.785,\"major_label_overrides\":{\"0\":\"10\",\"1\":\"20\",\"10\":\"200\",\"11\":\"300\",\"12\":\"400\",\"13\":\"500\",\"14\":\"600\",\"15\":\"700\",\"16\":\"800\",\"17\":\"900\",\"18\":\"1,000\",\"19\":\"2,000\",\"2\":\"30\",\"20\":\"3,000\",\"21\":\"4,000\",\"22\":\"5,000\",\"3\":\"40\",\"4\":\"50\",\"5\":\"60\",\"6\":\"70\",\"7\":\"80\",\"8\":\"90\",\"9\":\"100\"},\"major_label_text_font\":\"verdana\",\"plot\":{\"id\":\"4956f71f-089e-4d44-b521-a090e3522475\",\"subtype\":\"Figure\",\"type\":\"Plot\"},\"ticker\":{\"id\":\"969e46f9-a45e-4cfa-af63-0131160e021d\",\"type\":\"FixedTicker\"}},\"id\":\"ee06a0f7-b7b6-44c5-a5fb-7eea30c99b4e\",\"type\":\"LinearAxis\"},{\"attributes\":{\"ticks\":[0,1,2,3,4,5,6,7,8,9,10,11,12,13,14,15,16,17,18,19,20,21,22]},\"id\":\"969e46f9-a45e-4cfa-af63-0131160e021d\",\"type\":\"FixedTicker\"},{\"attributes\":{\"callback\":null},\"id\":\"2173971c-ea2f-4e73-9441-adc27079705d\",\"type\":\"DataRange1d\"},{\"attributes\":{},\"id\":\"03a9d804-66e3-45f9-9946-b3b63b8ec379\",\"type\":\"BasicTicker\"},{\"attributes\":{\"plot\":null,\"text\":\"City population density\",\"text_color\":{\"value\":\"#0276FD\"},\"text_font\":\"verdana\",\"text_font_size\":{\"value\":\"12pt\"}},\"id\":\"10b463bb-359e-42f6-9cca-1f796826cda1\",\"type\":\"Title\"},{\"attributes\":{\"active_drag\":\"auto\",\"active_inspect\":\"auto\",\"active_multi\":null,\"active_scroll\":\"auto\",\"active_tap\":\"auto\",\"tools\":[{\"id\":\"6d62c365-1abf-4320-a987-9a239d28733e\",\"type\":\"PanTool\"},{\"id\":\"c19b6591-2fac-4f98-800c-14b4b6a6b744\",\"type\":\"WheelZoomTool\"},{\"id\":\"1f78f8b0-0fd7-40a5-9139-fa16115f3fb5\",\"type\":\"BoxZoomTool\"},{\"id\":\"acf4e09f-c3e8-44ba-8dce-33eeee3812e9\",\"type\":\"SaveTool\"},{\"id\":\"1d79838c-2024-46ec-8a03-67e1b6060af3\",\"type\":\"ResetTool\"},{\"id\":\"4f244a52-ce25-4363-91d3-f5a978aa80df\",\"type\":\"HelpTool\"}]},\"id\":\"12a8ce33-d527-4f1b-961b-73cdd971cc33\",\"type\":\"Toolbar\"}],\"root_ids\":[\"4956f71f-089e-4d44-b521-a090e3522475\"]},\"title\":\"Bokeh Application\",\"version\":\"0.13.0\"}};\n",
       "  var render_items = [{\"docid\":\"0c9d76f3-7957-4123-b431-278579e1fabe\",\"roots\":{\"4956f71f-089e-4d44-b521-a090e3522475\":\"ce934a41-5404-4aea-9739-83a6fe936878\"}}];\n",
       "  root.Bokeh.embed.embed_items_notebook(docs_json, render_items);\n",
       "\n",
       "  }\n",
       "  if (root.Bokeh !== undefined) {\n",
       "    embed_document(root);\n",
       "  } else {\n",
       "    var attempts = 0;\n",
       "    var timer = setInterval(function(root) {\n",
       "      if (root.Bokeh !== undefined) {\n",
       "        embed_document(root);\n",
       "        clearInterval(timer);\n",
       "      }\n",
       "      attempts++;\n",
       "      if (attempts > 100) {\n",
       "        console.log(\"Bokeh: ERROR: Unable to run BokehJS code because BokehJS library is missing\")\n",
       "        clearInterval(timer);\n",
       "      }\n",
       "    }, 10, root)\n",
       "  }\n",
       "})(window);"
      ],
      "application/vnd.bokehjs_exec.v0+json": ""
     },
     "metadata": {
      "application/vnd.bokehjs_exec.v0+json": {
       "id": "4956f71f-089e-4d44-b521-a090e3522475"
      }
     },
     "output_type": "display_data"
    }
   ],
   "source": [
    "# Plot histogram\n",
    "p1 = figure(plot_height=300, title=\"City population density\",\n",
    "           x_axis_label='City population density bins'+ ' [pop/km' + (u\"\\u00b2]\").encode('utf-8'), y_axis_label='Count [#]')\n",
    "p1.quad(top=list(hist), bottom=0, left=list(range(0,len(bin_edges)))[:-1], right=list(range(0,len(bin_edges)))[1:],\n",
    "       fill_color = \"#0276FD\", line_color = \"#5F5B5B\", alpha=1)\n",
    "\n",
    "p1.xaxis.ticker = list(range(0,len(bin_edges)))\n",
    "p1.xaxis.major_label_orientation = 3.14/4\n",
    "p1.xaxis.major_label_overrides = {el:\"{:,}\".format((bin_edges[el])) if (bin_edges[el]) < 1 else \"{:,}\".format(int(bin_edges[el])) for el in range(0,len(bin_edges))}\n",
    "p1.title.text_font_size = '12pt'\n",
    "p1.title.text_color = \"#0276FD\"\n",
    "p1.title.text_font = \"verdana\"\n",
    "p1.yaxis.axis_label_text_font = \"verdana\"\n",
    "p1.yaxis.axis_label_text_font_style = \"normal\"\n",
    "p1.xaxis.axis_label_text_font = \"verdana\"\n",
    "p1.xaxis.axis_label_text_font_style = \"normal\"\n",
    "p1.xaxis.major_label_text_font = \"verdana\"\n",
    "p1.yaxis.major_label_text_font = \"verdana\"\n",
    "\n",
    "show(p1)"
   ]
  },
  {
   "cell_type": "markdown",
   "metadata": {},
   "source": [
    "### 3.4.2 Population density cumulative distribution"
   ]
  },
  {
   "cell_type": "code",
   "execution_count": 16,
   "metadata": {},
   "outputs": [
    {
     "data": {
      "text/html": [
       "\n",
       "\n",
       "\n",
       "\n",
       "\n",
       "\n",
       "  <div class=\"bk-root\" id=\"7c838855-dcc1-4213-9a54-eb6a79d870ce\"></div>\n"
      ]
     },
     "metadata": {},
     "output_type": "display_data"
    },
    {
     "data": {
      "application/javascript": [
       "(function(root) {\n",
       "  function embed_document(root) {\n",
       "    \n",
       "  var docs_json = {\"c233ec7c-186e-47fd-aac2-1a3a2b7d5d3e\":{\"roots\":{\"references\":[{\"attributes\":{},\"id\":\"6815af49-c560-4f01-8287-1182eff50249\",\"type\":\"BasicTicker\"},{\"attributes\":{},\"id\":\"75933f05-62c7-4db2-8140-d1d4dc9d6da3\",\"type\":\"Selection\"},{\"attributes\":{},\"id\":\"f69bc328-9786-4444-bbae-45704628ab10\",\"type\":\"SaveTool\"},{\"attributes\":{\"line_alpha\":{\"value\":0.1},\"line_color\":{\"value\":\"#1f77b4\"},\"line_width\":{\"value\":2},\"x\":{\"field\":\"x\"},\"y\":{\"field\":\"y\"}},\"id\":\"880d3943-cbee-4f36-abcf-37cd26a096cb\",\"type\":\"Step\"},{\"attributes\":{\"dimension\":1,\"plot\":{\"id\":\"5f054a03-2cb8-4cf7-ac17-470debfa539e\",\"subtype\":\"Figure\",\"type\":\"Plot\"},\"ticker\":{\"id\":\"467a7fb4-1a64-4b74-bdeb-66296a11f2c0\",\"type\":\"BasicTicker\"}},\"id\":\"b24157f1-c7f9-4698-91ed-1512fa348e1d\",\"type\":\"Grid\"},{\"attributes\":{\"bottom_units\":\"screen\",\"fill_alpha\":{\"value\":0.5},\"fill_color\":{\"value\":\"lightgrey\"},\"left_units\":\"screen\",\"level\":\"overlay\",\"line_alpha\":{\"value\":1.0},\"line_color\":{\"value\":\"black\"},\"line_dash\":[4,4],\"line_width\":{\"value\":2},\"plot\":null,\"render_mode\":\"css\",\"right_units\":\"screen\",\"top_units\":\"screen\"},\"id\":\"a1ae902d-bcd8-40b8-9f4c-886f247b2993\",\"type\":\"BoxAnnotation\"},{\"attributes\":{},\"id\":\"a1d5215c-27c0-4e2e-94c2-3fb48e4f03a3\",\"type\":\"UnionRenderers\"},{\"attributes\":{\"callback\":null},\"id\":\"355f42f3-8090-45ba-a3fa-f9838c92ee90\",\"type\":\"DataRange1d\"},{\"attributes\":{\"line_color\":{\"value\":\"#0276FD\"},\"line_width\":{\"value\":2},\"x\":{\"field\":\"x\"},\"y\":{\"field\":\"y\"}},\"id\":\"cfa05f95-7330-4cd7-839f-743fceed15d7\",\"type\":\"Step\"},{\"attributes\":{},\"id\":\"467a7fb4-1a64-4b74-bdeb-66296a11f2c0\",\"type\":\"BasicTicker\"},{\"attributes\":{\"callback\":null},\"id\":\"498dfb48-5078-4ce4-9540-bc57727dd880\",\"type\":\"DataRange1d\"},{\"attributes\":{\"overlay\":{\"id\":\"a1ae902d-bcd8-40b8-9f4c-886f247b2993\",\"type\":\"BoxAnnotation\"}},\"id\":\"34a122c9-81b3-4045-b92b-3a922782a882\",\"type\":\"BoxZoomTool\"},{\"attributes\":{\"callback\":null,\"data\":{\"x\":[0,1,2,3,4,5,6,7,8,9,10,11,12,13,14,15,16,17,18,19,20,21,22],\"y\":[0,0.002898550724637681,0.03188405797101449,0.12753623188405797,0.2608695652173913,0.35942028985507246,0.46956521739130436,0.5449275362318841,0.5942028985507246,0.6318840579710145,0.8144927536231884,0.8985507246376812,0.9304347826086956,0.9449275362318841,0.9652173913043478,0.9710144927536232,0.9768115942028985,0.9797101449275363,0.9826086956521739,0.9971014492753624,0.9971014492753624,0.9971014492753624,1.0]},\"selected\":{\"id\":\"75933f05-62c7-4db2-8140-d1d4dc9d6da3\",\"type\":\"Selection\"},\"selection_policy\":{\"id\":\"a1d5215c-27c0-4e2e-94c2-3fb48e4f03a3\",\"type\":\"UnionRenderers\"}},\"id\":\"991b58aa-aa7a-4863-be13-44f822b41ad5\",\"type\":\"ColumnDataSource\"},{\"attributes\":{\"active_drag\":\"auto\",\"active_inspect\":\"auto\",\"active_multi\":null,\"active_scroll\":\"auto\",\"active_tap\":\"auto\",\"tools\":[{\"id\":\"9c2898f5-9ba8-4821-82f9-89c2953c1cbc\",\"type\":\"PanTool\"},{\"id\":\"b558738a-a833-41ec-b971-0dad66e17e20\",\"type\":\"WheelZoomTool\"},{\"id\":\"34a122c9-81b3-4045-b92b-3a922782a882\",\"type\":\"BoxZoomTool\"},{\"id\":\"f69bc328-9786-4444-bbae-45704628ab10\",\"type\":\"SaveTool\"},{\"id\":\"708db448-ca34-4496-927e-7463f5170720\",\"type\":\"ResetTool\"},{\"id\":\"408a1a59-173d-42e5-822e-425d365ee1b4\",\"type\":\"HelpTool\"}]},\"id\":\"fa9858c8-606f-4346-8acf-33d3c62a81dc\",\"type\":\"Toolbar\"},{\"attributes\":{},\"id\":\"84320fd1-a6fb-4965-a3c1-a493721bc1e2\",\"type\":\"LinearScale\"},{\"attributes\":{},\"id\":\"b00f22f5-c294-4fe0-8aff-312b64cf0f3b\",\"type\":\"BasicTickFormatter\"},{\"attributes\":{},\"id\":\"9c2898f5-9ba8-4821-82f9-89c2953c1cbc\",\"type\":\"PanTool\"},{\"attributes\":{},\"id\":\"b558738a-a833-41ec-b971-0dad66e17e20\",\"type\":\"WheelZoomTool\"},{\"attributes\":{\"axis_label\":\"City population density bins [pop/km\\u00b2]\",\"axis_label_text_font\":\"verdana\",\"axis_label_text_font_style\":\"normal\",\"formatter\":{\"id\":\"805e7738-60d1-42c3-91c6-a67870924144\",\"type\":\"BasicTickFormatter\"},\"major_label_orientation\":0.785,\"major_label_overrides\":{\"0\":\"10\",\"1\":\"20\",\"10\":\"200\",\"11\":\"300\",\"12\":\"400\",\"13\":\"500\",\"14\":\"600\",\"15\":\"700\",\"16\":\"800\",\"17\":\"900\",\"18\":\"1,000\",\"19\":\"2,000\",\"2\":\"30\",\"20\":\"3,000\",\"21\":\"4,000\",\"22\":\"5,000\",\"3\":\"40\",\"4\":\"50\",\"5\":\"60\",\"6\":\"70\",\"7\":\"80\",\"8\":\"90\",\"9\":\"100\"},\"major_label_text_font\":\"verdana\",\"plot\":{\"id\":\"5f054a03-2cb8-4cf7-ac17-470debfa539e\",\"subtype\":\"Figure\",\"type\":\"Plot\"},\"ticker\":{\"id\":\"174b56a7-228e-42f3-a171-79c29b05ca6e\",\"type\":\"FixedTicker\"}},\"id\":\"23389903-118f-4ade-ac21-bf040aff6906\",\"type\":\"LinearAxis\"},{\"attributes\":{},\"id\":\"805e7738-60d1-42c3-91c6-a67870924144\",\"type\":\"BasicTickFormatter\"},{\"attributes\":{\"axis_label\":\"Percentile [%ile]\",\"axis_label_text_font\":\"verdana\",\"axis_label_text_font_style\":\"normal\",\"formatter\":{\"id\":\"b00f22f5-c294-4fe0-8aff-312b64cf0f3b\",\"type\":\"BasicTickFormatter\"},\"major_label_text_font\":\"verdana\",\"plot\":{\"id\":\"5f054a03-2cb8-4cf7-ac17-470debfa539e\",\"subtype\":\"Figure\",\"type\":\"Plot\"},\"ticker\":{\"id\":\"467a7fb4-1a64-4b74-bdeb-66296a11f2c0\",\"type\":\"BasicTicker\"}},\"id\":\"6f1d14e4-9b32-4fc2-b727-08e2df976672\",\"type\":\"LinearAxis\"},{\"attributes\":{},\"id\":\"29ea4037-6f00-424c-b518-4c213b644065\",\"type\":\"LinearScale\"},{\"attributes\":{\"ticks\":[0,1,2,3,4,5,6,7,8,9,10,11,12,13,14,15,16,17,18,19,20,21,22]},\"id\":\"174b56a7-228e-42f3-a171-79c29b05ca6e\",\"type\":\"FixedTicker\"},{\"attributes\":{\"plot\":{\"id\":\"5f054a03-2cb8-4cf7-ac17-470debfa539e\",\"subtype\":\"Figure\",\"type\":\"Plot\"},\"ticker\":{\"id\":\"6815af49-c560-4f01-8287-1182eff50249\",\"type\":\"BasicTicker\"}},\"id\":\"ef676f6a-b5ae-42fc-9aa4-4da729fc79cb\",\"type\":\"Grid\"},{\"attributes\":{\"source\":{\"id\":\"991b58aa-aa7a-4863-be13-44f822b41ad5\",\"type\":\"ColumnDataSource\"}},\"id\":\"b6abd648-18a3-40f2-b7a2-613daddf5562\",\"type\":\"CDSView\"},{\"attributes\":{},\"id\":\"708db448-ca34-4496-927e-7463f5170720\",\"type\":\"ResetTool\"},{\"attributes\":{\"plot\":null,\"text\":\"City population density distribution\",\"text_color\":{\"value\":\"#0276FD\"},\"text_font\":\"verdana\",\"text_font_size\":{\"value\":\"12pt\"}},\"id\":\"bfdb6477-976b-4a0f-a33b-7937d000cbed\",\"type\":\"Title\"},{\"attributes\":{\"below\":[{\"id\":\"23389903-118f-4ade-ac21-bf040aff6906\",\"type\":\"LinearAxis\"}],\"left\":[{\"id\":\"6f1d14e4-9b32-4fc2-b727-08e2df976672\",\"type\":\"LinearAxis\"}],\"plot_height\":300,\"renderers\":[{\"id\":\"23389903-118f-4ade-ac21-bf040aff6906\",\"type\":\"LinearAxis\"},{\"id\":\"ef676f6a-b5ae-42fc-9aa4-4da729fc79cb\",\"type\":\"Grid\"},{\"id\":\"6f1d14e4-9b32-4fc2-b727-08e2df976672\",\"type\":\"LinearAxis\"},{\"id\":\"b24157f1-c7f9-4698-91ed-1512fa348e1d\",\"type\":\"Grid\"},{\"id\":\"a1ae902d-bcd8-40b8-9f4c-886f247b2993\",\"type\":\"BoxAnnotation\"},{\"id\":\"871b9bf6-1b43-4ecf-9a9c-64547a92fa4f\",\"type\":\"GlyphRenderer\"}],\"title\":{\"id\":\"bfdb6477-976b-4a0f-a33b-7937d000cbed\",\"type\":\"Title\"},\"toolbar\":{\"id\":\"fa9858c8-606f-4346-8acf-33d3c62a81dc\",\"type\":\"Toolbar\"},\"x_range\":{\"id\":\"498dfb48-5078-4ce4-9540-bc57727dd880\",\"type\":\"DataRange1d\"},\"x_scale\":{\"id\":\"29ea4037-6f00-424c-b518-4c213b644065\",\"type\":\"LinearScale\"},\"y_range\":{\"id\":\"355f42f3-8090-45ba-a3fa-f9838c92ee90\",\"type\":\"DataRange1d\"},\"y_scale\":{\"id\":\"84320fd1-a6fb-4965-a3c1-a493721bc1e2\",\"type\":\"LinearScale\"}},\"id\":\"5f054a03-2cb8-4cf7-ac17-470debfa539e\",\"subtype\":\"Figure\",\"type\":\"Plot\"},{\"attributes\":{},\"id\":\"408a1a59-173d-42e5-822e-425d365ee1b4\",\"type\":\"HelpTool\"},{\"attributes\":{\"data_source\":{\"id\":\"991b58aa-aa7a-4863-be13-44f822b41ad5\",\"type\":\"ColumnDataSource\"},\"glyph\":{\"id\":\"cfa05f95-7330-4cd7-839f-743fceed15d7\",\"type\":\"Step\"},\"hover_glyph\":null,\"muted_glyph\":null,\"nonselection_glyph\":{\"id\":\"880d3943-cbee-4f36-abcf-37cd26a096cb\",\"type\":\"Step\"},\"selection_glyph\":null,\"view\":{\"id\":\"b6abd648-18a3-40f2-b7a2-613daddf5562\",\"type\":\"CDSView\"}},\"id\":\"871b9bf6-1b43-4ecf-9a9c-64547a92fa4f\",\"type\":\"GlyphRenderer\"}],\"root_ids\":[\"5f054a03-2cb8-4cf7-ac17-470debfa539e\"]},\"title\":\"Bokeh Application\",\"version\":\"0.13.0\"}};\n",
       "  var render_items = [{\"docid\":\"c233ec7c-186e-47fd-aac2-1a3a2b7d5d3e\",\"roots\":{\"5f054a03-2cb8-4cf7-ac17-470debfa539e\":\"7c838855-dcc1-4213-9a54-eb6a79d870ce\"}}];\n",
       "  root.Bokeh.embed.embed_items_notebook(docs_json, render_items);\n",
       "\n",
       "  }\n",
       "  if (root.Bokeh !== undefined) {\n",
       "    embed_document(root);\n",
       "  } else {\n",
       "    var attempts = 0;\n",
       "    var timer = setInterval(function(root) {\n",
       "      if (root.Bokeh !== undefined) {\n",
       "        embed_document(root);\n",
       "        clearInterval(timer);\n",
       "      }\n",
       "      attempts++;\n",
       "      if (attempts > 100) {\n",
       "        console.log(\"Bokeh: ERROR: Unable to run BokehJS code because BokehJS library is missing\")\n",
       "        clearInterval(timer);\n",
       "      }\n",
       "    }, 10, root)\n",
       "  }\n",
       "})(window);"
      ],
      "application/vnd.bokehjs_exec.v0+json": ""
     },
     "metadata": {
      "application/vnd.bokehjs_exec.v0+json": {
       "id": "5f054a03-2cb8-4cf7-ac17-470debfa539e"
      }
     },
     "output_type": "display_data"
    }
   ],
   "source": [
    "#Plot cumulative distribution\n",
    "p2 = figure(plot_height=300, title=\"City population density distribution\",\n",
    "           x_axis_label='City population density bins'+ ' [pop/km' + (u\"\\u00b2]\").encode('utf-8'), y_axis_label='Percentile [%ile]')\n",
    "p2.step(list(range(0,len(bin_edges))),[0]+[list(np.cumsum(hist))[x]/NumberOfCity for x in range(0,len(hist))],\n",
    "       line_color=\"#0276FD\",line_width=2)\n",
    "\n",
    "p2.xaxis.ticker = list(range(0,len(bin_edges)))\n",
    "p2.xaxis.major_label_orientation = 3.14/4\n",
    "p2.xaxis.major_label_overrides = {el:\"{:,}\".format((bin_edges[el])) if (bin_edges[el]) < 1 else \"{:,}\".format(int(bin_edges[el])) for el in range(0,len(bin_edges))}\n",
    "\n",
    "p2.title.text_font_size = '12pt'\n",
    "p2.title.text_color = \"#0276FD\"\n",
    "p2.title.text_font = \"verdana\"\n",
    "p2.yaxis.axis_label_text_font = \"verdana\"\n",
    "p2.yaxis.axis_label_text_font_style = \"normal\"\n",
    "p2.xaxis.axis_label_text_font = \"verdana\"\n",
    "p2.xaxis.axis_label_text_font_style = \"normal\"\n",
    "p2.xaxis.major_label_text_font = \"verdana\"\n",
    "p2.yaxis.major_label_text_font = \"verdana\"\n",
    "\n",
    "show(p2)"
   ]
  },
  {
   "cell_type": "markdown",
   "metadata": {
    "collapsed": true
   },
   "source": [
    "## 3.5 Population spatial analysis"
   ]
  },
  {
   "cell_type": "markdown",
   "metadata": {},
   "source": [
    "### 3.5.1. Prepare the data"
   ]
  },
  {
   "cell_type": "code",
   "execution_count": 17,
   "metadata": {
    "collapsed": true
   },
   "outputs": [],
   "source": [
    "# Get most populated city info\n",
    "MostPopCityIndex = np.argmax(AllPopulationList)\n",
    "# Calculate distance to main city\n",
    "ListDistance = list()\n",
    "for CurrentCity in range(0,NumberOfCity):\n",
    "    ListDistance.append(Fcn_BasicStatisticalAnalysisOfPopulation.DistanceCoordToKm(QueryMongo[MostPopCityIndex]['centre']['coordinates'][1],QueryMongo[MostPopCityIndex]['centre']['coordinates'][0],QueryMongo[CurrentCity]['centre']['coordinates'][1],QueryMongo[CurrentCity]['centre']['coordinates'][0]))"
   ]
  },
  {
   "cell_type": "markdown",
   "metadata": {},
   "source": [
    "### 3.5.2. Scatter plot - Population density vs distance to most populated city"
   ]
  },
  {
   "cell_type": "code",
   "execution_count": null,
   "metadata": {
    "collapsed": true
   },
   "outputs": [],
   "source": [
    "# Get only up to a defined distance, i.e. 30km"
   ]
  },
  {
   "cell_type": "code",
   "execution_count": 23,
   "metadata": {
    "collapsed": true
   },
   "outputs": [],
   "source": [
    "df['DistanceToRennes'] = ListDistance"
   ]
  },
  {
   "cell_type": "code",
   "execution_count": null,
   "metadata": {
    "collapsed": true
   },
   "outputs": [],
   "source": []
  },
  {
   "cell_type": "code",
   "execution_count": 20,
   "metadata": {},
   "outputs": [
    {
     "data": {
      "text/html": [
       "\n",
       "\n",
       "\n",
       "\n",
       "\n",
       "\n",
       "  <div class=\"bk-root\" id=\"32331863-a780-4aab-b5c2-3d536c3e9c12\"></div>\n"
      ]
     },
     "metadata": {},
     "output_type": "display_data"
    },
    {
     "data": {
      "application/javascript": [
       "(function(root) {\n",
       "  function embed_document(root) {\n",
       "    \n",
       "  var docs_json = {\"4f981901-dfd0-42e6-9aff-119e147464a1\":{\"roots\":{\"references\":[{\"attributes\":{},\"id\":\"ecf9b8e6-2759-463e-9dce-e6e78e5c7bc6\",\"type\":\"ResetTool\"},{\"attributes\":{},\"id\":\"c12c283c-cc05-4b32-972a-c28cd5bee5c8\",\"type\":\"BasicTickFormatter\"},{\"attributes\":{\"active_drag\":\"auto\",\"active_inspect\":\"auto\",\"active_multi\":null,\"active_scroll\":\"auto\",\"active_tap\":\"auto\",\"tools\":[{\"id\":\"cfa0232d-ced4-4927-8ce4-af35d671240a\",\"type\":\"PanTool\"},{\"id\":\"22a95411-88d2-4cc6-bb1f-df1098d78ccf\",\"type\":\"WheelZoomTool\"},{\"id\":\"a28686a7-862e-4c25-b44e-3a298686c547\",\"type\":\"BoxZoomTool\"},{\"id\":\"9f9bbf2f-dbd3-4e89-9050-9d0eaf1ce678\",\"type\":\"SaveTool\"},{\"id\":\"ecf9b8e6-2759-463e-9dce-e6e78e5c7bc6\",\"type\":\"ResetTool\"},{\"id\":\"e72817ac-9f15-4ad1-974c-28a63efcef98\",\"type\":\"HelpTool\"}]},\"id\":\"5ffbac86-04d2-4abd-97ba-25e9e4d3e85d\",\"type\":\"Toolbar\"},{\"attributes\":{\"overlay\":{\"id\":\"04ce6f74-ea12-47c7-ad7c-7c4deda8a63e\",\"type\":\"BoxAnnotation\"}},\"id\":\"a28686a7-862e-4c25-b44e-3a298686c547\",\"type\":\"BoxZoomTool\"},{\"attributes\":{\"callback\":null,\"data\":{\"x\":[12.612759467970378,18.90024724954432,21.88348989420762,41.78984281358517,35.48382667756784,40.9688065078059,21.292930100952542,40.26304077149455,43.69309199164935,48.152533155179256,35.75313900708646,29.841216230730588,52.91517715203559,30.101072871279385,37.87598983979263,22.246402619097527,27.578951058055985,56.628911196993755,37.33665695399745,22.39150834241537,46.708779397318565,28.32849669803807,21.944364750423127,8.248999381241765,37.93977690692342,32.26371937744204,30.465918051820875,25.71827947419575,40.71270677256807,28.076146989036907,20.079428829930233,14.70804843175192,20.846905189474192,45.02405362604746,26.677701913630198,49.27329426105397,16.242318205812555,45.98071643443597,14.471397072062343,17.255031304929542,20.195934368907775,44.99524997400674,20.457851236544034,40.58194706573598,40.397174055813835,37.50130786558702,10.559792922242156,33.62571862705697,65.96705183595627,24.972161625114577,6.680117974535684,28.282078985120283,24.818179207837215,17.706519995110718,6.090760439036574,32.058634077557194,26.34067022655436,22.043761955569938,8.35368187572326,26.0117073598036,43.62171415991805,50.53500451169813,34.84202629197804,13.028640148123996,7.712676366116555,16.376715343394718,16.37268366110785,53.13973894003427,47.51354477126803,40.094786419201505,6.812836413625823,20.717159366751094,33.87745387737081,9.975890115041345,43.00605051045415,53.89870515892685,13.385776184838209,15.15618970945928,14.95673908744066,32.732026333840636,44.96843162489416,40.34808237859109,33.028745550311925,34.93724760016238,27.587946136819763,16.362530760719945,27.97075254899629,20.24108565946345,36.615069042118314,36.50911121188655,64.09506730273895,26.394414299891928,47.35909416368055,34.71746880677616,39.015686453340614,11.117434591039812,42.971484119278934,24.14198781309758,38.99988828281511,44.73090247950624,43.49334718195211,41.6102761987022,32.80928394170679,19.842570828497422,25.755306274712634,34.917914362305595,24.553502062432774,50.954930338278146,50.349652858436414,41.50311830231763,40.381985889413244,44.27632585617003,55.02457089136518,41.37194730347569,21.87048221069132,42.88801327854979,14.083165940144356,22.05420819270911,57.1986582950794,16.71975227072418,42.32014926154868,37.671118162745515,18.89475866653936,23.505822993648533,20.00107743105653,33.59905198055634,10.241662812333445,54.96955726577447,26.188720364887033,24.652770955070192,25.05568768402425,22.790055413008762,41.548348358975126,48.98310039545722,16.518638384090313,30.996166404332282,29.77210945651492,51.61880090949824,28.756765161525415,18.76044293618646,44.26278137192342,18.73232757794931,39.888836475962805,31.053108394910442,20.97986203961661,43.91431300004403,34.486583542921714,18.355095896669486,52.57164960516572,27.73543462584776,30.347464252536763,29.13139626043785,54.941834270704376,36.91511585577354,35.64819603446906,26.415152403259565,58.54145724355888,45.05605128390977,30.1460968331568,30.160836880855992,24.672138336283883,40.34174685004083,28.87728322493007,32.169199970842264,32.71562283514727,35.66733134675045,12.26013890220118,55.38992120401544,31.05063853186007,12.52706061266996,27.94443878042254,47.6983086782573,26.09822993452107,57.18336695877464,7.9970101380351055,43.9683198366219,29.626541908734254,43.127570993694924,51.93203989035352,23.26682936513989,20.890209300278915,5.717765212975302,58.50783813952679,37.165231668321155,15.088502322132944,33.047745615537615,21.82007568963148,12.263898988603646,13.453436550706028,26.126834402386564,36.67766861114597,38.25304907327849,35.52938327335913,36.141055708112845,22.71063141373112,12.671388320921876,34.06690879693137,13.019201970203982,14.047033561896143,8.815958054991503,37.50714494437691,25.37413358665829,64.71345953116503,40.34928561822756,50.1752137468296,13.993823266780412,47.0798237595547,20.984173473196694,38.1025444826953,22.1590830143857,26.68267265769736,46.888615034935526,32.74386948975581,47.7752261838845,38.72757451908721,34.97599594226945,17.471040470943752,59.529377083270184,30.8038566625492,50.687153686376625,23.226850673004297,45.223140501777785,29.351469573061305,37.522904754012146,40.39369408153815,58.52991007806554,48.3396412966264,33.56717278603596,61.58932418266667,32.572266225226045,40.037232730648924,32.96808968818244,19.54892595237798,48.55199606398884,52.78558744849058,50.09689999000238,42.710297665861376,13.146492454152739,17.25967623805534,28.724905840785095,25.22385993798401,57.417159545145694,66.06160479951896,40.770470318169004,24.675677560127497,51.369701034439515,35.32522989820462,30.903157393586152,29.449427573991144,66.32412709234745,24.08112339876133,32.08376052823934,10.39864614322999,41.320806538736804,32.97569851234634,52.293248390670215,55.54096417584405,39.7985116098115,44.10779691710571,15.904150418464727,13.480168245847624,20.598363853321978,29.66247841090706,5.316976320821598,54.53158932468894,34.2059151463352,5.237839451309785,29.620310461985117,25.715423810956047,58.570807540976006,44.562134326511796,30.873617015157546,65.34395168634865,28.812687231315177,31.57250018737193,52.85344243002804,35.29766993575421,31.70445137300385,51.889033836443915,31.359226106498504,17.536240602695568,39.19059314483358,60.68542877844294,42.99524772380201,31.437269034957126,35.803571447218964,42.11357550831163,30.786223870369607,29.241829624653295,55.98841692328208,29.186459841538515,41.696682609737024,30.739633111675694,37.72789356279571,38.91095839113888,23.096280409050877,55.41616284025507,13.856195517353932,37.980064452140276,20.85546942876375,31.21736665709106,20.966102197223087,27.15847792089452,22.87072811642963,24.35493267490144,45.690231272982416,42.18824561566239,28.068911568333977,16.332719401929296,46.81969852868014,45.10890030759796,33.564016466595554,18.28513235233368,36.17727929577044,28.81943413113246,8.336330881134774,33.42847056538647,32.653543121691555,25.989324180003894,30.878930674379614,42.34386214029859,26.02513299541363,38.281343619520705,36.82760137362773,28.04444762128635,43.88221635462419,33.92214087122414,31.01796822954709,29.390130215458335,34.303742874040815,32.516359611143685,18.50463078944395,8.391115151986325,5.510966883886349,44.15600558790436,28.824434763620246,17.21933264195738,51.57891097445356,52.70712352102551,32.87450390927275,36.42177019216168,54.460859545110125,44.33278807894072,10.748575436155207],\"y\":[208.0132450331126,63.22378716744914,66.11374407582939,145.01061571125265,61.833688699360344,103.1378228336954,219.36936936936937,61.462979482604815,66.35284486287351,98.01242236024845,57.250470809792844,113.68038740920096,75.65043362241495,63.06433408577878,61.51739249520679,82.9635499207607,65.57377049180327,44.205495818399044,31.39354170264203,142.5951086956522,154.45897740784778,1289.2857142857142,102.57836198179979,396.11650485436894,60.98707403055229,31.94029850746269,78.50421000495295,51.96911196911197,59.90057995028998,59.28369462770971,82.60172379234315,252.6707234617985,137.6756066411239,51.80282975810132,40.72553045859001,54.43322109988776,162.24970553592462,114.70588235294117,283.28729281767954,231.9034852546917,61.90823015294975,61.197916666666664,225.285368384642,29.92248062015504,40.09411764705882,41.47157190635451,562.771285475793,49.726134585289515,393.9485627836611,74.07912687585267,522.0528771384137,45.76923076923077,58.01526717557252,99.4991652754591,869.6741854636592,129.19254658385094,65.95847416706904,84.44895199459094,534.6681922196797,89.03591682419659,54.85762144053601,53.004451038575674,42.943548387096776,250.3217503217503,743.2160804020101,154.6209761163032,387.91719476130123,1107.9136690647483,28.66617538688283,53.50140056022409,255.76923076923075,77.55730413958261,46.12381483547128,292.8400954653938,30.404217926186295,89.2103205629398,188.26923076923077,255.67251461988306,166.97674418604652,61.66174609869254,56.81321350497935,41.0580793559517,90.04998437988128,64.6236559139785,74.96025437201908,138.75054608999565,42.439431913116124,304.47058823529414,85.89540412044374,33.655868742111906,1258.1841432225065,31.18802619270346,352.6112185686654,58.80239520958084,40.20301445709013,156.21269669017906,59.2479674796748,79.59770114942529,46.186803770351325,23.7866986219293,57.277187244480785,46.743080793961425,38.62016293279022,110.479797979798,47.66355140186916,92.23335719398712,45.481335952848724,40.78341013824885,56.56732891832229,44.43541835905768,44.86133768352366,1933.8446788111216,160.05547850208043,30.898452246130613,54.610492845786965,47.59848893685915,174.5225225225225,103.4613304488913,195.00567536889898,110.23209383578738,43.65968208092485,366.18150684931504,187.993497445425,68.47049981210071,66.7715296893433,72.96858071505959,584.9493487698987,135.678391959799,59.38666666666666,60.310421286031044,91.75126903553299,197.74201297141485,108.2117774176121,75.21537442014579,154.57383702778645,38.774193548387096,131.85328185328186,44.801980198019805,67.26768377253815,118.66151866151866,39.950711938663744,83.70786516853933,152.23420647149462,36.88118811881188,152.69035532994923,275.2475247524752,46.33136094674556,107.66456266907123,85.03937007874016,62.50936329588015,124.90494296577947,81.8659658344284,59.36952714535902,46.76753782668501,33.744855967078195,110.55662188099808,81.22487585717664,44.39157036029911,35.51693404634581,47.37098344693281,96.47577092511013,34.906037584966015,35.43483678046349,36.44224830142063,51.83512140033879,54.185832566697336,181.82656826568265,41.89274447949527,61.068249258160236,274.4978697504565,64.36507936507937,119.26229508196722,54.62555066079295,358.77862595419845,414.8380355276907,157.72994129158513,115.77854671280276,37.91606367583213,42.96520423600605,76.33410672853829,460.7675906183369,691.4712153518124,31.654676258992804,25.529661016949152,209.56521739130434,64.03235843186062,144.47351209941138,237.58700696055683,144.80286738351253,45.45454545454545,93.58600583090379,53.214086081609835,30.170648464163826,41.389728096676734,123.92857142857143,145.70252187339165,26.063829787234045,179.05188981422165,243.2977461447212,315.1826484018265,14.793059822880897,58.578680203045685,1174.0460010454783,37.5,65.30815109343936,309.016393442623,32.48451479697178,99.11797133406836,74.4223753546818,64.75387544193636,74.24158852730281,60.03062787136294,73.8791032826261,123.24777887462982,66.93476318141197,71.2620578778135,159.0655154900965,221.03626943005185,83.35561497326202,35.28872593950504,120.12644889357217,30.357142857142854,74.27068388330942,44.265969368696304,21.27134724857685,597.639344262295,37.07651313285116,97.28700618752974,724.7648902821317,25.353159851301115,84.84848484848484,42.10526315789473,130.08298755186723,73.2152739346984,39.416058394160586,47.262247838616716,34.4683808200139,235.1145038167939,144.50596252129472,88.85658914728683,130.37653874004346,352.0134228187919,239.34226552984165,117.97724399494311,42.38733252131547,46.81555004135649,62.37837837837837,67.6829268292683,40.879689521345405,143.70533260032985,134.57223001402525,156.35673624288424,243.77289377289378,28.893587033121914,56.19208087615838,30.662305805396567,51.10899873257287,78.02101576182136,62.29609110495537,224.29667519181584,196.7095851216023,117.89709172259508,37.33766233766234,513.9508290451687,161.84615384615384,55.008121277747705,954.8622366288492,60.550458715596335,102.86771507863091,274.75935828877004,39.164584077115315,43.238434163701065,217.3954372623574,56.17021276595745,37.392373923739235,59.716859716859716,75.08474576271186,45.639771801140995,91.77644710578844,66.58851113716295,72.93926247288503,244.7978436657682,132.18943033630748,44.19800707168113,211.15537848605578,47.569304941743674,37.65201122544434,84.44588464031109,40.72494669509595,118.91315929675012,82.98926507018992,93.01310043668121,57.307171853856566,78.93065113816834,54.66101694915254,97.04918032786885,203.82978723404256,209.1851851851852,69.48853615520282,78.26633165829145,71.18205349439172,112.92103810049696,73.85057471264368,67.01225259189444,116.86182669789227,68.10244470314319,70.96774193548387,82.15088282504013,229.89623865110244,48.77201112140871,46.13778705636743,78.48970251716247,113.75173050299954,39.827002632568636,69.51915240423799,570.4845814977974,29.91869918699187,44.9468085106383,143.73401534526855,80.3633822501747,35.53937789543349,67.13762428048142,42.5047958344752,56.891025641025635,48.4636328276935,65.13409961685824,73.38247338247338,52.92479108635098,55.85526315789474,60.86286594761171,70.18800358102058,207.36543909348444,399.44779116465867,619.5954487989886,35.682326621923934,52.26432532347505,125.85844428871759,29.660238751147844,250.55679287305122,49.50556242274413,451.2403100775193,464.57399103139016,99.12357581069237,445.2679589509693]},\"selected\":{\"id\":\"d3e59b24-c94f-4921-91c0-597d5bf726d4\",\"type\":\"Selection\"},\"selection_policy\":{\"id\":\"a2fc2ff3-9d1a-44db-addb-294ed840b50a\",\"type\":\"UnionRenderers\"}},\"id\":\"cb61cee5-e22e-4952-9958-7d4bb6d0a7b1\",\"type\":\"ColumnDataSource\"},{\"attributes\":{},\"id\":\"e72817ac-9f15-4ad1-974c-28a63efcef98\",\"type\":\"HelpTool\"},{\"attributes\":{},\"id\":\"14662699-1411-4203-b2f0-297bbade357d\",\"type\":\"LinearScale\"},{\"attributes\":{\"axis_label\":\"Population density\",\"axis_label_text_font\":\"verdana\",\"axis_label_text_font_style\":\"normal\",\"formatter\":{\"id\":\"c12c283c-cc05-4b32-972a-c28cd5bee5c8\",\"type\":\"BasicTickFormatter\"},\"major_label_text_font\":\"verdana\",\"plot\":{\"id\":\"6a234f57-56ee-4f4f-8306-f1d333dfc8b6\",\"subtype\":\"Figure\",\"type\":\"Plot\"},\"ticker\":{\"id\":\"8aa9c5df-e288-4ebc-a14e-c3dff02d6881\",\"type\":\"BasicTicker\"}},\"id\":\"549c2e8c-57e6-4cd1-8fb9-74f492778c66\",\"type\":\"LinearAxis\"},{\"attributes\":{},\"id\":\"9f9bbf2f-dbd3-4e89-9050-9d0eaf1ce678\",\"type\":\"SaveTool\"},{\"attributes\":{},\"id\":\"cfa0232d-ced4-4927-8ce4-af35d671240a\",\"type\":\"PanTool\"},{\"attributes\":{\"fill_alpha\":{\"value\":0.1},\"fill_color\":{\"value\":\"#1f77b4\"},\"line_alpha\":{\"value\":0.1},\"line_color\":{\"value\":\"#1f77b4\"},\"x\":{\"field\":\"x\"},\"y\":{\"field\":\"y\"}},\"id\":\"aeea266d-0565-4c55-8bcd-7bddb298d4f3\",\"type\":\"Circle\"},{\"attributes\":{\"data_source\":{\"id\":\"cb61cee5-e22e-4952-9958-7d4bb6d0a7b1\",\"type\":\"ColumnDataSource\"},\"glyph\":{\"id\":\"57d30715-72a2-493a-9e7a-031ff4e31218\",\"type\":\"Circle\"},\"hover_glyph\":null,\"muted_glyph\":null,\"nonselection_glyph\":{\"id\":\"aeea266d-0565-4c55-8bcd-7bddb298d4f3\",\"type\":\"Circle\"},\"selection_glyph\":null,\"view\":{\"id\":\"0058d448-6fe3-4998-b89e-cab19df27b52\",\"type\":\"CDSView\"}},\"id\":\"77800d53-5c57-4319-9f71-865ca5ece649\",\"type\":\"GlyphRenderer\"},{\"attributes\":{\"below\":[{\"id\":\"1e111894-911f-43b2-9ed5-a3894b080651\",\"type\":\"LinearAxis\"}],\"left\":[{\"id\":\"549c2e8c-57e6-4cd1-8fb9-74f492778c66\",\"type\":\"LinearAxis\"}],\"plot_height\":300,\"renderers\":[{\"id\":\"1e111894-911f-43b2-9ed5-a3894b080651\",\"type\":\"LinearAxis\"},{\"id\":\"04872c2f-aec2-4bbc-be2a-ff44a3f31d30\",\"type\":\"Grid\"},{\"id\":\"549c2e8c-57e6-4cd1-8fb9-74f492778c66\",\"type\":\"LinearAxis\"},{\"id\":\"b8328355-bb97-48e5-b973-0d60c4c74a9a\",\"type\":\"Grid\"},{\"id\":\"04ce6f74-ea12-47c7-ad7c-7c4deda8a63e\",\"type\":\"BoxAnnotation\"},{\"id\":\"77800d53-5c57-4319-9f71-865ca5ece649\",\"type\":\"GlyphRenderer\"}],\"title\":{\"id\":\"a44d5cbf-1f08-43e0-af19-db0c22936eff\",\"type\":\"Title\"},\"toolbar\":{\"id\":\"5ffbac86-04d2-4abd-97ba-25e9e4d3e85d\",\"type\":\"Toolbar\"},\"x_range\":{\"id\":\"6c9af5ed-f29e-419c-baa8-c4b894289f5f\",\"type\":\"DataRange1d\"},\"x_scale\":{\"id\":\"14662699-1411-4203-b2f0-297bbade357d\",\"type\":\"LinearScale\"},\"y_range\":{\"id\":\"49a9da9a-309c-4847-b172-8e185f4cd152\",\"type\":\"DataRange1d\"},\"y_scale\":{\"id\":\"a4f08f65-3b86-4f1e-a7a6-e3c0dcc323e8\",\"type\":\"LinearScale\"}},\"id\":\"6a234f57-56ee-4f4f-8306-f1d333dfc8b6\",\"subtype\":\"Figure\",\"type\":\"Plot\"},{\"attributes\":{},\"id\":\"d3e59b24-c94f-4921-91c0-597d5bf726d4\",\"type\":\"Selection\"},{\"attributes\":{\"plot\":{\"id\":\"6a234f57-56ee-4f4f-8306-f1d333dfc8b6\",\"subtype\":\"Figure\",\"type\":\"Plot\"},\"ticker\":{\"id\":\"061b6734-9133-4d50-80ef-7c72cdfb9fed\",\"type\":\"BasicTicker\"}},\"id\":\"04872c2f-aec2-4bbc-be2a-ff44a3f31d30\",\"type\":\"Grid\"},{\"attributes\":{},\"id\":\"a4f08f65-3b86-4f1e-a7a6-e3c0dcc323e8\",\"type\":\"LinearScale\"},{\"attributes\":{\"source\":{\"id\":\"cb61cee5-e22e-4952-9958-7d4bb6d0a7b1\",\"type\":\"ColumnDataSource\"}},\"id\":\"0058d448-6fe3-4998-b89e-cab19df27b52\",\"type\":\"CDSView\"},{\"attributes\":{\"callback\":null},\"id\":\"49a9da9a-309c-4847-b172-8e185f4cd152\",\"type\":\"DataRange1d\"},{\"attributes\":{},\"id\":\"0b8e16dd-4a02-4ac5-ae2b-878a85993069\",\"type\":\"BasicTickFormatter\"},{\"attributes\":{},\"id\":\"061b6734-9133-4d50-80ef-7c72cdfb9fed\",\"type\":\"BasicTicker\"},{\"attributes\":{},\"id\":\"22a95411-88d2-4cc6-bb1f-df1098d78ccf\",\"type\":\"WheelZoomTool\"},{\"attributes\":{\"callback\":null},\"id\":\"6c9af5ed-f29e-419c-baa8-c4b894289f5f\",\"type\":\"DataRange1d\"},{\"attributes\":{\"plot\":null,\"text\":\"City density population vs distance to most populated city\",\"text_color\":{\"value\":\"#0276FD\"},\"text_font\":\"verdana\",\"text_font_size\":{\"value\":\"12pt\"}},\"id\":\"a44d5cbf-1f08-43e0-af19-db0c22936eff\",\"type\":\"Title\"},{\"attributes\":{\"axis_label\":\"Distance to the most populated city [km]\",\"axis_label_text_font\":\"verdana\",\"axis_label_text_font_style\":\"normal\",\"formatter\":{\"id\":\"0b8e16dd-4a02-4ac5-ae2b-878a85993069\",\"type\":\"BasicTickFormatter\"},\"major_label_text_font\":\"verdana\",\"plot\":{\"id\":\"6a234f57-56ee-4f4f-8306-f1d333dfc8b6\",\"subtype\":\"Figure\",\"type\":\"Plot\"},\"ticker\":{\"id\":\"061b6734-9133-4d50-80ef-7c72cdfb9fed\",\"type\":\"BasicTicker\"}},\"id\":\"1e111894-911f-43b2-9ed5-a3894b080651\",\"type\":\"LinearAxis\"},{\"attributes\":{\"fill_color\":{\"value\":\"#0276FD\"},\"line_color\":{\"value\":\"#0276FD\"},\"x\":{\"field\":\"x\"},\"y\":{\"field\":\"y\"}},\"id\":\"57d30715-72a2-493a-9e7a-031ff4e31218\",\"type\":\"Circle\"},{\"attributes\":{\"bottom_units\":\"screen\",\"fill_alpha\":{\"value\":0.5},\"fill_color\":{\"value\":\"lightgrey\"},\"left_units\":\"screen\",\"level\":\"overlay\",\"line_alpha\":{\"value\":1.0},\"line_color\":{\"value\":\"black\"},\"line_dash\":[4,4],\"line_width\":{\"value\":2},\"plot\":null,\"render_mode\":\"css\",\"right_units\":\"screen\",\"top_units\":\"screen\"},\"id\":\"04ce6f74-ea12-47c7-ad7c-7c4deda8a63e\",\"type\":\"BoxAnnotation\"},{\"attributes\":{\"dimension\":1,\"plot\":{\"id\":\"6a234f57-56ee-4f4f-8306-f1d333dfc8b6\",\"subtype\":\"Figure\",\"type\":\"Plot\"},\"ticker\":{\"id\":\"8aa9c5df-e288-4ebc-a14e-c3dff02d6881\",\"type\":\"BasicTicker\"}},\"id\":\"b8328355-bb97-48e5-b973-0d60c4c74a9a\",\"type\":\"Grid\"},{\"attributes\":{},\"id\":\"a2fc2ff3-9d1a-44db-addb-294ed840b50a\",\"type\":\"UnionRenderers\"},{\"attributes\":{},\"id\":\"8aa9c5df-e288-4ebc-a14e-c3dff02d6881\",\"type\":\"BasicTicker\"}],\"root_ids\":[\"6a234f57-56ee-4f4f-8306-f1d333dfc8b6\"]},\"title\":\"Bokeh Application\",\"version\":\"0.13.0\"}};\n",
       "  var render_items = [{\"docid\":\"4f981901-dfd0-42e6-9aff-119e147464a1\",\"roots\":{\"6a234f57-56ee-4f4f-8306-f1d333dfc8b6\":\"32331863-a780-4aab-b5c2-3d536c3e9c12\"}}];\n",
       "  root.Bokeh.embed.embed_items_notebook(docs_json, render_items);\n",
       "\n",
       "  }\n",
       "  if (root.Bokeh !== undefined) {\n",
       "    embed_document(root);\n",
       "  } else {\n",
       "    var attempts = 0;\n",
       "    var timer = setInterval(function(root) {\n",
       "      if (root.Bokeh !== undefined) {\n",
       "        embed_document(root);\n",
       "        clearInterval(timer);\n",
       "      }\n",
       "      attempts++;\n",
       "      if (attempts > 100) {\n",
       "        console.log(\"Bokeh: ERROR: Unable to run BokehJS code because BokehJS library is missing\")\n",
       "        clearInterval(timer);\n",
       "      }\n",
       "    }, 10, root)\n",
       "  }\n",
       "})(window);"
      ],
      "application/vnd.bokehjs_exec.v0+json": ""
     },
     "metadata": {
      "application/vnd.bokehjs_exec.v0+json": {
       "id": "6a234f57-56ee-4f4f-8306-f1d333dfc8b6"
      }
     },
     "output_type": "display_data"
    }
   ],
   "source": [
    "p = figure(plot_height=300, title=\"City density population vs distance to most populated city\",\n",
    "           x_axis_label='Distance to the most populated city [km]', y_axis_label='Population density')\n",
    "p.circle([ListDistance[i] for i in range(0,NumberOfCity) if AllPopulationList[i]<>AllPopulationList[MostPopCityIndex] and ],[AllDensityList[i] for i in range(0,NumberOfCity) if AllPopulationList[i]<>AllPopulationList[MostPopCityIndex]],\n",
    "        color=\"#0276FD\")\n",
    "\n",
    "p.title.text_font_size = '12pt'\n",
    "p.title.text_color = \"#0276FD\"\n",
    "p.title.text_font = \"verdana\"\n",
    "p.yaxis.axis_label_text_font = \"verdana\"\n",
    "p.yaxis.axis_label_text_font_style = \"normal\"\n",
    "p.xaxis.axis_label_text_font = \"verdana\"\n",
    "p.xaxis.axis_label_text_font_style = \"normal\"\n",
    "p.xaxis.major_label_text_font = \"verdana\"\n",
    "p.yaxis.major_label_text_font = \"verdana\"\n",
    "\n",
    "show(p)"
   ]
  },
  {
   "cell_type": "code",
   "execution_count": null,
   "metadata": {
    "collapsed": true
   },
   "outputs": [],
   "source": []
  }
 ],
 "metadata": {
  "kernelspec": {
   "display_name": "Python 3",
   "language": "python",
   "name": "python3"
  },
  "language_info": {
   "codemirror_mode": {
    "name": "ipython",
    "version": 3
   },
   "file_extension": ".py",
   "mimetype": "text/x-python",
   "name": "python",
   "nbconvert_exporter": "python",
   "pygments_lexer": "ipython3",
   "version": "3.6.5"
  }
 },
 "nbformat": 4,
 "nbformat_minor": 2
}
